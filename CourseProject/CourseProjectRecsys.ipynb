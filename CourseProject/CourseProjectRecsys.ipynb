{
 "cells": [
  {
   "cell_type": "markdown",
   "id": "6efad208",
   "metadata": {
    "papermill": {
     "duration": 0.062724,
     "end_time": "2022-05-29T20:16:27.402942",
     "exception": false,
     "start_time": "2022-05-29T20:16:27.340218",
     "status": "completed"
    },
    "tags": []
   },
   "source": [
    "# Course project\n"
   ]
  },
  {
   "cell_type": "markdown",
   "id": "e87ba517",
   "metadata": {
    "papermill": {
     "duration": 0.060844,
     "end_time": "2022-05-29T20:16:27.524797",
     "exception": false,
     "start_time": "2022-05-29T20:16:27.463953",
     "status": "completed"
    },
    "tags": []
   },
   "source": [
    "## **Основное**\n",
    "- Дедлайн - 31 мая 23:59\n",
    "- Целевая метрика precision@5 > 0.235\n",
    "- Бейзлайн решения - [MainRecommender](https://github.com/geangohn/recsys-tutorial/blob/master/src/recommenders.py)\n",
    "- Сдаем ссылку на github с решением. В решении должны быть отчетливо видна метрика на новом тестовом сете из файла retail_test1.csv, то есть вам нужно для всех юзеров из этого файла выдать выши рекомендации, и посчитать на actual покупках precision@5. \n",
    "\n",
    "**!! Мы не рассматриваем холодный старт для пользователя, все наши пользователя одинаковы во всех сетах, поэтому нужно позаботиться об их исключении из теста.**\n",
    "\n",
    "\n",
    "**Hints:** \n",
    "\n",
    "Сначала просто попробуйте разные параметры MainRecommender:  \n",
    "- N в топ-N товарах при формировании user-item матирцы (сейчас топ-5000)  \n",
    "- Различные веса в user-item матрице (0/1, кол-во покупок, log(кол-во покупок + 1), сумма покупки, ...)  \n",
    "- Разные взвешивания матрицы (TF-IDF, BM25 - у него есть параметры)  \n",
    "- Разные смешивания рекомендаций (обратите внимание на бейзлайн - прошлые покупки юзера)  \n",
    "\n",
    "Сделайте MVP - минимально рабочий продукт - (пусть даже top-popular), а потом его улучшайте\n",
    "\n",
    "Если вы делаете двухуровневую модель - следите за валидацией "
   ]
  },
  {
   "cell_type": "code",
   "execution_count": 1,
   "id": "d41f185f",
   "metadata": {
    "execution": {
     "iopub.execute_input": "2022-05-29T20:16:27.647513Z",
     "iopub.status.busy": "2022-05-29T20:16:27.646822Z",
     "iopub.status.idle": "2022-05-29T20:16:27.651470Z",
     "shell.execute_reply": "2022-05-29T20:16:27.650775Z"
    },
    "papermill": {
     "duration": 0.068075,
     "end_time": "2022-05-29T20:16:27.653162",
     "exception": false,
     "start_time": "2022-05-29T20:16:27.585087",
     "status": "completed"
    },
    "tags": []
   },
   "outputs": [],
   "source": [
    "# !pip install implicit==0.4.4"
   ]
  },
  {
   "cell_type": "markdown",
   "id": "4020c2b6",
   "metadata": {
    "papermill": {
     "duration": 0.067718,
     "end_time": "2022-05-29T20:16:27.782131",
     "exception": false,
     "start_time": "2022-05-29T20:16:27.714413",
     "status": "completed"
    },
    "tags": []
   },
   "source": [
    "# Import libs"
   ]
  },
  {
   "cell_type": "code",
   "execution_count": 2,
   "id": "486cb79e",
   "metadata": {
    "execution": {
     "iopub.execute_input": "2022-05-29T20:16:27.924529Z",
     "iopub.status.busy": "2022-05-29T20:16:27.923902Z",
     "iopub.status.idle": "2022-05-29T20:16:29.851403Z",
     "shell.execute_reply": "2022-05-29T20:16:29.850548Z"
    },
    "papermill": {
     "duration": 1.99305,
     "end_time": "2022-05-29T20:16:29.853568",
     "exception": false,
     "start_time": "2022-05-29T20:16:27.860518",
     "status": "completed"
    },
    "tags": []
   },
   "outputs": [
    {
     "data": {
      "text/html": [
       "<style type='text/css'>\n",
       ".datatable table.frame { margin-bottom: 0; }\n",
       ".datatable table.frame thead { border-bottom: none; }\n",
       ".datatable table.frame tr.coltypes td {  color: #FFFFFF;  line-height: 6px;  padding: 0 0.5em;}\n",
       ".datatable .bool    { background: #DDDD99; }\n",
       ".datatable .object  { background: #565656; }\n",
       ".datatable .int     { background: #5D9E5D; }\n",
       ".datatable .float   { background: #4040CC; }\n",
       ".datatable .str     { background: #CC4040; }\n",
       ".datatable .time    { background: #40CC40; }\n",
       ".datatable .row_index {  background: var(--jp-border-color3);  border-right: 1px solid var(--jp-border-color0);  color: var(--jp-ui-font-color3);  font-size: 9px;}\n",
       ".datatable .frame tbody td { text-align: left; }\n",
       ".datatable .frame tr.coltypes .row_index {  background: var(--jp-border-color0);}\n",
       ".datatable th:nth-child(2) { padding-left: 12px; }\n",
       ".datatable .hellipsis {  color: var(--jp-cell-editor-border-color);}\n",
       ".datatable .vellipsis {  background: var(--jp-layout-color0);  color: var(--jp-cell-editor-border-color);}\n",
       ".datatable .na {  color: var(--jp-cell-editor-border-color);  font-size: 80%;}\n",
       ".datatable .sp {  opacity: 0.25;}\n",
       ".datatable .footer { font-size: 9px; }\n",
       ".datatable .frame_dimensions {  background: var(--jp-border-color3);  border-top: 1px solid var(--jp-border-color0);  color: var(--jp-ui-font-color3);  display: inline-block;  opacity: 0.6;  padding: 1px 10px 1px 5px;}\n",
       "</style>\n"
      ],
      "text/plain": [
       "<IPython.core.display.HTML object>"
      ]
     },
     "metadata": {},
     "output_type": "display_data"
    }
   ],
   "source": [
    "import pandas as pd\n",
    "import numpy as np\n",
    "import matplotlib.pyplot as plt\n",
    "%matplotlib inline\n",
    "\n",
    "# Для работы с матрицами\n",
    "from scipy.sparse import csr_matrix\n",
    "\n",
    "# Матричная факторизация\n",
    "from implicit import als\n",
    "\n",
    "# Модель второго уровня\n",
    "from lightgbm import LGBMClassifier\n",
    "\n",
    "import os, sys\n",
    "module_path = os.path.abspath(os.path.join(os.pardir))\n",
    "if module_path not in sys.path:\n",
    "    sys.path.append(module_path)\n",
    "\n",
    "# import module we'll need to import our custom module\n",
    "from shutil import copyfile\n",
    "\n",
    "# copy our file into the working directory (make sure it has .py suffix)\n",
    "copyfile(src = \"../input/recommend85/metrics.py\", dst = \"../working/metrics.py\")\n",
    "copyfile(src = \"../input/recommend85/utils.py\", dst = \"../working/utils.py\")\n",
    "copyfile(src = \"../input/recommend85/recommenders.py\", dst = \"../working/recommenders.py\")\n",
    "\n",
    "# Написанные нами функции\n",
    "from metrics import precision_at_k, recall_at_k\n",
    "from utils import prefilter_items\n",
    "from recommenders import MainRecommender\n",
    "\n",
    "import warnings\n",
    "warnings.filterwarnings(\"ignore\")"
   ]
  },
  {
   "cell_type": "markdown",
   "id": "cead00ca",
   "metadata": {
    "papermill": {
     "duration": 0.061535,
     "end_time": "2022-05-29T20:16:29.977751",
     "exception": false,
     "start_time": "2022-05-29T20:16:29.916216",
     "status": "completed"
    },
    "tags": []
   },
   "source": [
    "## Read data"
   ]
  },
  {
   "cell_type": "code",
   "execution_count": 3,
   "id": "cbdab424",
   "metadata": {
    "execution": {
     "iopub.execute_input": "2022-05-29T20:16:30.106627Z",
     "iopub.status.busy": "2022-05-29T20:16:30.106170Z",
     "iopub.status.idle": "2022-05-29T20:16:30.109981Z",
     "shell.execute_reply": "2022-05-29T20:16:30.109232Z"
    },
    "papermill": {
     "duration": 0.071084,
     "end_time": "2022-05-29T20:16:30.111831",
     "exception": false,
     "start_time": "2022-05-29T20:16:30.040747",
     "status": "completed"
    },
    "tags": []
   },
   "outputs": [],
   "source": [
    "PATH_DATA = \"../input/recommend85/\""
   ]
  },
  {
   "cell_type": "code",
   "execution_count": 4,
   "id": "8ca1a191",
   "metadata": {
    "execution": {
     "iopub.execute_input": "2022-05-29T20:16:30.239001Z",
     "iopub.status.busy": "2022-05-29T20:16:30.238537Z",
     "iopub.status.idle": "2022-05-29T20:16:33.313275Z",
     "shell.execute_reply": "2022-05-29T20:16:33.312297Z"
    },
    "papermill": {
     "duration": 3.141067,
     "end_time": "2022-05-29T20:16:33.315884",
     "exception": false,
     "start_time": "2022-05-29T20:16:30.174817",
     "status": "completed"
    },
    "tags": []
   },
   "outputs": [],
   "source": [
    "data = pd.read_csv(os.path.join(PATH_DATA,'retail_train.csv'))\n",
    "item_features = pd.read_csv(os.path.join(PATH_DATA,'product.csv'))\n",
    "user_features = pd.read_csv(os.path.join(PATH_DATA,'hh_demographic.csv'))"
   ]
  },
  {
   "cell_type": "markdown",
   "id": "78e26078",
   "metadata": {
    "papermill": {
     "duration": 0.065258,
     "end_time": "2022-05-29T20:16:33.445625",
     "exception": false,
     "start_time": "2022-05-29T20:16:33.380367",
     "status": "completed"
    },
    "tags": []
   },
   "source": [
    "# Set global const"
   ]
  },
  {
   "cell_type": "code",
   "execution_count": 5,
   "id": "edb68224",
   "metadata": {
    "execution": {
     "iopub.execute_input": "2022-05-29T20:16:33.571718Z",
     "iopub.status.busy": "2022-05-29T20:16:33.571429Z",
     "iopub.status.idle": "2022-05-29T20:16:33.575709Z",
     "shell.execute_reply": "2022-05-29T20:16:33.574872Z"
    },
    "papermill": {
     "duration": 0.069384,
     "end_time": "2022-05-29T20:16:33.577307",
     "exception": false,
     "start_time": "2022-05-29T20:16:33.507923",
     "status": "completed"
    },
    "tags": []
   },
   "outputs": [],
   "source": [
    "ITEM_COL = 'item_id'\n",
    "USER_COL = 'user_id'\n",
    "ACTUAL_COL = 'actual'\n",
    "\n",
    "# N = Neighbors\n",
    "N_PREDICT = 50\n",
    "# N_PREDICT = 100\n",
    "# N_PREDICT = 30"
   ]
  },
  {
   "cell_type": "markdown",
   "id": "62f5cad7",
   "metadata": {
    "papermill": {
     "duration": 0.06371,
     "end_time": "2022-05-29T20:16:33.704208",
     "exception": false,
     "start_time": "2022-05-29T20:16:33.640498",
     "status": "completed"
    },
    "tags": []
   },
   "source": [
    "# Process features dataset"
   ]
  },
  {
   "cell_type": "code",
   "execution_count": 6,
   "id": "d860b746",
   "metadata": {
    "execution": {
     "iopub.execute_input": "2022-05-29T20:16:33.832222Z",
     "iopub.status.busy": "2022-05-29T20:16:33.831905Z",
     "iopub.status.idle": "2022-05-29T20:16:33.846382Z",
     "shell.execute_reply": "2022-05-29T20:16:33.845640Z"
    },
    "papermill": {
     "duration": 0.081998,
     "end_time": "2022-05-29T20:16:33.848668",
     "exception": false,
     "start_time": "2022-05-29T20:16:33.766670",
     "status": "completed"
    },
    "tags": []
   },
   "outputs": [],
   "source": [
    "# column processing\n",
    "item_features.columns = [col.lower() for col in item_features.columns]\n",
    "user_features.columns = [col.lower() for col in user_features.columns]\n",
    "\n",
    "item_features.rename(columns={'product_id': ITEM_COL}, inplace=True)\n",
    "user_features.rename(columns={'household_key': USER_COL }, inplace=True)"
   ]
  },
  {
   "cell_type": "markdown",
   "id": "f91c80f7",
   "metadata": {
    "papermill": {
     "duration": 0.064778,
     "end_time": "2022-05-29T20:16:33.981447",
     "exception": false,
     "start_time": "2022-05-29T20:16:33.916669",
     "status": "completed"
    },
    "tags": []
   },
   "source": [
    "# Split dataset for train, eval, test"
   ]
  },
  {
   "cell_type": "code",
   "execution_count": 7,
   "id": "0bf4d611",
   "metadata": {
    "execution": {
     "iopub.execute_input": "2022-05-29T20:16:34.109867Z",
     "iopub.status.busy": "2022-05-29T20:16:34.108985Z",
     "iopub.status.idle": "2022-05-29T20:16:34.113597Z",
     "shell.execute_reply": "2022-05-29T20:16:34.112633Z"
    },
    "papermill": {
     "duration": 0.070529,
     "end_time": "2022-05-29T20:16:34.115807",
     "exception": false,
     "start_time": "2022-05-29T20:16:34.045278",
     "status": "completed"
    },
    "tags": []
   },
   "outputs": [],
   "source": [
    "# Важна схема обучения и валидации!\n",
    "# -- давние покупки -- | -- 6 недель -- | -- 3 недель -- \n",
    "# подобрать размер 2-ого датасета (6 недель) --> learning curve (зависимость метрики recall@k от размера датасета)\n",
    "\n",
    "\n",
    "VAL_MATCHER_WEEKS = 6\n",
    "VAL_RANKER_WEEKS = 3"
   ]
  },
  {
   "cell_type": "code",
   "execution_count": 8,
   "id": "2400b158",
   "metadata": {
    "execution": {
     "iopub.execute_input": "2022-05-29T20:16:34.245454Z",
     "iopub.status.busy": "2022-05-29T20:16:34.245170Z",
     "iopub.status.idle": "2022-05-29T20:16:34.428052Z",
     "shell.execute_reply": "2022-05-29T20:16:34.427406Z"
    },
    "papermill": {
     "duration": 0.250353,
     "end_time": "2022-05-29T20:16:34.430165",
     "exception": false,
     "start_time": "2022-05-29T20:16:34.179812",
     "status": "completed"
    },
    "scrolled": true,
    "tags": []
   },
   "outputs": [],
   "source": [
    "# берем данные для тренировки matching модели\n",
    "data_train_matcher = data[data['week_no'] < data['week_no'].max() - (VAL_MATCHER_WEEKS + VAL_RANKER_WEEKS)]\n",
    "\n",
    "# берем данные для валидации matching модели\n",
    "data_val_matcher = data[(data['week_no'] >= data['week_no'].max() - (VAL_MATCHER_WEEKS + VAL_RANKER_WEEKS)) &\n",
    "                      (data['week_no'] < data['week_no'].max() - (VAL_RANKER_WEEKS))]\n",
    "\n",
    "# берем данные для тренировки ranking модели\n",
    "data_train_ranker = data_val_matcher.copy()  # Для наглядности. Далее мы добавим изменения, и они будут отличаться\n",
    "\n",
    "# берем данные для теста ranking, matching модели\n",
    "data_val_ranker = data[data['week_no'] >= data['week_no'].max() - VAL_RANKER_WEEKS]"
   ]
  },
  {
   "cell_type": "code",
   "execution_count": 9,
   "id": "0c357b3b",
   "metadata": {
    "execution": {
     "iopub.execute_input": "2022-05-29T20:16:34.556844Z",
     "iopub.status.busy": "2022-05-29T20:16:34.556111Z",
     "iopub.status.idle": "2022-05-29T20:16:34.714493Z",
     "shell.execute_reply": "2022-05-29T20:16:34.713472Z"
    },
    "papermill": {
     "duration": 0.225259,
     "end_time": "2022-05-29T20:16:34.716872",
     "exception": false,
     "start_time": "2022-05-29T20:16:34.491613",
     "status": "completed"
    },
    "tags": []
   },
   "outputs": [],
   "source": [
    "# сделаем объединенный сет данных для первого уровня (матчинга)\n",
    "df_join_train_matcher = pd.concat([data_train_matcher, data_val_matcher])"
   ]
  },
  {
   "cell_type": "code",
   "execution_count": 10,
   "id": "5f7b69cf",
   "metadata": {
    "execution": {
     "iopub.execute_input": "2022-05-29T20:16:34.849794Z",
     "iopub.status.busy": "2022-05-29T20:16:34.849526Z",
     "iopub.status.idle": "2022-05-29T20:16:34.853945Z",
     "shell.execute_reply": "2022-05-29T20:16:34.853071Z"
    },
    "papermill": {
     "duration": 0.073796,
     "end_time": "2022-05-29T20:16:34.856088",
     "exception": false,
     "start_time": "2022-05-29T20:16:34.782292",
     "status": "completed"
    },
    "tags": []
   },
   "outputs": [],
   "source": [
    "def print_stats_data(df_data, name_df):\n",
    "    print(name_df)\n",
    "    print(f\"Shape: {df_data.shape} Users: {df_data[USER_COL].nunique()} Items: {df_data[ITEM_COL].nunique()}\")"
   ]
  },
  {
   "cell_type": "code",
   "execution_count": 11,
   "id": "803cb896",
   "metadata": {
    "execution": {
     "iopub.execute_input": "2022-05-29T20:16:34.984711Z",
     "iopub.status.busy": "2022-05-29T20:16:34.984437Z",
     "iopub.status.idle": "2022-05-29T20:16:35.041631Z",
     "shell.execute_reply": "2022-05-29T20:16:35.040725Z"
    },
    "papermill": {
     "duration": 0.123029,
     "end_time": "2022-05-29T20:16:35.043911",
     "exception": false,
     "start_time": "2022-05-29T20:16:34.920882",
     "status": "completed"
    },
    "scrolled": true,
    "tags": []
   },
   "outputs": [
    {
     "name": "stdout",
     "output_type": "stream",
     "text": [
      "train_matcher\n",
      "Shape: (2108779, 12) Users: 2498 Items: 83685\n",
      "val_matcher\n",
      "Shape: (169711, 12) Users: 2154 Items: 27649\n",
      "train_ranker\n",
      "Shape: (169711, 12) Users: 2154 Items: 27649\n",
      "val_ranker\n",
      "Shape: (118314, 12) Users: 2042 Items: 24329\n"
     ]
    }
   ],
   "source": [
    "# видим разброс по пользователям и товарам и дальше мы перейдем к warm-start (только известные пользователи)\n",
    "print_stats_data(data_train_matcher,'train_matcher')\n",
    "print_stats_data(data_val_matcher,'val_matcher')\n",
    "print_stats_data(data_train_ranker,'train_ranker')\n",
    "print_stats_data(data_val_ranker,'val_ranker')"
   ]
  },
  {
   "cell_type": "code",
   "execution_count": 12,
   "id": "0666ab18",
   "metadata": {
    "execution": {
     "iopub.execute_input": "2022-05-29T20:16:35.173430Z",
     "iopub.status.busy": "2022-05-29T20:16:35.173149Z",
     "iopub.status.idle": "2022-05-29T20:16:35.190290Z",
     "shell.execute_reply": "2022-05-29T20:16:35.189385Z"
    },
    "papermill": {
     "duration": 0.084932,
     "end_time": "2022-05-29T20:16:35.192197",
     "exception": false,
     "start_time": "2022-05-29T20:16:35.107265",
     "status": "completed"
    },
    "tags": []
   },
   "outputs": [
    {
     "data": {
      "text/html": [
       "<div>\n",
       "<style scoped>\n",
       "    .dataframe tbody tr th:only-of-type {\n",
       "        vertical-align: middle;\n",
       "    }\n",
       "\n",
       "    .dataframe tbody tr th {\n",
       "        vertical-align: top;\n",
       "    }\n",
       "\n",
       "    .dataframe thead th {\n",
       "        text-align: right;\n",
       "    }\n",
       "</style>\n",
       "<table border=\"1\" class=\"dataframe\">\n",
       "  <thead>\n",
       "    <tr style=\"text-align: right;\">\n",
       "      <th></th>\n",
       "      <th>user_id</th>\n",
       "      <th>basket_id</th>\n",
       "      <th>day</th>\n",
       "      <th>item_id</th>\n",
       "      <th>quantity</th>\n",
       "      <th>sales_value</th>\n",
       "      <th>store_id</th>\n",
       "      <th>retail_disc</th>\n",
       "      <th>trans_time</th>\n",
       "      <th>week_no</th>\n",
       "      <th>coupon_disc</th>\n",
       "      <th>coupon_match_disc</th>\n",
       "    </tr>\n",
       "  </thead>\n",
       "  <tbody>\n",
       "    <tr>\n",
       "      <th>2104867</th>\n",
       "      <td>2070</td>\n",
       "      <td>40618492260</td>\n",
       "      <td>594</td>\n",
       "      <td>1019940</td>\n",
       "      <td>1</td>\n",
       "      <td>1.00</td>\n",
       "      <td>311</td>\n",
       "      <td>-0.29</td>\n",
       "      <td>40</td>\n",
       "      <td>86</td>\n",
       "      <td>0.0</td>\n",
       "      <td>0.0</td>\n",
       "    </tr>\n",
       "    <tr>\n",
       "      <th>2107468</th>\n",
       "      <td>2021</td>\n",
       "      <td>40618753059</td>\n",
       "      <td>594</td>\n",
       "      <td>840361</td>\n",
       "      <td>1</td>\n",
       "      <td>0.99</td>\n",
       "      <td>443</td>\n",
       "      <td>0.00</td>\n",
       "      <td>101</td>\n",
       "      <td>86</td>\n",
       "      <td>0.0</td>\n",
       "      <td>0.0</td>\n",
       "    </tr>\n",
       "  </tbody>\n",
       "</table>\n",
       "</div>"
      ],
      "text/plain": [
       "         user_id    basket_id  day  item_id  quantity  sales_value  store_id  \\\n",
       "2104867     2070  40618492260  594  1019940         1         1.00       311   \n",
       "2107468     2021  40618753059  594   840361         1         0.99       443   \n",
       "\n",
       "         retail_disc  trans_time  week_no  coupon_disc  coupon_match_disc  \n",
       "2104867        -0.29          40       86          0.0                0.0  \n",
       "2107468         0.00         101       86          0.0                0.0  "
      ]
     },
     "execution_count": 12,
     "metadata": {},
     "output_type": "execute_result"
    }
   ],
   "source": [
    "data_val_matcher.head(2)"
   ]
  },
  {
   "cell_type": "markdown",
   "id": "6f451cb6",
   "metadata": {
    "papermill": {
     "duration": 0.063585,
     "end_time": "2022-05-29T20:16:35.318375",
     "exception": false,
     "start_time": "2022-05-29T20:16:35.254790",
     "status": "completed"
    },
    "tags": []
   },
   "source": [
    "# Prefilter items"
   ]
  },
  {
   "cell_type": "code",
   "execution_count": 13,
   "id": "f988bc0c",
   "metadata": {
    "execution": {
     "iopub.execute_input": "2022-05-29T20:16:35.445926Z",
     "iopub.status.busy": "2022-05-29T20:16:35.445388Z",
     "iopub.status.idle": "2022-05-29T20:16:35.947387Z",
     "shell.execute_reply": "2022-05-29T20:16:35.946208Z"
    },
    "papermill": {
     "duration": 0.569393,
     "end_time": "2022-05-29T20:16:35.950167",
     "exception": false,
     "start_time": "2022-05-29T20:16:35.380774",
     "status": "completed"
    },
    "tags": []
   },
   "outputs": [
    {
     "name": "stdout",
     "output_type": "stream",
     "text": [
      "Decreased # items from 83685 to 501\n"
     ]
    }
   ],
   "source": [
    "n_items_before = data_train_matcher['item_id'].nunique()\n",
    "\n",
    "# data_train_matcher = prefilter_items(data_train_matcher, item_features=item_features, take_n_popular=5000)\n",
    "# data_train_matcher = prefilter_items(data_train_matcher, item_features=item_features, take_n_popular=1000)\n",
    "data_train_matcher = prefilter_items(data_train_matcher, item_features=item_features, take_n_popular=500)\n",
    "\n",
    "n_items_after = data_train_matcher['item_id'].nunique()\n",
    "print('Decreased # items from {} to {}'.format(n_items_before, n_items_after))"
   ]
  },
  {
   "cell_type": "markdown",
   "id": "4435528d",
   "metadata": {
    "papermill": {
     "duration": 0.067628,
     "end_time": "2022-05-29T20:16:36.086314",
     "exception": false,
     "start_time": "2022-05-29T20:16:36.018686",
     "status": "completed"
    },
    "tags": []
   },
   "source": [
    "# Make cold-start to warm-start"
   ]
  },
  {
   "cell_type": "code",
   "execution_count": 14,
   "id": "f4674b46",
   "metadata": {
    "execution": {
     "iopub.execute_input": "2022-05-29T20:16:36.217420Z",
     "iopub.status.busy": "2022-05-29T20:16:36.217119Z",
     "iopub.status.idle": "2022-05-29T20:16:36.285248Z",
     "shell.execute_reply": "2022-05-29T20:16:36.284375Z"
    },
    "papermill": {
     "duration": 0.137057,
     "end_time": "2022-05-29T20:16:36.288264",
     "exception": false,
     "start_time": "2022-05-29T20:16:36.151207",
     "status": "completed"
    },
    "tags": []
   },
   "outputs": [
    {
     "name": "stdout",
     "output_type": "stream",
     "text": [
      "train_matcher\n",
      "Shape: (861404, 13) Users: 2495 Items: 501\n",
      "val_matcher\n",
      "Shape: (169615, 12) Users: 2151 Items: 27644\n",
      "train_ranker\n",
      "Shape: (169615, 12) Users: 2151 Items: 27644\n",
      "val_ranker\n",
      "Shape: (118282, 12) Users: 2040 Items: 24325\n"
     ]
    }
   ],
   "source": [
    "# ищем общих пользователей\n",
    "common_users = data_train_matcher.user_id.values\n",
    "\n",
    "data_val_matcher = data_val_matcher[data_val_matcher.user_id.isin(common_users)]\n",
    "data_train_ranker = data_train_ranker[data_train_ranker.user_id.isin(common_users)]\n",
    "data_val_ranker = data_val_ranker[data_val_ranker.user_id.isin(common_users)]\n",
    "\n",
    "print_stats_data(data_train_matcher,'train_matcher')\n",
    "print_stats_data(data_val_matcher,'val_matcher')\n",
    "print_stats_data(data_train_ranker,'train_ranker')\n",
    "print_stats_data(data_val_ranker,'val_ranker')"
   ]
  },
  {
   "cell_type": "markdown",
   "id": "a50de809",
   "metadata": {
    "papermill": {
     "duration": 0.065865,
     "end_time": "2022-05-29T20:16:36.422777",
     "exception": false,
     "start_time": "2022-05-29T20:16:36.356912",
     "status": "completed"
    },
    "tags": []
   },
   "source": [
    "# Init/train recommender"
   ]
  },
  {
   "cell_type": "code",
   "execution_count": 15,
   "id": "e2bb6cf9",
   "metadata": {
    "execution": {
     "iopub.execute_input": "2022-05-29T20:16:36.554641Z",
     "iopub.status.busy": "2022-05-29T20:16:36.554218Z",
     "iopub.status.idle": "2022-05-29T20:16:39.471338Z",
     "shell.execute_reply": "2022-05-29T20:16:39.470648Z"
    },
    "papermill": {
     "duration": 2.985671,
     "end_time": "2022-05-29T20:16:39.473056",
     "exception": false,
     "start_time": "2022-05-29T20:16:36.487385",
     "status": "completed"
    },
    "tags": []
   },
   "outputs": [
    {
     "data": {
      "application/vnd.jupyter.widget-view+json": {
       "model_id": "062429b0bb1e429289b5af65b6269483",
       "version_major": 2,
       "version_minor": 0
      },
      "text/plain": [
       "  0%|          | 0/15 [00:00<?, ?it/s]"
      ]
     },
     "metadata": {},
     "output_type": "display_data"
    },
    {
     "data": {
      "application/vnd.jupyter.widget-view+json": {
       "model_id": "60ce8a4b4cd7492d9c1f0577e4f4aac7",
       "version_major": 2,
       "version_minor": 0
      },
      "text/plain": [
       "  0%|          | 0/501 [00:00<?, ?it/s]"
      ]
     },
     "metadata": {},
     "output_type": "display_data"
    }
   ],
   "source": [
    "recommender = MainRecommender(data_train_matcher)"
   ]
  },
  {
   "cell_type": "markdown",
   "id": "9fce8f66",
   "metadata": {
    "papermill": {
     "duration": 0.064609,
     "end_time": "2022-05-29T20:16:39.603829",
     "exception": false,
     "start_time": "2022-05-29T20:16:39.539220",
     "status": "completed"
    },
    "tags": []
   },
   "source": [
    "# Eval recall of matching"
   ]
  },
  {
   "cell_type": "code",
   "execution_count": 16,
   "id": "6375cf3e",
   "metadata": {
    "execution": {
     "iopub.execute_input": "2022-05-29T20:16:39.739113Z",
     "iopub.status.busy": "2022-05-29T20:16:39.738380Z",
     "iopub.status.idle": "2022-05-29T20:16:39.893206Z",
     "shell.execute_reply": "2022-05-29T20:16:39.892112Z"
    },
    "papermill": {
     "duration": 0.226076,
     "end_time": "2022-05-29T20:16:39.896166",
     "exception": false,
     "start_time": "2022-05-29T20:16:39.670090",
     "status": "completed"
    },
    "scrolled": true,
    "tags": []
   },
   "outputs": [
    {
     "data": {
      "text/html": [
       "<div>\n",
       "<style scoped>\n",
       "    .dataframe tbody tr th:only-of-type {\n",
       "        vertical-align: middle;\n",
       "    }\n",
       "\n",
       "    .dataframe tbody tr th {\n",
       "        vertical-align: top;\n",
       "    }\n",
       "\n",
       "    .dataframe thead th {\n",
       "        text-align: right;\n",
       "    }\n",
       "</style>\n",
       "<table border=\"1\" class=\"dataframe\">\n",
       "  <thead>\n",
       "    <tr style=\"text-align: right;\">\n",
       "      <th></th>\n",
       "      <th>user_id</th>\n",
       "      <th>actual</th>\n",
       "    </tr>\n",
       "  </thead>\n",
       "  <tbody>\n",
       "    <tr>\n",
       "      <th>0</th>\n",
       "      <td>1</td>\n",
       "      <td>[853529, 865456, 867607, 872137, 874905, 87524...</td>\n",
       "    </tr>\n",
       "    <tr>\n",
       "      <th>1</th>\n",
       "      <td>2</td>\n",
       "      <td>[15830248, 838136, 839656, 861272, 866211, 870...</td>\n",
       "    </tr>\n",
       "  </tbody>\n",
       "</table>\n",
       "</div>"
      ],
      "text/plain": [
       "   user_id                                             actual\n",
       "0        1  [853529, 865456, 867607, 872137, 874905, 87524...\n",
       "1        2  [15830248, 838136, 839656, 861272, 866211, 870..."
      ]
     },
     "execution_count": 16,
     "metadata": {},
     "output_type": "execute_result"
    }
   ],
   "source": [
    "result_eval_matcher = data_val_matcher.groupby(USER_COL)[ITEM_COL].unique().reset_index()\n",
    "result_eval_matcher.columns=[USER_COL, ACTUAL_COL]\n",
    "result_eval_matcher.head(2)"
   ]
  },
  {
   "cell_type": "code",
   "execution_count": 17,
   "id": "c39fb0a5",
   "metadata": {
    "execution": {
     "iopub.execute_input": "2022-05-29T20:16:40.046619Z",
     "iopub.status.busy": "2022-05-29T20:16:40.045902Z",
     "iopub.status.idle": "2022-05-29T20:16:57.788527Z",
     "shell.execute_reply": "2022-05-29T20:16:57.787614Z"
    },
    "papermill": {
     "duration": 17.825383,
     "end_time": "2022-05-29T20:16:57.794092",
     "exception": false,
     "start_time": "2022-05-29T20:16:39.968709",
     "status": "completed"
    },
    "tags": []
   },
   "outputs": [
    {
     "name": "stdout",
     "output_type": "stream",
     "text": [
      "CPU times: user 34.4 s, sys: 28.9 s, total: 1min 3s\n",
      "Wall time: 17.7 s\n"
     ]
    }
   ],
   "source": [
    "%%time\n",
    "\n",
    "result_eval_matcher['own_rec'] = result_eval_matcher[USER_COL].apply(lambda x: recommender.get_own_recommendations(x, N=N_PREDICT))\n",
    "result_eval_matcher['sim_item_rec'] = result_eval_matcher[USER_COL].apply(lambda x: recommender.get_similar_items_recommendation(x, N=N_PREDICT))\n",
    "result_eval_matcher['als_rec'] = result_eval_matcher[USER_COL].apply(lambda x: recommender.get_als_recommendations(x, N=N_PREDICT))"
   ]
  },
  {
   "cell_type": "code",
   "execution_count": 18,
   "id": "866dd048",
   "metadata": {
    "execution": {
     "iopub.execute_input": "2022-05-29T20:16:57.981025Z",
     "iopub.status.busy": "2022-05-29T20:16:57.980714Z",
     "iopub.status.idle": "2022-05-29T20:16:57.986153Z",
     "shell.execute_reply": "2022-05-29T20:16:57.985256Z"
    },
    "papermill": {
     "duration": 0.073379,
     "end_time": "2022-05-29T20:16:57.988129",
     "exception": false,
     "start_time": "2022-05-29T20:16:57.914750",
     "status": "completed"
    },
    "scrolled": true,
    "tags": []
   },
   "outputs": [
    {
     "name": "stdout",
     "output_type": "stream",
     "text": [
      "CPU times: user 2 µs, sys: 1 µs, total: 3 µs\n",
      "Wall time: 6.68 µs\n"
     ]
    }
   ],
   "source": [
    "%%time\n",
    "# result_eval_matcher['sim_user_rec'] = result_eval_matcher[USER_COL].apply(lambda x: recommender.get_similar_users_recommendation(x, N=50))"
   ]
  },
  {
   "cell_type": "code",
   "execution_count": 19,
   "id": "0d4365da",
   "metadata": {
    "execution": {
     "iopub.execute_input": "2022-05-29T20:16:58.121275Z",
     "iopub.status.busy": "2022-05-29T20:16:58.120548Z",
     "iopub.status.idle": "2022-05-29T20:16:58.125873Z",
     "shell.execute_reply": "2022-05-29T20:16:58.125085Z"
    },
    "papermill": {
     "duration": 0.073489,
     "end_time": "2022-05-29T20:16:58.127639",
     "exception": false,
     "start_time": "2022-05-29T20:16:58.054150",
     "status": "completed"
    },
    "tags": []
   },
   "outputs": [],
   "source": [
    "def calc_recall(df_data, top_k):\n",
    "    for col_name in df_data.columns[2:]:\n",
    "        yield col_name, df_data.apply(lambda row: recall_at_k(row[col_name], row[ACTUAL_COL], k=top_k), axis=1).mean()"
   ]
  },
  {
   "cell_type": "code",
   "execution_count": 20,
   "id": "60abb915",
   "metadata": {
    "execution": {
     "iopub.execute_input": "2022-05-29T20:16:58.259682Z",
     "iopub.status.busy": "2022-05-29T20:16:58.259403Z",
     "iopub.status.idle": "2022-05-29T20:16:58.264076Z",
     "shell.execute_reply": "2022-05-29T20:16:58.263286Z"
    },
    "papermill": {
     "duration": 0.072509,
     "end_time": "2022-05-29T20:16:58.265955",
     "exception": false,
     "start_time": "2022-05-29T20:16:58.193446",
     "status": "completed"
    },
    "tags": []
   },
   "outputs": [],
   "source": [
    "def calc_precision(df_data, top_k):\n",
    "    for col_name in df_data.columns[2:]:\n",
    "        yield col_name, df_data.apply(lambda row: precision_at_k(row[col_name], row[ACTUAL_COL], k=top_k), axis=1).mean()"
   ]
  },
  {
   "cell_type": "markdown",
   "id": "4c1c0684",
   "metadata": {
    "papermill": {
     "duration": 0.064514,
     "end_time": "2022-05-29T20:16:58.395897",
     "exception": false,
     "start_time": "2022-05-29T20:16:58.331383",
     "status": "completed"
    },
    "tags": []
   },
   "source": [
    "### Recall@50 of matching"
   ]
  },
  {
   "cell_type": "code",
   "execution_count": 21,
   "id": "d7d7dfba",
   "metadata": {
    "execution": {
     "iopub.execute_input": "2022-05-29T20:16:58.526746Z",
     "iopub.status.busy": "2022-05-29T20:16:58.526320Z",
     "iopub.status.idle": "2022-05-29T20:16:58.529269Z",
     "shell.execute_reply": "2022-05-29T20:16:58.528741Z"
    },
    "papermill": {
     "duration": 0.07046,
     "end_time": "2022-05-29T20:16:58.530906",
     "exception": false,
     "start_time": "2022-05-29T20:16:58.460446",
     "status": "completed"
    },
    "tags": []
   },
   "outputs": [],
   "source": [
    "TOPK_RECALL = 50\n",
    "# TOPK_RECALL = 100"
   ]
  },
  {
   "cell_type": "code",
   "execution_count": 22,
   "id": "a1dcaae8",
   "metadata": {
    "execution": {
     "iopub.execute_input": "2022-05-29T20:16:58.662713Z",
     "iopub.status.busy": "2022-05-29T20:16:58.662232Z",
     "iopub.status.idle": "2022-05-29T20:16:59.173887Z",
     "shell.execute_reply": "2022-05-29T20:16:59.173344Z"
    },
    "papermill": {
     "duration": 0.579639,
     "end_time": "2022-05-29T20:16:59.175581",
     "exception": false,
     "start_time": "2022-05-29T20:16:58.595942",
     "status": "completed"
    },
    "tags": []
   },
   "outputs": [
    {
     "data": {
      "text/plain": [
       "[('own_rec', 0.06867126166497624),\n",
       " ('als_rec', 0.05316982442892741),\n",
       " ('sim_item_rec', 0.040692781037539136)]"
      ]
     },
     "execution_count": 22,
     "metadata": {},
     "output_type": "execute_result"
    }
   ],
   "source": [
    "sorted(calc_recall(result_eval_matcher, TOPK_RECALL), key=lambda x: x[1],reverse=True)\n",
    "\n",
    "# [('own_rec', 0.06867126166497624),\n",
    "#  ('als_rec', 0.05334769036466487),\n",
    "#  ('sim_item_rec', 0.041631651342292325)]"
   ]
  },
  {
   "cell_type": "markdown",
   "id": "2f24aaf7",
   "metadata": {
    "papermill": {
     "duration": 0.065089,
     "end_time": "2022-05-29T20:16:59.305359",
     "exception": false,
     "start_time": "2022-05-29T20:16:59.240270",
     "status": "completed"
    },
    "tags": []
   },
   "source": [
    "### Precision@5 of matching"
   ]
  },
  {
   "cell_type": "code",
   "execution_count": 23,
   "id": "717ea3df",
   "metadata": {
    "execution": {
     "iopub.execute_input": "2022-05-29T20:16:59.437913Z",
     "iopub.status.busy": "2022-05-29T20:16:59.437628Z",
     "iopub.status.idle": "2022-05-29T20:16:59.442111Z",
     "shell.execute_reply": "2022-05-29T20:16:59.441411Z"
    },
    "papermill": {
     "duration": 0.072612,
     "end_time": "2022-05-29T20:16:59.443851",
     "exception": false,
     "start_time": "2022-05-29T20:16:59.371239",
     "status": "completed"
    },
    "tags": []
   },
   "outputs": [],
   "source": [
    "TOPK_PRECISION = 5"
   ]
  },
  {
   "cell_type": "code",
   "execution_count": 24,
   "id": "40c5216b",
   "metadata": {
    "execution": {
     "iopub.execute_input": "2022-05-29T20:16:59.574589Z",
     "iopub.status.busy": "2022-05-29T20:16:59.574334Z",
     "iopub.status.idle": "2022-05-29T20:16:59.875748Z",
     "shell.execute_reply": "2022-05-29T20:16:59.875007Z"
    },
    "papermill": {
     "duration": 0.36922,
     "end_time": "2022-05-29T20:16:59.877621",
     "exception": false,
     "start_time": "2022-05-29T20:16:59.508401",
     "status": "completed"
    },
    "tags": []
   },
   "outputs": [
    {
     "data": {
      "text/plain": [
       "[('own_rec', 0.2293816829381683),\n",
       " ('als_rec', 0.09576940957694097),\n",
       " ('sim_item_rec', 0.06452812645281265)]"
      ]
     },
     "execution_count": 24,
     "metadata": {},
     "output_type": "execute_result"
    }
   ],
   "source": [
    "sorted(calc_precision(result_eval_matcher, TOPK_PRECISION), key=lambda x: x[1],reverse=True)\n",
    "\n",
    "# [('own_rec', 0.2293816829381683),\n",
    "#  ('als_rec', 0.09567642956764295),\n",
    "#  ('sim_item_rec', 0.0702928870292887)]"
   ]
  },
  {
   "cell_type": "markdown",
   "id": "ccee450a",
   "metadata": {
    "papermill": {
     "duration": 0.065856,
     "end_time": "2022-05-29T20:17:00.008277",
     "exception": false,
     "start_time": "2022-05-29T20:16:59.942421",
     "status": "completed"
    },
    "tags": []
   },
   "source": [
    "# Ranking part"
   ]
  },
  {
   "cell_type": "markdown",
   "id": "8c20150b",
   "metadata": {
    "papermill": {
     "duration": 0.065103,
     "end_time": "2022-05-29T20:17:00.138329",
     "exception": false,
     "start_time": "2022-05-29T20:17:00.073226",
     "status": "completed"
    },
    "tags": []
   },
   "source": [
    "### Обучаем модель 2-ого уровня на выбранных кандидатах\n",
    "\n",
    "- Обучаем на data_train_ranking\n",
    "- Обучаем *только* на выбранных кандидатах\n",
    "- Я *для примера* сгенерирую топ-50 кадидиатов через get_own_recommendations\n",
    "- (!) Если юзер купил < 50 товаров, то get_own_recommendations дополнит рекоммендации топ-популярными"
   ]
  },
  {
   "cell_type": "code",
   "execution_count": 25,
   "id": "ef239da2",
   "metadata": {
    "execution": {
     "iopub.execute_input": "2022-05-29T20:17:00.270710Z",
     "iopub.status.busy": "2022-05-29T20:17:00.270102Z",
     "iopub.status.idle": "2022-05-29T20:17:00.273889Z",
     "shell.execute_reply": "2022-05-29T20:17:00.273043Z"
    },
    "papermill": {
     "duration": 0.07198,
     "end_time": "2022-05-29T20:17:00.275868",
     "exception": false,
     "start_time": "2022-05-29T20:17:00.203888",
     "status": "completed"
    },
    "tags": []
   },
   "outputs": [],
   "source": [
    "# -- давние покупки -- | -- 6 недель -- | -- 3 недель -- "
   ]
  },
  {
   "cell_type": "markdown",
   "id": "cb4a7cc6",
   "metadata": {
    "papermill": {
     "duration": 0.067171,
     "end_time": "2022-05-29T20:17:00.407960",
     "exception": false,
     "start_time": "2022-05-29T20:17:00.340789",
     "status": "completed"
    },
    "tags": []
   },
   "source": [
    "## Подготовка данных для трейна"
   ]
  },
  {
   "cell_type": "code",
   "execution_count": 26,
   "id": "0d31f68d",
   "metadata": {
    "execution": {
     "iopub.execute_input": "2022-05-29T20:17:00.539412Z",
     "iopub.status.busy": "2022-05-29T20:17:00.539129Z",
     "iopub.status.idle": "2022-05-29T20:17:00.545772Z",
     "shell.execute_reply": "2022-05-29T20:17:00.544941Z"
    },
    "papermill": {
     "duration": 0.075201,
     "end_time": "2022-05-29T20:17:00.547859",
     "exception": false,
     "start_time": "2022-05-29T20:17:00.472658",
     "status": "completed"
    },
    "tags": []
   },
   "outputs": [],
   "source": [
    "# взяли пользователей из трейна для ранжирования\n",
    "df_match_candidates = pd.DataFrame(data_train_ranker[USER_COL].unique())\n",
    "df_match_candidates.columns = [USER_COL]"
   ]
  },
  {
   "cell_type": "code",
   "execution_count": 27,
   "id": "137e4344",
   "metadata": {
    "execution": {
     "iopub.execute_input": "2022-05-29T20:17:00.680508Z",
     "iopub.status.busy": "2022-05-29T20:17:00.679650Z",
     "iopub.status.idle": "2022-05-29T20:17:03.023966Z",
     "shell.execute_reply": "2022-05-29T20:17:03.023040Z"
    },
    "papermill": {
     "duration": 2.413506,
     "end_time": "2022-05-29T20:17:03.026488",
     "exception": false,
     "start_time": "2022-05-29T20:17:00.612982",
     "status": "completed"
    },
    "tags": []
   },
   "outputs": [],
   "source": [
    "# собираем кандитатов с первого этапа (matcher)\n",
    "df_match_candidates['candidates'] = df_match_candidates[USER_COL].apply(lambda x: recommender.get_own_recommendations(x, N=N_PREDICT))"
   ]
  },
  {
   "cell_type": "code",
   "execution_count": 28,
   "id": "11b9b7d6",
   "metadata": {
    "execution": {
     "iopub.execute_input": "2022-05-29T20:17:03.161972Z",
     "iopub.status.busy": "2022-05-29T20:17:03.161429Z",
     "iopub.status.idle": "2022-05-29T20:17:03.171361Z",
     "shell.execute_reply": "2022-05-29T20:17:03.170438Z"
    },
    "papermill": {
     "duration": 0.079617,
     "end_time": "2022-05-29T20:17:03.173208",
     "exception": false,
     "start_time": "2022-05-29T20:17:03.093591",
     "status": "completed"
    },
    "tags": []
   },
   "outputs": [
    {
     "data": {
      "text/html": [
       "<div>\n",
       "<style scoped>\n",
       "    .dataframe tbody tr th:only-of-type {\n",
       "        vertical-align: middle;\n",
       "    }\n",
       "\n",
       "    .dataframe tbody tr th {\n",
       "        vertical-align: top;\n",
       "    }\n",
       "\n",
       "    .dataframe thead th {\n",
       "        text-align: right;\n",
       "    }\n",
       "</style>\n",
       "<table border=\"1\" class=\"dataframe\">\n",
       "  <thead>\n",
       "    <tr style=\"text-align: right;\">\n",
       "      <th></th>\n",
       "      <th>user_id</th>\n",
       "      <th>candidates</th>\n",
       "    </tr>\n",
       "  </thead>\n",
       "  <tbody>\n",
       "    <tr>\n",
       "      <th>0</th>\n",
       "      <td>2070</td>\n",
       "      <td>[1016800, 917033, 926905, 913210, 5569374, 933...</td>\n",
       "    </tr>\n",
       "    <tr>\n",
       "      <th>1</th>\n",
       "      <td>2021</td>\n",
       "      <td>[1013928, 6534077, 896862, 1000753, 883932, 10...</td>\n",
       "    </tr>\n",
       "  </tbody>\n",
       "</table>\n",
       "</div>"
      ],
      "text/plain": [
       "   user_id                                         candidates\n",
       "0     2070  [1016800, 917033, 926905, 913210, 5569374, 933...\n",
       "1     2021  [1013928, 6534077, 896862, 1000753, 883932, 10..."
      ]
     },
     "execution_count": 28,
     "metadata": {},
     "output_type": "execute_result"
    }
   ],
   "source": [
    "df_match_candidates.head(2)"
   ]
  },
  {
   "cell_type": "code",
   "execution_count": 29,
   "id": "0fdea2e8",
   "metadata": {
    "execution": {
     "iopub.execute_input": "2022-05-29T20:17:03.305535Z",
     "iopub.status.busy": "2022-05-29T20:17:03.305262Z",
     "iopub.status.idle": "2022-05-29T20:17:03.667220Z",
     "shell.execute_reply": "2022-05-29T20:17:03.666457Z"
    },
    "papermill": {
     "duration": 0.431032,
     "end_time": "2022-05-29T20:17:03.669471",
     "exception": false,
     "start_time": "2022-05-29T20:17:03.238439",
     "status": "completed"
    },
    "tags": []
   },
   "outputs": [],
   "source": [
    "# разворачиваем товары\n",
    "df_items = df_match_candidates.apply(lambda x: pd.Series(x['candidates']), axis=1).stack().reset_index(level=1, drop=True)\n",
    "df_items.name = 'item_id'"
   ]
  },
  {
   "cell_type": "code",
   "execution_count": 30,
   "id": "91a470ab",
   "metadata": {
    "execution": {
     "iopub.execute_input": "2022-05-29T20:17:03.803432Z",
     "iopub.status.busy": "2022-05-29T20:17:03.802883Z",
     "iopub.status.idle": "2022-05-29T20:17:03.818047Z",
     "shell.execute_reply": "2022-05-29T20:17:03.817348Z"
    },
    "papermill": {
     "duration": 0.085146,
     "end_time": "2022-05-29T20:17:03.820144",
     "exception": false,
     "start_time": "2022-05-29T20:17:03.734998",
     "status": "completed"
    },
    "tags": []
   },
   "outputs": [],
   "source": [
    "df_match_candidates = df_match_candidates.drop('candidates', axis=1).join(df_items)"
   ]
  },
  {
   "cell_type": "code",
   "execution_count": 31,
   "id": "09bdb240",
   "metadata": {
    "execution": {
     "iopub.execute_input": "2022-05-29T20:17:03.954047Z",
     "iopub.status.busy": "2022-05-29T20:17:03.953489Z",
     "iopub.status.idle": "2022-05-29T20:17:03.962056Z",
     "shell.execute_reply": "2022-05-29T20:17:03.961257Z"
    },
    "papermill": {
     "duration": 0.077553,
     "end_time": "2022-05-29T20:17:03.963845",
     "exception": false,
     "start_time": "2022-05-29T20:17:03.886292",
     "status": "completed"
    },
    "tags": []
   },
   "outputs": [
    {
     "data": {
      "text/html": [
       "<div>\n",
       "<style scoped>\n",
       "    .dataframe tbody tr th:only-of-type {\n",
       "        vertical-align: middle;\n",
       "    }\n",
       "\n",
       "    .dataframe tbody tr th {\n",
       "        vertical-align: top;\n",
       "    }\n",
       "\n",
       "    .dataframe thead th {\n",
       "        text-align: right;\n",
       "    }\n",
       "</style>\n",
       "<table border=\"1\" class=\"dataframe\">\n",
       "  <thead>\n",
       "    <tr style=\"text-align: right;\">\n",
       "      <th></th>\n",
       "      <th>user_id</th>\n",
       "      <th>item_id</th>\n",
       "    </tr>\n",
       "  </thead>\n",
       "  <tbody>\n",
       "    <tr>\n",
       "      <th>0</th>\n",
       "      <td>2070</td>\n",
       "      <td>1016800</td>\n",
       "    </tr>\n",
       "    <tr>\n",
       "      <th>0</th>\n",
       "      <td>2070</td>\n",
       "      <td>917033</td>\n",
       "    </tr>\n",
       "    <tr>\n",
       "      <th>0</th>\n",
       "      <td>2070</td>\n",
       "      <td>926905</td>\n",
       "    </tr>\n",
       "    <tr>\n",
       "      <th>0</th>\n",
       "      <td>2070</td>\n",
       "      <td>913210</td>\n",
       "    </tr>\n",
       "  </tbody>\n",
       "</table>\n",
       "</div>"
      ],
      "text/plain": [
       "   user_id  item_id\n",
       "0     2070  1016800\n",
       "0     2070   917033\n",
       "0     2070   926905\n",
       "0     2070   913210"
      ]
     },
     "execution_count": 31,
     "metadata": {},
     "output_type": "execute_result"
    }
   ],
   "source": [
    "df_match_candidates.head(4)"
   ]
  },
  {
   "cell_type": "markdown",
   "id": "1ca703c2",
   "metadata": {
    "papermill": {
     "duration": 0.065797,
     "end_time": "2022-05-29T20:17:04.096323",
     "exception": false,
     "start_time": "2022-05-29T20:17:04.030526",
     "status": "completed"
    },
    "tags": []
   },
   "source": [
    "### Check warm start"
   ]
  },
  {
   "cell_type": "code",
   "execution_count": 32,
   "id": "e31f2d9d",
   "metadata": {
    "execution": {
     "iopub.execute_input": "2022-05-29T20:17:04.231068Z",
     "iopub.status.busy": "2022-05-29T20:17:04.230514Z",
     "iopub.status.idle": "2022-05-29T20:17:04.237910Z",
     "shell.execute_reply": "2022-05-29T20:17:04.237093Z"
    },
    "papermill": {
     "duration": 0.077425,
     "end_time": "2022-05-29T20:17:04.240341",
     "exception": false,
     "start_time": "2022-05-29T20:17:04.162916",
     "status": "completed"
    },
    "scrolled": true,
    "tags": []
   },
   "outputs": [
    {
     "name": "stdout",
     "output_type": "stream",
     "text": [
      "match_candidates\n",
      "Shape: (107550, 2) Users: 2151 Items: 499\n"
     ]
    }
   ],
   "source": [
    "print_stats_data(df_match_candidates, 'match_candidates')"
   ]
  },
  {
   "cell_type": "markdown",
   "id": "ae8fd327",
   "metadata": {
    "papermill": {
     "duration": 0.066877,
     "end_time": "2022-05-29T20:17:04.374495",
     "exception": false,
     "start_time": "2022-05-29T20:17:04.307618",
     "status": "completed"
    },
    "tags": []
   },
   "source": [
    "### Создаем трейн сет для ранжирования с учетом кандидатов с этапа 1 "
   ]
  },
  {
   "cell_type": "code",
   "execution_count": 33,
   "id": "ab4391e3",
   "metadata": {
    "execution": {
     "iopub.execute_input": "2022-05-29T20:17:04.509720Z",
     "iopub.status.busy": "2022-05-29T20:17:04.509283Z",
     "iopub.status.idle": "2022-05-29T20:17:04.521824Z",
     "shell.execute_reply": "2022-05-29T20:17:04.520909Z"
    },
    "papermill": {
     "duration": 0.082355,
     "end_time": "2022-05-29T20:17:04.523768",
     "exception": false,
     "start_time": "2022-05-29T20:17:04.441413",
     "status": "completed"
    },
    "tags": []
   },
   "outputs": [
    {
     "data": {
      "text/html": [
       "<div>\n",
       "<style scoped>\n",
       "    .dataframe tbody tr th:only-of-type {\n",
       "        vertical-align: middle;\n",
       "    }\n",
       "\n",
       "    .dataframe tbody tr th {\n",
       "        vertical-align: top;\n",
       "    }\n",
       "\n",
       "    .dataframe thead th {\n",
       "        text-align: right;\n",
       "    }\n",
       "</style>\n",
       "<table border=\"1\" class=\"dataframe\">\n",
       "  <thead>\n",
       "    <tr style=\"text-align: right;\">\n",
       "      <th></th>\n",
       "      <th>user_id</th>\n",
       "      <th>item_id</th>\n",
       "      <th>target</th>\n",
       "    </tr>\n",
       "  </thead>\n",
       "  <tbody>\n",
       "    <tr>\n",
       "      <th>2104867</th>\n",
       "      <td>2070</td>\n",
       "      <td>1019940</td>\n",
       "      <td>1</td>\n",
       "    </tr>\n",
       "    <tr>\n",
       "      <th>2107468</th>\n",
       "      <td>2021</td>\n",
       "      <td>840361</td>\n",
       "      <td>1</td>\n",
       "    </tr>\n",
       "    <tr>\n",
       "      <th>2107469</th>\n",
       "      <td>2021</td>\n",
       "      <td>856060</td>\n",
       "      <td>1</td>\n",
       "    </tr>\n",
       "    <tr>\n",
       "      <th>2107470</th>\n",
       "      <td>2021</td>\n",
       "      <td>869344</td>\n",
       "      <td>1</td>\n",
       "    </tr>\n",
       "    <tr>\n",
       "      <th>2107471</th>\n",
       "      <td>2021</td>\n",
       "      <td>896862</td>\n",
       "      <td>1</td>\n",
       "    </tr>\n",
       "  </tbody>\n",
       "</table>\n",
       "</div>"
      ],
      "text/plain": [
       "         user_id  item_id  target\n",
       "2104867     2070  1019940       1\n",
       "2107468     2021   840361       1\n",
       "2107469     2021   856060       1\n",
       "2107470     2021   869344       1\n",
       "2107471     2021   896862       1"
      ]
     },
     "execution_count": 33,
     "metadata": {},
     "output_type": "execute_result"
    }
   ],
   "source": [
    "df_ranker_train = data_train_ranker[[USER_COL, ITEM_COL]].copy()\n",
    "df_ranker_train['target'] = 1  # тут только покупки \n",
    "\n",
    "df_ranker_train.head()"
   ]
  },
  {
   "cell_type": "code",
   "execution_count": 34,
   "id": "89190d45",
   "metadata": {
    "execution": {
     "iopub.execute_input": "2022-05-29T20:17:04.659647Z",
     "iopub.status.busy": "2022-05-29T20:17:04.659234Z",
     "iopub.status.idle": "2022-05-29T20:17:04.736579Z",
     "shell.execute_reply": "2022-05-29T20:17:04.735996Z"
    },
    "papermill": {
     "duration": 0.148045,
     "end_time": "2022-05-29T20:17:04.738651",
     "exception": false,
     "start_time": "2022-05-29T20:17:04.590606",
     "status": "completed"
    },
    "tags": []
   },
   "outputs": [],
   "source": [
    "df_ranker_train = df_match_candidates.merge(df_ranker_train, on=[USER_COL, ITEM_COL], how='left')\n",
    "\n",
    "# чистим дубликаты\n",
    "df_ranker_train = df_ranker_train.drop_duplicates(subset=[USER_COL, ITEM_COL])\n",
    "\n",
    "df_ranker_train['target'].fillna(0, inplace= True)"
   ]
  },
  {
   "cell_type": "code",
   "execution_count": 35,
   "id": "35683a01",
   "metadata": {
    "execution": {
     "iopub.execute_input": "2022-05-29T20:17:04.874356Z",
     "iopub.status.busy": "2022-05-29T20:17:04.873897Z",
     "iopub.status.idle": "2022-05-29T20:17:04.883479Z",
     "shell.execute_reply": "2022-05-29T20:17:04.882925Z"
    },
    "papermill": {
     "duration": 0.079752,
     "end_time": "2022-05-29T20:17:04.885157",
     "exception": false,
     "start_time": "2022-05-29T20:17:04.805405",
     "status": "completed"
    },
    "tags": []
   },
   "outputs": [
    {
     "data": {
      "text/plain": [
       "0.0    94071\n",
       "1.0     8956\n",
       "Name: target, dtype: int64"
      ]
     },
     "execution_count": 35,
     "metadata": {},
     "output_type": "execute_result"
    }
   ],
   "source": [
    "df_ranker_train.target.value_counts()"
   ]
  },
  {
   "cell_type": "code",
   "execution_count": 36,
   "id": "9f3e3f44",
   "metadata": {
    "execution": {
     "iopub.execute_input": "2022-05-29T20:17:05.022271Z",
     "iopub.status.busy": "2022-05-29T20:17:05.021838Z",
     "iopub.status.idle": "2022-05-29T20:17:05.029280Z",
     "shell.execute_reply": "2022-05-29T20:17:05.028727Z"
    },
    "papermill": {
     "duration": 0.078483,
     "end_time": "2022-05-29T20:17:05.031002",
     "exception": false,
     "start_time": "2022-05-29T20:17:04.952519",
     "status": "completed"
    },
    "tags": []
   },
   "outputs": [
    {
     "data": {
      "text/html": [
       "<div>\n",
       "<style scoped>\n",
       "    .dataframe tbody tr th:only-of-type {\n",
       "        vertical-align: middle;\n",
       "    }\n",
       "\n",
       "    .dataframe tbody tr th {\n",
       "        vertical-align: top;\n",
       "    }\n",
       "\n",
       "    .dataframe thead th {\n",
       "        text-align: right;\n",
       "    }\n",
       "</style>\n",
       "<table border=\"1\" class=\"dataframe\">\n",
       "  <thead>\n",
       "    <tr style=\"text-align: right;\">\n",
       "      <th></th>\n",
       "      <th>user_id</th>\n",
       "      <th>item_id</th>\n",
       "      <th>target</th>\n",
       "    </tr>\n",
       "  </thead>\n",
       "  <tbody>\n",
       "    <tr>\n",
       "      <th>0</th>\n",
       "      <td>2070</td>\n",
       "      <td>1016800</td>\n",
       "      <td>0.0</td>\n",
       "    </tr>\n",
       "    <tr>\n",
       "      <th>1</th>\n",
       "      <td>2070</td>\n",
       "      <td>917033</td>\n",
       "      <td>0.0</td>\n",
       "    </tr>\n",
       "  </tbody>\n",
       "</table>\n",
       "</div>"
      ],
      "text/plain": [
       "   user_id  item_id  target\n",
       "0     2070  1016800     0.0\n",
       "1     2070   917033     0.0"
      ]
     },
     "execution_count": 36,
     "metadata": {},
     "output_type": "execute_result"
    }
   ],
   "source": [
    "df_ranker_train.head(2)"
   ]
  },
  {
   "cell_type": "markdown",
   "id": "bc2e5dd5",
   "metadata": {
    "papermill": {
     "duration": 0.06705,
     "end_time": "2022-05-29T20:17:05.165441",
     "exception": false,
     "start_time": "2022-05-29T20:17:05.098391",
     "status": "completed"
    },
    "tags": []
   },
   "source": [
    "(!) На каждого юзера 50 item_id-кандидатов"
   ]
  },
  {
   "cell_type": "code",
   "execution_count": 37,
   "id": "9d30602d",
   "metadata": {
    "execution": {
     "iopub.execute_input": "2022-05-29T20:17:05.302074Z",
     "iopub.status.busy": "2022-05-29T20:17:05.301602Z",
     "iopub.status.idle": "2022-05-29T20:17:05.306724Z",
     "shell.execute_reply": "2022-05-29T20:17:05.306107Z"
    },
    "papermill": {
     "duration": 0.075561,
     "end_time": "2022-05-29T20:17:05.308542",
     "exception": false,
     "start_time": "2022-05-29T20:17:05.232981",
     "status": "completed"
    },
    "tags": []
   },
   "outputs": [
    {
     "data": {
      "text/plain": [
       "0.08692866918380619"
      ]
     },
     "execution_count": 37,
     "metadata": {},
     "output_type": "execute_result"
    }
   ],
   "source": [
    "df_ranker_train['target'].mean()"
   ]
  },
  {
   "cell_type": "markdown",
   "id": "3c6ab28d",
   "metadata": {
    "papermill": {
     "duration": 0.068518,
     "end_time": "2022-05-29T20:17:05.445287",
     "exception": false,
     "start_time": "2022-05-29T20:17:05.376769",
     "status": "completed"
    },
    "tags": []
   },
   "source": [
    "## Подготавливаем фичи для обучения модели"
   ]
  },
  {
   "cell_type": "markdown",
   "id": "0f806e82",
   "metadata": {
    "papermill": {
     "duration": 0.067585,
     "end_time": "2022-05-29T20:17:05.580405",
     "exception": false,
     "start_time": "2022-05-29T20:17:05.512820",
     "status": "completed"
    },
    "tags": []
   },
   "source": [
    "### Описательные фичи"
   ]
  },
  {
   "cell_type": "code",
   "execution_count": 38,
   "id": "939e3f38",
   "metadata": {
    "execution": {
     "iopub.execute_input": "2022-05-29T20:17:05.717558Z",
     "iopub.status.busy": "2022-05-29T20:17:05.717151Z",
     "iopub.status.idle": "2022-05-29T20:17:05.726724Z",
     "shell.execute_reply": "2022-05-29T20:17:05.725910Z"
    },
    "papermill": {
     "duration": 0.08053,
     "end_time": "2022-05-29T20:17:05.728451",
     "exception": false,
     "start_time": "2022-05-29T20:17:05.647921",
     "status": "completed"
    },
    "tags": []
   },
   "outputs": [
    {
     "data": {
      "text/html": [
       "<div>\n",
       "<style scoped>\n",
       "    .dataframe tbody tr th:only-of-type {\n",
       "        vertical-align: middle;\n",
       "    }\n",
       "\n",
       "    .dataframe tbody tr th {\n",
       "        vertical-align: top;\n",
       "    }\n",
       "\n",
       "    .dataframe thead th {\n",
       "        text-align: right;\n",
       "    }\n",
       "</style>\n",
       "<table border=\"1\" class=\"dataframe\">\n",
       "  <thead>\n",
       "    <tr style=\"text-align: right;\">\n",
       "      <th></th>\n",
       "      <th>item_id</th>\n",
       "      <th>manufacturer</th>\n",
       "      <th>department</th>\n",
       "      <th>brand</th>\n",
       "      <th>commodity_desc</th>\n",
       "      <th>sub_commodity_desc</th>\n",
       "      <th>curr_size_of_product</th>\n",
       "    </tr>\n",
       "  </thead>\n",
       "  <tbody>\n",
       "    <tr>\n",
       "      <th>0</th>\n",
       "      <td>25671</td>\n",
       "      <td>2</td>\n",
       "      <td>GROCERY</td>\n",
       "      <td>National</td>\n",
       "      <td>FRZN ICE</td>\n",
       "      <td>ICE - CRUSHED/CUBED</td>\n",
       "      <td>22 LB</td>\n",
       "    </tr>\n",
       "    <tr>\n",
       "      <th>1</th>\n",
       "      <td>26081</td>\n",
       "      <td>2</td>\n",
       "      <td>MISC. TRANS.</td>\n",
       "      <td>National</td>\n",
       "      <td>NO COMMODITY DESCRIPTION</td>\n",
       "      <td>NO SUBCOMMODITY DESCRIPTION</td>\n",
       "      <td></td>\n",
       "    </tr>\n",
       "  </tbody>\n",
       "</table>\n",
       "</div>"
      ],
      "text/plain": [
       "   item_id  manufacturer    department     brand            commodity_desc  \\\n",
       "0    25671             2       GROCERY  National                  FRZN ICE   \n",
       "1    26081             2  MISC. TRANS.  National  NO COMMODITY DESCRIPTION   \n",
       "\n",
       "            sub_commodity_desc curr_size_of_product  \n",
       "0          ICE - CRUSHED/CUBED                22 LB  \n",
       "1  NO SUBCOMMODITY DESCRIPTION                       "
      ]
     },
     "execution_count": 38,
     "metadata": {},
     "output_type": "execute_result"
    }
   ],
   "source": [
    "item_features.head(2)"
   ]
  },
  {
   "cell_type": "code",
   "execution_count": 39,
   "id": "d0f9cb3e",
   "metadata": {
    "execution": {
     "iopub.execute_input": "2022-05-29T20:17:05.870456Z",
     "iopub.status.busy": "2022-05-29T20:17:05.869997Z",
     "iopub.status.idle": "2022-05-29T20:17:05.880974Z",
     "shell.execute_reply": "2022-05-29T20:17:05.880240Z"
    },
    "papermill": {
     "duration": 0.082271,
     "end_time": "2022-05-29T20:17:05.882888",
     "exception": false,
     "start_time": "2022-05-29T20:17:05.800617",
     "status": "completed"
    },
    "tags": []
   },
   "outputs": [
    {
     "data": {
      "text/html": [
       "<div>\n",
       "<style scoped>\n",
       "    .dataframe tbody tr th:only-of-type {\n",
       "        vertical-align: middle;\n",
       "    }\n",
       "\n",
       "    .dataframe tbody tr th {\n",
       "        vertical-align: top;\n",
       "    }\n",
       "\n",
       "    .dataframe thead th {\n",
       "        text-align: right;\n",
       "    }\n",
       "</style>\n",
       "<table border=\"1\" class=\"dataframe\">\n",
       "  <thead>\n",
       "    <tr style=\"text-align: right;\">\n",
       "      <th></th>\n",
       "      <th>age_desc</th>\n",
       "      <th>marital_status_code</th>\n",
       "      <th>income_desc</th>\n",
       "      <th>homeowner_desc</th>\n",
       "      <th>hh_comp_desc</th>\n",
       "      <th>household_size_desc</th>\n",
       "      <th>kid_category_desc</th>\n",
       "      <th>user_id</th>\n",
       "    </tr>\n",
       "  </thead>\n",
       "  <tbody>\n",
       "    <tr>\n",
       "      <th>0</th>\n",
       "      <td>65+</td>\n",
       "      <td>A</td>\n",
       "      <td>35-49K</td>\n",
       "      <td>Homeowner</td>\n",
       "      <td>2 Adults No Kids</td>\n",
       "      <td>2</td>\n",
       "      <td>None/Unknown</td>\n",
       "      <td>1</td>\n",
       "    </tr>\n",
       "    <tr>\n",
       "      <th>1</th>\n",
       "      <td>45-54</td>\n",
       "      <td>A</td>\n",
       "      <td>50-74K</td>\n",
       "      <td>Homeowner</td>\n",
       "      <td>2 Adults No Kids</td>\n",
       "      <td>2</td>\n",
       "      <td>None/Unknown</td>\n",
       "      <td>7</td>\n",
       "    </tr>\n",
       "  </tbody>\n",
       "</table>\n",
       "</div>"
      ],
      "text/plain": [
       "  age_desc marital_status_code income_desc homeowner_desc      hh_comp_desc  \\\n",
       "0      65+                   A      35-49K      Homeowner  2 Adults No Kids   \n",
       "1    45-54                   A      50-74K      Homeowner  2 Adults No Kids   \n",
       "\n",
       "  household_size_desc kid_category_desc  user_id  \n",
       "0                   2      None/Unknown        1  \n",
       "1                   2      None/Unknown        7  "
      ]
     },
     "execution_count": 39,
     "metadata": {},
     "output_type": "execute_result"
    }
   ],
   "source": [
    "user_features.head(2)"
   ]
  },
  {
   "cell_type": "code",
   "execution_count": 40,
   "id": "6753ee7c",
   "metadata": {
    "execution": {
     "iopub.execute_input": "2022-05-29T20:17:06.021868Z",
     "iopub.status.busy": "2022-05-29T20:17:06.021193Z",
     "iopub.status.idle": "2022-05-29T20:17:06.086408Z",
     "shell.execute_reply": "2022-05-29T20:17:06.085505Z"
    },
    "papermill": {
     "duration": 0.137309,
     "end_time": "2022-05-29T20:17:06.088493",
     "exception": false,
     "start_time": "2022-05-29T20:17:05.951184",
     "status": "completed"
    },
    "tags": []
   },
   "outputs": [
    {
     "data": {
      "text/html": [
       "<div>\n",
       "<style scoped>\n",
       "    .dataframe tbody tr th:only-of-type {\n",
       "        vertical-align: middle;\n",
       "    }\n",
       "\n",
       "    .dataframe tbody tr th {\n",
       "        vertical-align: top;\n",
       "    }\n",
       "\n",
       "    .dataframe thead th {\n",
       "        text-align: right;\n",
       "    }\n",
       "</style>\n",
       "<table border=\"1\" class=\"dataframe\">\n",
       "  <thead>\n",
       "    <tr style=\"text-align: right;\">\n",
       "      <th></th>\n",
       "      <th>user_id</th>\n",
       "      <th>item_id</th>\n",
       "      <th>target</th>\n",
       "      <th>manufacturer</th>\n",
       "      <th>department</th>\n",
       "      <th>brand</th>\n",
       "      <th>commodity_desc</th>\n",
       "      <th>sub_commodity_desc</th>\n",
       "      <th>curr_size_of_product</th>\n",
       "      <th>age_desc</th>\n",
       "      <th>marital_status_code</th>\n",
       "      <th>income_desc</th>\n",
       "      <th>homeowner_desc</th>\n",
       "      <th>hh_comp_desc</th>\n",
       "      <th>household_size_desc</th>\n",
       "      <th>kid_category_desc</th>\n",
       "    </tr>\n",
       "  </thead>\n",
       "  <tbody>\n",
       "    <tr>\n",
       "      <th>0</th>\n",
       "      <td>2070</td>\n",
       "      <td>1016800</td>\n",
       "      <td>0.0</td>\n",
       "      <td>103</td>\n",
       "      <td>GROCERY</td>\n",
       "      <td>National</td>\n",
       "      <td>SOFT DRINKS</td>\n",
       "      <td>SOFT DRINKS 12/18&amp;15PK CAN CAR</td>\n",
       "      <td>12 OZ</td>\n",
       "      <td>45-54</td>\n",
       "      <td>U</td>\n",
       "      <td>50-74K</td>\n",
       "      <td>Unknown</td>\n",
       "      <td>Unknown</td>\n",
       "      <td>1</td>\n",
       "      <td>None/Unknown</td>\n",
       "    </tr>\n",
       "    <tr>\n",
       "      <th>1</th>\n",
       "      <td>2070</td>\n",
       "      <td>917033</td>\n",
       "      <td>0.0</td>\n",
       "      <td>103</td>\n",
       "      <td>GROCERY</td>\n",
       "      <td>National</td>\n",
       "      <td>SOFT DRINKS</td>\n",
       "      <td>SOFT DRINKS 12/18&amp;15PK CAN CAR</td>\n",
       "      <td>12 OZ</td>\n",
       "      <td>45-54</td>\n",
       "      <td>U</td>\n",
       "      <td>50-74K</td>\n",
       "      <td>Unknown</td>\n",
       "      <td>Unknown</td>\n",
       "      <td>1</td>\n",
       "      <td>None/Unknown</td>\n",
       "    </tr>\n",
       "  </tbody>\n",
       "</table>\n",
       "</div>"
      ],
      "text/plain": [
       "   user_id  item_id  target  manufacturer department     brand commodity_desc  \\\n",
       "0     2070  1016800     0.0           103    GROCERY  National    SOFT DRINKS   \n",
       "1     2070   917033     0.0           103    GROCERY  National    SOFT DRINKS   \n",
       "\n",
       "               sub_commodity_desc curr_size_of_product age_desc  \\\n",
       "0  SOFT DRINKS 12/18&15PK CAN CAR                12 OZ    45-54   \n",
       "1  SOFT DRINKS 12/18&15PK CAN CAR                12 OZ    45-54   \n",
       "\n",
       "  marital_status_code income_desc homeowner_desc hh_comp_desc  \\\n",
       "0                   U      50-74K        Unknown      Unknown   \n",
       "1                   U      50-74K        Unknown      Unknown   \n",
       "\n",
       "  household_size_desc kid_category_desc  \n",
       "0                   1      None/Unknown  \n",
       "1                   1      None/Unknown  "
      ]
     },
     "execution_count": 40,
     "metadata": {},
     "output_type": "execute_result"
    }
   ],
   "source": [
    "df_ranker_train = df_ranker_train.merge(item_features, on='item_id', how='left')\n",
    "df_ranker_train = df_ranker_train.merge(user_features, on='user_id', how='left')\n",
    "\n",
    "df_ranker_train.head(2)"
   ]
  },
  {
   "cell_type": "markdown",
   "id": "6565472e",
   "metadata": {
    "papermill": {
     "duration": 0.068518,
     "end_time": "2022-05-29T20:17:06.226757",
     "exception": false,
     "start_time": "2022-05-29T20:17:06.158239",
     "status": "completed"
    },
    "tags": []
   },
   "source": [
    "### Поведенческие фичи\n",
    "\n",
    "##### Чтобы считать поведенческие фичи, нужно учесть все данные что были до data_val_ranker"
   ]
  },
  {
   "cell_type": "code",
   "execution_count": 41,
   "id": "1d835746",
   "metadata": {
    "execution": {
     "iopub.execute_input": "2022-05-29T20:17:06.366891Z",
     "iopub.status.busy": "2022-05-29T20:17:06.365996Z",
     "iopub.status.idle": "2022-05-29T20:17:06.380037Z",
     "shell.execute_reply": "2022-05-29T20:17:06.379225Z"
    },
    "papermill": {
     "duration": 0.086246,
     "end_time": "2022-05-29T20:17:06.381887",
     "exception": false,
     "start_time": "2022-05-29T20:17:06.295641",
     "status": "completed"
    },
    "tags": []
   },
   "outputs": [
    {
     "data": {
      "text/html": [
       "<div>\n",
       "<style scoped>\n",
       "    .dataframe tbody tr th:only-of-type {\n",
       "        vertical-align: middle;\n",
       "    }\n",
       "\n",
       "    .dataframe tbody tr th {\n",
       "        vertical-align: top;\n",
       "    }\n",
       "\n",
       "    .dataframe thead th {\n",
       "        text-align: right;\n",
       "    }\n",
       "</style>\n",
       "<table border=\"1\" class=\"dataframe\">\n",
       "  <thead>\n",
       "    <tr style=\"text-align: right;\">\n",
       "      <th></th>\n",
       "      <th>user_id</th>\n",
       "      <th>basket_id</th>\n",
       "      <th>day</th>\n",
       "      <th>item_id</th>\n",
       "      <th>quantity</th>\n",
       "      <th>sales_value</th>\n",
       "      <th>store_id</th>\n",
       "      <th>retail_disc</th>\n",
       "      <th>trans_time</th>\n",
       "      <th>week_no</th>\n",
       "      <th>coupon_disc</th>\n",
       "      <th>coupon_match_disc</th>\n",
       "    </tr>\n",
       "  </thead>\n",
       "  <tbody>\n",
       "    <tr>\n",
       "      <th>0</th>\n",
       "      <td>2375</td>\n",
       "      <td>26984851472</td>\n",
       "      <td>1</td>\n",
       "      <td>1004906</td>\n",
       "      <td>1</td>\n",
       "      <td>1.39</td>\n",
       "      <td>364</td>\n",
       "      <td>-0.60</td>\n",
       "      <td>1631</td>\n",
       "      <td>1</td>\n",
       "      <td>0.0</td>\n",
       "      <td>0.0</td>\n",
       "    </tr>\n",
       "    <tr>\n",
       "      <th>1</th>\n",
       "      <td>2375</td>\n",
       "      <td>26984851472</td>\n",
       "      <td>1</td>\n",
       "      <td>1033142</td>\n",
       "      <td>1</td>\n",
       "      <td>0.82</td>\n",
       "      <td>364</td>\n",
       "      <td>0.00</td>\n",
       "      <td>1631</td>\n",
       "      <td>1</td>\n",
       "      <td>0.0</td>\n",
       "      <td>0.0</td>\n",
       "    </tr>\n",
       "    <tr>\n",
       "      <th>2</th>\n",
       "      <td>2375</td>\n",
       "      <td>26984851472</td>\n",
       "      <td>1</td>\n",
       "      <td>1036325</td>\n",
       "      <td>1</td>\n",
       "      <td>0.99</td>\n",
       "      <td>364</td>\n",
       "      <td>-0.30</td>\n",
       "      <td>1631</td>\n",
       "      <td>1</td>\n",
       "      <td>0.0</td>\n",
       "      <td>0.0</td>\n",
       "    </tr>\n",
       "    <tr>\n",
       "      <th>3</th>\n",
       "      <td>2375</td>\n",
       "      <td>26984851472</td>\n",
       "      <td>1</td>\n",
       "      <td>1082185</td>\n",
       "      <td>1</td>\n",
       "      <td>1.21</td>\n",
       "      <td>364</td>\n",
       "      <td>0.00</td>\n",
       "      <td>1631</td>\n",
       "      <td>1</td>\n",
       "      <td>0.0</td>\n",
       "      <td>0.0</td>\n",
       "    </tr>\n",
       "    <tr>\n",
       "      <th>4</th>\n",
       "      <td>2375</td>\n",
       "      <td>26984851472</td>\n",
       "      <td>1</td>\n",
       "      <td>8160430</td>\n",
       "      <td>1</td>\n",
       "      <td>1.50</td>\n",
       "      <td>364</td>\n",
       "      <td>-0.39</td>\n",
       "      <td>1631</td>\n",
       "      <td>1</td>\n",
       "      <td>0.0</td>\n",
       "      <td>0.0</td>\n",
       "    </tr>\n",
       "  </tbody>\n",
       "</table>\n",
       "</div>"
      ],
      "text/plain": [
       "   user_id    basket_id  day  item_id  quantity  sales_value  store_id  \\\n",
       "0     2375  26984851472    1  1004906         1         1.39       364   \n",
       "1     2375  26984851472    1  1033142         1         0.82       364   \n",
       "2     2375  26984851472    1  1036325         1         0.99       364   \n",
       "3     2375  26984851472    1  1082185         1         1.21       364   \n",
       "4     2375  26984851472    1  8160430         1         1.50       364   \n",
       "\n",
       "   retail_disc  trans_time  week_no  coupon_disc  coupon_match_disc  \n",
       "0        -0.60        1631        1          0.0                0.0  \n",
       "1         0.00        1631        1          0.0                0.0  \n",
       "2        -0.30        1631        1          0.0                0.0  \n",
       "3         0.00        1631        1          0.0                0.0  \n",
       "4        -0.39        1631        1          0.0                0.0  "
      ]
     },
     "execution_count": 41,
     "metadata": {},
     "output_type": "execute_result"
    }
   ],
   "source": [
    "df_join_train_matcher.head()"
   ]
  },
  {
   "cell_type": "code",
   "execution_count": 42,
   "id": "94308347",
   "metadata": {
    "execution": {
     "iopub.execute_input": "2022-05-29T20:17:06.524131Z",
     "iopub.status.busy": "2022-05-29T20:17:06.523784Z",
     "iopub.status.idle": "2022-05-29T20:17:11.165719Z",
     "shell.execute_reply": "2022-05-29T20:17:11.164821Z"
    },
    "papermill": {
     "duration": 4.716009,
     "end_time": "2022-05-29T20:17:11.168242",
     "exception": false,
     "start_time": "2022-05-29T20:17:06.452233",
     "status": "completed"
    },
    "tags": []
   },
   "outputs": [],
   "source": [
    "df_ranker_train = df_ranker_train.merge(df_join_train_matcher.groupby(by=ITEM_COL).agg('sales_value').sum().rename('total_item_sales_value'), how='left',on=ITEM_COL)\n",
    "df_ranker_train = df_ranker_train.merge(df_join_train_matcher.groupby(by=ITEM_COL).agg('quantity').sum().rename('total_quantity_value'), how='left',on=ITEM_COL)\n",
    "df_ranker_train = df_ranker_train.merge(df_join_train_matcher.groupby(by=USER_COL).agg(USER_COL).count().rename('user_freq'), how='left',on=USER_COL)\n",
    "df_ranker_train = df_ranker_train.merge(df_join_train_matcher.groupby(by=[ITEM_COL, USER_COL]).agg('quantity').sum().rename('item_user_quantity'), how='left',on=[ITEM_COL, USER_COL])\n",
    "df_ranker_train = df_ranker_train.merge(df_join_train_matcher.groupby(by=[ITEM_COL, USER_COL]).agg('week_no').sum().rename('item_user_week_no'), how='left',on=[ITEM_COL, USER_COL])\n",
    "df_ranker_train = df_ranker_train.merge(df_join_train_matcher.groupby(by=[ITEM_COL, USER_COL]).agg('trans_time').count().rename('item_user_trans_time'), how='left',on=[ITEM_COL, USER_COL])\n",
    "df_ranker_train = df_ranker_train.merge(df_join_train_matcher.groupby(by=[ITEM_COL]).agg('basket_id').mean().rename('item_basket_id_mean'), how='left',on=[ITEM_COL])\n",
    "df_ranker_train = df_ranker_train.merge(df_join_train_matcher.groupby(by=[ITEM_COL, USER_COL]).agg('sales_value').sum().rename('item_user_sales_value'), how='left',on=[ITEM_COL, USER_COL])\n",
    "\n",
    "\n",
    "# ухудшает точность\n",
    "# df_ranker_train = df_ranker_train.merge(df_join_train_matcher.groupby(by=ITEM_COL).agg(USER_COL).count().rename('item_freq'), how='left',on=ITEM_COL)\n",
    "# df_ranker_train = df_ranker_train.merge(df_join_train_matcher.groupby(by=USER_COL).agg('sales_value').sum().rename('total_user_sales_value'), how='left',on=USER_COL)\n",
    "# df_ranker_train = df_ranker_train.merge(df_join_train_matcher.groupby(by=USER_COL).agg('quantity').sum().rename('user_quantity_per_week')/df_join_train_matcher.week_no.nunique(), how='left',on=USER_COL)\n",
    "# df_ranker_train = df_ranker_train.merge(df_join_train_matcher.groupby(by=USER_COL).agg('quantity').sum().rename('user_quantity_per_basktet')/df_join_train_matcher.basket_id.nunique(), how='left',on=USER_COL)\n",
    "# df_ranker_train = df_ranker_train.merge(df_join_train_matcher.groupby(by=ITEM_COL).agg(USER_COL).count().rename('item_freq_per_basket')/df_join_train_matcher.basket_id.nunique(), how='left',on=ITEM_COL)\n",
    "# df_ranker_train['average_check'] = df_ranker_train.total_user_sales_value/df_ranker_train.user_freq\n",
    "# df_ranker_train = df_ranker_train.merge(df_join_train_matcher.groupby(by=[ITEM_COL, USER_COL]).agg('day').sum().rename('item_user_day'), how='left',on=[ITEM_COL, USER_COL])\n",
    "# df_ranker_train = df_ranker_train.merge(df_join_train_matcher.groupby(by=[ITEM_COL, USER_COL]).agg('store_id').sum().rename('item_user_store_id'), how='left',on=[ITEM_COL, USER_COL])\n",
    "# df_ranker_train = df_ranker_train.merge(pd.get_dummies(df_ranker_train.department, dtype=int), right_index=True, left_index=True)\n",
    "# df_ranker_train = df_ranker_train.merge(df_join_train_matcher.groupby(by=[ITEM_COL]).agg('store_id').count().rename('item_store_id'), how='left',on=[ITEM_COL])\n",
    "# df_ranker_train = df_ranker_train.merge(df_join_train_matcher.groupby(by=[ITEM_COL]).agg('trans_time').count().rename('item_trans_time'), how='left',on=[ITEM_COL])\n",
    "# df_ranker_train = df_ranker_train.merge(df_join_train_matcher.groupby(by=[ITEM_COL]).agg('basket_id').std().rename('item_basket_id_std'), how='left',on=[ITEM_COL])\n",
    "# df_ranker_train = df_ranker_train.merge(df_join_train_matcher.groupby(by=ITEM_COL).agg('coupon_disc').mean().rename('item_coupon_disc'), how='left',on=ITEM_COL)\n",
    "# disc_items = df_join_train_matcher[df_join_train_matcher['coupon_disc'] != 0]\n",
    "# df_ranker_train = df_ranker_train.merge(disc_items.groupby(by=ITEM_COL).agg('coupon_disc').count().rename('share_disc_items')/df_ranker_train.total_quantity_value.nunique(), how='left',on=ITEM_COL)\n",
    "# df_ranker_train = df_ranker_train.merge(disc_items.groupby(by=USER_COL).agg('coupon_disc').count().rename('share_disc_items_u')/df_ranker_train.total_quantity_value.nunique(), how='left',on=USER_COL)\n",
    "\n",
    "\n",
    "# не изменилось\n",
    "# df_ranker_train = df_ranker_train.merge(df_join_train_matcher.groupby(by=ITEM_COL).agg('quantity').sum().rename('item_quantity_per_week')/df_join_train_matcher.week_no.nunique(), how='left',on=ITEM_COL)\n",
    "# df_ranker_train = df_ranker_train.merge(df_join_train_matcher.groupby(by=ITEM_COL).agg('quantity').sum().rename('item_quantity_per_basket')/df_join_train_matcher.basket_id.nunique(), how='left',on=ITEM_COL)\n",
    "# df_ranker_train = df_ranker_train.merge(df_join_train_matcher.groupby(by=USER_COL).agg(USER_COL).count().rename('user_freq_per_basket')/df_join_train_matcher.basket_id.nunique(), how='left',on=USER_COL)"
   ]
  },
  {
   "cell_type": "code",
   "execution_count": 43,
   "id": "26b2b67d",
   "metadata": {
    "execution": {
     "iopub.execute_input": "2022-05-29T20:17:11.309965Z",
     "iopub.status.busy": "2022-05-29T20:17:11.309065Z",
     "iopub.status.idle": "2022-05-29T20:17:11.347457Z",
     "shell.execute_reply": "2022-05-29T20:17:11.346572Z"
    },
    "papermill": {
     "duration": 0.111015,
     "end_time": "2022-05-29T20:17:11.349545",
     "exception": false,
     "start_time": "2022-05-29T20:17:11.238530",
     "status": "completed"
    },
    "tags": []
   },
   "outputs": [
    {
     "data": {
      "text/html": [
       "<div>\n",
       "<style scoped>\n",
       "    .dataframe tbody tr th:only-of-type {\n",
       "        vertical-align: middle;\n",
       "    }\n",
       "\n",
       "    .dataframe tbody tr th {\n",
       "        vertical-align: top;\n",
       "    }\n",
       "\n",
       "    .dataframe thead th {\n",
       "        text-align: right;\n",
       "    }\n",
       "</style>\n",
       "<table border=\"1\" class=\"dataframe\">\n",
       "  <thead>\n",
       "    <tr style=\"text-align: right;\">\n",
       "      <th></th>\n",
       "      <th>kid_category_desc</th>\n",
       "      <th>total_item_sales_value</th>\n",
       "      <th>total_quantity_value</th>\n",
       "      <th>user_freq</th>\n",
       "      <th>item_user_quantity</th>\n",
       "      <th>item_user_week_no</th>\n",
       "      <th>item_user_trans_time</th>\n",
       "      <th>item_basket_id_mean</th>\n",
       "      <th>item_user_sales_value</th>\n",
       "    </tr>\n",
       "  </thead>\n",
       "  <tbody>\n",
       "    <tr>\n",
       "      <th>0</th>\n",
       "      <td>None/Unknown</td>\n",
       "      <td>2234.13</td>\n",
       "      <td>745</td>\n",
       "      <td>1996</td>\n",
       "      <td>10.0</td>\n",
       "      <td>331.0</td>\n",
       "      <td>5.0</td>\n",
       "      <td>3.257372e+10</td>\n",
       "      <td>25.76</td>\n",
       "    </tr>\n",
       "    <tr>\n",
       "      <th>1</th>\n",
       "      <td>None/Unknown</td>\n",
       "      <td>1434.55</td>\n",
       "      <td>481</td>\n",
       "      <td>1996</td>\n",
       "      <td>6.0</td>\n",
       "      <td>248.0</td>\n",
       "      <td>4.0</td>\n",
       "      <td>3.255729e+10</td>\n",
       "      <td>15.00</td>\n",
       "    </tr>\n",
       "    <tr>\n",
       "      <th>2</th>\n",
       "      <td>None/Unknown</td>\n",
       "      <td>2420.71</td>\n",
       "      <td>786</td>\n",
       "      <td>1996</td>\n",
       "      <td>9.0</td>\n",
       "      <td>331.0</td>\n",
       "      <td>5.0</td>\n",
       "      <td>3.239287e+10</td>\n",
       "      <td>23.26</td>\n",
       "    </tr>\n",
       "    <tr>\n",
       "      <th>3</th>\n",
       "      <td>None/Unknown</td>\n",
       "      <td>5406.18</td>\n",
       "      <td>1364</td>\n",
       "      <td>1996</td>\n",
       "      <td>11.0</td>\n",
       "      <td>540.0</td>\n",
       "      <td>9.0</td>\n",
       "      <td>3.394303e+10</td>\n",
       "      <td>40.61</td>\n",
       "    </tr>\n",
       "    <tr>\n",
       "      <th>4</th>\n",
       "      <td>None/Unknown</td>\n",
       "      <td>4006.56</td>\n",
       "      <td>1391</td>\n",
       "      <td>1996</td>\n",
       "      <td>6.0</td>\n",
       "      <td>225.0</td>\n",
       "      <td>4.0</td>\n",
       "      <td>3.226843e+10</td>\n",
       "      <td>17.26</td>\n",
       "    </tr>\n",
       "    <tr>\n",
       "      <th>...</th>\n",
       "      <td>...</td>\n",
       "      <td>...</td>\n",
       "      <td>...</td>\n",
       "      <td>...</td>\n",
       "      <td>...</td>\n",
       "      <td>...</td>\n",
       "      <td>...</td>\n",
       "      <td>...</td>\n",
       "      <td>...</td>\n",
       "    </tr>\n",
       "    <tr>\n",
       "      <th>103022</th>\n",
       "      <td>None/Unknown</td>\n",
       "      <td>11175.05</td>\n",
       "      <td>3769</td>\n",
       "      <td>897</td>\n",
       "      <td>NaN</td>\n",
       "      <td>NaN</td>\n",
       "      <td>NaN</td>\n",
       "      <td>3.255426e+10</td>\n",
       "      <td>NaN</td>\n",
       "    </tr>\n",
       "    <tr>\n",
       "      <th>103023</th>\n",
       "      <td>None/Unknown</td>\n",
       "      <td>7543.64</td>\n",
       "      <td>2165</td>\n",
       "      <td>897</td>\n",
       "      <td>NaN</td>\n",
       "      <td>NaN</td>\n",
       "      <td>NaN</td>\n",
       "      <td>3.350955e+10</td>\n",
       "      <td>NaN</td>\n",
       "    </tr>\n",
       "    <tr>\n",
       "      <th>103024</th>\n",
       "      <td>None/Unknown</td>\n",
       "      <td>9904.63</td>\n",
       "      <td>3458</td>\n",
       "      <td>897</td>\n",
       "      <td>NaN</td>\n",
       "      <td>NaN</td>\n",
       "      <td>NaN</td>\n",
       "      <td>3.282426e+10</td>\n",
       "      <td>NaN</td>\n",
       "    </tr>\n",
       "    <tr>\n",
       "      <th>103025</th>\n",
       "      <td>None/Unknown</td>\n",
       "      <td>6833.06</td>\n",
       "      <td>2169</td>\n",
       "      <td>897</td>\n",
       "      <td>NaN</td>\n",
       "      <td>NaN</td>\n",
       "      <td>NaN</td>\n",
       "      <td>3.286465e+10</td>\n",
       "      <td>NaN</td>\n",
       "    </tr>\n",
       "    <tr>\n",
       "      <th>103026</th>\n",
       "      <td>None/Unknown</td>\n",
       "      <td>7678.58</td>\n",
       "      <td>2152</td>\n",
       "      <td>897</td>\n",
       "      <td>NaN</td>\n",
       "      <td>NaN</td>\n",
       "      <td>NaN</td>\n",
       "      <td>3.302210e+10</td>\n",
       "      <td>NaN</td>\n",
       "    </tr>\n",
       "  </tbody>\n",
       "</table>\n",
       "<p>103027 rows × 9 columns</p>\n",
       "</div>"
      ],
      "text/plain": [
       "       kid_category_desc  total_item_sales_value  total_quantity_value  \\\n",
       "0           None/Unknown                 2234.13                   745   \n",
       "1           None/Unknown                 1434.55                   481   \n",
       "2           None/Unknown                 2420.71                   786   \n",
       "3           None/Unknown                 5406.18                  1364   \n",
       "4           None/Unknown                 4006.56                  1391   \n",
       "...                  ...                     ...                   ...   \n",
       "103022      None/Unknown                11175.05                  3769   \n",
       "103023      None/Unknown                 7543.64                  2165   \n",
       "103024      None/Unknown                 9904.63                  3458   \n",
       "103025      None/Unknown                 6833.06                  2169   \n",
       "103026      None/Unknown                 7678.58                  2152   \n",
       "\n",
       "        user_freq  item_user_quantity  item_user_week_no  \\\n",
       "0            1996                10.0              331.0   \n",
       "1            1996                 6.0              248.0   \n",
       "2            1996                 9.0              331.0   \n",
       "3            1996                11.0              540.0   \n",
       "4            1996                 6.0              225.0   \n",
       "...           ...                 ...                ...   \n",
       "103022        897                 NaN                NaN   \n",
       "103023        897                 NaN                NaN   \n",
       "103024        897                 NaN                NaN   \n",
       "103025        897                 NaN                NaN   \n",
       "103026        897                 NaN                NaN   \n",
       "\n",
       "        item_user_trans_time  item_basket_id_mean  item_user_sales_value  \n",
       "0                        5.0         3.257372e+10                  25.76  \n",
       "1                        4.0         3.255729e+10                  15.00  \n",
       "2                        5.0         3.239287e+10                  23.26  \n",
       "3                        9.0         3.394303e+10                  40.61  \n",
       "4                        4.0         3.226843e+10                  17.26  \n",
       "...                      ...                  ...                    ...  \n",
       "103022                   NaN         3.255426e+10                    NaN  \n",
       "103023                   NaN         3.350955e+10                    NaN  \n",
       "103024                   NaN         3.282426e+10                    NaN  \n",
       "103025                   NaN         3.286465e+10                    NaN  \n",
       "103026                   NaN         3.302210e+10                    NaN  \n",
       "\n",
       "[103027 rows x 9 columns]"
      ]
     },
     "execution_count": 43,
     "metadata": {},
     "output_type": "execute_result"
    }
   ],
   "source": [
    "df_ranker_train[df_ranker_train.columns[15:]]"
   ]
  },
  {
   "cell_type": "code",
   "execution_count": 44,
   "id": "f07a1fad",
   "metadata": {
    "execution": {
     "iopub.execute_input": "2022-05-29T20:17:11.493313Z",
     "iopub.status.busy": "2022-05-29T20:17:11.493008Z",
     "iopub.status.idle": "2022-05-29T20:17:19.316417Z",
     "shell.execute_reply": "2022-05-29T20:17:19.315645Z"
    },
    "papermill": {
     "duration": 7.896416,
     "end_time": "2022-05-29T20:17:19.318646",
     "exception": false,
     "start_time": "2022-05-29T20:17:11.422230",
     "status": "completed"
    },
    "tags": []
   },
   "outputs": [],
   "source": [
    "# посчитаем количество покупок в каждой категории для пользователя\n",
    "# список категорий\n",
    "department_list = df_ranker_train.department.value_counts().reset_index()['index'].tolist()\n",
    "df_departments = pd.DataFrame(columns=department_list)\n",
    "\n",
    "# посчитаем количество товаров по пользователю в каждой категории\n",
    "user_depart_count = df_ranker_train.groupby('user_id')['department'].value_counts()\n",
    "\n",
    "# сформируем датасет и добавим фичи к датасету user_features\n",
    "for user in df_ranker_train.user_id.unique():\n",
    "    temp = pd.DataFrame(user_depart_count[user]).rename(columns={'department': user}).T\n",
    "    df_departments = df_departments.append(temp, ignore_index=False)\n",
    "\n",
    "df_departments.reset_index(inplace=True)\n",
    "df_departments.rename(columns={'index': 'user_id'}, inplace=True)\n",
    "\n",
    "df_ranker_train = df_ranker_train.merge(df_departments, on='user_id', how='left')\n",
    "df_ranker_train.fillna(0, inplace=True)"
   ]
  },
  {
   "cell_type": "code",
   "execution_count": 45,
   "id": "c8c804e6",
   "metadata": {
    "execution": {
     "iopub.execute_input": "2022-05-29T20:17:19.461656Z",
     "iopub.status.busy": "2022-05-29T20:17:19.460832Z",
     "iopub.status.idle": "2022-05-29T20:17:19.464337Z",
     "shell.execute_reply": "2022-05-29T20:17:19.463811Z"
    },
    "papermill": {
     "duration": 0.077193,
     "end_time": "2022-05-29T20:17:19.465930",
     "exception": false,
     "start_time": "2022-05-29T20:17:19.388737",
     "status": "completed"
    },
    "tags": []
   },
   "outputs": [],
   "source": [
    "# # Работа с эмбеддингами товаров ALS \n",
    "\n",
    "# model_item_factors = pd.DataFrame(recommender.model.item_factors)\n",
    "# item_id_df = pd.DataFrame()\n",
    "# item_id_df[ITEM_COL] = data_train_matcher['item_id'].unique()\n",
    "# model_item_factors_df = pd.concat([item_id_df, model_item_factors], axis=1)\n",
    "\n",
    "# ухудшает точность\n",
    "# df_ranker_train = df_ranker_train.merge(model_item_factors_df, how='left',on=[ITEM_COL])"
   ]
  },
  {
   "cell_type": "code",
   "execution_count": 46,
   "id": "49139130",
   "metadata": {
    "execution": {
     "iopub.execute_input": "2022-05-29T20:17:19.608009Z",
     "iopub.status.busy": "2022-05-29T20:17:19.607280Z",
     "iopub.status.idle": "2022-05-29T20:17:19.611196Z",
     "shell.execute_reply": "2022-05-29T20:17:19.610359Z"
    },
    "papermill": {
     "duration": 0.076983,
     "end_time": "2022-05-29T20:17:19.612935",
     "exception": false,
     "start_time": "2022-05-29T20:17:19.535952",
     "status": "completed"
    },
    "tags": []
   },
   "outputs": [],
   "source": [
    "# df_ranker_train.drop('share_disc_items', axis=1, inplace=True)"
   ]
  },
  {
   "cell_type": "code",
   "execution_count": 47,
   "id": "9dff637a",
   "metadata": {
    "execution": {
     "iopub.execute_input": "2022-05-29T20:17:19.756615Z",
     "iopub.status.busy": "2022-05-29T20:17:19.755756Z",
     "iopub.status.idle": "2022-05-29T20:17:19.774525Z",
     "shell.execute_reply": "2022-05-29T20:17:19.773984Z"
    },
    "papermill": {
     "duration": 0.092391,
     "end_time": "2022-05-29T20:17:19.776199",
     "exception": false,
     "start_time": "2022-05-29T20:17:19.683808",
     "status": "completed"
    },
    "tags": []
   },
   "outputs": [
    {
     "data": {
      "text/html": [
       "<div>\n",
       "<style scoped>\n",
       "    .dataframe tbody tr th:only-of-type {\n",
       "        vertical-align: middle;\n",
       "    }\n",
       "\n",
       "    .dataframe tbody tr th {\n",
       "        vertical-align: top;\n",
       "    }\n",
       "\n",
       "    .dataframe thead th {\n",
       "        text-align: right;\n",
       "    }\n",
       "</style>\n",
       "<table border=\"1\" class=\"dataframe\">\n",
       "  <thead>\n",
       "    <tr style=\"text-align: right;\">\n",
       "      <th></th>\n",
       "      <th>user_id</th>\n",
       "      <th>item_id</th>\n",
       "      <th>target</th>\n",
       "      <th>manufacturer</th>\n",
       "      <th>department</th>\n",
       "      <th>brand</th>\n",
       "      <th>commodity_desc</th>\n",
       "      <th>sub_commodity_desc</th>\n",
       "      <th>curr_size_of_product</th>\n",
       "      <th>age_desc</th>\n",
       "      <th>...</th>\n",
       "      <th>GROCERY</th>\n",
       "      <th>PRODUCE</th>\n",
       "      <th>MEAT</th>\n",
       "      <th>MEAT-PCKGD</th>\n",
       "      <th>DELI</th>\n",
       "      <th>DRUG GM</th>\n",
       "      <th>PASTRY</th>\n",
       "      <th>SEAFOOD-PCKGD</th>\n",
       "      <th>FLORAL</th>\n",
       "      <th>SEAFOOD</th>\n",
       "    </tr>\n",
       "  </thead>\n",
       "  <tbody>\n",
       "    <tr>\n",
       "      <th>0</th>\n",
       "      <td>2070</td>\n",
       "      <td>1016800</td>\n",
       "      <td>0.0</td>\n",
       "      <td>103</td>\n",
       "      <td>GROCERY</td>\n",
       "      <td>National</td>\n",
       "      <td>SOFT DRINKS</td>\n",
       "      <td>SOFT DRINKS 12/18&amp;15PK CAN CAR</td>\n",
       "      <td>12 OZ</td>\n",
       "      <td>45-54</td>\n",
       "      <td>...</td>\n",
       "      <td>28</td>\n",
       "      <td>9</td>\n",
       "      <td>2</td>\n",
       "      <td>7</td>\n",
       "      <td>0</td>\n",
       "      <td>4</td>\n",
       "      <td>0</td>\n",
       "      <td>0</td>\n",
       "      <td>0</td>\n",
       "      <td>0</td>\n",
       "    </tr>\n",
       "    <tr>\n",
       "      <th>1</th>\n",
       "      <td>2070</td>\n",
       "      <td>917033</td>\n",
       "      <td>0.0</td>\n",
       "      <td>103</td>\n",
       "      <td>GROCERY</td>\n",
       "      <td>National</td>\n",
       "      <td>SOFT DRINKS</td>\n",
       "      <td>SOFT DRINKS 12/18&amp;15PK CAN CAR</td>\n",
       "      <td>12 OZ</td>\n",
       "      <td>45-54</td>\n",
       "      <td>...</td>\n",
       "      <td>28</td>\n",
       "      <td>9</td>\n",
       "      <td>2</td>\n",
       "      <td>7</td>\n",
       "      <td>0</td>\n",
       "      <td>4</td>\n",
       "      <td>0</td>\n",
       "      <td>0</td>\n",
       "      <td>0</td>\n",
       "      <td>0</td>\n",
       "    </tr>\n",
       "    <tr>\n",
       "      <th>2</th>\n",
       "      <td>2070</td>\n",
       "      <td>926905</td>\n",
       "      <td>0.0</td>\n",
       "      <td>103</td>\n",
       "      <td>GROCERY</td>\n",
       "      <td>National</td>\n",
       "      <td>SOFT DRINKS</td>\n",
       "      <td>SOFT DRINKS 12/18&amp;15PK CAN CAR</td>\n",
       "      <td>12 OZ</td>\n",
       "      <td>45-54</td>\n",
       "      <td>...</td>\n",
       "      <td>28</td>\n",
       "      <td>9</td>\n",
       "      <td>2</td>\n",
       "      <td>7</td>\n",
       "      <td>0</td>\n",
       "      <td>4</td>\n",
       "      <td>0</td>\n",
       "      <td>0</td>\n",
       "      <td>0</td>\n",
       "      <td>0</td>\n",
       "    </tr>\n",
       "    <tr>\n",
       "      <th>3</th>\n",
       "      <td>2070</td>\n",
       "      <td>913210</td>\n",
       "      <td>1.0</td>\n",
       "      <td>2</td>\n",
       "      <td>GROCERY</td>\n",
       "      <td>National</td>\n",
       "      <td>WATER - CARBONATED/FLVRD DRINK</td>\n",
       "      <td>NON-CRBNTD DRNKING/MNERAL WATE</td>\n",
       "      <td>405.6 OZ</td>\n",
       "      <td>45-54</td>\n",
       "      <td>...</td>\n",
       "      <td>28</td>\n",
       "      <td>9</td>\n",
       "      <td>2</td>\n",
       "      <td>7</td>\n",
       "      <td>0</td>\n",
       "      <td>4</td>\n",
       "      <td>0</td>\n",
       "      <td>0</td>\n",
       "      <td>0</td>\n",
       "      <td>0</td>\n",
       "    </tr>\n",
       "    <tr>\n",
       "      <th>4</th>\n",
       "      <td>2070</td>\n",
       "      <td>5569374</td>\n",
       "      <td>0.0</td>\n",
       "      <td>1208</td>\n",
       "      <td>GROCERY</td>\n",
       "      <td>National</td>\n",
       "      <td>SOFT DRINKS</td>\n",
       "      <td>SOFT DRINKS 12/18&amp;15PK CAN CAR</td>\n",
       "      <td>12 OZ</td>\n",
       "      <td>45-54</td>\n",
       "      <td>...</td>\n",
       "      <td>28</td>\n",
       "      <td>9</td>\n",
       "      <td>2</td>\n",
       "      <td>7</td>\n",
       "      <td>0</td>\n",
       "      <td>4</td>\n",
       "      <td>0</td>\n",
       "      <td>0</td>\n",
       "      <td>0</td>\n",
       "      <td>0</td>\n",
       "    </tr>\n",
       "  </tbody>\n",
       "</table>\n",
       "<p>5 rows × 34 columns</p>\n",
       "</div>"
      ],
      "text/plain": [
       "   user_id  item_id  target  manufacturer department     brand  \\\n",
       "0     2070  1016800     0.0           103    GROCERY  National   \n",
       "1     2070   917033     0.0           103    GROCERY  National   \n",
       "2     2070   926905     0.0           103    GROCERY  National   \n",
       "3     2070   913210     1.0             2    GROCERY  National   \n",
       "4     2070  5569374     0.0          1208    GROCERY  National   \n",
       "\n",
       "                   commodity_desc              sub_commodity_desc  \\\n",
       "0                     SOFT DRINKS  SOFT DRINKS 12/18&15PK CAN CAR   \n",
       "1                     SOFT DRINKS  SOFT DRINKS 12/18&15PK CAN CAR   \n",
       "2                     SOFT DRINKS  SOFT DRINKS 12/18&15PK CAN CAR   \n",
       "3  WATER - CARBONATED/FLVRD DRINK  NON-CRBNTD DRNKING/MNERAL WATE   \n",
       "4                     SOFT DRINKS  SOFT DRINKS 12/18&15PK CAN CAR   \n",
       "\n",
       "  curr_size_of_product age_desc  ... GROCERY PRODUCE MEAT MEAT-PCKGD DELI  \\\n",
       "0                12 OZ    45-54  ...      28       9    2          7    0   \n",
       "1                12 OZ    45-54  ...      28       9    2          7    0   \n",
       "2                12 OZ    45-54  ...      28       9    2          7    0   \n",
       "3             405.6 OZ    45-54  ...      28       9    2          7    0   \n",
       "4                12 OZ    45-54  ...      28       9    2          7    0   \n",
       "\n",
       "  DRUG GM  PASTRY  SEAFOOD-PCKGD  FLORAL  SEAFOOD  \n",
       "0       4       0              0       0        0  \n",
       "1       4       0              0       0        0  \n",
       "2       4       0              0       0        0  \n",
       "3       4       0              0       0        0  \n",
       "4       4       0              0       0        0  \n",
       "\n",
       "[5 rows x 34 columns]"
      ]
     },
     "execution_count": 47,
     "metadata": {},
     "output_type": "execute_result"
    }
   ],
   "source": [
    "df_ranker_train.head()"
   ]
  },
  {
   "cell_type": "code",
   "execution_count": 48,
   "id": "c9fd1186",
   "metadata": {
    "execution": {
     "iopub.execute_input": "2022-05-29T20:17:19.922688Z",
     "iopub.status.busy": "2022-05-29T20:17:19.922222Z",
     "iopub.status.idle": "2022-05-29T20:17:19.954427Z",
     "shell.execute_reply": "2022-05-29T20:17:19.953596Z"
    },
    "papermill": {
     "duration": 0.107833,
     "end_time": "2022-05-29T20:17:19.956463",
     "exception": false,
     "start_time": "2022-05-29T20:17:19.848630",
     "status": "completed"
    },
    "tags": []
   },
   "outputs": [],
   "source": [
    "X_train = df_ranker_train.drop('target', axis=1)\n",
    "y_train = df_ranker_train[['target']]"
   ]
  },
  {
   "cell_type": "code",
   "execution_count": 49,
   "id": "461d0f25",
   "metadata": {
    "execution": {
     "iopub.execute_input": "2022-05-29T20:17:20.102089Z",
     "iopub.status.busy": "2022-05-29T20:17:20.101791Z",
     "iopub.status.idle": "2022-05-29T20:17:20.287600Z",
     "shell.execute_reply": "2022-05-29T20:17:20.286775Z"
    },
    "papermill": {
     "duration": 0.259974,
     "end_time": "2022-05-29T20:17:20.289793",
     "exception": false,
     "start_time": "2022-05-29T20:17:20.029819",
     "status": "completed"
    },
    "scrolled": true,
    "tags": []
   },
   "outputs": [],
   "source": [
    "cat_feats = X_train.columns[2:].tolist()\n",
    "X_train[cat_feats] = X_train[cat_feats].astype('category')"
   ]
  },
  {
   "cell_type": "markdown",
   "id": "60a5b62e",
   "metadata": {
    "papermill": {
     "duration": 0.071859,
     "end_time": "2022-05-29T20:17:20.432513",
     "exception": false,
     "start_time": "2022-05-29T20:17:20.360654",
     "status": "completed"
    },
    "tags": []
   },
   "source": [
    "## Обучение модели ранжирования"
   ]
  },
  {
   "cell_type": "code",
   "execution_count": 50,
   "id": "cf9125b1",
   "metadata": {
    "execution": {
     "iopub.execute_input": "2022-05-29T20:17:20.575594Z",
     "iopub.status.busy": "2022-05-29T20:17:20.574689Z",
     "iopub.status.idle": "2022-05-29T20:17:20.578031Z",
     "shell.execute_reply": "2022-05-29T20:17:20.577533Z"
    },
    "papermill": {
     "duration": 0.076432,
     "end_time": "2022-05-29T20:17:20.579600",
     "exception": false,
     "start_time": "2022-05-29T20:17:20.503168",
     "status": "completed"
    },
    "tags": []
   },
   "outputs": [],
   "source": [
    "# %%time\n",
    "# lgb = LGBMClassifier(objective='binary',\n",
    "#                      max_depth=8,\n",
    "#                      n_estimators=100,\n",
    "#                      learning_rate=0.1,\n",
    "#                      categorical_column=cat_feats,\n",
    "#                      n_jobs=-1)\n",
    "\n",
    "# lgb.fit(X_train, y_train)"
   ]
  },
  {
   "cell_type": "code",
   "execution_count": 51,
   "id": "4d8bde6a",
   "metadata": {
    "execution": {
     "iopub.execute_input": "2022-05-29T20:17:20.722576Z",
     "iopub.status.busy": "2022-05-29T20:17:20.721634Z",
     "iopub.status.idle": "2022-05-29T20:17:20.726521Z",
     "shell.execute_reply": "2022-05-29T20:17:20.725942Z"
    },
    "papermill": {
     "duration": 0.078249,
     "end_time": "2022-05-29T20:17:20.728120",
     "exception": false,
     "start_time": "2022-05-29T20:17:20.649871",
     "status": "completed"
    },
    "tags": []
   },
   "outputs": [],
   "source": [
    "# # Поиск наилучших параметров для модели\n",
    "\n",
    "# params ={'n_estimators': [100, 200, 250],\n",
    "#          'max_depth': [5, 8, 10],\n",
    "#          'learning_rate': [0.1, 0.5]\n",
    "#             }\n",
    "\n",
    "# best = []\n",
    "\n",
    "# for lossf in params.get('n_estimators'):\n",
    "#     for depth in params.get('max_depth'):\n",
    "#         for lrate in params.get('learning_rate'):\n",
    "#             lgb = LGBMClassifier(n_estimators=lossf, \n",
    "#                                     random_state=42,\n",
    "#                                     max_depth=depth, \n",
    "#                                     learning_rate=lrate,\n",
    "#                                     objective='binary',\n",
    "#                                     categorical_column=cat_feats,\n",
    "#                                     n_jobs=-1)\n",
    "#             lgb.fit(X_train, y_train)\n",
    "#             train_preds = lgb.predict_proba(X_train)\n",
    "#             df_ranker_predict = df_ranker_train.copy()\n",
    "#             df_ranker_predict['proba_item_purchase'] = train_preds[:,1]\n",
    "#             result_eval_ranker['own_rec'] = result_eval_ranker[USER_COL].apply(lambda x: recommender.get_own_recommendations(x, N=N_PREDICT))\n",
    "#             result_eval_ranker['reranked_own_rec'] = result_eval_ranker[USER_COL].apply(lambda user_id: rerank(user_id))\n",
    "#             best.append([sorted(calc_precision(result_eval_ranker, TOPK_PRECISION), key=lambda x: x[1], reverse=True), lossf, depth, lrate])\n",
    "#             print(sorted(calc_precision(result_eval_ranker, TOPK_PRECISION), key=lambda x: x[1], reverse=True), lossf, depth, lrate)\n",
    "\n",
    "# best_result = 0\n",
    "# list_ = []\n",
    "# for item in range(len(best)):\n",
    "#     if best_result < best[item][0][0][1]:\n",
    "#         best_result = best[item][0][0][1]\n",
    "#         list_.append(best[item])\n",
    "# print(list_[-1])\n",
    "# print(best_result)\n",
    "\n",
    "# [[('reranked_own_rec', 0.2685117493472585), ('own_rec', 0.19333333333333336)], 100, 8, 0.1]\n",
    "# 0.2685117493472585"
   ]
  },
  {
   "cell_type": "code",
   "execution_count": 52,
   "id": "a533e25c",
   "metadata": {
    "execution": {
     "iopub.execute_input": "2022-05-29T20:17:20.871456Z",
     "iopub.status.busy": "2022-05-29T20:17:20.870841Z",
     "iopub.status.idle": "2022-05-29T20:24:42.234899Z",
     "shell.execute_reply": "2022-05-29T20:24:42.233755Z"
    },
    "papermill": {
     "duration": 441.510195,
     "end_time": "2022-05-29T20:24:42.309452",
     "exception": false,
     "start_time": "2022-05-29T20:17:20.799257",
     "status": "completed"
    },
    "tags": []
   },
   "outputs": [
    {
     "name": "stdout",
     "output_type": "stream",
     "text": [
      "CPU times: user 24min 33s, sys: 15 s, total: 24min 48s\n",
      "Wall time: 7min 21s\n"
     ]
    }
   ],
   "source": [
    "%%time\n",
    "from catboost import CatBoost, Pool\n",
    "\n",
    "df_bin_feat = pd.get_dummies(X_train)\n",
    "\n",
    "catbst = CatBoost(params ={'loss_function': 'RMSE',\n",
    "                           'iterations': 2000,\n",
    "                           'depth': 10,\n",
    "#                           \"task_type\":\"GPU\",\n",
    "            })\n",
    "catbst.fit(df_bin_feat, y_train, silent=True)\n",
    "\n",
    "train_preds = catbst.predict(df_bin_feat, prediction_type=\"Probability\")"
   ]
  },
  {
   "cell_type": "code",
   "execution_count": 53,
   "id": "303b9630",
   "metadata": {
    "execution": {
     "iopub.execute_input": "2022-05-29T20:24:42.460193Z",
     "iopub.status.busy": "2022-05-29T20:24:42.459849Z",
     "iopub.status.idle": "2022-05-29T20:24:42.465572Z",
     "shell.execute_reply": "2022-05-29T20:24:42.464860Z"
    },
    "papermill": {
     "duration": 0.081992,
     "end_time": "2022-05-29T20:24:42.467558",
     "exception": false,
     "start_time": "2022-05-29T20:24:42.385566",
     "status": "completed"
    },
    "tags": []
   },
   "outputs": [],
   "source": [
    "# Поиск наилучших параметров для модели\n",
    "\n",
    "# params ={'loss_function': ['RMSE', 'Logloss', 'MAE', 'CrossEntropy'],\n",
    "#          'iterations': [500, 1000, 2000],\n",
    "#          'depth': [5, 8, 10]\n",
    "#             }\n",
    "\n",
    "# best = []\n",
    "\n",
    "# for lossf in params.get('loss_function'):\n",
    "#     for iters in params.get('iterations'):\n",
    "#         for depth in params.get('depth'):\n",
    "#             catbst = CatBoost(params={'loss_function': lossf, 'iterations': iters, 'depth': depth})\n",
    "#             catbst.fit(df_bin_feat, y_train, silent=True)\n",
    "#             train_preds = catbst.predict(df_bin_feat, prediction_type=\"Probability\")\n",
    "#             df_ranker_predict = df_ranker_train.copy()\n",
    "#             df_ranker_predict['proba_item_purchase'] = train_preds[:,1]\n",
    "#             result_eval_ranker['own_rec'] = result_eval_ranker[USER_COL].apply(lambda x: recommender.get_own_recommendations(x, N=N_PREDICT))\n",
    "#             result_eval_ranker['reranked_own_rec'] = result_eval_ranker[USER_COL].apply(lambda user_id: rerank(user_id))\n",
    "#             best.append([sorted(calc_precision(result_eval_ranker, TOPK_PRECISION), key=lambda x: x[1], reverse=True), lossf, iters, depth])\n",
    "\n",
    "# best_result = 0\n",
    "# list_ = []\n",
    "# for item in range(len(best)):\n",
    "#     if best_result < best[item][0][0][1]:\n",
    "#         best_result = best[item][0][0][1]\n",
    "#         list_.append(best[item])\n",
    "# print(list_[-1])\n",
    "# print(best_result)\n",
    "\n",
    "# [[('reranked_own_rec', 0.27237597911227157), ('own_rec', 0.19333333333333336)], 'RMSE', 2000, 10]\n",
    "# 0.27237597911227157"
   ]
  },
  {
   "cell_type": "code",
   "execution_count": 54,
   "id": "2c6b035b",
   "metadata": {
    "execution": {
     "iopub.execute_input": "2022-05-29T20:24:42.611137Z",
     "iopub.status.busy": "2022-05-29T20:24:42.610851Z",
     "iopub.status.idle": "2022-05-29T20:24:42.614777Z",
     "shell.execute_reply": "2022-05-29T20:24:42.613719Z"
    },
    "papermill": {
     "duration": 0.078321,
     "end_time": "2022-05-29T20:24:42.616622",
     "exception": false,
     "start_time": "2022-05-29T20:24:42.538301",
     "status": "completed"
    },
    "tags": []
   },
   "outputs": [],
   "source": [
    "# train_preds = lgb.predict_proba(X_train)"
   ]
  },
  {
   "cell_type": "code",
   "execution_count": 55,
   "id": "e322c7d0",
   "metadata": {
    "execution": {
     "iopub.execute_input": "2022-05-29T20:24:42.764157Z",
     "iopub.status.busy": "2022-05-29T20:24:42.763699Z",
     "iopub.status.idle": "2022-05-29T20:24:42.776641Z",
     "shell.execute_reply": "2022-05-29T20:24:42.775868Z"
    },
    "papermill": {
     "duration": 0.092943,
     "end_time": "2022-05-29T20:24:42.780650",
     "exception": false,
     "start_time": "2022-05-29T20:24:42.687707",
     "status": "completed"
    },
    "tags": []
   },
   "outputs": [],
   "source": [
    "df_ranker_predict = df_ranker_train.copy()"
   ]
  },
  {
   "cell_type": "code",
   "execution_count": 56,
   "id": "7e5f3b79",
   "metadata": {
    "execution": {
     "iopub.execute_input": "2022-05-29T20:24:42.947734Z",
     "iopub.status.busy": "2022-05-29T20:24:42.946831Z",
     "iopub.status.idle": "2022-05-29T20:24:42.952577Z",
     "shell.execute_reply": "2022-05-29T20:24:42.951631Z"
    },
    "papermill": {
     "duration": 0.081318,
     "end_time": "2022-05-29T20:24:42.954400",
     "exception": false,
     "start_time": "2022-05-29T20:24:42.873082",
     "status": "completed"
    },
    "tags": []
   },
   "outputs": [],
   "source": [
    "df_ranker_predict['proba_item_purchase'] = train_preds[:,1]"
   ]
  },
  {
   "cell_type": "markdown",
   "id": "ee563e97",
   "metadata": {
    "papermill": {
     "duration": 0.071585,
     "end_time": "2022-05-29T20:24:43.097852",
     "exception": false,
     "start_time": "2022-05-29T20:24:43.026267",
     "status": "completed"
    },
    "tags": []
   },
   "source": [
    "# Evaluation on test dataset"
   ]
  },
  {
   "cell_type": "code",
   "execution_count": 57,
   "id": "1b83fc55",
   "metadata": {
    "execution": {
     "iopub.execute_input": "2022-05-29T20:24:43.242245Z",
     "iopub.status.busy": "2022-05-29T20:24:43.241401Z",
     "iopub.status.idle": "2022-05-29T20:24:43.344663Z",
     "shell.execute_reply": "2022-05-29T20:24:43.344055Z"
    },
    "papermill": {
     "duration": 0.177463,
     "end_time": "2022-05-29T20:24:43.346444",
     "exception": false,
     "start_time": "2022-05-29T20:24:43.168981",
     "status": "completed"
    },
    "tags": []
   },
   "outputs": [
    {
     "data": {
      "text/html": [
       "<div>\n",
       "<style scoped>\n",
       "    .dataframe tbody tr th:only-of-type {\n",
       "        vertical-align: middle;\n",
       "    }\n",
       "\n",
       "    .dataframe tbody tr th {\n",
       "        vertical-align: top;\n",
       "    }\n",
       "\n",
       "    .dataframe thead th {\n",
       "        text-align: right;\n",
       "    }\n",
       "</style>\n",
       "<table border=\"1\" class=\"dataframe\">\n",
       "  <thead>\n",
       "    <tr style=\"text-align: right;\">\n",
       "      <th></th>\n",
       "      <th>user_id</th>\n",
       "      <th>actual</th>\n",
       "    </tr>\n",
       "  </thead>\n",
       "  <tbody>\n",
       "    <tr>\n",
       "      <th>0</th>\n",
       "      <td>1</td>\n",
       "      <td>[821867, 834484, 856942, 865456, 889248, 90795...</td>\n",
       "    </tr>\n",
       "    <tr>\n",
       "      <th>1</th>\n",
       "      <td>3</td>\n",
       "      <td>[835476, 851057, 872021, 878302, 879948, 90963...</td>\n",
       "    </tr>\n",
       "  </tbody>\n",
       "</table>\n",
       "</div>"
      ],
      "text/plain": [
       "   user_id                                             actual\n",
       "0        1  [821867, 834484, 856942, 865456, 889248, 90795...\n",
       "1        3  [835476, 851057, 872021, 878302, 879948, 90963..."
      ]
     },
     "execution_count": 57,
     "metadata": {},
     "output_type": "execute_result"
    }
   ],
   "source": [
    "result_eval_ranker = data_val_ranker.groupby(USER_COL)[ITEM_COL].unique().reset_index()\n",
    "result_eval_ranker.columns=[USER_COL, ACTUAL_COL]\n",
    "result_eval_ranker.head(2)"
   ]
  },
  {
   "cell_type": "markdown",
   "id": "254b85bd",
   "metadata": {
    "papermill": {
     "duration": 0.071232,
     "end_time": "2022-05-29T20:24:43.489751",
     "exception": false,
     "start_time": "2022-05-29T20:24:43.418519",
     "status": "completed"
    },
    "tags": []
   },
   "source": [
    "## Eval matching on test dataset"
   ]
  },
  {
   "cell_type": "code",
   "execution_count": 58,
   "id": "1c60809f",
   "metadata": {
    "execution": {
     "iopub.execute_input": "2022-05-29T20:24:43.635534Z",
     "iopub.status.busy": "2022-05-29T20:24:43.635084Z",
     "iopub.status.idle": "2022-05-29T20:24:45.854910Z",
     "shell.execute_reply": "2022-05-29T20:24:45.853810Z"
    },
    "papermill": {
     "duration": 2.295539,
     "end_time": "2022-05-29T20:24:45.857132",
     "exception": false,
     "start_time": "2022-05-29T20:24:43.561593",
     "status": "completed"
    },
    "tags": []
   },
   "outputs": [
    {
     "name": "stdout",
     "output_type": "stream",
     "text": [
      "CPU times: user 2.21 s, sys: 4.74 ms, total: 2.21 s\n",
      "Wall time: 2.21 s\n"
     ]
    }
   ],
   "source": [
    "%%time\n",
    "result_eval_ranker['own_rec'] = result_eval_ranker[USER_COL].apply(lambda x: recommender.get_own_recommendations(x, N=N_PREDICT))"
   ]
  },
  {
   "cell_type": "code",
   "execution_count": 59,
   "id": "4da9e751",
   "metadata": {
    "execution": {
     "iopub.execute_input": "2022-05-29T20:24:46.002530Z",
     "iopub.status.busy": "2022-05-29T20:24:46.002190Z",
     "iopub.status.idle": "2022-05-29T20:24:46.120265Z",
     "shell.execute_reply": "2022-05-29T20:24:46.119351Z"
    },
    "papermill": {
     "duration": 0.194096,
     "end_time": "2022-05-29T20:24:46.122421",
     "exception": false,
     "start_time": "2022-05-29T20:24:45.928325",
     "status": "completed"
    },
    "tags": []
   },
   "outputs": [
    {
     "data": {
      "text/plain": [
       "[('own_rec', 0.19333333333333336)]"
      ]
     },
     "execution_count": 59,
     "metadata": {},
     "output_type": "execute_result"
    }
   ],
   "source": [
    "# померяем precision только модели матчинга, чтобы понимать влияение ранжирования на метрики\n",
    "\n",
    "sorted(calc_precision(result_eval_ranker, TOPK_PRECISION), key=lambda x: x[1], reverse=True)"
   ]
  },
  {
   "cell_type": "markdown",
   "id": "1f259f6e",
   "metadata": {
    "papermill": {
     "duration": 0.072149,
     "end_time": "2022-05-29T20:24:46.267400",
     "exception": false,
     "start_time": "2022-05-29T20:24:46.195251",
     "status": "completed"
    },
    "tags": []
   },
   "source": [
    "## Eval re-ranked matched result on test dataset\n",
    "    Вспомним df_match_candidates сет, который был получен own_recommendations на юзерах, набор пользователей мы фиксировали и он одинаков, значи и прогноз одинаков, поэтому мы можем использовать этот датафрейм для переранжирования.\n",
    "    "
   ]
  },
  {
   "cell_type": "code",
   "execution_count": 60,
   "id": "e69bd5e0",
   "metadata": {
    "execution": {
     "iopub.execute_input": "2022-05-29T20:24:46.417811Z",
     "iopub.status.busy": "2022-05-29T20:24:46.416760Z",
     "iopub.status.idle": "2022-05-29T20:24:46.421465Z",
     "shell.execute_reply": "2022-05-29T20:24:46.420801Z"
    },
    "papermill": {
     "duration": 0.079854,
     "end_time": "2022-05-29T20:24:46.423090",
     "exception": false,
     "start_time": "2022-05-29T20:24:46.343236",
     "status": "completed"
    },
    "tags": []
   },
   "outputs": [],
   "source": [
    "def rerank(user_id):\n",
    "    return df_ranker_predict[df_ranker_predict[USER_COL]==user_id].sort_values('proba_item_purchase', ascending=False).head(5).item_id.tolist()"
   ]
  },
  {
   "cell_type": "code",
   "execution_count": 61,
   "id": "5a6821cd",
   "metadata": {
    "execution": {
     "iopub.execute_input": "2022-05-29T20:24:46.569222Z",
     "iopub.status.busy": "2022-05-29T20:24:46.568293Z",
     "iopub.status.idle": "2022-05-29T20:24:48.287700Z",
     "shell.execute_reply": "2022-05-29T20:24:48.287038Z"
    },
    "papermill": {
     "duration": 1.794643,
     "end_time": "2022-05-29T20:24:48.289831",
     "exception": false,
     "start_time": "2022-05-29T20:24:46.495188",
     "status": "completed"
    },
    "tags": []
   },
   "outputs": [],
   "source": [
    "result_eval_ranker['reranked_own_rec'] = result_eval_ranker[USER_COL].apply(lambda user_id: rerank(user_id))"
   ]
  },
  {
   "cell_type": "code",
   "execution_count": 62,
   "id": "8f30ccdb",
   "metadata": {
    "execution": {
     "iopub.execute_input": "2022-05-29T20:24:48.435299Z",
     "iopub.status.busy": "2022-05-29T20:24:48.435032Z",
     "iopub.status.idle": "2022-05-29T20:24:48.610153Z",
     "shell.execute_reply": "2022-05-29T20:24:48.609170Z"
    },
    "papermill": {
     "duration": 0.25042,
     "end_time": "2022-05-29T20:24:48.612202",
     "exception": false,
     "start_time": "2022-05-29T20:24:48.361782",
     "status": "completed"
    },
    "tags": []
   },
   "outputs": [
    {
     "name": "stdout",
     "output_type": "stream",
     "text": [
      "('reranked_own_rec', 0.2742558746736293)\n",
      "('own_rec', 0.19333333333333336)\n"
     ]
    }
   ],
   "source": [
    "# смотрим на метрики выше и сравниваем что с ранжированием и без, добавляем фичи и то же смотрим\n",
    "# в первом приближении метрики должны расти с использованием второго этапа\n",
    "\n",
    "print(*sorted(calc_precision(result_eval_ranker, TOPK_PRECISION), key=lambda x: x[1], reverse=True), sep='\\n')"
   ]
  },
  {
   "cell_type": "markdown",
   "id": "46a02358",
   "metadata": {
    "papermill": {
     "duration": 0.071795,
     "end_time": "2022-05-29T20:24:48.757760",
     "exception": false,
     "start_time": "2022-05-29T20:24:48.685965",
     "status": "completed"
    },
    "tags": []
   },
   "source": [
    "# Оценка на тесте для выполнения курсового проекта"
   ]
  },
  {
   "cell_type": "code",
   "execution_count": 63,
   "id": "b48e4c4b",
   "metadata": {
    "execution": {
     "iopub.execute_input": "2022-05-29T20:24:48.905108Z",
     "iopub.status.busy": "2022-05-29T20:24:48.904801Z",
     "iopub.status.idle": "2022-05-29T20:24:48.907810Z",
     "shell.execute_reply": "2022-05-29T20:24:48.907273Z"
    },
    "papermill": {
     "duration": 0.078844,
     "end_time": "2022-05-29T20:24:48.909457",
     "exception": false,
     "start_time": "2022-05-29T20:24:48.830613",
     "status": "completed"
    },
    "tags": []
   },
   "outputs": [],
   "source": [
    "# df_transactions = pd.read_csv('../input/recommend85/transaction_data.csv')"
   ]
  },
  {
   "cell_type": "code",
   "execution_count": 64,
   "id": "155f8c67",
   "metadata": {
    "execution": {
     "iopub.execute_input": "2022-05-29T20:24:49.055766Z",
     "iopub.status.busy": "2022-05-29T20:24:49.055135Z",
     "iopub.status.idle": "2022-05-29T20:24:49.059283Z",
     "shell.execute_reply": "2022-05-29T20:24:49.058528Z"
    },
    "papermill": {
     "duration": 0.079736,
     "end_time": "2022-05-29T20:24:49.061220",
     "exception": false,
     "start_time": "2022-05-29T20:24:48.981484",
     "status": "completed"
    },
    "tags": []
   },
   "outputs": [],
   "source": [
    "# df_transactions.info()"
   ]
  },
  {
   "cell_type": "code",
   "execution_count": 65,
   "id": "193267e1",
   "metadata": {
    "execution": {
     "iopub.execute_input": "2022-05-29T20:24:49.211126Z",
     "iopub.status.busy": "2022-05-29T20:24:49.210263Z",
     "iopub.status.idle": "2022-05-29T20:24:49.327819Z",
     "shell.execute_reply": "2022-05-29T20:24:49.327202Z"
    },
    "papermill": {
     "duration": 0.194644,
     "end_time": "2022-05-29T20:24:49.329894",
     "exception": false,
     "start_time": "2022-05-29T20:24:49.135250",
     "status": "completed"
    },
    "tags": []
   },
   "outputs": [],
   "source": [
    "df_test = pd.read_csv('../input/recommend85/retail_test1.csv')"
   ]
  },
  {
   "cell_type": "code",
   "execution_count": 66,
   "id": "917c3f89",
   "metadata": {
    "execution": {
     "iopub.execute_input": "2022-05-29T20:24:49.474835Z",
     "iopub.status.busy": "2022-05-29T20:24:49.474546Z",
     "iopub.status.idle": "2022-05-29T20:24:49.568741Z",
     "shell.execute_reply": "2022-05-29T20:24:49.567764Z"
    },
    "papermill": {
     "duration": 0.16923,
     "end_time": "2022-05-29T20:24:49.570676",
     "exception": false,
     "start_time": "2022-05-29T20:24:49.401446",
     "status": "completed"
    },
    "scrolled": true,
    "tags": []
   },
   "outputs": [
    {
     "data": {
      "text/html": [
       "<div>\n",
       "<style scoped>\n",
       "    .dataframe tbody tr th:only-of-type {\n",
       "        vertical-align: middle;\n",
       "    }\n",
       "\n",
       "    .dataframe tbody tr th {\n",
       "        vertical-align: top;\n",
       "    }\n",
       "\n",
       "    .dataframe thead th {\n",
       "        text-align: right;\n",
       "    }\n",
       "</style>\n",
       "<table border=\"1\" class=\"dataframe\">\n",
       "  <thead>\n",
       "    <tr style=\"text-align: right;\">\n",
       "      <th></th>\n",
       "      <th>user_id</th>\n",
       "      <th>actual</th>\n",
       "    </tr>\n",
       "  </thead>\n",
       "  <tbody>\n",
       "    <tr>\n",
       "      <th>0</th>\n",
       "      <td>1</td>\n",
       "      <td>[880007, 883616, 931136, 938004, 940947, 94726...</td>\n",
       "    </tr>\n",
       "    <tr>\n",
       "      <th>1</th>\n",
       "      <td>2</td>\n",
       "      <td>[820165, 820291, 826784, 826835, 829009, 85784...</td>\n",
       "    </tr>\n",
       "  </tbody>\n",
       "</table>\n",
       "</div>"
      ],
      "text/plain": [
       "   user_id                                             actual\n",
       "0        1  [880007, 883616, 931136, 938004, 940947, 94726...\n",
       "1        2  [820165, 820291, 826784, 826835, 829009, 85784..."
      ]
     },
     "execution_count": 66,
     "metadata": {},
     "output_type": "execute_result"
    }
   ],
   "source": [
    "result_test = df_test.groupby(USER_COL)[ITEM_COL].unique().reset_index()\n",
    "result_test.columns=[USER_COL, ACTUAL_COL]\n",
    "result_test.head(2)"
   ]
  },
  {
   "cell_type": "markdown",
   "id": "ad675353",
   "metadata": {
    "papermill": {
     "duration": 0.073206,
     "end_time": "2022-05-29T20:24:49.716741",
     "exception": false,
     "start_time": "2022-05-29T20:24:49.643535",
     "status": "completed"
    },
    "tags": []
   },
   "source": [
    "Берем топ-k предсказаний, ранжированных по вероятности, для каждого юзера"
   ]
  },
  {
   "cell_type": "markdown",
   "id": "696d200f",
   "metadata": {
    "papermill": {
     "duration": 0.072099,
     "end_time": "2022-05-29T20:24:49.861465",
     "exception": false,
     "start_time": "2022-05-29T20:24:49.789366",
     "status": "completed"
    },
    "tags": []
   },
   "source": [
    "# Считаем precision@5 по новому тесту"
   ]
  },
  {
   "cell_type": "code",
   "execution_count": 67,
   "id": "a1c97157",
   "metadata": {
    "execution": {
     "iopub.execute_input": "2022-05-29T20:24:50.008341Z",
     "iopub.status.busy": "2022-05-29T20:24:50.008076Z",
     "iopub.status.idle": "2022-05-29T20:24:53.706898Z",
     "shell.execute_reply": "2022-05-29T20:24:53.706073Z"
    },
    "papermill": {
     "duration": 3.775373,
     "end_time": "2022-05-29T20:24:53.709143",
     "exception": false,
     "start_time": "2022-05-29T20:24:49.933770",
     "status": "completed"
    },
    "tags": []
   },
   "outputs": [],
   "source": [
    "# уберем пользователей, о которых у нас нет информации\n",
    "result_test = result_test[result_test.user_id.isin(common_users)]\n",
    "result_test['own_rec'] = result_test[USER_COL].apply(lambda x: recommender.get_own_recommendations(x, N=N_PREDICT))\n",
    "result_test['reranked_own_rec'] = result_test[USER_COL].apply(lambda user_id: rerank(user_id))"
   ]
  },
  {
   "cell_type": "code",
   "execution_count": 68,
   "id": "474879cf",
   "metadata": {
    "execution": {
     "iopub.execute_input": "2022-05-29T20:24:53.887431Z",
     "iopub.status.busy": "2022-05-29T20:24:53.886871Z",
     "iopub.status.idle": "2022-05-29T20:24:54.051537Z",
     "shell.execute_reply": "2022-05-29T20:24:54.050434Z"
    },
    "papermill": {
     "duration": 0.257744,
     "end_time": "2022-05-29T20:24:54.053693",
     "exception": false,
     "start_time": "2022-05-29T20:24:53.795949",
     "status": "completed"
    },
    "tags": []
   },
   "outputs": [
    {
     "name": "stdout",
     "output_type": "stream",
     "text": [
      "('reranked_own_rec', 0.21936936936936938)\n",
      "('own_rec', 0.16675517790759425)\n"
     ]
    }
   ],
   "source": [
    "print(*sorted(calc_precision(result_test, TOPK_PRECISION), key=lambda x: x[1], reverse=True), sep='\\n')"
   ]
  },
  {
   "cell_type": "code",
   "execution_count": 69,
   "id": "db0b5017",
   "metadata": {
    "execution": {
     "iopub.execute_input": "2022-05-29T20:24:54.203692Z",
     "iopub.status.busy": "2022-05-29T20:24:54.203399Z",
     "iopub.status.idle": "2022-05-29T20:24:54.206851Z",
     "shell.execute_reply": "2022-05-29T20:24:54.206298Z"
    },
    "papermill": {
     "duration": 0.080106,
     "end_time": "2022-05-29T20:24:54.208534",
     "exception": false,
     "start_time": "2022-05-29T20:24:54.128428",
     "status": "completed"
    },
    "tags": []
   },
   "outputs": [],
   "source": [
    "# baseline\n",
    "# ('reranked_own_rec', 0.13344594594594594)\n",
    "# ('own_rec', 0.04719065321295805)\n",
    "\n",
    "\n",
    "# feats\n",
    "# ('reranked_own_rec', 0.19605855855855858)\n",
    "# ('own_rec', 0.12278279341476367)\n",
    "\n",
    "\n",
    "# top-500\n",
    "# ('reranked_own_rec', 0.20777027027027026)\n",
    "# ('own_rec', 0.16675517790759425)\n",
    "\n",
    "\n",
    "# catboost\n",
    "# ('reranked_own_rec', 0.21621621621621623)\n",
    "# ('own_rec', 0.16675517790759425)\n",
    "\n",
    "\n",
    "# catboost + фичи\n",
    "# ('reranked_own_rec', 0.21936936936936938)\n",
    "# ('own_rec', 0.16675517790759425)"
   ]
  },
  {
   "cell_type": "markdown",
   "id": "9b395d7f",
   "metadata": {
    "papermill": {
     "duration": 0.073054,
     "end_time": "2022-05-29T20:24:54.357468",
     "exception": false,
     "start_time": "2022-05-29T20:24:54.284414",
     "status": "completed"
    },
    "tags": []
   },
   "source": [
    "### **Итоговая метрика: 0.219**\n",
    "\n",
    "1. Улучшение метрики было достигнуто с помощью:\n",
    "    - генерации новых фичей\n",
    "    - чистки фичей, которые снижали метрику precision@5\n",
    "    - уменьшения количества популярных товаров с 5000 до 500\n",
    "    - использования модели CatBoost вместо LGBMClassifier\n",
    "    - подбор параметров модели ранжирования\n",
    "\n",
    "\n",
    "2. Были испробованы варианты, но не дали хорошего результата:\n",
    "    - изменение количества отбираемых соседей (30, 100)\n",
    "    - добавление эмбеддингов товаров ALS в качестве фичей для модели ранжирования\n",
    "    - применение взвешивания матрицы с помощью tfidf_weight\n",
    "    - изменение параметров взвешивания матрицы с помощью bm25_weight (K1=200, B=0.6)"
   ]
  }
 ],
 "metadata": {
  "kernelspec": {
   "display_name": "Python 3",
   "language": "python",
   "name": "python3"
  },
  "language_info": {
   "codemirror_mode": {
    "name": "ipython",
    "version": 3
   },
   "file_extension": ".py",
   "mimetype": "text/x-python",
   "name": "python",
   "nbconvert_exporter": "python",
   "pygments_lexer": "ipython3",
   "version": "3.7.12"
  },
  "papermill": {
   "default_parameters": {},
   "duration": 516.60834,
   "end_time": "2022-05-29T20:24:55.352035",
   "environment_variables": {},
   "exception": null,
   "input_path": "__notebook__.ipynb",
   "output_path": "__notebook__.ipynb",
   "parameters": {},
   "start_time": "2022-05-29T20:16:18.743695",
   "version": "2.3.4"
  },
  "widgets": {
   "application/vnd.jupyter.widget-state+json": {
    "state": {
     "062429b0bb1e429289b5af65b6269483": {
      "model_module": "@jupyter-widgets/controls",
      "model_module_version": "1.5.0",
      "model_name": "HBoxModel",
      "state": {
       "_dom_classes": [],
       "_model_module": "@jupyter-widgets/controls",
       "_model_module_version": "1.5.0",
       "_model_name": "HBoxModel",
       "_view_count": null,
       "_view_module": "@jupyter-widgets/controls",
       "_view_module_version": "1.5.0",
       "_view_name": "HBoxView",
       "box_style": "",
       "children": [
        "IPY_MODEL_2eab6cd1b2784836931922ab169364c4",
        "IPY_MODEL_29d7f028708a4439bb6384571014b3e1",
        "IPY_MODEL_99e72c6761484b01812d67e2828a5002"
       ],
       "layout": "IPY_MODEL_0d7567ab51c74f4e8ba6f628c42ef36c"
      }
     },
     "0d7567ab51c74f4e8ba6f628c42ef36c": {
      "model_module": "@jupyter-widgets/base",
      "model_module_version": "1.2.0",
      "model_name": "LayoutModel",
      "state": {
       "_model_module": "@jupyter-widgets/base",
       "_model_module_version": "1.2.0",
       "_model_name": "LayoutModel",
       "_view_count": null,
       "_view_module": "@jupyter-widgets/base",
       "_view_module_version": "1.2.0",
       "_view_name": "LayoutView",
       "align_content": null,
       "align_items": null,
       "align_self": null,
       "border": null,
       "bottom": null,
       "display": null,
       "flex": null,
       "flex_flow": null,
       "grid_area": null,
       "grid_auto_columns": null,
       "grid_auto_flow": null,
       "grid_auto_rows": null,
       "grid_column": null,
       "grid_gap": null,
       "grid_row": null,
       "grid_template_areas": null,
       "grid_template_columns": null,
       "grid_template_rows": null,
       "height": null,
       "justify_content": null,
       "justify_items": null,
       "left": null,
       "margin": null,
       "max_height": null,
       "max_width": null,
       "min_height": null,
       "min_width": null,
       "object_fit": null,
       "object_position": null,
       "order": null,
       "overflow": null,
       "overflow_x": null,
       "overflow_y": null,
       "padding": null,
       "right": null,
       "top": null,
       "visibility": null,
       "width": null
      }
     },
     "1396d7c653de4368826ea263aa04bb5a": {
      "model_module": "@jupyter-widgets/base",
      "model_module_version": "1.2.0",
      "model_name": "LayoutModel",
      "state": {
       "_model_module": "@jupyter-widgets/base",
       "_model_module_version": "1.2.0",
       "_model_name": "LayoutModel",
       "_view_count": null,
       "_view_module": "@jupyter-widgets/base",
       "_view_module_version": "1.2.0",
       "_view_name": "LayoutView",
       "align_content": null,
       "align_items": null,
       "align_self": null,
       "border": null,
       "bottom": null,
       "display": null,
       "flex": null,
       "flex_flow": null,
       "grid_area": null,
       "grid_auto_columns": null,
       "grid_auto_flow": null,
       "grid_auto_rows": null,
       "grid_column": null,
       "grid_gap": null,
       "grid_row": null,
       "grid_template_areas": null,
       "grid_template_columns": null,
       "grid_template_rows": null,
       "height": null,
       "justify_content": null,
       "justify_items": null,
       "left": null,
       "margin": null,
       "max_height": null,
       "max_width": null,
       "min_height": null,
       "min_width": null,
       "object_fit": null,
       "object_position": null,
       "order": null,
       "overflow": null,
       "overflow_x": null,
       "overflow_y": null,
       "padding": null,
       "right": null,
       "top": null,
       "visibility": null,
       "width": null
      }
     },
     "168867ab24a943d3b1659481389307dd": {
      "model_module": "@jupyter-widgets/base",
      "model_module_version": "1.2.0",
      "model_name": "LayoutModel",
      "state": {
       "_model_module": "@jupyter-widgets/base",
       "_model_module_version": "1.2.0",
       "_model_name": "LayoutModel",
       "_view_count": null,
       "_view_module": "@jupyter-widgets/base",
       "_view_module_version": "1.2.0",
       "_view_name": "LayoutView",
       "align_content": null,
       "align_items": null,
       "align_self": null,
       "border": null,
       "bottom": null,
       "display": null,
       "flex": null,
       "flex_flow": null,
       "grid_area": null,
       "grid_auto_columns": null,
       "grid_auto_flow": null,
       "grid_auto_rows": null,
       "grid_column": null,
       "grid_gap": null,
       "grid_row": null,
       "grid_template_areas": null,
       "grid_template_columns": null,
       "grid_template_rows": null,
       "height": null,
       "justify_content": null,
       "justify_items": null,
       "left": null,
       "margin": null,
       "max_height": null,
       "max_width": null,
       "min_height": null,
       "min_width": null,
       "object_fit": null,
       "object_position": null,
       "order": null,
       "overflow": null,
       "overflow_x": null,
       "overflow_y": null,
       "padding": null,
       "right": null,
       "top": null,
       "visibility": null,
       "width": null
      }
     },
     "174dd437da1a4d7cba17644792dc0afe": {
      "model_module": "@jupyter-widgets/controls",
      "model_module_version": "1.5.0",
      "model_name": "HTMLModel",
      "state": {
       "_dom_classes": [],
       "_model_module": "@jupyter-widgets/controls",
       "_model_module_version": "1.5.0",
       "_model_name": "HTMLModel",
       "_view_count": null,
       "_view_module": "@jupyter-widgets/controls",
       "_view_module_version": "1.5.0",
       "_view_name": "HTMLView",
       "description": "",
       "description_tooltip": null,
       "layout": "IPY_MODEL_168867ab24a943d3b1659481389307dd",
       "placeholder": "​",
       "style": "IPY_MODEL_48bf3b28d0e846eaa8290364ccb75615",
       "value": "100%"
      }
     },
     "29d7f028708a4439bb6384571014b3e1": {
      "model_module": "@jupyter-widgets/controls",
      "model_module_version": "1.5.0",
      "model_name": "FloatProgressModel",
      "state": {
       "_dom_classes": [],
       "_model_module": "@jupyter-widgets/controls",
       "_model_module_version": "1.5.0",
       "_model_name": "FloatProgressModel",
       "_view_count": null,
       "_view_module": "@jupyter-widgets/controls",
       "_view_module_version": "1.5.0",
       "_view_name": "ProgressView",
       "bar_style": "success",
       "description": "",
       "description_tooltip": null,
       "layout": "IPY_MODEL_d5f6604c16f74e5aae4cb9100432e996",
       "max": 15.0,
       "min": 0.0,
       "orientation": "horizontal",
       "style": "IPY_MODEL_c402051092ae449f8027f586c6979561",
       "value": 15.0
      }
     },
     "2eab6cd1b2784836931922ab169364c4": {
      "model_module": "@jupyter-widgets/controls",
      "model_module_version": "1.5.0",
      "model_name": "HTMLModel",
      "state": {
       "_dom_classes": [],
       "_model_module": "@jupyter-widgets/controls",
       "_model_module_version": "1.5.0",
       "_model_name": "HTMLModel",
       "_view_count": null,
       "_view_module": "@jupyter-widgets/controls",
       "_view_module_version": "1.5.0",
       "_view_name": "HTMLView",
       "description": "",
       "description_tooltip": null,
       "layout": "IPY_MODEL_e97c08244e50490b9a642d577271ef2f",
       "placeholder": "​",
       "style": "IPY_MODEL_70c4ec96e12844c49075077d330a4e44",
       "value": "100%"
      }
     },
     "2f84d54eb9e94e9e94e5a0f6d39d64f2": {
      "model_module": "@jupyter-widgets/controls",
      "model_module_version": "1.5.0",
      "model_name": "ProgressStyleModel",
      "state": {
       "_model_module": "@jupyter-widgets/controls",
       "_model_module_version": "1.5.0",
       "_model_name": "ProgressStyleModel",
       "_view_count": null,
       "_view_module": "@jupyter-widgets/base",
       "_view_module_version": "1.2.0",
       "_view_name": "StyleView",
       "bar_color": null,
       "description_width": ""
      }
     },
     "33db427076764fd59529f4827a79754e": {
      "model_module": "@jupyter-widgets/controls",
      "model_module_version": "1.5.0",
      "model_name": "DescriptionStyleModel",
      "state": {
       "_model_module": "@jupyter-widgets/controls",
       "_model_module_version": "1.5.0",
       "_model_name": "DescriptionStyleModel",
       "_view_count": null,
       "_view_module": "@jupyter-widgets/base",
       "_view_module_version": "1.2.0",
       "_view_name": "StyleView",
       "description_width": ""
      }
     },
     "48bf3b28d0e846eaa8290364ccb75615": {
      "model_module": "@jupyter-widgets/controls",
      "model_module_version": "1.5.0",
      "model_name": "DescriptionStyleModel",
      "state": {
       "_model_module": "@jupyter-widgets/controls",
       "_model_module_version": "1.5.0",
       "_model_name": "DescriptionStyleModel",
       "_view_count": null,
       "_view_module": "@jupyter-widgets/base",
       "_view_module_version": "1.2.0",
       "_view_name": "StyleView",
       "description_width": ""
      }
     },
     "60ce8a4b4cd7492d9c1f0577e4f4aac7": {
      "model_module": "@jupyter-widgets/controls",
      "model_module_version": "1.5.0",
      "model_name": "HBoxModel",
      "state": {
       "_dom_classes": [],
       "_model_module": "@jupyter-widgets/controls",
       "_model_module_version": "1.5.0",
       "_model_name": "HBoxModel",
       "_view_count": null,
       "_view_module": "@jupyter-widgets/controls",
       "_view_module_version": "1.5.0",
       "_view_name": "HBoxView",
       "box_style": "",
       "children": [
        "IPY_MODEL_174dd437da1a4d7cba17644792dc0afe",
        "IPY_MODEL_c91300954e3a414499d05a2840bcb17f",
        "IPY_MODEL_9d4315af520a49ccb67657ad0dae665f"
       ],
       "layout": "IPY_MODEL_e87b485036934aa8a70a1df9aa8509d4"
      }
     },
     "70c4ec96e12844c49075077d330a4e44": {
      "model_module": "@jupyter-widgets/controls",
      "model_module_version": "1.5.0",
      "model_name": "DescriptionStyleModel",
      "state": {
       "_model_module": "@jupyter-widgets/controls",
       "_model_module_version": "1.5.0",
       "_model_name": "DescriptionStyleModel",
       "_view_count": null,
       "_view_module": "@jupyter-widgets/base",
       "_view_module_version": "1.2.0",
       "_view_name": "StyleView",
       "description_width": ""
      }
     },
     "84202a2c52db43f2bfbaaeec8e18b7f0": {
      "model_module": "@jupyter-widgets/controls",
      "model_module_version": "1.5.0",
      "model_name": "DescriptionStyleModel",
      "state": {
       "_model_module": "@jupyter-widgets/controls",
       "_model_module_version": "1.5.0",
       "_model_name": "DescriptionStyleModel",
       "_view_count": null,
       "_view_module": "@jupyter-widgets/base",
       "_view_module_version": "1.2.0",
       "_view_name": "StyleView",
       "description_width": ""
      }
     },
     "8d2edd93f0a14d0caa6a8eee85bf604a": {
      "model_module": "@jupyter-widgets/base",
      "model_module_version": "1.2.0",
      "model_name": "LayoutModel",
      "state": {
       "_model_module": "@jupyter-widgets/base",
       "_model_module_version": "1.2.0",
       "_model_name": "LayoutModel",
       "_view_count": null,
       "_view_module": "@jupyter-widgets/base",
       "_view_module_version": "1.2.0",
       "_view_name": "LayoutView",
       "align_content": null,
       "align_items": null,
       "align_self": null,
       "border": null,
       "bottom": null,
       "display": null,
       "flex": null,
       "flex_flow": null,
       "grid_area": null,
       "grid_auto_columns": null,
       "grid_auto_flow": null,
       "grid_auto_rows": null,
       "grid_column": null,
       "grid_gap": null,
       "grid_row": null,
       "grid_template_areas": null,
       "grid_template_columns": null,
       "grid_template_rows": null,
       "height": null,
       "justify_content": null,
       "justify_items": null,
       "left": null,
       "margin": null,
       "max_height": null,
       "max_width": null,
       "min_height": null,
       "min_width": null,
       "object_fit": null,
       "object_position": null,
       "order": null,
       "overflow": null,
       "overflow_x": null,
       "overflow_y": null,
       "padding": null,
       "right": null,
       "top": null,
       "visibility": null,
       "width": null
      }
     },
     "99e72c6761484b01812d67e2828a5002": {
      "model_module": "@jupyter-widgets/controls",
      "model_module_version": "1.5.0",
      "model_name": "HTMLModel",
      "state": {
       "_dom_classes": [],
       "_model_module": "@jupyter-widgets/controls",
       "_model_module_version": "1.5.0",
       "_model_name": "HTMLModel",
       "_view_count": null,
       "_view_module": "@jupyter-widgets/controls",
       "_view_module_version": "1.5.0",
       "_view_name": "HTMLView",
       "description": "",
       "description_tooltip": null,
       "layout": "IPY_MODEL_8d2edd93f0a14d0caa6a8eee85bf604a",
       "placeholder": "​",
       "style": "IPY_MODEL_33db427076764fd59529f4827a79754e",
       "value": " 15/15 [00:02&lt;00:00,  6.54it/s]"
      }
     },
     "9d4315af520a49ccb67657ad0dae665f": {
      "model_module": "@jupyter-widgets/controls",
      "model_module_version": "1.5.0",
      "model_name": "HTMLModel",
      "state": {
       "_dom_classes": [],
       "_model_module": "@jupyter-widgets/controls",
       "_model_module_version": "1.5.0",
       "_model_name": "HTMLModel",
       "_view_count": null,
       "_view_module": "@jupyter-widgets/controls",
       "_view_module_version": "1.5.0",
       "_view_name": "HTMLView",
       "description": "",
       "description_tooltip": null,
       "layout": "IPY_MODEL_1396d7c653de4368826ea263aa04bb5a",
       "placeholder": "​",
       "style": "IPY_MODEL_84202a2c52db43f2bfbaaeec8e18b7f0",
       "value": " 501/501 [00:00&lt;00:00, 5201.51it/s]"
      }
     },
     "c402051092ae449f8027f586c6979561": {
      "model_module": "@jupyter-widgets/controls",
      "model_module_version": "1.5.0",
      "model_name": "ProgressStyleModel",
      "state": {
       "_model_module": "@jupyter-widgets/controls",
       "_model_module_version": "1.5.0",
       "_model_name": "ProgressStyleModel",
       "_view_count": null,
       "_view_module": "@jupyter-widgets/base",
       "_view_module_version": "1.2.0",
       "_view_name": "StyleView",
       "bar_color": null,
       "description_width": ""
      }
     },
     "c91300954e3a414499d05a2840bcb17f": {
      "model_module": "@jupyter-widgets/controls",
      "model_module_version": "1.5.0",
      "model_name": "FloatProgressModel",
      "state": {
       "_dom_classes": [],
       "_model_module": "@jupyter-widgets/controls",
       "_model_module_version": "1.5.0",
       "_model_name": "FloatProgressModel",
       "_view_count": null,
       "_view_module": "@jupyter-widgets/controls",
       "_view_module_version": "1.5.0",
       "_view_name": "ProgressView",
       "bar_style": "success",
       "description": "",
       "description_tooltip": null,
       "layout": "IPY_MODEL_e80aa7c95e584a009445fb032799011f",
       "max": 501.0,
       "min": 0.0,
       "orientation": "horizontal",
       "style": "IPY_MODEL_2f84d54eb9e94e9e94e5a0f6d39d64f2",
       "value": 501.0
      }
     },
     "d5f6604c16f74e5aae4cb9100432e996": {
      "model_module": "@jupyter-widgets/base",
      "model_module_version": "1.2.0",
      "model_name": "LayoutModel",
      "state": {
       "_model_module": "@jupyter-widgets/base",
       "_model_module_version": "1.2.0",
       "_model_name": "LayoutModel",
       "_view_count": null,
       "_view_module": "@jupyter-widgets/base",
       "_view_module_version": "1.2.0",
       "_view_name": "LayoutView",
       "align_content": null,
       "align_items": null,
       "align_self": null,
       "border": null,
       "bottom": null,
       "display": null,
       "flex": null,
       "flex_flow": null,
       "grid_area": null,
       "grid_auto_columns": null,
       "grid_auto_flow": null,
       "grid_auto_rows": null,
       "grid_column": null,
       "grid_gap": null,
       "grid_row": null,
       "grid_template_areas": null,
       "grid_template_columns": null,
       "grid_template_rows": null,
       "height": null,
       "justify_content": null,
       "justify_items": null,
       "left": null,
       "margin": null,
       "max_height": null,
       "max_width": null,
       "min_height": null,
       "min_width": null,
       "object_fit": null,
       "object_position": null,
       "order": null,
       "overflow": null,
       "overflow_x": null,
       "overflow_y": null,
       "padding": null,
       "right": null,
       "top": null,
       "visibility": null,
       "width": null
      }
     },
     "e80aa7c95e584a009445fb032799011f": {
      "model_module": "@jupyter-widgets/base",
      "model_module_version": "1.2.0",
      "model_name": "LayoutModel",
      "state": {
       "_model_module": "@jupyter-widgets/base",
       "_model_module_version": "1.2.0",
       "_model_name": "LayoutModel",
       "_view_count": null,
       "_view_module": "@jupyter-widgets/base",
       "_view_module_version": "1.2.0",
       "_view_name": "LayoutView",
       "align_content": null,
       "align_items": null,
       "align_self": null,
       "border": null,
       "bottom": null,
       "display": null,
       "flex": null,
       "flex_flow": null,
       "grid_area": null,
       "grid_auto_columns": null,
       "grid_auto_flow": null,
       "grid_auto_rows": null,
       "grid_column": null,
       "grid_gap": null,
       "grid_row": null,
       "grid_template_areas": null,
       "grid_template_columns": null,
       "grid_template_rows": null,
       "height": null,
       "justify_content": null,
       "justify_items": null,
       "left": null,
       "margin": null,
       "max_height": null,
       "max_width": null,
       "min_height": null,
       "min_width": null,
       "object_fit": null,
       "object_position": null,
       "order": null,
       "overflow": null,
       "overflow_x": null,
       "overflow_y": null,
       "padding": null,
       "right": null,
       "top": null,
       "visibility": null,
       "width": null
      }
     },
     "e87b485036934aa8a70a1df9aa8509d4": {
      "model_module": "@jupyter-widgets/base",
      "model_module_version": "1.2.0",
      "model_name": "LayoutModel",
      "state": {
       "_model_module": "@jupyter-widgets/base",
       "_model_module_version": "1.2.0",
       "_model_name": "LayoutModel",
       "_view_count": null,
       "_view_module": "@jupyter-widgets/base",
       "_view_module_version": "1.2.0",
       "_view_name": "LayoutView",
       "align_content": null,
       "align_items": null,
       "align_self": null,
       "border": null,
       "bottom": null,
       "display": null,
       "flex": null,
       "flex_flow": null,
       "grid_area": null,
       "grid_auto_columns": null,
       "grid_auto_flow": null,
       "grid_auto_rows": null,
       "grid_column": null,
       "grid_gap": null,
       "grid_row": null,
       "grid_template_areas": null,
       "grid_template_columns": null,
       "grid_template_rows": null,
       "height": null,
       "justify_content": null,
       "justify_items": null,
       "left": null,
       "margin": null,
       "max_height": null,
       "max_width": null,
       "min_height": null,
       "min_width": null,
       "object_fit": null,
       "object_position": null,
       "order": null,
       "overflow": null,
       "overflow_x": null,
       "overflow_y": null,
       "padding": null,
       "right": null,
       "top": null,
       "visibility": null,
       "width": null
      }
     },
     "e97c08244e50490b9a642d577271ef2f": {
      "model_module": "@jupyter-widgets/base",
      "model_module_version": "1.2.0",
      "model_name": "LayoutModel",
      "state": {
       "_model_module": "@jupyter-widgets/base",
       "_model_module_version": "1.2.0",
       "_model_name": "LayoutModel",
       "_view_count": null,
       "_view_module": "@jupyter-widgets/base",
       "_view_module_version": "1.2.0",
       "_view_name": "LayoutView",
       "align_content": null,
       "align_items": null,
       "align_self": null,
       "border": null,
       "bottom": null,
       "display": null,
       "flex": null,
       "flex_flow": null,
       "grid_area": null,
       "grid_auto_columns": null,
       "grid_auto_flow": null,
       "grid_auto_rows": null,
       "grid_column": null,
       "grid_gap": null,
       "grid_row": null,
       "grid_template_areas": null,
       "grid_template_columns": null,
       "grid_template_rows": null,
       "height": null,
       "justify_content": null,
       "justify_items": null,
       "left": null,
       "margin": null,
       "max_height": null,
       "max_width": null,
       "min_height": null,
       "min_width": null,
       "object_fit": null,
       "object_position": null,
       "order": null,
       "overflow": null,
       "overflow_x": null,
       "overflow_y": null,
       "padding": null,
       "right": null,
       "top": null,
       "visibility": null,
       "width": null
      }
     }
    },
    "version_major": 2,
    "version_minor": 0
   }
  }
 },
 "nbformat": 4,
 "nbformat_minor": 5
}
