{
 "cells": [
  {
   "cell_type": "markdown",
   "id": "8b1ec803",
   "metadata": {
    "papermill": {
     "duration": 0.089998,
     "end_time": "2022-05-08T19:43:58.807157",
     "exception": false,
     "start_time": "2022-05-08T19:43:58.717159",
     "status": "completed"
    },
    "tags": []
   },
   "source": [
    "# Вебинар 6. Двухуровневые модели рекомендаций\n"
   ]
  },
  {
   "cell_type": "markdown",
   "id": "f39dcbdd",
   "metadata": {
    "papermill": {
     "duration": 0.090237,
     "end_time": "2022-05-08T19:43:58.989071",
     "exception": false,
     "start_time": "2022-05-08T19:43:58.898834",
     "status": "completed"
    },
    "tags": []
   },
   "source": [
    "### Зачем 2 уровня?\n",
    "- Классические модели классификации (lightgbm) зачастую работают лучше, чем рекоммендательные модели (als, lightfm)\n",
    "- Данных много, предсказаний много (# items * # users) --> с таким объемом lightgbm не справляется\n",
    "- Но рекомендательные модели справляются!\n",
    "\n",
    "Отбираем top-N (200) *кандидатов* с помощью простой модели (als) --> переранжируем их сложной моделью (lightgbm)\n",
    "и выберем top-k (10)."
   ]
  },
  {
   "cell_type": "markdown",
   "id": "ea8d5a60",
   "metadata": {
    "papermill": {
     "duration": 0.089413,
     "end_time": "2022-05-08T19:43:59.167635",
     "exception": false,
     "start_time": "2022-05-08T19:43:59.078222",
     "status": "completed"
    },
    "tags": []
   },
   "source": [
    "---"
   ]
  },
  {
   "cell_type": "markdown",
   "id": "3b841407",
   "metadata": {
    "papermill": {
     "duration": 0.088601,
     "end_time": "2022-05-08T19:43:59.345412",
     "exception": false,
     "start_time": "2022-05-08T19:43:59.256811",
     "status": "completed"
    },
    "tags": []
   },
   "source": [
    "### Как отбирать кандидатов?\n",
    "\n",
    "Вариантов множество. Тут нам поможет *MainRecommender*. Пока в нем реализованы далеко не все возможные способы генерации кандидатов\n",
    "\n",
    "- Генерируем топ-k кандидатов\n",
    "- Качество кандидатов измеряем через **recall@k**\n",
    "- recall@k показывает какую долю из купленных товаров мы смогли выявить (рекомендовать) нашей моделью"
   ]
  },
  {
   "cell_type": "markdown",
   "id": "a2a74403",
   "metadata": {
    "papermill": {
     "duration": 0.093669,
     "end_time": "2022-05-08T19:43:59.527979",
     "exception": false,
     "start_time": "2022-05-08T19:43:59.434310",
     "status": "completed"
    },
    "tags": []
   },
   "source": [
    "----"
   ]
  },
  {
   "cell_type": "markdown",
   "id": "dfea305e",
   "metadata": {
    "papermill": {
     "duration": 0.092235,
     "end_time": "2022-05-08T19:43:59.711389",
     "exception": false,
     "start_time": "2022-05-08T19:43:59.619154",
     "status": "completed"
    },
    "tags": []
   },
   "source": [
    "# Практическая часть"
   ]
  },
  {
   "cell_type": "markdown",
   "id": "ed83ca18",
   "metadata": {
    "papermill": {
     "duration": 0.092578,
     "end_time": "2022-05-08T19:43:59.894713",
     "exception": false,
     "start_time": "2022-05-08T19:43:59.802135",
     "status": "completed"
    },
    "tags": []
   },
   "source": [
    "# Import libs"
   ]
  },
  {
   "cell_type": "code",
   "execution_count": 1,
   "id": "7c269096",
   "metadata": {
    "execution": {
     "iopub.execute_input": "2022-05-08T19:44:00.078932Z",
     "iopub.status.busy": "2022-05-08T19:44:00.078327Z",
     "iopub.status.idle": "2022-05-08T19:44:02.218859Z",
     "shell.execute_reply": "2022-05-08T19:44:02.218120Z"
    },
    "papermill": {
     "duration": 2.235708,
     "end_time": "2022-05-08T19:44:02.221084",
     "exception": false,
     "start_time": "2022-05-08T19:43:59.985376",
     "status": "completed"
    },
    "tags": []
   },
   "outputs": [
    {
     "data": {
      "text/html": [
       "<style type='text/css'>\n",
       ".datatable table.frame { margin-bottom: 0; }\n",
       ".datatable table.frame thead { border-bottom: none; }\n",
       ".datatable table.frame tr.coltypes td {  color: #FFFFFF;  line-height: 6px;  padding: 0 0.5em;}\n",
       ".datatable .bool    { background: #DDDD99; }\n",
       ".datatable .object  { background: #565656; }\n",
       ".datatable .int     { background: #5D9E5D; }\n",
       ".datatable .float   { background: #4040CC; }\n",
       ".datatable .str     { background: #CC4040; }\n",
       ".datatable .time    { background: #40CC40; }\n",
       ".datatable .row_index {  background: var(--jp-border-color3);  border-right: 1px solid var(--jp-border-color0);  color: var(--jp-ui-font-color3);  font-size: 9px;}\n",
       ".datatable .frame tbody td { text-align: left; }\n",
       ".datatable .frame tr.coltypes .row_index {  background: var(--jp-border-color0);}\n",
       ".datatable th:nth-child(2) { padding-left: 12px; }\n",
       ".datatable .hellipsis {  color: var(--jp-cell-editor-border-color);}\n",
       ".datatable .vellipsis {  background: var(--jp-layout-color0);  color: var(--jp-cell-editor-border-color);}\n",
       ".datatable .na {  color: var(--jp-cell-editor-border-color);  font-size: 80%;}\n",
       ".datatable .sp {  opacity: 0.25;}\n",
       ".datatable .footer { font-size: 9px; }\n",
       ".datatable .frame_dimensions {  background: var(--jp-border-color3);  border-top: 1px solid var(--jp-border-color0);  color: var(--jp-ui-font-color3);  display: inline-block;  opacity: 0.6;  padding: 1px 10px 1px 5px;}\n",
       "</style>\n"
      ],
      "text/plain": [
       "<IPython.core.display.HTML object>"
      ]
     },
     "metadata": {},
     "output_type": "display_data"
    }
   ],
   "source": [
    "import pandas as pd\n",
    "import numpy as np\n",
    "import matplotlib.pyplot as plt\n",
    "%matplotlib inline\n",
    "\n",
    "import time\n",
    "\n",
    "# Для работы с матрицами\n",
    "from scipy.sparse import csr_matrix\n",
    "\n",
    "# Матричная факторизация\n",
    "from implicit import als\n",
    "\n",
    "# Модель второго уровня\n",
    "from lightgbm import LGBMClassifier\n",
    "\n",
    "import os, sys\n",
    "module_path = os.path.abspath(os.path.join(os.pardir))\n",
    "if module_path not in sys.path:\n",
    "    sys.path.append(module_path)\n",
    "\n",
    "# # Написанные нами функции\n",
    "# from metrics import precision_at_k, recall_at_k\n",
    "# from utils import prefilter_items\n",
    "# from recommenders import MainRecommender\n",
    "\n",
    "# import module we'll need to import our custom module\n",
    "from shutil import copyfile\n",
    "\n",
    "# copy our file into the working directory (make sure it has .py suffix)\n",
    "copyfile(src = \"../input/recommend7/metrics.py\", dst = \"../working/metrics.py\")\n",
    "copyfile(src = \"../input/recommend7/utils.py\", dst = \"../working/utils.py\")\n",
    "copyfile(src = \"../input/recommend7/recommenders.py\", dst = \"../working/recommenders.py\")\n",
    "\n",
    "# import all our functions\n",
    "from metrics import precision_at_k, recall_at_k\n",
    "from utils import prefilter_items\n",
    "from recommenders import MainRecommender"
   ]
  },
  {
   "cell_type": "markdown",
   "id": "34a15025",
   "metadata": {
    "papermill": {
     "duration": 0.089058,
     "end_time": "2022-05-08T19:44:02.400734",
     "exception": false,
     "start_time": "2022-05-08T19:44:02.311676",
     "status": "completed"
    },
    "tags": []
   },
   "source": [
    "## Read data"
   ]
  },
  {
   "cell_type": "code",
   "execution_count": 2,
   "id": "38227c08",
   "metadata": {
    "execution": {
     "iopub.execute_input": "2022-05-08T19:44:02.583650Z",
     "iopub.status.busy": "2022-05-08T19:44:02.583341Z",
     "iopub.status.idle": "2022-05-08T19:44:05.961301Z",
     "shell.execute_reply": "2022-05-08T19:44:05.960564Z"
    },
    "papermill": {
     "duration": 3.470097,
     "end_time": "2022-05-08T19:44:05.963860",
     "exception": false,
     "start_time": "2022-05-08T19:44:02.493763",
     "status": "completed"
    },
    "tags": []
   },
   "outputs": [],
   "source": [
    "data = pd.read_csv('../input/recommend7/retail_train.csv')\n",
    "item_features = pd.read_csv('../input/recommend7/product.csv')\n",
    "user_features = pd.read_csv('../input/recommend7/hh_demographic.csv')"
   ]
  },
  {
   "cell_type": "markdown",
   "id": "f7ad5f35",
   "metadata": {
    "papermill": {
     "duration": 0.089047,
     "end_time": "2022-05-08T19:44:06.142065",
     "exception": false,
     "start_time": "2022-05-08T19:44:06.053018",
     "status": "completed"
    },
    "tags": []
   },
   "source": [
    "# Process features dataset"
   ]
  },
  {
   "cell_type": "code",
   "execution_count": 3,
   "id": "d1ab2569",
   "metadata": {
    "execution": {
     "iopub.execute_input": "2022-05-08T19:44:06.326033Z",
     "iopub.status.busy": "2022-05-08T19:44:06.325759Z",
     "iopub.status.idle": "2022-05-08T19:44:06.329468Z",
     "shell.execute_reply": "2022-05-08T19:44:06.328582Z"
    },
    "papermill": {
     "duration": 0.099569,
     "end_time": "2022-05-08T19:44:06.331472",
     "exception": false,
     "start_time": "2022-05-08T19:44:06.231903",
     "status": "completed"
    },
    "tags": []
   },
   "outputs": [],
   "source": [
    "ITEM_COL = 'item_id'\n",
    "USER_COL = 'user_id'"
   ]
  },
  {
   "cell_type": "code",
   "execution_count": 4,
   "id": "04c92784",
   "metadata": {
    "execution": {
     "iopub.execute_input": "2022-05-08T19:44:06.520452Z",
     "iopub.status.busy": "2022-05-08T19:44:06.520196Z",
     "iopub.status.idle": "2022-05-08T19:44:06.531922Z",
     "shell.execute_reply": "2022-05-08T19:44:06.531016Z"
    },
    "papermill": {
     "duration": 0.106177,
     "end_time": "2022-05-08T19:44:06.533942",
     "exception": false,
     "start_time": "2022-05-08T19:44:06.427765",
     "status": "completed"
    },
    "tags": []
   },
   "outputs": [],
   "source": [
    "# column processing\n",
    "item_features.columns = [col.lower() for col in item_features.columns]\n",
    "user_features.columns = [col.lower() for col in user_features.columns]\n",
    "\n",
    "item_features.rename(columns={'product_id': ITEM_COL}, inplace=True)\n",
    "user_features.rename(columns={'household_key': USER_COL }, inplace=True)"
   ]
  },
  {
   "cell_type": "markdown",
   "id": "4b982347",
   "metadata": {
    "papermill": {
     "duration": 0.088596,
     "end_time": "2022-05-08T19:44:06.712696",
     "exception": false,
     "start_time": "2022-05-08T19:44:06.624100",
     "status": "completed"
    },
    "tags": []
   },
   "source": [
    "# Split dataset for train, eval, test"
   ]
  },
  {
   "cell_type": "code",
   "execution_count": 5,
   "id": "85904fcb",
   "metadata": {
    "execution": {
     "iopub.execute_input": "2022-05-08T19:44:06.893639Z",
     "iopub.status.busy": "2022-05-08T19:44:06.893334Z",
     "iopub.status.idle": "2022-05-08T19:44:06.897603Z",
     "shell.execute_reply": "2022-05-08T19:44:06.896598Z"
    },
    "papermill": {
     "duration": 0.097228,
     "end_time": "2022-05-08T19:44:06.899604",
     "exception": false,
     "start_time": "2022-05-08T19:44:06.802376",
     "status": "completed"
    },
    "tags": []
   },
   "outputs": [],
   "source": [
    "# Важна схема обучения и валидации!\n",
    "# -- давние покупки -- | -- 6 недель -- | -- 3 недель -- \n",
    "# подобрать размер 2-ого датасета (6 недель) --> learning curve (зависимость метрики recall@k от размера датасета)\n",
    "\n",
    "\n",
    "VAL_MATCHER_WEEKS = 6\n",
    "VAL_RANKER_WEEKS = 3"
   ]
  },
  {
   "cell_type": "code",
   "execution_count": 6,
   "id": "5d983163",
   "metadata": {
    "execution": {
     "iopub.execute_input": "2022-05-08T19:44:07.079993Z",
     "iopub.status.busy": "2022-05-08T19:44:07.079732Z",
     "iopub.status.idle": "2022-05-08T19:44:07.258586Z",
     "shell.execute_reply": "2022-05-08T19:44:07.257694Z"
    },
    "papermill": {
     "duration": 0.271557,
     "end_time": "2022-05-08T19:44:07.260974",
     "exception": false,
     "start_time": "2022-05-08T19:44:06.989417",
     "status": "completed"
    },
    "scrolled": true,
    "tags": []
   },
   "outputs": [],
   "source": [
    "# берем данные для тренировки matching модели\n",
    "data_train_matcher = data[data['week_no'] < data['week_no'].max() - (VAL_MATCHER_WEEKS + VAL_RANKER_WEEKS)]\n",
    "\n",
    "# берем данные для валидации matching модели\n",
    "data_val_matcher = data[(data['week_no'] >= data['week_no'].max() - (VAL_MATCHER_WEEKS + VAL_RANKER_WEEKS)) &\n",
    "                      (data['week_no'] < data['week_no'].max() - (VAL_RANKER_WEEKS))]\n",
    "\n",
    "\n",
    "# берем данные для тренировки ranking модели\n",
    "data_train_ranker = data_val_matcher.copy()  # Для наглядности. Далее мы добавим изменения, и они будут отличаться\n",
    "\n",
    "# берем данные для теста ranking, matching модели\n",
    "data_val_ranker = data[data['week_no'] >= data['week_no'].max() - VAL_RANKER_WEEKS]"
   ]
  },
  {
   "cell_type": "code",
   "execution_count": 7,
   "id": "17f61e85",
   "metadata": {
    "execution": {
     "iopub.execute_input": "2022-05-08T19:44:07.441606Z",
     "iopub.status.busy": "2022-05-08T19:44:07.440973Z",
     "iopub.status.idle": "2022-05-08T19:44:07.445925Z",
     "shell.execute_reply": "2022-05-08T19:44:07.445199Z"
    },
    "papermill": {
     "duration": 0.096929,
     "end_time": "2022-05-08T19:44:07.447735",
     "exception": false,
     "start_time": "2022-05-08T19:44:07.350806",
     "status": "completed"
    },
    "tags": []
   },
   "outputs": [],
   "source": [
    "def print_stats_data(df_data, name_df):\n",
    "    print(name_df)\n",
    "    print(f\"Shape: {df_data.shape} Users: {df_data[USER_COL].nunique()} Items: {df_data[ITEM_COL].nunique()}\")"
   ]
  },
  {
   "cell_type": "code",
   "execution_count": 8,
   "id": "12295484",
   "metadata": {
    "execution": {
     "iopub.execute_input": "2022-05-08T19:44:07.629953Z",
     "iopub.status.busy": "2022-05-08T19:44:07.629690Z",
     "iopub.status.idle": "2022-05-08T19:44:07.698634Z",
     "shell.execute_reply": "2022-05-08T19:44:07.698021Z"
    },
    "papermill": {
     "duration": 0.16105,
     "end_time": "2022-05-08T19:44:07.700770",
     "exception": false,
     "start_time": "2022-05-08T19:44:07.539720",
     "status": "completed"
    },
    "scrolled": true,
    "tags": []
   },
   "outputs": [
    {
     "name": "stdout",
     "output_type": "stream",
     "text": [
      "train_matcher\n",
      "Shape: (2108779, 12) Users: 2498 Items: 83685\n",
      "val_matcher\n",
      "Shape: (169711, 12) Users: 2154 Items: 27649\n",
      "train_ranker\n",
      "Shape: (169711, 12) Users: 2154 Items: 27649\n",
      "val_ranker\n",
      "Shape: (118314, 12) Users: 2042 Items: 24329\n"
     ]
    }
   ],
   "source": [
    "print_stats_data(data_train_matcher,'train_matcher')\n",
    "print_stats_data(data_val_matcher,'val_matcher')\n",
    "print_stats_data(data_train_ranker,'train_ranker')\n",
    "print_stats_data(data_val_ranker,'val_ranker')"
   ]
  },
  {
   "cell_type": "code",
   "execution_count": 9,
   "id": "41b69c01",
   "metadata": {
    "execution": {
     "iopub.execute_input": "2022-05-08T19:44:07.880314Z",
     "iopub.status.busy": "2022-05-08T19:44:07.880066Z",
     "iopub.status.idle": "2022-05-08T19:44:07.883194Z",
     "shell.execute_reply": "2022-05-08T19:44:07.882636Z"
    },
    "papermill": {
     "duration": 0.095229,
     "end_time": "2022-05-08T19:44:07.884788",
     "exception": false,
     "start_time": "2022-05-08T19:44:07.789559",
     "status": "completed"
    },
    "tags": []
   },
   "outputs": [],
   "source": [
    "# выше видим разброс по пользователям и товарам"
   ]
  },
  {
   "cell_type": "code",
   "execution_count": 10,
   "id": "2470ad10",
   "metadata": {
    "execution": {
     "iopub.execute_input": "2022-05-08T19:44:08.067019Z",
     "iopub.status.busy": "2022-05-08T19:44:08.066722Z",
     "iopub.status.idle": "2022-05-08T19:44:08.083880Z",
     "shell.execute_reply": "2022-05-08T19:44:08.083073Z"
    },
    "papermill": {
     "duration": 0.110101,
     "end_time": "2022-05-08T19:44:08.085819",
     "exception": false,
     "start_time": "2022-05-08T19:44:07.975718",
     "status": "completed"
    },
    "tags": []
   },
   "outputs": [
    {
     "data": {
      "text/html": [
       "<div>\n",
       "<style scoped>\n",
       "    .dataframe tbody tr th:only-of-type {\n",
       "        vertical-align: middle;\n",
       "    }\n",
       "\n",
       "    .dataframe tbody tr th {\n",
       "        vertical-align: top;\n",
       "    }\n",
       "\n",
       "    .dataframe thead th {\n",
       "        text-align: right;\n",
       "    }\n",
       "</style>\n",
       "<table border=\"1\" class=\"dataframe\">\n",
       "  <thead>\n",
       "    <tr style=\"text-align: right;\">\n",
       "      <th></th>\n",
       "      <th>user_id</th>\n",
       "      <th>basket_id</th>\n",
       "      <th>day</th>\n",
       "      <th>item_id</th>\n",
       "      <th>quantity</th>\n",
       "      <th>sales_value</th>\n",
       "      <th>store_id</th>\n",
       "      <th>retail_disc</th>\n",
       "      <th>trans_time</th>\n",
       "      <th>week_no</th>\n",
       "      <th>coupon_disc</th>\n",
       "      <th>coupon_match_disc</th>\n",
       "    </tr>\n",
       "  </thead>\n",
       "  <tbody>\n",
       "    <tr>\n",
       "      <th>0</th>\n",
       "      <td>2375</td>\n",
       "      <td>26984851472</td>\n",
       "      <td>1</td>\n",
       "      <td>1004906</td>\n",
       "      <td>1</td>\n",
       "      <td>1.39</td>\n",
       "      <td>364</td>\n",
       "      <td>-0.6</td>\n",
       "      <td>1631</td>\n",
       "      <td>1</td>\n",
       "      <td>0.0</td>\n",
       "      <td>0.0</td>\n",
       "    </tr>\n",
       "    <tr>\n",
       "      <th>1</th>\n",
       "      <td>2375</td>\n",
       "      <td>26984851472</td>\n",
       "      <td>1</td>\n",
       "      <td>1033142</td>\n",
       "      <td>1</td>\n",
       "      <td>0.82</td>\n",
       "      <td>364</td>\n",
       "      <td>0.0</td>\n",
       "      <td>1631</td>\n",
       "      <td>1</td>\n",
       "      <td>0.0</td>\n",
       "      <td>0.0</td>\n",
       "    </tr>\n",
       "  </tbody>\n",
       "</table>\n",
       "</div>"
      ],
      "text/plain": [
       "   user_id    basket_id  day  item_id  quantity  sales_value  store_id  \\\n",
       "0     2375  26984851472    1  1004906         1         1.39       364   \n",
       "1     2375  26984851472    1  1033142         1         0.82       364   \n",
       "\n",
       "   retail_disc  trans_time  week_no  coupon_disc  coupon_match_disc  \n",
       "0         -0.6        1631        1          0.0                0.0  \n",
       "1          0.0        1631        1          0.0                0.0  "
      ]
     },
     "execution_count": 10,
     "metadata": {},
     "output_type": "execute_result"
    }
   ],
   "source": [
    "data_train_matcher.head(2)"
   ]
  },
  {
   "cell_type": "markdown",
   "id": "9b486f07",
   "metadata": {
    "papermill": {
     "duration": 0.091929,
     "end_time": "2022-05-08T19:44:08.267779",
     "exception": false,
     "start_time": "2022-05-08T19:44:08.175850",
     "status": "completed"
    },
    "tags": []
   },
   "source": [
    "# Prefilter items"
   ]
  },
  {
   "cell_type": "code",
   "execution_count": 11,
   "id": "03448b90",
   "metadata": {
    "execution": {
     "iopub.execute_input": "2022-05-08T19:44:08.452916Z",
     "iopub.status.busy": "2022-05-08T19:44:08.452353Z",
     "iopub.status.idle": "2022-05-08T19:44:08.978687Z",
     "shell.execute_reply": "2022-05-08T19:44:08.977287Z"
    },
    "papermill": {
     "duration": 0.623381,
     "end_time": "2022-05-08T19:44:08.981744",
     "exception": false,
     "start_time": "2022-05-08T19:44:08.358363",
     "status": "completed"
    },
    "tags": []
   },
   "outputs": [
    {
     "name": "stderr",
     "output_type": "stream",
     "text": [
      "/kaggle/working/utils.py:20: SettingWithCopyWarning: \n",
      "A value is trying to be set on a copy of a slice from a DataFrame.\n",
      "Try using .loc[row_indexer,col_indexer] = value instead\n",
      "\n",
      "See the caveats in the documentation: https://pandas.pydata.org/pandas-docs/stable/user_guide/indexing.html#returning-a-view-versus-a-copy\n",
      "  data['price'] = data['sales_value'] / (np.maximum(data['quantity'], 1))\n"
     ]
    },
    {
     "name": "stdout",
     "output_type": "stream",
     "text": [
      "Decreased # items from 83685 to 5001\n"
     ]
    }
   ],
   "source": [
    "n_items_before = data_train_matcher['item_id'].nunique()\n",
    "\n",
    "data_train_matcher = prefilter_items(data_train_matcher, item_features=item_features, take_n_popular=5000)\n",
    "\n",
    "n_items_after = data_train_matcher['item_id'].nunique()\n",
    "print('Decreased # items from {} to {}'.format(n_items_before, n_items_after))"
   ]
  },
  {
   "cell_type": "markdown",
   "id": "fb122c88",
   "metadata": {
    "papermill": {
     "duration": 0.090046,
     "end_time": "2022-05-08T19:44:09.164610",
     "exception": false,
     "start_time": "2022-05-08T19:44:09.074564",
     "status": "completed"
    },
    "tags": []
   },
   "source": [
    "# Make cold-start to warm-start"
   ]
  },
  {
   "cell_type": "code",
   "execution_count": 12,
   "id": "24a5a913",
   "metadata": {
    "execution": {
     "iopub.execute_input": "2022-05-08T19:44:09.348119Z",
     "iopub.status.busy": "2022-05-08T19:44:09.347827Z",
     "iopub.status.idle": "2022-05-08T19:44:09.423010Z",
     "shell.execute_reply": "2022-05-08T19:44:09.421970Z"
    },
    "papermill": {
     "duration": 0.170555,
     "end_time": "2022-05-08T19:44:09.426744",
     "exception": false,
     "start_time": "2022-05-08T19:44:09.256189",
     "status": "completed"
    },
    "tags": []
   },
   "outputs": [
    {
     "name": "stdout",
     "output_type": "stream",
     "text": [
      "train_matcher\n",
      "Shape: (861404, 13) Users: 2495 Items: 5001\n",
      "val_matcher\n",
      "Shape: (169615, 12) Users: 2151 Items: 27644\n",
      "train_ranker\n",
      "Shape: (169615, 12) Users: 2151 Items: 27644\n",
      "val_ranker\n",
      "Shape: (118282, 12) Users: 2040 Items: 24325\n"
     ]
    }
   ],
   "source": [
    "# ищем общих пользователей\n",
    "common_users = data_train_matcher.user_id.values\n",
    "\n",
    "data_val_matcher = data_val_matcher[data_val_matcher.user_id.isin(common_users)]\n",
    "data_train_ranker = data_train_ranker[data_train_ranker.user_id.isin(common_users)]\n",
    "data_val_ranker = data_val_ranker[data_val_ranker.user_id.isin(common_users)]\n",
    "\n",
    "print_stats_data(data_train_matcher,'train_matcher')\n",
    "print_stats_data(data_val_matcher,'val_matcher')\n",
    "print_stats_data(data_train_ranker,'train_ranker')\n",
    "print_stats_data(data_val_ranker,'val_ranker')"
   ]
  },
  {
   "cell_type": "code",
   "execution_count": 13,
   "id": "8de917c2",
   "metadata": {
    "execution": {
     "iopub.execute_input": "2022-05-08T19:44:09.628341Z",
     "iopub.status.busy": "2022-05-08T19:44:09.627925Z",
     "iopub.status.idle": "2022-05-08T19:44:09.630980Z",
     "shell.execute_reply": "2022-05-08T19:44:09.630403Z"
    },
    "papermill": {
     "duration": 0.098151,
     "end_time": "2022-05-08T19:44:09.632840",
     "exception": false,
     "start_time": "2022-05-08T19:44:09.534689",
     "status": "completed"
    },
    "tags": []
   },
   "outputs": [],
   "source": [
    "# Теперь warm-start по пользователям"
   ]
  },
  {
   "cell_type": "markdown",
   "id": "a4a6f027",
   "metadata": {
    "papermill": {
     "duration": 0.095166,
     "end_time": "2022-05-08T19:44:09.819411",
     "exception": false,
     "start_time": "2022-05-08T19:44:09.724245",
     "status": "completed"
    },
    "tags": []
   },
   "source": [
    "# Init/train recommender"
   ]
  },
  {
   "cell_type": "code",
   "execution_count": 14,
   "id": "bf164d5d",
   "metadata": {
    "execution": {
     "iopub.execute_input": "2022-05-08T19:44:10.007489Z",
     "iopub.status.busy": "2022-05-08T19:44:10.007173Z",
     "iopub.status.idle": "2022-05-08T19:44:17.393958Z",
     "shell.execute_reply": "2022-05-08T19:44:17.393403Z"
    },
    "papermill": {
     "duration": 7.480941,
     "end_time": "2022-05-08T19:44:17.395726",
     "exception": false,
     "start_time": "2022-05-08T19:44:09.914785",
     "status": "completed"
    },
    "tags": []
   },
   "outputs": [
    {
     "data": {
      "application/vnd.jupyter.widget-view+json": {
       "model_id": "bd4902b8a0664af9a241fa445b322fc3",
       "version_major": 2,
       "version_minor": 0
      },
      "text/plain": [
       "  0%|          | 0/15 [00:00<?, ?it/s]"
      ]
     },
     "metadata": {},
     "output_type": "display_data"
    },
    {
     "data": {
      "application/vnd.jupyter.widget-view+json": {
       "model_id": "9733f7b08c7249bd8d147a589a02a1ab",
       "version_major": 2,
       "version_minor": 0
      },
      "text/plain": [
       "  0%|          | 0/5001 [00:00<?, ?it/s]"
      ]
     },
     "metadata": {},
     "output_type": "display_data"
    }
   ],
   "source": [
    "recommender = MainRecommender(data_train_matcher)"
   ]
  },
  {
   "cell_type": "markdown",
   "id": "991bf5a0",
   "metadata": {
    "papermill": {
     "duration": 0.093065,
     "end_time": "2022-05-08T19:44:17.581227",
     "exception": false,
     "start_time": "2022-05-08T19:44:17.488162",
     "status": "completed"
    },
    "tags": []
   },
   "source": [
    "### Варианты, как получить кандидатов\n",
    "\n",
    "Можно потом все эти варианты соединить в один\n",
    "\n",
    "(!) Если модель рекомендует < N товаров, то рекомендации дополняются топ-популярными товарами до N"
   ]
  },
  {
   "cell_type": "code",
   "execution_count": 15,
   "id": "c2c84966",
   "metadata": {
    "execution": {
     "iopub.execute_input": "2022-05-08T19:44:17.769918Z",
     "iopub.status.busy": "2022-05-08T19:44:17.769419Z",
     "iopub.status.idle": "2022-05-08T19:44:17.772553Z",
     "shell.execute_reply": "2022-05-08T19:44:17.771912Z"
    },
    "papermill": {
     "duration": 0.099279,
     "end_time": "2022-05-08T19:44:17.774264",
     "exception": false,
     "start_time": "2022-05-08T19:44:17.674985",
     "status": "completed"
    },
    "tags": []
   },
   "outputs": [],
   "source": [
    "# Берем тестового юзера 2375"
   ]
  },
  {
   "cell_type": "code",
   "execution_count": 16,
   "id": "44e814ae",
   "metadata": {
    "execution": {
     "iopub.execute_input": "2022-05-08T19:44:17.961276Z",
     "iopub.status.busy": "2022-05-08T19:44:17.960309Z",
     "iopub.status.idle": "2022-05-08T19:44:17.980815Z",
     "shell.execute_reply": "2022-05-08T19:44:17.979564Z"
    },
    "papermill": {
     "duration": 0.117044,
     "end_time": "2022-05-08T19:44:17.983595",
     "exception": false,
     "start_time": "2022-05-08T19:44:17.866551",
     "status": "completed"
    },
    "tags": []
   },
   "outputs": [
    {
     "data": {
      "text/plain": [
       "[899624, 1044078, 1106523, 871756, 832678]"
      ]
     },
     "execution_count": 16,
     "metadata": {},
     "output_type": "execute_result"
    }
   ],
   "source": [
    "recommender.get_als_recommendations(2375, N=5)"
   ]
  },
  {
   "cell_type": "code",
   "execution_count": 17,
   "id": "fcd2f075",
   "metadata": {
    "execution": {
     "iopub.execute_input": "2022-05-08T19:44:18.226900Z",
     "iopub.status.busy": "2022-05-08T19:44:18.226589Z",
     "iopub.status.idle": "2022-05-08T19:44:18.237993Z",
     "shell.execute_reply": "2022-05-08T19:44:18.237074Z"
    },
    "papermill": {
     "duration": 0.108186,
     "end_time": "2022-05-08T19:44:18.240109",
     "exception": false,
     "start_time": "2022-05-08T19:44:18.131923",
     "status": "completed"
    },
    "tags": []
   },
   "outputs": [
    {
     "data": {
      "text/plain": [
       "[948640, 918046, 847962, 907099, 873980]"
      ]
     },
     "execution_count": 17,
     "metadata": {},
     "output_type": "execute_result"
    }
   ],
   "source": [
    "recommender.get_own_recommendations(2375, N=5)"
   ]
  },
  {
   "cell_type": "code",
   "execution_count": 18,
   "id": "6aca74a1",
   "metadata": {
    "execution": {
     "iopub.execute_input": "2022-05-08T19:44:18.428564Z",
     "iopub.status.busy": "2022-05-08T19:44:18.428239Z",
     "iopub.status.idle": "2022-05-08T19:44:18.441842Z",
     "shell.execute_reply": "2022-05-08T19:44:18.440898Z"
    },
    "papermill": {
     "duration": 0.111322,
     "end_time": "2022-05-08T19:44:18.444711",
     "exception": false,
     "start_time": "2022-05-08T19:44:18.333389",
     "status": "completed"
    },
    "tags": []
   },
   "outputs": [
    {
     "data": {
      "text/plain": [
       "[1046545, 1044078, 937292, 1115576, 15778319]"
      ]
     },
     "execution_count": 18,
     "metadata": {},
     "output_type": "execute_result"
    }
   ],
   "source": [
    "recommender.get_similar_items_recommendation(2375, N=5)"
   ]
  },
  {
   "cell_type": "code",
   "execution_count": 19,
   "id": "20d8bc31",
   "metadata": {
    "execution": {
     "iopub.execute_input": "2022-05-08T19:44:18.689103Z",
     "iopub.status.busy": "2022-05-08T19:44:18.688794Z",
     "iopub.status.idle": "2022-05-08T19:44:18.692525Z",
     "shell.execute_reply": "2022-05-08T19:44:18.691916Z"
    },
    "papermill": {
     "duration": 0.0995,
     "end_time": "2022-05-08T19:44:18.694397",
     "exception": false,
     "start_time": "2022-05-08T19:44:18.594897",
     "status": "completed"
    },
    "scrolled": true,
    "tags": []
   },
   "outputs": [],
   "source": [
    "# recommender.get_similar_users_recommendation(2375, N=5)"
   ]
  },
  {
   "cell_type": "markdown",
   "id": "8f4415e4",
   "metadata": {
    "papermill": {
     "duration": 0.092965,
     "end_time": "2022-05-08T19:44:18.880103",
     "exception": false,
     "start_time": "2022-05-08T19:44:18.787138",
     "status": "completed"
    },
    "tags": []
   },
   "source": [
    "# Eval recall of matching"
   ]
  },
  {
   "cell_type": "markdown",
   "id": "b53debae",
   "metadata": {
    "papermill": {
     "duration": 0.093096,
     "end_time": "2022-05-08T19:44:19.065998",
     "exception": false,
     "start_time": "2022-05-08T19:44:18.972902",
     "status": "completed"
    },
    "tags": []
   },
   "source": [
    "### Измеряем recall@k\n",
    "\n",
    "Это будет в ДЗ: \n",
    "\n",
    "A) Попробуйте различные варианты генерации кандидатов. Какие из них дают наибольший recall@k ?\n",
    "- Пока пробуем отобрать 50 кандидатов (k=50)\n",
    "- Качество измеряем на data_val_matcher: следующие 6 недель после трейна\n",
    "\n",
    "Дают ли own recommendtions + top-popular лучший recall?  \n",
    "\n",
    "B)* Как зависит recall@k от k? Постройте для одной схемы генерации кандидатов эту зависимость для k = {20, 50, 100, 200, 500}  \n",
    "C)* Исходя из прошлого вопроса, как вы думаете, какое значение k является наиболее разумным?\n"
   ]
  },
  {
   "cell_type": "code",
   "execution_count": 20,
   "id": "0bcd323d",
   "metadata": {
    "execution": {
     "iopub.execute_input": "2022-05-08T19:44:19.255317Z",
     "iopub.status.busy": "2022-05-08T19:44:19.254674Z",
     "iopub.status.idle": "2022-05-08T19:44:19.259394Z",
     "shell.execute_reply": "2022-05-08T19:44:19.258478Z"
    },
    "papermill": {
     "duration": 0.102294,
     "end_time": "2022-05-08T19:44:19.261527",
     "exception": false,
     "start_time": "2022-05-08T19:44:19.159233",
     "status": "completed"
    },
    "tags": []
   },
   "outputs": [],
   "source": [
    "ACTUAL_COL = 'actual'"
   ]
  },
  {
   "cell_type": "code",
   "execution_count": 21,
   "id": "a196720c",
   "metadata": {
    "execution": {
     "iopub.execute_input": "2022-05-08T19:44:19.451823Z",
     "iopub.status.busy": "2022-05-08T19:44:19.451490Z",
     "iopub.status.idle": "2022-05-08T19:44:19.566521Z",
     "shell.execute_reply": "2022-05-08T19:44:19.565645Z"
    },
    "papermill": {
     "duration": 0.21433,
     "end_time": "2022-05-08T19:44:19.568700",
     "exception": false,
     "start_time": "2022-05-08T19:44:19.354370",
     "status": "completed"
    },
    "scrolled": true,
    "tags": []
   },
   "outputs": [
    {
     "data": {
      "text/html": [
       "<div>\n",
       "<style scoped>\n",
       "    .dataframe tbody tr th:only-of-type {\n",
       "        vertical-align: middle;\n",
       "    }\n",
       "\n",
       "    .dataframe tbody tr th {\n",
       "        vertical-align: top;\n",
       "    }\n",
       "\n",
       "    .dataframe thead th {\n",
       "        text-align: right;\n",
       "    }\n",
       "</style>\n",
       "<table border=\"1\" class=\"dataframe\">\n",
       "  <thead>\n",
       "    <tr style=\"text-align: right;\">\n",
       "      <th></th>\n",
       "      <th>user_id</th>\n",
       "      <th>actual</th>\n",
       "    </tr>\n",
       "  </thead>\n",
       "  <tbody>\n",
       "    <tr>\n",
       "      <th>0</th>\n",
       "      <td>1</td>\n",
       "      <td>[853529, 865456, 867607, 872137, 874905, 87524...</td>\n",
       "    </tr>\n",
       "    <tr>\n",
       "      <th>1</th>\n",
       "      <td>2</td>\n",
       "      <td>[15830248, 838136, 839656, 861272, 866211, 870...</td>\n",
       "    </tr>\n",
       "  </tbody>\n",
       "</table>\n",
       "</div>"
      ],
      "text/plain": [
       "   user_id                                             actual\n",
       "0        1  [853529, 865456, 867607, 872137, 874905, 87524...\n",
       "1        2  [15830248, 838136, 839656, 861272, 866211, 870..."
      ]
     },
     "execution_count": 21,
     "metadata": {},
     "output_type": "execute_result"
    }
   ],
   "source": [
    "result_eval_matcher = data_val_matcher.groupby(USER_COL)[ITEM_COL].unique().reset_index()\n",
    "result_eval_matcher.columns=[USER_COL, ACTUAL_COL]\n",
    "result_eval_matcher.head(2)"
   ]
  },
  {
   "cell_type": "code",
   "execution_count": 22,
   "id": "f3e3ea9b",
   "metadata": {
    "execution": {
     "iopub.execute_input": "2022-05-08T19:44:19.758024Z",
     "iopub.status.busy": "2022-05-08T19:44:19.757733Z",
     "iopub.status.idle": "2022-05-08T19:44:19.761618Z",
     "shell.execute_reply": "2022-05-08T19:44:19.760570Z"
    },
    "papermill": {
     "duration": 0.100835,
     "end_time": "2022-05-08T19:44:19.763616",
     "exception": false,
     "start_time": "2022-05-08T19:44:19.662781",
     "status": "completed"
    },
    "tags": []
   },
   "outputs": [],
   "source": [
    "# N = Neighbors\n",
    "N_PREDICT = 50 "
   ]
  },
  {
   "cell_type": "code",
   "execution_count": 23,
   "id": "738f8b3e",
   "metadata": {
    "execution": {
     "iopub.execute_input": "2022-05-08T19:44:19.952424Z",
     "iopub.status.busy": "2022-05-08T19:44:19.952087Z",
     "iopub.status.idle": "2022-05-08T19:45:06.982242Z",
     "shell.execute_reply": "2022-05-08T19:45:06.981339Z"
    },
    "papermill": {
     "duration": 47.278916,
     "end_time": "2022-05-08T19:45:07.136258",
     "exception": false,
     "start_time": "2022-05-08T19:44:19.857342",
     "status": "completed"
    },
    "tags": []
   },
   "outputs": [
    {
     "name": "stdout",
     "output_type": "stream",
     "text": [
      "CPU times: user 1min 28s, sys: 1min 9s, total: 2min 37s\n",
      "Wall time: 47 s\n"
     ]
    }
   ],
   "source": [
    "%%time\n",
    "# для понятности расписано все в строчку, без функций, ваша задача уметь оборачивать все это в функции\n",
    "result_eval_matcher['own_rec'] = result_eval_matcher[USER_COL].apply(lambda x: recommender.get_own_recommendations(x, N=N_PREDICT))\n",
    "result_eval_matcher['sim_item_rec'] = result_eval_matcher[USER_COL].apply(lambda x: recommender.get_similar_items_recommendation(x, N=N_PREDICT))\n",
    "result_eval_matcher['als_rec'] = result_eval_matcher[USER_COL].apply(lambda x: recommender.get_als_recommendations(x, N=N_PREDICT))"
   ]
  },
  {
   "cell_type": "code",
   "execution_count": 24,
   "id": "862014d9",
   "metadata": {
    "execution": {
     "iopub.execute_input": "2022-05-08T19:45:07.329809Z",
     "iopub.status.busy": "2022-05-08T19:45:07.329527Z",
     "iopub.status.idle": "2022-05-08T19:45:07.332716Z",
     "shell.execute_reply": "2022-05-08T19:45:07.332065Z"
    },
    "papermill": {
     "duration": 0.10154,
     "end_time": "2022-05-08T19:45:07.334386",
     "exception": false,
     "start_time": "2022-05-08T19:45:07.232846",
     "status": "completed"
    },
    "scrolled": true,
    "tags": []
   },
   "outputs": [],
   "source": [
    "# %%time\n",
    "# result_eval_matcher['sim_user_rec'] = result_eval_matcher[USER_COL].apply(lambda x: recommender.get_similar_users_recommendation(x, N=N_PREDICT))"
   ]
  },
  {
   "cell_type": "markdown",
   "id": "23f57368",
   "metadata": {
    "papermill": {
     "duration": 0.093862,
     "end_time": "2022-05-08T19:45:07.525236",
     "exception": false,
     "start_time": "2022-05-08T19:45:07.431374",
     "status": "completed"
    },
    "tags": []
   },
   "source": [
    "### Пример оборачивания"
   ]
  },
  {
   "cell_type": "code",
   "execution_count": 25,
   "id": "3e81e90c",
   "metadata": {
    "execution": {
     "iopub.execute_input": "2022-05-08T19:45:07.714766Z",
     "iopub.status.busy": "2022-05-08T19:45:07.714390Z",
     "iopub.status.idle": "2022-05-08T19:45:07.719684Z",
     "shell.execute_reply": "2022-05-08T19:45:07.718724Z"
    },
    "papermill": {
     "duration": 0.102718,
     "end_time": "2022-05-08T19:45:07.721669",
     "exception": false,
     "start_time": "2022-05-08T19:45:07.618951",
     "status": "completed"
    },
    "tags": []
   },
   "outputs": [],
   "source": [
    "# # сырой и простой пример как можно обернуть в функцию\n",
    "def evalRecall(df_result, target_col_name, recommend_model):\n",
    "    result_col_name = 'result'\n",
    "    df_result[result_col_name] = df_result[target_col_name].apply(lambda x: recommend_model(x, N=25))\n",
    "    return df_result.apply(lambda row: recall_at_k(row[result_col_name], row[ACTUAL_COL], k=N_PREDICT), axis=1).mean()"
   ]
  },
  {
   "cell_type": "code",
   "execution_count": 26,
   "id": "5fc05ac5",
   "metadata": {
    "execution": {
     "iopub.execute_input": "2022-05-08T19:45:07.909590Z",
     "iopub.status.busy": "2022-05-08T19:45:07.909268Z",
     "iopub.status.idle": "2022-05-08T19:45:07.913393Z",
     "shell.execute_reply": "2022-05-08T19:45:07.912553Z"
    },
    "papermill": {
     "duration": 0.100469,
     "end_time": "2022-05-08T19:45:07.915168",
     "exception": false,
     "start_time": "2022-05-08T19:45:07.814699",
     "status": "completed"
    },
    "tags": []
   },
   "outputs": [],
   "source": [
    "# evalRecall(result_eval_matcher, USER_COL, recommender.get_own_recommendations)"
   ]
  },
  {
   "cell_type": "code",
   "execution_count": 27,
   "id": "3200ed00",
   "metadata": {
    "execution": {
     "iopub.execute_input": "2022-05-08T19:45:08.102484Z",
     "iopub.status.busy": "2022-05-08T19:45:08.101746Z",
     "iopub.status.idle": "2022-05-08T19:45:08.107384Z",
     "shell.execute_reply": "2022-05-08T19:45:08.106434Z"
    },
    "papermill": {
     "duration": 0.10179,
     "end_time": "2022-05-08T19:45:08.109274",
     "exception": false,
     "start_time": "2022-05-08T19:45:08.007484",
     "status": "completed"
    },
    "tags": []
   },
   "outputs": [],
   "source": [
    "def calc_recall(df_data, top_k):\n",
    "    for col_name in df_data.columns[2:]:\n",
    "        yield col_name, df_data.apply(lambda row: recall_at_k(row[col_name], row[ACTUAL_COL], k=top_k), axis=1).mean()"
   ]
  },
  {
   "cell_type": "code",
   "execution_count": 28,
   "id": "21677f60",
   "metadata": {
    "execution": {
     "iopub.execute_input": "2022-05-08T19:45:08.302242Z",
     "iopub.status.busy": "2022-05-08T19:45:08.301697Z",
     "iopub.status.idle": "2022-05-08T19:45:08.307087Z",
     "shell.execute_reply": "2022-05-08T19:45:08.306249Z"
    },
    "papermill": {
     "duration": 0.104537,
     "end_time": "2022-05-08T19:45:08.308917",
     "exception": false,
     "start_time": "2022-05-08T19:45:08.204380",
     "status": "completed"
    },
    "tags": []
   },
   "outputs": [],
   "source": [
    "def calc_precision(df_data, top_k):\n",
    "    for col_name in df_data.columns[2:]:\n",
    "        yield col_name, df_data.apply(lambda row: precision_at_k(row[col_name], row[ACTUAL_COL], k=top_k), axis=1).mean()"
   ]
  },
  {
   "cell_type": "code",
   "execution_count": 29,
   "id": "b953c5aa",
   "metadata": {
    "execution": {
     "iopub.execute_input": "2022-05-08T19:45:08.499679Z",
     "iopub.status.busy": "2022-05-08T19:45:08.499375Z",
     "iopub.status.idle": "2022-05-08T19:45:08.515012Z",
     "shell.execute_reply": "2022-05-08T19:45:08.514115Z"
    },
    "papermill": {
     "duration": 0.113956,
     "end_time": "2022-05-08T19:45:08.516952",
     "exception": false,
     "start_time": "2022-05-08T19:45:08.402996",
     "status": "completed"
    },
    "tags": []
   },
   "outputs": [
    {
     "data": {
      "text/html": [
       "<div>\n",
       "<style scoped>\n",
       "    .dataframe tbody tr th:only-of-type {\n",
       "        vertical-align: middle;\n",
       "    }\n",
       "\n",
       "    .dataframe tbody tr th {\n",
       "        vertical-align: top;\n",
       "    }\n",
       "\n",
       "    .dataframe thead th {\n",
       "        text-align: right;\n",
       "    }\n",
       "</style>\n",
       "<table border=\"1\" class=\"dataframe\">\n",
       "  <thead>\n",
       "    <tr style=\"text-align: right;\">\n",
       "      <th></th>\n",
       "      <th>user_id</th>\n",
       "      <th>actual</th>\n",
       "      <th>own_rec</th>\n",
       "      <th>sim_item_rec</th>\n",
       "      <th>als_rec</th>\n",
       "    </tr>\n",
       "  </thead>\n",
       "  <tbody>\n",
       "    <tr>\n",
       "      <th>0</th>\n",
       "      <td>1</td>\n",
       "      <td>[853529, 865456, 867607, 872137, 874905, 87524...</td>\n",
       "      <td>[856942, 9297615, 5577022, 877391, 9655212, 88...</td>\n",
       "      <td>[824758, 1007512, 9297615, 5577022, 9803545, 9...</td>\n",
       "      <td>[885290, 5577022, 856942, 883616, 1135195, 965...</td>\n",
       "    </tr>\n",
       "    <tr>\n",
       "      <th>1</th>\n",
       "      <td>2</td>\n",
       "      <td>[15830248, 838136, 839656, 861272, 866211, 870...</td>\n",
       "      <td>[911974, 1076580, 1103898, 5567582, 1056620, 9...</td>\n",
       "      <td>[8090509, 5569845, 1044078, 897954, 880888, 81...</td>\n",
       "      <td>[5569230, 996087, 910032, 972665, 7168026, 102...</td>\n",
       "    </tr>\n",
       "  </tbody>\n",
       "</table>\n",
       "</div>"
      ],
      "text/plain": [
       "   user_id                                             actual  \\\n",
       "0        1  [853529, 865456, 867607, 872137, 874905, 87524...   \n",
       "1        2  [15830248, 838136, 839656, 861272, 866211, 870...   \n",
       "\n",
       "                                             own_rec  \\\n",
       "0  [856942, 9297615, 5577022, 877391, 9655212, 88...   \n",
       "1  [911974, 1076580, 1103898, 5567582, 1056620, 9...   \n",
       "\n",
       "                                        sim_item_rec  \\\n",
       "0  [824758, 1007512, 9297615, 5577022, 9803545, 9...   \n",
       "1  [8090509, 5569845, 1044078, 897954, 880888, 81...   \n",
       "\n",
       "                                             als_rec  \n",
       "0  [885290, 5577022, 856942, 883616, 1135195, 965...  \n",
       "1  [5569230, 996087, 910032, 972665, 7168026, 102...  "
      ]
     },
     "execution_count": 29,
     "metadata": {},
     "output_type": "execute_result"
    }
   ],
   "source": [
    "result_eval_matcher.head(2)"
   ]
  },
  {
   "cell_type": "markdown",
   "id": "80a3f3c5",
   "metadata": {
    "papermill": {
     "duration": 0.09446,
     "end_time": "2022-05-08T19:45:08.705572",
     "exception": false,
     "start_time": "2022-05-08T19:45:08.611112",
     "status": "completed"
    },
    "tags": []
   },
   "source": [
    "### Recall@50 of matching"
   ]
  },
  {
   "cell_type": "code",
   "execution_count": 30,
   "id": "22c2cc25",
   "metadata": {
    "execution": {
     "iopub.execute_input": "2022-05-08T19:45:08.896343Z",
     "iopub.status.busy": "2022-05-08T19:45:08.896034Z",
     "iopub.status.idle": "2022-05-08T19:45:08.899923Z",
     "shell.execute_reply": "2022-05-08T19:45:08.899088Z"
    },
    "papermill": {
     "duration": 0.101837,
     "end_time": "2022-05-08T19:45:08.901712",
     "exception": false,
     "start_time": "2022-05-08T19:45:08.799875",
     "status": "completed"
    },
    "tags": []
   },
   "outputs": [],
   "source": [
    "TOPK_RECALL = 50"
   ]
  },
  {
   "cell_type": "code",
   "execution_count": 31,
   "id": "9f497560",
   "metadata": {
    "execution": {
     "iopub.execute_input": "2022-05-08T19:45:09.091175Z",
     "iopub.status.busy": "2022-05-08T19:45:09.090894Z",
     "iopub.status.idle": "2022-05-08T19:45:09.643977Z",
     "shell.execute_reply": "2022-05-08T19:45:09.643013Z"
    },
    "papermill": {
     "duration": 0.6506,
     "end_time": "2022-05-08T19:45:09.645881",
     "exception": false,
     "start_time": "2022-05-08T19:45:08.995281",
     "status": "completed"
    },
    "tags": []
   },
   "outputs": [
    {
     "data": {
      "text/plain": [
       "[('own_rec', 0.06525657038145165),\n",
       " ('als_rec', 0.048921569843758506),\n",
       " ('sim_item_rec', 0.033153461354865604)]"
      ]
     },
     "execution_count": 31,
     "metadata": {},
     "output_type": "execute_result"
    }
   ],
   "source": [
    "sorted(calc_recall(result_eval_matcher, TOPK_RECALL), key=lambda x: x[1],reverse=True)"
   ]
  },
  {
   "cell_type": "markdown",
   "id": "2363d30b",
   "metadata": {
    "papermill": {
     "duration": 0.099966,
     "end_time": "2022-05-08T19:45:09.841315",
     "exception": false,
     "start_time": "2022-05-08T19:45:09.741349",
     "status": "completed"
    },
    "tags": []
   },
   "source": [
    "### Precision@5 of matching"
   ]
  },
  {
   "cell_type": "code",
   "execution_count": 32,
   "id": "aa4ec653",
   "metadata": {
    "execution": {
     "iopub.execute_input": "2022-05-08T19:45:10.032873Z",
     "iopub.status.busy": "2022-05-08T19:45:10.032076Z",
     "iopub.status.idle": "2022-05-08T19:45:10.035680Z",
     "shell.execute_reply": "2022-05-08T19:45:10.035118Z"
    },
    "papermill": {
     "duration": 0.101429,
     "end_time": "2022-05-08T19:45:10.037315",
     "exception": false,
     "start_time": "2022-05-08T19:45:09.935886",
     "status": "completed"
    },
    "tags": []
   },
   "outputs": [],
   "source": [
    "TOPK_PRECISION = 5"
   ]
  },
  {
   "cell_type": "code",
   "execution_count": 33,
   "id": "bf9b222a",
   "metadata": {
    "execution": {
     "iopub.execute_input": "2022-05-08T19:45:10.227650Z",
     "iopub.status.busy": "2022-05-08T19:45:10.227139Z",
     "iopub.status.idle": "2022-05-08T19:45:10.529578Z",
     "shell.execute_reply": "2022-05-08T19:45:10.528761Z"
    },
    "papermill": {
     "duration": 0.400002,
     "end_time": "2022-05-08T19:45:10.531420",
     "exception": false,
     "start_time": "2022-05-08T19:45:10.131418",
     "status": "completed"
    },
    "tags": []
   },
   "outputs": [
    {
     "data": {
      "text/plain": [
       "[('own_rec', 0.17712691771269176),\n",
       " ('als_rec', 0.11641097164109716),\n",
       " ('sim_item_rec', 0.06145978614597861)]"
      ]
     },
     "execution_count": 33,
     "metadata": {},
     "output_type": "execute_result"
    }
   ],
   "source": [
    "sorted(calc_precision(result_eval_matcher, TOPK_PRECISION), key=lambda x: x[1],reverse=True)"
   ]
  },
  {
   "cell_type": "markdown",
   "id": "60cff471",
   "metadata": {
    "papermill": {
     "duration": 0.094916,
     "end_time": "2022-05-08T19:45:10.723071",
     "exception": false,
     "start_time": "2022-05-08T19:45:10.628155",
     "status": "completed"
    },
    "tags": []
   },
   "source": [
    "# Ranking part"
   ]
  },
  {
   "cell_type": "markdown",
   "id": "9d465df4",
   "metadata": {
    "papermill": {
     "duration": 0.09423,
     "end_time": "2022-05-08T19:45:10.912217",
     "exception": false,
     "start_time": "2022-05-08T19:45:10.817987",
     "status": "completed"
    },
    "tags": []
   },
   "source": [
    "### Обучаем модель 2-ого уровня на выбранных кандидатах\n",
    "\n",
    "- Обучаем на data_train_ranking\n",
    "- Обучаем *только* на выбранных кандидатах\n",
    "- Я *для примера* сгенерирую топ-50 кадидиатов через get_own_recommendations\n",
    "- (!) Если юзер купил < 50 товаров, то get_own_recommendations дополнит рекоммендации топ-популярными"
   ]
  },
  {
   "cell_type": "code",
   "execution_count": 34,
   "id": "8e93f315",
   "metadata": {
    "execution": {
     "iopub.execute_input": "2022-05-08T19:45:11.103131Z",
     "iopub.status.busy": "2022-05-08T19:45:11.102837Z",
     "iopub.status.idle": "2022-05-08T19:45:11.106214Z",
     "shell.execute_reply": "2022-05-08T19:45:11.105481Z"
    },
    "papermill": {
     "duration": 0.101094,
     "end_time": "2022-05-08T19:45:11.108066",
     "exception": false,
     "start_time": "2022-05-08T19:45:11.006972",
     "status": "completed"
    },
    "tags": []
   },
   "outputs": [],
   "source": [
    "# 3 временных интервала\n",
    "# -- давние покупки -- | -- 6 недель -- | -- 3 недель -- "
   ]
  },
  {
   "cell_type": "markdown",
   "id": "d290552e",
   "metadata": {
    "papermill": {
     "duration": 0.096149,
     "end_time": "2022-05-08T19:45:11.299993",
     "exception": false,
     "start_time": "2022-05-08T19:45:11.203844",
     "status": "completed"
    },
    "tags": []
   },
   "source": [
    "## Подготовка данных для трейна"
   ]
  },
  {
   "cell_type": "code",
   "execution_count": 35,
   "id": "9622d3a8",
   "metadata": {
    "execution": {
     "iopub.execute_input": "2022-05-08T19:45:11.491914Z",
     "iopub.status.busy": "2022-05-08T19:45:11.491329Z",
     "iopub.status.idle": "2022-05-08T19:45:11.498464Z",
     "shell.execute_reply": "2022-05-08T19:45:11.497850Z"
    },
    "papermill": {
     "duration": 0.10551,
     "end_time": "2022-05-08T19:45:11.500342",
     "exception": false,
     "start_time": "2022-05-08T19:45:11.394832",
     "status": "completed"
    },
    "tags": []
   },
   "outputs": [],
   "source": [
    "# взяли пользователей из трейна для ранжирования\n",
    "df_match_candidates = pd.DataFrame(data_train_ranker[USER_COL].unique())\n",
    "df_match_candidates.columns = [USER_COL]"
   ]
  },
  {
   "cell_type": "code",
   "execution_count": 36,
   "id": "4fdaf9cf",
   "metadata": {
    "execution": {
     "iopub.execute_input": "2022-05-08T19:45:11.692251Z",
     "iopub.status.busy": "2022-05-08T19:45:11.691760Z",
     "iopub.status.idle": "2022-05-08T19:45:20.463527Z",
     "shell.execute_reply": "2022-05-08T19:45:20.462674Z"
    },
    "papermill": {
     "duration": 8.869399,
     "end_time": "2022-05-08T19:45:20.465833",
     "exception": false,
     "start_time": "2022-05-08T19:45:11.596434",
     "status": "completed"
    },
    "tags": []
   },
   "outputs": [],
   "source": [
    "# собираем кандитатов с первого этапа (matcher)\n",
    "df_match_candidates['candidates'] = df_match_candidates[USER_COL].apply(lambda x: recommender.get_own_recommendations(x, N=N_PREDICT))"
   ]
  },
  {
   "cell_type": "code",
   "execution_count": 37,
   "id": "9178e6ac",
   "metadata": {
    "execution": {
     "iopub.execute_input": "2022-05-08T19:45:20.656728Z",
     "iopub.status.busy": "2022-05-08T19:45:20.655916Z",
     "iopub.status.idle": "2022-05-08T19:45:20.666394Z",
     "shell.execute_reply": "2022-05-08T19:45:20.665613Z"
    },
    "papermill": {
     "duration": 0.107495,
     "end_time": "2022-05-08T19:45:20.668321",
     "exception": false,
     "start_time": "2022-05-08T19:45:20.560826",
     "status": "completed"
    },
    "tags": []
   },
   "outputs": [
    {
     "data": {
      "text/html": [
       "<div>\n",
       "<style scoped>\n",
       "    .dataframe tbody tr th:only-of-type {\n",
       "        vertical-align: middle;\n",
       "    }\n",
       "\n",
       "    .dataframe tbody tr th {\n",
       "        vertical-align: top;\n",
       "    }\n",
       "\n",
       "    .dataframe thead th {\n",
       "        text-align: right;\n",
       "    }\n",
       "</style>\n",
       "<table border=\"1\" class=\"dataframe\">\n",
       "  <thead>\n",
       "    <tr style=\"text-align: right;\">\n",
       "      <th></th>\n",
       "      <th>user_id</th>\n",
       "      <th>candidates</th>\n",
       "    </tr>\n",
       "  </thead>\n",
       "  <tbody>\n",
       "    <tr>\n",
       "      <th>0</th>\n",
       "      <td>2070</td>\n",
       "      <td>[1105426, 1097350, 879194, 948640, 928263, 944...</td>\n",
       "    </tr>\n",
       "    <tr>\n",
       "      <th>1</th>\n",
       "      <td>2021</td>\n",
       "      <td>[950935, 1119454, 835578, 863762, 1019142, 102...</td>\n",
       "    </tr>\n",
       "  </tbody>\n",
       "</table>\n",
       "</div>"
      ],
      "text/plain": [
       "   user_id                                         candidates\n",
       "0     2070  [1105426, 1097350, 879194, 948640, 928263, 944...\n",
       "1     2021  [950935, 1119454, 835578, 863762, 1019142, 102..."
      ]
     },
     "execution_count": 37,
     "metadata": {},
     "output_type": "execute_result"
    }
   ],
   "source": [
    "df_match_candidates.head(2)"
   ]
  },
  {
   "cell_type": "code",
   "execution_count": 38,
   "id": "83733738",
   "metadata": {
    "execution": {
     "iopub.execute_input": "2022-05-08T19:45:20.857901Z",
     "iopub.status.busy": "2022-05-08T19:45:20.857295Z",
     "iopub.status.idle": "2022-05-08T19:45:21.223125Z",
     "shell.execute_reply": "2022-05-08T19:45:21.222120Z"
    },
    "papermill": {
     "duration": 0.463702,
     "end_time": "2022-05-08T19:45:21.225661",
     "exception": false,
     "start_time": "2022-05-08T19:45:20.761959",
     "status": "completed"
    },
    "tags": []
   },
   "outputs": [],
   "source": [
    "df_items = df_match_candidates.apply(lambda x: pd.Series(x['candidates']), axis=1).stack().reset_index(level=1, drop=True)\n",
    "df_items.name = 'item_id'"
   ]
  },
  {
   "cell_type": "code",
   "execution_count": 39,
   "id": "2658b808",
   "metadata": {
    "execution": {
     "iopub.execute_input": "2022-05-08T19:45:21.418552Z",
     "iopub.status.busy": "2022-05-08T19:45:21.418292Z",
     "iopub.status.idle": "2022-05-08T19:45:21.433811Z",
     "shell.execute_reply": "2022-05-08T19:45:21.432979Z"
    },
    "papermill": {
     "duration": 0.113036,
     "end_time": "2022-05-08T19:45:21.436010",
     "exception": false,
     "start_time": "2022-05-08T19:45:21.322974",
     "status": "completed"
    },
    "tags": []
   },
   "outputs": [],
   "source": [
    "df_match_candidates = df_match_candidates.drop('candidates', axis=1).join(df_items)"
   ]
  },
  {
   "cell_type": "code",
   "execution_count": 40,
   "id": "e63b2aa9",
   "metadata": {
    "execution": {
     "iopub.execute_input": "2022-05-08T19:45:21.627230Z",
     "iopub.status.busy": "2022-05-08T19:45:21.626807Z",
     "iopub.status.idle": "2022-05-08T19:45:21.635015Z",
     "shell.execute_reply": "2022-05-08T19:45:21.634155Z"
    },
    "papermill": {
     "duration": 0.106245,
     "end_time": "2022-05-08T19:45:21.636697",
     "exception": false,
     "start_time": "2022-05-08T19:45:21.530452",
     "status": "completed"
    },
    "tags": []
   },
   "outputs": [
    {
     "data": {
      "text/html": [
       "<div>\n",
       "<style scoped>\n",
       "    .dataframe tbody tr th:only-of-type {\n",
       "        vertical-align: middle;\n",
       "    }\n",
       "\n",
       "    .dataframe tbody tr th {\n",
       "        vertical-align: top;\n",
       "    }\n",
       "\n",
       "    .dataframe thead th {\n",
       "        text-align: right;\n",
       "    }\n",
       "</style>\n",
       "<table border=\"1\" class=\"dataframe\">\n",
       "  <thead>\n",
       "    <tr style=\"text-align: right;\">\n",
       "      <th></th>\n",
       "      <th>user_id</th>\n",
       "      <th>item_id</th>\n",
       "    </tr>\n",
       "  </thead>\n",
       "  <tbody>\n",
       "    <tr>\n",
       "      <th>0</th>\n",
       "      <td>2070</td>\n",
       "      <td>1105426</td>\n",
       "    </tr>\n",
       "    <tr>\n",
       "      <th>0</th>\n",
       "      <td>2070</td>\n",
       "      <td>1097350</td>\n",
       "    </tr>\n",
       "    <tr>\n",
       "      <th>0</th>\n",
       "      <td>2070</td>\n",
       "      <td>879194</td>\n",
       "    </tr>\n",
       "    <tr>\n",
       "      <th>0</th>\n",
       "      <td>2070</td>\n",
       "      <td>948640</td>\n",
       "    </tr>\n",
       "  </tbody>\n",
       "</table>\n",
       "</div>"
      ],
      "text/plain": [
       "   user_id  item_id\n",
       "0     2070  1105426\n",
       "0     2070  1097350\n",
       "0     2070   879194\n",
       "0     2070   948640"
      ]
     },
     "execution_count": 40,
     "metadata": {},
     "output_type": "execute_result"
    }
   ],
   "source": [
    "df_match_candidates.head(4)"
   ]
  },
  {
   "cell_type": "markdown",
   "id": "1bbfec2e",
   "metadata": {
    "papermill": {
     "duration": 0.095058,
     "end_time": "2022-05-08T19:45:21.826809",
     "exception": false,
     "start_time": "2022-05-08T19:45:21.731751",
     "status": "completed"
    },
    "tags": []
   },
   "source": [
    "### Check warm start"
   ]
  },
  {
   "cell_type": "code",
   "execution_count": 41,
   "id": "910fa3c1",
   "metadata": {
    "execution": {
     "iopub.execute_input": "2022-05-08T19:45:22.018660Z",
     "iopub.status.busy": "2022-05-08T19:45:22.018226Z",
     "iopub.status.idle": "2022-05-08T19:45:22.025680Z",
     "shell.execute_reply": "2022-05-08T19:45:22.024718Z"
    },
    "papermill": {
     "duration": 0.106593,
     "end_time": "2022-05-08T19:45:22.028053",
     "exception": false,
     "start_time": "2022-05-08T19:45:21.921460",
     "status": "completed"
    },
    "scrolled": true,
    "tags": []
   },
   "outputs": [
    {
     "name": "stdout",
     "output_type": "stream",
     "text": [
      "match_candidates\n",
      "Shape: (107550, 2) Users: 2151 Items: 4574\n"
     ]
    }
   ],
   "source": [
    "print_stats_data(df_match_candidates, 'match_candidates')"
   ]
  },
  {
   "cell_type": "markdown",
   "id": "6696d91c",
   "metadata": {
    "papermill": {
     "duration": 0.094951,
     "end_time": "2022-05-08T19:45:22.218879",
     "exception": false,
     "start_time": "2022-05-08T19:45:22.123928",
     "status": "completed"
    },
    "tags": []
   },
   "source": [
    "### Создаем трейн сет для ранжирования с учетом кандидатов с этапа 1 "
   ]
  },
  {
   "cell_type": "code",
   "execution_count": 42,
   "id": "b90923ea",
   "metadata": {
    "execution": {
     "iopub.execute_input": "2022-05-08T19:45:22.413439Z",
     "iopub.status.busy": "2022-05-08T19:45:22.413037Z",
     "iopub.status.idle": "2022-05-08T19:45:22.420096Z",
     "shell.execute_reply": "2022-05-08T19:45:22.419452Z"
    },
    "papermill": {
     "duration": 0.106391,
     "end_time": "2022-05-08T19:45:22.422168",
     "exception": false,
     "start_time": "2022-05-08T19:45:22.315777",
     "status": "completed"
    },
    "tags": []
   },
   "outputs": [],
   "source": [
    "df_ranker_train = data_train_ranker[[USER_COL, ITEM_COL]].copy()\n",
    "df_ranker_train['target'] = 1  # тут только покупки "
   ]
  },
  {
   "cell_type": "code",
   "execution_count": 43,
   "id": "b28298ad",
   "metadata": {
    "execution": {
     "iopub.execute_input": "2022-05-08T19:45:22.615795Z",
     "iopub.status.busy": "2022-05-08T19:45:22.615515Z",
     "iopub.status.idle": "2022-05-08T19:45:22.624225Z",
     "shell.execute_reply": "2022-05-08T19:45:22.623607Z"
    },
    "papermill": {
     "duration": 0.108545,
     "end_time": "2022-05-08T19:45:22.625754",
     "exception": false,
     "start_time": "2022-05-08T19:45:22.517209",
     "status": "completed"
    },
    "tags": []
   },
   "outputs": [
    {
     "data": {
      "text/html": [
       "<div>\n",
       "<style scoped>\n",
       "    .dataframe tbody tr th:only-of-type {\n",
       "        vertical-align: middle;\n",
       "    }\n",
       "\n",
       "    .dataframe tbody tr th {\n",
       "        vertical-align: top;\n",
       "    }\n",
       "\n",
       "    .dataframe thead th {\n",
       "        text-align: right;\n",
       "    }\n",
       "</style>\n",
       "<table border=\"1\" class=\"dataframe\">\n",
       "  <thead>\n",
       "    <tr style=\"text-align: right;\">\n",
       "      <th></th>\n",
       "      <th>user_id</th>\n",
       "      <th>item_id</th>\n",
       "      <th>target</th>\n",
       "    </tr>\n",
       "  </thead>\n",
       "  <tbody>\n",
       "    <tr>\n",
       "      <th>2104867</th>\n",
       "      <td>2070</td>\n",
       "      <td>1019940</td>\n",
       "      <td>1</td>\n",
       "    </tr>\n",
       "    <tr>\n",
       "      <th>2107468</th>\n",
       "      <td>2021</td>\n",
       "      <td>840361</td>\n",
       "      <td>1</td>\n",
       "    </tr>\n",
       "    <tr>\n",
       "      <th>2107469</th>\n",
       "      <td>2021</td>\n",
       "      <td>856060</td>\n",
       "      <td>1</td>\n",
       "    </tr>\n",
       "    <tr>\n",
       "      <th>2107470</th>\n",
       "      <td>2021</td>\n",
       "      <td>869344</td>\n",
       "      <td>1</td>\n",
       "    </tr>\n",
       "    <tr>\n",
       "      <th>2107471</th>\n",
       "      <td>2021</td>\n",
       "      <td>896862</td>\n",
       "      <td>1</td>\n",
       "    </tr>\n",
       "  </tbody>\n",
       "</table>\n",
       "</div>"
      ],
      "text/plain": [
       "         user_id  item_id  target\n",
       "2104867     2070  1019940       1\n",
       "2107468     2021   840361       1\n",
       "2107469     2021   856060       1\n",
       "2107470     2021   869344       1\n",
       "2107471     2021   896862       1"
      ]
     },
     "execution_count": 43,
     "metadata": {},
     "output_type": "execute_result"
    }
   ],
   "source": [
    "df_ranker_train.head()"
   ]
  },
  {
   "cell_type": "markdown",
   "id": "8bd4d381",
   "metadata": {
    "papermill": {
     "duration": 0.09852,
     "end_time": "2022-05-08T19:45:22.823765",
     "exception": false,
     "start_time": "2022-05-08T19:45:22.725245",
     "status": "completed"
    },
    "tags": []
   },
   "source": [
    "#### Не хватает нулей в датасете, поэтому добавляем наших кандитатов в качество нулей"
   ]
  },
  {
   "cell_type": "code",
   "execution_count": 44,
   "id": "dceac6fc",
   "metadata": {
    "execution": {
     "iopub.execute_input": "2022-05-08T19:45:23.020808Z",
     "iopub.status.busy": "2022-05-08T19:45:23.020232Z",
     "iopub.status.idle": "2022-05-08T19:45:23.088134Z",
     "shell.execute_reply": "2022-05-08T19:45:23.087116Z"
    },
    "papermill": {
     "duration": 0.168291,
     "end_time": "2022-05-08T19:45:23.090700",
     "exception": false,
     "start_time": "2022-05-08T19:45:22.922409",
     "status": "completed"
    },
    "scrolled": true,
    "tags": []
   },
   "outputs": [],
   "source": [
    "df_ranker_train = df_match_candidates.merge(df_ranker_train, on=[USER_COL, ITEM_COL], how='left')\n",
    "\n",
    "# чистим дубликаты\n",
    "df_ranker_train = df_ranker_train.drop_duplicates(subset=[USER_COL, ITEM_COL])\n",
    "\n",
    "df_ranker_train['target'].fillna(0, inplace= True)"
   ]
  },
  {
   "cell_type": "code",
   "execution_count": 45,
   "id": "10fb6d36",
   "metadata": {
    "execution": {
     "iopub.execute_input": "2022-05-08T19:45:23.285912Z",
     "iopub.status.busy": "2022-05-08T19:45:23.285402Z",
     "iopub.status.idle": "2022-05-08T19:45:23.296009Z",
     "shell.execute_reply": "2022-05-08T19:45:23.295071Z"
    },
    "papermill": {
     "duration": 0.110449,
     "end_time": "2022-05-08T19:45:23.297913",
     "exception": false,
     "start_time": "2022-05-08T19:45:23.187464",
     "status": "completed"
    },
    "tags": []
   },
   "outputs": [
    {
     "data": {
      "text/plain": [
       "0.0    99177\n",
       "1.0     7795\n",
       "Name: target, dtype: int64"
      ]
     },
     "execution_count": 45,
     "metadata": {},
     "output_type": "execute_result"
    }
   ],
   "source": [
    "df_ranker_train.target.value_counts()"
   ]
  },
  {
   "cell_type": "code",
   "execution_count": 46,
   "id": "78e63902",
   "metadata": {
    "execution": {
     "iopub.execute_input": "2022-05-08T19:45:23.493508Z",
     "iopub.status.busy": "2022-05-08T19:45:23.493197Z",
     "iopub.status.idle": "2022-05-08T19:45:23.501655Z",
     "shell.execute_reply": "2022-05-08T19:45:23.500937Z"
    },
    "papermill": {
     "duration": 0.108611,
     "end_time": "2022-05-08T19:45:23.503364",
     "exception": false,
     "start_time": "2022-05-08T19:45:23.394753",
     "status": "completed"
    },
    "tags": []
   },
   "outputs": [
    {
     "data": {
      "text/html": [
       "<div>\n",
       "<style scoped>\n",
       "    .dataframe tbody tr th:only-of-type {\n",
       "        vertical-align: middle;\n",
       "    }\n",
       "\n",
       "    .dataframe tbody tr th {\n",
       "        vertical-align: top;\n",
       "    }\n",
       "\n",
       "    .dataframe thead th {\n",
       "        text-align: right;\n",
       "    }\n",
       "</style>\n",
       "<table border=\"1\" class=\"dataframe\">\n",
       "  <thead>\n",
       "    <tr style=\"text-align: right;\">\n",
       "      <th></th>\n",
       "      <th>user_id</th>\n",
       "      <th>item_id</th>\n",
       "      <th>target</th>\n",
       "    </tr>\n",
       "  </thead>\n",
       "  <tbody>\n",
       "    <tr>\n",
       "      <th>0</th>\n",
       "      <td>2070</td>\n",
       "      <td>1105426</td>\n",
       "      <td>0.0</td>\n",
       "    </tr>\n",
       "    <tr>\n",
       "      <th>1</th>\n",
       "      <td>2070</td>\n",
       "      <td>1097350</td>\n",
       "      <td>0.0</td>\n",
       "    </tr>\n",
       "  </tbody>\n",
       "</table>\n",
       "</div>"
      ],
      "text/plain": [
       "   user_id  item_id  target\n",
       "0     2070  1105426     0.0\n",
       "1     2070  1097350     0.0"
      ]
     },
     "execution_count": 46,
     "metadata": {},
     "output_type": "execute_result"
    }
   ],
   "source": [
    "df_ranker_train.head(2)"
   ]
  },
  {
   "cell_type": "markdown",
   "id": "cb2d8874",
   "metadata": {
    "papermill": {
     "duration": 0.095631,
     "end_time": "2022-05-08T19:45:23.694663",
     "exception": false,
     "start_time": "2022-05-08T19:45:23.599032",
     "status": "completed"
    },
    "tags": []
   },
   "source": [
    "(!) На каждого юзера 50 item_id-кандидатов"
   ]
  },
  {
   "cell_type": "code",
   "execution_count": 47,
   "id": "e9ab6798",
   "metadata": {
    "execution": {
     "iopub.execute_input": "2022-05-08T19:45:23.888259Z",
     "iopub.status.busy": "2022-05-08T19:45:23.887830Z",
     "iopub.status.idle": "2022-05-08T19:45:23.894088Z",
     "shell.execute_reply": "2022-05-08T19:45:23.893519Z"
    },
    "papermill": {
     "duration": 0.10504,
     "end_time": "2022-05-08T19:45:23.895717",
     "exception": false,
     "start_time": "2022-05-08T19:45:23.790677",
     "status": "completed"
    },
    "tags": []
   },
   "outputs": [
    {
     "data": {
      "text/plain": [
       "0.07286953595333358"
      ]
     },
     "execution_count": 47,
     "metadata": {},
     "output_type": "execute_result"
    }
   ],
   "source": [
    "df_ranker_train['target'].mean()"
   ]
  },
  {
   "cell_type": "markdown",
   "id": "2a681dc5",
   "metadata": {
    "papermill": {
     "duration": 0.096245,
     "end_time": "2022-05-08T19:45:24.088351",
     "exception": false,
     "start_time": "2022-05-08T19:45:23.992106",
     "status": "completed"
    },
    "tags": []
   },
   "source": [
    "Слайд из [презентации](https://github.com/aprotopopov/retailhero_recommender/blob/master/slides/retailhero_recommender.pdf) решения 2-ого места X5 Retail Hero"
   ]
  },
  {
   "cell_type": "markdown",
   "id": "7d48d212",
   "metadata": {
    "papermill": {
     "duration": 0.101057,
     "end_time": "2022-05-08T19:45:24.286610",
     "exception": false,
     "start_time": "2022-05-08T19:45:24.185553",
     "status": "completed"
    },
    "tags": []
   },
   "source": [
    "- Пока для простоты обучения выберем LightGBM c loss = binary. Это классическая бинарная классификация\n",
    "- Это пример *без* генерации фич"
   ]
  },
  {
   "cell_type": "markdown",
   "id": "a7ca7895",
   "metadata": {
    "papermill": {
     "duration": 0.099388,
     "end_time": "2022-05-08T19:45:24.484758",
     "exception": false,
     "start_time": "2022-05-08T19:45:24.385370",
     "status": "completed"
    },
    "tags": []
   },
   "source": [
    "## Подготавливаем фичи для обучения модели"
   ]
  },
  {
   "cell_type": "code",
   "execution_count": 48,
   "id": "326cd564",
   "metadata": {
    "execution": {
     "iopub.execute_input": "2022-05-08T19:45:24.685145Z",
     "iopub.status.busy": "2022-05-08T19:45:24.684288Z",
     "iopub.status.idle": "2022-05-08T19:45:24.694641Z",
     "shell.execute_reply": "2022-05-08T19:45:24.694049Z"
    },
    "papermill": {
     "duration": 0.112464,
     "end_time": "2022-05-08T19:45:24.696523",
     "exception": false,
     "start_time": "2022-05-08T19:45:24.584059",
     "status": "completed"
    },
    "tags": []
   },
   "outputs": [
    {
     "data": {
      "text/html": [
       "<div>\n",
       "<style scoped>\n",
       "    .dataframe tbody tr th:only-of-type {\n",
       "        vertical-align: middle;\n",
       "    }\n",
       "\n",
       "    .dataframe tbody tr th {\n",
       "        vertical-align: top;\n",
       "    }\n",
       "\n",
       "    .dataframe thead th {\n",
       "        text-align: right;\n",
       "    }\n",
       "</style>\n",
       "<table border=\"1\" class=\"dataframe\">\n",
       "  <thead>\n",
       "    <tr style=\"text-align: right;\">\n",
       "      <th></th>\n",
       "      <th>item_id</th>\n",
       "      <th>manufacturer</th>\n",
       "      <th>department</th>\n",
       "      <th>brand</th>\n",
       "      <th>commodity_desc</th>\n",
       "      <th>sub_commodity_desc</th>\n",
       "      <th>curr_size_of_product</th>\n",
       "    </tr>\n",
       "  </thead>\n",
       "  <tbody>\n",
       "    <tr>\n",
       "      <th>0</th>\n",
       "      <td>25671</td>\n",
       "      <td>2</td>\n",
       "      <td>GROCERY</td>\n",
       "      <td>National</td>\n",
       "      <td>FRZN ICE</td>\n",
       "      <td>ICE - CRUSHED/CUBED</td>\n",
       "      <td>22 LB</td>\n",
       "    </tr>\n",
       "    <tr>\n",
       "      <th>1</th>\n",
       "      <td>26081</td>\n",
       "      <td>2</td>\n",
       "      <td>MISC. TRANS.</td>\n",
       "      <td>National</td>\n",
       "      <td>NO COMMODITY DESCRIPTION</td>\n",
       "      <td>NO SUBCOMMODITY DESCRIPTION</td>\n",
       "      <td></td>\n",
       "    </tr>\n",
       "  </tbody>\n",
       "</table>\n",
       "</div>"
      ],
      "text/plain": [
       "   item_id  manufacturer    department     brand            commodity_desc  \\\n",
       "0    25671             2       GROCERY  National                  FRZN ICE   \n",
       "1    26081             2  MISC. TRANS.  National  NO COMMODITY DESCRIPTION   \n",
       "\n",
       "            sub_commodity_desc curr_size_of_product  \n",
       "0          ICE - CRUSHED/CUBED                22 LB  \n",
       "1  NO SUBCOMMODITY DESCRIPTION                       "
      ]
     },
     "execution_count": 48,
     "metadata": {},
     "output_type": "execute_result"
    }
   ],
   "source": [
    "item_features.head(2)"
   ]
  },
  {
   "cell_type": "code",
   "execution_count": 49,
   "id": "2a3984c4",
   "metadata": {
    "execution": {
     "iopub.execute_input": "2022-05-08T19:45:24.893248Z",
     "iopub.status.busy": "2022-05-08T19:45:24.892793Z",
     "iopub.status.idle": "2022-05-08T19:45:24.905557Z",
     "shell.execute_reply": "2022-05-08T19:45:24.904512Z"
    },
    "papermill": {
     "duration": 0.113755,
     "end_time": "2022-05-08T19:45:24.907624",
     "exception": false,
     "start_time": "2022-05-08T19:45:24.793869",
     "status": "completed"
    },
    "tags": []
   },
   "outputs": [
    {
     "data": {
      "text/html": [
       "<div>\n",
       "<style scoped>\n",
       "    .dataframe tbody tr th:only-of-type {\n",
       "        vertical-align: middle;\n",
       "    }\n",
       "\n",
       "    .dataframe tbody tr th {\n",
       "        vertical-align: top;\n",
       "    }\n",
       "\n",
       "    .dataframe thead th {\n",
       "        text-align: right;\n",
       "    }\n",
       "</style>\n",
       "<table border=\"1\" class=\"dataframe\">\n",
       "  <thead>\n",
       "    <tr style=\"text-align: right;\">\n",
       "      <th></th>\n",
       "      <th>age_desc</th>\n",
       "      <th>marital_status_code</th>\n",
       "      <th>income_desc</th>\n",
       "      <th>homeowner_desc</th>\n",
       "      <th>hh_comp_desc</th>\n",
       "      <th>household_size_desc</th>\n",
       "      <th>kid_category_desc</th>\n",
       "      <th>user_id</th>\n",
       "    </tr>\n",
       "  </thead>\n",
       "  <tbody>\n",
       "    <tr>\n",
       "      <th>0</th>\n",
       "      <td>65+</td>\n",
       "      <td>A</td>\n",
       "      <td>35-49K</td>\n",
       "      <td>Homeowner</td>\n",
       "      <td>2 Adults No Kids</td>\n",
       "      <td>2</td>\n",
       "      <td>None/Unknown</td>\n",
       "      <td>1</td>\n",
       "    </tr>\n",
       "    <tr>\n",
       "      <th>1</th>\n",
       "      <td>45-54</td>\n",
       "      <td>A</td>\n",
       "      <td>50-74K</td>\n",
       "      <td>Homeowner</td>\n",
       "      <td>2 Adults No Kids</td>\n",
       "      <td>2</td>\n",
       "      <td>None/Unknown</td>\n",
       "      <td>7</td>\n",
       "    </tr>\n",
       "  </tbody>\n",
       "</table>\n",
       "</div>"
      ],
      "text/plain": [
       "  age_desc marital_status_code income_desc homeowner_desc      hh_comp_desc  \\\n",
       "0      65+                   A      35-49K      Homeowner  2 Adults No Kids   \n",
       "1    45-54                   A      50-74K      Homeowner  2 Adults No Kids   \n",
       "\n",
       "  household_size_desc kid_category_desc  user_id  \n",
       "0                   2      None/Unknown        1  \n",
       "1                   2      None/Unknown        7  "
      ]
     },
     "execution_count": 49,
     "metadata": {},
     "output_type": "execute_result"
    }
   ],
   "source": [
    "user_features.head(2)"
   ]
  },
  {
   "cell_type": "code",
   "execution_count": 50,
   "id": "9ec4da68",
   "metadata": {
    "execution": {
     "iopub.execute_input": "2022-05-08T19:45:25.106690Z",
     "iopub.status.busy": "2022-05-08T19:45:25.106393Z",
     "iopub.status.idle": "2022-05-08T19:45:25.177542Z",
     "shell.execute_reply": "2022-05-08T19:45:25.176652Z"
    },
    "papermill": {
     "duration": 0.17305,
     "end_time": "2022-05-08T19:45:25.179650",
     "exception": false,
     "start_time": "2022-05-08T19:45:25.006600",
     "status": "completed"
    },
    "tags": []
   },
   "outputs": [
    {
     "data": {
      "text/html": [
       "<div>\n",
       "<style scoped>\n",
       "    .dataframe tbody tr th:only-of-type {\n",
       "        vertical-align: middle;\n",
       "    }\n",
       "\n",
       "    .dataframe tbody tr th {\n",
       "        vertical-align: top;\n",
       "    }\n",
       "\n",
       "    .dataframe thead th {\n",
       "        text-align: right;\n",
       "    }\n",
       "</style>\n",
       "<table border=\"1\" class=\"dataframe\">\n",
       "  <thead>\n",
       "    <tr style=\"text-align: right;\">\n",
       "      <th></th>\n",
       "      <th>user_id</th>\n",
       "      <th>item_id</th>\n",
       "      <th>target</th>\n",
       "      <th>manufacturer</th>\n",
       "      <th>department</th>\n",
       "      <th>brand</th>\n",
       "      <th>commodity_desc</th>\n",
       "      <th>sub_commodity_desc</th>\n",
       "      <th>curr_size_of_product</th>\n",
       "      <th>age_desc</th>\n",
       "      <th>marital_status_code</th>\n",
       "      <th>income_desc</th>\n",
       "      <th>homeowner_desc</th>\n",
       "      <th>hh_comp_desc</th>\n",
       "      <th>household_size_desc</th>\n",
       "      <th>kid_category_desc</th>\n",
       "    </tr>\n",
       "  </thead>\n",
       "  <tbody>\n",
       "    <tr>\n",
       "      <th>0</th>\n",
       "      <td>2070</td>\n",
       "      <td>1105426</td>\n",
       "      <td>0.0</td>\n",
       "      <td>69</td>\n",
       "      <td>DELI</td>\n",
       "      <td>Private</td>\n",
       "      <td>SANDWICHES</td>\n",
       "      <td>SANDWICHES - (COLD)</td>\n",
       "      <td></td>\n",
       "      <td>45-54</td>\n",
       "      <td>U</td>\n",
       "      <td>50-74K</td>\n",
       "      <td>Unknown</td>\n",
       "      <td>Unknown</td>\n",
       "      <td>1</td>\n",
       "      <td>None/Unknown</td>\n",
       "    </tr>\n",
       "    <tr>\n",
       "      <th>1</th>\n",
       "      <td>2070</td>\n",
       "      <td>1097350</td>\n",
       "      <td>0.0</td>\n",
       "      <td>2468</td>\n",
       "      <td>GROCERY</td>\n",
       "      <td>National</td>\n",
       "      <td>DOMESTIC WINE</td>\n",
       "      <td>VALUE GLASS WINE</td>\n",
       "      <td>4 LTR</td>\n",
       "      <td>45-54</td>\n",
       "      <td>U</td>\n",
       "      <td>50-74K</td>\n",
       "      <td>Unknown</td>\n",
       "      <td>Unknown</td>\n",
       "      <td>1</td>\n",
       "      <td>None/Unknown</td>\n",
       "    </tr>\n",
       "  </tbody>\n",
       "</table>\n",
       "</div>"
      ],
      "text/plain": [
       "   user_id  item_id  target  manufacturer department     brand commodity_desc  \\\n",
       "0     2070  1105426     0.0            69       DELI   Private     SANDWICHES   \n",
       "1     2070  1097350     0.0          2468    GROCERY  National  DOMESTIC WINE   \n",
       "\n",
       "    sub_commodity_desc curr_size_of_product age_desc marital_status_code  \\\n",
       "0  SANDWICHES - (COLD)                         45-54                   U   \n",
       "1     VALUE GLASS WINE                4 LTR    45-54                   U   \n",
       "\n",
       "  income_desc homeowner_desc hh_comp_desc household_size_desc  \\\n",
       "0      50-74K        Unknown      Unknown                   1   \n",
       "1      50-74K        Unknown      Unknown                   1   \n",
       "\n",
       "  kid_category_desc  \n",
       "0      None/Unknown  \n",
       "1      None/Unknown  "
      ]
     },
     "execution_count": 50,
     "metadata": {},
     "output_type": "execute_result"
    }
   ],
   "source": [
    "df_ranker_train = df_ranker_train.merge(item_features, on='item_id', how='left')\n",
    "df_ranker_train = df_ranker_train.merge(user_features, on='user_id', how='left')\n",
    "\n",
    "df_ranker_train.head(2)"
   ]
  },
  {
   "cell_type": "markdown",
   "id": "842f9e36",
   "metadata": {
    "papermill": {
     "duration": 0.099606,
     "end_time": "2022-05-08T19:45:25.378337",
     "exception": false,
     "start_time": "2022-05-08T19:45:25.278731",
     "status": "completed"
    },
    "tags": []
   },
   "source": [
    "**Фичи user_id:**\n",
    "    - Средний чек\n",
    "    - Средняя сумма покупки 1 товара в каждой категории\n",
    "    - Кол-во покупок в каждой категории\n",
    "    - Частотность покупок раз/месяц\n",
    "    - Долю покупок в выходные\n",
    "    - Долю покупок утром/днем/вечером\n",
    "\n",
    "**Фичи item_id**:\n",
    "    - Кол-во покупок в неделю\n",
    "    - Среднее кол-во покупок 1 товара в категории в неделю\n",
    "    - (Кол-во покупок в неделю) / (Среднее ол-во покупок 1 товара в категории в неделю)\n",
    "    - Цена (Можно посчитать из retil_train.csv)\n",
    "    - Цена / Средняя цена товара в категории\n",
    "    \n",
    "**Фичи пары user_id - item_id**\n",
    "    - (Средняя сумма покупки 1 товара в каждой категории (берем категорию item_id)) - (Цена item_id)\n",
    "    - (Кол-во покупок юзером конкретной категории в неделю) - (Среднее кол-во покупок всеми юзерами конкретной категории в неделю)\n",
    "    - (Кол-во покупок юзером конкретной категории в неделю) / (Среднее кол-во покупок всеми юзерами конкретной категории в неделю)"
   ]
  },
  {
   "cell_type": "code",
   "execution_count": 51,
   "id": "92a3e731",
   "metadata": {
    "execution": {
     "iopub.execute_input": "2022-05-08T19:45:25.582978Z",
     "iopub.status.busy": "2022-05-08T19:45:25.582663Z",
     "iopub.status.idle": "2022-05-08T19:45:25.600059Z",
     "shell.execute_reply": "2022-05-08T19:45:25.599206Z"
    },
    "papermill": {
     "duration": 0.122547,
     "end_time": "2022-05-08T19:45:25.602281",
     "exception": false,
     "start_time": "2022-05-08T19:45:25.479734",
     "status": "completed"
    },
    "tags": []
   },
   "outputs": [
    {
     "data": {
      "text/html": [
       "<div>\n",
       "<style scoped>\n",
       "    .dataframe tbody tr th:only-of-type {\n",
       "        vertical-align: middle;\n",
       "    }\n",
       "\n",
       "    .dataframe tbody tr th {\n",
       "        vertical-align: top;\n",
       "    }\n",
       "\n",
       "    .dataframe thead th {\n",
       "        text-align: right;\n",
       "    }\n",
       "</style>\n",
       "<table border=\"1\" class=\"dataframe\">\n",
       "  <thead>\n",
       "    <tr style=\"text-align: right;\">\n",
       "      <th></th>\n",
       "      <th>user_id</th>\n",
       "      <th>item_id</th>\n",
       "      <th>target</th>\n",
       "      <th>manufacturer</th>\n",
       "      <th>department</th>\n",
       "      <th>brand</th>\n",
       "      <th>commodity_desc</th>\n",
       "      <th>sub_commodity_desc</th>\n",
       "      <th>curr_size_of_product</th>\n",
       "      <th>age_desc</th>\n",
       "      <th>marital_status_code</th>\n",
       "      <th>income_desc</th>\n",
       "      <th>homeowner_desc</th>\n",
       "      <th>hh_comp_desc</th>\n",
       "      <th>household_size_desc</th>\n",
       "      <th>kid_category_desc</th>\n",
       "    </tr>\n",
       "  </thead>\n",
       "  <tbody>\n",
       "    <tr>\n",
       "      <th>0</th>\n",
       "      <td>2070</td>\n",
       "      <td>1105426</td>\n",
       "      <td>0.0</td>\n",
       "      <td>69</td>\n",
       "      <td>DELI</td>\n",
       "      <td>Private</td>\n",
       "      <td>SANDWICHES</td>\n",
       "      <td>SANDWICHES - (COLD)</td>\n",
       "      <td></td>\n",
       "      <td>45-54</td>\n",
       "      <td>U</td>\n",
       "      <td>50-74K</td>\n",
       "      <td>Unknown</td>\n",
       "      <td>Unknown</td>\n",
       "      <td>1</td>\n",
       "      <td>None/Unknown</td>\n",
       "    </tr>\n",
       "    <tr>\n",
       "      <th>1</th>\n",
       "      <td>2070</td>\n",
       "      <td>1097350</td>\n",
       "      <td>0.0</td>\n",
       "      <td>2468</td>\n",
       "      <td>GROCERY</td>\n",
       "      <td>National</td>\n",
       "      <td>DOMESTIC WINE</td>\n",
       "      <td>VALUE GLASS WINE</td>\n",
       "      <td>4 LTR</td>\n",
       "      <td>45-54</td>\n",
       "      <td>U</td>\n",
       "      <td>50-74K</td>\n",
       "      <td>Unknown</td>\n",
       "      <td>Unknown</td>\n",
       "      <td>1</td>\n",
       "      <td>None/Unknown</td>\n",
       "    </tr>\n",
       "    <tr>\n",
       "      <th>2</th>\n",
       "      <td>2070</td>\n",
       "      <td>879194</td>\n",
       "      <td>0.0</td>\n",
       "      <td>69</td>\n",
       "      <td>DRUG GM</td>\n",
       "      <td>Private</td>\n",
       "      <td>DIAPERS &amp; DISPOSABLES</td>\n",
       "      <td>BABY DIAPERS</td>\n",
       "      <td>14 CT</td>\n",
       "      <td>45-54</td>\n",
       "      <td>U</td>\n",
       "      <td>50-74K</td>\n",
       "      <td>Unknown</td>\n",
       "      <td>Unknown</td>\n",
       "      <td>1</td>\n",
       "      <td>None/Unknown</td>\n",
       "    </tr>\n",
       "    <tr>\n",
       "      <th>3</th>\n",
       "      <td>2070</td>\n",
       "      <td>948640</td>\n",
       "      <td>0.0</td>\n",
       "      <td>1213</td>\n",
       "      <td>DRUG GM</td>\n",
       "      <td>National</td>\n",
       "      <td>ORAL HYGIENE PRODUCTS</td>\n",
       "      <td>WHITENING SYSTEMS</td>\n",
       "      <td>3 OZ</td>\n",
       "      <td>45-54</td>\n",
       "      <td>U</td>\n",
       "      <td>50-74K</td>\n",
       "      <td>Unknown</td>\n",
       "      <td>Unknown</td>\n",
       "      <td>1</td>\n",
       "      <td>None/Unknown</td>\n",
       "    </tr>\n",
       "    <tr>\n",
       "      <th>4</th>\n",
       "      <td>2070</td>\n",
       "      <td>928263</td>\n",
       "      <td>0.0</td>\n",
       "      <td>69</td>\n",
       "      <td>DRUG GM</td>\n",
       "      <td>Private</td>\n",
       "      <td>DIAPERS &amp; DISPOSABLES</td>\n",
       "      <td>BABY DIAPERS</td>\n",
       "      <td>13 CT</td>\n",
       "      <td>45-54</td>\n",
       "      <td>U</td>\n",
       "      <td>50-74K</td>\n",
       "      <td>Unknown</td>\n",
       "      <td>Unknown</td>\n",
       "      <td>1</td>\n",
       "      <td>None/Unknown</td>\n",
       "    </tr>\n",
       "  </tbody>\n",
       "</table>\n",
       "</div>"
      ],
      "text/plain": [
       "   user_id  item_id  target  manufacturer department     brand  \\\n",
       "0     2070  1105426     0.0            69       DELI   Private   \n",
       "1     2070  1097350     0.0          2468    GROCERY  National   \n",
       "2     2070   879194     0.0            69    DRUG GM   Private   \n",
       "3     2070   948640     0.0          1213    DRUG GM  National   \n",
       "4     2070   928263     0.0            69    DRUG GM   Private   \n",
       "\n",
       "          commodity_desc   sub_commodity_desc curr_size_of_product age_desc  \\\n",
       "0             SANDWICHES  SANDWICHES - (COLD)                         45-54   \n",
       "1          DOMESTIC WINE     VALUE GLASS WINE                4 LTR    45-54   \n",
       "2  DIAPERS & DISPOSABLES         BABY DIAPERS                14 CT    45-54   \n",
       "3  ORAL HYGIENE PRODUCTS    WHITENING SYSTEMS                 3 OZ    45-54   \n",
       "4  DIAPERS & DISPOSABLES         BABY DIAPERS                13 CT    45-54   \n",
       "\n",
       "  marital_status_code income_desc homeowner_desc hh_comp_desc  \\\n",
       "0                   U      50-74K        Unknown      Unknown   \n",
       "1                   U      50-74K        Unknown      Unknown   \n",
       "2                   U      50-74K        Unknown      Unknown   \n",
       "3                   U      50-74K        Unknown      Unknown   \n",
       "4                   U      50-74K        Unknown      Unknown   \n",
       "\n",
       "  household_size_desc kid_category_desc  \n",
       "0                   1      None/Unknown  \n",
       "1                   1      None/Unknown  \n",
       "2                   1      None/Unknown  \n",
       "3                   1      None/Unknown  \n",
       "4                   1      None/Unknown  "
      ]
     },
     "execution_count": 51,
     "metadata": {},
     "output_type": "execute_result"
    }
   ],
   "source": [
    "df_ranker_train.head()"
   ]
  },
  {
   "cell_type": "code",
   "execution_count": 52,
   "id": "03cf70cd",
   "metadata": {
    "execution": {
     "iopub.execute_input": "2022-05-08T19:45:25.802520Z",
     "iopub.status.busy": "2022-05-08T19:45:25.801829Z",
     "iopub.status.idle": "2022-05-08T19:45:25.829630Z",
     "shell.execute_reply": "2022-05-08T19:45:25.828578Z"
    },
    "papermill": {
     "duration": 0.130399,
     "end_time": "2022-05-08T19:45:25.831984",
     "exception": false,
     "start_time": "2022-05-08T19:45:25.701585",
     "status": "completed"
    },
    "tags": []
   },
   "outputs": [],
   "source": [
    "X_train = df_ranker_train.drop('target', axis=1)\n",
    "y_train = df_ranker_train[['target']]"
   ]
  },
  {
   "cell_type": "code",
   "execution_count": 53,
   "id": "12352a9f",
   "metadata": {
    "execution": {
     "iopub.execute_input": "2022-05-08T19:45:26.032685Z",
     "iopub.status.busy": "2022-05-08T19:45:26.032362Z",
     "iopub.status.idle": "2022-05-08T19:45:26.180759Z",
     "shell.execute_reply": "2022-05-08T19:45:26.179908Z"
    },
    "papermill": {
     "duration": 0.250671,
     "end_time": "2022-05-08T19:45:26.182636",
     "exception": false,
     "start_time": "2022-05-08T19:45:25.931965",
     "status": "completed"
    },
    "scrolled": true,
    "tags": []
   },
   "outputs": [
    {
     "data": {
      "text/plain": [
       "['manufacturer',\n",
       " 'department',\n",
       " 'brand',\n",
       " 'commodity_desc',\n",
       " 'sub_commodity_desc',\n",
       " 'curr_size_of_product',\n",
       " 'age_desc',\n",
       " 'marital_status_code',\n",
       " 'income_desc',\n",
       " 'homeowner_desc',\n",
       " 'hh_comp_desc',\n",
       " 'household_size_desc',\n",
       " 'kid_category_desc']"
      ]
     },
     "execution_count": 53,
     "metadata": {},
     "output_type": "execute_result"
    }
   ],
   "source": [
    "cat_feats = X_train.columns[2:].tolist()\n",
    "X_train[cat_feats] = X_train[cat_feats].astype('category')\n",
    "\n",
    "cat_feats"
   ]
  },
  {
   "cell_type": "markdown",
   "id": "558097d3",
   "metadata": {
    "papermill": {
     "duration": 0.098551,
     "end_time": "2022-05-08T19:45:26.380259",
     "exception": false,
     "start_time": "2022-05-08T19:45:26.281708",
     "status": "completed"
    },
    "tags": []
   },
   "source": [
    "## Обучение модели ранжирования"
   ]
  },
  {
   "cell_type": "code",
   "execution_count": 54,
   "id": "275fec90",
   "metadata": {
    "execution": {
     "iopub.execute_input": "2022-05-08T19:45:26.607704Z",
     "iopub.status.busy": "2022-05-08T19:45:26.607389Z",
     "iopub.status.idle": "2022-05-08T19:45:26.611034Z",
     "shell.execute_reply": "2022-05-08T19:45:26.610224Z"
    },
    "papermill": {
     "duration": 0.106768,
     "end_time": "2022-05-08T19:45:26.612779",
     "exception": false,
     "start_time": "2022-05-08T19:45:26.506011",
     "status": "completed"
    },
    "tags": []
   },
   "outputs": [],
   "source": [
    "# делали на вебинаре, кусок с катбустом\n",
    "\n",
    "# from catboost import CatBoost, Pool\n",
    "\n",
    "# df_bin_feat = pd.get_dummies(X_train)\n",
    "\n",
    "# model = CatBoost(params ={'objective': \"Logloss\",\n",
    "#                           \"iterations\":1000,\n",
    "#                           \"max_depth\":8,\n",
    "#                           \"task_type\":\"GPU\",\n",
    "#                           \"devices\":\"0:1:2:3\"\n",
    "#             })\n",
    "# model.fit(df_bin_juice, y_train, silent=True)\n",
    "\n",
    "# train_preds = model.predict(df_bin_feat,prediction_type=\"Probability\")"
   ]
  },
  {
   "cell_type": "code",
   "execution_count": 55,
   "id": "2c7ee50e",
   "metadata": {
    "execution": {
     "iopub.execute_input": "2022-05-08T19:45:26.812007Z",
     "iopub.status.busy": "2022-05-08T19:45:26.811730Z",
     "iopub.status.idle": "2022-05-08T19:45:30.218788Z",
     "shell.execute_reply": "2022-05-08T19:45:30.218066Z"
    },
    "papermill": {
     "duration": 3.509982,
     "end_time": "2022-05-08T19:45:30.221176",
     "exception": false,
     "start_time": "2022-05-08T19:45:26.711194",
     "status": "completed"
    },
    "tags": []
   },
   "outputs": [
    {
     "name": "stderr",
     "output_type": "stream",
     "text": [
      "/opt/conda/lib/python3.7/site-packages/sklearn/preprocessing/_label.py:98: DataConversionWarning: A column-vector y was passed when a 1d array was expected. Please change the shape of y to (n_samples, ), for example using ravel().\n",
      "  y = column_or_1d(y, warn=True)\n",
      "/opt/conda/lib/python3.7/site-packages/sklearn/preprocessing/_label.py:133: DataConversionWarning: A column-vector y was passed when a 1d array was expected. Please change the shape of y to (n_samples, ), for example using ravel().\n",
      "  y = column_or_1d(y, warn=True)\n",
      "/opt/conda/lib/python3.7/site-packages/lightgbm/basic.py:1513: UserWarning: categorical_column in param dict is overridden.\n",
      "  _log_warning(f'{cat_alias} in param dict is overridden.')\n"
     ]
    }
   ],
   "source": [
    "lgb = LGBMClassifier(objective='binary',\n",
    "                     max_depth=8,\n",
    "                     n_estimators=300,\n",
    "                     learning_rate=0.05,\n",
    "                     categorical_column=cat_feats,\n",
    "                     n_jobs=-1,\n",
    "#                      verbose=0\n",
    "                   )\n",
    "\n",
    "lgb.fit(X_train, y_train)\n",
    "\n",
    "train_preds = lgb.predict_proba(X_train)"
   ]
  },
  {
   "cell_type": "code",
   "execution_count": 56,
   "id": "d66ad4ad",
   "metadata": {
    "execution": {
     "iopub.execute_input": "2022-05-08T19:45:30.423718Z",
     "iopub.status.busy": "2022-05-08T19:45:30.423223Z",
     "iopub.status.idle": "2022-05-08T19:45:30.431431Z",
     "shell.execute_reply": "2022-05-08T19:45:30.430846Z"
    },
    "papermill": {
     "duration": 0.112986,
     "end_time": "2022-05-08T19:45:30.433531",
     "exception": false,
     "start_time": "2022-05-08T19:45:30.320545",
     "status": "completed"
    },
    "tags": []
   },
   "outputs": [],
   "source": [
    "df_ranker_predict = df_ranker_train.copy()"
   ]
  },
  {
   "cell_type": "code",
   "execution_count": 57,
   "id": "7b5e9b11",
   "metadata": {
    "execution": {
     "iopub.execute_input": "2022-05-08T19:45:30.640846Z",
     "iopub.status.busy": "2022-05-08T19:45:30.640311Z",
     "iopub.status.idle": "2022-05-08T19:45:30.644793Z",
     "shell.execute_reply": "2022-05-08T19:45:30.644246Z"
    },
    "papermill": {
     "duration": 0.110654,
     "end_time": "2022-05-08T19:45:30.646792",
     "exception": false,
     "start_time": "2022-05-08T19:45:30.536138",
     "status": "completed"
    },
    "tags": []
   },
   "outputs": [],
   "source": [
    "df_ranker_predict['proba_item_purchase'] = train_preds[:,1]"
   ]
  },
  {
   "cell_type": "code",
   "execution_count": 58,
   "id": "1b25b22e",
   "metadata": {
    "execution": {
     "iopub.execute_input": "2022-05-08T19:45:30.848009Z",
     "iopub.status.busy": "2022-05-08T19:45:30.847472Z",
     "iopub.status.idle": "2022-05-08T19:45:30.853380Z",
     "shell.execute_reply": "2022-05-08T19:45:30.852848Z"
    },
    "papermill": {
     "duration": 0.107349,
     "end_time": "2022-05-08T19:45:30.855112",
     "exception": false,
     "start_time": "2022-05-08T19:45:30.747763",
     "status": "completed"
    },
    "tags": []
   },
   "outputs": [
    {
     "data": {
      "text/plain": [
       "0    0.036421\n",
       "1    0.022789\n",
       "2    0.034224\n",
       "3    0.000956\n",
       "4    0.296946\n",
       "5    0.041391\n",
       "6    0.086421\n",
       "7    0.002064\n",
       "8    0.082280\n",
       "9    0.469736\n",
       "Name: proba_item_purchase, dtype: float64"
      ]
     },
     "execution_count": 58,
     "metadata": {},
     "output_type": "execute_result"
    }
   ],
   "source": [
    "df_ranker_predict['proba_item_purchase'][:10]"
   ]
  },
  {
   "cell_type": "markdown",
   "id": "ab645291",
   "metadata": {
    "papermill": {
     "duration": 0.099037,
     "end_time": "2022-05-08T19:45:31.053453",
     "exception": false,
     "start_time": "2022-05-08T19:45:30.954416",
     "status": "completed"
    },
    "tags": []
   },
   "source": [
    "## Подведем итоги\n",
    "\n",
    "    Мы обучили модель ранжирования на покупках из сета data_train_ranker и на кандитатах от own_recommendations, что является тренировочным сетом, и теперь наша задача предсказать и оценить именно на тестовом сете."
   ]
  },
  {
   "cell_type": "markdown",
   "id": "2327a879",
   "metadata": {
    "papermill": {
     "duration": 0.098836,
     "end_time": "2022-05-08T19:45:31.251546",
     "exception": false,
     "start_time": "2022-05-08T19:45:31.152710",
     "status": "completed"
    },
    "tags": []
   },
   "source": [
    "# Evaluation on test dataset"
   ]
  },
  {
   "cell_type": "code",
   "execution_count": 59,
   "id": "e0a82a7b",
   "metadata": {
    "execution": {
     "iopub.execute_input": "2022-05-08T19:45:31.454348Z",
     "iopub.status.busy": "2022-05-08T19:45:31.454030Z",
     "iopub.status.idle": "2022-05-08T19:45:31.561603Z",
     "shell.execute_reply": "2022-05-08T19:45:31.560587Z"
    },
    "papermill": {
     "duration": 0.210583,
     "end_time": "2022-05-08T19:45:31.563903",
     "exception": false,
     "start_time": "2022-05-08T19:45:31.353320",
     "status": "completed"
    },
    "tags": []
   },
   "outputs": [
    {
     "data": {
      "text/html": [
       "<div>\n",
       "<style scoped>\n",
       "    .dataframe tbody tr th:only-of-type {\n",
       "        vertical-align: middle;\n",
       "    }\n",
       "\n",
       "    .dataframe tbody tr th {\n",
       "        vertical-align: top;\n",
       "    }\n",
       "\n",
       "    .dataframe thead th {\n",
       "        text-align: right;\n",
       "    }\n",
       "</style>\n",
       "<table border=\"1\" class=\"dataframe\">\n",
       "  <thead>\n",
       "    <tr style=\"text-align: right;\">\n",
       "      <th></th>\n",
       "      <th>user_id</th>\n",
       "      <th>actual</th>\n",
       "    </tr>\n",
       "  </thead>\n",
       "  <tbody>\n",
       "    <tr>\n",
       "      <th>0</th>\n",
       "      <td>1</td>\n",
       "      <td>[821867, 834484, 856942, 865456, 889248, 90795...</td>\n",
       "    </tr>\n",
       "    <tr>\n",
       "      <th>1</th>\n",
       "      <td>3</td>\n",
       "      <td>[835476, 851057, 872021, 878302, 879948, 90963...</td>\n",
       "    </tr>\n",
       "  </tbody>\n",
       "</table>\n",
       "</div>"
      ],
      "text/plain": [
       "   user_id                                             actual\n",
       "0        1  [821867, 834484, 856942, 865456, 889248, 90795...\n",
       "1        3  [835476, 851057, 872021, 878302, 879948, 90963..."
      ]
     },
     "execution_count": 59,
     "metadata": {},
     "output_type": "execute_result"
    }
   ],
   "source": [
    "result_eval_ranker = data_val_ranker.groupby(USER_COL)[ITEM_COL].unique().reset_index()\n",
    "result_eval_ranker.columns=[USER_COL, ACTUAL_COL]\n",
    "result_eval_ranker.head(2)"
   ]
  },
  {
   "cell_type": "markdown",
   "id": "120db237",
   "metadata": {
    "papermill": {
     "duration": 0.099542,
     "end_time": "2022-05-08T19:45:31.765894",
     "exception": false,
     "start_time": "2022-05-08T19:45:31.666352",
     "status": "completed"
    },
    "tags": []
   },
   "source": [
    "## Eval matching on test dataset"
   ]
  },
  {
   "cell_type": "code",
   "execution_count": 60,
   "id": "47a4904e",
   "metadata": {
    "execution": {
     "iopub.execute_input": "2022-05-08T19:45:31.966936Z",
     "iopub.status.busy": "2022-05-08T19:45:31.966380Z",
     "iopub.status.idle": "2022-05-08T19:45:40.233594Z",
     "shell.execute_reply": "2022-05-08T19:45:40.232537Z"
    },
    "papermill": {
     "duration": 8.37045,
     "end_time": "2022-05-08T19:45:40.236182",
     "exception": false,
     "start_time": "2022-05-08T19:45:31.865732",
     "status": "completed"
    },
    "tags": []
   },
   "outputs": [
    {
     "name": "stdout",
     "output_type": "stream",
     "text": [
      "CPU times: user 8.26 s, sys: 1.6 ms, total: 8.26 s\n",
      "Wall time: 8.26 s\n"
     ]
    }
   ],
   "source": [
    "%%time\n",
    "result_eval_ranker['own_rec'] = result_eval_ranker[USER_COL].apply(lambda x: recommender.get_own_recommendations(x, N=N_PREDICT))"
   ]
  },
  {
   "cell_type": "code",
   "execution_count": 61,
   "id": "90e485b2",
   "metadata": {
    "execution": {
     "iopub.execute_input": "2022-05-08T19:45:40.442447Z",
     "iopub.status.busy": "2022-05-08T19:45:40.442164Z",
     "iopub.status.idle": "2022-05-08T19:45:40.535646Z",
     "shell.execute_reply": "2022-05-08T19:45:40.534595Z"
    },
    "papermill": {
     "duration": 0.20029,
     "end_time": "2022-05-08T19:45:40.537814",
     "exception": false,
     "start_time": "2022-05-08T19:45:40.337524",
     "status": "completed"
    },
    "tags": []
   },
   "outputs": [
    {
     "data": {
      "text/plain": [
       "[('own_rec', 0.14441176470588235)]"
      ]
     },
     "execution_count": 61,
     "metadata": {},
     "output_type": "execute_result"
    }
   ],
   "source": [
    "# померяем precision только модели матчинга, чтобы понимать влияение ранжирования на метрики\n",
    "\n",
    "sorted(calc_precision(result_eval_ranker, TOPK_PRECISION), key=lambda x: x[1], reverse=True)"
   ]
  },
  {
   "cell_type": "markdown",
   "id": "4a9445b6",
   "metadata": {
    "papermill": {
     "duration": 0.099913,
     "end_time": "2022-05-08T19:45:40.737332",
     "exception": false,
     "start_time": "2022-05-08T19:45:40.637419",
     "status": "completed"
    },
    "tags": []
   },
   "source": [
    "## Eval re-ranked matched result on test dataset\n",
    "    Вспомним df_match_candidates сет, который был получен own_recommendations на юзерах, набор пользователей мы фиксировали и он одинаков, значи и прогноз одинаков, поэтому мы можем использовать этот датафрейм для переранжирования.\n",
    "    "
   ]
  },
  {
   "cell_type": "code",
   "execution_count": 62,
   "id": "43a210c2",
   "metadata": {
    "execution": {
     "iopub.execute_input": "2022-05-08T19:45:40.938935Z",
     "iopub.status.busy": "2022-05-08T19:45:40.938679Z",
     "iopub.status.idle": "2022-05-08T19:45:40.942235Z",
     "shell.execute_reply": "2022-05-08T19:45:40.941667Z"
    },
    "papermill": {
     "duration": 0.106778,
     "end_time": "2022-05-08T19:45:40.943984",
     "exception": false,
     "start_time": "2022-05-08T19:45:40.837206",
     "status": "completed"
    },
    "tags": []
   },
   "outputs": [],
   "source": [
    "def rerank(user_id):\n",
    "    return df_ranker_predict[df_ranker_predict[USER_COL]==user_id].sort_values('proba_item_purchase', ascending=False).head(5).item_id.tolist()"
   ]
  },
  {
   "cell_type": "code",
   "execution_count": 63,
   "id": "90fdcd89",
   "metadata": {
    "execution": {
     "iopub.execute_input": "2022-05-08T19:45:41.146136Z",
     "iopub.status.busy": "2022-05-08T19:45:41.145536Z",
     "iopub.status.idle": "2022-05-08T19:45:42.876109Z",
     "shell.execute_reply": "2022-05-08T19:45:42.875170Z"
    },
    "papermill": {
     "duration": 1.834476,
     "end_time": "2022-05-08T19:45:42.878448",
     "exception": false,
     "start_time": "2022-05-08T19:45:41.043972",
     "status": "completed"
    },
    "tags": []
   },
   "outputs": [],
   "source": [
    "result_eval_ranker['reranked_own_rec'] = result_eval_ranker[USER_COL].apply(lambda user_id: rerank(user_id))"
   ]
  },
  {
   "cell_type": "code",
   "execution_count": 64,
   "id": "d785fe32",
   "metadata": {
    "execution": {
     "iopub.execute_input": "2022-05-08T19:45:43.082357Z",
     "iopub.status.busy": "2022-05-08T19:45:43.082061Z",
     "iopub.status.idle": "2022-05-08T19:45:43.273969Z",
     "shell.execute_reply": "2022-05-08T19:45:43.272281Z"
    },
    "papermill": {
     "duration": 0.296597,
     "end_time": "2022-05-08T19:45:43.276418",
     "exception": false,
     "start_time": "2022-05-08T19:45:42.979821",
     "status": "completed"
    },
    "scrolled": true,
    "tags": []
   },
   "outputs": [
    {
     "name": "stdout",
     "output_type": "stream",
     "text": [
      "('reranked_own_rec', 0.15331592689295037)\n",
      "('own_rec', 0.14441176470588235)\n"
     ]
    },
    {
     "name": "stderr",
     "output_type": "stream",
     "text": [
      "/kaggle/working/metrics.py:20: RuntimeWarning: invalid value encountered in long_scalars\n",
      "  return flags.sum() / len(recommended_list)\n"
     ]
    }
   ],
   "source": [
    "print(*sorted(calc_precision(result_eval_ranker, TOPK_PRECISION), key=lambda x: x[1], reverse=True), sep='\\n')"
   ]
  },
  {
   "cell_type": "markdown",
   "id": "e730588a",
   "metadata": {
    "papermill": {
     "duration": 0.103796,
     "end_time": "2022-05-08T19:45:43.481120",
     "exception": false,
     "start_time": "2022-05-08T19:45:43.377324",
     "status": "completed"
    },
    "tags": []
   },
   "source": [
    "Берем топ-k предсказаний, ранжированных по вероятности, для каждого юзера"
   ]
  },
  {
   "cell_type": "markdown",
   "id": "a6c292c5",
   "metadata": {
    "papermill": {
     "duration": 0.100179,
     "end_time": "2022-05-08T19:45:43.682120",
     "exception": false,
     "start_time": "2022-05-08T19:45:43.581941",
     "status": "completed"
    },
    "tags": []
   },
   "source": [
    "# Домашнее задание"
   ]
  },
  {
   "cell_type": "markdown",
   "id": "9cb2a148",
   "metadata": {
    "papermill": {
     "duration": 0.10004,
     "end_time": "2022-05-08T19:45:43.882306",
     "exception": false,
     "start_time": "2022-05-08T19:45:43.782266",
     "status": "completed"
    },
    "tags": []
   },
   "source": [
    "### **Задание 1.**\n",
    "\n",
    "A) Попробуйте различные варианты генерации кандидатов. Какие из них дают наибольший recall@k ?\n",
    "- Пока пробуем отобрать 50 кандидатов (k=50)\n",
    "- Качество измеряем на data_val_matcher: следующие 6 недель после трейна\n",
    "\n",
    "Дают ли own recommendtions + top-popular лучший recall?  \n",
    "\n",
    "B)* Как зависит recall@k от k? Постройте для одной схемы генерации кандидатов эту зависимость для k = {20, 50, 100, 200, 500}  \n",
    "C)* Исходя из прошлого вопроса, как вы думаете, какое значение k является наиболее разумным?\n"
   ]
  },
  {
   "cell_type": "code",
   "execution_count": 65,
   "id": "d4b6b1d6",
   "metadata": {
    "execution": {
     "iopub.execute_input": "2022-05-08T19:45:44.084711Z",
     "iopub.status.busy": "2022-05-08T19:45:44.083862Z",
     "iopub.status.idle": "2022-05-08T19:45:44.087352Z",
     "shell.execute_reply": "2022-05-08T19:45:44.086808Z"
    },
    "papermill": {
     "duration": 0.107171,
     "end_time": "2022-05-08T19:45:44.089209",
     "exception": false,
     "start_time": "2022-05-08T19:45:43.982038",
     "status": "completed"
    },
    "tags": []
   },
   "outputs": [],
   "source": [
    "# количество рекомендаций\n",
    "k = 50"
   ]
  },
  {
   "cell_type": "code",
   "execution_count": 66,
   "id": "d30d1c8c",
   "metadata": {
    "execution": {
     "iopub.execute_input": "2022-05-08T19:45:44.299569Z",
     "iopub.status.busy": "2022-05-08T19:45:44.299172Z",
     "iopub.status.idle": "2022-05-08T19:46:30.233062Z",
     "shell.execute_reply": "2022-05-08T19:46:30.232180Z"
    },
    "papermill": {
     "duration": 46.205089,
     "end_time": "2022-05-08T19:46:30.397545",
     "exception": false,
     "start_time": "2022-05-08T19:45:44.192456",
     "status": "completed"
    },
    "tags": []
   },
   "outputs": [
    {
     "name": "stdout",
     "output_type": "stream",
     "text": [
      "CPU times: user 1min 26s, sys: 1min 9s, total: 2min 35s\n",
      "Wall time: 45.9 s\n"
     ]
    }
   ],
   "source": [
    "%%time\n",
    "# подберем рекомендации (кандидатов) с помощью разных моделей\n",
    "result_eval_matcher['own_rec'] = result_eval_matcher[USER_COL].apply(lambda x: recommender.get_own_recommendations(x, N=k))\n",
    "result_eval_matcher['als_rec'] = result_eval_matcher[USER_COL].apply(lambda x: recommender.get_als_recommendations(x, N=k))\n",
    "result_eval_matcher['sim_item_rec'] = result_eval_matcher[USER_COL].apply(lambda x: recommender.get_similar_items_recommendation(x, N=k))\n",
    "# result_eval_matcher['sim_user_rec'] = result_eval_matcher[USER_COL].apply(lambda x: recommender.get_similar_users_recommendation(x, N=k))"
   ]
  },
  {
   "cell_type": "code",
   "execution_count": 67,
   "id": "37695557",
   "metadata": {
    "execution": {
     "iopub.execute_input": "2022-05-08T19:46:30.605806Z",
     "iopub.status.busy": "2022-05-08T19:46:30.605534Z",
     "iopub.status.idle": "2022-05-08T19:46:30.610665Z",
     "shell.execute_reply": "2022-05-08T19:46:30.609532Z"
    },
    "papermill": {
     "duration": 0.110712,
     "end_time": "2022-05-08T19:46:30.612460",
     "exception": false,
     "start_time": "2022-05-08T19:46:30.501748",
     "status": "completed"
    },
    "tags": []
   },
   "outputs": [],
   "source": [
    "# функция для подсчета recall\n",
    "def calc_recall(df_data, top_k):\n",
    "    for col_name in df_data.columns[2:]:\n",
    "        yield col_name, df_data.apply(lambda row: recall_at_k(row[col_name], row[ACTUAL_COL], k=top_k), axis=1).mean()"
   ]
  },
  {
   "cell_type": "code",
   "execution_count": 68,
   "id": "2d353509",
   "metadata": {
    "execution": {
     "iopub.execute_input": "2022-05-08T19:46:30.815467Z",
     "iopub.status.busy": "2022-05-08T19:46:30.815184Z",
     "iopub.status.idle": "2022-05-08T19:46:31.333980Z",
     "shell.execute_reply": "2022-05-08T19:46:31.333009Z"
    },
    "papermill": {
     "duration": 0.623012,
     "end_time": "2022-05-08T19:46:31.336140",
     "exception": false,
     "start_time": "2022-05-08T19:46:30.713128",
     "status": "completed"
    },
    "tags": []
   },
   "outputs": [
    {
     "data": {
      "text/plain": [
       "[('own_rec', 0.06525657038145165),\n",
       " ('als_rec', 0.048921569843758506),\n",
       " ('sim_item_rec', 0.033153461354865604)]"
      ]
     },
     "execution_count": 68,
     "metadata": {},
     "output_type": "execute_result"
    }
   ],
   "source": [
    "sorted(calc_recall(result_eval_matcher, TOPK_RECALL), key=lambda x: x[1],reverse=True)"
   ]
  },
  {
   "cell_type": "markdown",
   "id": "37046d00",
   "metadata": {
    "papermill": {
     "duration": 0.103266,
     "end_time": "2022-05-08T19:46:31.544085",
     "exception": false,
     "start_time": "2022-05-08T19:46:31.440819",
     "status": "completed"
    },
    "tags": []
   },
   "source": [
    "#### **Вывод:** \n",
    "\n",
    "#### Наилучшую метрику показала модель **'own_rec'**, так как она основана на тех товарах, которые уже покупал пользователь. Возьмем ее для дальнейших экспериментов с k."
   ]
  },
  {
   "cell_type": "code",
   "execution_count": 69,
   "id": "538da828",
   "metadata": {
    "execution": {
     "iopub.execute_input": "2022-05-08T19:46:31.752004Z",
     "iopub.status.busy": "2022-05-08T19:46:31.751417Z",
     "iopub.status.idle": "2022-05-08T19:46:31.755145Z",
     "shell.execute_reply": "2022-05-08T19:46:31.754563Z"
    },
    "papermill": {
     "duration": 0.110547,
     "end_time": "2022-05-08T19:46:31.756927",
     "exception": false,
     "start_time": "2022-05-08T19:46:31.646380",
     "status": "completed"
    },
    "tags": []
   },
   "outputs": [],
   "source": [
    "k_list = [20, 50, 100, 200, 500]"
   ]
  },
  {
   "cell_type": "code",
   "execution_count": 70,
   "id": "e07ebfca",
   "metadata": {
    "execution": {
     "iopub.execute_input": "2022-05-08T19:46:31.963378Z",
     "iopub.status.busy": "2022-05-08T19:46:31.962450Z",
     "iopub.status.idle": "2022-05-08T19:47:17.483905Z",
     "shell.execute_reply": "2022-05-08T19:47:17.483192Z"
    },
    "papermill": {
     "duration": 45.626667,
     "end_time": "2022-05-08T19:47:17.485814",
     "exception": false,
     "start_time": "2022-05-08T19:46:31.859147",
     "status": "completed"
    },
    "tags": []
   },
   "outputs": [
    {
     "name": "stdout",
     "output_type": "stream",
     "text": [
      "top_20: 0.039284276793729055, time: 8.66197657585144 s\n",
      "top_50: 0.06525657038145165, time: 17.95092272758484 s\n",
      "top_100: 0.09604492955885016, time: 26.61147689819336 s\n",
      "top_200: 0.13537278412833254, time: 36.23360586166382 s\n",
      "top_500: 0.18205324555508703, time: 45.51491975784302 s\n"
     ]
    }
   ],
   "source": [
    "recall_list = []\n",
    "start_time = time.time()\n",
    "\n",
    "for i in k_list:\n",
    "    result_eval_matcher['own_rec'] = result_eval_matcher[USER_COL].apply(lambda x: recommender.get_own_recommendations(x, N=i))\n",
    "    result_recall = result_eval_matcher.apply(lambda row: recall_at_k(row['own_rec'], row[ACTUAL_COL], k=i), axis=1).mean()\n",
    "    recall_list.append(result_recall)\n",
    "    print(f'top_{i}: {result_recall}, time: {time.time() - start_time} s')"
   ]
  },
  {
   "cell_type": "code",
   "execution_count": 71,
   "id": "bae2b3de",
   "metadata": {
    "execution": {
     "iopub.execute_input": "2022-05-08T19:47:17.772223Z",
     "iopub.status.busy": "2022-05-08T19:47:17.771666Z",
     "iopub.status.idle": "2022-05-08T19:47:17.990276Z",
     "shell.execute_reply": "2022-05-08T19:47:17.989413Z"
    },
    "papermill": {
     "duration": 0.328435,
     "end_time": "2022-05-08T19:47:17.992256",
     "exception": false,
     "start_time": "2022-05-08T19:47:17.663821",
     "status": "completed"
    },
    "tags": []
   },
   "outputs": [
    {
     "data": {
      "image/png": "[encoded data removed]",
      "text/plain": [
       "<Figure size 360x360 with 1 Axes>"
      ]
     },
     "metadata": {
      "needs_background": "light"
     },
     "output_type": "display_data"
    }
   ],
   "source": [
    "fig, ax = plt.subplots(figsize=(5, 5))\n",
    "\n",
    "ax.plot(k_list, recall_list)\n",
    "ax.grid()\n",
    "ax.set_xlabel('top_k') \n",
    "ax.set_ylabel('recall_list')\n",
    "\n",
    "plt.show()"
   ]
  },
  {
   "cell_type": "markdown",
   "id": "0ee9fb18",
   "metadata": {
    "papermill": {
     "duration": 0.103963,
     "end_time": "2022-05-08T19:47:18.200698",
     "exception": false,
     "start_time": "2022-05-08T19:47:18.096735",
     "status": "completed"
    },
    "tags": []
   },
   "source": [
    "#### **Вывод:** \n",
    "\n",
    "#### 1. Чем больше значение k, тем выше метрика recall@k.\n",
    "#### 2. Наиболее разумным будет взять k равное 200, так как далее метрика растет медленнее, а время подсчета увеличивается."
   ]
  },
  {
   "cell_type": "markdown",
   "id": "43833da0",
   "metadata": {
    "papermill": {
     "duration": 0.104893,
     "end_time": "2022-05-08T19:47:18.409550",
     "exception": false,
     "start_time": "2022-05-08T19:47:18.304657",
     "status": "completed"
    },
    "tags": []
   },
   "source": [
    "### **Задание 2.**\n",
    "\n",
    "Обучите модель 2-ого уровня, при этом:\n",
    "\n",
    "- Добавьте минимум по 2 фичи для юзера, товара и пары юзер-товар\n",
    "\n",
    "- Измерьте отдельно precision@5 модели 1-ого уровня и двухуровневой модели на data_val_ranker\n",
    "\n",
    "- Вырос ли precision@5 при использовании двухуровневой модели?"
   ]
  },
  {
   "cell_type": "markdown",
   "id": "4cc7ca42",
   "metadata": {
    "papermill": {
     "duration": 0.10776,
     "end_time": "2022-05-08T19:47:18.624006",
     "exception": false,
     "start_time": "2022-05-08T19:47:18.516246",
     "status": "completed"
    },
    "tags": []
   },
   "source": [
    "### Подготовка данных для трейна"
   ]
  },
  {
   "cell_type": "code",
   "execution_count": 72,
   "id": "41c035b2",
   "metadata": {
    "execution": {
     "iopub.execute_input": "2022-05-08T19:47:18.838783Z",
     "iopub.status.busy": "2022-05-08T19:47:18.838469Z",
     "iopub.status.idle": "2022-05-08T19:47:18.841899Z",
     "shell.execute_reply": "2022-05-08T19:47:18.841211Z"
    },
    "papermill": {
     "duration": 0.113621,
     "end_time": "2022-05-08T19:47:18.843609",
     "exception": false,
     "start_time": "2022-05-08T19:47:18.729988",
     "status": "completed"
    },
    "tags": []
   },
   "outputs": [],
   "source": [
    "k=200"
   ]
  },
  {
   "cell_type": "markdown",
   "id": "a90142af",
   "metadata": {
    "papermill": {
     "duration": 0.10328,
     "end_time": "2022-05-08T19:47:19.050909",
     "exception": false,
     "start_time": "2022-05-08T19:47:18.947629",
     "status": "completed"
    },
    "tags": []
   },
   "source": [
    "### Добавим 2 фичи для user_id:\n",
    "1. Средний чек\n",
    "2. Количество покупок в каждой категории"
   ]
  },
  {
   "cell_type": "code",
   "execution_count": 73,
   "id": "be629fa6",
   "metadata": {
    "execution": {
     "iopub.execute_input": "2022-05-08T19:47:19.261476Z",
     "iopub.status.busy": "2022-05-08T19:47:19.260908Z",
     "iopub.status.idle": "2022-05-08T19:47:19.278270Z",
     "shell.execute_reply": "2022-05-08T19:47:19.277643Z"
    },
    "papermill": {
     "duration": 0.125653,
     "end_time": "2022-05-08T19:47:19.280366",
     "exception": false,
     "start_time": "2022-05-08T19:47:19.154713",
     "status": "completed"
    },
    "tags": []
   },
   "outputs": [],
   "source": [
    "# посчитаем средний чек для пользователя\n",
    "average_check = (data_train_ranker.groupby('user_id')['sales_value'].sum() / data_train_ranker.groupby('user_id')['quantity'].count()).reset_index()\n",
    "average_check.columns = ['user_id', 'average_check']\n",
    "user_features = user_features.merge(average_check, on='user_id', how='left')"
   ]
  },
  {
   "cell_type": "code",
   "execution_count": 74,
   "id": "a5e3cada",
   "metadata": {
    "execution": {
     "iopub.execute_input": "2022-05-08T19:47:19.497180Z",
     "iopub.status.busy": "2022-05-08T19:47:19.496648Z",
     "iopub.status.idle": "2022-05-08T19:47:34.487652Z",
     "shell.execute_reply": "2022-05-08T19:47:34.487033Z"
    },
    "papermill": {
     "duration": 15.102447,
     "end_time": "2022-05-08T19:47:34.489436",
     "exception": false,
     "start_time": "2022-05-08T19:47:19.386989",
     "status": "completed"
    },
    "tags": []
   },
   "outputs": [
    {
     "data": {
      "text/html": [
       "<div>\n",
       "<style scoped>\n",
       "    .dataframe tbody tr th:only-of-type {\n",
       "        vertical-align: middle;\n",
       "    }\n",
       "\n",
       "    .dataframe tbody tr th {\n",
       "        vertical-align: top;\n",
       "    }\n",
       "\n",
       "    .dataframe thead th {\n",
       "        text-align: right;\n",
       "    }\n",
       "</style>\n",
       "<table border=\"1\" class=\"dataframe\">\n",
       "  <thead>\n",
       "    <tr style=\"text-align: right;\">\n",
       "      <th></th>\n",
       "      <th>user_id</th>\n",
       "      <th>GROCERY</th>\n",
       "      <th>DRUG GM</th>\n",
       "      <th>PRODUCE</th>\n",
       "      <th>MEAT-PCKGD</th>\n",
       "      <th>MEAT</th>\n",
       "      <th>DELI</th>\n",
       "      <th>PASTRY</th>\n",
       "      <th>NUTRITION</th>\n",
       "      <th>KIOSK-GAS</th>\n",
       "      <th>...</th>\n",
       "      <th>FROZEN GROCERY</th>\n",
       "      <th>GARDEN CENTER</th>\n",
       "      <th>RESTAURANT</th>\n",
       "      <th>CNTRL/STORE SUP</th>\n",
       "      <th>RX</th>\n",
       "      <th>GM MERCH EXP</th>\n",
       "      <th>VIDEO</th>\n",
       "      <th>DELI/SNACK BAR</th>\n",
       "      <th>AUTOMOTIVE</th>\n",
       "      <th>PHOTO</th>\n",
       "    </tr>\n",
       "  </thead>\n",
       "  <tbody>\n",
       "    <tr>\n",
       "      <th>0</th>\n",
       "      <td>2070</td>\n",
       "      <td>139</td>\n",
       "      <td>29</td>\n",
       "      <td>10</td>\n",
       "      <td>8</td>\n",
       "      <td>8</td>\n",
       "      <td>3</td>\n",
       "      <td>3</td>\n",
       "      <td>NaN</td>\n",
       "      <td>2</td>\n",
       "      <td>...</td>\n",
       "      <td>NaN</td>\n",
       "      <td>NaN</td>\n",
       "      <td>NaN</td>\n",
       "      <td>NaN</td>\n",
       "      <td>NaN</td>\n",
       "      <td>NaN</td>\n",
       "      <td>NaN</td>\n",
       "      <td>NaN</td>\n",
       "      <td>NaN</td>\n",
       "      <td>NaN</td>\n",
       "    </tr>\n",
       "    <tr>\n",
       "      <th>1</th>\n",
       "      <td>2021</td>\n",
       "      <td>34</td>\n",
       "      <td>1</td>\n",
       "      <td>2</td>\n",
       "      <td>5</td>\n",
       "      <td>2</td>\n",
       "      <td>NaN</td>\n",
       "      <td>NaN</td>\n",
       "      <td>NaN</td>\n",
       "      <td>NaN</td>\n",
       "      <td>...</td>\n",
       "      <td>NaN</td>\n",
       "      <td>NaN</td>\n",
       "      <td>NaN</td>\n",
       "      <td>NaN</td>\n",
       "      <td>NaN</td>\n",
       "      <td>NaN</td>\n",
       "      <td>NaN</td>\n",
       "      <td>NaN</td>\n",
       "      <td>NaN</td>\n",
       "      <td>NaN</td>\n",
       "    </tr>\n",
       "  </tbody>\n",
       "</table>\n",
       "<p>2 rows × 32 columns</p>\n",
       "</div>"
      ],
      "text/plain": [
       "   user_id GROCERY DRUG GM PRODUCE MEAT-PCKGD MEAT DELI PASTRY NUTRITION  \\\n",
       "0     2070     139      29      10          8    8    3      3       NaN   \n",
       "1     2021      34       1       2          5    2  NaN    NaN       NaN   \n",
       "\n",
       "  KIOSK-GAS  ... FROZEN GROCERY GARDEN CENTER RESTAURANT CNTRL/STORE SUP   RX  \\\n",
       "0         2  ...            NaN           NaN        NaN             NaN  NaN   \n",
       "1       NaN  ...            NaN           NaN        NaN             NaN  NaN   \n",
       "\n",
       "  GM MERCH EXP VIDEO DELI/SNACK BAR AUTOMOTIVE PHOTO  \n",
       "0          NaN   NaN            NaN        NaN   NaN  \n",
       "1          NaN   NaN            NaN        NaN   NaN  \n",
       "\n",
       "[2 rows x 32 columns]"
      ]
     },
     "execution_count": 74,
     "metadata": {},
     "output_type": "execute_result"
    }
   ],
   "source": [
    "# посчитаем количество покупок в каждой категории для пользователя\n",
    "\n",
    "# соединим датасеты тренировочный и фичи товаров\n",
    "df_dt_if = data_train_ranker.merge(item_features, on='item_id', how='left')\n",
    "\n",
    "# список категорий\n",
    "department_list = df_dt_if.department.value_counts().reset_index()['index'].tolist()\n",
    "df_departments = pd.DataFrame(columns=department_list)\n",
    "\n",
    "# посчитаем количество товаров по пользователю в каждой категории\n",
    "user_depart_count = df_dt_if.groupby('user_id')['department'].value_counts()\n",
    "\n",
    "# сформируем датасет и добавим фичи к датасету user_features\n",
    "for user in df_dt_if.user_id.unique():\n",
    "    temp = pd.DataFrame(user_depart_count[user]).rename(columns={'department': user}).T\n",
    "    df_departments = df_departments.append(temp, ignore_index=False)\n",
    "\n",
    "df_departments.reset_index(inplace=True)\n",
    "df_departments.rename(columns={'index': 'user_id'}, inplace=True)\n",
    "\n",
    "df_departments.head(2)"
   ]
  },
  {
   "cell_type": "code",
   "execution_count": 75,
   "id": "6beb3ce2",
   "metadata": {
    "execution": {
     "iopub.execute_input": "2022-05-08T19:47:34.706416Z",
     "iopub.status.busy": "2022-05-08T19:47:34.705676Z",
     "iopub.status.idle": "2022-05-08T19:47:34.739954Z",
     "shell.execute_reply": "2022-05-08T19:47:34.739234Z"
    },
    "papermill": {
     "duration": 0.143755,
     "end_time": "2022-05-08T19:47:34.741832",
     "exception": false,
     "start_time": "2022-05-08T19:47:34.598077",
     "status": "completed"
    },
    "tags": []
   },
   "outputs": [
    {
     "data": {
      "text/html": [
       "<div>\n",
       "<style scoped>\n",
       "    .dataframe tbody tr th:only-of-type {\n",
       "        vertical-align: middle;\n",
       "    }\n",
       "\n",
       "    .dataframe tbody tr th {\n",
       "        vertical-align: top;\n",
       "    }\n",
       "\n",
       "    .dataframe thead th {\n",
       "        text-align: right;\n",
       "    }\n",
       "</style>\n",
       "<table border=\"1\" class=\"dataframe\">\n",
       "  <thead>\n",
       "    <tr style=\"text-align: right;\">\n",
       "      <th></th>\n",
       "      <th>age_desc</th>\n",
       "      <th>marital_status_code</th>\n",
       "      <th>income_desc</th>\n",
       "      <th>homeowner_desc</th>\n",
       "      <th>hh_comp_desc</th>\n",
       "      <th>household_size_desc</th>\n",
       "      <th>kid_category_desc</th>\n",
       "      <th>user_id</th>\n",
       "      <th>average_check</th>\n",
       "      <th>GROCERY</th>\n",
       "      <th>...</th>\n",
       "      <th>FROZEN GROCERY</th>\n",
       "      <th>GARDEN CENTER</th>\n",
       "      <th>RESTAURANT</th>\n",
       "      <th>CNTRL/STORE SUP</th>\n",
       "      <th>RX</th>\n",
       "      <th>GM MERCH EXP</th>\n",
       "      <th>VIDEO</th>\n",
       "      <th>DELI/SNACK BAR</th>\n",
       "      <th>AUTOMOTIVE</th>\n",
       "      <th>PHOTO</th>\n",
       "    </tr>\n",
       "  </thead>\n",
       "  <tbody>\n",
       "    <tr>\n",
       "      <th>0</th>\n",
       "      <td>65+</td>\n",
       "      <td>A</td>\n",
       "      <td>35-49K</td>\n",
       "      <td>Homeowner</td>\n",
       "      <td>2 Adults No Kids</td>\n",
       "      <td>2</td>\n",
       "      <td>None/Unknown</td>\n",
       "      <td>1</td>\n",
       "      <td>2.569774</td>\n",
       "      <td>93</td>\n",
       "      <td>...</td>\n",
       "      <td>0</td>\n",
       "      <td>0</td>\n",
       "      <td>0</td>\n",
       "      <td>0</td>\n",
       "      <td>0</td>\n",
       "      <td>0</td>\n",
       "      <td>0</td>\n",
       "      <td>0</td>\n",
       "      <td>0</td>\n",
       "      <td>0</td>\n",
       "    </tr>\n",
       "    <tr>\n",
       "      <th>1</th>\n",
       "      <td>45-54</td>\n",
       "      <td>A</td>\n",
       "      <td>50-74K</td>\n",
       "      <td>Homeowner</td>\n",
       "      <td>2 Adults No Kids</td>\n",
       "      <td>2</td>\n",
       "      <td>None/Unknown</td>\n",
       "      <td>7</td>\n",
       "      <td>2.085000</td>\n",
       "      <td>70</td>\n",
       "      <td>...</td>\n",
       "      <td>0</td>\n",
       "      <td>0</td>\n",
       "      <td>0</td>\n",
       "      <td>0</td>\n",
       "      <td>0</td>\n",
       "      <td>0</td>\n",
       "      <td>0</td>\n",
       "      <td>0</td>\n",
       "      <td>0</td>\n",
       "      <td>0</td>\n",
       "    </tr>\n",
       "  </tbody>\n",
       "</table>\n",
       "<p>2 rows × 40 columns</p>\n",
       "</div>"
      ],
      "text/plain": [
       "  age_desc marital_status_code income_desc homeowner_desc      hh_comp_desc  \\\n",
       "0      65+                   A      35-49K      Homeowner  2 Adults No Kids   \n",
       "1    45-54                   A      50-74K      Homeowner  2 Adults No Kids   \n",
       "\n",
       "  household_size_desc kid_category_desc  user_id  average_check  GROCERY  ...  \\\n",
       "0                   2      None/Unknown        1       2.569774       93  ...   \n",
       "1                   2      None/Unknown        7       2.085000       70  ...   \n",
       "\n",
       "   FROZEN GROCERY  GARDEN CENTER  RESTAURANT  CNTRL/STORE SUP  RX  \\\n",
       "0               0              0           0                0   0   \n",
       "1               0              0           0                0   0   \n",
       "\n",
       "   GM MERCH EXP  VIDEO  DELI/SNACK BAR  AUTOMOTIVE  PHOTO  \n",
       "0             0      0               0           0      0  \n",
       "1             0      0               0           0      0  \n",
       "\n",
       "[2 rows x 40 columns]"
      ]
     },
     "execution_count": 75,
     "metadata": {},
     "output_type": "execute_result"
    }
   ],
   "source": [
    "user_features = user_features.merge(df_departments, on='user_id', how='left')\n",
    "user_features.fillna(0, inplace=True)\n",
    "user_features.head(2)"
   ]
  },
  {
   "cell_type": "markdown",
   "id": "525ab0a5",
   "metadata": {
    "papermill": {
     "duration": 0.105524,
     "end_time": "2022-05-08T19:47:34.952853",
     "exception": false,
     "start_time": "2022-05-08T19:47:34.847329",
     "status": "completed"
    },
    "tags": []
   },
   "source": [
    "### Добавим 1 фичу для item_id:\n",
    "1. Количество покупок в неделю\n",
    "\n",
    "*Был проведен эксперимент с добавлением **Цены товара**, но данная фича ухудшила метрику.*"
   ]
  },
  {
   "cell_type": "code",
   "execution_count": 76,
   "id": "87b729d2",
   "metadata": {
    "execution": {
     "iopub.execute_input": "2022-05-08T19:47:35.164728Z",
     "iopub.status.busy": "2022-05-08T19:47:35.164199Z",
     "iopub.status.idle": "2022-05-08T19:49:05.463493Z",
     "shell.execute_reply": "2022-05-08T19:49:05.462645Z"
    },
    "papermill": {
     "duration": 90.513911,
     "end_time": "2022-05-08T19:49:05.571286",
     "exception": false,
     "start_time": "2022-05-08T19:47:35.057375",
     "status": "completed"
    },
    "tags": []
   },
   "outputs": [
    {
     "data": {
      "text/html": [
       "<div>\n",
       "<style scoped>\n",
       "    .dataframe tbody tr th:only-of-type {\n",
       "        vertical-align: middle;\n",
       "    }\n",
       "\n",
       "    .dataframe tbody tr th {\n",
       "        vertical-align: top;\n",
       "    }\n",
       "\n",
       "    .dataframe thead th {\n",
       "        text-align: right;\n",
       "    }\n",
       "</style>\n",
       "<table border=\"1\" class=\"dataframe\">\n",
       "  <thead>\n",
       "    <tr style=\"text-align: right;\">\n",
       "      <th></th>\n",
       "      <th>item_id</th>\n",
       "      <th>86</th>\n",
       "      <th>87</th>\n",
       "      <th>88</th>\n",
       "      <th>89</th>\n",
       "      <th>90</th>\n",
       "      <th>91</th>\n",
       "    </tr>\n",
       "  </thead>\n",
       "  <tbody>\n",
       "    <tr>\n",
       "      <th>0</th>\n",
       "      <td>1019940</td>\n",
       "      <td>3</td>\n",
       "      <td>NaN</td>\n",
       "      <td>1</td>\n",
       "      <td>3</td>\n",
       "      <td>2</td>\n",
       "      <td>1</td>\n",
       "    </tr>\n",
       "    <tr>\n",
       "      <th>1</th>\n",
       "      <td>840361</td>\n",
       "      <td>73</td>\n",
       "      <td>62</td>\n",
       "      <td>99</td>\n",
       "      <td>75</td>\n",
       "      <td>55</td>\n",
       "      <td>59</td>\n",
       "    </tr>\n",
       "  </tbody>\n",
       "</table>\n",
       "</div>"
      ],
      "text/plain": [
       "   item_id  86   87  88  89  90  91\n",
       "0  1019940   3  NaN   1   3   2   1\n",
       "1   840361  73   62  99  75  55  59"
      ]
     },
     "execution_count": 76,
     "metadata": {},
     "output_type": "execute_result"
    }
   ],
   "source": [
    "# посчитаем количество покупок в неделю\n",
    "item_week_count = data_train_ranker.groupby('item_id')['week_no'].value_counts()\n",
    "\n",
    "# список недель\n",
    "weeks_list = sorted(data_train_ranker.week_no.value_counts().reset_index()['index'].tolist())\n",
    "df_weeks = pd.DataFrame(columns=weeks_list)\n",
    "\n",
    "# сформируем датасет и добавим фичи к датасету item_features\n",
    "for item in data_train_ranker.item_id.unique():\n",
    "    temp = pd.DataFrame(item_week_count[item]).rename(columns={'week_no': item}).T\n",
    "    df_weeks = df_weeks.append(temp, ignore_index=False)\n",
    "    \n",
    "df_weeks.reset_index(inplace=True)\n",
    "df_weeks.rename(columns={'index': 'item_id'}, inplace=True)\n",
    "\n",
    "df_weeks.head(2)"
   ]
  },
  {
   "cell_type": "code",
   "execution_count": 77,
   "id": "238ce92b",
   "metadata": {
    "execution": {
     "iopub.execute_input": "2022-05-08T19:49:05.786239Z",
     "iopub.status.busy": "2022-05-08T19:49:05.785718Z",
     "iopub.status.idle": "2022-05-08T19:49:05.985772Z",
     "shell.execute_reply": "2022-05-08T19:49:05.984906Z"
    },
    "papermill": {
     "duration": 0.310737,
     "end_time": "2022-05-08T19:49:05.987863",
     "exception": false,
     "start_time": "2022-05-08T19:49:05.677126",
     "status": "completed"
    },
    "tags": []
   },
   "outputs": [
    {
     "data": {
      "text/html": [
       "<div>\n",
       "<style scoped>\n",
       "    .dataframe tbody tr th:only-of-type {\n",
       "        vertical-align: middle;\n",
       "    }\n",
       "\n",
       "    .dataframe tbody tr th {\n",
       "        vertical-align: top;\n",
       "    }\n",
       "\n",
       "    .dataframe thead th {\n",
       "        text-align: right;\n",
       "    }\n",
       "</style>\n",
       "<table border=\"1\" class=\"dataframe\">\n",
       "  <thead>\n",
       "    <tr style=\"text-align: right;\">\n",
       "      <th></th>\n",
       "      <th>item_id</th>\n",
       "      <th>manufacturer</th>\n",
       "      <th>department</th>\n",
       "      <th>brand</th>\n",
       "      <th>commodity_desc</th>\n",
       "      <th>sub_commodity_desc</th>\n",
       "      <th>curr_size_of_product</th>\n",
       "      <th>86</th>\n",
       "      <th>87</th>\n",
       "      <th>88</th>\n",
       "      <th>89</th>\n",
       "      <th>90</th>\n",
       "      <th>91</th>\n",
       "    </tr>\n",
       "  </thead>\n",
       "  <tbody>\n",
       "    <tr>\n",
       "      <th>0</th>\n",
       "      <td>25671</td>\n",
       "      <td>2</td>\n",
       "      <td>GROCERY</td>\n",
       "      <td>National</td>\n",
       "      <td>FRZN ICE</td>\n",
       "      <td>ICE - CRUSHED/CUBED</td>\n",
       "      <td>22 LB</td>\n",
       "      <td>0</td>\n",
       "      <td>0</td>\n",
       "      <td>0</td>\n",
       "      <td>0</td>\n",
       "      <td>0</td>\n",
       "      <td>0</td>\n",
       "    </tr>\n",
       "    <tr>\n",
       "      <th>1</th>\n",
       "      <td>26081</td>\n",
       "      <td>2</td>\n",
       "      <td>MISC. TRANS.</td>\n",
       "      <td>National</td>\n",
       "      <td>NO COMMODITY DESCRIPTION</td>\n",
       "      <td>NO SUBCOMMODITY DESCRIPTION</td>\n",
       "      <td></td>\n",
       "      <td>0</td>\n",
       "      <td>0</td>\n",
       "      <td>0</td>\n",
       "      <td>0</td>\n",
       "      <td>0</td>\n",
       "      <td>0</td>\n",
       "    </tr>\n",
       "  </tbody>\n",
       "</table>\n",
       "</div>"
      ],
      "text/plain": [
       "   item_id  manufacturer    department     brand            commodity_desc  \\\n",
       "0    25671             2       GROCERY  National                  FRZN ICE   \n",
       "1    26081             2  MISC. TRANS.  National  NO COMMODITY DESCRIPTION   \n",
       "\n",
       "            sub_commodity_desc curr_size_of_product  86  87  88  89  90  91  \n",
       "0          ICE - CRUSHED/CUBED                22 LB   0   0   0   0   0   0  \n",
       "1  NO SUBCOMMODITY DESCRIPTION                        0   0   0   0   0   0  "
      ]
     },
     "execution_count": 77,
     "metadata": {},
     "output_type": "execute_result"
    }
   ],
   "source": [
    "item_features = item_features.merge(df_weeks, on='item_id', how='left')\n",
    "item_features.fillna(0, inplace=True)\n",
    "item_features.head(2)"
   ]
  },
  {
   "cell_type": "code",
   "execution_count": 78,
   "id": "f98960f7",
   "metadata": {
    "execution": {
     "iopub.execute_input": "2022-05-08T19:49:06.203638Z",
     "iopub.status.busy": "2022-05-08T19:49:06.203292Z",
     "iopub.status.idle": "2022-05-08T19:49:06.209517Z",
     "shell.execute_reply": "2022-05-08T19:49:06.208900Z"
    },
    "papermill": {
     "duration": 0.11659,
     "end_time": "2022-05-08T19:49:06.211453",
     "exception": false,
     "start_time": "2022-05-08T19:49:06.094863",
     "status": "completed"
    },
    "tags": []
   },
   "outputs": [],
   "source": [
    "# взяли пользователей из трейна для ранжирования\n",
    "df_match_candidates = pd.DataFrame(data_train_ranker[USER_COL].unique())\n",
    "df_match_candidates.columns = [USER_COL]"
   ]
  },
  {
   "cell_type": "code",
   "execution_count": 79,
   "id": "8b6e0a60",
   "metadata": {
    "execution": {
     "iopub.execute_input": "2022-05-08T19:49:06.436622Z",
     "iopub.status.busy": "2022-05-08T19:49:06.435429Z",
     "iopub.status.idle": "2022-05-08T19:49:16.526211Z",
     "shell.execute_reply": "2022-05-08T19:49:16.525375Z"
    },
    "papermill": {
     "duration": 10.211835,
     "end_time": "2022-05-08T19:49:16.528649",
     "exception": false,
     "start_time": "2022-05-08T19:49:06.316814",
     "status": "completed"
    },
    "tags": []
   },
   "outputs": [],
   "source": [
    "# собираем кандитатов с первого этапа (matcher)\n",
    "df_match_candidates['candidates'] = df_match_candidates[USER_COL].apply(lambda x: recommender.get_own_recommendations(x, N=k))"
   ]
  },
  {
   "cell_type": "code",
   "execution_count": 80,
   "id": "19848485",
   "metadata": {
    "execution": {
     "iopub.execute_input": "2022-05-08T19:49:16.743210Z",
     "iopub.status.busy": "2022-05-08T19:49:16.742774Z",
     "iopub.status.idle": "2022-05-08T19:49:17.258777Z",
     "shell.execute_reply": "2022-05-08T19:49:17.257615Z"
    },
    "papermill": {
     "duration": 0.625795,
     "end_time": "2022-05-08T19:49:17.261151",
     "exception": false,
     "start_time": "2022-05-08T19:49:16.635356",
     "status": "completed"
    },
    "tags": []
   },
   "outputs": [],
   "source": [
    "df_items = df_match_candidates.apply(lambda x: pd.Series(x['candidates']), axis=1).stack().reset_index(level=1, drop=True)\n",
    "df_items.name = 'item_id'"
   ]
  },
  {
   "cell_type": "code",
   "execution_count": 81,
   "id": "b8b2b0a4",
   "metadata": {
    "execution": {
     "iopub.execute_input": "2022-05-08T19:49:17.504772Z",
     "iopub.status.busy": "2022-05-08T19:49:17.504186Z",
     "iopub.status.idle": "2022-05-08T19:49:17.526652Z",
     "shell.execute_reply": "2022-05-08T19:49:17.525947Z"
    },
    "papermill": {
     "duration": 0.159296,
     "end_time": "2022-05-08T19:49:17.529012",
     "exception": false,
     "start_time": "2022-05-08T19:49:17.369716",
     "status": "completed"
    },
    "tags": []
   },
   "outputs": [],
   "source": [
    "df_match_candidates = df_match_candidates.drop('candidates', axis=1).join(df_items)"
   ]
  },
  {
   "cell_type": "code",
   "execution_count": 82,
   "id": "84a0292f",
   "metadata": {
    "execution": {
     "iopub.execute_input": "2022-05-08T19:49:17.746269Z",
     "iopub.status.busy": "2022-05-08T19:49:17.745979Z",
     "iopub.status.idle": "2022-05-08T19:49:17.756128Z",
     "shell.execute_reply": "2022-05-08T19:49:17.755290Z"
    },
    "papermill": {
     "duration": 0.119602,
     "end_time": "2022-05-08T19:49:17.757972",
     "exception": false,
     "start_time": "2022-05-08T19:49:17.638370",
     "status": "completed"
    },
    "tags": []
   },
   "outputs": [],
   "source": [
    "# Создаем трейн сет для ранжирования с учетом кандидатов с этапа 1 \n",
    "\n",
    "df_ranker_train = data_train_ranker[[USER_COL, ITEM_COL]].copy()\n",
    "df_ranker_train['target'] = 1  # тут только покупки "
   ]
  },
  {
   "cell_type": "code",
   "execution_count": 83,
   "id": "2b043181",
   "metadata": {
    "execution": {
     "iopub.execute_input": "2022-05-08T19:49:17.972311Z",
     "iopub.status.busy": "2022-05-08T19:49:17.971460Z",
     "iopub.status.idle": "2022-05-08T19:49:18.144885Z",
     "shell.execute_reply": "2022-05-08T19:49:18.143968Z"
    },
    "papermill": {
     "duration": 0.282278,
     "end_time": "2022-05-08T19:49:18.147356",
     "exception": false,
     "start_time": "2022-05-08T19:49:17.865078",
     "status": "completed"
    },
    "tags": []
   },
   "outputs": [],
   "source": [
    "# Не хватает нулей в датасете, поэтому добавляем наших кандитатов в качество нулей\n",
    "\n",
    "df_ranker_train = df_match_candidates.merge(df_ranker_train, on=[USER_COL, ITEM_COL], how='left')\n",
    "\n",
    "# чистим дубликаты\n",
    "df_ranker_train = df_ranker_train.drop_duplicates(subset=[USER_COL, ITEM_COL])\n",
    "\n",
    "df_ranker_train['target'].fillna(0, inplace= True)"
   ]
  },
  {
   "cell_type": "code",
   "execution_count": 84,
   "id": "cc4612f6",
   "metadata": {
    "execution": {
     "iopub.execute_input": "2022-05-08T19:49:18.396126Z",
     "iopub.status.busy": "2022-05-08T19:49:18.395232Z",
     "iopub.status.idle": "2022-05-08T19:49:18.406098Z",
     "shell.execute_reply": "2022-05-08T19:49:18.405186Z"
    },
    "papermill": {
     "duration": 0.138124,
     "end_time": "2022-05-08T19:49:18.407942",
     "exception": false,
     "start_time": "2022-05-08T19:49:18.269818",
     "status": "completed"
    },
    "tags": []
   },
   "outputs": [
    {
     "data": {
      "text/plain": [
       "0.0    397661\n",
       "1.0     17984\n",
       "Name: target, dtype: int64"
      ]
     },
     "execution_count": 84,
     "metadata": {},
     "output_type": "execute_result"
    }
   ],
   "source": [
    "df_ranker_train.target.value_counts()"
   ]
  },
  {
   "cell_type": "code",
   "execution_count": 85,
   "id": "1d19f91c",
   "metadata": {
    "execution": {
     "iopub.execute_input": "2022-05-08T19:49:18.625292Z",
     "iopub.status.busy": "2022-05-08T19:49:18.624750Z",
     "iopub.status.idle": "2022-05-08T19:49:18.636471Z",
     "shell.execute_reply": "2022-05-08T19:49:18.635949Z"
    },
    "papermill": {
     "duration": 0.121886,
     "end_time": "2022-05-08T19:49:18.639004",
     "exception": false,
     "start_time": "2022-05-08T19:49:18.517118",
     "status": "completed"
    },
    "tags": []
   },
   "outputs": [
    {
     "data": {
      "text/html": [
       "<div>\n",
       "<style scoped>\n",
       "    .dataframe tbody tr th:only-of-type {\n",
       "        vertical-align: middle;\n",
       "    }\n",
       "\n",
       "    .dataframe tbody tr th {\n",
       "        vertical-align: top;\n",
       "    }\n",
       "\n",
       "    .dataframe thead th {\n",
       "        text-align: right;\n",
       "    }\n",
       "</style>\n",
       "<table border=\"1\" class=\"dataframe\">\n",
       "  <thead>\n",
       "    <tr style=\"text-align: right;\">\n",
       "      <th></th>\n",
       "      <th>item_id</th>\n",
       "      <th>manufacturer</th>\n",
       "      <th>department</th>\n",
       "      <th>brand</th>\n",
       "      <th>commodity_desc</th>\n",
       "      <th>sub_commodity_desc</th>\n",
       "      <th>curr_size_of_product</th>\n",
       "      <th>86</th>\n",
       "      <th>87</th>\n",
       "      <th>88</th>\n",
       "      <th>89</th>\n",
       "      <th>90</th>\n",
       "      <th>91</th>\n",
       "    </tr>\n",
       "  </thead>\n",
       "  <tbody>\n",
       "    <tr>\n",
       "      <th>0</th>\n",
       "      <td>25671</td>\n",
       "      <td>2</td>\n",
       "      <td>GROCERY</td>\n",
       "      <td>National</td>\n",
       "      <td>FRZN ICE</td>\n",
       "      <td>ICE - CRUSHED/CUBED</td>\n",
       "      <td>22 LB</td>\n",
       "      <td>0</td>\n",
       "      <td>0</td>\n",
       "      <td>0</td>\n",
       "      <td>0</td>\n",
       "      <td>0</td>\n",
       "      <td>0</td>\n",
       "    </tr>\n",
       "    <tr>\n",
       "      <th>1</th>\n",
       "      <td>26081</td>\n",
       "      <td>2</td>\n",
       "      <td>MISC. TRANS.</td>\n",
       "      <td>National</td>\n",
       "      <td>NO COMMODITY DESCRIPTION</td>\n",
       "      <td>NO SUBCOMMODITY DESCRIPTION</td>\n",
       "      <td></td>\n",
       "      <td>0</td>\n",
       "      <td>0</td>\n",
       "      <td>0</td>\n",
       "      <td>0</td>\n",
       "      <td>0</td>\n",
       "      <td>0</td>\n",
       "    </tr>\n",
       "  </tbody>\n",
       "</table>\n",
       "</div>"
      ],
      "text/plain": [
       "   item_id  manufacturer    department     brand            commodity_desc  \\\n",
       "0    25671             2       GROCERY  National                  FRZN ICE   \n",
       "1    26081             2  MISC. TRANS.  National  NO COMMODITY DESCRIPTION   \n",
       "\n",
       "            sub_commodity_desc curr_size_of_product  86  87  88  89  90  91  \n",
       "0          ICE - CRUSHED/CUBED                22 LB   0   0   0   0   0   0  \n",
       "1  NO SUBCOMMODITY DESCRIPTION                        0   0   0   0   0   0  "
      ]
     },
     "execution_count": 85,
     "metadata": {},
     "output_type": "execute_result"
    }
   ],
   "source": [
    "item_features.head(2)"
   ]
  },
  {
   "cell_type": "code",
   "execution_count": 86,
   "id": "191bb67c",
   "metadata": {
    "execution": {
     "iopub.execute_input": "2022-05-08T19:49:18.856421Z",
     "iopub.status.busy": "2022-05-08T19:49:18.856181Z",
     "iopub.status.idle": "2022-05-08T19:49:18.874455Z",
     "shell.execute_reply": "2022-05-08T19:49:18.873882Z"
    },
    "papermill": {
     "duration": 0.128408,
     "end_time": "2022-05-08T19:49:18.877548",
     "exception": false,
     "start_time": "2022-05-08T19:49:18.749140",
     "status": "completed"
    },
    "tags": []
   },
   "outputs": [
    {
     "data": {
      "text/html": [
       "<div>\n",
       "<style scoped>\n",
       "    .dataframe tbody tr th:only-of-type {\n",
       "        vertical-align: middle;\n",
       "    }\n",
       "\n",
       "    .dataframe tbody tr th {\n",
       "        vertical-align: top;\n",
       "    }\n",
       "\n",
       "    .dataframe thead th {\n",
       "        text-align: right;\n",
       "    }\n",
       "</style>\n",
       "<table border=\"1\" class=\"dataframe\">\n",
       "  <thead>\n",
       "    <tr style=\"text-align: right;\">\n",
       "      <th></th>\n",
       "      <th>age_desc</th>\n",
       "      <th>marital_status_code</th>\n",
       "      <th>income_desc</th>\n",
       "      <th>homeowner_desc</th>\n",
       "      <th>hh_comp_desc</th>\n",
       "      <th>household_size_desc</th>\n",
       "      <th>kid_category_desc</th>\n",
       "      <th>user_id</th>\n",
       "      <th>average_check</th>\n",
       "      <th>GROCERY</th>\n",
       "      <th>...</th>\n",
       "      <th>FROZEN GROCERY</th>\n",
       "      <th>GARDEN CENTER</th>\n",
       "      <th>RESTAURANT</th>\n",
       "      <th>CNTRL/STORE SUP</th>\n",
       "      <th>RX</th>\n",
       "      <th>GM MERCH EXP</th>\n",
       "      <th>VIDEO</th>\n",
       "      <th>DELI/SNACK BAR</th>\n",
       "      <th>AUTOMOTIVE</th>\n",
       "      <th>PHOTO</th>\n",
       "    </tr>\n",
       "  </thead>\n",
       "  <tbody>\n",
       "    <tr>\n",
       "      <th>0</th>\n",
       "      <td>65+</td>\n",
       "      <td>A</td>\n",
       "      <td>35-49K</td>\n",
       "      <td>Homeowner</td>\n",
       "      <td>2 Adults No Kids</td>\n",
       "      <td>2</td>\n",
       "      <td>None/Unknown</td>\n",
       "      <td>1</td>\n",
       "      <td>2.569774</td>\n",
       "      <td>93</td>\n",
       "      <td>...</td>\n",
       "      <td>0</td>\n",
       "      <td>0</td>\n",
       "      <td>0</td>\n",
       "      <td>0</td>\n",
       "      <td>0</td>\n",
       "      <td>0</td>\n",
       "      <td>0</td>\n",
       "      <td>0</td>\n",
       "      <td>0</td>\n",
       "      <td>0</td>\n",
       "    </tr>\n",
       "    <tr>\n",
       "      <th>1</th>\n",
       "      <td>45-54</td>\n",
       "      <td>A</td>\n",
       "      <td>50-74K</td>\n",
       "      <td>Homeowner</td>\n",
       "      <td>2 Adults No Kids</td>\n",
       "      <td>2</td>\n",
       "      <td>None/Unknown</td>\n",
       "      <td>7</td>\n",
       "      <td>2.085000</td>\n",
       "      <td>70</td>\n",
       "      <td>...</td>\n",
       "      <td>0</td>\n",
       "      <td>0</td>\n",
       "      <td>0</td>\n",
       "      <td>0</td>\n",
       "      <td>0</td>\n",
       "      <td>0</td>\n",
       "      <td>0</td>\n",
       "      <td>0</td>\n",
       "      <td>0</td>\n",
       "      <td>0</td>\n",
       "    </tr>\n",
       "  </tbody>\n",
       "</table>\n",
       "<p>2 rows × 40 columns</p>\n",
       "</div>"
      ],
      "text/plain": [
       "  age_desc marital_status_code income_desc homeowner_desc      hh_comp_desc  \\\n",
       "0      65+                   A      35-49K      Homeowner  2 Adults No Kids   \n",
       "1    45-54                   A      50-74K      Homeowner  2 Adults No Kids   \n",
       "\n",
       "  household_size_desc kid_category_desc  user_id  average_check  GROCERY  ...  \\\n",
       "0                   2      None/Unknown        1       2.569774       93  ...   \n",
       "1                   2      None/Unknown        7       2.085000       70  ...   \n",
       "\n",
       "   FROZEN GROCERY  GARDEN CENTER  RESTAURANT  CNTRL/STORE SUP  RX  \\\n",
       "0               0              0           0                0   0   \n",
       "1               0              0           0                0   0   \n",
       "\n",
       "   GM MERCH EXP  VIDEO  DELI/SNACK BAR  AUTOMOTIVE  PHOTO  \n",
       "0             0      0               0           0      0  \n",
       "1             0      0               0           0      0  \n",
       "\n",
       "[2 rows x 40 columns]"
      ]
     },
     "execution_count": 86,
     "metadata": {},
     "output_type": "execute_result"
    }
   ],
   "source": [
    "user_features.head(2)"
   ]
  },
  {
   "cell_type": "code",
   "execution_count": 87,
   "id": "f6f88e80",
   "metadata": {
    "execution": {
     "iopub.execute_input": "2022-05-08T19:49:19.103315Z",
     "iopub.status.busy": "2022-05-08T19:49:19.102339Z",
     "iopub.status.idle": "2022-05-08T19:49:19.391941Z",
     "shell.execute_reply": "2022-05-08T19:49:19.390969Z"
    },
    "papermill": {
     "duration": 0.4024,
     "end_time": "2022-05-08T19:49:19.394275",
     "exception": false,
     "start_time": "2022-05-08T19:49:18.991875",
     "status": "completed"
    },
    "tags": []
   },
   "outputs": [
    {
     "data": {
      "text/html": [
       "<div>\n",
       "<style scoped>\n",
       "    .dataframe tbody tr th:only-of-type {\n",
       "        vertical-align: middle;\n",
       "    }\n",
       "\n",
       "    .dataframe tbody tr th {\n",
       "        vertical-align: top;\n",
       "    }\n",
       "\n",
       "    .dataframe thead th {\n",
       "        text-align: right;\n",
       "    }\n",
       "</style>\n",
       "<table border=\"1\" class=\"dataframe\">\n",
       "  <thead>\n",
       "    <tr style=\"text-align: right;\">\n",
       "      <th></th>\n",
       "      <th>user_id</th>\n",
       "      <th>item_id</th>\n",
       "      <th>target</th>\n",
       "      <th>manufacturer</th>\n",
       "      <th>department</th>\n",
       "      <th>brand</th>\n",
       "      <th>commodity_desc</th>\n",
       "      <th>sub_commodity_desc</th>\n",
       "      <th>curr_size_of_product</th>\n",
       "      <th>86</th>\n",
       "      <th>...</th>\n",
       "      <th>FROZEN GROCERY</th>\n",
       "      <th>GARDEN CENTER</th>\n",
       "      <th>RESTAURANT</th>\n",
       "      <th>CNTRL/STORE SUP</th>\n",
       "      <th>RX</th>\n",
       "      <th>GM MERCH EXP</th>\n",
       "      <th>VIDEO</th>\n",
       "      <th>DELI/SNACK BAR</th>\n",
       "      <th>AUTOMOTIVE</th>\n",
       "      <th>PHOTO</th>\n",
       "    </tr>\n",
       "  </thead>\n",
       "  <tbody>\n",
       "    <tr>\n",
       "      <th>0</th>\n",
       "      <td>2070</td>\n",
       "      <td>1105426</td>\n",
       "      <td>0.0</td>\n",
       "      <td>69</td>\n",
       "      <td>DELI</td>\n",
       "      <td>Private</td>\n",
       "      <td>SANDWICHES</td>\n",
       "      <td>SANDWICHES - (COLD)</td>\n",
       "      <td></td>\n",
       "      <td>1</td>\n",
       "      <td>...</td>\n",
       "      <td>0.0</td>\n",
       "      <td>0.0</td>\n",
       "      <td>0.0</td>\n",
       "      <td>0.0</td>\n",
       "      <td>0.0</td>\n",
       "      <td>0.0</td>\n",
       "      <td>0.0</td>\n",
       "      <td>0.0</td>\n",
       "      <td>0.0</td>\n",
       "      <td>0.0</td>\n",
       "    </tr>\n",
       "    <tr>\n",
       "      <th>1</th>\n",
       "      <td>2070</td>\n",
       "      <td>1097350</td>\n",
       "      <td>0.0</td>\n",
       "      <td>2468</td>\n",
       "      <td>GROCERY</td>\n",
       "      <td>National</td>\n",
       "      <td>DOMESTIC WINE</td>\n",
       "      <td>VALUE GLASS WINE</td>\n",
       "      <td>4 LTR</td>\n",
       "      <td>0</td>\n",
       "      <td>...</td>\n",
       "      <td>0.0</td>\n",
       "      <td>0.0</td>\n",
       "      <td>0.0</td>\n",
       "      <td>0.0</td>\n",
       "      <td>0.0</td>\n",
       "      <td>0.0</td>\n",
       "      <td>0.0</td>\n",
       "      <td>0.0</td>\n",
       "      <td>0.0</td>\n",
       "      <td>0.0</td>\n",
       "    </tr>\n",
       "  </tbody>\n",
       "</table>\n",
       "<p>2 rows × 54 columns</p>\n",
       "</div>"
      ],
      "text/plain": [
       "   user_id  item_id  target  manufacturer department     brand commodity_desc  \\\n",
       "0     2070  1105426     0.0            69       DELI   Private     SANDWICHES   \n",
       "1     2070  1097350     0.0          2468    GROCERY  National  DOMESTIC WINE   \n",
       "\n",
       "    sub_commodity_desc curr_size_of_product  86  ...  FROZEN GROCERY  \\\n",
       "0  SANDWICHES - (COLD)                        1  ...             0.0   \n",
       "1     VALUE GLASS WINE                4 LTR   0  ...             0.0   \n",
       "\n",
       "   GARDEN CENTER  RESTAURANT  CNTRL/STORE SUP   RX GM MERCH EXP VIDEO  \\\n",
       "0            0.0         0.0              0.0  0.0          0.0   0.0   \n",
       "1            0.0         0.0              0.0  0.0          0.0   0.0   \n",
       "\n",
       "  DELI/SNACK BAR AUTOMOTIVE PHOTO  \n",
       "0            0.0        0.0   0.0  \n",
       "1            0.0        0.0   0.0  \n",
       "\n",
       "[2 rows x 54 columns]"
      ]
     },
     "execution_count": 87,
     "metadata": {},
     "output_type": "execute_result"
    }
   ],
   "source": [
    "# Подготавливаем фичи для обучения модели\n",
    "\n",
    "df_ranker_train = df_ranker_train.merge(item_features, on='item_id', how='left')\n",
    "df_ranker_train = df_ranker_train.merge(user_features, on='user_id', how='left')\n",
    "\n",
    "df_ranker_train.head(2)"
   ]
  },
  {
   "cell_type": "markdown",
   "id": "9fdfcfc5",
   "metadata": {
    "papermill": {
     "duration": 0.1104,
     "end_time": "2022-05-08T19:49:19.615405",
     "exception": false,
     "start_time": "2022-05-08T19:49:19.505005",
     "status": "completed"
    },
    "tags": []
   },
   "source": [
    "**Фичи user_id:**\n",
    "    - Средний чек\n",
    "    - Средняя сумма покупки 1 товара в каждой категории\n",
    "    - Кол-во покупок в каждой категории\n",
    "    - Частотность покупок раз/месяц\n",
    "    - Долю покупок в выходные\n",
    "    - Долю покупок утром/днем/вечером\n",
    "\n",
    "**Фичи item_id**:\n",
    "    - Кол-во покупок в неделю\n",
    "    - Среднее кол-во покупок 1 товара в категории в неделю\n",
    "    - (Кол-во покупок в неделю) / (Среднее ол-во покупок 1 товара в категории в неделю)\n",
    "    - Цена (Можно посчитать из retil_train.csv)\n",
    "    - Цена / Средняя цена товара в категории\n",
    "    \n",
    "**Фичи пары user_id - item_id**\n",
    "    - (Средняя сумма покупки 1 товара в каждой категории (берем категорию item_id)) - (Цена item_id)\n",
    "    - (Кол-во покупок юзером конкретной категории в неделю) - (Среднее кол-во покупок всеми юзерами конкретной категории в неделю)\n",
    "    - (Кол-во покупок юзером конкретной категории в неделю) / (Среднее кол-во покупок всеми юзерами конкретной категории в неделю)"
   ]
  },
  {
   "cell_type": "code",
   "execution_count": 88,
   "id": "20d43c05",
   "metadata": {
    "execution": {
     "iopub.execute_input": "2022-05-08T19:49:19.832212Z",
     "iopub.status.busy": "2022-05-08T19:49:19.831922Z",
     "iopub.status.idle": "2022-05-08T19:49:20.186539Z",
     "shell.execute_reply": "2022-05-08T19:49:20.185676Z"
    },
    "papermill": {
     "duration": 0.465979,
     "end_time": "2022-05-08T19:49:20.188836",
     "exception": false,
     "start_time": "2022-05-08T19:49:19.722857",
     "status": "completed"
    },
    "tags": []
   },
   "outputs": [],
   "source": [
    "X_train = df_ranker_train.drop('target', axis=1)\n",
    "y_train = df_ranker_train[['target']]"
   ]
  },
  {
   "cell_type": "code",
   "execution_count": 89,
   "id": "fdae5661",
   "metadata": {
    "execution": {
     "iopub.execute_input": "2022-05-08T19:49:20.405133Z",
     "iopub.status.busy": "2022-05-08T19:49:20.404828Z",
     "iopub.status.idle": "2022-05-08T19:49:21.740285Z",
     "shell.execute_reply": "2022-05-08T19:49:21.739426Z"
    },
    "papermill": {
     "duration": 1.44648,
     "end_time": "2022-05-08T19:49:21.742828",
     "exception": false,
     "start_time": "2022-05-08T19:49:20.296348",
     "status": "completed"
    },
    "tags": []
   },
   "outputs": [
    {
     "data": {
      "text/plain": [
       "['manufacturer',\n",
       " 'department',\n",
       " 'brand',\n",
       " 'commodity_desc',\n",
       " 'sub_commodity_desc',\n",
       " 'curr_size_of_product',\n",
       " 86,\n",
       " 87,\n",
       " 88,\n",
       " 89,\n",
       " 90,\n",
       " 91,\n",
       " 'age_desc',\n",
       " 'marital_status_code',\n",
       " 'income_desc',\n",
       " 'homeowner_desc',\n",
       " 'hh_comp_desc',\n",
       " 'household_size_desc',\n",
       " 'kid_category_desc',\n",
       " 'average_check',\n",
       " 'GROCERY',\n",
       " 'DRUG GM',\n",
       " 'PRODUCE',\n",
       " 'MEAT-PCKGD',\n",
       " 'MEAT',\n",
       " 'DELI',\n",
       " 'PASTRY',\n",
       " 'NUTRITION',\n",
       " 'KIOSK-GAS',\n",
       " ' ',\n",
       " 'SEAFOOD-PCKGD',\n",
       " 'SALAD BAR',\n",
       " 'COSMETICS',\n",
       " 'MISC SALES TRAN',\n",
       " 'FLORAL',\n",
       " 'SEAFOOD',\n",
       " 'MISC. TRANS.',\n",
       " 'SPIRITS',\n",
       " 'CHEF SHOPPE',\n",
       " 'TRAVEL & LEISUR',\n",
       " 'COUP/STR & MFG',\n",
       " 'FROZEN GROCERY',\n",
       " 'GARDEN CENTER',\n",
       " 'RESTAURANT',\n",
       " 'CNTRL/STORE SUP',\n",
       " 'RX',\n",
       " 'GM MERCH EXP',\n",
       " 'VIDEO',\n",
       " 'DELI/SNACK BAR',\n",
       " 'AUTOMOTIVE',\n",
       " 'PHOTO']"
      ]
     },
     "execution_count": 89,
     "metadata": {},
     "output_type": "execute_result"
    }
   ],
   "source": [
    "cat_feats = X_train.columns[2:].tolist()\n",
    "X_train[cat_feats] = X_train[cat_feats].astype('category')\n",
    "\n",
    "cat_feats"
   ]
  },
  {
   "cell_type": "code",
   "execution_count": 90,
   "id": "5d34584d",
   "metadata": {
    "execution": {
     "iopub.execute_input": "2022-05-08T19:49:21.959713Z",
     "iopub.status.busy": "2022-05-08T19:49:21.959414Z",
     "iopub.status.idle": "2022-05-08T19:49:21.962730Z",
     "shell.execute_reply": "2022-05-08T19:49:21.962065Z"
    },
    "papermill": {
     "duration": 0.112781,
     "end_time": "2022-05-08T19:49:21.964330",
     "exception": false,
     "start_time": "2022-05-08T19:49:21.851549",
     "status": "completed"
    },
    "tags": []
   },
   "outputs": [],
   "source": [
    "# делали на вебинаре, кусок с катбустом\n",
    "\n",
    "# from catboost import CatBoost, Pool\n",
    "\n",
    "# df_bin_feat = pd.get_dummies(X_train)\n",
    "\n",
    "# model = CatBoost(params ={'objective': \"Logloss\",\n",
    "#                           \"iterations\":1000,\n",
    "#                           \"max_depth\":8,\n",
    "#                           \"task_type\":\"GPU\",\n",
    "#                           \"devices\":\"0:1:2:3\"\n",
    "#             })\n",
    "# model.fit(df_bin_juice, y_train, silent=True)\n",
    "\n",
    "# train_preds = model.predict(df_bin_feat,prediction_type=\"Probability\")"
   ]
  },
  {
   "cell_type": "code",
   "execution_count": 91,
   "id": "70f5175a",
   "metadata": {
    "execution": {
     "iopub.execute_input": "2022-05-08T19:49:22.179749Z",
     "iopub.status.busy": "2022-05-08T19:49:22.179209Z",
     "iopub.status.idle": "2022-05-08T19:49:45.262979Z",
     "shell.execute_reply": "2022-05-08T19:49:45.261705Z"
    },
    "papermill": {
     "duration": 23.197312,
     "end_time": "2022-05-08T19:49:45.268080",
     "exception": false,
     "start_time": "2022-05-08T19:49:22.070768",
     "status": "completed"
    },
    "tags": []
   },
   "outputs": [
    {
     "name": "stderr",
     "output_type": "stream",
     "text": [
      "/opt/conda/lib/python3.7/site-packages/sklearn/preprocessing/_label.py:98: DataConversionWarning: A column-vector y was passed when a 1d array was expected. Please change the shape of y to (n_samples, ), for example using ravel().\n",
      "  y = column_or_1d(y, warn=True)\n",
      "/opt/conda/lib/python3.7/site-packages/sklearn/preprocessing/_label.py:133: DataConversionWarning: A column-vector y was passed when a 1d array was expected. Please change the shape of y to (n_samples, ), for example using ravel().\n",
      "  y = column_or_1d(y, warn=True)\n",
      "/opt/conda/lib/python3.7/site-packages/lightgbm/basic.py:1513: UserWarning: categorical_column in param dict is overridden.\n",
      "  _log_warning(f'{cat_alias} in param dict is overridden.')\n"
     ]
    }
   ],
   "source": [
    "# Обучение модели ранжирования\n",
    "\n",
    "lgb = LGBMClassifier(objective='binary',\n",
    "                     max_depth=8,\n",
    "                     n_estimators=300,\n",
    "                     learning_rate=0.05,\n",
    "                     categorical_column=cat_feats,\n",
    "                     n_jobs=-1,\n",
    "#                      verbose=0\n",
    "                   )\n",
    "\n",
    "lgb.fit(X_train, y_train)\n",
    "\n",
    "train_preds = lgb.predict_proba(X_train)"
   ]
  },
  {
   "cell_type": "code",
   "execution_count": 92,
   "id": "a820a917",
   "metadata": {
    "execution": {
     "iopub.execute_input": "2022-05-08T19:49:45.499720Z",
     "iopub.status.busy": "2022-05-08T19:49:45.499174Z",
     "iopub.status.idle": "2022-05-08T19:49:45.638646Z",
     "shell.execute_reply": "2022-05-08T19:49:45.637660Z"
    },
    "papermill": {
     "duration": 0.25354,
     "end_time": "2022-05-08T19:49:45.641149",
     "exception": false,
     "start_time": "2022-05-08T19:49:45.387609",
     "status": "completed"
    },
    "tags": []
   },
   "outputs": [],
   "source": [
    "df_ranker_predict = df_ranker_train.copy()"
   ]
  },
  {
   "cell_type": "code",
   "execution_count": 93,
   "id": "6abe0fda",
   "metadata": {
    "execution": {
     "iopub.execute_input": "2022-05-08T19:49:45.862104Z",
     "iopub.status.busy": "2022-05-08T19:49:45.861566Z",
     "iopub.status.idle": "2022-05-08T19:49:45.867442Z",
     "shell.execute_reply": "2022-05-08T19:49:45.866776Z"
    },
    "papermill": {
     "duration": 0.11946,
     "end_time": "2022-05-08T19:49:45.869450",
     "exception": false,
     "start_time": "2022-05-08T19:49:45.749990",
     "status": "completed"
    },
    "tags": []
   },
   "outputs": [],
   "source": [
    "df_ranker_predict['proba_item_purchase'] = train_preds[:,1]"
   ]
  },
  {
   "cell_type": "code",
   "execution_count": 94,
   "id": "6d875b67",
   "metadata": {
    "execution": {
     "iopub.execute_input": "2022-05-08T19:49:46.087934Z",
     "iopub.status.busy": "2022-05-08T19:49:46.087190Z",
     "iopub.status.idle": "2022-05-08T19:49:46.095417Z",
     "shell.execute_reply": "2022-05-08T19:49:46.094552Z"
    },
    "papermill": {
     "duration": 0.11925,
     "end_time": "2022-05-08T19:49:46.097234",
     "exception": false,
     "start_time": "2022-05-08T19:49:45.977984",
     "status": "completed"
    },
    "tags": []
   },
   "outputs": [
    {
     "data": {
      "text/plain": [
       "0    0.023499\n",
       "1    0.008061\n",
       "2    0.004646\n",
       "3    0.000371\n",
       "4    0.043561\n",
       "5    0.065002\n",
       "6    0.011374\n",
       "7    0.000479\n",
       "8    0.052832\n",
       "9    0.437348\n",
       "Name: proba_item_purchase, dtype: float64"
      ]
     },
     "execution_count": 94,
     "metadata": {},
     "output_type": "execute_result"
    }
   ],
   "source": [
    "df_ranker_predict['proba_item_purchase'][:10]"
   ]
  },
  {
   "cell_type": "code",
   "execution_count": 95,
   "id": "c50da55a",
   "metadata": {
    "execution": {
     "iopub.execute_input": "2022-05-08T19:49:46.318048Z",
     "iopub.status.busy": "2022-05-08T19:49:46.317463Z",
     "iopub.status.idle": "2022-05-08T19:49:46.435531Z",
     "shell.execute_reply": "2022-05-08T19:49:46.434610Z"
    },
    "papermill": {
     "duration": 0.23128,
     "end_time": "2022-05-08T19:49:46.437469",
     "exception": false,
     "start_time": "2022-05-08T19:49:46.206189",
     "status": "completed"
    },
    "tags": []
   },
   "outputs": [
    {
     "data": {
      "text/html": [
       "<div>\n",
       "<style scoped>\n",
       "    .dataframe tbody tr th:only-of-type {\n",
       "        vertical-align: middle;\n",
       "    }\n",
       "\n",
       "    .dataframe tbody tr th {\n",
       "        vertical-align: top;\n",
       "    }\n",
       "\n",
       "    .dataframe thead th {\n",
       "        text-align: right;\n",
       "    }\n",
       "</style>\n",
       "<table border=\"1\" class=\"dataframe\">\n",
       "  <thead>\n",
       "    <tr style=\"text-align: right;\">\n",
       "      <th></th>\n",
       "      <th>user_id</th>\n",
       "      <th>actual</th>\n",
       "    </tr>\n",
       "  </thead>\n",
       "  <tbody>\n",
       "    <tr>\n",
       "      <th>0</th>\n",
       "      <td>1</td>\n",
       "      <td>[821867, 834484, 856942, 865456, 889248, 90795...</td>\n",
       "    </tr>\n",
       "    <tr>\n",
       "      <th>1</th>\n",
       "      <td>3</td>\n",
       "      <td>[835476, 851057, 872021, 878302, 879948, 90963...</td>\n",
       "    </tr>\n",
       "  </tbody>\n",
       "</table>\n",
       "</div>"
      ],
      "text/plain": [
       "   user_id                                             actual\n",
       "0        1  [821867, 834484, 856942, 865456, 889248, 90795...\n",
       "1        3  [835476, 851057, 872021, 878302, 879948, 90963..."
      ]
     },
     "execution_count": 95,
     "metadata": {},
     "output_type": "execute_result"
    }
   ],
   "source": [
    "# Evaluation on test dataset\n",
    "\n",
    "result_eval_ranker = data_val_ranker.groupby(USER_COL)[ITEM_COL].unique().reset_index()\n",
    "result_eval_ranker.columns=[USER_COL, ACTUAL_COL]\n",
    "result_eval_ranker.head(2)"
   ]
  },
  {
   "cell_type": "code",
   "execution_count": 96,
   "id": "699e6a93",
   "metadata": {
    "execution": {
     "iopub.execute_input": "2022-05-08T19:49:46.659951Z",
     "iopub.status.busy": "2022-05-08T19:49:46.659383Z",
     "iopub.status.idle": "2022-05-08T19:49:56.923990Z",
     "shell.execute_reply": "2022-05-08T19:49:56.923148Z"
    },
    "papermill": {
     "duration": 10.378602,
     "end_time": "2022-05-08T19:49:56.926166",
     "exception": false,
     "start_time": "2022-05-08T19:49:46.547564",
     "status": "completed"
    },
    "tags": []
   },
   "outputs": [
    {
     "name": "stdout",
     "output_type": "stream",
     "text": [
      "CPU times: user 10.3 s, sys: 4.06 ms, total: 10.3 s\n",
      "Wall time: 10.3 s\n"
     ]
    }
   ],
   "source": [
    "%%time\n",
    "\n",
    "# Eval matching on test dataset\n",
    "\n",
    "result_eval_ranker['own_rec'] = result_eval_ranker[USER_COL].apply(lambda x: recommender.get_own_recommendations(x, N=k))"
   ]
  },
  {
   "cell_type": "code",
   "execution_count": 97,
   "id": "5d21d5d0",
   "metadata": {
    "execution": {
     "iopub.execute_input": "2022-05-08T19:49:57.148907Z",
     "iopub.status.busy": "2022-05-08T19:49:57.148319Z",
     "iopub.status.idle": "2022-05-08T19:49:57.248490Z",
     "shell.execute_reply": "2022-05-08T19:49:57.247946Z"
    },
    "papermill": {
     "duration": 0.21231,
     "end_time": "2022-05-08T19:49:57.250179",
     "exception": false,
     "start_time": "2022-05-08T19:49:57.037869",
     "status": "completed"
    },
    "tags": []
   },
   "outputs": [
    {
     "data": {
      "text/plain": [
       "[('own_rec', 0.14441176470588235)]"
      ]
     },
     "execution_count": 97,
     "metadata": {},
     "output_type": "execute_result"
    }
   ],
   "source": [
    "# померяем precision только модели матчинга, чтобы понимать влияение ранжирования на метрики\n",
    "\n",
    "sorted(calc_precision(result_eval_ranker, TOPK_PRECISION), key=lambda x: x[1], reverse=True)"
   ]
  },
  {
   "cell_type": "code",
   "execution_count": 98,
   "id": "216f1ea0",
   "metadata": {
    "execution": {
     "iopub.execute_input": "2022-05-08T19:49:57.473767Z",
     "iopub.status.busy": "2022-05-08T19:49:57.473295Z",
     "iopub.status.idle": "2022-05-08T19:49:57.478323Z",
     "shell.execute_reply": "2022-05-08T19:49:57.477492Z"
    },
    "papermill": {
     "duration": 0.119963,
     "end_time": "2022-05-08T19:49:57.480186",
     "exception": false,
     "start_time": "2022-05-08T19:49:57.360223",
     "status": "completed"
    },
    "tags": []
   },
   "outputs": [],
   "source": [
    "# Eval re-ranked matched result on test dataset\n",
    "\n",
    "def rerank(user_id):\n",
    "    return df_ranker_predict[df_ranker_predict[USER_COL]==user_id].sort_values('proba_item_purchase', ascending=False).head(5).item_id.tolist()"
   ]
  },
  {
   "cell_type": "code",
   "execution_count": 99,
   "id": "59933337",
   "metadata": {
    "execution": {
     "iopub.execute_input": "2022-05-08T19:49:57.703731Z",
     "iopub.status.busy": "2022-05-08T19:49:57.703384Z",
     "iopub.status.idle": "2022-05-08T19:50:00.527066Z",
     "shell.execute_reply": "2022-05-08T19:50:00.526179Z"
    },
    "papermill": {
     "duration": 2.937445,
     "end_time": "2022-05-08T19:50:00.529532",
     "exception": false,
     "start_time": "2022-05-08T19:49:57.592087",
     "status": "completed"
    },
    "tags": []
   },
   "outputs": [],
   "source": [
    "result_eval_ranker['reranked_own_rec'] = result_eval_ranker[USER_COL].apply(lambda user_id: rerank(user_id))"
   ]
  },
  {
   "cell_type": "code",
   "execution_count": 100,
   "id": "48b4a566",
   "metadata": {
    "execution": {
     "iopub.execute_input": "2022-05-08T19:50:00.754951Z",
     "iopub.status.busy": "2022-05-08T19:50:00.754652Z",
     "iopub.status.idle": "2022-05-08T19:50:01.124902Z",
     "shell.execute_reply": "2022-05-08T19:50:01.123999Z"
    },
    "papermill": {
     "duration": 0.485677,
     "end_time": "2022-05-08T19:50:01.127201",
     "exception": false,
     "start_time": "2022-05-08T19:50:00.641524",
     "status": "completed"
    },
    "tags": []
   },
   "outputs": [
    {
     "name": "stdout",
     "output_type": "stream",
     "text": [
      "('reranked_own_rec', 0.18328981723237597)\n",
      "('own_rec', 0.14441176470588235)\n"
     ]
    },
    {
     "name": "stderr",
     "output_type": "stream",
     "text": [
      "/kaggle/working/metrics.py:20: RuntimeWarning: invalid value encountered in long_scalars\n",
      "  return flags.sum() / len(recommended_list)\n"
     ]
    }
   ],
   "source": [
    "print(*sorted(calc_precision(result_eval_ranker, TOPK_PRECISION), key=lambda x: x[1], reverse=True), sep='\\n')"
   ]
  },
  {
   "cell_type": "code",
   "execution_count": 101,
   "id": "ecffdc93",
   "metadata": {
    "execution": {
     "iopub.execute_input": "2022-05-08T19:50:01.347805Z",
     "iopub.status.busy": "2022-05-08T19:50:01.347476Z",
     "iopub.status.idle": "2022-05-08T19:50:01.351304Z",
     "shell.execute_reply": "2022-05-08T19:50:01.350508Z"
    },
    "papermill": {
     "duration": 0.116107,
     "end_time": "2022-05-08T19:50:01.353031",
     "exception": false,
     "start_time": "2022-05-08T19:50:01.236924",
     "status": "completed"
    },
    "tags": []
   },
   "outputs": [],
   "source": [
    "# ('own_rec', 0.14441176470588235)\n",
    "\n",
    "# Все фичи user_id и item_id\n",
    "# ('reranked_own_rec', 0.14548302872062666)\n",
    "\n",
    "# +2 новые фичи по user_id\n",
    "# ('reranked_own_rec', 0.1685639686684073)\n",
    "\n",
    "# +1 новая фича по item_id\n",
    "# ('reranked_own_rec', 0.18328981723237597)"
   ]
  },
  {
   "cell_type": "markdown",
   "id": "3db85136",
   "metadata": {
    "papermill": {
     "duration": 0.12312,
     "end_time": "2022-05-08T19:50:01.606458",
     "exception": false,
     "start_time": "2022-05-08T19:50:01.483338",
     "status": "completed"
    },
    "tags": []
   },
   "source": [
    "#### **Вывод:** \n",
    "\n",
    "#### Precision@5 вырос при использовании двухуровневой модели примерно на 0,04. Хороший прирост метрике дали такие фичи как: \n",
    "- Средний чек пользователя, \n",
    "- Количество покупок в каждой категории пользователем, \n",
    "- Количество покупок товара в неделю. \n",
    "\n",
    "#### Добавление фичи Цена товара ухудшила метрику, поэтому не зафиксирована в итоговой модели.\n"
   ]
  }
 ],
 "metadata": {
  "kernelspec": {
   "display_name": "Python 3",
   "language": "python",
   "name": "python3"
  },
  "language_info": {
   "codemirror_mode": {
    "name": "ipython",
    "version": 3
   },
   "file_extension": ".py",
   "mimetype": "text/x-python",
   "name": "python",
   "nbconvert_exporter": "python",
   "pygments_lexer": "ipython3",
   "version": "3.7.12"
  },
  "papermill": {
   "default_parameters": {},
   "duration": 373.417978,
   "end_time": "2022-05-08T19:50:02.942930",
   "environment_variables": {},
   "exception": null,
   "input_path": "__notebook__.ipynb",
   "output_path": "__notebook__.ipynb",
   "parameters": {},
   "start_time": "2022-05-08T19:43:49.524952",
   "version": "2.3.4"
  },
  "widgets": {
   "application/vnd.jupyter.widget-state+json": {
    "state": {
     "03005030c8744d4ea62d2780dfe05668": {
      "model_module": "@jupyter-widgets/controls",
      "model_module_version": "1.5.0",
      "model_name": "ProgressStyleModel",
      "state": {
       "_model_module": "@jupyter-widgets/controls",
       "_model_module_version": "1.5.0",
       "_model_name": "ProgressStyleModel",
       "_view_count": null,
       "_view_module": "@jupyter-widgets/base",
       "_view_module_version": "1.2.0",
       "_view_name": "StyleView",
       "bar_color": null,
       "description_width": ""
      }
     },
     "0f074bf329584e2fb739983380e12deb": {
      "model_module": "@jupyter-widgets/base",
      "model_module_version": "1.2.0",
      "model_name": "LayoutModel",
      "state": {
       "_model_module": "@jupyter-widgets/base",
       "_model_module_version": "1.2.0",
       "_model_name": "LayoutModel",
       "_view_count": null,
       "_view_module": "@jupyter-widgets/base",
       "_view_module_version": "1.2.0",
       "_view_name": "LayoutView",
       "align_content": null,
       "align_items": null,
       "align_self": null,
       "border": null,
       "bottom": null,
       "display": null,
       "flex": null,
       "flex_flow": null,
       "grid_area": null,
       "grid_auto_columns": null,
       "grid_auto_flow": null,
       "grid_auto_rows": null,
       "grid_column": null,
       "grid_gap": null,
       "grid_row": null,
       "grid_template_areas": null,
       "grid_template_columns": null,
       "grid_template_rows": null,
       "height": null,
       "justify_content": null,
       "justify_items": null,
       "left": null,
       "margin": null,
       "max_height": null,
       "max_width": null,
       "min_height": null,
       "min_width": null,
       "object_fit": null,
       "object_position": null,
       "order": null,
       "overflow": null,
       "overflow_x": null,
       "overflow_y": null,
       "padding": null,
       "right": null,
       "top": null,
       "visibility": null,
       "width": null
      }
     },
     "256335049ecb46d7ac2226812928ed79": {
      "model_module": "@jupyter-widgets/base",
      "model_module_version": "1.2.0",
      "model_name": "LayoutModel",
      "state": {
       "_model_module": "@jupyter-widgets/base",
       "_model_module_version": "1.2.0",
       "_model_name": "LayoutModel",
       "_view_count": null,
       "_view_module": "@jupyter-widgets/base",
       "_view_module_version": "1.2.0",
       "_view_name": "LayoutView",
       "align_content": null,
       "align_items": null,
       "align_self": null,
       "border": null,
       "bottom": null,
       "display": null,
       "flex": null,
       "flex_flow": null,
       "grid_area": null,
       "grid_auto_columns": null,
       "grid_auto_flow": null,
       "grid_auto_rows": null,
       "grid_column": null,
       "grid_gap": null,
       "grid_row": null,
       "grid_template_areas": null,
       "grid_template_columns": null,
       "grid_template_rows": null,
       "height": null,
       "justify_content": null,
       "justify_items": null,
       "left": null,
       "margin": null,
       "max_height": null,
       "max_width": null,
       "min_height": null,
       "min_width": null,
       "object_fit": null,
       "object_position": null,
       "order": null,
       "overflow": null,
       "overflow_x": null,
       "overflow_y": null,
       "padding": null,
       "right": null,
       "top": null,
       "visibility": null,
       "width": null
      }
     },
     "305d69bb443143dc9282d1c6a80911f3": {
      "model_module": "@jupyter-widgets/controls",
      "model_module_version": "1.5.0",
      "model_name": "DescriptionStyleModel",
      "state": {
       "_model_module": "@jupyter-widgets/controls",
       "_model_module_version": "1.5.0",
       "_model_name": "DescriptionStyleModel",
       "_view_count": null,
       "_view_module": "@jupyter-widgets/base",
       "_view_module_version": "1.2.0",
       "_view_name": "StyleView",
       "description_width": ""
      }
     },
     "3ea0974dc8354d1eba352218e21a9101": {
      "model_module": "@jupyter-widgets/base",
      "model_module_version": "1.2.0",
      "model_name": "LayoutModel",
      "state": {
       "_model_module": "@jupyter-widgets/base",
       "_model_module_version": "1.2.0",
       "_model_name": "LayoutModel",
       "_view_count": null,
       "_view_module": "@jupyter-widgets/base",
       "_view_module_version": "1.2.0",
       "_view_name": "LayoutView",
       "align_content": null,
       "align_items": null,
       "align_self": null,
       "border": null,
       "bottom": null,
       "display": null,
       "flex": null,
       "flex_flow": null,
       "grid_area": null,
       "grid_auto_columns": null,
       "grid_auto_flow": null,
       "grid_auto_rows": null,
       "grid_column": null,
       "grid_gap": null,
       "grid_row": null,
       "grid_template_areas": null,
       "grid_template_columns": null,
       "grid_template_rows": null,
       "height": null,
       "justify_content": null,
       "justify_items": null,
       "left": null,
       "margin": null,
       "max_height": null,
       "max_width": null,
       "min_height": null,
       "min_width": null,
       "object_fit": null,
       "object_position": null,
       "order": null,
       "overflow": null,
       "overflow_x": null,
       "overflow_y": null,
       "padding": null,
       "right": null,
       "top": null,
       "visibility": null,
       "width": null
      }
     },
     "480431e1b5ab457ea26f99ff1970535a": {
      "model_module": "@jupyter-widgets/base",
      "model_module_version": "1.2.0",
      "model_name": "LayoutModel",
      "state": {
       "_model_module": "@jupyter-widgets/base",
       "_model_module_version": "1.2.0",
       "_model_name": "LayoutModel",
       "_view_count": null,
       "_view_module": "@jupyter-widgets/base",
       "_view_module_version": "1.2.0",
       "_view_name": "LayoutView",
       "align_content": null,
       "align_items": null,
       "align_self": null,
       "border": null,
       "bottom": null,
       "display": null,
       "flex": null,
       "flex_flow": null,
       "grid_area": null,
       "grid_auto_columns": null,
       "grid_auto_flow": null,
       "grid_auto_rows": null,
       "grid_column": null,
       "grid_gap": null,
       "grid_row": null,
       "grid_template_areas": null,
       "grid_template_columns": null,
       "grid_template_rows": null,
       "height": null,
       "justify_content": null,
       "justify_items": null,
       "left": null,
       "margin": null,
       "max_height": null,
       "max_width": null,
       "min_height": null,
       "min_width": null,
       "object_fit": null,
       "object_position": null,
       "order": null,
       "overflow": null,
       "overflow_x": null,
       "overflow_y": null,
       "padding": null,
       "right": null,
       "top": null,
       "visibility": null,
       "width": null
      }
     },
     "4ad1c576f3364299b829b3062897109b": {
      "model_module": "@jupyter-widgets/controls",
      "model_module_version": "1.5.0",
      "model_name": "ProgressStyleModel",
      "state": {
       "_model_module": "@jupyter-widgets/controls",
       "_model_module_version": "1.5.0",
       "_model_name": "ProgressStyleModel",
       "_view_count": null,
       "_view_module": "@jupyter-widgets/base",
       "_view_module_version": "1.2.0",
       "_view_name": "StyleView",
       "bar_color": null,
       "description_width": ""
      }
     },
     "4b723dada3de4304917fcff468fce407": {
      "model_module": "@jupyter-widgets/controls",
      "model_module_version": "1.5.0",
      "model_name": "DescriptionStyleModel",
      "state": {
       "_model_module": "@jupyter-widgets/controls",
       "_model_module_version": "1.5.0",
       "_model_name": "DescriptionStyleModel",
       "_view_count": null,
       "_view_module": "@jupyter-widgets/base",
       "_view_module_version": "1.2.0",
       "_view_name": "StyleView",
       "description_width": ""
      }
     },
     "6661b75c720d4b01b81751329afaf359": {
      "model_module": "@jupyter-widgets/base",
      "model_module_version": "1.2.0",
      "model_name": "LayoutModel",
      "state": {
       "_model_module": "@jupyter-widgets/base",
       "_model_module_version": "1.2.0",
       "_model_name": "LayoutModel",
       "_view_count": null,
       "_view_module": "@jupyter-widgets/base",
       "_view_module_version": "1.2.0",
       "_view_name": "LayoutView",
       "align_content": null,
       "align_items": null,
       "align_self": null,
       "border": null,
       "bottom": null,
       "display": null,
       "flex": null,
       "flex_flow": null,
       "grid_area": null,
       "grid_auto_columns": null,
       "grid_auto_flow": null,
       "grid_auto_rows": null,
       "grid_column": null,
       "grid_gap": null,
       "grid_row": null,
       "grid_template_areas": null,
       "grid_template_columns": null,
       "grid_template_rows": null,
       "height": null,
       "justify_content": null,
       "justify_items": null,
       "left": null,
       "margin": null,
       "max_height": null,
       "max_width": null,
       "min_height": null,
       "min_width": null,
       "object_fit": null,
       "object_position": null,
       "order": null,
       "overflow": null,
       "overflow_x": null,
       "overflow_y": null,
       "padding": null,
       "right": null,
       "top": null,
       "visibility": null,
       "width": null
      }
     },
     "7a3575d714da4248b33ca16d6b598a51": {
      "model_module": "@jupyter-widgets/controls",
      "model_module_version": "1.5.0",
      "model_name": "FloatProgressModel",
      "state": {
       "_dom_classes": [],
       "_model_module": "@jupyter-widgets/controls",
       "_model_module_version": "1.5.0",
       "_model_name": "FloatProgressModel",
       "_view_count": null,
       "_view_module": "@jupyter-widgets/controls",
       "_view_module_version": "1.5.0",
       "_view_name": "ProgressView",
       "bar_style": "success",
       "description": "",
       "description_tooltip": null,
       "layout": "IPY_MODEL_256335049ecb46d7ac2226812928ed79",
       "max": 5001.0,
       "min": 0.0,
       "orientation": "horizontal",
       "style": "IPY_MODEL_4ad1c576f3364299b829b3062897109b",
       "value": 5001.0
      }
     },
     "91070a44ef174d109eba8d5a14629fc5": {
      "model_module": "@jupyter-widgets/controls",
      "model_module_version": "1.5.0",
      "model_name": "DescriptionStyleModel",
      "state": {
       "_model_module": "@jupyter-widgets/controls",
       "_model_module_version": "1.5.0",
       "_model_name": "DescriptionStyleModel",
       "_view_count": null,
       "_view_module": "@jupyter-widgets/base",
       "_view_module_version": "1.2.0",
       "_view_name": "StyleView",
       "description_width": ""
      }
     },
     "9733f7b08c7249bd8d147a589a02a1ab": {
      "model_module": "@jupyter-widgets/controls",
      "model_module_version": "1.5.0",
      "model_name": "HBoxModel",
      "state": {
       "_dom_classes": [],
       "_model_module": "@jupyter-widgets/controls",
       "_model_module_version": "1.5.0",
       "_model_name": "HBoxModel",
       "_view_count": null,
       "_view_module": "@jupyter-widgets/controls",
       "_view_module_version": "1.5.0",
       "_view_name": "HBoxView",
       "box_style": "",
       "children": [
        "IPY_MODEL_a1aa8b7d9bbc473fa40596d92a31404c",
        "IPY_MODEL_7a3575d714da4248b33ca16d6b598a51",
        "IPY_MODEL_b344297c2695446eb45b1ae5b3a365eb"
       ],
       "layout": "IPY_MODEL_480431e1b5ab457ea26f99ff1970535a"
      }
     },
     "98a8477e30f94fa0bbada9699570ac79": {
      "model_module": "@jupyter-widgets/controls",
      "model_module_version": "1.5.0",
      "model_name": "DescriptionStyleModel",
      "state": {
       "_model_module": "@jupyter-widgets/controls",
       "_model_module_version": "1.5.0",
       "_model_name": "DescriptionStyleModel",
       "_view_count": null,
       "_view_module": "@jupyter-widgets/base",
       "_view_module_version": "1.2.0",
       "_view_name": "StyleView",
       "description_width": ""
      }
     },
     "a1aa8b7d9bbc473fa40596d92a31404c": {
      "model_module": "@jupyter-widgets/controls",
      "model_module_version": "1.5.0",
      "model_name": "HTMLModel",
      "state": {
       "_dom_classes": [],
       "_model_module": "@jupyter-widgets/controls",
       "_model_module_version": "1.5.0",
       "_model_name": "HTMLModel",
       "_view_count": null,
       "_view_module": "@jupyter-widgets/controls",
       "_view_module_version": "1.5.0",
       "_view_name": "HTMLView",
       "description": "",
       "description_tooltip": null,
       "layout": "IPY_MODEL_3ea0974dc8354d1eba352218e21a9101",
       "placeholder": "​",
       "style": "IPY_MODEL_91070a44ef174d109eba8d5a14629fc5",
       "value": "100%"
      }
     },
     "ac0808892be24f5cac517e2c46854efd": {
      "model_module": "@jupyter-widgets/controls",
      "model_module_version": "1.5.0",
      "model_name": "HTMLModel",
      "state": {
       "_dom_classes": [],
       "_model_module": "@jupyter-widgets/controls",
       "_model_module_version": "1.5.0",
       "_model_name": "HTMLModel",
       "_view_count": null,
       "_view_module": "@jupyter-widgets/controls",
       "_view_module_version": "1.5.0",
       "_view_name": "HTMLView",
       "description": "",
       "description_tooltip": null,
       "layout": "IPY_MODEL_c764abbabd2442b28234a99d1702fb0e",
       "placeholder": "​",
       "style": "IPY_MODEL_98a8477e30f94fa0bbada9699570ac79",
       "value": "100%"
      }
     },
     "af68f139f6ee4ba2965101bf7ee219b9": {
      "model_module": "@jupyter-widgets/base",
      "model_module_version": "1.2.0",
      "model_name": "LayoutModel",
      "state": {
       "_model_module": "@jupyter-widgets/base",
       "_model_module_version": "1.2.0",
       "_model_name": "LayoutModel",
       "_view_count": null,
       "_view_module": "@jupyter-widgets/base",
       "_view_module_version": "1.2.0",
       "_view_name": "LayoutView",
       "align_content": null,
       "align_items": null,
       "align_self": null,
       "border": null,
       "bottom": null,
       "display": null,
       "flex": null,
       "flex_flow": null,
       "grid_area": null,
       "grid_auto_columns": null,
       "grid_auto_flow": null,
       "grid_auto_rows": null,
       "grid_column": null,
       "grid_gap": null,
       "grid_row": null,
       "grid_template_areas": null,
       "grid_template_columns": null,
       "grid_template_rows": null,
       "height": null,
       "justify_content": null,
       "justify_items": null,
       "left": null,
       "margin": null,
       "max_height": null,
       "max_width": null,
       "min_height": null,
       "min_width": null,
       "object_fit": null,
       "object_position": null,
       "order": null,
       "overflow": null,
       "overflow_x": null,
       "overflow_y": null,
       "padding": null,
       "right": null,
       "top": null,
       "visibility": null,
       "width": null
      }
     },
     "b344297c2695446eb45b1ae5b3a365eb": {
      "model_module": "@jupyter-widgets/controls",
      "model_module_version": "1.5.0",
      "model_name": "HTMLModel",
      "state": {
       "_dom_classes": [],
       "_model_module": "@jupyter-widgets/controls",
       "_model_module_version": "1.5.0",
       "_model_name": "HTMLModel",
       "_view_count": null,
       "_view_module": "@jupyter-widgets/controls",
       "_view_module_version": "1.5.0",
       "_view_name": "HTMLView",
       "description": "",
       "description_tooltip": null,
       "layout": "IPY_MODEL_af68f139f6ee4ba2965101bf7ee219b9",
       "placeholder": "​",
       "style": "IPY_MODEL_305d69bb443143dc9282d1c6a80911f3",
       "value": " 5001/5001 [00:00&lt;00:00, 25126.76it/s]"
      }
     },
     "badf9632626a4c4c8346f2808609d222": {
      "model_module": "@jupyter-widgets/base",
      "model_module_version": "1.2.0",
      "model_name": "LayoutModel",
      "state": {
       "_model_module": "@jupyter-widgets/base",
       "_model_module_version": "1.2.0",
       "_model_name": "LayoutModel",
       "_view_count": null,
       "_view_module": "@jupyter-widgets/base",
       "_view_module_version": "1.2.0",
       "_view_name": "LayoutView",
       "align_content": null,
       "align_items": null,
       "align_self": null,
       "border": null,
       "bottom": null,
       "display": null,
       "flex": null,
       "flex_flow": null,
       "grid_area": null,
       "grid_auto_columns": null,
       "grid_auto_flow": null,
       "grid_auto_rows": null,
       "grid_column": null,
       "grid_gap": null,
       "grid_row": null,
       "grid_template_areas": null,
       "grid_template_columns": null,
       "grid_template_rows": null,
       "height": null,
       "justify_content": null,
       "justify_items": null,
       "left": null,
       "margin": null,
       "max_height": null,
       "max_width": null,
       "min_height": null,
       "min_width": null,
       "object_fit": null,
       "object_position": null,
       "order": null,
       "overflow": null,
       "overflow_x": null,
       "overflow_y": null,
       "padding": null,
       "right": null,
       "top": null,
       "visibility": null,
       "width": null
      }
     },
     "bd4902b8a0664af9a241fa445b322fc3": {
      "model_module": "@jupyter-widgets/controls",
      "model_module_version": "1.5.0",
      "model_name": "HBoxModel",
      "state": {
       "_dom_classes": [],
       "_model_module": "@jupyter-widgets/controls",
       "_model_module_version": "1.5.0",
       "_model_name": "HBoxModel",
       "_view_count": null,
       "_view_module": "@jupyter-widgets/controls",
       "_view_module_version": "1.5.0",
       "_view_name": "HBoxView",
       "box_style": "",
       "children": [
        "IPY_MODEL_ac0808892be24f5cac517e2c46854efd",
        "IPY_MODEL_f00ab0312a16428583ed89ca0ccfe871",
        "IPY_MODEL_cf32824e36ba47e1aa03959a3c8c2184"
       ],
       "layout": "IPY_MODEL_badf9632626a4c4c8346f2808609d222"
      }
     },
     "c764abbabd2442b28234a99d1702fb0e": {
      "model_module": "@jupyter-widgets/base",
      "model_module_version": "1.2.0",
      "model_name": "LayoutModel",
      "state": {
       "_model_module": "@jupyter-widgets/base",
       "_model_module_version": "1.2.0",
       "_model_name": "LayoutModel",
       "_view_count": null,
       "_view_module": "@jupyter-widgets/base",
       "_view_module_version": "1.2.0",
       "_view_name": "LayoutView",
       "align_content": null,
       "align_items": null,
       "align_self": null,
       "border": null,
       "bottom": null,
       "display": null,
       "flex": null,
       "flex_flow": null,
       "grid_area": null,
       "grid_auto_columns": null,
       "grid_auto_flow": null,
       "grid_auto_rows": null,
       "grid_column": null,
       "grid_gap": null,
       "grid_row": null,
       "grid_template_areas": null,
       "grid_template_columns": null,
       "grid_template_rows": null,
       "height": null,
       "justify_content": null,
       "justify_items": null,
       "left": null,
       "margin": null,
       "max_height": null,
       "max_width": null,
       "min_height": null,
       "min_width": null,
       "object_fit": null,
       "object_position": null,
       "order": null,
       "overflow": null,
       "overflow_x": null,
       "overflow_y": null,
       "padding": null,
       "right": null,
       "top": null,
       "visibility": null,
       "width": null
      }
     },
     "cf32824e36ba47e1aa03959a3c8c2184": {
      "model_module": "@jupyter-widgets/controls",
      "model_module_version": "1.5.0",
      "model_name": "HTMLModel",
      "state": {
       "_dom_classes": [],
       "_model_module": "@jupyter-widgets/controls",
       "_model_module_version": "1.5.0",
       "_model_name": "HTMLModel",
       "_view_count": null,
       "_view_module": "@jupyter-widgets/controls",
       "_view_module_version": "1.5.0",
       "_view_name": "HTMLView",
       "description": "",
       "description_tooltip": null,
       "layout": "IPY_MODEL_0f074bf329584e2fb739983380e12deb",
       "placeholder": "​",
       "style": "IPY_MODEL_4b723dada3de4304917fcff468fce407",
       "value": " 15/15 [00:04&lt;00:00,  3.20it/s]"
      }
     },
     "f00ab0312a16428583ed89ca0ccfe871": {
      "model_module": "@jupyter-widgets/controls",
      "model_module_version": "1.5.0",
      "model_name": "FloatProgressModel",
      "state": {
       "_dom_classes": [],
       "_model_module": "@jupyter-widgets/controls",
       "_model_module_version": "1.5.0",
       "_model_name": "FloatProgressModel",
       "_view_count": null,
       "_view_module": "@jupyter-widgets/controls",
       "_view_module_version": "1.5.0",
       "_view_name": "ProgressView",
       "bar_style": "success",
       "description": "",
       "description_tooltip": null,
       "layout": "IPY_MODEL_6661b75c720d4b01b81751329afaf359",
       "max": 15.0,
       "min": 0.0,
       "orientation": "horizontal",
       "style": "IPY_MODEL_03005030c8744d4ea62d2780dfe05668",
       "value": 15.0
      }
     }
    },
    "version_major": 2,
    "version_minor": 0
   }
  }
 },
 "nbformat": 4,
 "nbformat_minor": 5
}
