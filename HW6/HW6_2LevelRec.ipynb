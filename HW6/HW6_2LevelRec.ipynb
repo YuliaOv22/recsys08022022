{
  "cells": [
    {
      "cell_type": "markdown",
      "id": "7b55bbb2",
      "metadata": {
        "papermill": {
          "duration": 0.163351,
          "end_time": "2022-05-07T20:19:46.022295",
          "exception": false,
          "start_time": "2022-05-07T20:19:45.858944",
          "status": "completed"
        },
        "tags": [],
        "id": "7b55bbb2"
      },
      "source": [
        "# Вебинар 6. Двухуровневые модели рекомендаций\n"
      ]
    },
    {
      "cell_type": "markdown",
      "id": "71d354a0",
      "metadata": {
        "papermill": {
          "duration": 0.162845,
          "end_time": "2022-05-07T20:19:46.351742",
          "exception": false,
          "start_time": "2022-05-07T20:19:46.188897",
          "status": "completed"
        },
        "tags": [],
        "id": "71d354a0"
      },
      "source": [
        "### Зачем 2 уровня?\n",
        "- Классические модели классификации (lightgbm) зачастую работают лучше, чем рекоммендательные модели (als, lightfm)\n",
        "- Данных много, предсказаний много (# items * # users) --> с таким объемом lightgbm не справляется\n",
        "- Но рекомендательные модели справляются!\n",
        "\n",
        "Отбираем top-N (200) *кандидатов* с помощью простой модели (als) --> переранжируем их сложной моделью (lightgbm)\n",
        "и выберем top-k (10)."
      ]
    },
    {
      "cell_type": "markdown",
      "id": "5bf07da7",
      "metadata": {
        "papermill": {
          "duration": 0.162148,
          "end_time": "2022-05-07T20:19:46.675684",
          "exception": false,
          "start_time": "2022-05-07T20:19:46.513536",
          "status": "completed"
        },
        "tags": [],
        "id": "5bf07da7"
      },
      "source": [
        "---"
      ]
    },
    {
      "cell_type": "markdown",
      "id": "4cbfb8f7",
      "metadata": {
        "papermill": {
          "duration": 0.16042,
          "end_time": "2022-05-07T20:19:46.996946",
          "exception": false,
          "start_time": "2022-05-07T20:19:46.836526",
          "status": "completed"
        },
        "tags": [],
        "id": "4cbfb8f7"
      },
      "source": [
        "### Как отбирать кандидатов?\n",
        "\n",
        "Вариантов множество. Тут нам поможет *MainRecommender*. Пока в нем реализованы далеко не все возможные способы генерации кандидатов\n",
        "\n",
        "- Генерируем топ-k кандидатов\n",
        "- Качество кандидатов измеряем через **recall@k**\n",
        "- recall@k показывает какую долю из купленных товаров мы смогли выявить (рекомендовать) нашей моделью"
      ]
    },
    {
      "cell_type": "markdown",
      "id": "aec93f39",
      "metadata": {
        "papermill": {
          "duration": 0.158535,
          "end_time": "2022-05-07T20:19:47.313947",
          "exception": false,
          "start_time": "2022-05-07T20:19:47.155412",
          "status": "completed"
        },
        "tags": [],
        "id": "aec93f39"
      },
      "source": [
        "----"
      ]
    },
    {
      "cell_type": "markdown",
      "id": "fd91748b",
      "metadata": {
        "papermill": {
          "duration": 0.163043,
          "end_time": "2022-05-07T20:19:47.637454",
          "exception": false,
          "start_time": "2022-05-07T20:19:47.474411",
          "status": "completed"
        },
        "tags": [],
        "id": "fd91748b"
      },
      "source": [
        "# Практическая часть"
      ]
    },
    {
      "cell_type": "markdown",
      "id": "93af8aac",
      "metadata": {
        "papermill": {
          "duration": 0.16177,
          "end_time": "2022-05-07T20:19:47.959770",
          "exception": false,
          "start_time": "2022-05-07T20:19:47.798000",
          "status": "completed"
        },
        "tags": [],
        "id": "93af8aac"
      },
      "source": [
        "# Import libs"
      ]
    },
    {
      "cell_type": "code",
      "execution_count": null,
      "id": "7f06042c",
      "metadata": {
        "execution": {
          "iopub.execute_input": "2022-05-07T20:19:48.288601Z",
          "iopub.status.busy": "2022-05-07T20:19:48.287930Z",
          "iopub.status.idle": "2022-05-07T20:19:51.039628Z",
          "shell.execute_reply": "2022-05-07T20:19:51.038863Z"
        },
        "papermill": {
          "duration": 2.91775,
          "end_time": "2022-05-07T20:19:51.042390",
          "exception": false,
          "start_time": "2022-05-07T20:19:48.124640",
          "status": "completed"
        },
        "tags": [],
        "id": "7f06042c",
        "outputId": "46f34020-675c-4ff4-d056-b1871d4ceba8"
      },
      "outputs": [
        {
          "data": {
            "text/html": [
              "<style type='text/css'>\n",
              ".datatable table.frame { margin-bottom: 0; }\n",
              ".datatable table.frame thead { border-bottom: none; }\n",
              ".datatable table.frame tr.coltypes td {  color: #FFFFFF;  line-height: 6px;  padding: 0 0.5em;}\n",
              ".datatable .bool    { background: #DDDD99; }\n",
              ".datatable .object  { background: #565656; }\n",
              ".datatable .int     { background: #5D9E5D; }\n",
              ".datatable .float   { background: #4040CC; }\n",
              ".datatable .str     { background: #CC4040; }\n",
              ".datatable .time    { background: #40CC40; }\n",
              ".datatable .row_index {  background: var(--jp-border-color3);  border-right: 1px solid var(--jp-border-color0);  color: var(--jp-ui-font-color3);  font-size: 9px;}\n",
              ".datatable .frame tbody td { text-align: left; }\n",
              ".datatable .frame tr.coltypes .row_index {  background: var(--jp-border-color0);}\n",
              ".datatable th:nth-child(2) { padding-left: 12px; }\n",
              ".datatable .hellipsis {  color: var(--jp-cell-editor-border-color);}\n",
              ".datatable .vellipsis {  background: var(--jp-layout-color0);  color: var(--jp-cell-editor-border-color);}\n",
              ".datatable .na {  color: var(--jp-cell-editor-border-color);  font-size: 80%;}\n",
              ".datatable .sp {  opacity: 0.25;}\n",
              ".datatable .footer { font-size: 9px; }\n",
              ".datatable .frame_dimensions {  background: var(--jp-border-color3);  border-top: 1px solid var(--jp-border-color0);  color: var(--jp-ui-font-color3);  display: inline-block;  opacity: 0.6;  padding: 1px 10px 1px 5px;}\n",
              "</style>\n"
            ],
            "text/plain": [
              "<IPython.core.display.HTML object>"
            ]
          },
          "metadata": {},
          "output_type": "display_data"
        }
      ],
      "source": [
        "import pandas as pd\n",
        "import numpy as np\n",
        "import matplotlib.pyplot as plt\n",
        "%matplotlib inline\n",
        "\n",
        "import time\n",
        "\n",
        "# Для работы с матрицами\n",
        "from scipy.sparse import csr_matrix\n",
        "\n",
        "# Матричная факторизация\n",
        "from implicit import als\n",
        "\n",
        "# Модель второго уровня\n",
        "from lightgbm import LGBMClassifier\n",
        "\n",
        "import os, sys\n",
        "module_path = os.path.abspath(os.path.join(os.pardir))\n",
        "if module_path not in sys.path:\n",
        "    sys.path.append(module_path)\n",
        "\n",
        "# # Написанные нами функции\n",
        "# from metrics import precision_at_k, recall_at_k\n",
        "# from utils import prefilter_items\n",
        "# from recommenders import MainRecommender\n",
        "\n",
        "# import module we'll need to import our custom module\n",
        "from shutil import copyfile\n",
        "\n",
        "# copy our file into the working directory (make sure it has .py suffix)\n",
        "copyfile(src = \"../input/recommend7/metrics.py\", dst = \"../working/metrics.py\")\n",
        "copyfile(src = \"../input/recommend7/utils.py\", dst = \"../working/utils.py\")\n",
        "copyfile(src = \"../input/recommend7/recommenders.py\", dst = \"../working/recommenders.py\")\n",
        "\n",
        "# import all our functions\n",
        "from metrics import precision_at_k, recall_at_k\n",
        "from utils import prefilter_items\n",
        "from recommenders import MainRecommender"
      ]
    },
    {
      "cell_type": "markdown",
      "id": "b0db6a30",
      "metadata": {
        "papermill": {
          "duration": 0.162979,
          "end_time": "2022-05-07T20:19:51.368970",
          "exception": false,
          "start_time": "2022-05-07T20:19:51.205991",
          "status": "completed"
        },
        "tags": [],
        "id": "b0db6a30"
      },
      "source": [
        "## Read data"
      ]
    },
    {
      "cell_type": "code",
      "execution_count": null,
      "id": "16d3214e",
      "metadata": {
        "execution": {
          "iopub.execute_input": "2022-05-07T20:19:51.706593Z",
          "iopub.status.busy": "2022-05-07T20:19:51.706092Z",
          "iopub.status.idle": "2022-05-07T20:19:55.962374Z",
          "shell.execute_reply": "2022-05-07T20:19:55.960491Z"
        },
        "papermill": {
          "duration": 4.430733,
          "end_time": "2022-05-07T20:19:55.964909",
          "exception": false,
          "start_time": "2022-05-07T20:19:51.534176",
          "status": "completed"
        },
        "tags": [],
        "id": "16d3214e"
      },
      "outputs": [],
      "source": [
        "data = pd.read_csv('../input/recommend7/retail_train.csv')\n",
        "item_features = pd.read_csv('../input/recommend7/product.csv')\n",
        "user_features = pd.read_csv('../input/recommend7/hh_demographic.csv')"
      ]
    },
    {
      "cell_type": "markdown",
      "id": "bff962d4",
      "metadata": {
        "papermill": {
          "duration": 0.105184,
          "end_time": "2022-05-07T20:19:56.173751",
          "exception": false,
          "start_time": "2022-05-07T20:19:56.068567",
          "status": "completed"
        },
        "tags": [],
        "id": "bff962d4"
      },
      "source": [
        "# Process features dataset"
      ]
    },
    {
      "cell_type": "code",
      "execution_count": null,
      "id": "cf043863",
      "metadata": {
        "execution": {
          "iopub.execute_input": "2022-05-07T20:19:56.505088Z",
          "iopub.status.busy": "2022-05-07T20:19:56.504795Z",
          "iopub.status.idle": "2022-05-07T20:19:56.510128Z",
          "shell.execute_reply": "2022-05-07T20:19:56.508733Z"
        },
        "papermill": {
          "duration": 0.175695,
          "end_time": "2022-05-07T20:19:56.513764",
          "exception": false,
          "start_time": "2022-05-07T20:19:56.338069",
          "status": "completed"
        },
        "tags": [],
        "id": "cf043863"
      },
      "outputs": [],
      "source": [
        "ITEM_COL = 'item_id'\n",
        "USER_COL = 'user_id'"
      ]
    },
    {
      "cell_type": "code",
      "execution_count": null,
      "id": "185e72e0",
      "metadata": {
        "execution": {
          "iopub.execute_input": "2022-05-07T20:19:56.845159Z",
          "iopub.status.busy": "2022-05-07T20:19:56.844901Z",
          "iopub.status.idle": "2022-05-07T20:19:56.857401Z",
          "shell.execute_reply": "2022-05-07T20:19:56.856754Z"
        },
        "papermill": {
          "duration": 0.176624,
          "end_time": "2022-05-07T20:19:56.859974",
          "exception": false,
          "start_time": "2022-05-07T20:19:56.683350",
          "status": "completed"
        },
        "tags": [],
        "id": "185e72e0"
      },
      "outputs": [],
      "source": [
        "# column processing\n",
        "item_features.columns = [col.lower() for col in item_features.columns]\n",
        "user_features.columns = [col.lower() for col in user_features.columns]\n",
        "\n",
        "item_features.rename(columns={'product_id': ITEM_COL}, inplace=True)\n",
        "user_features.rename(columns={'household_key': USER_COL }, inplace=True)"
      ]
    },
    {
      "cell_type": "markdown",
      "id": "206fc60f",
      "metadata": {
        "papermill": {
          "duration": 0.159165,
          "end_time": "2022-05-07T20:19:57.182793",
          "exception": false,
          "start_time": "2022-05-07T20:19:57.023628",
          "status": "completed"
        },
        "tags": [],
        "id": "206fc60f"
      },
      "source": [
        "# Split dataset for train, eval, test"
      ]
    },
    {
      "cell_type": "code",
      "execution_count": null,
      "id": "be74d09f",
      "metadata": {
        "execution": {
          "iopub.execute_input": "2022-05-07T20:19:57.506655Z",
          "iopub.status.busy": "2022-05-07T20:19:57.506180Z",
          "iopub.status.idle": "2022-05-07T20:19:57.510423Z",
          "shell.execute_reply": "2022-05-07T20:19:57.509467Z"
        },
        "papermill": {
          "duration": 0.169084,
          "end_time": "2022-05-07T20:19:57.512698",
          "exception": false,
          "start_time": "2022-05-07T20:19:57.343614",
          "status": "completed"
        },
        "tags": [],
        "id": "be74d09f"
      },
      "outputs": [],
      "source": [
        "# Важна схема обучения и валидации!\n",
        "# -- давние покупки -- | -- 6 недель -- | -- 3 недель -- \n",
        "# подобрать размер 2-ого датасета (6 недель) --> learning curve (зависимость метрики recall@k от размера датасета)\n",
        "\n",
        "\n",
        "VAL_MATCHER_WEEKS = 6\n",
        "VAL_RANKER_WEEKS = 3"
      ]
    },
    {
      "cell_type": "code",
      "execution_count": null,
      "id": "1ab39b23",
      "metadata": {
        "execution": {
          "iopub.execute_input": "2022-05-07T20:19:57.847686Z",
          "iopub.status.busy": "2022-05-07T20:19:57.847337Z",
          "iopub.status.idle": "2022-05-07T20:19:58.050326Z",
          "shell.execute_reply": "2022-05-07T20:19:58.049322Z"
        },
        "papermill": {
          "duration": 0.369134,
          "end_time": "2022-05-07T20:19:58.052973",
          "exception": false,
          "start_time": "2022-05-07T20:19:57.683839",
          "status": "completed"
        },
        "scrolled": true,
        "tags": [],
        "id": "1ab39b23"
      },
      "outputs": [],
      "source": [
        "# берем данные для тренировки matching модели\n",
        "data_train_matcher = data[data['week_no'] < data['week_no'].max() - (VAL_MATCHER_WEEKS + VAL_RANKER_WEEKS)]\n",
        "\n",
        "# берем данные для валидации matching модели\n",
        "data_val_matcher = data[(data['week_no'] >= data['week_no'].max() - (VAL_MATCHER_WEEKS + VAL_RANKER_WEEKS)) &\n",
        "                      (data['week_no'] < data['week_no'].max() - (VAL_RANKER_WEEKS))]\n",
        "\n",
        "\n",
        "# берем данные для тренировки ranking модели\n",
        "data_train_ranker = data_val_matcher.copy()  # Для наглядности. Далее мы добавим изменения, и они будут отличаться\n",
        "\n",
        "# берем данные для теста ranking, matching модели\n",
        "data_val_ranker = data[data['week_no'] >= data['week_no'].max() - VAL_RANKER_WEEKS]"
      ]
    },
    {
      "cell_type": "code",
      "execution_count": null,
      "id": "5b53d447",
      "metadata": {
        "execution": {
          "iopub.execute_input": "2022-05-07T20:19:58.377181Z",
          "iopub.status.busy": "2022-05-07T20:19:58.376708Z",
          "iopub.status.idle": "2022-05-07T20:19:58.382442Z",
          "shell.execute_reply": "2022-05-07T20:19:58.380647Z"
        },
        "papermill": {
          "duration": 0.171515,
          "end_time": "2022-05-07T20:19:58.384798",
          "exception": false,
          "start_time": "2022-05-07T20:19:58.213283",
          "status": "completed"
        },
        "tags": [],
        "id": "5b53d447"
      },
      "outputs": [],
      "source": [
        "def print_stats_data(df_data, name_df):\n",
        "    print(name_df)\n",
        "    print(f\"Shape: {df_data.shape} Users: {df_data[USER_COL].nunique()} Items: {df_data[ITEM_COL].nunique()}\")"
      ]
    },
    {
      "cell_type": "code",
      "execution_count": null,
      "id": "22cbbd93",
      "metadata": {
        "execution": {
          "iopub.execute_input": "2022-05-07T20:19:58.590664Z",
          "iopub.status.busy": "2022-05-07T20:19:58.589994Z",
          "iopub.status.idle": "2022-05-07T20:19:58.652146Z",
          "shell.execute_reply": "2022-05-07T20:19:58.651060Z"
        },
        "papermill": {
          "duration": 0.16776,
          "end_time": "2022-05-07T20:19:58.654058",
          "exception": false,
          "start_time": "2022-05-07T20:19:58.486298",
          "status": "completed"
        },
        "scrolled": true,
        "tags": [],
        "id": "22cbbd93",
        "outputId": "5cd8f25a-304d-4aa4-eadc-14559daedff9"
      },
      "outputs": [
        {
          "name": "stdout",
          "output_type": "stream",
          "text": [
            "train_matcher\n",
            "Shape: (2108779, 12) Users: 2498 Items: 83685\n",
            "val_matcher\n",
            "Shape: (169711, 12) Users: 2154 Items: 27649\n",
            "train_ranker\n",
            "Shape: (169711, 12) Users: 2154 Items: 27649\n",
            "val_ranker\n",
            "Shape: (118314, 12) Users: 2042 Items: 24329\n"
          ]
        }
      ],
      "source": [
        "print_stats_data(data_train_matcher,'train_matcher')\n",
        "print_stats_data(data_val_matcher,'val_matcher')\n",
        "print_stats_data(data_train_ranker,'train_ranker')\n",
        "print_stats_data(data_val_ranker,'val_ranker')"
      ]
    },
    {
      "cell_type": "code",
      "execution_count": null,
      "id": "061090dc",
      "metadata": {
        "execution": {
          "iopub.execute_input": "2022-05-07T20:19:58.861109Z",
          "iopub.status.busy": "2022-05-07T20:19:58.860780Z",
          "iopub.status.idle": "2022-05-07T20:19:58.864666Z",
          "shell.execute_reply": "2022-05-07T20:19:58.863979Z"
        },
        "papermill": {
          "duration": 0.11073,
          "end_time": "2022-05-07T20:19:58.866611",
          "exception": false,
          "start_time": "2022-05-07T20:19:58.755881",
          "status": "completed"
        },
        "tags": [],
        "id": "061090dc"
      },
      "outputs": [],
      "source": [
        "# выше видим разброс по пользователям и товарам"
      ]
    },
    {
      "cell_type": "code",
      "execution_count": null,
      "id": "397c002a",
      "metadata": {
        "execution": {
          "iopub.execute_input": "2022-05-07T20:19:59.193809Z",
          "iopub.status.busy": "2022-05-07T20:19:59.193108Z",
          "iopub.status.idle": "2022-05-07T20:19:59.214050Z",
          "shell.execute_reply": "2022-05-07T20:19:59.213229Z"
        },
        "papermill": {
          "duration": 0.186723,
          "end_time": "2022-05-07T20:19:59.216169",
          "exception": false,
          "start_time": "2022-05-07T20:19:59.029446",
          "status": "completed"
        },
        "tags": [],
        "id": "397c002a",
        "outputId": "2fc3fce3-49be-4cd0-ab6d-779723f5b299"
      },
      "outputs": [
        {
          "data": {
            "text/html": [
              "<div>\n",
              "<style scoped>\n",
              "    .dataframe tbody tr th:only-of-type {\n",
              "        vertical-align: middle;\n",
              "    }\n",
              "\n",
              "    .dataframe tbody tr th {\n",
              "        vertical-align: top;\n",
              "    }\n",
              "\n",
              "    .dataframe thead th {\n",
              "        text-align: right;\n",
              "    }\n",
              "</style>\n",
              "<table border=\"1\" class=\"dataframe\">\n",
              "  <thead>\n",
              "    <tr style=\"text-align: right;\">\n",
              "      <th></th>\n",
              "      <th>user_id</th>\n",
              "      <th>basket_id</th>\n",
              "      <th>day</th>\n",
              "      <th>item_id</th>\n",
              "      <th>quantity</th>\n",
              "      <th>sales_value</th>\n",
              "      <th>store_id</th>\n",
              "      <th>retail_disc</th>\n",
              "      <th>trans_time</th>\n",
              "      <th>week_no</th>\n",
              "      <th>coupon_disc</th>\n",
              "      <th>coupon_match_disc</th>\n",
              "    </tr>\n",
              "  </thead>\n",
              "  <tbody>\n",
              "    <tr>\n",
              "      <th>0</th>\n",
              "      <td>2375</td>\n",
              "      <td>26984851472</td>\n",
              "      <td>1</td>\n",
              "      <td>1004906</td>\n",
              "      <td>1</td>\n",
              "      <td>1.39</td>\n",
              "      <td>364</td>\n",
              "      <td>-0.6</td>\n",
              "      <td>1631</td>\n",
              "      <td>1</td>\n",
              "      <td>0.0</td>\n",
              "      <td>0.0</td>\n",
              "    </tr>\n",
              "    <tr>\n",
              "      <th>1</th>\n",
              "      <td>2375</td>\n",
              "      <td>26984851472</td>\n",
              "      <td>1</td>\n",
              "      <td>1033142</td>\n",
              "      <td>1</td>\n",
              "      <td>0.82</td>\n",
              "      <td>364</td>\n",
              "      <td>0.0</td>\n",
              "      <td>1631</td>\n",
              "      <td>1</td>\n",
              "      <td>0.0</td>\n",
              "      <td>0.0</td>\n",
              "    </tr>\n",
              "  </tbody>\n",
              "</table>\n",
              "</div>"
            ],
            "text/plain": [
              "   user_id    basket_id  day  item_id  quantity  sales_value  store_id  \\\n",
              "0     2375  26984851472    1  1004906         1         1.39       364   \n",
              "1     2375  26984851472    1  1033142         1         0.82       364   \n",
              "\n",
              "   retail_disc  trans_time  week_no  coupon_disc  coupon_match_disc  \n",
              "0         -0.6        1631        1          0.0                0.0  \n",
              "1          0.0        1631        1          0.0                0.0  "
            ]
          },
          "execution_count": 10,
          "metadata": {},
          "output_type": "execute_result"
        }
      ],
      "source": [
        "data_train_matcher.head(2)"
      ]
    },
    {
      "cell_type": "markdown",
      "id": "f60936bd",
      "metadata": {
        "papermill": {
          "duration": 0.165003,
          "end_time": "2022-05-07T20:19:59.547998",
          "exception": false,
          "start_time": "2022-05-07T20:19:59.382995",
          "status": "completed"
        },
        "tags": [],
        "id": "f60936bd"
      },
      "source": [
        "# Prefilter items"
      ]
    },
    {
      "cell_type": "code",
      "execution_count": null,
      "id": "f62bd747",
      "metadata": {
        "execution": {
          "iopub.execute_input": "2022-05-07T20:19:59.877320Z",
          "iopub.status.busy": "2022-05-07T20:19:59.877026Z",
          "iopub.status.idle": "2022-05-07T20:20:00.369450Z",
          "shell.execute_reply": "2022-05-07T20:20:00.368292Z"
        },
        "papermill": {
          "duration": 0.660012,
          "end_time": "2022-05-07T20:20:00.371806",
          "exception": false,
          "start_time": "2022-05-07T20:19:59.711794",
          "status": "completed"
        },
        "tags": [],
        "id": "f62bd747",
        "outputId": "9aa099a3-b842-436f-8123-c84bbce9a7f7"
      },
      "outputs": [
        {
          "name": "stderr",
          "output_type": "stream",
          "text": [
            "/kaggle/working/utils.py:20: SettingWithCopyWarning: \n",
            "A value is trying to be set on a copy of a slice from a DataFrame.\n",
            "Try using .loc[row_indexer,col_indexer] = value instead\n",
            "\n",
            "See the caveats in the documentation: https://pandas.pydata.org/pandas-docs/stable/user_guide/indexing.html#returning-a-view-versus-a-copy\n",
            "  data['price'] = data['sales_value'] / (np.maximum(data['quantity'], 1))\n"
          ]
        },
        {
          "name": "stdout",
          "output_type": "stream",
          "text": [
            "Decreased # items from 83685 to 5001\n"
          ]
        }
      ],
      "source": [
        "n_items_before = data_train_matcher['item_id'].nunique()\n",
        "\n",
        "data_train_matcher = prefilter_items(data_train_matcher, item_features=item_features, take_n_popular=5000)\n",
        "\n",
        "n_items_after = data_train_matcher['item_id'].nunique()\n",
        "print('Decreased # items from {} to {}'.format(n_items_before, n_items_after))"
      ]
    },
    {
      "cell_type": "markdown",
      "id": "c3b4fe38",
      "metadata": {
        "papermill": {
          "duration": 0.166258,
          "end_time": "2022-05-07T20:20:00.702072",
          "exception": false,
          "start_time": "2022-05-07T20:20:00.535814",
          "status": "completed"
        },
        "tags": [],
        "id": "c3b4fe38"
      },
      "source": [
        "# Make cold-start to warm-start"
      ]
    },
    {
      "cell_type": "code",
      "execution_count": null,
      "id": "7a637bd1",
      "metadata": {
        "execution": {
          "iopub.execute_input": "2022-05-07T20:20:01.035403Z",
          "iopub.status.busy": "2022-05-07T20:20:01.035054Z",
          "iopub.status.idle": "2022-05-07T20:20:01.109375Z",
          "shell.execute_reply": "2022-05-07T20:20:01.107595Z"
        },
        "papermill": {
          "duration": 0.244037,
          "end_time": "2022-05-07T20:20:01.111744",
          "exception": false,
          "start_time": "2022-05-07T20:20:00.867707",
          "status": "completed"
        },
        "tags": [],
        "id": "7a637bd1",
        "outputId": "babb0d1b-2d38-419d-c6a1-9ed3c66f67b3"
      },
      "outputs": [
        {
          "name": "stdout",
          "output_type": "stream",
          "text": [
            "train_matcher\n",
            "Shape: (861404, 13) Users: 2495 Items: 5001\n",
            "val_matcher\n",
            "Shape: (169615, 12) Users: 2151 Items: 27644\n",
            "train_ranker\n",
            "Shape: (169615, 12) Users: 2151 Items: 27644\n",
            "val_ranker\n",
            "Shape: (118282, 12) Users: 2040 Items: 24325\n"
          ]
        }
      ],
      "source": [
        "# ищем общих пользователей\n",
        "common_users = data_train_matcher.user_id.values\n",
        "\n",
        "data_val_matcher = data_val_matcher[data_val_matcher.user_id.isin(common_users)]\n",
        "data_train_ranker = data_train_ranker[data_train_ranker.user_id.isin(common_users)]\n",
        "data_val_ranker = data_val_ranker[data_val_ranker.user_id.isin(common_users)]\n",
        "\n",
        "print_stats_data(data_train_matcher,'train_matcher')\n",
        "print_stats_data(data_val_matcher,'val_matcher')\n",
        "print_stats_data(data_train_ranker,'train_ranker')\n",
        "print_stats_data(data_val_ranker,'val_ranker')"
      ]
    },
    {
      "cell_type": "code",
      "execution_count": null,
      "id": "9773cea8",
      "metadata": {
        "execution": {
          "iopub.execute_input": "2022-05-07T20:20:01.447855Z",
          "iopub.status.busy": "2022-05-07T20:20:01.447544Z",
          "iopub.status.idle": "2022-05-07T20:20:01.451733Z",
          "shell.execute_reply": "2022-05-07T20:20:01.450507Z"
        },
        "papermill": {
          "duration": 0.177984,
          "end_time": "2022-05-07T20:20:01.454387",
          "exception": false,
          "start_time": "2022-05-07T20:20:01.276403",
          "status": "completed"
        },
        "tags": [],
        "id": "9773cea8"
      },
      "outputs": [],
      "source": [
        "# Теперь warm-start по пользователям"
      ]
    },
    {
      "cell_type": "markdown",
      "id": "6878c4f1",
      "metadata": {
        "papermill": {
          "duration": 0.167412,
          "end_time": "2022-05-07T20:20:01.790507",
          "exception": false,
          "start_time": "2022-05-07T20:20:01.623095",
          "status": "completed"
        },
        "tags": [],
        "id": "6878c4f1"
      },
      "source": [
        "# Init/train recommender"
      ]
    },
    {
      "cell_type": "code",
      "execution_count": null,
      "id": "3270b625",
      "metadata": {
        "execution": {
          "iopub.execute_input": "2022-05-07T20:20:02.145311Z",
          "iopub.status.busy": "2022-05-07T20:20:02.144917Z",
          "iopub.status.idle": "2022-05-07T20:20:10.529085Z",
          "shell.execute_reply": "2022-05-07T20:20:10.528458Z"
        },
        "papermill": {
          "duration": 8.562478,
          "end_time": "2022-05-07T20:20:10.531268",
          "exception": false,
          "start_time": "2022-05-07T20:20:01.968790",
          "status": "completed"
        },
        "tags": [],
        "id": "3270b625",
        "outputId": "4da4071b-dc2f-4b89-acf6-bb6e86e5d501",
        "colab": {
          "referenced_widgets": [
            "3c767152e7a048e791058c5533a85f85",
            "f9777a6995c44148a40e562d612d8346"
          ]
        }
      },
      "outputs": [
        {
          "data": {
            "application/vnd.jupyter.widget-view+json": {
              "model_id": "3c767152e7a048e791058c5533a85f85",
              "version_major": 2,
              "version_minor": 0
            },
            "text/plain": [
              "  0%|          | 0/15 [00:00<?, ?it/s]"
            ]
          },
          "metadata": {},
          "output_type": "display_data"
        },
        {
          "data": {
            "application/vnd.jupyter.widget-view+json": {
              "model_id": "f9777a6995c44148a40e562d612d8346",
              "version_major": 2,
              "version_minor": 0
            },
            "text/plain": [
              "  0%|          | 0/5001 [00:00<?, ?it/s]"
            ]
          },
          "metadata": {},
          "output_type": "display_data"
        }
      ],
      "source": [
        "recommender = MainRecommender(data_train_matcher)"
      ]
    },
    {
      "cell_type": "markdown",
      "id": "a2752247",
      "metadata": {
        "papermill": {
          "duration": 0.165023,
          "end_time": "2022-05-07T20:20:10.860674",
          "exception": false,
          "start_time": "2022-05-07T20:20:10.695651",
          "status": "completed"
        },
        "tags": [],
        "id": "a2752247"
      },
      "source": [
        "### Варианты, как получить кандидатов\n",
        "\n",
        "Можно потом все эти варианты соединить в один\n",
        "\n",
        "(!) Если модель рекомендует < N товаров, то рекомендации дополняются топ-популярными товарами до N"
      ]
    },
    {
      "cell_type": "code",
      "execution_count": null,
      "id": "90725830",
      "metadata": {
        "execution": {
          "iopub.execute_input": "2022-05-07T20:20:11.115093Z",
          "iopub.status.busy": "2022-05-07T20:20:11.114821Z",
          "iopub.status.idle": "2022-05-07T20:20:11.118923Z",
          "shell.execute_reply": "2022-05-07T20:20:11.117677Z"
        },
        "papermill": {
          "duration": 0.113462,
          "end_time": "2022-05-07T20:20:11.121740",
          "exception": false,
          "start_time": "2022-05-07T20:20:11.008278",
          "status": "completed"
        },
        "tags": [],
        "id": "90725830"
      },
      "outputs": [],
      "source": [
        "# Берем тестового юзера 2375"
      ]
    },
    {
      "cell_type": "code",
      "execution_count": null,
      "id": "5c7bbece",
      "metadata": {
        "execution": {
          "iopub.execute_input": "2022-05-07T20:20:11.462391Z",
          "iopub.status.busy": "2022-05-07T20:20:11.462013Z",
          "iopub.status.idle": "2022-05-07T20:20:11.479437Z",
          "shell.execute_reply": "2022-05-07T20:20:11.478424Z"
        },
        "papermill": {
          "duration": 0.194055,
          "end_time": "2022-05-07T20:20:11.483140",
          "exception": false,
          "start_time": "2022-05-07T20:20:11.289085",
          "status": "completed"
        },
        "tags": [],
        "id": "5c7bbece",
        "outputId": "07ddbbd5-fa0f-4893-9769-a1031ec9c654"
      },
      "outputs": [
        {
          "data": {
            "text/plain": [
              "[899624, 1044078, 1106523, 5569230, 871756]"
            ]
          },
          "execution_count": 16,
          "metadata": {},
          "output_type": "execute_result"
        }
      ],
      "source": [
        "recommender.get_als_recommendations(2375, N=5)"
      ]
    },
    {
      "cell_type": "code",
      "execution_count": null,
      "id": "d2bfb663",
      "metadata": {
        "execution": {
          "iopub.execute_input": "2022-05-07T20:20:11.837129Z",
          "iopub.status.busy": "2022-05-07T20:20:11.836805Z",
          "iopub.status.idle": "2022-05-07T20:20:11.848992Z",
          "shell.execute_reply": "2022-05-07T20:20:11.847833Z"
        },
        "papermill": {
          "duration": 0.183163,
          "end_time": "2022-05-07T20:20:11.851379",
          "exception": false,
          "start_time": "2022-05-07T20:20:11.668216",
          "status": "completed"
        },
        "tags": [],
        "id": "d2bfb663",
        "outputId": "50256d0a-a2a2-4c2c-adf9-fd796d5ee5e2"
      },
      "outputs": [
        {
          "data": {
            "text/plain": [
              "[948640, 918046, 847962, 907099, 873980]"
            ]
          },
          "execution_count": 17,
          "metadata": {},
          "output_type": "execute_result"
        }
      ],
      "source": [
        "recommender.get_own_recommendations(2375, N=5)"
      ]
    },
    {
      "cell_type": "code",
      "execution_count": null,
      "id": "2c7a218d",
      "metadata": {
        "execution": {
          "iopub.execute_input": "2022-05-07T20:20:12.067699Z",
          "iopub.status.busy": "2022-05-07T20:20:12.067013Z",
          "iopub.status.idle": "2022-05-07T20:20:12.078050Z",
          "shell.execute_reply": "2022-05-07T20:20:12.077380Z"
        },
        "papermill": {
          "duration": 0.123128,
          "end_time": "2022-05-07T20:20:12.081867",
          "exception": false,
          "start_time": "2022-05-07T20:20:11.958739",
          "status": "completed"
        },
        "tags": [],
        "id": "2c7a218d",
        "outputId": "595d9b96-6aef-4817-e434-e96d99061df6"
      },
      "outputs": [
        {
          "data": {
            "text/plain": [
              "[1046545, 1044078, 1042907, 842125, 1062863]"
            ]
          },
          "execution_count": 18,
          "metadata": {},
          "output_type": "execute_result"
        }
      ],
      "source": [
        "recommender.get_similar_items_recommendation(2375, N=5)"
      ]
    },
    {
      "cell_type": "code",
      "execution_count": null,
      "id": "20c5de16",
      "metadata": {
        "execution": {
          "iopub.execute_input": "2022-05-07T20:20:12.316493Z",
          "iopub.status.busy": "2022-05-07T20:20:12.316109Z",
          "iopub.status.idle": "2022-05-07T20:20:12.320045Z",
          "shell.execute_reply": "2022-05-07T20:20:12.318959Z"
        },
        "papermill": {
          "duration": 0.112725,
          "end_time": "2022-05-07T20:20:12.322122",
          "exception": false,
          "start_time": "2022-05-07T20:20:12.209397",
          "status": "completed"
        },
        "scrolled": true,
        "tags": [],
        "id": "20c5de16"
      },
      "outputs": [],
      "source": [
        "# recommender.get_similar_users_recommendation(2375, N=5)"
      ]
    },
    {
      "cell_type": "markdown",
      "id": "1a3d201f",
      "metadata": {
        "papermill": {
          "duration": 0.167873,
          "end_time": "2022-05-07T20:20:12.657236",
          "exception": false,
          "start_time": "2022-05-07T20:20:12.489363",
          "status": "completed"
        },
        "tags": [],
        "id": "1a3d201f"
      },
      "source": [
        "# Eval recall of matching"
      ]
    },
    {
      "cell_type": "markdown",
      "id": "bb4fffbe",
      "metadata": {
        "papermill": {
          "duration": 0.171847,
          "end_time": "2022-05-07T20:20:12.999073",
          "exception": false,
          "start_time": "2022-05-07T20:20:12.827226",
          "status": "completed"
        },
        "tags": [],
        "id": "bb4fffbe"
      },
      "source": [
        "### Измеряем recall@k\n",
        "\n",
        "Это будет в ДЗ: \n",
        "\n",
        "A) Попробуйте различные варианты генерации кандидатов. Какие из них дают наибольший recall@k ?\n",
        "- Пока пробуем отобрать 50 кандидатов (k=50)\n",
        "- Качество измеряем на data_val_matcher: следующие 6 недель после трейна\n",
        "\n",
        "Дают ли own recommendtions + top-popular лучший recall?  \n",
        "\n",
        "B)* Как зависит recall@k от k? Постройте для одной схемы генерации кандидатов эту зависимость для k = {20, 50, 100, 200, 500}  \n",
        "C)* Исходя из прошлого вопроса, как вы думаете, какое значение k является наиболее разумным?\n"
      ]
    },
    {
      "cell_type": "code",
      "execution_count": null,
      "id": "8bb96b2f",
      "metadata": {
        "execution": {
          "iopub.execute_input": "2022-05-07T20:20:13.340942Z",
          "iopub.status.busy": "2022-05-07T20:20:13.340633Z",
          "iopub.status.idle": "2022-05-07T20:20:13.344891Z",
          "shell.execute_reply": "2022-05-07T20:20:13.343880Z"
        },
        "papermill": {
          "duration": 0.177614,
          "end_time": "2022-05-07T20:20:13.346873",
          "exception": false,
          "start_time": "2022-05-07T20:20:13.169259",
          "status": "completed"
        },
        "tags": [],
        "id": "8bb96b2f"
      },
      "outputs": [],
      "source": [
        "ACTUAL_COL = 'actual'"
      ]
    },
    {
      "cell_type": "code",
      "execution_count": null,
      "id": "b85eacec",
      "metadata": {
        "execution": {
          "iopub.execute_input": "2022-05-07T20:20:13.686659Z",
          "iopub.status.busy": "2022-05-07T20:20:13.685308Z",
          "iopub.status.idle": "2022-05-07T20:20:13.806988Z",
          "shell.execute_reply": "2022-05-07T20:20:13.805515Z"
        },
        "papermill": {
          "duration": 0.294416,
          "end_time": "2022-05-07T20:20:13.809598",
          "exception": false,
          "start_time": "2022-05-07T20:20:13.515182",
          "status": "completed"
        },
        "scrolled": true,
        "tags": [],
        "id": "b85eacec",
        "outputId": "147cff09-3c97-430b-98d8-6670c96fc4b0"
      },
      "outputs": [
        {
          "data": {
            "text/html": [
              "<div>\n",
              "<style scoped>\n",
              "    .dataframe tbody tr th:only-of-type {\n",
              "        vertical-align: middle;\n",
              "    }\n",
              "\n",
              "    .dataframe tbody tr th {\n",
              "        vertical-align: top;\n",
              "    }\n",
              "\n",
              "    .dataframe thead th {\n",
              "        text-align: right;\n",
              "    }\n",
              "</style>\n",
              "<table border=\"1\" class=\"dataframe\">\n",
              "  <thead>\n",
              "    <tr style=\"text-align: right;\">\n",
              "      <th></th>\n",
              "      <th>user_id</th>\n",
              "      <th>actual</th>\n",
              "    </tr>\n",
              "  </thead>\n",
              "  <tbody>\n",
              "    <tr>\n",
              "      <th>0</th>\n",
              "      <td>1</td>\n",
              "      <td>[853529, 865456, 867607, 872137, 874905, 87524...</td>\n",
              "    </tr>\n",
              "    <tr>\n",
              "      <th>1</th>\n",
              "      <td>2</td>\n",
              "      <td>[15830248, 838136, 839656, 861272, 866211, 870...</td>\n",
              "    </tr>\n",
              "  </tbody>\n",
              "</table>\n",
              "</div>"
            ],
            "text/plain": [
              "   user_id                                             actual\n",
              "0        1  [853529, 865456, 867607, 872137, 874905, 87524...\n",
              "1        2  [15830248, 838136, 839656, 861272, 866211, 870..."
            ]
          },
          "execution_count": 21,
          "metadata": {},
          "output_type": "execute_result"
        }
      ],
      "source": [
        "result_eval_matcher = data_val_matcher.groupby(USER_COL)[ITEM_COL].unique().reset_index()\n",
        "result_eval_matcher.columns=[USER_COL, ACTUAL_COL]\n",
        "result_eval_matcher.head(2)"
      ]
    },
    {
      "cell_type": "code",
      "execution_count": null,
      "id": "d6ed2641",
      "metadata": {
        "execution": {
          "iopub.execute_input": "2022-05-07T20:20:14.153458Z",
          "iopub.status.busy": "2022-05-07T20:20:14.153127Z",
          "iopub.status.idle": "2022-05-07T20:20:14.158179Z",
          "shell.execute_reply": "2022-05-07T20:20:14.156759Z"
        },
        "papermill": {
          "duration": 0.177758,
          "end_time": "2022-05-07T20:20:14.160944",
          "exception": false,
          "start_time": "2022-05-07T20:20:13.983186",
          "status": "completed"
        },
        "tags": [],
        "id": "d6ed2641"
      },
      "outputs": [],
      "source": [
        "# N = Neighbors\n",
        "N_PREDICT = 50 "
      ]
    },
    {
      "cell_type": "code",
      "execution_count": null,
      "id": "3fc66563",
      "metadata": {
        "execution": {
          "iopub.execute_input": "2022-05-07T20:20:14.515626Z",
          "iopub.status.busy": "2022-05-07T20:20:14.515265Z",
          "iopub.status.idle": "2022-05-07T20:20:47.619597Z",
          "shell.execute_reply": "2022-05-07T20:20:47.619076Z"
        },
        "papermill": {
          "duration": 33.463865,
          "end_time": "2022-05-07T20:20:47.805307",
          "exception": false,
          "start_time": "2022-05-07T20:20:14.341442",
          "status": "completed"
        },
        "tags": [],
        "id": "3fc66563",
        "outputId": "3cf689ff-7445-4bd1-91c9-cee1439b7988"
      },
      "outputs": [
        {
          "name": "stdout",
          "output_type": "stream",
          "text": [
            "CPU times: user 44.8 s, sys: 59.2 s, total: 1min 43s\n",
            "Wall time: 33.1 s\n"
          ]
        }
      ],
      "source": [
        "%%time\n",
        "# для понятности расписано все в строчку, без функций, ваша задача уметь оборачивать все это в функции\n",
        "result_eval_matcher['own_rec'] = result_eval_matcher[USER_COL].apply(lambda x: recommender.get_own_recommendations(x, N=N_PREDICT))\n",
        "result_eval_matcher['sim_item_rec'] = result_eval_matcher[USER_COL].apply(lambda x: recommender.get_similar_items_recommendation(x, N=N_PREDICT))\n",
        "result_eval_matcher['als_rec'] = result_eval_matcher[USER_COL].apply(lambda x: recommender.get_als_recommendations(x, N=N_PREDICT))"
      ]
    },
    {
      "cell_type": "code",
      "execution_count": null,
      "id": "f67dd560",
      "metadata": {
        "execution": {
          "iopub.execute_input": "2022-05-07T20:20:48.144444Z",
          "iopub.status.busy": "2022-05-07T20:20:48.144144Z",
          "iopub.status.idle": "2022-05-07T20:20:48.147701Z",
          "shell.execute_reply": "2022-05-07T20:20:48.146686Z"
        },
        "papermill": {
          "duration": 0.176763,
          "end_time": "2022-05-07T20:20:48.150544",
          "exception": false,
          "start_time": "2022-05-07T20:20:47.973781",
          "status": "completed"
        },
        "scrolled": true,
        "tags": [],
        "id": "f67dd560"
      },
      "outputs": [],
      "source": [
        "# %%time\n",
        "# result_eval_matcher['sim_user_rec'] = result_eval_matcher[USER_COL].apply(lambda x: recommender.get_similar_users_recommendation(x, N=N_PREDICT))"
      ]
    },
    {
      "cell_type": "markdown",
      "id": "a1c8580c",
      "metadata": {
        "papermill": {
          "duration": 0.167392,
          "end_time": "2022-05-07T20:20:48.484696",
          "exception": false,
          "start_time": "2022-05-07T20:20:48.317304",
          "status": "completed"
        },
        "tags": [],
        "id": "a1c8580c"
      },
      "source": [
        "### Пример оборачивания"
      ]
    },
    {
      "cell_type": "code",
      "execution_count": null,
      "id": "fb662453",
      "metadata": {
        "execution": {
          "iopub.execute_input": "2022-05-07T20:20:48.823166Z",
          "iopub.status.busy": "2022-05-07T20:20:48.822764Z",
          "iopub.status.idle": "2022-05-07T20:20:48.827424Z",
          "shell.execute_reply": "2022-05-07T20:20:48.826708Z"
        },
        "papermill": {
          "duration": 0.176931,
          "end_time": "2022-05-07T20:20:48.829993",
          "exception": false,
          "start_time": "2022-05-07T20:20:48.653062",
          "status": "completed"
        },
        "tags": [],
        "id": "fb662453"
      },
      "outputs": [],
      "source": [
        "# # сырой и простой пример как можно обернуть в функцию\n",
        "def evalRecall(df_result, target_col_name, recommend_model):\n",
        "    result_col_name = 'result'\n",
        "    df_result[result_col_name] = df_result[target_col_name].apply(lambda x: recommend_model(x, N=25))\n",
        "    return df_result.apply(lambda row: recall_at_k(row[result_col_name], row[ACTUAL_COL], k=N_PREDICT), axis=1).mean()"
      ]
    },
    {
      "cell_type": "code",
      "execution_count": null,
      "id": "36ee7aac",
      "metadata": {
        "execution": {
          "iopub.execute_input": "2022-05-07T20:20:49.169629Z",
          "iopub.status.busy": "2022-05-07T20:20:49.169334Z",
          "iopub.status.idle": "2022-05-07T20:20:49.173159Z",
          "shell.execute_reply": "2022-05-07T20:20:49.171952Z"
        },
        "papermill": {
          "duration": 0.175502,
          "end_time": "2022-05-07T20:20:49.175271",
          "exception": false,
          "start_time": "2022-05-07T20:20:48.999769",
          "status": "completed"
        },
        "tags": [],
        "id": "36ee7aac"
      },
      "outputs": [],
      "source": [
        "# evalRecall(result_eval_matcher, USER_COL, recommender.get_own_recommendations)"
      ]
    },
    {
      "cell_type": "code",
      "execution_count": null,
      "id": "b6d03dd7",
      "metadata": {
        "execution": {
          "iopub.execute_input": "2022-05-07T20:20:49.514567Z",
          "iopub.status.busy": "2022-05-07T20:20:49.514243Z",
          "iopub.status.idle": "2022-05-07T20:20:49.520461Z",
          "shell.execute_reply": "2022-05-07T20:20:49.519594Z"
        },
        "papermill": {
          "duration": 0.177566,
          "end_time": "2022-05-07T20:20:49.522716",
          "exception": false,
          "start_time": "2022-05-07T20:20:49.345150",
          "status": "completed"
        },
        "tags": [],
        "id": "b6d03dd7"
      },
      "outputs": [],
      "source": [
        "def calc_recall(df_data, top_k):\n",
        "    for col_name in df_data.columns[2:]:\n",
        "        yield col_name, df_data.apply(lambda row: recall_at_k(row[col_name], row[ACTUAL_COL], k=top_k), axis=1).mean()"
      ]
    },
    {
      "cell_type": "code",
      "execution_count": null,
      "id": "97387d98",
      "metadata": {
        "execution": {
          "iopub.execute_input": "2022-05-07T20:20:49.860665Z",
          "iopub.status.busy": "2022-05-07T20:20:49.859838Z",
          "iopub.status.idle": "2022-05-07T20:20:49.867359Z",
          "shell.execute_reply": "2022-05-07T20:20:49.866026Z"
        },
        "papermill": {
          "duration": 0.179549,
          "end_time": "2022-05-07T20:20:49.870464",
          "exception": false,
          "start_time": "2022-05-07T20:20:49.690915",
          "status": "completed"
        },
        "tags": [],
        "id": "97387d98"
      },
      "outputs": [],
      "source": [
        "def calc_precision(df_data, top_k):\n",
        "    for col_name in df_data.columns[2:]:\n",
        "        yield col_name, df_data.apply(lambda row: precision_at_k(row[col_name], row[ACTUAL_COL], k=top_k), axis=1).mean()"
      ]
    },
    {
      "cell_type": "code",
      "execution_count": null,
      "id": "a13e45a7",
      "metadata": {
        "execution": {
          "iopub.execute_input": "2022-05-07T20:20:50.212876Z",
          "iopub.status.busy": "2022-05-07T20:20:50.212554Z",
          "iopub.status.idle": "2022-05-07T20:20:50.232833Z",
          "shell.execute_reply": "2022-05-07T20:20:50.232340Z"
        },
        "papermill": {
          "duration": 0.195503,
          "end_time": "2022-05-07T20:20:50.236405",
          "exception": false,
          "start_time": "2022-05-07T20:20:50.040902",
          "status": "completed"
        },
        "tags": [],
        "id": "a13e45a7",
        "outputId": "b54ce8fc-95ae-496a-fab2-9278c5685ae2"
      },
      "outputs": [
        {
          "data": {
            "text/html": [
              "<div>\n",
              "<style scoped>\n",
              "    .dataframe tbody tr th:only-of-type {\n",
              "        vertical-align: middle;\n",
              "    }\n",
              "\n",
              "    .dataframe tbody tr th {\n",
              "        vertical-align: top;\n",
              "    }\n",
              "\n",
              "    .dataframe thead th {\n",
              "        text-align: right;\n",
              "    }\n",
              "</style>\n",
              "<table border=\"1\" class=\"dataframe\">\n",
              "  <thead>\n",
              "    <tr style=\"text-align: right;\">\n",
              "      <th></th>\n",
              "      <th>user_id</th>\n",
              "      <th>actual</th>\n",
              "      <th>own_rec</th>\n",
              "      <th>sim_item_rec</th>\n",
              "      <th>als_rec</th>\n",
              "    </tr>\n",
              "  </thead>\n",
              "  <tbody>\n",
              "    <tr>\n",
              "      <th>0</th>\n",
              "      <td>1</td>\n",
              "      <td>[853529, 865456, 867607, 872137, 874905, 87524...</td>\n",
              "      <td>[856942, 9297615, 5577022, 877391, 9655212, 88...</td>\n",
              "      <td>[842762, 7135183, 9297615, 5577022, 888210, 98...</td>\n",
              "      <td>[1082212, 1037332, 962615, 5577022, 883616, 85...</td>\n",
              "    </tr>\n",
              "    <tr>\n",
              "      <th>1</th>\n",
              "      <td>2</td>\n",
              "      <td>[15830248, 838136, 839656, 861272, 866211, 870...</td>\n",
              "      <td>[911974, 1076580, 1103898, 5567582, 1056620, 9...</td>\n",
              "      <td>[1137346, 5569845, 1044078, 985999, 880888, 81...</td>\n",
              "      <td>[5569230, 916122, 1029743, 866211, 910032, 556...</td>\n",
              "    </tr>\n",
              "  </tbody>\n",
              "</table>\n",
              "</div>"
            ],
            "text/plain": [
              "   user_id                                             actual  \\\n",
              "0        1  [853529, 865456, 867607, 872137, 874905, 87524...   \n",
              "1        2  [15830248, 838136, 839656, 861272, 866211, 870...   \n",
              "\n",
              "                                             own_rec  \\\n",
              "0  [856942, 9297615, 5577022, 877391, 9655212, 88...   \n",
              "1  [911974, 1076580, 1103898, 5567582, 1056620, 9...   \n",
              "\n",
              "                                        sim_item_rec  \\\n",
              "0  [842762, 7135183, 9297615, 5577022, 888210, 98...   \n",
              "1  [1137346, 5569845, 1044078, 985999, 880888, 81...   \n",
              "\n",
              "                                             als_rec  \n",
              "0  [1082212, 1037332, 962615, 5577022, 883616, 85...  \n",
              "1  [5569230, 916122, 1029743, 866211, 910032, 556...  "
            ]
          },
          "execution_count": 29,
          "metadata": {},
          "output_type": "execute_result"
        }
      ],
      "source": [
        "result_eval_matcher.head(2)"
      ]
    },
    {
      "cell_type": "markdown",
      "id": "c71868ab",
      "metadata": {
        "papermill": {
          "duration": 0.169491,
          "end_time": "2022-05-07T20:20:50.575031",
          "exception": false,
          "start_time": "2022-05-07T20:20:50.405540",
          "status": "completed"
        },
        "tags": [],
        "id": "c71868ab"
      },
      "source": [
        "### Recall@50 of matching"
      ]
    },
    {
      "cell_type": "code",
      "execution_count": null,
      "id": "b4f21e0c",
      "metadata": {
        "execution": {
          "iopub.execute_input": "2022-05-07T20:20:50.913497Z",
          "iopub.status.busy": "2022-05-07T20:20:50.913098Z",
          "iopub.status.idle": "2022-05-07T20:20:50.916236Z",
          "shell.execute_reply": "2022-05-07T20:20:50.915428Z"
        },
        "papermill": {
          "duration": 0.175243,
          "end_time": "2022-05-07T20:20:50.918294",
          "exception": false,
          "start_time": "2022-05-07T20:20:50.743051",
          "status": "completed"
        },
        "tags": [],
        "id": "b4f21e0c"
      },
      "outputs": [],
      "source": [
        "TOPK_RECALL = 50"
      ]
    },
    {
      "cell_type": "code",
      "execution_count": null,
      "id": "0bf54ba1",
      "metadata": {
        "execution": {
          "iopub.execute_input": "2022-05-07T20:20:51.258668Z",
          "iopub.status.busy": "2022-05-07T20:20:51.258231Z",
          "iopub.status.idle": "2022-05-07T20:20:51.788488Z",
          "shell.execute_reply": "2022-05-07T20:20:51.787925Z"
        },
        "papermill": {
          "duration": 0.702759,
          "end_time": "2022-05-07T20:20:51.790655",
          "exception": false,
          "start_time": "2022-05-07T20:20:51.087896",
          "status": "completed"
        },
        "tags": [],
        "id": "0bf54ba1",
        "outputId": "e5629b66-a4ff-44ac-f8d6-60a3650a82bc"
      },
      "outputs": [
        {
          "data": {
            "text/plain": [
              "[('own_rec', 0.06525657038145165),\n",
              " ('als_rec', 0.04820483675337791),\n",
              " ('sim_item_rec', 0.033873625261665395)]"
            ]
          },
          "execution_count": 31,
          "metadata": {},
          "output_type": "execute_result"
        }
      ],
      "source": [
        "sorted(calc_recall(result_eval_matcher, TOPK_RECALL), key=lambda x: x[1],reverse=True)"
      ]
    },
    {
      "cell_type": "markdown",
      "id": "9b9ef5a1",
      "metadata": {
        "papermill": {
          "duration": 0.168549,
          "end_time": "2022-05-07T20:20:52.128022",
          "exception": false,
          "start_time": "2022-05-07T20:20:51.959473",
          "status": "completed"
        },
        "tags": [],
        "id": "9b9ef5a1"
      },
      "source": [
        "### Precision@5 of matching"
      ]
    },
    {
      "cell_type": "code",
      "execution_count": null,
      "id": "3b04aa21",
      "metadata": {
        "execution": {
          "iopub.execute_input": "2022-05-07T20:20:52.468063Z",
          "iopub.status.busy": "2022-05-07T20:20:52.467337Z",
          "iopub.status.idle": "2022-05-07T20:20:52.471277Z",
          "shell.execute_reply": "2022-05-07T20:20:52.470555Z"
        },
        "papermill": {
          "duration": 0.176322,
          "end_time": "2022-05-07T20:20:52.473494",
          "exception": false,
          "start_time": "2022-05-07T20:20:52.297172",
          "status": "completed"
        },
        "tags": [],
        "id": "3b04aa21"
      },
      "outputs": [],
      "source": [
        "TOPK_PRECISION = 5"
      ]
    },
    {
      "cell_type": "code",
      "execution_count": null,
      "id": "07bac6a4",
      "metadata": {
        "execution": {
          "iopub.execute_input": "2022-05-07T20:20:52.813686Z",
          "iopub.status.busy": "2022-05-07T20:20:52.813335Z",
          "iopub.status.idle": "2022-05-07T20:20:53.231516Z",
          "shell.execute_reply": "2022-05-07T20:20:53.230381Z"
        },
        "papermill": {
          "duration": 0.591427,
          "end_time": "2022-05-07T20:20:53.233833",
          "exception": false,
          "start_time": "2022-05-07T20:20:52.642406",
          "status": "completed"
        },
        "tags": [],
        "id": "07bac6a4",
        "outputId": "989539ae-d6d3-414a-e31b-85b82c252bbf"
      },
      "outputs": [
        {
          "data": {
            "text/plain": [
              "[('own_rec', 0.17712691771269176),\n",
              " ('als_rec', 0.12003719200371922),\n",
              " ('sim_item_rec', 0.06294746629474665)]"
            ]
          },
          "execution_count": 33,
          "metadata": {},
          "output_type": "execute_result"
        }
      ],
      "source": [
        "sorted(calc_precision(result_eval_matcher, TOPK_PRECISION), key=lambda x: x[1],reverse=True)"
      ]
    },
    {
      "cell_type": "markdown",
      "id": "e08b1702",
      "metadata": {
        "papermill": {
          "duration": 0.17015,
          "end_time": "2022-05-07T20:20:53.574247",
          "exception": false,
          "start_time": "2022-05-07T20:20:53.404097",
          "status": "completed"
        },
        "tags": [],
        "id": "e08b1702"
      },
      "source": [
        "# Ranking part"
      ]
    },
    {
      "cell_type": "markdown",
      "id": "1be731f3",
      "metadata": {
        "papermill": {
          "duration": 0.170243,
          "end_time": "2022-05-07T20:20:53.914248",
          "exception": false,
          "start_time": "2022-05-07T20:20:53.744005",
          "status": "completed"
        },
        "tags": [],
        "id": "1be731f3"
      },
      "source": [
        "### Обучаем модель 2-ого уровня на выбранных кандидатах\n",
        "\n",
        "- Обучаем на data_train_ranking\n",
        "- Обучаем *только* на выбранных кандидатах\n",
        "- Я *для примера* сгенерирую топ-50 кадидиатов через get_own_recommendations\n",
        "- (!) Если юзер купил < 50 товаров, то get_own_recommendations дополнит рекоммендации топ-популярными"
      ]
    },
    {
      "cell_type": "code",
      "execution_count": null,
      "id": "6d6fb6ba",
      "metadata": {
        "execution": {
          "iopub.execute_input": "2022-05-07T20:20:54.252441Z",
          "iopub.status.busy": "2022-05-07T20:20:54.251990Z",
          "iopub.status.idle": "2022-05-07T20:20:54.255865Z",
          "shell.execute_reply": "2022-05-07T20:20:54.255075Z"
        },
        "papermill": {
          "duration": 0.175513,
          "end_time": "2022-05-07T20:20:54.257949",
          "exception": false,
          "start_time": "2022-05-07T20:20:54.082436",
          "status": "completed"
        },
        "tags": [],
        "id": "6d6fb6ba"
      },
      "outputs": [],
      "source": [
        "# 3 временных интервала\n",
        "# -- давние покупки -- | -- 6 недель -- | -- 3 недель -- "
      ]
    },
    {
      "cell_type": "markdown",
      "id": "32339e26",
      "metadata": {
        "papermill": {
          "duration": 0.170838,
          "end_time": "2022-05-07T20:20:54.598870",
          "exception": false,
          "start_time": "2022-05-07T20:20:54.428032",
          "status": "completed"
        },
        "tags": [],
        "id": "32339e26"
      },
      "source": [
        "## Подготовка данных для трейна"
      ]
    },
    {
      "cell_type": "code",
      "execution_count": null,
      "id": "b1cbe110",
      "metadata": {
        "execution": {
          "iopub.execute_input": "2022-05-07T20:20:54.941568Z",
          "iopub.status.busy": "2022-05-07T20:20:54.941307Z",
          "iopub.status.idle": "2022-05-07T20:20:54.946670Z",
          "shell.execute_reply": "2022-05-07T20:20:54.946179Z"
        },
        "papermill": {
          "duration": 0.180785,
          "end_time": "2022-05-07T20:20:54.948633",
          "exception": false,
          "start_time": "2022-05-07T20:20:54.767848",
          "status": "completed"
        },
        "tags": [],
        "id": "b1cbe110"
      },
      "outputs": [],
      "source": [
        "# взяли пользователей из трейна для ранжирования\n",
        "df_match_candidates = pd.DataFrame(data_train_ranker[USER_COL].unique())\n",
        "df_match_candidates.columns = [USER_COL]"
      ]
    },
    {
      "cell_type": "code",
      "execution_count": null,
      "id": "ccc6a111",
      "metadata": {
        "execution": {
          "iopub.execute_input": "2022-05-07T20:20:55.292424Z",
          "iopub.status.busy": "2022-05-07T20:20:55.291970Z",
          "iopub.status.idle": "2022-05-07T20:21:04.135587Z",
          "shell.execute_reply": "2022-05-07T20:21:04.134770Z"
        },
        "papermill": {
          "duration": 9.018778,
          "end_time": "2022-05-07T20:21:04.138237",
          "exception": false,
          "start_time": "2022-05-07T20:20:55.119459",
          "status": "completed"
        },
        "tags": [],
        "id": "ccc6a111"
      },
      "outputs": [],
      "source": [
        "# собираем кандитатов с первого этапа (matcher)\n",
        "df_match_candidates['candidates'] = df_match_candidates[USER_COL].apply(lambda x: recommender.get_own_recommendations(x, N=N_PREDICT))"
      ]
    },
    {
      "cell_type": "code",
      "execution_count": null,
      "id": "df422fb0",
      "metadata": {
        "execution": {
          "iopub.execute_input": "2022-05-07T20:21:04.479525Z",
          "iopub.status.busy": "2022-05-07T20:21:04.479204Z",
          "iopub.status.idle": "2022-05-07T20:21:04.490205Z",
          "shell.execute_reply": "2022-05-07T20:21:04.489666Z"
        },
        "papermill": {
          "duration": 0.184985,
          "end_time": "2022-05-07T20:21:04.493036",
          "exception": false,
          "start_time": "2022-05-07T20:21:04.308051",
          "status": "completed"
        },
        "tags": [],
        "id": "df422fb0",
        "outputId": "43c66977-a230-456a-f6f2-eb77d52e575e"
      },
      "outputs": [
        {
          "data": {
            "text/html": [
              "<div>\n",
              "<style scoped>\n",
              "    .dataframe tbody tr th:only-of-type {\n",
              "        vertical-align: middle;\n",
              "    }\n",
              "\n",
              "    .dataframe tbody tr th {\n",
              "        vertical-align: top;\n",
              "    }\n",
              "\n",
              "    .dataframe thead th {\n",
              "        text-align: right;\n",
              "    }\n",
              "</style>\n",
              "<table border=\"1\" class=\"dataframe\">\n",
              "  <thead>\n",
              "    <tr style=\"text-align: right;\">\n",
              "      <th></th>\n",
              "      <th>user_id</th>\n",
              "      <th>candidates</th>\n",
              "    </tr>\n",
              "  </thead>\n",
              "  <tbody>\n",
              "    <tr>\n",
              "      <th>0</th>\n",
              "      <td>2070</td>\n",
              "      <td>[1105426, 1097350, 879194, 948640, 928263, 944...</td>\n",
              "    </tr>\n",
              "    <tr>\n",
              "      <th>1</th>\n",
              "      <td>2021</td>\n",
              "      <td>[950935, 1119454, 835578, 863762, 1019142, 102...</td>\n",
              "    </tr>\n",
              "  </tbody>\n",
              "</table>\n",
              "</div>"
            ],
            "text/plain": [
              "   user_id                                         candidates\n",
              "0     2070  [1105426, 1097350, 879194, 948640, 928263, 944...\n",
              "1     2021  [950935, 1119454, 835578, 863762, 1019142, 102..."
            ]
          },
          "execution_count": 37,
          "metadata": {},
          "output_type": "execute_result"
        }
      ],
      "source": [
        "df_match_candidates.head(2)"
      ]
    },
    {
      "cell_type": "code",
      "execution_count": null,
      "id": "868ba431",
      "metadata": {
        "execution": {
          "iopub.execute_input": "2022-05-07T20:21:04.840996Z",
          "iopub.status.busy": "2022-05-07T20:21:04.840605Z",
          "iopub.status.idle": "2022-05-07T20:21:05.217930Z",
          "shell.execute_reply": "2022-05-07T20:21:05.217161Z"
        },
        "papermill": {
          "duration": 0.556168,
          "end_time": "2022-05-07T20:21:05.220727",
          "exception": false,
          "start_time": "2022-05-07T20:21:04.664559",
          "status": "completed"
        },
        "tags": [],
        "id": "868ba431"
      },
      "outputs": [],
      "source": [
        "df_items = df_match_candidates.apply(lambda x: pd.Series(x['candidates']), axis=1).stack().reset_index(level=1, drop=True)\n",
        "df_items.name = 'item_id'"
      ]
    },
    {
      "cell_type": "code",
      "execution_count": null,
      "id": "98511ed8",
      "metadata": {
        "execution": {
          "iopub.execute_input": "2022-05-07T20:21:05.563942Z",
          "iopub.status.busy": "2022-05-07T20:21:05.563359Z",
          "iopub.status.idle": "2022-05-07T20:21:05.580957Z",
          "shell.execute_reply": "2022-05-07T20:21:05.580419Z"
        },
        "papermill": {
          "duration": 0.192104,
          "end_time": "2022-05-07T20:21:05.583424",
          "exception": false,
          "start_time": "2022-05-07T20:21:05.391320",
          "status": "completed"
        },
        "tags": [],
        "id": "98511ed8"
      },
      "outputs": [],
      "source": [
        "df_match_candidates = df_match_candidates.drop('candidates', axis=1).join(df_items)"
      ]
    },
    {
      "cell_type": "code",
      "execution_count": null,
      "id": "36ed2c1b",
      "metadata": {
        "execution": {
          "iopub.execute_input": "2022-05-07T20:21:05.925233Z",
          "iopub.status.busy": "2022-05-07T20:21:05.924494Z",
          "iopub.status.idle": "2022-05-07T20:21:05.934440Z",
          "shell.execute_reply": "2022-05-07T20:21:05.933357Z"
        },
        "papermill": {
          "duration": 0.182898,
          "end_time": "2022-05-07T20:21:05.936849",
          "exception": false,
          "start_time": "2022-05-07T20:21:05.753951",
          "status": "completed"
        },
        "tags": [],
        "id": "36ed2c1b",
        "outputId": "28f99fcf-5dac-4619-e5a8-481a69fb99f2"
      },
      "outputs": [
        {
          "data": {
            "text/html": [
              "<div>\n",
              "<style scoped>\n",
              "    .dataframe tbody tr th:only-of-type {\n",
              "        vertical-align: middle;\n",
              "    }\n",
              "\n",
              "    .dataframe tbody tr th {\n",
              "        vertical-align: top;\n",
              "    }\n",
              "\n",
              "    .dataframe thead th {\n",
              "        text-align: right;\n",
              "    }\n",
              "</style>\n",
              "<table border=\"1\" class=\"dataframe\">\n",
              "  <thead>\n",
              "    <tr style=\"text-align: right;\">\n",
              "      <th></th>\n",
              "      <th>user_id</th>\n",
              "      <th>item_id</th>\n",
              "    </tr>\n",
              "  </thead>\n",
              "  <tbody>\n",
              "    <tr>\n",
              "      <th>0</th>\n",
              "      <td>2070</td>\n",
              "      <td>1105426</td>\n",
              "    </tr>\n",
              "    <tr>\n",
              "      <th>0</th>\n",
              "      <td>2070</td>\n",
              "      <td>1097350</td>\n",
              "    </tr>\n",
              "    <tr>\n",
              "      <th>0</th>\n",
              "      <td>2070</td>\n",
              "      <td>879194</td>\n",
              "    </tr>\n",
              "    <tr>\n",
              "      <th>0</th>\n",
              "      <td>2070</td>\n",
              "      <td>948640</td>\n",
              "    </tr>\n",
              "  </tbody>\n",
              "</table>\n",
              "</div>"
            ],
            "text/plain": [
              "   user_id  item_id\n",
              "0     2070  1105426\n",
              "0     2070  1097350\n",
              "0     2070   879194\n",
              "0     2070   948640"
            ]
          },
          "execution_count": 40,
          "metadata": {},
          "output_type": "execute_result"
        }
      ],
      "source": [
        "df_match_candidates.head(4)"
      ]
    },
    {
      "cell_type": "markdown",
      "id": "32e4e84c",
      "metadata": {
        "papermill": {
          "duration": 0.168854,
          "end_time": "2022-05-07T20:21:06.276735",
          "exception": false,
          "start_time": "2022-05-07T20:21:06.107881",
          "status": "completed"
        },
        "tags": [],
        "id": "32e4e84c"
      },
      "source": [
        "### Check warm start"
      ]
    },
    {
      "cell_type": "code",
      "execution_count": null,
      "id": "2c64e653",
      "metadata": {
        "execution": {
          "iopub.execute_input": "2022-05-07T20:21:06.619294Z",
          "iopub.status.busy": "2022-05-07T20:21:06.618562Z",
          "iopub.status.idle": "2022-05-07T20:21:06.625110Z",
          "shell.execute_reply": "2022-05-07T20:21:06.624633Z"
        },
        "papermill": {
          "duration": 0.181036,
          "end_time": "2022-05-07T20:21:06.627146",
          "exception": false,
          "start_time": "2022-05-07T20:21:06.446110",
          "status": "completed"
        },
        "scrolled": true,
        "tags": [],
        "id": "2c64e653",
        "outputId": "85a64091-139e-4eed-b328-79fb3a755bf7"
      },
      "outputs": [
        {
          "name": "stdout",
          "output_type": "stream",
          "text": [
            "match_candidates\n",
            "Shape: (107550, 2) Users: 2151 Items: 4574\n"
          ]
        }
      ],
      "source": [
        "print_stats_data(df_match_candidates, 'match_candidates')"
      ]
    },
    {
      "cell_type": "markdown",
      "id": "e4fe4b9a",
      "metadata": {
        "papermill": {
          "duration": 0.172095,
          "end_time": "2022-05-07T20:21:06.970749",
          "exception": false,
          "start_time": "2022-05-07T20:21:06.798654",
          "status": "completed"
        },
        "tags": [],
        "id": "e4fe4b9a"
      },
      "source": [
        "### Создаем трейн сет для ранжирования с учетом кандидатов с этапа 1 "
      ]
    },
    {
      "cell_type": "code",
      "execution_count": null,
      "id": "21c0dd59",
      "metadata": {
        "execution": {
          "iopub.execute_input": "2022-05-07T20:21:07.315445Z",
          "iopub.status.busy": "2022-05-07T20:21:07.314767Z",
          "iopub.status.idle": "2022-05-07T20:21:07.323150Z",
          "shell.execute_reply": "2022-05-07T20:21:07.321810Z"
        },
        "papermill": {
          "duration": 0.183602,
          "end_time": "2022-05-07T20:21:07.325947",
          "exception": false,
          "start_time": "2022-05-07T20:21:07.142345",
          "status": "completed"
        },
        "tags": [],
        "id": "21c0dd59"
      },
      "outputs": [],
      "source": [
        "df_ranker_train = data_train_ranker[[USER_COL, ITEM_COL]].copy()\n",
        "df_ranker_train['target'] = 1  # тут только покупки "
      ]
    },
    {
      "cell_type": "code",
      "execution_count": null,
      "id": "5575da12",
      "metadata": {
        "execution": {
          "iopub.execute_input": "2022-05-07T20:21:07.673539Z",
          "iopub.status.busy": "2022-05-07T20:21:07.673079Z",
          "iopub.status.idle": "2022-05-07T20:21:07.682289Z",
          "shell.execute_reply": "2022-05-07T20:21:07.681539Z"
        },
        "papermill": {
          "duration": 0.185654,
          "end_time": "2022-05-07T20:21:07.684186",
          "exception": false,
          "start_time": "2022-05-07T20:21:07.498532",
          "status": "completed"
        },
        "tags": [],
        "id": "5575da12",
        "outputId": "353453e5-dc55-4666-c30b-f25b08213b73"
      },
      "outputs": [
        {
          "data": {
            "text/html": [
              "<div>\n",
              "<style scoped>\n",
              "    .dataframe tbody tr th:only-of-type {\n",
              "        vertical-align: middle;\n",
              "    }\n",
              "\n",
              "    .dataframe tbody tr th {\n",
              "        vertical-align: top;\n",
              "    }\n",
              "\n",
              "    .dataframe thead th {\n",
              "        text-align: right;\n",
              "    }\n",
              "</style>\n",
              "<table border=\"1\" class=\"dataframe\">\n",
              "  <thead>\n",
              "    <tr style=\"text-align: right;\">\n",
              "      <th></th>\n",
              "      <th>user_id</th>\n",
              "      <th>item_id</th>\n",
              "      <th>target</th>\n",
              "    </tr>\n",
              "  </thead>\n",
              "  <tbody>\n",
              "    <tr>\n",
              "      <th>2104867</th>\n",
              "      <td>2070</td>\n",
              "      <td>1019940</td>\n",
              "      <td>1</td>\n",
              "    </tr>\n",
              "    <tr>\n",
              "      <th>2107468</th>\n",
              "      <td>2021</td>\n",
              "      <td>840361</td>\n",
              "      <td>1</td>\n",
              "    </tr>\n",
              "    <tr>\n",
              "      <th>2107469</th>\n",
              "      <td>2021</td>\n",
              "      <td>856060</td>\n",
              "      <td>1</td>\n",
              "    </tr>\n",
              "    <tr>\n",
              "      <th>2107470</th>\n",
              "      <td>2021</td>\n",
              "      <td>869344</td>\n",
              "      <td>1</td>\n",
              "    </tr>\n",
              "    <tr>\n",
              "      <th>2107471</th>\n",
              "      <td>2021</td>\n",
              "      <td>896862</td>\n",
              "      <td>1</td>\n",
              "    </tr>\n",
              "  </tbody>\n",
              "</table>\n",
              "</div>"
            ],
            "text/plain": [
              "         user_id  item_id  target\n",
              "2104867     2070  1019940       1\n",
              "2107468     2021   840361       1\n",
              "2107469     2021   856060       1\n",
              "2107470     2021   869344       1\n",
              "2107471     2021   896862       1"
            ]
          },
          "execution_count": 43,
          "metadata": {},
          "output_type": "execute_result"
        }
      ],
      "source": [
        "df_ranker_train.head()"
      ]
    },
    {
      "cell_type": "markdown",
      "id": "094b083d",
      "metadata": {
        "papermill": {
          "duration": 0.171412,
          "end_time": "2022-05-07T20:21:08.026905",
          "exception": false,
          "start_time": "2022-05-07T20:21:07.855493",
          "status": "completed"
        },
        "tags": [],
        "id": "094b083d"
      },
      "source": [
        "#### Не хватает нулей в датасете, поэтому добавляем наших кандитатов в качество нулей"
      ]
    },
    {
      "cell_type": "code",
      "execution_count": null,
      "id": "a6855a4f",
      "metadata": {
        "execution": {
          "iopub.execute_input": "2022-05-07T20:21:08.373688Z",
          "iopub.status.busy": "2022-05-07T20:21:08.373363Z",
          "iopub.status.idle": "2022-05-07T20:21:08.441740Z",
          "shell.execute_reply": "2022-05-07T20:21:08.440741Z"
        },
        "papermill": {
          "duration": 0.245112,
          "end_time": "2022-05-07T20:21:08.444630",
          "exception": false,
          "start_time": "2022-05-07T20:21:08.199518",
          "status": "completed"
        },
        "scrolled": true,
        "tags": [],
        "id": "a6855a4f"
      },
      "outputs": [],
      "source": [
        "df_ranker_train = df_match_candidates.merge(df_ranker_train, on=[USER_COL, ITEM_COL], how='left')\n",
        "\n",
        "# чистим дубликаты\n",
        "df_ranker_train = df_ranker_train.drop_duplicates(subset=[USER_COL, ITEM_COL])\n",
        "\n",
        "df_ranker_train['target'].fillna(0, inplace= True)"
      ]
    },
    {
      "cell_type": "code",
      "execution_count": null,
      "id": "c39a74b4",
      "metadata": {
        "execution": {
          "iopub.execute_input": "2022-05-07T20:21:08.793334Z",
          "iopub.status.busy": "2022-05-07T20:21:08.793002Z",
          "iopub.status.idle": "2022-05-07T20:21:08.804432Z",
          "shell.execute_reply": "2022-05-07T20:21:08.803810Z"
        },
        "papermill": {
          "duration": 0.187856,
          "end_time": "2022-05-07T20:21:08.807239",
          "exception": false,
          "start_time": "2022-05-07T20:21:08.619383",
          "status": "completed"
        },
        "tags": [],
        "id": "c39a74b4",
        "outputId": "bf028950-9c2a-4591-f87c-b66c58ed9ead"
      },
      "outputs": [
        {
          "data": {
            "text/plain": [
              "0.0    99177\n",
              "1.0     7795\n",
              "Name: target, dtype: int64"
            ]
          },
          "execution_count": 45,
          "metadata": {},
          "output_type": "execute_result"
        }
      ],
      "source": [
        "df_ranker_train.target.value_counts()"
      ]
    },
    {
      "cell_type": "code",
      "execution_count": null,
      "id": "73572903",
      "metadata": {
        "execution": {
          "iopub.execute_input": "2022-05-07T20:21:09.153492Z",
          "iopub.status.busy": "2022-05-07T20:21:09.153034Z",
          "iopub.status.idle": "2022-05-07T20:21:09.161284Z",
          "shell.execute_reply": "2022-05-07T20:21:09.160685Z"
        },
        "papermill": {
          "duration": 0.18378,
          "end_time": "2022-05-07T20:21:09.162936",
          "exception": false,
          "start_time": "2022-05-07T20:21:08.979156",
          "status": "completed"
        },
        "tags": [],
        "id": "73572903",
        "outputId": "8150a1cc-e3d0-47a7-9356-940ea53b5566"
      },
      "outputs": [
        {
          "data": {
            "text/html": [
              "<div>\n",
              "<style scoped>\n",
              "    .dataframe tbody tr th:only-of-type {\n",
              "        vertical-align: middle;\n",
              "    }\n",
              "\n",
              "    .dataframe tbody tr th {\n",
              "        vertical-align: top;\n",
              "    }\n",
              "\n",
              "    .dataframe thead th {\n",
              "        text-align: right;\n",
              "    }\n",
              "</style>\n",
              "<table border=\"1\" class=\"dataframe\">\n",
              "  <thead>\n",
              "    <tr style=\"text-align: right;\">\n",
              "      <th></th>\n",
              "      <th>user_id</th>\n",
              "      <th>item_id</th>\n",
              "      <th>target</th>\n",
              "    </tr>\n",
              "  </thead>\n",
              "  <tbody>\n",
              "    <tr>\n",
              "      <th>0</th>\n",
              "      <td>2070</td>\n",
              "      <td>1105426</td>\n",
              "      <td>0.0</td>\n",
              "    </tr>\n",
              "    <tr>\n",
              "      <th>1</th>\n",
              "      <td>2070</td>\n",
              "      <td>1097350</td>\n",
              "      <td>0.0</td>\n",
              "    </tr>\n",
              "  </tbody>\n",
              "</table>\n",
              "</div>"
            ],
            "text/plain": [
              "   user_id  item_id  target\n",
              "0     2070  1105426     0.0\n",
              "1     2070  1097350     0.0"
            ]
          },
          "execution_count": 46,
          "metadata": {},
          "output_type": "execute_result"
        }
      ],
      "source": [
        "df_ranker_train.head(2)"
      ]
    },
    {
      "cell_type": "markdown",
      "id": "c49947c5",
      "metadata": {
        "papermill": {
          "duration": 0.123253,
          "end_time": "2022-05-07T20:21:09.400689",
          "exception": false,
          "start_time": "2022-05-07T20:21:09.277436",
          "status": "completed"
        },
        "tags": [],
        "id": "c49947c5"
      },
      "source": [
        "(!) На каждого юзера 50 item_id-кандидатов"
      ]
    },
    {
      "cell_type": "code",
      "execution_count": null,
      "id": "069097d4",
      "metadata": {
        "execution": {
          "iopub.execute_input": "2022-05-07T20:21:09.625204Z",
          "iopub.status.busy": "2022-05-07T20:21:09.624777Z",
          "iopub.status.idle": "2022-05-07T20:21:09.631137Z",
          "shell.execute_reply": "2022-05-07T20:21:09.630477Z"
        },
        "papermill": {
          "duration": 0.120798,
          "end_time": "2022-05-07T20:21:09.632834",
          "exception": false,
          "start_time": "2022-05-07T20:21:09.512036",
          "status": "completed"
        },
        "tags": [],
        "id": "069097d4",
        "outputId": "8d48a57b-28dd-4741-d5b3-9f4e2b4a239d"
      },
      "outputs": [
        {
          "data": {
            "text/plain": [
              "0.07286953595333358"
            ]
          },
          "execution_count": 47,
          "metadata": {},
          "output_type": "execute_result"
        }
      ],
      "source": [
        "df_ranker_train['target'].mean()"
      ]
    },
    {
      "cell_type": "markdown",
      "id": "7f3dd478",
      "metadata": {
        "papermill": {
          "duration": 0.110491,
          "end_time": "2022-05-07T20:21:09.854676",
          "exception": false,
          "start_time": "2022-05-07T20:21:09.744185",
          "status": "completed"
        },
        "tags": [],
        "id": "7f3dd478"
      },
      "source": [
        "Слайд из [презентации](https://github.com/aprotopopov/retailhero_recommender/blob/master/slides/retailhero_recommender.pdf) решения 2-ого места X5 Retail Hero"
      ]
    },
    {
      "cell_type": "markdown",
      "id": "0c4bc3a8",
      "metadata": {
        "papermill": {
          "duration": 0.110871,
          "end_time": "2022-05-07T20:21:10.077482",
          "exception": false,
          "start_time": "2022-05-07T20:21:09.966611",
          "status": "completed"
        },
        "tags": [],
        "id": "0c4bc3a8"
      },
      "source": [
        "- Пока для простоты обучения выберем LightGBM c loss = binary. Это классическая бинарная классификация\n",
        "- Это пример *без* генерации фич"
      ]
    },
    {
      "cell_type": "markdown",
      "id": "4d549e37",
      "metadata": {
        "papermill": {
          "duration": 0.113055,
          "end_time": "2022-05-07T20:21:10.304800",
          "exception": false,
          "start_time": "2022-05-07T20:21:10.191745",
          "status": "completed"
        },
        "tags": [],
        "id": "4d549e37"
      },
      "source": [
        "## Подготавливаем фичи для обучения модели"
      ]
    },
    {
      "cell_type": "code",
      "execution_count": null,
      "id": "a4922e8a",
      "metadata": {
        "execution": {
          "iopub.execute_input": "2022-05-07T20:21:10.530519Z",
          "iopub.status.busy": "2022-05-07T20:21:10.530061Z",
          "iopub.status.idle": "2022-05-07T20:21:10.542423Z",
          "shell.execute_reply": "2022-05-07T20:21:10.541646Z"
        },
        "papermill": {
          "duration": 0.129545,
          "end_time": "2022-05-07T20:21:10.544256",
          "exception": false,
          "start_time": "2022-05-07T20:21:10.414711",
          "status": "completed"
        },
        "tags": [],
        "id": "a4922e8a",
        "outputId": "38a2b473-44fd-431c-9c37-8f7ced6ee1ed"
      },
      "outputs": [
        {
          "data": {
            "text/html": [
              "<div>\n",
              "<style scoped>\n",
              "    .dataframe tbody tr th:only-of-type {\n",
              "        vertical-align: middle;\n",
              "    }\n",
              "\n",
              "    .dataframe tbody tr th {\n",
              "        vertical-align: top;\n",
              "    }\n",
              "\n",
              "    .dataframe thead th {\n",
              "        text-align: right;\n",
              "    }\n",
              "</style>\n",
              "<table border=\"1\" class=\"dataframe\">\n",
              "  <thead>\n",
              "    <tr style=\"text-align: right;\">\n",
              "      <th></th>\n",
              "      <th>item_id</th>\n",
              "      <th>manufacturer</th>\n",
              "      <th>department</th>\n",
              "      <th>brand</th>\n",
              "      <th>commodity_desc</th>\n",
              "      <th>sub_commodity_desc</th>\n",
              "      <th>curr_size_of_product</th>\n",
              "    </tr>\n",
              "  </thead>\n",
              "  <tbody>\n",
              "    <tr>\n",
              "      <th>0</th>\n",
              "      <td>25671</td>\n",
              "      <td>2</td>\n",
              "      <td>GROCERY</td>\n",
              "      <td>National</td>\n",
              "      <td>FRZN ICE</td>\n",
              "      <td>ICE - CRUSHED/CUBED</td>\n",
              "      <td>22 LB</td>\n",
              "    </tr>\n",
              "    <tr>\n",
              "      <th>1</th>\n",
              "      <td>26081</td>\n",
              "      <td>2</td>\n",
              "      <td>MISC. TRANS.</td>\n",
              "      <td>National</td>\n",
              "      <td>NO COMMODITY DESCRIPTION</td>\n",
              "      <td>NO SUBCOMMODITY DESCRIPTION</td>\n",
              "      <td></td>\n",
              "    </tr>\n",
              "  </tbody>\n",
              "</table>\n",
              "</div>"
            ],
            "text/plain": [
              "   item_id  manufacturer    department     brand            commodity_desc  \\\n",
              "0    25671             2       GROCERY  National                  FRZN ICE   \n",
              "1    26081             2  MISC. TRANS.  National  NO COMMODITY DESCRIPTION   \n",
              "\n",
              "            sub_commodity_desc curr_size_of_product  \n",
              "0          ICE - CRUSHED/CUBED                22 LB  \n",
              "1  NO SUBCOMMODITY DESCRIPTION                       "
            ]
          },
          "execution_count": 48,
          "metadata": {},
          "output_type": "execute_result"
        }
      ],
      "source": [
        "item_features.head(2)"
      ]
    },
    {
      "cell_type": "code",
      "execution_count": null,
      "id": "1b745714",
      "metadata": {
        "execution": {
          "iopub.execute_input": "2022-05-07T20:21:10.769721Z",
          "iopub.status.busy": "2022-05-07T20:21:10.769186Z",
          "iopub.status.idle": "2022-05-07T20:21:10.782511Z",
          "shell.execute_reply": "2022-05-07T20:21:10.781813Z"
        },
        "papermill": {
          "duration": 0.125893,
          "end_time": "2022-05-07T20:21:10.784307",
          "exception": false,
          "start_time": "2022-05-07T20:21:10.658414",
          "status": "completed"
        },
        "tags": [],
        "id": "1b745714",
        "outputId": "0789da51-72db-4684-edf8-92eb9d20c943"
      },
      "outputs": [
        {
          "data": {
            "text/html": [
              "<div>\n",
              "<style scoped>\n",
              "    .dataframe tbody tr th:only-of-type {\n",
              "        vertical-align: middle;\n",
              "    }\n",
              "\n",
              "    .dataframe tbody tr th {\n",
              "        vertical-align: top;\n",
              "    }\n",
              "\n",
              "    .dataframe thead th {\n",
              "        text-align: right;\n",
              "    }\n",
              "</style>\n",
              "<table border=\"1\" class=\"dataframe\">\n",
              "  <thead>\n",
              "    <tr style=\"text-align: right;\">\n",
              "      <th></th>\n",
              "      <th>age_desc</th>\n",
              "      <th>marital_status_code</th>\n",
              "      <th>income_desc</th>\n",
              "      <th>homeowner_desc</th>\n",
              "      <th>hh_comp_desc</th>\n",
              "      <th>household_size_desc</th>\n",
              "      <th>kid_category_desc</th>\n",
              "      <th>user_id</th>\n",
              "    </tr>\n",
              "  </thead>\n",
              "  <tbody>\n",
              "    <tr>\n",
              "      <th>0</th>\n",
              "      <td>65+</td>\n",
              "      <td>A</td>\n",
              "      <td>35-49K</td>\n",
              "      <td>Homeowner</td>\n",
              "      <td>2 Adults No Kids</td>\n",
              "      <td>2</td>\n",
              "      <td>None/Unknown</td>\n",
              "      <td>1</td>\n",
              "    </tr>\n",
              "    <tr>\n",
              "      <th>1</th>\n",
              "      <td>45-54</td>\n",
              "      <td>A</td>\n",
              "      <td>50-74K</td>\n",
              "      <td>Homeowner</td>\n",
              "      <td>2 Adults No Kids</td>\n",
              "      <td>2</td>\n",
              "      <td>None/Unknown</td>\n",
              "      <td>7</td>\n",
              "    </tr>\n",
              "  </tbody>\n",
              "</table>\n",
              "</div>"
            ],
            "text/plain": [
              "  age_desc marital_status_code income_desc homeowner_desc      hh_comp_desc  \\\n",
              "0      65+                   A      35-49K      Homeowner  2 Adults No Kids   \n",
              "1    45-54                   A      50-74K      Homeowner  2 Adults No Kids   \n",
              "\n",
              "  household_size_desc kid_category_desc  user_id  \n",
              "0                   2      None/Unknown        1  \n",
              "1                   2      None/Unknown        7  "
            ]
          },
          "execution_count": 49,
          "metadata": {},
          "output_type": "execute_result"
        }
      ],
      "source": [
        "user_features.head(2)"
      ]
    },
    {
      "cell_type": "code",
      "execution_count": null,
      "id": "87f2ea43",
      "metadata": {
        "execution": {
          "iopub.execute_input": "2022-05-07T20:21:11.015123Z",
          "iopub.status.busy": "2022-05-07T20:21:11.014616Z",
          "iopub.status.idle": "2022-05-07T20:21:11.107702Z",
          "shell.execute_reply": "2022-05-07T20:21:11.106964Z"
        },
        "papermill": {
          "duration": 0.209624,
          "end_time": "2022-05-07T20:21:11.109713",
          "exception": false,
          "start_time": "2022-05-07T20:21:10.900089",
          "status": "completed"
        },
        "tags": [],
        "id": "87f2ea43",
        "outputId": "2457ba35-5de0-4ed9-fb3c-fb34ca53a6b9"
      },
      "outputs": [
        {
          "data": {
            "text/html": [
              "<div>\n",
              "<style scoped>\n",
              "    .dataframe tbody tr th:only-of-type {\n",
              "        vertical-align: middle;\n",
              "    }\n",
              "\n",
              "    .dataframe tbody tr th {\n",
              "        vertical-align: top;\n",
              "    }\n",
              "\n",
              "    .dataframe thead th {\n",
              "        text-align: right;\n",
              "    }\n",
              "</style>\n",
              "<table border=\"1\" class=\"dataframe\">\n",
              "  <thead>\n",
              "    <tr style=\"text-align: right;\">\n",
              "      <th></th>\n",
              "      <th>user_id</th>\n",
              "      <th>item_id</th>\n",
              "      <th>target</th>\n",
              "      <th>manufacturer</th>\n",
              "      <th>department</th>\n",
              "      <th>brand</th>\n",
              "      <th>commodity_desc</th>\n",
              "      <th>sub_commodity_desc</th>\n",
              "      <th>curr_size_of_product</th>\n",
              "      <th>age_desc</th>\n",
              "      <th>marital_status_code</th>\n",
              "      <th>income_desc</th>\n",
              "      <th>homeowner_desc</th>\n",
              "      <th>hh_comp_desc</th>\n",
              "      <th>household_size_desc</th>\n",
              "      <th>kid_category_desc</th>\n",
              "    </tr>\n",
              "  </thead>\n",
              "  <tbody>\n",
              "    <tr>\n",
              "      <th>0</th>\n",
              "      <td>2070</td>\n",
              "      <td>1105426</td>\n",
              "      <td>0.0</td>\n",
              "      <td>69</td>\n",
              "      <td>DELI</td>\n",
              "      <td>Private</td>\n",
              "      <td>SANDWICHES</td>\n",
              "      <td>SANDWICHES - (COLD)</td>\n",
              "      <td></td>\n",
              "      <td>45-54</td>\n",
              "      <td>U</td>\n",
              "      <td>50-74K</td>\n",
              "      <td>Unknown</td>\n",
              "      <td>Unknown</td>\n",
              "      <td>1</td>\n",
              "      <td>None/Unknown</td>\n",
              "    </tr>\n",
              "    <tr>\n",
              "      <th>1</th>\n",
              "      <td>2070</td>\n",
              "      <td>1097350</td>\n",
              "      <td>0.0</td>\n",
              "      <td>2468</td>\n",
              "      <td>GROCERY</td>\n",
              "      <td>National</td>\n",
              "      <td>DOMESTIC WINE</td>\n",
              "      <td>VALUE GLASS WINE</td>\n",
              "      <td>4 LTR</td>\n",
              "      <td>45-54</td>\n",
              "      <td>U</td>\n",
              "      <td>50-74K</td>\n",
              "      <td>Unknown</td>\n",
              "      <td>Unknown</td>\n",
              "      <td>1</td>\n",
              "      <td>None/Unknown</td>\n",
              "    </tr>\n",
              "  </tbody>\n",
              "</table>\n",
              "</div>"
            ],
            "text/plain": [
              "   user_id  item_id  target  manufacturer department     brand commodity_desc  \\\n",
              "0     2070  1105426     0.0            69       DELI   Private     SANDWICHES   \n",
              "1     2070  1097350     0.0          2468    GROCERY  National  DOMESTIC WINE   \n",
              "\n",
              "    sub_commodity_desc curr_size_of_product age_desc marital_status_code  \\\n",
              "0  SANDWICHES - (COLD)                         45-54                   U   \n",
              "1     VALUE GLASS WINE                4 LTR    45-54                   U   \n",
              "\n",
              "  income_desc homeowner_desc hh_comp_desc household_size_desc  \\\n",
              "0      50-74K        Unknown      Unknown                   1   \n",
              "1      50-74K        Unknown      Unknown                   1   \n",
              "\n",
              "  kid_category_desc  \n",
              "0      None/Unknown  \n",
              "1      None/Unknown  "
            ]
          },
          "execution_count": 50,
          "metadata": {},
          "output_type": "execute_result"
        }
      ],
      "source": [
        "df_ranker_train = df_ranker_train.merge(item_features, on='item_id', how='left')\n",
        "df_ranker_train = df_ranker_train.merge(user_features, on='user_id', how='left')\n",
        "\n",
        "df_ranker_train.head(2)"
      ]
    },
    {
      "cell_type": "markdown",
      "id": "4b54d48d",
      "metadata": {
        "papermill": {
          "duration": 0.173949,
          "end_time": "2022-05-07T20:21:11.459234",
          "exception": false,
          "start_time": "2022-05-07T20:21:11.285285",
          "status": "completed"
        },
        "tags": [],
        "id": "4b54d48d"
      },
      "source": [
        "**Фичи user_id:**\n",
        "    - Средний чек\n",
        "    - Средняя сумма покупки 1 товара в каждой категории\n",
        "    - Кол-во покупок в каждой категории\n",
        "    - Частотность покупок раз/месяц\n",
        "    - Долю покупок в выходные\n",
        "    - Долю покупок утром/днем/вечером\n",
        "\n",
        "**Фичи item_id**:\n",
        "    - Кол-во покупок в неделю\n",
        "    - Среднее кол-во покупок 1 товара в категории в неделю\n",
        "    - (Кол-во покупок в неделю) / (Среднее ол-во покупок 1 товара в категории в неделю)\n",
        "    - Цена (Можно посчитать из retil_train.csv)\n",
        "    - Цена / Средняя цена товара в категории\n",
        "    \n",
        "**Фичи пары user_id - item_id**\n",
        "    - (Средняя сумма покупки 1 товара в каждой категории (берем категорию item_id)) - (Цена item_id)\n",
        "    - (Кол-во покупок юзером конкретной категории в неделю) - (Среднее кол-во покупок всеми юзерами конкретной категории в неделю)\n",
        "    - (Кол-во покупок юзером конкретной категории в неделю) / (Среднее кол-во покупок всеми юзерами конкретной категории в неделю)"
      ]
    },
    {
      "cell_type": "code",
      "execution_count": null,
      "id": "67acf363",
      "metadata": {
        "execution": {
          "iopub.execute_input": "2022-05-07T20:21:11.814055Z",
          "iopub.status.busy": "2022-05-07T20:21:11.813795Z",
          "iopub.status.idle": "2022-05-07T20:21:11.831011Z",
          "shell.execute_reply": "2022-05-07T20:21:11.829820Z"
        },
        "papermill": {
          "duration": 0.196463,
          "end_time": "2022-05-07T20:21:11.833129",
          "exception": false,
          "start_time": "2022-05-07T20:21:11.636666",
          "status": "completed"
        },
        "tags": [],
        "id": "67acf363",
        "outputId": "23f54953-b3e8-4103-9a66-f039753d20e8"
      },
      "outputs": [
        {
          "data": {
            "text/html": [
              "<div>\n",
              "<style scoped>\n",
              "    .dataframe tbody tr th:only-of-type {\n",
              "        vertical-align: middle;\n",
              "    }\n",
              "\n",
              "    .dataframe tbody tr th {\n",
              "        vertical-align: top;\n",
              "    }\n",
              "\n",
              "    .dataframe thead th {\n",
              "        text-align: right;\n",
              "    }\n",
              "</style>\n",
              "<table border=\"1\" class=\"dataframe\">\n",
              "  <thead>\n",
              "    <tr style=\"text-align: right;\">\n",
              "      <th></th>\n",
              "      <th>user_id</th>\n",
              "      <th>item_id</th>\n",
              "      <th>target</th>\n",
              "      <th>manufacturer</th>\n",
              "      <th>department</th>\n",
              "      <th>brand</th>\n",
              "      <th>commodity_desc</th>\n",
              "      <th>sub_commodity_desc</th>\n",
              "      <th>curr_size_of_product</th>\n",
              "      <th>age_desc</th>\n",
              "      <th>marital_status_code</th>\n",
              "      <th>income_desc</th>\n",
              "      <th>homeowner_desc</th>\n",
              "      <th>hh_comp_desc</th>\n",
              "      <th>household_size_desc</th>\n",
              "      <th>kid_category_desc</th>\n",
              "    </tr>\n",
              "  </thead>\n",
              "  <tbody>\n",
              "    <tr>\n",
              "      <th>0</th>\n",
              "      <td>2070</td>\n",
              "      <td>1105426</td>\n",
              "      <td>0.0</td>\n",
              "      <td>69</td>\n",
              "      <td>DELI</td>\n",
              "      <td>Private</td>\n",
              "      <td>SANDWICHES</td>\n",
              "      <td>SANDWICHES - (COLD)</td>\n",
              "      <td></td>\n",
              "      <td>45-54</td>\n",
              "      <td>U</td>\n",
              "      <td>50-74K</td>\n",
              "      <td>Unknown</td>\n",
              "      <td>Unknown</td>\n",
              "      <td>1</td>\n",
              "      <td>None/Unknown</td>\n",
              "    </tr>\n",
              "    <tr>\n",
              "      <th>1</th>\n",
              "      <td>2070</td>\n",
              "      <td>1097350</td>\n",
              "      <td>0.0</td>\n",
              "      <td>2468</td>\n",
              "      <td>GROCERY</td>\n",
              "      <td>National</td>\n",
              "      <td>DOMESTIC WINE</td>\n",
              "      <td>VALUE GLASS WINE</td>\n",
              "      <td>4 LTR</td>\n",
              "      <td>45-54</td>\n",
              "      <td>U</td>\n",
              "      <td>50-74K</td>\n",
              "      <td>Unknown</td>\n",
              "      <td>Unknown</td>\n",
              "      <td>1</td>\n",
              "      <td>None/Unknown</td>\n",
              "    </tr>\n",
              "    <tr>\n",
              "      <th>2</th>\n",
              "      <td>2070</td>\n",
              "      <td>879194</td>\n",
              "      <td>0.0</td>\n",
              "      <td>69</td>\n",
              "      <td>DRUG GM</td>\n",
              "      <td>Private</td>\n",
              "      <td>DIAPERS &amp; DISPOSABLES</td>\n",
              "      <td>BABY DIAPERS</td>\n",
              "      <td>14 CT</td>\n",
              "      <td>45-54</td>\n",
              "      <td>U</td>\n",
              "      <td>50-74K</td>\n",
              "      <td>Unknown</td>\n",
              "      <td>Unknown</td>\n",
              "      <td>1</td>\n",
              "      <td>None/Unknown</td>\n",
              "    </tr>\n",
              "    <tr>\n",
              "      <th>3</th>\n",
              "      <td>2070</td>\n",
              "      <td>948640</td>\n",
              "      <td>0.0</td>\n",
              "      <td>1213</td>\n",
              "      <td>DRUG GM</td>\n",
              "      <td>National</td>\n",
              "      <td>ORAL HYGIENE PRODUCTS</td>\n",
              "      <td>WHITENING SYSTEMS</td>\n",
              "      <td>3 OZ</td>\n",
              "      <td>45-54</td>\n",
              "      <td>U</td>\n",
              "      <td>50-74K</td>\n",
              "      <td>Unknown</td>\n",
              "      <td>Unknown</td>\n",
              "      <td>1</td>\n",
              "      <td>None/Unknown</td>\n",
              "    </tr>\n",
              "    <tr>\n",
              "      <th>4</th>\n",
              "      <td>2070</td>\n",
              "      <td>928263</td>\n",
              "      <td>0.0</td>\n",
              "      <td>69</td>\n",
              "      <td>DRUG GM</td>\n",
              "      <td>Private</td>\n",
              "      <td>DIAPERS &amp; DISPOSABLES</td>\n",
              "      <td>BABY DIAPERS</td>\n",
              "      <td>13 CT</td>\n",
              "      <td>45-54</td>\n",
              "      <td>U</td>\n",
              "      <td>50-74K</td>\n",
              "      <td>Unknown</td>\n",
              "      <td>Unknown</td>\n",
              "      <td>1</td>\n",
              "      <td>None/Unknown</td>\n",
              "    </tr>\n",
              "  </tbody>\n",
              "</table>\n",
              "</div>"
            ],
            "text/plain": [
              "   user_id  item_id  target  manufacturer department     brand  \\\n",
              "0     2070  1105426     0.0            69       DELI   Private   \n",
              "1     2070  1097350     0.0          2468    GROCERY  National   \n",
              "2     2070   879194     0.0            69    DRUG GM   Private   \n",
              "3     2070   948640     0.0          1213    DRUG GM  National   \n",
              "4     2070   928263     0.0            69    DRUG GM   Private   \n",
              "\n",
              "          commodity_desc   sub_commodity_desc curr_size_of_product age_desc  \\\n",
              "0             SANDWICHES  SANDWICHES - (COLD)                         45-54   \n",
              "1          DOMESTIC WINE     VALUE GLASS WINE                4 LTR    45-54   \n",
              "2  DIAPERS & DISPOSABLES         BABY DIAPERS                14 CT    45-54   \n",
              "3  ORAL HYGIENE PRODUCTS    WHITENING SYSTEMS                 3 OZ    45-54   \n",
              "4  DIAPERS & DISPOSABLES         BABY DIAPERS                13 CT    45-54   \n",
              "\n",
              "  marital_status_code income_desc homeowner_desc hh_comp_desc  \\\n",
              "0                   U      50-74K        Unknown      Unknown   \n",
              "1                   U      50-74K        Unknown      Unknown   \n",
              "2                   U      50-74K        Unknown      Unknown   \n",
              "3                   U      50-74K        Unknown      Unknown   \n",
              "4                   U      50-74K        Unknown      Unknown   \n",
              "\n",
              "  household_size_desc kid_category_desc  \n",
              "0                   1      None/Unknown  \n",
              "1                   1      None/Unknown  \n",
              "2                   1      None/Unknown  \n",
              "3                   1      None/Unknown  \n",
              "4                   1      None/Unknown  "
            ]
          },
          "execution_count": 51,
          "metadata": {},
          "output_type": "execute_result"
        }
      ],
      "source": [
        "df_ranker_train.head()"
      ]
    },
    {
      "cell_type": "code",
      "execution_count": null,
      "id": "83b591ba",
      "metadata": {
        "execution": {
          "iopub.execute_input": "2022-05-07T20:21:12.189629Z",
          "iopub.status.busy": "2022-05-07T20:21:12.189341Z",
          "iopub.status.idle": "2022-05-07T20:21:12.219092Z",
          "shell.execute_reply": "2022-05-07T20:21:12.218348Z"
        },
        "papermill": {
          "duration": 0.211407,
          "end_time": "2022-05-07T20:21:12.221610",
          "exception": false,
          "start_time": "2022-05-07T20:21:12.010203",
          "status": "completed"
        },
        "tags": [],
        "id": "83b591ba"
      },
      "outputs": [],
      "source": [
        "X_train = df_ranker_train.drop('target', axis=1)\n",
        "y_train = df_ranker_train[['target']]"
      ]
    },
    {
      "cell_type": "code",
      "execution_count": null,
      "id": "b1a53be9",
      "metadata": {
        "execution": {
          "iopub.execute_input": "2022-05-07T20:21:12.574118Z",
          "iopub.status.busy": "2022-05-07T20:21:12.573866Z",
          "iopub.status.idle": "2022-05-07T20:21:12.724156Z",
          "shell.execute_reply": "2022-05-07T20:21:12.723348Z"
        },
        "papermill": {
          "duration": 0.328972,
          "end_time": "2022-05-07T20:21:12.726340",
          "exception": false,
          "start_time": "2022-05-07T20:21:12.397368",
          "status": "completed"
        },
        "scrolled": true,
        "tags": [],
        "id": "b1a53be9",
        "outputId": "44d22b6d-638b-4627-f4e4-bad16769ba51"
      },
      "outputs": [
        {
          "data": {
            "text/plain": [
              "['manufacturer',\n",
              " 'department',\n",
              " 'brand',\n",
              " 'commodity_desc',\n",
              " 'sub_commodity_desc',\n",
              " 'curr_size_of_product',\n",
              " 'age_desc',\n",
              " 'marital_status_code',\n",
              " 'income_desc',\n",
              " 'homeowner_desc',\n",
              " 'hh_comp_desc',\n",
              " 'household_size_desc',\n",
              " 'kid_category_desc']"
            ]
          },
          "execution_count": 53,
          "metadata": {},
          "output_type": "execute_result"
        }
      ],
      "source": [
        "cat_feats = X_train.columns[2:].tolist()\n",
        "X_train[cat_feats] = X_train[cat_feats].astype('category')\n",
        "\n",
        "cat_feats"
      ]
    },
    {
      "cell_type": "markdown",
      "id": "fd18e581",
      "metadata": {
        "papermill": {
          "duration": 0.176253,
          "end_time": "2022-05-07T20:21:13.079727",
          "exception": false,
          "start_time": "2022-05-07T20:21:12.903474",
          "status": "completed"
        },
        "tags": [],
        "id": "fd18e581"
      },
      "source": [
        "## Обучение модели ранжирования"
      ]
    },
    {
      "cell_type": "code",
      "execution_count": null,
      "id": "f446bd96",
      "metadata": {
        "execution": {
          "iopub.execute_input": "2022-05-07T20:21:13.436418Z",
          "iopub.status.busy": "2022-05-07T20:21:13.436202Z",
          "iopub.status.idle": "2022-05-07T20:21:13.439141Z",
          "shell.execute_reply": "2022-05-07T20:21:13.438605Z"
        },
        "papermill": {
          "duration": 0.185491,
          "end_time": "2022-05-07T20:21:13.441059",
          "exception": false,
          "start_time": "2022-05-07T20:21:13.255568",
          "status": "completed"
        },
        "tags": [],
        "id": "f446bd96"
      },
      "outputs": [],
      "source": [
        "# делали на вебинаре, кусок с катбустом\n",
        "\n",
        "# from catboost import CatBoost, Pool\n",
        "\n",
        "# df_bin_feat = pd.get_dummies(X_train)\n",
        "\n",
        "# model = CatBoost(params ={'objective': \"Logloss\",\n",
        "#                           \"iterations\":1000,\n",
        "#                           \"max_depth\":8,\n",
        "#                           \"task_type\":\"GPU\",\n",
        "#                           \"devices\":\"0:1:2:3\"\n",
        "#             })\n",
        "# model.fit(df_bin_juice, y_train, silent=True)\n",
        "\n",
        "# train_preds = model.predict(df_bin_feat,prediction_type=\"Probability\")"
      ]
    },
    {
      "cell_type": "code",
      "execution_count": null,
      "id": "b79a7009",
      "metadata": {
        "execution": {
          "iopub.execute_input": "2022-05-07T20:21:13.797858Z",
          "iopub.status.busy": "2022-05-07T20:21:13.797556Z",
          "iopub.status.idle": "2022-05-07T20:21:18.592111Z",
          "shell.execute_reply": "2022-05-07T20:21:18.591164Z"
        },
        "papermill": {
          "duration": 4.975199,
          "end_time": "2022-05-07T20:21:18.594679",
          "exception": false,
          "start_time": "2022-05-07T20:21:13.619480",
          "status": "completed"
        },
        "tags": [],
        "id": "b79a7009",
        "outputId": "cc536d6b-b1e8-4769-ab24-1a9d9a62f90d"
      },
      "outputs": [
        {
          "name": "stderr",
          "output_type": "stream",
          "text": [
            "/opt/conda/lib/python3.7/site-packages/sklearn/preprocessing/_label.py:98: DataConversionWarning: A column-vector y was passed when a 1d array was expected. Please change the shape of y to (n_samples, ), for example using ravel().\n",
            "  y = column_or_1d(y, warn=True)\n",
            "/opt/conda/lib/python3.7/site-packages/sklearn/preprocessing/_label.py:133: DataConversionWarning: A column-vector y was passed when a 1d array was expected. Please change the shape of y to (n_samples, ), for example using ravel().\n",
            "  y = column_or_1d(y, warn=True)\n",
            "/opt/conda/lib/python3.7/site-packages/lightgbm/basic.py:1513: UserWarning: categorical_column in param dict is overridden.\n",
            "  _log_warning(f'{cat_alias} in param dict is overridden.')\n"
          ]
        }
      ],
      "source": [
        "lgb = LGBMClassifier(objective='binary',\n",
        "                     max_depth=8,\n",
        "                     n_estimators=300,\n",
        "                     learning_rate=0.05,\n",
        "                     categorical_column=cat_feats,\n",
        "                     n_jobs=-1,\n",
        "#                      verbose=0\n",
        "                   )\n",
        "\n",
        "lgb.fit(X_train, y_train)\n",
        "\n",
        "train_preds = lgb.predict_proba(X_train)"
      ]
    },
    {
      "cell_type": "code",
      "execution_count": null,
      "id": "5c99843d",
      "metadata": {
        "execution": {
          "iopub.execute_input": "2022-05-07T20:21:18.962657Z",
          "iopub.status.busy": "2022-05-07T20:21:18.962319Z",
          "iopub.status.idle": "2022-05-07T20:21:18.971909Z",
          "shell.execute_reply": "2022-05-07T20:21:18.970685Z"
        },
        "papermill": {
          "duration": 0.194719,
          "end_time": "2022-05-07T20:21:18.974695",
          "exception": false,
          "start_time": "2022-05-07T20:21:18.779976",
          "status": "completed"
        },
        "tags": [],
        "id": "5c99843d"
      },
      "outputs": [],
      "source": [
        "df_ranker_predict = df_ranker_train.copy()"
      ]
    },
    {
      "cell_type": "code",
      "execution_count": null,
      "id": "8195c2aa",
      "metadata": {
        "execution": {
          "iopub.execute_input": "2022-05-07T20:21:19.335278Z",
          "iopub.status.busy": "2022-05-07T20:21:19.334100Z",
          "iopub.status.idle": "2022-05-07T20:21:19.340246Z",
          "shell.execute_reply": "2022-05-07T20:21:19.339269Z"
        },
        "papermill": {
          "duration": 0.190299,
          "end_time": "2022-05-07T20:21:19.342849",
          "exception": false,
          "start_time": "2022-05-07T20:21:19.152550",
          "status": "completed"
        },
        "tags": [],
        "id": "8195c2aa"
      },
      "outputs": [],
      "source": [
        "df_ranker_predict['proba_item_purchase'] = train_preds[:,1]"
      ]
    },
    {
      "cell_type": "code",
      "execution_count": null,
      "id": "b59cdd30",
      "metadata": {
        "execution": {
          "iopub.execute_input": "2022-05-07T20:21:19.698821Z",
          "iopub.status.busy": "2022-05-07T20:21:19.698522Z",
          "iopub.status.idle": "2022-05-07T20:21:19.706700Z",
          "shell.execute_reply": "2022-05-07T20:21:19.705686Z"
        },
        "papermill": {
          "duration": 0.190315,
          "end_time": "2022-05-07T20:21:19.709026",
          "exception": false,
          "start_time": "2022-05-07T20:21:19.518711",
          "status": "completed"
        },
        "tags": [],
        "id": "b59cdd30",
        "outputId": "e2a24b88-de3b-4c74-b899-494743a30161"
      },
      "outputs": [
        {
          "data": {
            "text/plain": [
              "0    0.036421\n",
              "1    0.022789\n",
              "2    0.034224\n",
              "3    0.000956\n",
              "4    0.296946\n",
              "5    0.041391\n",
              "6    0.086421\n",
              "7    0.002064\n",
              "8    0.082280\n",
              "9    0.469736\n",
              "Name: proba_item_purchase, dtype: float64"
            ]
          },
          "execution_count": 58,
          "metadata": {},
          "output_type": "execute_result"
        }
      ],
      "source": [
        "df_ranker_predict['proba_item_purchase'][:10]"
      ]
    },
    {
      "cell_type": "markdown",
      "id": "1260928c",
      "metadata": {
        "papermill": {
          "duration": 0.179151,
          "end_time": "2022-05-07T20:21:20.069237",
          "exception": false,
          "start_time": "2022-05-07T20:21:19.890086",
          "status": "completed"
        },
        "tags": [],
        "id": "1260928c"
      },
      "source": [
        "## Подведем итоги\n",
        "\n",
        "    Мы обучили модель ранжирования на покупках из сета data_train_ranker и на кандитатах от own_recommendations, что является тренировочным сетом, и теперь наша задача предсказать и оценить именно на тестовом сете."
      ]
    },
    {
      "cell_type": "markdown",
      "id": "0752cb66",
      "metadata": {
        "papermill": {
          "duration": 0.192287,
          "end_time": "2022-05-07T20:21:20.442204",
          "exception": false,
          "start_time": "2022-05-07T20:21:20.249917",
          "status": "completed"
        },
        "tags": [],
        "id": "0752cb66"
      },
      "source": [
        "# Evaluation on test dataset"
      ]
    },
    {
      "cell_type": "code",
      "execution_count": null,
      "id": "42406331",
      "metadata": {
        "execution": {
          "iopub.execute_input": "2022-05-07T20:21:20.802180Z",
          "iopub.status.busy": "2022-05-07T20:21:20.801834Z",
          "iopub.status.idle": "2022-05-07T20:21:20.960385Z",
          "shell.execute_reply": "2022-05-07T20:21:20.959087Z"
        },
        "papermill": {
          "duration": 0.341793,
          "end_time": "2022-05-07T20:21:20.962685",
          "exception": false,
          "start_time": "2022-05-07T20:21:20.620892",
          "status": "completed"
        },
        "tags": [],
        "id": "42406331",
        "outputId": "9b2366f5-2c90-4a49-c942-06cc482122df"
      },
      "outputs": [
        {
          "data": {
            "text/html": [
              "<div>\n",
              "<style scoped>\n",
              "    .dataframe tbody tr th:only-of-type {\n",
              "        vertical-align: middle;\n",
              "    }\n",
              "\n",
              "    .dataframe tbody tr th {\n",
              "        vertical-align: top;\n",
              "    }\n",
              "\n",
              "    .dataframe thead th {\n",
              "        text-align: right;\n",
              "    }\n",
              "</style>\n",
              "<table border=\"1\" class=\"dataframe\">\n",
              "  <thead>\n",
              "    <tr style=\"text-align: right;\">\n",
              "      <th></th>\n",
              "      <th>user_id</th>\n",
              "      <th>actual</th>\n",
              "    </tr>\n",
              "  </thead>\n",
              "  <tbody>\n",
              "    <tr>\n",
              "      <th>0</th>\n",
              "      <td>1</td>\n",
              "      <td>[821867, 834484, 856942, 865456, 889248, 90795...</td>\n",
              "    </tr>\n",
              "    <tr>\n",
              "      <th>1</th>\n",
              "      <td>3</td>\n",
              "      <td>[835476, 851057, 872021, 878302, 879948, 90963...</td>\n",
              "    </tr>\n",
              "  </tbody>\n",
              "</table>\n",
              "</div>"
            ],
            "text/plain": [
              "   user_id                                             actual\n",
              "0        1  [821867, 834484, 856942, 865456, 889248, 90795...\n",
              "1        3  [835476, 851057, 872021, 878302, 879948, 90963..."
            ]
          },
          "execution_count": 59,
          "metadata": {},
          "output_type": "execute_result"
        }
      ],
      "source": [
        "result_eval_ranker = data_val_ranker.groupby(USER_COL)[ITEM_COL].unique().reset_index()\n",
        "result_eval_ranker.columns=[USER_COL, ACTUAL_COL]\n",
        "result_eval_ranker.head(2)"
      ]
    },
    {
      "cell_type": "markdown",
      "id": "8f2260ff",
      "metadata": {
        "papermill": {
          "duration": 0.180928,
          "end_time": "2022-05-07T20:21:21.323941",
          "exception": false,
          "start_time": "2022-05-07T20:21:21.143013",
          "status": "completed"
        },
        "tags": [],
        "id": "8f2260ff"
      },
      "source": [
        "## Eval matching on test dataset"
      ]
    },
    {
      "cell_type": "code",
      "execution_count": null,
      "id": "2f1bc66b",
      "metadata": {
        "execution": {
          "iopub.execute_input": "2022-05-07T20:21:21.685945Z",
          "iopub.status.busy": "2022-05-07T20:21:21.685019Z",
          "iopub.status.idle": "2022-05-07T20:21:30.132839Z",
          "shell.execute_reply": "2022-05-07T20:21:30.131501Z"
        },
        "papermill": {
          "duration": 8.631588,
          "end_time": "2022-05-07T20:21:30.135632",
          "exception": false,
          "start_time": "2022-05-07T20:21:21.504044",
          "status": "completed"
        },
        "tags": [],
        "id": "2f1bc66b",
        "outputId": "b4d6bc45-47a8-47d9-984b-77d53c771df9"
      },
      "outputs": [
        {
          "name": "stdout",
          "output_type": "stream",
          "text": [
            "CPU times: user 8.44 s, sys: 705 µs, total: 8.44 s\n",
            "Wall time: 8.44 s\n"
          ]
        }
      ],
      "source": [
        "%%time\n",
        "result_eval_ranker['own_rec'] = result_eval_ranker[USER_COL].apply(lambda x: recommender.get_own_recommendations(x, N=N_PREDICT))"
      ]
    },
    {
      "cell_type": "code",
      "execution_count": null,
      "id": "3ed283d1",
      "metadata": {
        "execution": {
          "iopub.execute_input": "2022-05-07T20:21:30.498370Z",
          "iopub.status.busy": "2022-05-07T20:21:30.497881Z",
          "iopub.status.idle": "2022-05-07T20:21:30.634191Z",
          "shell.execute_reply": "2022-05-07T20:21:30.633471Z"
        },
        "papermill": {
          "duration": 0.319449,
          "end_time": "2022-05-07T20:21:30.636254",
          "exception": false,
          "start_time": "2022-05-07T20:21:30.316805",
          "status": "completed"
        },
        "tags": [],
        "id": "3ed283d1",
        "outputId": "09a8ca96-1651-4cb0-c621-18b0ba4406fa"
      },
      "outputs": [
        {
          "data": {
            "text/plain": [
              "[('own_rec', 0.14441176470588235)]"
            ]
          },
          "execution_count": 61,
          "metadata": {},
          "output_type": "execute_result"
        }
      ],
      "source": [
        "# померяем precision только модели матчинга, чтобы понимать влияение ранжирования на метрики\n",
        "\n",
        "sorted(calc_precision(result_eval_ranker, TOPK_PRECISION), key=lambda x: x[1], reverse=True)"
      ]
    },
    {
      "cell_type": "markdown",
      "id": "92f45312",
      "metadata": {
        "papermill": {
          "duration": 0.180116,
          "end_time": "2022-05-07T20:21:30.995600",
          "exception": false,
          "start_time": "2022-05-07T20:21:30.815484",
          "status": "completed"
        },
        "tags": [],
        "id": "92f45312"
      },
      "source": [
        "## Eval re-ranked matched result on test dataset\n",
        "    Вспомним df_match_candidates сет, который был получен own_recommendations на юзерах, набор пользователей мы фиксировали и он одинаков, значи и прогноз одинаков, поэтому мы можем использовать этот датафрейм для переранжирования.\n",
        "    "
      ]
    },
    {
      "cell_type": "code",
      "execution_count": null,
      "id": "600386cd",
      "metadata": {
        "execution": {
          "iopub.execute_input": "2022-05-07T20:21:31.369016Z",
          "iopub.status.busy": "2022-05-07T20:21:31.368711Z",
          "iopub.status.idle": "2022-05-07T20:21:31.373663Z",
          "shell.execute_reply": "2022-05-07T20:21:31.372962Z"
        },
        "papermill": {
          "duration": 0.200199,
          "end_time": "2022-05-07T20:21:31.375728",
          "exception": false,
          "start_time": "2022-05-07T20:21:31.175529",
          "status": "completed"
        },
        "tags": [],
        "id": "600386cd"
      },
      "outputs": [],
      "source": [
        "def rerank(user_id):\n",
        "    return df_ranker_predict[df_ranker_predict[USER_COL]==user_id].sort_values('proba_item_purchase', ascending=False).head(5).item_id.tolist()"
      ]
    },
    {
      "cell_type": "code",
      "execution_count": null,
      "id": "2d9808de",
      "metadata": {
        "execution": {
          "iopub.execute_input": "2022-05-07T20:21:31.738083Z",
          "iopub.status.busy": "2022-05-07T20:21:31.737542Z",
          "iopub.status.idle": "2022-05-07T20:21:33.483417Z",
          "shell.execute_reply": "2022-05-07T20:21:33.482391Z"
        },
        "papermill": {
          "duration": 1.930184,
          "end_time": "2022-05-07T20:21:33.485956",
          "exception": false,
          "start_time": "2022-05-07T20:21:31.555772",
          "status": "completed"
        },
        "tags": [],
        "id": "2d9808de"
      },
      "outputs": [],
      "source": [
        "result_eval_ranker['reranked_own_rec'] = result_eval_ranker[USER_COL].apply(lambda user_id: rerank(user_id))"
      ]
    },
    {
      "cell_type": "code",
      "execution_count": null,
      "id": "aedc6a85",
      "metadata": {
        "execution": {
          "iopub.execute_input": "2022-05-07T20:21:33.849331Z",
          "iopub.status.busy": "2022-05-07T20:21:33.848794Z",
          "iopub.status.idle": "2022-05-07T20:21:34.115402Z",
          "shell.execute_reply": "2022-05-07T20:21:34.114628Z"
        },
        "papermill": {
          "duration": 0.451494,
          "end_time": "2022-05-07T20:21:34.118291",
          "exception": false,
          "start_time": "2022-05-07T20:21:33.666797",
          "status": "completed"
        },
        "scrolled": true,
        "tags": [],
        "id": "aedc6a85",
        "outputId": "01212ac5-a72f-4bd3-c6c3-cc4d7e505e41"
      },
      "outputs": [
        {
          "name": "stdout",
          "output_type": "stream",
          "text": [
            "('reranked_own_rec', 0.15331592689295037)\n",
            "('own_rec', 0.14441176470588235)\n"
          ]
        },
        {
          "name": "stderr",
          "output_type": "stream",
          "text": [
            "/kaggle/working/metrics.py:20: RuntimeWarning: invalid value encountered in long_scalars\n",
            "  return flags.sum() / len(recommended_list)\n"
          ]
        }
      ],
      "source": [
        "print(*sorted(calc_precision(result_eval_ranker, TOPK_PRECISION), key=lambda x: x[1], reverse=True), sep='\\n')"
      ]
    },
    {
      "cell_type": "markdown",
      "id": "e4cc56ab",
      "metadata": {
        "papermill": {
          "duration": 0.180973,
          "end_time": "2022-05-07T20:21:34.481542",
          "exception": false,
          "start_time": "2022-05-07T20:21:34.300569",
          "status": "completed"
        },
        "tags": [],
        "id": "e4cc56ab"
      },
      "source": [
        "Берем топ-k предсказаний, ранжированных по вероятности, для каждого юзера"
      ]
    },
    {
      "cell_type": "markdown",
      "id": "5a59baea",
      "metadata": {
        "papermill": {
          "duration": 0.181815,
          "end_time": "2022-05-07T20:21:34.845207",
          "exception": false,
          "start_time": "2022-05-07T20:21:34.663392",
          "status": "completed"
        },
        "tags": [],
        "id": "5a59baea"
      },
      "source": [
        "# Домашнее задание"
      ]
    },
    {
      "cell_type": "markdown",
      "id": "4a165304",
      "metadata": {
        "papermill": {
          "duration": 0.181074,
          "end_time": "2022-05-07T20:21:35.207360",
          "exception": false,
          "start_time": "2022-05-07T20:21:35.026286",
          "status": "completed"
        },
        "tags": [],
        "id": "4a165304"
      },
      "source": [
        "### **Задание 1.**\n",
        "\n",
        "A) Попробуйте различные варианты генерации кандидатов. Какие из них дают наибольший recall@k ?\n",
        "- Пока пробуем отобрать 50 кандидатов (k=50)\n",
        "- Качество измеряем на data_val_matcher: следующие 6 недель после трейна\n",
        "\n",
        "Дают ли own recommendtions + top-popular лучший recall?  \n",
        "\n",
        "B)* Как зависит recall@k от k? Постройте для одной схемы генерации кандидатов эту зависимость для k = {20, 50, 100, 200, 500}  \n",
        "C)* Исходя из прошлого вопроса, как вы думаете, какое значение k является наиболее разумным?\n"
      ]
    },
    {
      "cell_type": "code",
      "execution_count": null,
      "id": "cc51a7fe",
      "metadata": {
        "execution": {
          "iopub.execute_input": "2022-05-07T20:21:35.573988Z",
          "iopub.status.busy": "2022-05-07T20:21:35.572767Z",
          "iopub.status.idle": "2022-05-07T20:21:35.577557Z",
          "shell.execute_reply": "2022-05-07T20:21:35.576887Z"
        },
        "papermill": {
          "duration": 0.191217,
          "end_time": "2022-05-07T20:21:35.579613",
          "exception": false,
          "start_time": "2022-05-07T20:21:35.388396",
          "status": "completed"
        },
        "tags": [],
        "id": "cc51a7fe"
      },
      "outputs": [],
      "source": [
        "# количество рекомендаций\n",
        "k = 50"
      ]
    },
    {
      "cell_type": "code",
      "execution_count": null,
      "id": "c93e4c28",
      "metadata": {
        "execution": {
          "iopub.execute_input": "2022-05-07T20:21:35.947185Z",
          "iopub.status.busy": "2022-05-07T20:21:35.946637Z",
          "iopub.status.idle": "2022-05-07T20:22:08.412507Z",
          "shell.execute_reply": "2022-05-07T20:22:08.411864Z"
        },
        "papermill": {
          "duration": 32.851421,
          "end_time": "2022-05-07T20:22:08.614694",
          "exception": false,
          "start_time": "2022-05-07T20:21:35.763273",
          "status": "completed"
        },
        "tags": [],
        "id": "c93e4c28",
        "outputId": "28f50d0d-bc09-4020-d89a-898e459f3175"
      },
      "outputs": [
        {
          "name": "stdout",
          "output_type": "stream",
          "text": [
            "CPU times: user 43.7 s, sys: 58.5 s, total: 1min 42s\n",
            "Wall time: 32.5 s\n"
          ]
        }
      ],
      "source": [
        "%%time\n",
        "# подберем рекомендации (кандидатов) с помощью разных моделей\n",
        "result_eval_matcher['own_rec'] = result_eval_matcher[USER_COL].apply(lambda x: recommender.get_own_recommendations(x, N=k))\n",
        "result_eval_matcher['als_rec'] = result_eval_matcher[USER_COL].apply(lambda x: recommender.get_als_recommendations(x, N=k))\n",
        "result_eval_matcher['sim_item_rec'] = result_eval_matcher[USER_COL].apply(lambda x: recommender.get_similar_items_recommendation(x, N=k))\n",
        "# result_eval_matcher['sim_user_rec'] = result_eval_matcher[USER_COL].apply(lambda x: recommender.get_similar_users_recommendation(x, N=k))"
      ]
    },
    {
      "cell_type": "code",
      "execution_count": null,
      "id": "853fe5cc",
      "metadata": {
        "execution": {
          "iopub.execute_input": "2022-05-07T20:22:08.983048Z",
          "iopub.status.busy": "2022-05-07T20:22:08.982796Z",
          "iopub.status.idle": "2022-05-07T20:22:08.988057Z",
          "shell.execute_reply": "2022-05-07T20:22:08.987126Z"
        },
        "papermill": {
          "duration": 0.191832,
          "end_time": "2022-05-07T20:22:08.989781",
          "exception": false,
          "start_time": "2022-05-07T20:22:08.797949",
          "status": "completed"
        },
        "tags": [],
        "id": "853fe5cc"
      },
      "outputs": [],
      "source": [
        "# функция для подсчета recall\n",
        "def calc_recall(df_data, top_k):\n",
        "    for col_name in df_data.columns[2:]:\n",
        "        yield col_name, df_data.apply(lambda row: recall_at_k(row[col_name], row[ACTUAL_COL], k=top_k), axis=1).mean()"
      ]
    },
    {
      "cell_type": "code",
      "execution_count": null,
      "id": "c985ec32",
      "metadata": {
        "execution": {
          "iopub.execute_input": "2022-05-07T20:22:09.341437Z",
          "iopub.status.busy": "2022-05-07T20:22:09.340654Z",
          "iopub.status.idle": "2022-05-07T20:22:10.049548Z",
          "shell.execute_reply": "2022-05-07T20:22:10.048614Z"
        },
        "papermill": {
          "duration": 0.897188,
          "end_time": "2022-05-07T20:22:10.052253",
          "exception": false,
          "start_time": "2022-05-07T20:22:09.155065",
          "status": "completed"
        },
        "tags": [],
        "id": "c985ec32",
        "outputId": "432b94a8-601c-42c7-af39-e5175097314f"
      },
      "outputs": [
        {
          "data": {
            "text/plain": [
              "[('own_rec', 0.06525657038145165),\n",
              " ('als_rec', 0.04820483675337791),\n",
              " ('sim_item_rec', 0.033873625261665395)]"
            ]
          },
          "execution_count": 68,
          "metadata": {},
          "output_type": "execute_result"
        }
      ],
      "source": [
        "sorted(calc_recall(result_eval_matcher, TOPK_RECALL), key=lambda x: x[1],reverse=True)"
      ]
    },
    {
      "cell_type": "markdown",
      "id": "5fc9ae8f",
      "metadata": {
        "papermill": {
          "duration": 0.182672,
          "end_time": "2022-05-07T20:22:10.416076",
          "exception": false,
          "start_time": "2022-05-07T20:22:10.233404",
          "status": "completed"
        },
        "tags": [],
        "id": "5fc9ae8f"
      },
      "source": [
        "#### **Вывод:** \n",
        "\n",
        "#### Наилучшую метрику показала модель **'own_rec'**, так как она основана на тех товарах, которые уже покупал пользователь. Возьмем ее для дальнейших экспериментов с k."
      ]
    },
    {
      "cell_type": "code",
      "execution_count": null,
      "id": "36519655",
      "metadata": {
        "execution": {
          "iopub.execute_input": "2022-05-07T20:22:10.789156Z",
          "iopub.status.busy": "2022-05-07T20:22:10.788664Z",
          "iopub.status.idle": "2022-05-07T20:22:10.792855Z",
          "shell.execute_reply": "2022-05-07T20:22:10.791949Z"
        },
        "papermill": {
          "duration": 0.194114,
          "end_time": "2022-05-07T20:22:10.795149",
          "exception": false,
          "start_time": "2022-05-07T20:22:10.601035",
          "status": "completed"
        },
        "tags": [],
        "id": "36519655"
      },
      "outputs": [],
      "source": [
        "k_list = [20, 50, 100, 200, 500]"
      ]
    },
    {
      "cell_type": "code",
      "execution_count": null,
      "id": "38e2af4b",
      "metadata": {
        "execution": {
          "iopub.execute_input": "2022-05-07T20:22:11.161033Z",
          "iopub.status.busy": "2022-05-07T20:22:11.160671Z",
          "iopub.status.idle": "2022-05-07T20:22:56.508465Z",
          "shell.execute_reply": "2022-05-07T20:22:56.507273Z"
        },
        "papermill": {
          "duration": 45.530919,
          "end_time": "2022-05-07T20:22:56.510914",
          "exception": false,
          "start_time": "2022-05-07T20:22:10.979995",
          "status": "completed"
        },
        "tags": [],
        "id": "38e2af4b",
        "outputId": "78f51fb4-095e-463b-fb7d-acb90c7a1c3f"
      },
      "outputs": [
        {
          "name": "stdout",
          "output_type": "stream",
          "text": [
            "top_20: 0.039284276793729055, time: 8.71985673904419 s\n",
            "top_50: 0.06525657038145165, time: 17.509681463241577 s\n",
            "top_100: 0.09604492955885016, time: 26.763026237487793 s\n",
            "top_200: 0.13537278412833254, time: 36.03818321228027 s\n",
            "top_500: 0.18205324555508703, time: 45.340656042099 s\n"
          ]
        }
      ],
      "source": [
        "recall_list = []\n",
        "start_time = time.time()\n",
        "\n",
        "for i in k_list:\n",
        "    result_eval_matcher['own_rec'] = result_eval_matcher[USER_COL].apply(lambda x: recommender.get_own_recommendations(x, N=i))\n",
        "    result_recall = result_eval_matcher.apply(lambda row: recall_at_k(row['own_rec'], row[ACTUAL_COL], k=i), axis=1).mean()\n",
        "    recall_list.append(result_recall)\n",
        "    print(f'top_{i}: {result_recall}, time: {time.time() - start_time} s')"
      ]
    },
    {
      "cell_type": "code",
      "execution_count": null,
      "id": "646c317d",
      "metadata": {
        "execution": {
          "iopub.execute_input": "2022-05-07T20:22:56.884423Z",
          "iopub.status.busy": "2022-05-07T20:22:56.884054Z",
          "iopub.status.idle": "2022-05-07T20:22:57.111840Z",
          "shell.execute_reply": "2022-05-07T20:22:57.110645Z"
        },
        "papermill": {
          "duration": 0.416221,
          "end_time": "2022-05-07T20:22:57.113730",
          "exception": false,
          "start_time": "2022-05-07T20:22:56.697509",
          "status": "completed"
        },
        "tags": [],
        "id": "646c317d",
        "outputId": "48696b17-b411-4bce-f9bd-b4510951c855"
      },
      "outputs": [
        {
          "data": {
            "image/png": "[encoded data removed]",
            "text/plain": [
              "<Figure size 360x360 with 1 Axes>"
            ]
          },
          "metadata": {
            "needs_background": "light"
          },
          "output_type": "display_data"
        }
      ],
      "source": [
        "fig, ax = plt.subplots(figsize=(5, 5))\n",
        "\n",
        "ax.plot(k_list, recall_list)\n",
        "ax.grid()\n",
        "ax.set_xlabel('top_k') \n",
        "ax.set_ylabel('recall_list')\n",
        "\n",
        "plt.show()"
      ]
    },
    {
      "cell_type": "markdown",
      "id": "f4f7569d",
      "metadata": {
        "papermill": {
          "duration": 0.119652,
          "end_time": "2022-05-07T20:22:57.351691",
          "exception": false,
          "start_time": "2022-05-07T20:22:57.232039",
          "status": "completed"
        },
        "tags": [],
        "id": "f4f7569d"
      },
      "source": [
        "#### **Вывод:** \n",
        "\n",
        "#### 1. Чем больше значение k, тем выше метрика recall@k.\n",
        "#### 2. Наиболее разумным будет взять k равное 200, так как далее метрика растет медленнее, а время подсчета увеличивается."
      ]
    },
    {
      "cell_type": "markdown",
      "id": "a4c28901",
      "metadata": {
        "papermill": {
          "duration": 0.117975,
          "end_time": "2022-05-07T20:22:57.585735",
          "exception": false,
          "start_time": "2022-05-07T20:22:57.467760",
          "status": "completed"
        },
        "tags": [],
        "id": "a4c28901"
      },
      "source": [
        "### **Задание 2.**\n",
        "\n",
        "Обучите модель 2-ого уровня, при этом:\n",
        "\n",
        "- Добавьте минимум по 2 фичи для юзера, товара и пары юзер-товар\n",
        "\n",
        "- Измерьте отдельно precision@5 модели 1-ого уровня и двухуровневой модели на data_val_ranker\n",
        "\n",
        "- Вырос ли precision@5 при использовании двухуровневой модели?"
      ]
    },
    {
      "cell_type": "markdown",
      "id": "b392ac96",
      "metadata": {
        "papermill": {
          "duration": 0.177265,
          "end_time": "2022-05-07T20:22:57.882275",
          "exception": false,
          "start_time": "2022-05-07T20:22:57.705010",
          "status": "completed"
        },
        "tags": [],
        "id": "b392ac96"
      },
      "source": [
        "### Подготовка данных для трейна"
      ]
    },
    {
      "cell_type": "code",
      "execution_count": null,
      "id": "fa703737",
      "metadata": {
        "execution": {
          "iopub.execute_input": "2022-05-07T20:22:58.124825Z",
          "iopub.status.busy": "2022-05-07T20:22:58.123973Z",
          "iopub.status.idle": "2022-05-07T20:22:58.128320Z",
          "shell.execute_reply": "2022-05-07T20:22:58.127633Z"
        },
        "papermill": {
          "duration": 0.125531,
          "end_time": "2022-05-07T20:22:58.130467",
          "exception": false,
          "start_time": "2022-05-07T20:22:58.004936",
          "status": "completed"
        },
        "tags": [],
        "id": "fa703737"
      },
      "outputs": [],
      "source": [
        "k=200"
      ]
    },
    {
      "cell_type": "code",
      "execution_count": null,
      "id": "1e60fd05",
      "metadata": {
        "execution": {
          "iopub.execute_input": "2022-05-07T20:22:58.438404Z",
          "iopub.status.busy": "2022-05-07T20:22:58.437876Z",
          "iopub.status.idle": "2022-05-07T20:22:58.455905Z",
          "shell.execute_reply": "2022-05-07T20:22:58.454960Z"
        },
        "papermill": {
          "duration": 0.20889,
          "end_time": "2022-05-07T20:22:58.458530",
          "exception": false,
          "start_time": "2022-05-07T20:22:58.249640",
          "status": "completed"
        },
        "tags": [],
        "id": "1e60fd05"
      },
      "outputs": [],
      "source": [
        "# посчитаем средний чек для пользователя\n",
        "average_check = (data_train_ranker.groupby('user_id')['sales_value'].sum() / data_train_ranker.groupby('user_id')['quantity'].count()).reset_index()\n",
        "average_check.columns = ['user_id', 'average_check']\n",
        "user_features = user_features.merge(average_check, on='user_id', how='left')"
      ]
    },
    {
      "cell_type": "code",
      "execution_count": null,
      "id": "c9a2cafb",
      "metadata": {
        "execution": {
          "iopub.execute_input": "2022-05-07T20:22:58.831856Z",
          "iopub.status.busy": "2022-05-07T20:22:58.831306Z",
          "iopub.status.idle": "2022-05-07T20:23:21.138733Z",
          "shell.execute_reply": "2022-05-07T20:23:21.137941Z"
        },
        "papermill": {
          "duration": 22.497242,
          "end_time": "2022-05-07T20:23:21.140961",
          "exception": false,
          "start_time": "2022-05-07T20:22:58.643719",
          "status": "completed"
        },
        "tags": [],
        "id": "c9a2cafb",
        "outputId": "f68e2f9a-2228-4ceb-d7a9-3363f157c5c2"
      },
      "outputs": [
        {
          "data": {
            "text/html": [
              "<div>\n",
              "<style scoped>\n",
              "    .dataframe tbody tr th:only-of-type {\n",
              "        vertical-align: middle;\n",
              "    }\n",
              "\n",
              "    .dataframe tbody tr th {\n",
              "        vertical-align: top;\n",
              "    }\n",
              "\n",
              "    .dataframe thead th {\n",
              "        text-align: right;\n",
              "    }\n",
              "</style>\n",
              "<table border=\"1\" class=\"dataframe\">\n",
              "  <thead>\n",
              "    <tr style=\"text-align: right;\">\n",
              "      <th></th>\n",
              "      <th>user_id</th>\n",
              "      <th>GROCERY</th>\n",
              "      <th>DRUG GM</th>\n",
              "      <th>PRODUCE</th>\n",
              "      <th>MEAT-PCKGD</th>\n",
              "      <th>MEAT</th>\n",
              "      <th>DELI</th>\n",
              "      <th>PASTRY</th>\n",
              "      <th>NUTRITION</th>\n",
              "      <th>KIOSK-GAS</th>\n",
              "      <th>...</th>\n",
              "      <th>FROZEN GROCERY</th>\n",
              "      <th>GARDEN CENTER</th>\n",
              "      <th>RESTAURANT</th>\n",
              "      <th>CNTRL/STORE SUP</th>\n",
              "      <th>RX</th>\n",
              "      <th>GM MERCH EXP</th>\n",
              "      <th>VIDEO</th>\n",
              "      <th>DELI/SNACK BAR</th>\n",
              "      <th>AUTOMOTIVE</th>\n",
              "      <th>PHOTO</th>\n",
              "    </tr>\n",
              "  </thead>\n",
              "  <tbody>\n",
              "    <tr>\n",
              "      <th>0</th>\n",
              "      <td>2070</td>\n",
              "      <td>139</td>\n",
              "      <td>29</td>\n",
              "      <td>10</td>\n",
              "      <td>8</td>\n",
              "      <td>8</td>\n",
              "      <td>3</td>\n",
              "      <td>3</td>\n",
              "      <td>0</td>\n",
              "      <td>2</td>\n",
              "      <td>...</td>\n",
              "      <td>0</td>\n",
              "      <td>0</td>\n",
              "      <td>0</td>\n",
              "      <td>0</td>\n",
              "      <td>0</td>\n",
              "      <td>0</td>\n",
              "      <td>0</td>\n",
              "      <td>0</td>\n",
              "      <td>0</td>\n",
              "      <td>0</td>\n",
              "    </tr>\n",
              "    <tr>\n",
              "      <th>1</th>\n",
              "      <td>2021</td>\n",
              "      <td>34</td>\n",
              "      <td>1</td>\n",
              "      <td>2</td>\n",
              "      <td>5</td>\n",
              "      <td>2</td>\n",
              "      <td>0</td>\n",
              "      <td>0</td>\n",
              "      <td>0</td>\n",
              "      <td>0</td>\n",
              "      <td>...</td>\n",
              "      <td>0</td>\n",
              "      <td>0</td>\n",
              "      <td>0</td>\n",
              "      <td>0</td>\n",
              "      <td>0</td>\n",
              "      <td>0</td>\n",
              "      <td>0</td>\n",
              "      <td>0</td>\n",
              "      <td>0</td>\n",
              "      <td>0</td>\n",
              "    </tr>\n",
              "  </tbody>\n",
              "</table>\n",
              "<p>2 rows × 32 columns</p>\n",
              "</div>"
            ],
            "text/plain": [
              "   user_id  GROCERY  DRUG GM  PRODUCE  MEAT-PCKGD  MEAT  DELI  PASTRY  \\\n",
              "0     2070      139       29       10           8     8     3       3   \n",
              "1     2021       34        1        2           5     2     0       0   \n",
              "\n",
              "   NUTRITION  KIOSK-GAS  ...  FROZEN GROCERY  GARDEN CENTER  RESTAURANT  \\\n",
              "0          0          2  ...               0              0           0   \n",
              "1          0          0  ...               0              0           0   \n",
              "\n",
              "   CNTRL/STORE SUP  RX  GM MERCH EXP  VIDEO  DELI/SNACK BAR  AUTOMOTIVE  PHOTO  \n",
              "0                0   0             0      0               0           0      0  \n",
              "1                0   0             0      0               0           0      0  \n",
              "\n",
              "[2 rows x 32 columns]"
            ]
          },
          "execution_count": 74,
          "metadata": {},
          "output_type": "execute_result"
        }
      ],
      "source": [
        "# посчитаем количество покупок в каждой категории для пользователя\n",
        "\n",
        "# соединим датасеты тренировочный и фичи товаров\n",
        "df_dt_if = data_train_ranker.merge(item_features, on='item_id', how='left')\n",
        "\n",
        "# список категорий\n",
        "department_list = df_dt_if.department.value_counts().reset_index()['index'].tolist()\n",
        "df_departments = pd.DataFrame(columns=department_list)\n",
        "\n",
        "# посчитаем количество товаров по пользователю в каждой категории\n",
        "user_depart_count = df_dt_if.groupby('user_id')['department'].value_counts()\n",
        "\n",
        "# сформируем датасет и добавим фичи к датасету user_features\n",
        "for user in df_dt_if.user_id.unique():\n",
        "    temp = pd.DataFrame(user_depart_count[user]).rename(columns={'department': user}).T\n",
        "    df_departments = df_departments.append(temp, ignore_index=False)\n",
        "\n",
        "df_departments.reset_index(inplace=True)\n",
        "df_departments.rename(columns={'index': 'user_id'}, inplace=True)\n",
        "df_departments.fillna(0, inplace=True)\n",
        "\n",
        "df_departments.head(2)"
      ]
    },
    {
      "cell_type": "code",
      "execution_count": null,
      "id": "2f101198",
      "metadata": {
        "execution": {
          "iopub.execute_input": "2022-05-07T20:23:21.529664Z",
          "iopub.status.busy": "2022-05-07T20:23:21.528869Z",
          "iopub.status.idle": "2022-05-07T20:23:21.559163Z",
          "shell.execute_reply": "2022-05-07T20:23:21.558599Z"
        },
        "papermill": {
          "duration": 0.219131,
          "end_time": "2022-05-07T20:23:21.561127",
          "exception": false,
          "start_time": "2022-05-07T20:23:21.341996",
          "status": "completed"
        },
        "tags": [],
        "id": "2f101198",
        "outputId": "cd84b03f-5a37-4f41-b920-1ceaa54e3004"
      },
      "outputs": [
        {
          "data": {
            "text/html": [
              "<div>\n",
              "<style scoped>\n",
              "    .dataframe tbody tr th:only-of-type {\n",
              "        vertical-align: middle;\n",
              "    }\n",
              "\n",
              "    .dataframe tbody tr th {\n",
              "        vertical-align: top;\n",
              "    }\n",
              "\n",
              "    .dataframe thead th {\n",
              "        text-align: right;\n",
              "    }\n",
              "</style>\n",
              "<table border=\"1\" class=\"dataframe\">\n",
              "  <thead>\n",
              "    <tr style=\"text-align: right;\">\n",
              "      <th></th>\n",
              "      <th>age_desc</th>\n",
              "      <th>marital_status_code</th>\n",
              "      <th>income_desc</th>\n",
              "      <th>homeowner_desc</th>\n",
              "      <th>hh_comp_desc</th>\n",
              "      <th>household_size_desc</th>\n",
              "      <th>kid_category_desc</th>\n",
              "      <th>user_id</th>\n",
              "      <th>average_check</th>\n",
              "      <th>GROCERY</th>\n",
              "      <th>...</th>\n",
              "      <th>FROZEN GROCERY</th>\n",
              "      <th>GARDEN CENTER</th>\n",
              "      <th>RESTAURANT</th>\n",
              "      <th>CNTRL/STORE SUP</th>\n",
              "      <th>RX</th>\n",
              "      <th>GM MERCH EXP</th>\n",
              "      <th>VIDEO</th>\n",
              "      <th>DELI/SNACK BAR</th>\n",
              "      <th>AUTOMOTIVE</th>\n",
              "      <th>PHOTO</th>\n",
              "    </tr>\n",
              "  </thead>\n",
              "  <tbody>\n",
              "    <tr>\n",
              "      <th>0</th>\n",
              "      <td>65+</td>\n",
              "      <td>A</td>\n",
              "      <td>35-49K</td>\n",
              "      <td>Homeowner</td>\n",
              "      <td>2 Adults No Kids</td>\n",
              "      <td>2</td>\n",
              "      <td>None/Unknown</td>\n",
              "      <td>1</td>\n",
              "      <td>2.569774</td>\n",
              "      <td>93.0</td>\n",
              "      <td>...</td>\n",
              "      <td>0.0</td>\n",
              "      <td>0.0</td>\n",
              "      <td>0.0</td>\n",
              "      <td>0.0</td>\n",
              "      <td>0.0</td>\n",
              "      <td>0.0</td>\n",
              "      <td>0.0</td>\n",
              "      <td>0.0</td>\n",
              "      <td>0.0</td>\n",
              "      <td>0.0</td>\n",
              "    </tr>\n",
              "    <tr>\n",
              "      <th>1</th>\n",
              "      <td>45-54</td>\n",
              "      <td>A</td>\n",
              "      <td>50-74K</td>\n",
              "      <td>Homeowner</td>\n",
              "      <td>2 Adults No Kids</td>\n",
              "      <td>2</td>\n",
              "      <td>None/Unknown</td>\n",
              "      <td>7</td>\n",
              "      <td>2.085000</td>\n",
              "      <td>70.0</td>\n",
              "      <td>...</td>\n",
              "      <td>0.0</td>\n",
              "      <td>0.0</td>\n",
              "      <td>0.0</td>\n",
              "      <td>0.0</td>\n",
              "      <td>0.0</td>\n",
              "      <td>0.0</td>\n",
              "      <td>0.0</td>\n",
              "      <td>0.0</td>\n",
              "      <td>0.0</td>\n",
              "      <td>0.0</td>\n",
              "    </tr>\n",
              "  </tbody>\n",
              "</table>\n",
              "<p>2 rows × 40 columns</p>\n",
              "</div>"
            ],
            "text/plain": [
              "  age_desc marital_status_code income_desc homeowner_desc      hh_comp_desc  \\\n",
              "0      65+                   A      35-49K      Homeowner  2 Adults No Kids   \n",
              "1    45-54                   A      50-74K      Homeowner  2 Adults No Kids   \n",
              "\n",
              "  household_size_desc kid_category_desc  user_id  average_check  GROCERY  ...  \\\n",
              "0                   2      None/Unknown        1       2.569774     93.0  ...   \n",
              "1                   2      None/Unknown        7       2.085000     70.0  ...   \n",
              "\n",
              "   FROZEN GROCERY  GARDEN CENTER  RESTAURANT  CNTRL/STORE SUP   RX  \\\n",
              "0             0.0            0.0         0.0              0.0  0.0   \n",
              "1             0.0            0.0         0.0              0.0  0.0   \n",
              "\n",
              "   GM MERCH EXP  VIDEO  DELI/SNACK BAR  AUTOMOTIVE  PHOTO  \n",
              "0           0.0    0.0             0.0         0.0    0.0  \n",
              "1           0.0    0.0             0.0         0.0    0.0  \n",
              "\n",
              "[2 rows x 40 columns]"
            ]
          },
          "execution_count": 75,
          "metadata": {},
          "output_type": "execute_result"
        }
      ],
      "source": [
        "user_features = user_features.merge(df_departments, on='user_id', how='left')\n",
        "user_features.head(2)"
      ]
    },
    {
      "cell_type": "code",
      "execution_count": null,
      "id": "27afdb5d",
      "metadata": {
        "execution": {
          "iopub.execute_input": "2022-05-07T20:23:21.936688Z",
          "iopub.status.busy": "2022-05-07T20:23:21.936150Z",
          "iopub.status.idle": "2022-05-07T20:23:21.942515Z",
          "shell.execute_reply": "2022-05-07T20:23:21.941659Z"
        },
        "papermill": {
          "duration": 0.196779,
          "end_time": "2022-05-07T20:23:21.945030",
          "exception": false,
          "start_time": "2022-05-07T20:23:21.748251",
          "status": "completed"
        },
        "tags": [],
        "id": "27afdb5d"
      },
      "outputs": [],
      "source": [
        "# взяли пользователей из трейна для ранжирования\n",
        "df_match_candidates = pd.DataFrame(data_train_ranker[USER_COL].unique())\n",
        "df_match_candidates.columns = [USER_COL]"
      ]
    },
    {
      "cell_type": "code",
      "execution_count": null,
      "id": "fe352926",
      "metadata": {
        "execution": {
          "iopub.execute_input": "2022-05-07T20:23:22.319224Z",
          "iopub.status.busy": "2022-05-07T20:23:22.318712Z",
          "iopub.status.idle": "2022-05-07T20:23:31.454566Z",
          "shell.execute_reply": "2022-05-07T20:23:31.453252Z"
        },
        "papermill": {
          "duration": 9.326419,
          "end_time": "2022-05-07T20:23:31.457368",
          "exception": false,
          "start_time": "2022-05-07T20:23:22.130949",
          "status": "completed"
        },
        "tags": [],
        "id": "fe352926"
      },
      "outputs": [],
      "source": [
        "# собираем кандитатов с первого этапа (matcher)\n",
        "df_match_candidates['candidates'] = df_match_candidates[USER_COL].apply(lambda x: recommender.get_own_recommendations(x, N=k))"
      ]
    },
    {
      "cell_type": "code",
      "execution_count": null,
      "id": "3586c1e6",
      "metadata": {
        "execution": {
          "iopub.execute_input": "2022-05-07T20:23:31.831086Z",
          "iopub.status.busy": "2022-05-07T20:23:31.830515Z",
          "iopub.status.idle": "2022-05-07T20:23:32.647910Z",
          "shell.execute_reply": "2022-05-07T20:23:32.646719Z"
        },
        "papermill": {
          "duration": 1.006089,
          "end_time": "2022-05-07T20:23:32.650321",
          "exception": false,
          "start_time": "2022-05-07T20:23:31.644232",
          "status": "completed"
        },
        "tags": [],
        "id": "3586c1e6"
      },
      "outputs": [],
      "source": [
        "df_items = df_match_candidates.apply(lambda x: pd.Series(x['candidates']), axis=1).stack().reset_index(level=1, drop=True)\n",
        "df_items.name = 'item_id'"
      ]
    },
    {
      "cell_type": "code",
      "execution_count": null,
      "id": "009a9424",
      "metadata": {
        "execution": {
          "iopub.execute_input": "2022-05-07T20:23:32.913344Z",
          "iopub.status.busy": "2022-05-07T20:23:32.913023Z",
          "iopub.status.idle": "2022-05-07T20:23:32.945540Z",
          "shell.execute_reply": "2022-05-07T20:23:32.944378Z"
        },
        "papermill": {
          "duration": 0.163808,
          "end_time": "2022-05-07T20:23:32.948123",
          "exception": false,
          "start_time": "2022-05-07T20:23:32.784315",
          "status": "completed"
        },
        "tags": [],
        "id": "009a9424"
      },
      "outputs": [],
      "source": [
        "df_match_candidates = df_match_candidates.drop('candidates', axis=1).join(df_items)"
      ]
    },
    {
      "cell_type": "code",
      "execution_count": null,
      "id": "8ae88b02",
      "metadata": {
        "execution": {
          "iopub.execute_input": "2022-05-07T20:23:33.369847Z",
          "iopub.status.busy": "2022-05-07T20:23:33.369564Z",
          "iopub.status.idle": "2022-05-07T20:23:33.379155Z",
          "shell.execute_reply": "2022-05-07T20:23:33.378634Z"
        },
        "papermill": {
          "duration": 0.221384,
          "end_time": "2022-05-07T20:23:33.381472",
          "exception": false,
          "start_time": "2022-05-07T20:23:33.160088",
          "status": "completed"
        },
        "tags": [],
        "id": "8ae88b02"
      },
      "outputs": [],
      "source": [
        "# Создаем трейн сет для ранжирования с учетом кандидатов с этапа 1 \n",
        "\n",
        "df_ranker_train = data_train_ranker[[USER_COL, ITEM_COL]].copy()\n",
        "df_ranker_train['target'] = 1  # тут только покупки "
      ]
    },
    {
      "cell_type": "code",
      "execution_count": null,
      "id": "8e2d984e",
      "metadata": {
        "execution": {
          "iopub.execute_input": "2022-05-07T20:23:33.775555Z",
          "iopub.status.busy": "2022-05-07T20:23:33.774617Z",
          "iopub.status.idle": "2022-05-07T20:23:33.904934Z",
          "shell.execute_reply": "2022-05-07T20:23:33.903731Z"
        },
        "papermill": {
          "duration": 0.330045,
          "end_time": "2022-05-07T20:23:33.907355",
          "exception": false,
          "start_time": "2022-05-07T20:23:33.577310",
          "status": "completed"
        },
        "tags": [],
        "id": "8e2d984e"
      },
      "outputs": [],
      "source": [
        "# Не хватает нулей в датасете, поэтому добавляем наших кандитатов в качество нулей\n",
        "\n",
        "df_ranker_train = df_match_candidates.merge(df_ranker_train, on=[USER_COL, ITEM_COL], how='left')\n",
        "\n",
        "# чистим дубликаты\n",
        "df_ranker_train = df_ranker_train.drop_duplicates(subset=[USER_COL, ITEM_COL])\n",
        "\n",
        "df_ranker_train['target'].fillna(0, inplace= True)"
      ]
    },
    {
      "cell_type": "code",
      "execution_count": null,
      "id": "66e81d82",
      "metadata": {
        "execution": {
          "iopub.execute_input": "2022-05-07T20:23:34.298018Z",
          "iopub.status.busy": "2022-05-07T20:23:34.297073Z",
          "iopub.status.idle": "2022-05-07T20:23:34.308117Z",
          "shell.execute_reply": "2022-05-07T20:23:34.307155Z"
        },
        "papermill": {
          "duration": 0.210897,
          "end_time": "2022-05-07T20:23:34.311640",
          "exception": false,
          "start_time": "2022-05-07T20:23:34.100743",
          "status": "completed"
        },
        "tags": [],
        "id": "66e81d82",
        "outputId": "5c4da6a8-438d-4646-c779-5631b8b1723b"
      },
      "outputs": [
        {
          "data": {
            "text/plain": [
              "0.0    397661\n",
              "1.0     17984\n",
              "Name: target, dtype: int64"
            ]
          },
          "execution_count": 82,
          "metadata": {},
          "output_type": "execute_result"
        }
      ],
      "source": [
        "df_ranker_train.target.value_counts()"
      ]
    },
    {
      "cell_type": "code",
      "execution_count": null,
      "id": "98edf855",
      "metadata": {
        "execution": {
          "iopub.execute_input": "2022-05-07T20:23:34.703531Z",
          "iopub.status.busy": "2022-05-07T20:23:34.702392Z",
          "iopub.status.idle": "2022-05-07T20:23:34.715776Z",
          "shell.execute_reply": "2022-05-07T20:23:34.715140Z"
        },
        "papermill": {
          "duration": 0.21075,
          "end_time": "2022-05-07T20:23:34.717915",
          "exception": false,
          "start_time": "2022-05-07T20:23:34.507165",
          "status": "completed"
        },
        "tags": [],
        "id": "98edf855",
        "outputId": "91b826ae-82cf-4ed7-8f90-ee9bfc0e37bb"
      },
      "outputs": [
        {
          "data": {
            "text/html": [
              "<div>\n",
              "<style scoped>\n",
              "    .dataframe tbody tr th:only-of-type {\n",
              "        vertical-align: middle;\n",
              "    }\n",
              "\n",
              "    .dataframe tbody tr th {\n",
              "        vertical-align: top;\n",
              "    }\n",
              "\n",
              "    .dataframe thead th {\n",
              "        text-align: right;\n",
              "    }\n",
              "</style>\n",
              "<table border=\"1\" class=\"dataframe\">\n",
              "  <thead>\n",
              "    <tr style=\"text-align: right;\">\n",
              "      <th></th>\n",
              "      <th>item_id</th>\n",
              "      <th>manufacturer</th>\n",
              "      <th>department</th>\n",
              "      <th>brand</th>\n",
              "      <th>commodity_desc</th>\n",
              "      <th>sub_commodity_desc</th>\n",
              "      <th>curr_size_of_product</th>\n",
              "    </tr>\n",
              "  </thead>\n",
              "  <tbody>\n",
              "    <tr>\n",
              "      <th>0</th>\n",
              "      <td>25671</td>\n",
              "      <td>2</td>\n",
              "      <td>GROCERY</td>\n",
              "      <td>National</td>\n",
              "      <td>FRZN ICE</td>\n",
              "      <td>ICE - CRUSHED/CUBED</td>\n",
              "      <td>22 LB</td>\n",
              "    </tr>\n",
              "    <tr>\n",
              "      <th>1</th>\n",
              "      <td>26081</td>\n",
              "      <td>2</td>\n",
              "      <td>MISC. TRANS.</td>\n",
              "      <td>National</td>\n",
              "      <td>NO COMMODITY DESCRIPTION</td>\n",
              "      <td>NO SUBCOMMODITY DESCRIPTION</td>\n",
              "      <td></td>\n",
              "    </tr>\n",
              "  </tbody>\n",
              "</table>\n",
              "</div>"
            ],
            "text/plain": [
              "   item_id  manufacturer    department     brand            commodity_desc  \\\n",
              "0    25671             2       GROCERY  National                  FRZN ICE   \n",
              "1    26081             2  MISC. TRANS.  National  NO COMMODITY DESCRIPTION   \n",
              "\n",
              "            sub_commodity_desc curr_size_of_product  \n",
              "0          ICE - CRUSHED/CUBED                22 LB  \n",
              "1  NO SUBCOMMODITY DESCRIPTION                       "
            ]
          },
          "execution_count": 83,
          "metadata": {},
          "output_type": "execute_result"
        }
      ],
      "source": [
        "item_features.head(2)"
      ]
    },
    {
      "cell_type": "code",
      "execution_count": null,
      "id": "87a05f73",
      "metadata": {
        "execution": {
          "iopub.execute_input": "2022-05-07T20:23:35.087943Z",
          "iopub.status.busy": "2022-05-07T20:23:35.086675Z",
          "iopub.status.idle": "2022-05-07T20:23:35.117044Z",
          "shell.execute_reply": "2022-05-07T20:23:35.115875Z"
        },
        "papermill": {
          "duration": 0.206935,
          "end_time": "2022-05-07T20:23:35.119822",
          "exception": false,
          "start_time": "2022-05-07T20:23:34.912887",
          "status": "completed"
        },
        "tags": [],
        "id": "87a05f73",
        "outputId": "36667d1a-5652-4c7a-fd7a-68a014abc354"
      },
      "outputs": [
        {
          "data": {
            "text/html": [
              "<div>\n",
              "<style scoped>\n",
              "    .dataframe tbody tr th:only-of-type {\n",
              "        vertical-align: middle;\n",
              "    }\n",
              "\n",
              "    .dataframe tbody tr th {\n",
              "        vertical-align: top;\n",
              "    }\n",
              "\n",
              "    .dataframe thead th {\n",
              "        text-align: right;\n",
              "    }\n",
              "</style>\n",
              "<table border=\"1\" class=\"dataframe\">\n",
              "  <thead>\n",
              "    <tr style=\"text-align: right;\">\n",
              "      <th></th>\n",
              "      <th>age_desc</th>\n",
              "      <th>marital_status_code</th>\n",
              "      <th>income_desc</th>\n",
              "      <th>homeowner_desc</th>\n",
              "      <th>hh_comp_desc</th>\n",
              "      <th>household_size_desc</th>\n",
              "      <th>kid_category_desc</th>\n",
              "      <th>user_id</th>\n",
              "      <th>average_check</th>\n",
              "      <th>GROCERY</th>\n",
              "      <th>...</th>\n",
              "      <th>FROZEN GROCERY</th>\n",
              "      <th>GARDEN CENTER</th>\n",
              "      <th>RESTAURANT</th>\n",
              "      <th>CNTRL/STORE SUP</th>\n",
              "      <th>RX</th>\n",
              "      <th>GM MERCH EXP</th>\n",
              "      <th>VIDEO</th>\n",
              "      <th>DELI/SNACK BAR</th>\n",
              "      <th>AUTOMOTIVE</th>\n",
              "      <th>PHOTO</th>\n",
              "    </tr>\n",
              "  </thead>\n",
              "  <tbody>\n",
              "    <tr>\n",
              "      <th>0</th>\n",
              "      <td>65+</td>\n",
              "      <td>A</td>\n",
              "      <td>35-49K</td>\n",
              "      <td>Homeowner</td>\n",
              "      <td>2 Adults No Kids</td>\n",
              "      <td>2</td>\n",
              "      <td>None/Unknown</td>\n",
              "      <td>1</td>\n",
              "      <td>2.569774</td>\n",
              "      <td>93.0</td>\n",
              "      <td>...</td>\n",
              "      <td>0.0</td>\n",
              "      <td>0.0</td>\n",
              "      <td>0.0</td>\n",
              "      <td>0.0</td>\n",
              "      <td>0.0</td>\n",
              "      <td>0.0</td>\n",
              "      <td>0.0</td>\n",
              "      <td>0.0</td>\n",
              "      <td>0.0</td>\n",
              "      <td>0.0</td>\n",
              "    </tr>\n",
              "    <tr>\n",
              "      <th>1</th>\n",
              "      <td>45-54</td>\n",
              "      <td>A</td>\n",
              "      <td>50-74K</td>\n",
              "      <td>Homeowner</td>\n",
              "      <td>2 Adults No Kids</td>\n",
              "      <td>2</td>\n",
              "      <td>None/Unknown</td>\n",
              "      <td>7</td>\n",
              "      <td>2.085000</td>\n",
              "      <td>70.0</td>\n",
              "      <td>...</td>\n",
              "      <td>0.0</td>\n",
              "      <td>0.0</td>\n",
              "      <td>0.0</td>\n",
              "      <td>0.0</td>\n",
              "      <td>0.0</td>\n",
              "      <td>0.0</td>\n",
              "      <td>0.0</td>\n",
              "      <td>0.0</td>\n",
              "      <td>0.0</td>\n",
              "      <td>0.0</td>\n",
              "    </tr>\n",
              "  </tbody>\n",
              "</table>\n",
              "<p>2 rows × 40 columns</p>\n",
              "</div>"
            ],
            "text/plain": [
              "  age_desc marital_status_code income_desc homeowner_desc      hh_comp_desc  \\\n",
              "0      65+                   A      35-49K      Homeowner  2 Adults No Kids   \n",
              "1    45-54                   A      50-74K      Homeowner  2 Adults No Kids   \n",
              "\n",
              "  household_size_desc kid_category_desc  user_id  average_check  GROCERY  ...  \\\n",
              "0                   2      None/Unknown        1       2.569774     93.0  ...   \n",
              "1                   2      None/Unknown        7       2.085000     70.0  ...   \n",
              "\n",
              "   FROZEN GROCERY  GARDEN CENTER  RESTAURANT  CNTRL/STORE SUP   RX  \\\n",
              "0             0.0            0.0         0.0              0.0  0.0   \n",
              "1             0.0            0.0         0.0              0.0  0.0   \n",
              "\n",
              "   GM MERCH EXP  VIDEO  DELI/SNACK BAR  AUTOMOTIVE  PHOTO  \n",
              "0           0.0    0.0             0.0         0.0    0.0  \n",
              "1           0.0    0.0             0.0         0.0    0.0  \n",
              "\n",
              "[2 rows x 40 columns]"
            ]
          },
          "execution_count": 84,
          "metadata": {},
          "output_type": "execute_result"
        }
      ],
      "source": [
        "user_features.head(2)"
      ]
    },
    {
      "cell_type": "code",
      "execution_count": null,
      "id": "51ba9f10",
      "metadata": {
        "execution": {
          "iopub.execute_input": "2022-05-07T20:23:35.397988Z",
          "iopub.status.busy": "2022-05-07T20:23:35.397191Z",
          "iopub.status.idle": "2022-05-07T20:23:35.729149Z",
          "shell.execute_reply": "2022-05-07T20:23:35.728417Z"
        },
        "papermill": {
          "duration": 0.465539,
          "end_time": "2022-05-07T20:23:35.731201",
          "exception": false,
          "start_time": "2022-05-07T20:23:35.265662",
          "status": "completed"
        },
        "tags": [],
        "id": "51ba9f10",
        "outputId": "c73d66df-2918-40ea-feb6-a64992ea2645"
      },
      "outputs": [
        {
          "data": {
            "text/html": [
              "<div>\n",
              "<style scoped>\n",
              "    .dataframe tbody tr th:only-of-type {\n",
              "        vertical-align: middle;\n",
              "    }\n",
              "\n",
              "    .dataframe tbody tr th {\n",
              "        vertical-align: top;\n",
              "    }\n",
              "\n",
              "    .dataframe thead th {\n",
              "        text-align: right;\n",
              "    }\n",
              "</style>\n",
              "<table border=\"1\" class=\"dataframe\">\n",
              "  <thead>\n",
              "    <tr style=\"text-align: right;\">\n",
              "      <th></th>\n",
              "      <th>user_id</th>\n",
              "      <th>item_id</th>\n",
              "      <th>target</th>\n",
              "      <th>manufacturer</th>\n",
              "      <th>department</th>\n",
              "      <th>brand</th>\n",
              "      <th>commodity_desc</th>\n",
              "      <th>sub_commodity_desc</th>\n",
              "      <th>curr_size_of_product</th>\n",
              "      <th>age_desc</th>\n",
              "      <th>...</th>\n",
              "      <th>FROZEN GROCERY</th>\n",
              "      <th>GARDEN CENTER</th>\n",
              "      <th>RESTAURANT</th>\n",
              "      <th>CNTRL/STORE SUP</th>\n",
              "      <th>RX</th>\n",
              "      <th>GM MERCH EXP</th>\n",
              "      <th>VIDEO</th>\n",
              "      <th>DELI/SNACK BAR</th>\n",
              "      <th>AUTOMOTIVE</th>\n",
              "      <th>PHOTO</th>\n",
              "    </tr>\n",
              "  </thead>\n",
              "  <tbody>\n",
              "    <tr>\n",
              "      <th>0</th>\n",
              "      <td>2070</td>\n",
              "      <td>1105426</td>\n",
              "      <td>0.0</td>\n",
              "      <td>69</td>\n",
              "      <td>DELI</td>\n",
              "      <td>Private</td>\n",
              "      <td>SANDWICHES</td>\n",
              "      <td>SANDWICHES - (COLD)</td>\n",
              "      <td></td>\n",
              "      <td>45-54</td>\n",
              "      <td>...</td>\n",
              "      <td>0.0</td>\n",
              "      <td>0.0</td>\n",
              "      <td>0.0</td>\n",
              "      <td>0.0</td>\n",
              "      <td>0.0</td>\n",
              "      <td>0.0</td>\n",
              "      <td>0.0</td>\n",
              "      <td>0.0</td>\n",
              "      <td>0.0</td>\n",
              "      <td>0.0</td>\n",
              "    </tr>\n",
              "    <tr>\n",
              "      <th>1</th>\n",
              "      <td>2070</td>\n",
              "      <td>1097350</td>\n",
              "      <td>0.0</td>\n",
              "      <td>2468</td>\n",
              "      <td>GROCERY</td>\n",
              "      <td>National</td>\n",
              "      <td>DOMESTIC WINE</td>\n",
              "      <td>VALUE GLASS WINE</td>\n",
              "      <td>4 LTR</td>\n",
              "      <td>45-54</td>\n",
              "      <td>...</td>\n",
              "      <td>0.0</td>\n",
              "      <td>0.0</td>\n",
              "      <td>0.0</td>\n",
              "      <td>0.0</td>\n",
              "      <td>0.0</td>\n",
              "      <td>0.0</td>\n",
              "      <td>0.0</td>\n",
              "      <td>0.0</td>\n",
              "      <td>0.0</td>\n",
              "      <td>0.0</td>\n",
              "    </tr>\n",
              "  </tbody>\n",
              "</table>\n",
              "<p>2 rows × 48 columns</p>\n",
              "</div>"
            ],
            "text/plain": [
              "   user_id  item_id  target  manufacturer department     brand commodity_desc  \\\n",
              "0     2070  1105426     0.0            69       DELI   Private     SANDWICHES   \n",
              "1     2070  1097350     0.0          2468    GROCERY  National  DOMESTIC WINE   \n",
              "\n",
              "    sub_commodity_desc curr_size_of_product age_desc  ... FROZEN GROCERY  \\\n",
              "0  SANDWICHES - (COLD)                         45-54  ...            0.0   \n",
              "1     VALUE GLASS WINE                4 LTR    45-54  ...            0.0   \n",
              "\n",
              "  GARDEN CENTER RESTAURANT CNTRL/STORE SUP   RX GM MERCH EXP  VIDEO  \\\n",
              "0           0.0        0.0             0.0  0.0          0.0    0.0   \n",
              "1           0.0        0.0             0.0  0.0          0.0    0.0   \n",
              "\n",
              "   DELI/SNACK BAR  AUTOMOTIVE  PHOTO  \n",
              "0             0.0         0.0    0.0  \n",
              "1             0.0         0.0    0.0  \n",
              "\n",
              "[2 rows x 48 columns]"
            ]
          },
          "execution_count": 85,
          "metadata": {},
          "output_type": "execute_result"
        }
      ],
      "source": [
        "# Подготавливаем фичи для обучения модели\n",
        "\n",
        "df_ranker_train = df_ranker_train.merge(item_features, on='item_id', how='left')\n",
        "df_ranker_train = df_ranker_train.merge(user_features, on='user_id', how='left')\n",
        "\n",
        "df_ranker_train.head(2)"
      ]
    },
    {
      "cell_type": "markdown",
      "id": "870aa619",
      "metadata": {
        "papermill": {
          "duration": 0.162868,
          "end_time": "2022-05-07T20:23:36.019320",
          "exception": false,
          "start_time": "2022-05-07T20:23:35.856452",
          "status": "completed"
        },
        "tags": [],
        "id": "870aa619"
      },
      "source": [
        "**Фичи user_id:**\n",
        "    - Средний чек\n",
        "    - Средняя сумма покупки 1 товара в каждой категории\n",
        "    - Кол-во покупок в каждой категории\n",
        "    - Частотность покупок раз/месяц\n",
        "    - Долю покупок в выходные\n",
        "    - Долю покупок утром/днем/вечером\n",
        "\n",
        "**Фичи item_id**:\n",
        "    - Кол-во покупок в неделю\n",
        "    - Среднее кол-во покупок 1 товара в категории в неделю\n",
        "    - (Кол-во покупок в неделю) / (Среднее ол-во покупок 1 товара в категории в неделю)\n",
        "    - Цена (Можно посчитать из retil_train.csv)\n",
        "    - Цена / Средняя цена товара в категории\n",
        "    \n",
        "**Фичи пары user_id - item_id**\n",
        "    - (Средняя сумма покупки 1 товара в каждой категории (берем категорию item_id)) - (Цена item_id)\n",
        "    - (Кол-во покупок юзером конкретной категории в неделю) - (Среднее кол-во покупок всеми юзерами конкретной категории в неделю)\n",
        "    - (Кол-во покупок юзером конкретной категории в неделю) / (Среднее кол-во покупок всеми юзерами конкретной категории в неделю)"
      ]
    },
    {
      "cell_type": "code",
      "execution_count": null,
      "id": "efc59953",
      "metadata": {
        "execution": {
          "iopub.execute_input": "2022-05-07T20:23:36.404965Z",
          "iopub.status.busy": "2022-05-07T20:23:36.404641Z",
          "iopub.status.idle": "2022-05-07T20:23:36.594405Z",
          "shell.execute_reply": "2022-05-07T20:23:36.592985Z"
        },
        "papermill": {
          "duration": 0.381812,
          "end_time": "2022-05-07T20:23:36.596714",
          "exception": false,
          "start_time": "2022-05-07T20:23:36.214902",
          "status": "completed"
        },
        "tags": [],
        "id": "efc59953"
      },
      "outputs": [],
      "source": [
        "X_train = df_ranker_train.drop('target', axis=1)\n",
        "y_train = df_ranker_train[['target']]"
      ]
    },
    {
      "cell_type": "code",
      "execution_count": null,
      "id": "75e018d9",
      "metadata": {
        "execution": {
          "iopub.execute_input": "2022-05-07T20:23:36.840366Z",
          "iopub.status.busy": "2022-05-07T20:23:36.840043Z",
          "iopub.status.idle": "2022-05-07T20:23:38.138319Z",
          "shell.execute_reply": "2022-05-07T20:23:38.137129Z"
        },
        "papermill": {
          "duration": 1.423087,
          "end_time": "2022-05-07T20:23:38.140821",
          "exception": false,
          "start_time": "2022-05-07T20:23:36.717734",
          "status": "completed"
        },
        "tags": [],
        "id": "75e018d9",
        "outputId": "a8bdcf7d-b843-4ed0-99d5-65b33cdcd14c"
      },
      "outputs": [
        {
          "data": {
            "text/plain": [
              "['manufacturer',\n",
              " 'department',\n",
              " 'brand',\n",
              " 'commodity_desc',\n",
              " 'sub_commodity_desc',\n",
              " 'curr_size_of_product',\n",
              " 'age_desc',\n",
              " 'marital_status_code',\n",
              " 'income_desc',\n",
              " 'homeowner_desc',\n",
              " 'hh_comp_desc',\n",
              " 'household_size_desc',\n",
              " 'kid_category_desc',\n",
              " 'average_check',\n",
              " 'GROCERY',\n",
              " 'DRUG GM',\n",
              " 'PRODUCE',\n",
              " 'MEAT-PCKGD',\n",
              " 'MEAT',\n",
              " 'DELI',\n",
              " 'PASTRY',\n",
              " 'NUTRITION',\n",
              " 'KIOSK-GAS',\n",
              " ' ',\n",
              " 'SEAFOOD-PCKGD',\n",
              " 'SALAD BAR',\n",
              " 'COSMETICS',\n",
              " 'MISC SALES TRAN',\n",
              " 'FLORAL',\n",
              " 'SEAFOOD',\n",
              " 'MISC. TRANS.',\n",
              " 'SPIRITS',\n",
              " 'CHEF SHOPPE',\n",
              " 'TRAVEL & LEISUR',\n",
              " 'COUP/STR & MFG',\n",
              " 'FROZEN GROCERY',\n",
              " 'GARDEN CENTER',\n",
              " 'RESTAURANT',\n",
              " 'CNTRL/STORE SUP',\n",
              " 'RX',\n",
              " 'GM MERCH EXP',\n",
              " 'VIDEO',\n",
              " 'DELI/SNACK BAR',\n",
              " 'AUTOMOTIVE',\n",
              " 'PHOTO']"
            ]
          },
          "execution_count": 87,
          "metadata": {},
          "output_type": "execute_result"
        }
      ],
      "source": [
        "cat_feats = X_train.columns[2:].tolist()\n",
        "X_train[cat_feats] = X_train[cat_feats].astype('category')\n",
        "\n",
        "cat_feats"
      ]
    },
    {
      "cell_type": "code",
      "execution_count": null,
      "id": "665ed9c9",
      "metadata": {
        "execution": {
          "iopub.execute_input": "2022-05-07T20:23:38.387138Z",
          "iopub.status.busy": "2022-05-07T20:23:38.386822Z",
          "iopub.status.idle": "2022-05-07T20:23:38.392198Z",
          "shell.execute_reply": "2022-05-07T20:23:38.390868Z"
        },
        "papermill": {
          "duration": 0.133946,
          "end_time": "2022-05-07T20:23:38.394695",
          "exception": false,
          "start_time": "2022-05-07T20:23:38.260749",
          "status": "completed"
        },
        "tags": [],
        "id": "665ed9c9"
      },
      "outputs": [],
      "source": [
        "# делали на вебинаре, кусок с катбустом\n",
        "\n",
        "# from catboost import CatBoost, Pool\n",
        "\n",
        "# df_bin_feat = pd.get_dummies(X_train)\n",
        "\n",
        "# model = CatBoost(params ={'objective': \"Logloss\",\n",
        "#                           \"iterations\":1000,\n",
        "#                           \"max_depth\":8,\n",
        "#                           \"task_type\":\"GPU\",\n",
        "#                           \"devices\":\"0:1:2:3\"\n",
        "#             })\n",
        "# model.fit(df_bin_juice, y_train, silent=True)\n",
        "\n",
        "# train_preds = model.predict(df_bin_feat,prediction_type=\"Probability\")"
      ]
    },
    {
      "cell_type": "code",
      "execution_count": null,
      "id": "2bcad933",
      "metadata": {
        "execution": {
          "iopub.execute_input": "2022-05-07T20:23:38.640717Z",
          "iopub.status.busy": "2022-05-07T20:23:38.640388Z",
          "iopub.status.idle": "2022-05-07T20:24:00.194533Z",
          "shell.execute_reply": "2022-05-07T20:24:00.193885Z"
        },
        "papermill": {
          "duration": 21.679201,
          "end_time": "2022-05-07T20:24:00.197024",
          "exception": false,
          "start_time": "2022-05-07T20:23:38.517823",
          "status": "completed"
        },
        "tags": [],
        "id": "2bcad933",
        "outputId": "b63014f5-0577-4e08-9b92-31f038f0d721"
      },
      "outputs": [
        {
          "name": "stderr",
          "output_type": "stream",
          "text": [
            "/opt/conda/lib/python3.7/site-packages/sklearn/preprocessing/_label.py:98: DataConversionWarning: A column-vector y was passed when a 1d array was expected. Please change the shape of y to (n_samples, ), for example using ravel().\n",
            "  y = column_or_1d(y, warn=True)\n",
            "/opt/conda/lib/python3.7/site-packages/sklearn/preprocessing/_label.py:133: DataConversionWarning: A column-vector y was passed when a 1d array was expected. Please change the shape of y to (n_samples, ), for example using ravel().\n",
            "  y = column_or_1d(y, warn=True)\n",
            "/opt/conda/lib/python3.7/site-packages/lightgbm/basic.py:1513: UserWarning: categorical_column in param dict is overridden.\n",
            "  _log_warning(f'{cat_alias} in param dict is overridden.')\n"
          ]
        }
      ],
      "source": [
        "# Обучение модели ранжирования\n",
        "\n",
        "lgb = LGBMClassifier(objective='binary',\n",
        "                     max_depth=8,\n",
        "                     n_estimators=300,\n",
        "                     learning_rate=0.05,\n",
        "                     categorical_column=cat_feats,\n",
        "                     n_jobs=-1,\n",
        "#                      verbose=0\n",
        "                   )\n",
        "\n",
        "lgb.fit(X_train, y_train)\n",
        "\n",
        "train_preds = lgb.predict_proba(X_train)"
      ]
    },
    {
      "cell_type": "code",
      "execution_count": null,
      "id": "b9369240",
      "metadata": {
        "execution": {
          "iopub.execute_input": "2022-05-07T20:24:00.581968Z",
          "iopub.status.busy": "2022-05-07T20:24:00.581130Z",
          "iopub.status.idle": "2022-05-07T20:24:00.622538Z",
          "shell.execute_reply": "2022-05-07T20:24:00.621758Z"
        },
        "papermill": {
          "duration": 0.235253,
          "end_time": "2022-05-07T20:24:00.625070",
          "exception": false,
          "start_time": "2022-05-07T20:24:00.389817",
          "status": "completed"
        },
        "tags": [],
        "id": "b9369240"
      },
      "outputs": [],
      "source": [
        "df_ranker_predict = df_ranker_train.copy()"
      ]
    },
    {
      "cell_type": "code",
      "execution_count": null,
      "id": "07fa4395",
      "metadata": {
        "execution": {
          "iopub.execute_input": "2022-05-07T20:24:01.011222Z",
          "iopub.status.busy": "2022-05-07T20:24:01.010650Z",
          "iopub.status.idle": "2022-05-07T20:24:01.016022Z",
          "shell.execute_reply": "2022-05-07T20:24:01.015041Z"
        },
        "papermill": {
          "duration": 0.202649,
          "end_time": "2022-05-07T20:24:01.018474",
          "exception": false,
          "start_time": "2022-05-07T20:24:00.815825",
          "status": "completed"
        },
        "tags": [],
        "id": "07fa4395"
      },
      "outputs": [],
      "source": [
        "df_ranker_predict['proba_item_purchase'] = train_preds[:,1]"
      ]
    },
    {
      "cell_type": "code",
      "execution_count": null,
      "id": "6c0eabd9",
      "metadata": {
        "execution": {
          "iopub.execute_input": "2022-05-07T20:24:01.404515Z",
          "iopub.status.busy": "2022-05-07T20:24:01.403977Z",
          "iopub.status.idle": "2022-05-07T20:24:01.413100Z",
          "shell.execute_reply": "2022-05-07T20:24:01.411980Z"
        },
        "papermill": {
          "duration": 0.204328,
          "end_time": "2022-05-07T20:24:01.415212",
          "exception": false,
          "start_time": "2022-05-07T20:24:01.210884",
          "status": "completed"
        },
        "tags": [],
        "id": "6c0eabd9",
        "outputId": "f9b3c327-0fd1-4cc4-9ac3-cc41d545736f"
      },
      "outputs": [
        {
          "data": {
            "text/plain": [
              "0    0.048379\n",
              "1    0.020123\n",
              "2    0.051233\n",
              "3    0.000580\n",
              "4    0.045548\n",
              "5    0.057809\n",
              "6    0.018287\n",
              "7    0.000743\n",
              "8    0.070334\n",
              "9    0.201521\n",
              "Name: proba_item_purchase, dtype: float64"
            ]
          },
          "execution_count": 92,
          "metadata": {},
          "output_type": "execute_result"
        }
      ],
      "source": [
        "df_ranker_predict['proba_item_purchase'][:10]"
      ]
    },
    {
      "cell_type": "code",
      "execution_count": null,
      "id": "b7dfec5f",
      "metadata": {
        "execution": {
          "iopub.execute_input": "2022-05-07T20:24:01.661549Z",
          "iopub.status.busy": "2022-05-07T20:24:01.661277Z",
          "iopub.status.idle": "2022-05-07T20:24:01.818775Z",
          "shell.execute_reply": "2022-05-07T20:24:01.818075Z"
        },
        "papermill": {
          "duration": 0.283881,
          "end_time": "2022-05-07T20:24:01.820901",
          "exception": false,
          "start_time": "2022-05-07T20:24:01.537020",
          "status": "completed"
        },
        "tags": [],
        "id": "b7dfec5f",
        "outputId": "b9236edc-4eeb-464e-b647-660ff79c9940"
      },
      "outputs": [
        {
          "data": {
            "text/html": [
              "<div>\n",
              "<style scoped>\n",
              "    .dataframe tbody tr th:only-of-type {\n",
              "        vertical-align: middle;\n",
              "    }\n",
              "\n",
              "    .dataframe tbody tr th {\n",
              "        vertical-align: top;\n",
              "    }\n",
              "\n",
              "    .dataframe thead th {\n",
              "        text-align: right;\n",
              "    }\n",
              "</style>\n",
              "<table border=\"1\" class=\"dataframe\">\n",
              "  <thead>\n",
              "    <tr style=\"text-align: right;\">\n",
              "      <th></th>\n",
              "      <th>user_id</th>\n",
              "      <th>actual</th>\n",
              "    </tr>\n",
              "  </thead>\n",
              "  <tbody>\n",
              "    <tr>\n",
              "      <th>0</th>\n",
              "      <td>1</td>\n",
              "      <td>[821867, 834484, 856942, 865456, 889248, 90795...</td>\n",
              "    </tr>\n",
              "    <tr>\n",
              "      <th>1</th>\n",
              "      <td>3</td>\n",
              "      <td>[835476, 851057, 872021, 878302, 879948, 90963...</td>\n",
              "    </tr>\n",
              "  </tbody>\n",
              "</table>\n",
              "</div>"
            ],
            "text/plain": [
              "   user_id                                             actual\n",
              "0        1  [821867, 834484, 856942, 865456, 889248, 90795...\n",
              "1        3  [835476, 851057, 872021, 878302, 879948, 90963..."
            ]
          },
          "execution_count": 93,
          "metadata": {},
          "output_type": "execute_result"
        }
      ],
      "source": [
        "# Evaluation on test dataset\n",
        "\n",
        "result_eval_ranker = data_val_ranker.groupby(USER_COL)[ITEM_COL].unique().reset_index()\n",
        "result_eval_ranker.columns=[USER_COL, ACTUAL_COL]\n",
        "result_eval_ranker.head(2)"
      ]
    },
    {
      "cell_type": "code",
      "execution_count": null,
      "id": "a35384b1",
      "metadata": {
        "execution": {
          "iopub.execute_input": "2022-05-07T20:24:02.208397Z",
          "iopub.status.busy": "2022-05-07T20:24:02.207905Z",
          "iopub.status.idle": "2022-05-07T20:24:10.785999Z",
          "shell.execute_reply": "2022-05-07T20:24:10.785238Z"
        },
        "papermill": {
          "duration": 8.775069,
          "end_time": "2022-05-07T20:24:10.788213",
          "exception": false,
          "start_time": "2022-05-07T20:24:02.013144",
          "status": "completed"
        },
        "tags": [],
        "id": "a35384b1",
        "outputId": "97444679-9e9b-43a8-8737-0bd2a91b8616"
      },
      "outputs": [
        {
          "name": "stdout",
          "output_type": "stream",
          "text": [
            "CPU times: user 8.57 s, sys: 2.11 ms, total: 8.57 s\n",
            "Wall time: 8.57 s\n"
          ]
        }
      ],
      "source": [
        "%%time\n",
        "\n",
        "# Eval matching on test dataset\n",
        "\n",
        "result_eval_ranker['own_rec'] = result_eval_ranker[USER_COL].apply(lambda x: recommender.get_own_recommendations(x, N=k))"
      ]
    },
    {
      "cell_type": "code",
      "execution_count": null,
      "id": "06a96dda",
      "metadata": {
        "execution": {
          "iopub.execute_input": "2022-05-07T20:24:11.176853Z",
          "iopub.status.busy": "2022-05-07T20:24:11.176349Z",
          "iopub.status.idle": "2022-05-07T20:24:11.310197Z",
          "shell.execute_reply": "2022-05-07T20:24:11.309618Z"
        },
        "papermill": {
          "duration": 0.329895,
          "end_time": "2022-05-07T20:24:11.312066",
          "exception": false,
          "start_time": "2022-05-07T20:24:10.982171",
          "status": "completed"
        },
        "tags": [],
        "id": "06a96dda",
        "outputId": "49d518d5-82b4-4933-e576-f6f3b8718ebe"
      },
      "outputs": [
        {
          "data": {
            "text/plain": [
              "[('own_rec', 0.14441176470588235)]"
            ]
          },
          "execution_count": 95,
          "metadata": {},
          "output_type": "execute_result"
        }
      ],
      "source": [
        "# померяем precision только модели матчинга, чтобы понимать влияение ранжирования на метрики\n",
        "\n",
        "sorted(calc_precision(result_eval_ranker, TOPK_PRECISION), key=lambda x: x[1], reverse=True)"
      ]
    },
    {
      "cell_type": "code",
      "execution_count": null,
      "id": "ffd50a90",
      "metadata": {
        "execution": {
          "iopub.execute_input": "2022-05-07T20:24:11.700215Z",
          "iopub.status.busy": "2022-05-07T20:24:11.699691Z",
          "iopub.status.idle": "2022-05-07T20:24:11.704466Z",
          "shell.execute_reply": "2022-05-07T20:24:11.703840Z"
        },
        "papermill": {
          "duration": 0.202758,
          "end_time": "2022-05-07T20:24:11.707104",
          "exception": false,
          "start_time": "2022-05-07T20:24:11.504346",
          "status": "completed"
        },
        "tags": [],
        "id": "ffd50a90"
      },
      "outputs": [],
      "source": [
        "# Eval re-ranked matched result on test dataset\n",
        "\n",
        "def rerank(user_id):\n",
        "    return df_ranker_predict[df_ranker_predict[USER_COL]==user_id].sort_values('proba_item_purchase', ascending=False).head(5).item_id.tolist()"
      ]
    },
    {
      "cell_type": "code",
      "execution_count": null,
      "id": "534822ee",
      "metadata": {
        "execution": {
          "iopub.execute_input": "2022-05-07T20:24:12.096306Z",
          "iopub.status.busy": "2022-05-07T20:24:12.095968Z",
          "iopub.status.idle": "2022-05-07T20:24:14.514059Z",
          "shell.execute_reply": "2022-05-07T20:24:14.513067Z"
        },
        "papermill": {
          "duration": 2.6159,
          "end_time": "2022-05-07T20:24:14.516769",
          "exception": false,
          "start_time": "2022-05-07T20:24:11.900869",
          "status": "completed"
        },
        "tags": [],
        "id": "534822ee"
      },
      "outputs": [],
      "source": [
        "result_eval_ranker['reranked_own_rec'] = result_eval_ranker[USER_COL].apply(lambda user_id: rerank(user_id))"
      ]
    },
    {
      "cell_type": "code",
      "execution_count": null,
      "id": "d396a1e5",
      "metadata": {
        "execution": {
          "iopub.execute_input": "2022-05-07T20:24:14.905530Z",
          "iopub.status.busy": "2022-05-07T20:24:14.905253Z",
          "iopub.status.idle": "2022-05-07T20:24:15.238411Z",
          "shell.execute_reply": "2022-05-07T20:24:15.237218Z"
        },
        "papermill": {
          "duration": 0.530125,
          "end_time": "2022-05-07T20:24:15.240466",
          "exception": false,
          "start_time": "2022-05-07T20:24:14.710341",
          "status": "completed"
        },
        "tags": [],
        "id": "d396a1e5",
        "outputId": "272a2a9c-a197-47ac-b7d4-503f3b300ae6"
      },
      "outputs": [
        {
          "name": "stdout",
          "output_type": "stream",
          "text": [
            "('reranked_own_rec', 0.1685639686684073)\n",
            "('own_rec', 0.14441176470588235)\n"
          ]
        },
        {
          "name": "stderr",
          "output_type": "stream",
          "text": [
            "/kaggle/working/metrics.py:20: RuntimeWarning: invalid value encountered in long_scalars\n",
            "  return flags.sum() / len(recommended_list)\n"
          ]
        }
      ],
      "source": [
        "print(*sorted(calc_precision(result_eval_ranker, TOPK_PRECISION), key=lambda x: x[1], reverse=True), sep='\\n')"
      ]
    },
    {
      "cell_type": "code",
      "execution_count": null,
      "id": "8e260264",
      "metadata": {
        "execution": {
          "iopub.execute_input": "2022-05-07T20:14:15.714624Z",
          "iopub.status.busy": "2022-05-07T20:14:15.714285Z",
          "iopub.status.idle": "2022-05-07T20:14:15.719941Z",
          "shell.execute_reply": "2022-05-07T20:14:15.718948Z",
          "shell.execute_reply.started": "2022-05-07T20:14:15.714579Z"
        },
        "papermill": {
          "duration": 0.127123,
          "end_time": "2022-05-07T20:24:15.495282",
          "exception": false,
          "start_time": "2022-05-07T20:24:15.368159",
          "status": "completed"
        },
        "tags": [],
        "id": "8e260264"
      },
      "outputs": [],
      "source": [
        ""
      ]
    }
  ],
  "metadata": {
    "kernelspec": {
      "display_name": "Python 3",
      "language": "python",
      "name": "python3"
    },
    "language_info": {
      "codemirror_mode": {
        "name": "ipython",
        "version": 3
      },
      "file_extension": ".py",
      "mimetype": "text/x-python",
      "name": "python",
      "nbconvert_exporter": "python",
      "pygments_lexer": "ipython3",
      "version": "3.7.12"
    },
    "papermill": {
      "default_parameters": {},
      "duration": 283.940976,
      "end_time": "2022-05-07T20:24:17.052158",
      "environment_variables": {},
      "exception": null,
      "input_path": "__notebook__.ipynb",
      "output_path": "__notebook__.ipynb",
      "parameters": {},
      "start_time": "2022-05-07T20:19:33.111182",
      "version": "2.3.4"
    },
    "widgets": {
      "application/vnd.jupyter.widget-state+json": {}
    },
    "colab": {
      "name": "HW6_2LevelRec.ipynb",
      "provenance": []
    }
  },
  "nbformat": 4,
  "nbformat_minor": 5
}