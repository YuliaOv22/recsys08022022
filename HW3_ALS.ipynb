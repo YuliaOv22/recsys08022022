{
  "cells": [
    {
      "cell_type": "markdown",
      "id": "6bb63390",
      "metadata": {
        "id": "6bb63390",
        "papermill": {
          "duration": 0.078287,
          "end_time": "2022-04-19T18:59:59.937180",
          "exception": false,
          "start_time": "2022-04-19T18:59:59.858893",
          "status": "completed"
        },
        "tags": []
      },
      "source": [
        "# Вебинар 3. Коллаборативная фильтрация"
      ]
    },
    {
      "cell_type": "markdown",
      "id": "eff1eba0",
      "metadata": {
        "id": "eff1eba0",
        "papermill": {
          "duration": 0.07658,
          "end_time": "2022-04-19T19:00:00.090630",
          "exception": false,
          "start_time": "2022-04-19T19:00:00.014050",
          "status": "completed"
        },
        "tags": []
      },
      "source": [
        "Исчерпывающую информацию с теорией, кодом и примерами можно найти в [статье](https://www.ethanrosenthal.com/2016/10/19/implicit-mf-part-1/)"
      ]
    },
    {
      "cell_type": "markdown",
      "id": "c6112cb9",
      "metadata": {
        "id": "c6112cb9",
        "papermill": {
          "duration": 0.075634,
          "end_time": "2022-04-19T19:00:00.242529",
          "exception": false,
          "start_time": "2022-04-19T19:00:00.166895",
          "status": "completed"
        },
        "tags": []
      },
      "source": [
        "# 1. Матричная факторизация"
      ]
    },
    {
      "cell_type": "markdown",
      "id": "207a4f0b",
      "metadata": {
        "id": "207a4f0b",
        "papermill": {
          "duration": 0.077122,
          "end_time": "2022-04-19T19:00:00.396414",
          "exception": false,
          "start_time": "2022-04-19T19:00:00.319292",
          "status": "completed"
        },
        "tags": []
      },
      "source": [
        "### 1. Базовое применение"
      ]
    },
    {
      "cell_type": "code",
      "execution_count": null,
      "id": "92815f90",
      "metadata": {
        "execution": {
          "iopub.execute_input": "2022-04-19T19:00:00.554176Z",
          "iopub.status.busy": "2022-04-19T19:00:00.553605Z",
          "iopub.status.idle": "2022-04-19T19:00:01.069635Z",
          "shell.execute_reply": "2022-04-19T19:00:01.068468Z"
        },
        "id": "92815f90",
        "papermill": {
          "duration": 0.599556,
          "end_time": "2022-04-19T19:00:01.073338",
          "exception": false,
          "start_time": "2022-04-19T19:00:00.473782",
          "status": "completed"
        },
        "tags": []
      },
      "outputs": [],
      "source": [
        "import pandas as pd\n",
        "import numpy as np\n",
        "import matplotlib.pyplot as plt\n",
        "%matplotlib inline\n",
        "\n",
        "# Для работы с матрицами\n",
        "from scipy.sparse import csr_matrix\n",
        "\n",
        "# Матричная факторизация\n",
        "from implicit.als import AlternatingLeastSquares\n",
        "from implicit.nearest_neighbours import bm25_weight, tfidf_weight\n",
        "\n",
        "# # Функции из 1-ого вебинара\n",
        "# import os, sys\n",
        "\n",
        "# module_path = os.path.abspath(os.path.join(os.pardir))\n",
        "# if module_path not in sys.path:\n",
        "#     sys.path.append(module_path)\n",
        "    \n",
        "# from metrics import precision_at_k, recall_at_k"
      ]
    },
    {
      "cell_type": "code",
      "execution_count": null,
      "id": "39a0b62b",
      "metadata": {
        "execution": {
          "iopub.execute_input": "2022-04-19T19:00:01.237091Z",
          "iopub.status.busy": "2022-04-19T19:00:01.236643Z",
          "iopub.status.idle": "2022-04-19T19:00:01.254222Z",
          "shell.execute_reply": "2022-04-19T19:00:01.253483Z"
        },
        "papermill": {
          "duration": 0.101416,
          "end_time": "2022-04-19T19:00:01.256484",
          "exception": false,
          "start_time": "2022-04-19T19:00:01.155068",
          "status": "completed"
        },
        "tags": [],
        "id": "39a0b62b"
      },
      "outputs": [],
      "source": [
        "# import module we'll need to import our custom module\n",
        "from shutil import copyfile\n",
        "\n",
        "# copy our file into the working directory (make sure it has .py suffix)\n",
        "copyfile(src = \"../input/implicit/metrics.py\", dst = \"../working/metrics.py\")\n",
        "\n",
        "# import all our functions\n",
        "from metrics import precision_at_k, recall_at_k"
      ]
    },
    {
      "cell_type": "code",
      "execution_count": null,
      "id": "2ed44a00",
      "metadata": {
        "execution": {
          "iopub.execute_input": "2022-04-19T19:00:01.415429Z",
          "iopub.status.busy": "2022-04-19T19:00:01.415104Z",
          "iopub.status.idle": "2022-04-19T19:00:06.552222Z",
          "shell.execute_reply": "2022-04-19T19:00:06.551558Z"
        },
        "id": "2ed44a00",
        "outputId": "a3a22636-04a2-4ad4-9774-e0c5cbcd6a09",
        "papermill": {
          "duration": 5.219613,
          "end_time": "2022-04-19T19:00:06.555274",
          "exception": false,
          "start_time": "2022-04-19T19:00:01.335661",
          "status": "completed"
        },
        "tags": []
      },
      "outputs": [
        {
          "data": {
            "text/html": [
              "<div>\n",
              "<style scoped>\n",
              "    .dataframe tbody tr th:only-of-type {\n",
              "        vertical-align: middle;\n",
              "    }\n",
              "\n",
              "    .dataframe tbody tr th {\n",
              "        vertical-align: top;\n",
              "    }\n",
              "\n",
              "    .dataframe thead th {\n",
              "        text-align: right;\n",
              "    }\n",
              "</style>\n",
              "<table border=\"1\" class=\"dataframe\">\n",
              "  <thead>\n",
              "    <tr style=\"text-align: right;\">\n",
              "      <th></th>\n",
              "      <th>user_id</th>\n",
              "      <th>basket_id</th>\n",
              "      <th>day</th>\n",
              "      <th>item_id</th>\n",
              "      <th>quantity</th>\n",
              "      <th>sales_value</th>\n",
              "      <th>store_id</th>\n",
              "      <th>retail_disc</th>\n",
              "      <th>trans_time</th>\n",
              "      <th>week_no</th>\n",
              "      <th>coupon_disc</th>\n",
              "      <th>coupon_match_disc</th>\n",
              "    </tr>\n",
              "  </thead>\n",
              "  <tbody>\n",
              "    <tr>\n",
              "      <th>0</th>\n",
              "      <td>2375</td>\n",
              "      <td>26984851472</td>\n",
              "      <td>1</td>\n",
              "      <td>1004906</td>\n",
              "      <td>1</td>\n",
              "      <td>1.39</td>\n",
              "      <td>364</td>\n",
              "      <td>-0.60</td>\n",
              "      <td>1631</td>\n",
              "      <td>1</td>\n",
              "      <td>0.0</td>\n",
              "      <td>0.0</td>\n",
              "    </tr>\n",
              "    <tr>\n",
              "      <th>1</th>\n",
              "      <td>2375</td>\n",
              "      <td>26984851472</td>\n",
              "      <td>1</td>\n",
              "      <td>1033142</td>\n",
              "      <td>1</td>\n",
              "      <td>0.82</td>\n",
              "      <td>364</td>\n",
              "      <td>0.00</td>\n",
              "      <td>1631</td>\n",
              "      <td>1</td>\n",
              "      <td>0.0</td>\n",
              "      <td>0.0</td>\n",
              "    </tr>\n",
              "    <tr>\n",
              "      <th>2</th>\n",
              "      <td>2375</td>\n",
              "      <td>26984851472</td>\n",
              "      <td>1</td>\n",
              "      <td>1036325</td>\n",
              "      <td>1</td>\n",
              "      <td>0.99</td>\n",
              "      <td>364</td>\n",
              "      <td>-0.30</td>\n",
              "      <td>1631</td>\n",
              "      <td>1</td>\n",
              "      <td>0.0</td>\n",
              "      <td>0.0</td>\n",
              "    </tr>\n",
              "    <tr>\n",
              "      <th>3</th>\n",
              "      <td>2375</td>\n",
              "      <td>26984851472</td>\n",
              "      <td>1</td>\n",
              "      <td>1082185</td>\n",
              "      <td>1</td>\n",
              "      <td>1.21</td>\n",
              "      <td>364</td>\n",
              "      <td>0.00</td>\n",
              "      <td>1631</td>\n",
              "      <td>1</td>\n",
              "      <td>0.0</td>\n",
              "      <td>0.0</td>\n",
              "    </tr>\n",
              "    <tr>\n",
              "      <th>4</th>\n",
              "      <td>2375</td>\n",
              "      <td>26984851472</td>\n",
              "      <td>1</td>\n",
              "      <td>8160430</td>\n",
              "      <td>1</td>\n",
              "      <td>1.50</td>\n",
              "      <td>364</td>\n",
              "      <td>-0.39</td>\n",
              "      <td>1631</td>\n",
              "      <td>1</td>\n",
              "      <td>0.0</td>\n",
              "      <td>0.0</td>\n",
              "    </tr>\n",
              "    <tr>\n",
              "      <th>5</th>\n",
              "      <td>2375</td>\n",
              "      <td>26984851516</td>\n",
              "      <td>1</td>\n",
              "      <td>826249</td>\n",
              "      <td>2</td>\n",
              "      <td>1.98</td>\n",
              "      <td>364</td>\n",
              "      <td>-0.60</td>\n",
              "      <td>1642</td>\n",
              "      <td>1</td>\n",
              "      <td>0.0</td>\n",
              "      <td>0.0</td>\n",
              "    </tr>\n",
              "    <tr>\n",
              "      <th>6</th>\n",
              "      <td>2375</td>\n",
              "      <td>26984851516</td>\n",
              "      <td>1</td>\n",
              "      <td>1043142</td>\n",
              "      <td>1</td>\n",
              "      <td>1.57</td>\n",
              "      <td>364</td>\n",
              "      <td>-0.68</td>\n",
              "      <td>1642</td>\n",
              "      <td>1</td>\n",
              "      <td>0.0</td>\n",
              "      <td>0.0</td>\n",
              "    </tr>\n",
              "    <tr>\n",
              "      <th>7</th>\n",
              "      <td>2375</td>\n",
              "      <td>26984851516</td>\n",
              "      <td>1</td>\n",
              "      <td>1085983</td>\n",
              "      <td>1</td>\n",
              "      <td>2.99</td>\n",
              "      <td>364</td>\n",
              "      <td>-0.40</td>\n",
              "      <td>1642</td>\n",
              "      <td>1</td>\n",
              "      <td>0.0</td>\n",
              "      <td>0.0</td>\n",
              "    </tr>\n",
              "    <tr>\n",
              "      <th>8</th>\n",
              "      <td>2375</td>\n",
              "      <td>26984851516</td>\n",
              "      <td>1</td>\n",
              "      <td>1102651</td>\n",
              "      <td>1</td>\n",
              "      <td>1.89</td>\n",
              "      <td>364</td>\n",
              "      <td>0.00</td>\n",
              "      <td>1642</td>\n",
              "      <td>1</td>\n",
              "      <td>0.0</td>\n",
              "      <td>0.0</td>\n",
              "    </tr>\n",
              "    <tr>\n",
              "      <th>9</th>\n",
              "      <td>2375</td>\n",
              "      <td>26984851516</td>\n",
              "      <td>1</td>\n",
              "      <td>6423775</td>\n",
              "      <td>1</td>\n",
              "      <td>2.00</td>\n",
              "      <td>364</td>\n",
              "      <td>-0.79</td>\n",
              "      <td>1642</td>\n",
              "      <td>1</td>\n",
              "      <td>0.0</td>\n",
              "      <td>0.0</td>\n",
              "    </tr>\n",
              "  </tbody>\n",
              "</table>\n",
              "</div>"
            ],
            "text/plain": [
              "   user_id    basket_id  day  item_id  quantity  sales_value  store_id  \\\n",
              "0     2375  26984851472    1  1004906         1         1.39       364   \n",
              "1     2375  26984851472    1  1033142         1         0.82       364   \n",
              "2     2375  26984851472    1  1036325         1         0.99       364   \n",
              "3     2375  26984851472    1  1082185         1         1.21       364   \n",
              "4     2375  26984851472    1  8160430         1         1.50       364   \n",
              "5     2375  26984851516    1   826249         2         1.98       364   \n",
              "6     2375  26984851516    1  1043142         1         1.57       364   \n",
              "7     2375  26984851516    1  1085983         1         2.99       364   \n",
              "8     2375  26984851516    1  1102651         1         1.89       364   \n",
              "9     2375  26984851516    1  6423775         1         2.00       364   \n",
              "\n",
              "   retail_disc  trans_time  week_no  coupon_disc  coupon_match_disc  \n",
              "0        -0.60        1631        1          0.0                0.0  \n",
              "1         0.00        1631        1          0.0                0.0  \n",
              "2        -0.30        1631        1          0.0                0.0  \n",
              "3         0.00        1631        1          0.0                0.0  \n",
              "4        -0.39        1631        1          0.0                0.0  \n",
              "5        -0.60        1642        1          0.0                0.0  \n",
              "6        -0.68        1642        1          0.0                0.0  \n",
              "7        -0.40        1642        1          0.0                0.0  \n",
              "8         0.00        1642        1          0.0                0.0  \n",
              "9        -0.79        1642        1          0.0                0.0  "
            ]
          },
          "execution_count": 3,
          "metadata": {},
          "output_type": "execute_result"
        }
      ],
      "source": [
        "data = pd.read_csv('../input/implicit/retail_train.csv')\n",
        "\n",
        "data.columns = [col.lower() for col in data.columns]\n",
        "data.rename(columns={'household_key': 'user_id',\n",
        "                    'product_id': 'item_id'},\n",
        "           inplace=True)\n",
        "\n",
        "\n",
        "test_size_weeks = 3\n",
        "\n",
        "data_train = data[data['week_no'] < data['week_no'].max() - test_size_weeks]\n",
        "data_test = data[data['week_no'] >= data['week_no'].max() - test_size_weeks]\n",
        "\n",
        "data_train.head(10)"
      ]
    },
    {
      "cell_type": "code",
      "execution_count": null,
      "id": "f9cd2d90",
      "metadata": {
        "execution": {
          "iopub.execute_input": "2022-04-19T19:00:06.715349Z",
          "iopub.status.busy": "2022-04-19T19:00:06.715024Z",
          "iopub.status.idle": "2022-04-19T19:00:06.948927Z",
          "shell.execute_reply": "2022-04-19T19:00:06.948048Z"
        },
        "id": "f9cd2d90",
        "outputId": "75eeddbb-bdc1-401e-bfcf-6a66ae46b3a3",
        "papermill": {
          "duration": 0.316959,
          "end_time": "2022-04-19T19:00:06.951080",
          "exception": false,
          "start_time": "2022-04-19T19:00:06.634121",
          "status": "completed"
        },
        "tags": []
      },
      "outputs": [
        {
          "data": {
            "text/html": [
              "<div>\n",
              "<style scoped>\n",
              "    .dataframe tbody tr th:only-of-type {\n",
              "        vertical-align: middle;\n",
              "    }\n",
              "\n",
              "    .dataframe tbody tr th {\n",
              "        vertical-align: top;\n",
              "    }\n",
              "\n",
              "    .dataframe thead th {\n",
              "        text-align: right;\n",
              "    }\n",
              "</style>\n",
              "<table border=\"1\" class=\"dataframe\">\n",
              "  <thead>\n",
              "    <tr style=\"text-align: right;\">\n",
              "      <th></th>\n",
              "      <th>item_id</th>\n",
              "      <th>manufacturer</th>\n",
              "      <th>department</th>\n",
              "      <th>brand</th>\n",
              "      <th>commodity_desc</th>\n",
              "      <th>sub_commodity_desc</th>\n",
              "      <th>curr_size_of_product</th>\n",
              "    </tr>\n",
              "  </thead>\n",
              "  <tbody>\n",
              "    <tr>\n",
              "      <th>0</th>\n",
              "      <td>25671</td>\n",
              "      <td>2</td>\n",
              "      <td>GROCERY</td>\n",
              "      <td>National</td>\n",
              "      <td>FRZN ICE</td>\n",
              "      <td>ICE - CRUSHED/CUBED</td>\n",
              "      <td>22 LB</td>\n",
              "    </tr>\n",
              "    <tr>\n",
              "      <th>1</th>\n",
              "      <td>26081</td>\n",
              "      <td>2</td>\n",
              "      <td>MISC. TRANS.</td>\n",
              "      <td>National</td>\n",
              "      <td>NO COMMODITY DESCRIPTION</td>\n",
              "      <td>NO SUBCOMMODITY DESCRIPTION</td>\n",
              "      <td></td>\n",
              "    </tr>\n",
              "  </tbody>\n",
              "</table>\n",
              "</div>"
            ],
            "text/plain": [
              "   item_id  manufacturer    department     brand            commodity_desc  \\\n",
              "0    25671             2       GROCERY  National                  FRZN ICE   \n",
              "1    26081             2  MISC. TRANS.  National  NO COMMODITY DESCRIPTION   \n",
              "\n",
              "            sub_commodity_desc curr_size_of_product  \n",
              "0          ICE - CRUSHED/CUBED                22 LB  \n",
              "1  NO SUBCOMMODITY DESCRIPTION                       "
            ]
          },
          "execution_count": 4,
          "metadata": {},
          "output_type": "execute_result"
        }
      ],
      "source": [
        "item_features = pd.read_csv('../input/implivit11/product.csv')\n",
        "item_features.columns = [col.lower() for col in item_features.columns]\n",
        "item_features.rename(columns={'product_id': 'item_id'}, inplace=True)\n",
        "\n",
        "item_features.head(2)"
      ]
    },
    {
      "cell_type": "code",
      "execution_count": null,
      "id": "b7a91755",
      "metadata": {
        "execution": {
          "iopub.execute_input": "2022-04-19T19:00:07.113444Z",
          "iopub.status.busy": "2022-04-19T19:00:07.113113Z",
          "iopub.status.idle": "2022-04-19T19:00:07.128550Z",
          "shell.execute_reply": "2022-04-19T19:00:07.127549Z"
        },
        "id": "b7a91755",
        "outputId": "7728607d-5b4d-4ce8-f30f-79072af648d2",
        "papermill": {
          "duration": 0.100581,
          "end_time": "2022-04-19T19:00:07.131009",
          "exception": false,
          "start_time": "2022-04-19T19:00:07.030428",
          "status": "completed"
        },
        "scrolled": true,
        "tags": []
      },
      "outputs": [
        {
          "data": {
            "text/plain": [
              "array(['GROCERY', 'MISC. TRANS.', 'PASTRY', 'DRUG GM', 'MEAT-PCKGD',\n",
              "       'SEAFOOD-PCKGD', 'PRODUCE', 'NUTRITION', 'DELI', 'COSMETICS',\n",
              "       'MEAT', 'FLORAL', 'TRAVEL & LEISUR', 'SEAFOOD', 'MISC SALES TRAN',\n",
              "       'SALAD BAR', 'KIOSK-GAS', 'ELECT &PLUMBING', 'GRO BAKERY',\n",
              "       'GM MERCH EXP', 'FROZEN GROCERY', 'COUP/STR & MFG', 'SPIRITS',\n",
              "       'GARDEN CENTER', 'TOYS', 'CHARITABLE CONT', 'RESTAURANT', 'RX',\n",
              "       'PROD-WHS SALES', 'MEAT-WHSE', 'DAIRY DELI', 'CHEF SHOPPE', 'HBC',\n",
              "       'DELI/SNACK BAR', 'PORK', 'AUTOMOTIVE', 'VIDEO RENTAL', ' ',\n",
              "       'CNTRL/STORE SUP', 'HOUSEWARES', 'POSTAL CENTER', 'PHOTO', 'VIDEO',\n",
              "       'PHARMACY SUPPLY'], dtype=object)"
            ]
          },
          "execution_count": 5,
          "metadata": {},
          "output_type": "execute_result"
        }
      ],
      "source": [
        "item_features.department.unique()"
      ]
    },
    {
      "cell_type": "code",
      "execution_count": null,
      "id": "7da4a3cc",
      "metadata": {
        "execution": {
          "iopub.execute_input": "2022-04-19T19:00:07.289361Z",
          "iopub.status.busy": "2022-04-19T19:00:07.289055Z",
          "iopub.status.idle": "2022-04-19T19:00:07.413719Z",
          "shell.execute_reply": "2022-04-19T19:00:07.412792Z"
        },
        "id": "7da4a3cc",
        "outputId": "612dfe1f-286b-4d81-af92-721c6e317b6c",
        "papermill": {
          "duration": 0.206371,
          "end_time": "2022-04-19T19:00:07.415799",
          "exception": false,
          "start_time": "2022-04-19T19:00:07.209428",
          "status": "completed"
        },
        "tags": []
      },
      "outputs": [
        {
          "data": {
            "text/html": [
              "<div>\n",
              "<style scoped>\n",
              "    .dataframe tbody tr th:only-of-type {\n",
              "        vertical-align: middle;\n",
              "    }\n",
              "\n",
              "    .dataframe tbody tr th {\n",
              "        vertical-align: top;\n",
              "    }\n",
              "\n",
              "    .dataframe thead th {\n",
              "        text-align: right;\n",
              "    }\n",
              "</style>\n",
              "<table border=\"1\" class=\"dataframe\">\n",
              "  <thead>\n",
              "    <tr style=\"text-align: right;\">\n",
              "      <th></th>\n",
              "      <th>user_id</th>\n",
              "      <th>actual</th>\n",
              "    </tr>\n",
              "  </thead>\n",
              "  <tbody>\n",
              "    <tr>\n",
              "      <th>0</th>\n",
              "      <td>1</td>\n",
              "      <td>[821867, 834484, 856942, 865456, 889248, 90795...</td>\n",
              "    </tr>\n",
              "    <tr>\n",
              "      <th>1</th>\n",
              "      <td>3</td>\n",
              "      <td>[835476, 851057, 872021, 878302, 879948, 90963...</td>\n",
              "    </tr>\n",
              "  </tbody>\n",
              "</table>\n",
              "</div>"
            ],
            "text/plain": [
              "   user_id                                             actual\n",
              "0        1  [821867, 834484, 856942, 865456, 889248, 90795...\n",
              "1        3  [835476, 851057, 872021, 878302, 879948, 90963..."
            ]
          },
          "execution_count": 6,
          "metadata": {},
          "output_type": "execute_result"
        }
      ],
      "source": [
        "result = data_test.groupby('user_id')['item_id'].unique().reset_index()\n",
        "result.columns=['user_id', 'actual']\n",
        "result.head(2)"
      ]
    },
    {
      "cell_type": "code",
      "execution_count": null,
      "id": "cf9049db",
      "metadata": {
        "execution": {
          "iopub.execute_input": "2022-04-19T19:00:07.576659Z",
          "iopub.status.busy": "2022-04-19T19:00:07.576336Z",
          "iopub.status.idle": "2022-04-19T19:00:07.740649Z",
          "shell.execute_reply": "2022-04-19T19:00:07.739791Z"
        },
        "id": "cf9049db",
        "papermill": {
          "duration": 0.24805,
          "end_time": "2022-04-19T19:00:07.743222",
          "exception": false,
          "start_time": "2022-04-19T19:00:07.495172",
          "status": "completed"
        },
        "tags": []
      },
      "outputs": [],
      "source": [
        "popularity = data_train.groupby('item_id')['quantity'].sum().reset_index()\n",
        "popularity.rename(columns={'quantity': 'n_sold'}, inplace=True)\n",
        "\n",
        "top_5000 = popularity.sort_values('n_sold', ascending=False).head(5000).item_id.tolist()"
      ]
    },
    {
      "cell_type": "code",
      "execution_count": null,
      "id": "e22a89fd",
      "metadata": {
        "execution": {
          "iopub.execute_input": "2022-04-19T19:00:07.908730Z",
          "iopub.status.busy": "2022-04-19T19:00:07.908364Z",
          "iopub.status.idle": "2022-04-19T19:00:07.927766Z",
          "shell.execute_reply": "2022-04-19T19:00:07.926651Z"
        },
        "papermill": {
          "duration": 0.106547,
          "end_time": "2022-04-19T19:00:07.930437",
          "exception": false,
          "start_time": "2022-04-19T19:00:07.823890",
          "status": "completed"
        },
        "tags": [],
        "id": "e22a89fd",
        "outputId": "91d3ba8d-d02d-4b5c-c29e-8ffe376146a0"
      },
      "outputs": [
        {
          "data": {
            "text/html": [
              "<div>\n",
              "<style scoped>\n",
              "    .dataframe tbody tr th:only-of-type {\n",
              "        vertical-align: middle;\n",
              "    }\n",
              "\n",
              "    .dataframe tbody tr th {\n",
              "        vertical-align: top;\n",
              "    }\n",
              "\n",
              "    .dataframe thead th {\n",
              "        text-align: right;\n",
              "    }\n",
              "</style>\n",
              "<table border=\"1\" class=\"dataframe\">\n",
              "  <thead>\n",
              "    <tr style=\"text-align: right;\">\n",
              "      <th></th>\n",
              "      <th>user_id</th>\n",
              "      <th>basket_id</th>\n",
              "      <th>day</th>\n",
              "      <th>item_id</th>\n",
              "      <th>quantity</th>\n",
              "      <th>sales_value</th>\n",
              "      <th>store_id</th>\n",
              "      <th>retail_disc</th>\n",
              "      <th>trans_time</th>\n",
              "      <th>week_no</th>\n",
              "      <th>coupon_disc</th>\n",
              "      <th>coupon_match_disc</th>\n",
              "    </tr>\n",
              "  </thead>\n",
              "  <tbody>\n",
              "    <tr>\n",
              "      <th>0</th>\n",
              "      <td>2375</td>\n",
              "      <td>26984851472</td>\n",
              "      <td>1</td>\n",
              "      <td>1004906</td>\n",
              "      <td>1</td>\n",
              "      <td>1.39</td>\n",
              "      <td>364</td>\n",
              "      <td>-0.60</td>\n",
              "      <td>1631</td>\n",
              "      <td>1</td>\n",
              "      <td>0.0</td>\n",
              "      <td>0.0</td>\n",
              "    </tr>\n",
              "    <tr>\n",
              "      <th>1</th>\n",
              "      <td>2375</td>\n",
              "      <td>26984851472</td>\n",
              "      <td>1</td>\n",
              "      <td>1033142</td>\n",
              "      <td>1</td>\n",
              "      <td>0.82</td>\n",
              "      <td>364</td>\n",
              "      <td>0.00</td>\n",
              "      <td>1631</td>\n",
              "      <td>1</td>\n",
              "      <td>0.0</td>\n",
              "      <td>0.0</td>\n",
              "    </tr>\n",
              "    <tr>\n",
              "      <th>2</th>\n",
              "      <td>2375</td>\n",
              "      <td>26984851472</td>\n",
              "      <td>1</td>\n",
              "      <td>1036325</td>\n",
              "      <td>1</td>\n",
              "      <td>0.99</td>\n",
              "      <td>364</td>\n",
              "      <td>-0.30</td>\n",
              "      <td>1631</td>\n",
              "      <td>1</td>\n",
              "      <td>0.0</td>\n",
              "      <td>0.0</td>\n",
              "    </tr>\n",
              "    <tr>\n",
              "      <th>3</th>\n",
              "      <td>2375</td>\n",
              "      <td>26984851472</td>\n",
              "      <td>1</td>\n",
              "      <td>1082185</td>\n",
              "      <td>1</td>\n",
              "      <td>1.21</td>\n",
              "      <td>364</td>\n",
              "      <td>0.00</td>\n",
              "      <td>1631</td>\n",
              "      <td>1</td>\n",
              "      <td>0.0</td>\n",
              "      <td>0.0</td>\n",
              "    </tr>\n",
              "    <tr>\n",
              "      <th>4</th>\n",
              "      <td>2375</td>\n",
              "      <td>26984851472</td>\n",
              "      <td>1</td>\n",
              "      <td>8160430</td>\n",
              "      <td>1</td>\n",
              "      <td>1.50</td>\n",
              "      <td>364</td>\n",
              "      <td>-0.39</td>\n",
              "      <td>1631</td>\n",
              "      <td>1</td>\n",
              "      <td>0.0</td>\n",
              "      <td>0.0</td>\n",
              "    </tr>\n",
              "  </tbody>\n",
              "</table>\n",
              "</div>"
            ],
            "text/plain": [
              "   user_id    basket_id  day  item_id  quantity  sales_value  store_id  \\\n",
              "0     2375  26984851472    1  1004906         1         1.39       364   \n",
              "1     2375  26984851472    1  1033142         1         0.82       364   \n",
              "2     2375  26984851472    1  1036325         1         0.99       364   \n",
              "3     2375  26984851472    1  1082185         1         1.21       364   \n",
              "4     2375  26984851472    1  8160430         1         1.50       364   \n",
              "\n",
              "   retail_disc  trans_time  week_no  coupon_disc  coupon_match_disc  \n",
              "0        -0.60        1631        1          0.0                0.0  \n",
              "1         0.00        1631        1          0.0                0.0  \n",
              "2        -0.30        1631        1          0.0                0.0  \n",
              "3         0.00        1631        1          0.0                0.0  \n",
              "4        -0.39        1631        1          0.0                0.0  "
            ]
          },
          "execution_count": 8,
          "metadata": {},
          "output_type": "execute_result"
        }
      ],
      "source": [
        "data_train.head(5)"
      ]
    },
    {
      "cell_type": "code",
      "execution_count": null,
      "id": "1301950b",
      "metadata": {
        "execution": {
          "iopub.execute_input": "2022-04-19T19:00:08.099959Z",
          "iopub.status.busy": "2022-04-19T19:00:08.099645Z",
          "iopub.status.idle": "2022-04-19T19:00:11.556358Z",
          "shell.execute_reply": "2022-04-19T19:00:11.555243Z"
        },
        "id": "1301950b",
        "outputId": "ebf07e9a-6f11-4aa9-d43d-98c0055ec42d",
        "papermill": {
          "duration": 3.541721,
          "end_time": "2022-04-19T19:00:11.558791",
          "exception": false,
          "start_time": "2022-04-19T19:00:08.017070",
          "status": "completed"
        },
        "tags": []
      },
      "outputs": [
        {
          "name": "stderr",
          "output_type": "stream",
          "text": [
            "/opt/conda/lib/python3.7/site-packages/pandas/core/indexing.py:1817: SettingWithCopyWarning: \n",
            "A value is trying to be set on a copy of a slice from a DataFrame.\n",
            "Try using .loc[row_indexer,col_indexer] = value instead\n",
            "\n",
            "See the caveats in the documentation: https://pandas.pydata.org/pandas-docs/stable/user_guide/indexing.html#returning-a-view-versus-a-copy\n",
            "  self._setitem_single_column(loc, value, pi)\n"
          ]
        },
        {
          "data": {
            "text/html": [
              "<div>\n",
              "<style scoped>\n",
              "    .dataframe tbody tr th:only-of-type {\n",
              "        vertical-align: middle;\n",
              "    }\n",
              "\n",
              "    .dataframe tbody tr th {\n",
              "        vertical-align: top;\n",
              "    }\n",
              "\n",
              "    .dataframe thead th {\n",
              "        text-align: right;\n",
              "    }\n",
              "</style>\n",
              "<table border=\"1\" class=\"dataframe\">\n",
              "  <thead>\n",
              "    <tr style=\"text-align: right;\">\n",
              "      <th>item_id</th>\n",
              "      <th>202291</th>\n",
              "      <th>397896</th>\n",
              "      <th>420647</th>\n",
              "      <th>480014</th>\n",
              "      <th>545926</th>\n",
              "      <th>707683</th>\n",
              "      <th>731106</th>\n",
              "      <th>818980</th>\n",
              "      <th>819063</th>\n",
              "      <th>819227</th>\n",
              "      <th>...</th>\n",
              "      <th>15778533</th>\n",
              "      <th>15831255</th>\n",
              "      <th>15926712</th>\n",
              "      <th>15926775</th>\n",
              "      <th>15926844</th>\n",
              "      <th>15926886</th>\n",
              "      <th>15927403</th>\n",
              "      <th>15927661</th>\n",
              "      <th>15927850</th>\n",
              "      <th>16809471</th>\n",
              "    </tr>\n",
              "    <tr>\n",
              "      <th>user_id</th>\n",
              "      <th></th>\n",
              "      <th></th>\n",
              "      <th></th>\n",
              "      <th></th>\n",
              "      <th></th>\n",
              "      <th></th>\n",
              "      <th></th>\n",
              "      <th></th>\n",
              "      <th></th>\n",
              "      <th></th>\n",
              "      <th></th>\n",
              "      <th></th>\n",
              "      <th></th>\n",
              "      <th></th>\n",
              "      <th></th>\n",
              "      <th></th>\n",
              "      <th></th>\n",
              "      <th></th>\n",
              "      <th></th>\n",
              "      <th></th>\n",
              "      <th></th>\n",
              "    </tr>\n",
              "  </thead>\n",
              "  <tbody>\n",
              "    <tr>\n",
              "      <th>1</th>\n",
              "      <td>0.0</td>\n",
              "      <td>0.0</td>\n",
              "      <td>0.0</td>\n",
              "      <td>0.0</td>\n",
              "      <td>0.0</td>\n",
              "      <td>0.0</td>\n",
              "      <td>0.0</td>\n",
              "      <td>0.0</td>\n",
              "      <td>0.0</td>\n",
              "      <td>0.0</td>\n",
              "      <td>...</td>\n",
              "      <td>0.0</td>\n",
              "      <td>0.0</td>\n",
              "      <td>0.0</td>\n",
              "      <td>0.0</td>\n",
              "      <td>1.0</td>\n",
              "      <td>0.0</td>\n",
              "      <td>0.0</td>\n",
              "      <td>0.0</td>\n",
              "      <td>0.0</td>\n",
              "      <td>0.0</td>\n",
              "    </tr>\n",
              "    <tr>\n",
              "      <th>2</th>\n",
              "      <td>0.0</td>\n",
              "      <td>0.0</td>\n",
              "      <td>0.0</td>\n",
              "      <td>0.0</td>\n",
              "      <td>0.0</td>\n",
              "      <td>0.0</td>\n",
              "      <td>0.0</td>\n",
              "      <td>0.0</td>\n",
              "      <td>0.0</td>\n",
              "      <td>0.0</td>\n",
              "      <td>...</td>\n",
              "      <td>0.0</td>\n",
              "      <td>0.0</td>\n",
              "      <td>0.0</td>\n",
              "      <td>0.0</td>\n",
              "      <td>0.0</td>\n",
              "      <td>0.0</td>\n",
              "      <td>0.0</td>\n",
              "      <td>0.0</td>\n",
              "      <td>0.0</td>\n",
              "      <td>0.0</td>\n",
              "    </tr>\n",
              "    <tr>\n",
              "      <th>3</th>\n",
              "      <td>0.0</td>\n",
              "      <td>0.0</td>\n",
              "      <td>0.0</td>\n",
              "      <td>0.0</td>\n",
              "      <td>0.0</td>\n",
              "      <td>0.0</td>\n",
              "      <td>0.0</td>\n",
              "      <td>0.0</td>\n",
              "      <td>0.0</td>\n",
              "      <td>0.0</td>\n",
              "      <td>...</td>\n",
              "      <td>0.0</td>\n",
              "      <td>0.0</td>\n",
              "      <td>0.0</td>\n",
              "      <td>0.0</td>\n",
              "      <td>0.0</td>\n",
              "      <td>0.0</td>\n",
              "      <td>0.0</td>\n",
              "      <td>0.0</td>\n",
              "      <td>0.0</td>\n",
              "      <td>0.0</td>\n",
              "    </tr>\n",
              "  </tbody>\n",
              "</table>\n",
              "<p>3 rows × 5001 columns</p>\n",
              "</div>"
            ],
            "text/plain": [
              "item_id  202291    397896    420647    480014    545926    707683    731106    \\\n",
              "user_id                                                                         \n",
              "1             0.0       0.0       0.0       0.0       0.0       0.0       0.0   \n",
              "2             0.0       0.0       0.0       0.0       0.0       0.0       0.0   \n",
              "3             0.0       0.0       0.0       0.0       0.0       0.0       0.0   \n",
              "\n",
              "item_id  818980    819063    819227    ...  15778533  15831255  15926712  \\\n",
              "user_id                                ...                                 \n",
              "1             0.0       0.0       0.0  ...       0.0       0.0       0.0   \n",
              "2             0.0       0.0       0.0  ...       0.0       0.0       0.0   \n",
              "3             0.0       0.0       0.0  ...       0.0       0.0       0.0   \n",
              "\n",
              "item_id  15926775  15926844  15926886  15927403  15927661  15927850  16809471  \n",
              "user_id                                                                        \n",
              "1             0.0       1.0       0.0       0.0       0.0       0.0       0.0  \n",
              "2             0.0       0.0       0.0       0.0       0.0       0.0       0.0  \n",
              "3             0.0       0.0       0.0       0.0       0.0       0.0       0.0  \n",
              "\n",
              "[3 rows x 5001 columns]"
            ]
          },
          "execution_count": 9,
          "metadata": {},
          "output_type": "execute_result"
        }
      ],
      "source": [
        "# Заведем фиктивный item_id\n",
        "\n",
        "data_train.loc[~data_train['item_id'].isin(top_5000), 'item_id'] = 999_999\n",
        "\n",
        "user_item_matrix = pd.pivot_table(data_train, \n",
        "                                  index='user_id', columns='item_id', \n",
        "                                  values='quantity', # Можно пробоват ьдругие варианты\n",
        "                                  aggfunc='count', \n",
        "                                  fill_value=0\n",
        "                                 )\n",
        "\n",
        "user_item_matrix = user_item_matrix.astype(float) # необходимый тип матрицы для implicit\n",
        "\n",
        "# переведем в формат saprse matrix\n",
        "sparse_user_item = csr_matrix(user_item_matrix)\n",
        "\n",
        "user_item_matrix.head(3)"
      ]
    },
    {
      "cell_type": "code",
      "execution_count": null,
      "id": "e2822515",
      "metadata": {
        "execution": {
          "iopub.execute_input": "2022-04-19T19:00:11.727007Z",
          "iopub.status.busy": "2022-04-19T19:00:11.726014Z",
          "iopub.status.idle": "2022-04-19T19:00:11.737493Z",
          "shell.execute_reply": "2022-04-19T19:00:11.736534Z"
        },
        "id": "e2822515",
        "papermill": {
          "duration": 0.097266,
          "end_time": "2022-04-19T19:00:11.739916",
          "exception": false,
          "start_time": "2022-04-19T19:00:11.642650",
          "status": "completed"
        },
        "tags": []
      },
      "outputs": [],
      "source": [
        "userids = user_item_matrix.index.values\n",
        "itemids = user_item_matrix.columns.values\n",
        "\n",
        "matrix_userids = np.arange(len(userids))\n",
        "matrix_itemids = np.arange(len(itemids))\n",
        "\n",
        "id_to_itemid = dict(zip(matrix_itemids, itemids))\n",
        "id_to_userid = dict(zip(matrix_userids, userids))\n",
        "\n",
        "itemid_to_id = dict(zip(itemids, matrix_itemids))\n",
        "userid_to_id = dict(zip(userids, matrix_userids))"
      ]
    },
    {
      "cell_type": "markdown",
      "id": "1bd42cec",
      "metadata": {
        "papermill": {
          "duration": 0.080524,
          "end_time": "2022-04-19T19:00:11.903064",
          "exception": false,
          "start_time": "2022-04-19T19:00:11.822540",
          "status": "completed"
        },
        "tags": [],
        "id": "1bd42cec"
      },
      "source": [
        "# ALS"
      ]
    },
    {
      "cell_type": "code",
      "execution_count": null,
      "id": "397e3eae",
      "metadata": {
        "execution": {
          "iopub.execute_input": "2022-04-19T19:00:12.065778Z",
          "iopub.status.busy": "2022-04-19T19:00:12.065458Z",
          "iopub.status.idle": "2022-04-19T19:00:20.583314Z",
          "shell.execute_reply": "2022-04-19T19:00:20.582294Z"
        },
        "id": "397e3eae",
        "outputId": "c5207262-0dfc-4e42-91bc-e9754aad1906",
        "papermill": {
          "duration": 8.603505,
          "end_time": "2022-04-19T19:00:20.587170",
          "exception": false,
          "start_time": "2022-04-19T19:00:11.983665",
          "status": "completed"
        },
        "tags": [],
        "colab": {
          "referenced_widgets": [
            "b63b6b4aea4d421495b2210d757070c1"
          ]
        }
      },
      "outputs": [
        {
          "data": {
            "application/vnd.jupyter.widget-view+json": {
              "model_id": "b63b6b4aea4d421495b2210d757070c1",
              "version_major": 2,
              "version_minor": 0
            },
            "text/plain": [
              "  0%|          | 0/15 [00:00<?, ?it/s]"
            ]
          },
          "metadata": {},
          "output_type": "display_data"
        },
        {
          "name": "stdout",
          "output_type": "stream",
          "text": [
            "CPU times: user 21.9 s, sys: 10.6 s, total: 32.5 s\n",
            "Wall time: 8.51 s\n"
          ]
        }
      ],
      "source": [
        "%%time\n",
        "\n",
        "model = AlternatingLeastSquares(factors=64, \n",
        "                                regularization=0.05,\n",
        "                                iterations=15, \n",
        "                                calculate_training_loss=True, \n",
        "                                num_threads=10,\n",
        "                                use_gpu=False)\n",
        "\n",
        "model.fit(csr_matrix(user_item_matrix).T.tocsr(),  # На вход item-user matrix\n",
        "          show_progress=True)\n"
      ]
    },
    {
      "cell_type": "code",
      "execution_count": null,
      "id": "f9a83b17",
      "metadata": {
        "execution": {
          "iopub.execute_input": "2022-04-19T19:00:20.817357Z",
          "iopub.status.busy": "2022-04-19T19:00:20.816976Z",
          "iopub.status.idle": "2022-04-19T19:00:21.132720Z",
          "shell.execute_reply": "2022-04-19T19:00:21.131653Z"
        },
        "papermill": {
          "duration": 0.404481,
          "end_time": "2022-04-19T19:00:21.136358",
          "exception": false,
          "start_time": "2022-04-19T19:00:20.731877",
          "status": "completed"
        },
        "tags": [],
        "id": "f9a83b17"
      },
      "outputs": [],
      "source": [
        "recs = model.recommend(userid=userid_to_id[2],  # userid - id от 0 до N\n",
        "                        user_items=csr_matrix(user_item_matrix).tocsr(),   # на вход user-item matrix\n",
        "                        N=5, # кол-во рекомендаций \n",
        "                        filter_already_liked_items=False, \n",
        "                        filter_items=None, \n",
        "                        recalculate_user=True)"
      ]
    },
    {
      "cell_type": "code",
      "execution_count": null,
      "id": "34aa0a39",
      "metadata": {
        "execution": {
          "iopub.execute_input": "2022-04-19T19:00:21.353560Z",
          "iopub.status.busy": "2022-04-19T19:00:21.353281Z",
          "iopub.status.idle": "2022-04-19T19:00:21.359238Z",
          "shell.execute_reply": "2022-04-19T19:00:21.358379Z"
        },
        "id": "34aa0a39",
        "outputId": "f8ea5a18-2e98-43fe-9ec4-5a6f530bf258",
        "papermill": {
          "duration": 0.090599,
          "end_time": "2022-04-19T19:00:21.361256",
          "exception": false,
          "start_time": "2022-04-19T19:00:21.270657",
          "status": "completed"
        },
        "tags": []
      },
      "outputs": [
        {
          "data": {
            "text/plain": [
              "[999999, 1133018, 5569230, 1106523, 1082185]"
            ]
          },
          "execution_count": 13,
          "metadata": {},
          "output_type": "execute_result"
        }
      ],
      "source": [
        "[id_to_itemid[rec[0]] for rec in recs]"
      ]
    },
    {
      "cell_type": "code",
      "execution_count": null,
      "id": "a70d27d7",
      "metadata": {
        "execution": {
          "iopub.execute_input": "2022-04-19T19:00:21.526470Z",
          "iopub.status.busy": "2022-04-19T19:00:21.526125Z",
          "iopub.status.idle": "2022-04-19T19:00:21.531834Z",
          "shell.execute_reply": "2022-04-19T19:00:21.530872Z"
        },
        "id": "a70d27d7",
        "papermill": {
          "duration": 0.091686,
          "end_time": "2022-04-19T19:00:21.534008",
          "exception": false,
          "start_time": "2022-04-19T19:00:21.442322",
          "status": "completed"
        },
        "tags": []
      },
      "outputs": [],
      "source": [
        "def get_recommendations(user, model, N=5):\n",
        "    res = [id_to_itemid[rec[0]] for rec in \n",
        "                    model.recommend(userid=userid_to_id[user], \n",
        "                                    user_items=sparse_user_item,   # на вход user-item matrix\n",
        "                                    N=N, \n",
        "                                    filter_already_liked_items=False, \n",
        "                                    filter_items=None, \n",
        "                                    recalculate_user=True)]\n",
        "    return res"
      ]
    },
    {
      "cell_type": "code",
      "execution_count": null,
      "id": "ffc41b3c",
      "metadata": {
        "execution": {
          "iopub.execute_input": "2022-04-19T19:00:21.703040Z",
          "iopub.status.busy": "2022-04-19T19:00:21.702737Z",
          "iopub.status.idle": "2022-04-19T19:00:57.804358Z",
          "shell.execute_reply": "2022-04-19T19:00:57.803592Z"
        },
        "id": "ffc41b3c",
        "outputId": "a042ce17-abe1-4b75-aedb-53a3f5c8d839",
        "papermill": {
          "duration": 36.270827,
          "end_time": "2022-04-19T19:00:57.889645",
          "exception": false,
          "start_time": "2022-04-19T19:00:21.618818",
          "status": "completed"
        },
        "tags": []
      },
      "outputs": [
        {
          "name": "stdout",
          "output_type": "stream",
          "text": [
            "CPU times: user 1min 14s, sys: 1min 6s, total: 2min 21s\n",
            "Wall time: 36.1 s\n"
          ]
        },
        {
          "data": {
            "text/plain": [
              "0.16611165523996085"
            ]
          },
          "execution_count": 15,
          "metadata": {},
          "output_type": "execute_result"
        }
      ],
      "source": [
        "%%time\n",
        "    \n",
        "result['als'] = result['user_id'].apply(lambda x: get_recommendations(x, model=model, N=5))\n",
        "\n",
        "result.apply(lambda row: precision_at_k(row['als'], row['actual']), axis=1).mean()"
      ]
    },
    {
      "cell_type": "code",
      "execution_count": null,
      "id": "c0daca76",
      "metadata": {
        "execution": {
          "iopub.execute_input": "2022-04-19T19:00:58.056507Z",
          "iopub.status.busy": "2022-04-19T19:00:58.056057Z",
          "iopub.status.idle": "2022-04-19T19:00:58.068761Z",
          "shell.execute_reply": "2022-04-19T19:00:58.067847Z"
        },
        "id": "c0daca76",
        "outputId": "e040c9f0-75ff-4b9d-ab7b-329e30dc5e09",
        "papermill": {
          "duration": 0.098509,
          "end_time": "2022-04-19T19:00:58.070900",
          "exception": false,
          "start_time": "2022-04-19T19:00:57.972391",
          "status": "completed"
        },
        "tags": []
      },
      "outputs": [
        {
          "data": {
            "text/html": [
              "<div>\n",
              "<style scoped>\n",
              "    .dataframe tbody tr th:only-of-type {\n",
              "        vertical-align: middle;\n",
              "    }\n",
              "\n",
              "    .dataframe tbody tr th {\n",
              "        vertical-align: top;\n",
              "    }\n",
              "\n",
              "    .dataframe thead th {\n",
              "        text-align: right;\n",
              "    }\n",
              "</style>\n",
              "<table border=\"1\" class=\"dataframe\">\n",
              "  <thead>\n",
              "    <tr style=\"text-align: right;\">\n",
              "      <th></th>\n",
              "      <th>user_id</th>\n",
              "      <th>actual</th>\n",
              "      <th>als</th>\n",
              "    </tr>\n",
              "  </thead>\n",
              "  <tbody>\n",
              "    <tr>\n",
              "      <th>0</th>\n",
              "      <td>1</td>\n",
              "      <td>[821867, 834484, 856942, 865456, 889248, 90795...</td>\n",
              "      <td>[1051211, 1033142, 1100972, 832678, 999999]</td>\n",
              "    </tr>\n",
              "    <tr>\n",
              "      <th>1</th>\n",
              "      <td>3</td>\n",
              "      <td>[835476, 851057, 872021, 878302, 879948, 90963...</td>\n",
              "      <td>[5568378, 1106523, 951590, 910032, 1092026]</td>\n",
              "    </tr>\n",
              "  </tbody>\n",
              "</table>\n",
              "</div>"
            ],
            "text/plain": [
              "   user_id                                             actual  \\\n",
              "0        1  [821867, 834484, 856942, 865456, 889248, 90795...   \n",
              "1        3  [835476, 851057, 872021, 878302, 879948, 90963...   \n",
              "\n",
              "                                           als  \n",
              "0  [1051211, 1033142, 1100972, 832678, 999999]  \n",
              "1  [5568378, 1106523, 951590, 910032, 1092026]  "
            ]
          },
          "execution_count": 16,
          "metadata": {},
          "output_type": "execute_result"
        }
      ],
      "source": [
        "result.head(2)"
      ]
    },
    {
      "cell_type": "markdown",
      "id": "9ffbc6e0",
      "metadata": {
        "id": "9ffbc6e0",
        "papermill": {
          "duration": 0.082931,
          "end_time": "2022-04-19T19:00:58.237788",
          "exception": false,
          "start_time": "2022-04-19T19:00:58.154857",
          "status": "completed"
        },
        "tags": []
      },
      "source": [
        "### Embeddings"
      ]
    },
    {
      "cell_type": "code",
      "execution_count": null,
      "id": "5942c2f5",
      "metadata": {
        "execution": {
          "iopub.execute_input": "2022-04-19T19:00:58.406680Z",
          "iopub.status.busy": "2022-04-19T19:00:58.405888Z",
          "iopub.status.idle": "2022-04-19T19:00:58.411387Z",
          "shell.execute_reply": "2022-04-19T19:00:58.410817Z"
        },
        "id": "5942c2f5",
        "outputId": "bb1f650b-2d1c-4618-9a20-698cc98e6181",
        "papermill": {
          "duration": 0.091857,
          "end_time": "2022-04-19T19:00:58.413208",
          "exception": false,
          "start_time": "2022-04-19T19:00:58.321351",
          "status": "completed"
        },
        "tags": []
      },
      "outputs": [
        {
          "data": {
            "text/plain": [
              "(5001, 64)"
            ]
          },
          "execution_count": 17,
          "metadata": {},
          "output_type": "execute_result"
        }
      ],
      "source": [
        "model.item_factors.shape"
      ]
    },
    {
      "cell_type": "code",
      "execution_count": null,
      "id": "255eab46",
      "metadata": {
        "execution": {
          "iopub.execute_input": "2022-04-19T19:00:58.582619Z",
          "iopub.status.busy": "2022-04-19T19:00:58.582066Z",
          "iopub.status.idle": "2022-04-19T19:00:58.587424Z",
          "shell.execute_reply": "2022-04-19T19:00:58.586706Z"
        },
        "id": "255eab46",
        "outputId": "5a316e3e-554c-4a06-acab-8e4b7db454ef",
        "papermill": {
          "duration": 0.093021,
          "end_time": "2022-04-19T19:00:58.589293",
          "exception": false,
          "start_time": "2022-04-19T19:00:58.496272",
          "status": "completed"
        },
        "tags": []
      },
      "outputs": [
        {
          "data": {
            "text/plain": [
              "(2499, 64)"
            ]
          },
          "execution_count": 18,
          "metadata": {},
          "output_type": "execute_result"
        }
      ],
      "source": [
        "model.user_factors.shape"
      ]
    },
    {
      "cell_type": "code",
      "execution_count": null,
      "id": "f7bb9397",
      "metadata": {
        "execution": {
          "iopub.execute_input": "2022-04-19T19:00:58.760210Z",
          "iopub.status.busy": "2022-04-19T19:00:58.759885Z",
          "iopub.status.idle": "2022-04-19T19:00:58.763561Z",
          "shell.execute_reply": "2022-04-19T19:00:58.762675Z"
        },
        "papermill": {
          "duration": 0.092033,
          "end_time": "2022-04-19T19:00:58.765546",
          "exception": false,
          "start_time": "2022-04-19T19:00:58.673513",
          "status": "completed"
        },
        "tags": [],
        "id": "f7bb9397"
      },
      "outputs": [],
      "source": [
        "# model.rank_items()"
      ]
    },
    {
      "cell_type": "markdown",
      "id": "7a2c0718",
      "metadata": {
        "id": "7a2c0718",
        "papermill": {
          "duration": 0.086189,
          "end_time": "2022-04-19T19:00:58.935597",
          "exception": false,
          "start_time": "2022-04-19T19:00:58.849408",
          "status": "completed"
        },
        "tags": []
      },
      "source": [
        "Можно очень быстро посчитать предсказания, перемножив эти 2 матрицы"
      ]
    },
    {
      "cell_type": "code",
      "execution_count": null,
      "id": "60a40759",
      "metadata": {
        "execution": {
          "iopub.execute_input": "2022-04-19T19:00:59.107065Z",
          "iopub.status.busy": "2022-04-19T19:00:59.106757Z",
          "iopub.status.idle": "2022-04-19T19:00:59.139440Z",
          "shell.execute_reply": "2022-04-19T19:00:59.138499Z"
        },
        "id": "60a40759",
        "outputId": "6910419f-dc8a-445e-a90f-2b9ccc2fcd65",
        "papermill": {
          "duration": 0.121771,
          "end_time": "2022-04-19T19:00:59.142493",
          "exception": false,
          "start_time": "2022-04-19T19:00:59.020722",
          "status": "completed"
        },
        "tags": []
      },
      "outputs": [
        {
          "data": {
            "text/plain": [
              "(2499, 5001)"
            ]
          },
          "execution_count": 20,
          "metadata": {},
          "output_type": "execute_result"
        }
      ],
      "source": [
        "fast_recs = model.user_factors @ model.item_factors.T \n",
        "fast_recs.shape"
      ]
    },
    {
      "cell_type": "code",
      "execution_count": null,
      "id": "5a309077",
      "metadata": {
        "execution": {
          "iopub.execute_input": "2022-04-19T19:00:59.364077Z",
          "iopub.status.busy": "2022-04-19T19:00:59.363804Z",
          "iopub.status.idle": "2022-04-19T19:00:59.369450Z",
          "shell.execute_reply": "2022-04-19T19:00:59.368713Z"
        },
        "papermill": {
          "duration": 0.092778,
          "end_time": "2022-04-19T19:00:59.371360",
          "exception": false,
          "start_time": "2022-04-19T19:00:59.278582",
          "status": "completed"
        },
        "scrolled": true,
        "tags": [],
        "id": "5a309077",
        "outputId": "cd1c98c7-1d73-4ea7-84b8-d5ce3d4e2686"
      },
      "outputs": [
        {
          "data": {
            "text/plain": [
              "array([ 0.01294248,  0.05338495,  0.01419892, ...,  0.01261283,\n",
              "        0.04509171, -0.05389111], dtype=float32)"
            ]
          },
          "execution_count": 21,
          "metadata": {},
          "output_type": "execute_result"
        }
      ],
      "source": [
        "fast_recs[0,:]"
      ]
    },
    {
      "cell_type": "code",
      "execution_count": null,
      "id": "b9a62186",
      "metadata": {
        "execution": {
          "iopub.execute_input": "2022-04-19T19:00:59.569893Z",
          "iopub.status.busy": "2022-04-19T19:00:59.569596Z",
          "iopub.status.idle": "2022-04-19T19:01:36.864267Z",
          "shell.execute_reply": "2022-04-19T19:01:36.863452Z"
        },
        "papermill": {
          "duration": 37.511505,
          "end_time": "2022-04-19T19:01:36.971982",
          "exception": false,
          "start_time": "2022-04-19T19:00:59.460477",
          "status": "completed"
        },
        "tags": [],
        "colab": {
          "referenced_widgets": [
            "daab7fde910b4c82bbfcd5cd1919cd55"
          ]
        },
        "id": "b9a62186",
        "outputId": "f26c533f-1a98-4fa1-e0f4-efaae71d9756"
      },
      "outputs": [
        {
          "data": {
            "application/vnd.jupyter.widget-view+json": {
              "model_id": "daab7fde910b4c82bbfcd5cd1919cd55",
              "version_major": 2,
              "version_minor": 0
            },
            "text/plain": [
              "  0%|          | 0/2499 [00:00<?, ?it/s]"
            ]
          },
          "metadata": {},
          "output_type": "display_data"
        },
        {
          "name": "stdout",
          "output_type": "stream",
          "text": [
            "CPU times: user 1min 17s, sys: 1min 6s, total: 2min 24s\n",
            "Wall time: 37.3 s\n"
          ]
        },
        {
          "data": {
            "text/plain": [
              "array([[3031, 3616,  192,  832,  661],\n",
              "       [2757, 2307, 4346, 2148, 1178],\n",
              "       [2757, 3388,  558, 2307, 1516],\n",
              "       ...,\n",
              "       [2307, 4346, 3587, 2148,  558],\n",
              "       [2757,  300,  657, 2307, 2847],\n",
              "       [ 558, 4060, 3688, 2216, 2454]], dtype=int32)"
            ]
          },
          "execution_count": 22,
          "metadata": {},
          "output_type": "execute_result"
        }
      ],
      "source": [
        "%%time\n",
        "recommendations = model.recommend_all(N=5, \n",
        "                                      user_items=csr_matrix(user_item_matrix).tocsr(),\n",
        "                                      filter_already_liked_items=True, \n",
        "                                      filter_items=None, \n",
        "                                      recalculate_user=True,\n",
        "                                      show_progress=True,\n",
        "                                      batch_size=500)\n",
        "recommendations"
      ]
    },
    {
      "cell_type": "code",
      "execution_count": null,
      "id": "cd2dde23",
      "metadata": {
        "execution": {
          "iopub.execute_input": "2022-04-19T19:01:37.145008Z",
          "iopub.status.busy": "2022-04-19T19:01:37.144754Z",
          "iopub.status.idle": "2022-04-19T19:01:37.150058Z",
          "shell.execute_reply": "2022-04-19T19:01:37.149247Z"
        },
        "papermill": {
          "duration": 0.094792,
          "end_time": "2022-04-19T19:01:37.152418",
          "exception": false,
          "start_time": "2022-04-19T19:01:37.057626",
          "status": "completed"
        },
        "tags": [],
        "id": "cd2dde23",
        "outputId": "cf2c5bf9-53f3-4f29-8a3c-f961653ddf10"
      },
      "outputs": [
        {
          "data": {
            "text/plain": [
              "(2499, 5)"
            ]
          },
          "execution_count": 23,
          "metadata": {},
          "output_type": "execute_result"
        }
      ],
      "source": [
        "recommendations.shape"
      ]
    },
    {
      "cell_type": "markdown",
      "id": "ad7498b1",
      "metadata": {
        "papermill": {
          "duration": 0.085324,
          "end_time": "2022-04-19T19:01:37.323082",
          "exception": false,
          "start_time": "2022-04-19T19:01:37.237758",
          "status": "completed"
        },
        "tags": [],
        "id": "ad7498b1"
      },
      "source": [
        "# Попробуем визуализировать для оценки"
      ]
    },
    {
      "cell_type": "code",
      "execution_count": null,
      "id": "4f85df9a",
      "metadata": {
        "execution": {
          "iopub.execute_input": "2022-04-19T19:01:37.498423Z",
          "iopub.status.busy": "2022-04-19T19:01:37.498138Z",
          "iopub.status.idle": "2022-04-19T19:01:38.700971Z",
          "shell.execute_reply": "2022-04-19T19:01:38.700019Z"
        },
        "id": "4f85df9a",
        "papermill": {
          "duration": 1.293003,
          "end_time": "2022-04-19T19:01:38.703748",
          "exception": false,
          "start_time": "2022-04-19T19:01:37.410745",
          "status": "completed"
        },
        "tags": []
      },
      "outputs": [],
      "source": [
        "import numpy as np\n",
        "import pandas as pd\n",
        "from matplotlib.pyplot import cm\n",
        "import pickle\n",
        "\n",
        "from scipy.spatial.distance import cdist\n",
        "\n",
        "from sklearn.decomposition import PCA\n",
        "from sklearn.manifold import TSNE\n",
        "\n",
        "import seaborn as sns\n",
        "\n",
        "\n",
        "def reduce_dims(df, dims=2, method='pca'):\n",
        "    \n",
        "    assert method in ['pca', 'tsne'], 'Неверно указан метод'\n",
        "    \n",
        "    if method=='pca':\n",
        "        pca = PCA(n_components=dims)\n",
        "        components = pca.fit_transform(df)\n",
        "    elif method == 'tsne':\n",
        "        tsne = TSNE(n_components=dims, learning_rate=250, random_state=42)\n",
        "        components = tsne.fit_transform(df)\n",
        "    else:\n",
        "        print('Error')\n",
        "        \n",
        "    colnames = ['component_' + str(i) for i in range(1, dims+1)]\n",
        "    return pd.DataFrame(data = components, columns = colnames) \n",
        "\n",
        "\n",
        "def display_components_in_2D_space(components_df, labels='category', marker='D'):\n",
        "    \n",
        "    groups = components_df.groupby(labels)\n",
        "\n",
        "    # Plot\n",
        "    fig, ax = plt.subplots(figsize=(12,8))\n",
        "    ax.margins(0.05) # Optional, just adds 5% padding to the autoscaling\n",
        "    for name, group in groups:\n",
        "        ax.plot(group.component_1, group.component_2, \n",
        "                marker='o', ms=6,\n",
        "                linestyle='',\n",
        "                alpha=0.7,\n",
        "                label=name)\n",
        "    ax.legend(loc='center left', bbox_to_anchor=(1.02, 0.5))\n",
        "\n",
        "    plt.xlabel('component_1')\n",
        "    plt.ylabel('component_2') \n",
        "    plt.show()"
      ]
    },
    {
      "cell_type": "code",
      "execution_count": null,
      "id": "d7188fb8",
      "metadata": {
        "execution": {
          "iopub.execute_input": "2022-04-19T19:01:38.878116Z",
          "iopub.status.busy": "2022-04-19T19:01:38.877574Z",
          "iopub.status.idle": "2022-04-19T19:01:38.883621Z",
          "shell.execute_reply": "2022-04-19T19:01:38.882755Z"
        },
        "id": "d7188fb8",
        "outputId": "af54bb77-0188-4a4b-85bc-d0bb144c47fc",
        "papermill": {
          "duration": 0.096342,
          "end_time": "2022-04-19T19:01:38.885638",
          "exception": false,
          "start_time": "2022-04-19T19:01:38.789296",
          "status": "completed"
        },
        "tags": []
      },
      "outputs": [
        {
          "data": {
            "text/plain": [
              "(5001, 64)"
            ]
          },
          "execution_count": 25,
          "metadata": {},
          "output_type": "execute_result"
        }
      ],
      "source": [
        "model.item_factors.shape"
      ]
    },
    {
      "cell_type": "code",
      "execution_count": null,
      "id": "26fa6e36",
      "metadata": {
        "execution": {
          "iopub.execute_input": "2022-04-19T19:01:39.059954Z",
          "iopub.status.busy": "2022-04-19T19:01:39.059523Z",
          "iopub.status.idle": "2022-04-19T19:01:40.963072Z",
          "shell.execute_reply": "2022-04-19T19:01:40.962365Z"
        },
        "id": "26fa6e36",
        "papermill": {
          "duration": 1.993977,
          "end_time": "2022-04-19T19:01:40.965326",
          "exception": false,
          "start_time": "2022-04-19T19:01:38.971349",
          "status": "completed"
        },
        "tags": []
      },
      "outputs": [],
      "source": [
        "category = []\n",
        "\n",
        "for idx in range(model.item_factors.shape[0]):\n",
        "\n",
        "    try:\n",
        "        cat = item_features.loc[item_features['item_id'] == id_to_itemid[idx], 'department'].values[0]\n",
        "        category.append(cat)\n",
        "    except:\n",
        "        category.append('UNKNOWN')"
      ]
    },
    {
      "cell_type": "code",
      "execution_count": null,
      "id": "a5658bd4",
      "metadata": {
        "execution": {
          "iopub.execute_input": "2022-04-19T19:01:41.140045Z",
          "iopub.status.busy": "2022-04-19T19:01:41.139528Z",
          "iopub.status.idle": "2022-04-19T19:01:41.144837Z",
          "shell.execute_reply": "2022-04-19T19:01:41.143945Z"
        },
        "papermill": {
          "duration": 0.09695,
          "end_time": "2022-04-19T19:01:41.147734",
          "exception": false,
          "start_time": "2022-04-19T19:01:41.050784",
          "status": "completed"
        },
        "tags": [],
        "id": "a5658bd4",
        "outputId": "c5d92567-48ba-4b8a-8f6e-30598781f3e4"
      },
      "outputs": [
        {
          "name": "stdout",
          "output_type": "stream",
          "text": [
            "['MISC SALES TRAN', 'KIOSK-GAS', 'MISC SALES TRAN', 'KIOSK-GAS', 'MISC SALES TRAN', 'MISC SALES TRAN', 'KIOSK-GAS', 'GROCERY', 'GROCERY', 'GROCERY']\n"
          ]
        }
      ],
      "source": [
        "print(category[:10])"
      ]
    },
    {
      "cell_type": "code",
      "execution_count": null,
      "id": "76a24856",
      "metadata": {
        "execution": {
          "iopub.execute_input": "2022-04-19T19:01:41.322923Z",
          "iopub.status.busy": "2022-04-19T19:01:41.322130Z",
          "iopub.status.idle": "2022-04-19T19:02:16.311927Z",
          "shell.execute_reply": "2022-04-19T19:02:16.311255Z"
        },
        "id": "76a24856",
        "outputId": "9f7f6460-25fc-4d01-b1c0-37854888c692",
        "papermill": {
          "duration": 35.179229,
          "end_time": "2022-04-19T19:02:16.414037",
          "exception": false,
          "start_time": "2022-04-19T19:01:41.234808",
          "status": "completed"
        },
        "tags": []
      },
      "outputs": [
        {
          "name": "stderr",
          "output_type": "stream",
          "text": [
            "/opt/conda/lib/python3.7/site-packages/sklearn/manifold/_t_sne.py:783: FutureWarning: The default initialization in TSNE will change from 'random' to 'pca' in 1.2.\n",
            "  FutureWarning,\n"
          ]
        },
        {
          "data": {
            "image/png": "[encoded data removed]",
            "text/plain": [
              "<Figure size 864x576 with 1 Axes>"
            ]
          },
          "metadata": {
            "needs_background": "light"
          },
          "output_type": "display_data"
        },
        {
          "name": "stdout",
          "output_type": "stream",
          "text": [
            "CPU times: user 2min 14s, sys: 848 ms, total: 2min 15s\n",
            "Wall time: 35 s\n"
          ]
        }
      ],
      "source": [
        "%%time\n",
        "item_emb_tsne = reduce_dims(model.item_factors, dims=2, method='tsne') # 5001 х 100  ---> 5001 x 2\n",
        "item_emb_tsne['category'] = category  # Добавляем категорию\n",
        "item_emb_tsne = item_emb_tsne[item_emb_tsne['category'] != 'UNKNOWN']\n",
        "\n",
        "display_components_in_2D_space(item_emb_tsne, labels='category')"
      ]
    },
    {
      "cell_type": "markdown",
      "id": "65fc2947",
      "metadata": {
        "id": "65fc2947",
        "papermill": {
          "duration": 0.096039,
          "end_time": "2022-04-19T19:02:16.604935",
          "exception": false,
          "start_time": "2022-04-19T19:02:16.508896",
          "status": "completed"
        },
        "tags": []
      },
      "source": [
        "Нарисуем все, кроме GROCERY"
      ]
    },
    {
      "cell_type": "code",
      "execution_count": null,
      "id": "41c0d198",
      "metadata": {
        "execution": {
          "iopub.execute_input": "2022-04-19T19:02:16.799703Z",
          "iopub.status.busy": "2022-04-19T19:02:16.798902Z",
          "iopub.status.idle": "2022-04-19T19:02:17.151098Z",
          "shell.execute_reply": "2022-04-19T19:02:17.150417Z"
        },
        "id": "41c0d198",
        "outputId": "cd92302c-3a4e-4345-9c8e-e95a4fa44770",
        "papermill": {
          "duration": 0.451616,
          "end_time": "2022-04-19T19:02:17.153569",
          "exception": false,
          "start_time": "2022-04-19T19:02:16.701953",
          "status": "completed"
        },
        "tags": []
      },
      "outputs": [
        {
          "data": {
            "image/png": "[encoded data removed]",
            "text/plain": [
              "<Figure size 864x576 with 1 Axes>"
            ]
          },
          "metadata": {
            "needs_background": "light"
          },
          "output_type": "display_data"
        }
      ],
      "source": [
        "display_components_in_2D_space(item_emb_tsne[item_emb_tsne['category'] != 'GROCERY'], labels='category')"
      ]
    },
    {
      "cell_type": "markdown",
      "id": "c20f9a61",
      "metadata": {
        "id": "c20f9a61",
        "papermill": {
          "duration": 0.099091,
          "end_time": "2022-04-19T19:02:17.352119",
          "exception": false,
          "start_time": "2022-04-19T19:02:17.253028",
          "status": "completed"
        },
        "tags": []
      },
      "source": [
        "Нарисуем несколько конкретных категорий"
      ]
    },
    {
      "cell_type": "code",
      "execution_count": null,
      "id": "817ad0ea",
      "metadata": {
        "execution": {
          "iopub.execute_input": "2022-04-19T19:02:17.552711Z",
          "iopub.status.busy": "2022-04-19T19:02:17.551885Z",
          "iopub.status.idle": "2022-04-19T19:02:17.793003Z",
          "shell.execute_reply": "2022-04-19T19:02:17.791975Z"
        },
        "id": "817ad0ea",
        "outputId": "e6aab935-1525-4202-b2a4-f2a352fd17e3",
        "papermill": {
          "duration": 0.344579,
          "end_time": "2022-04-19T19:02:17.795940",
          "exception": false,
          "start_time": "2022-04-19T19:02:17.451361",
          "status": "completed"
        },
        "tags": []
      },
      "outputs": [
        {
          "data": {
            "image/png": "[encoded data removed]",
            "text/plain": [
              "<Figure size 864x576 with 1 Axes>"
            ]
          },
          "metadata": {
            "needs_background": "light"
          },
          "output_type": "display_data"
        }
      ],
      "source": [
        "interesting_cats = ['PASTRY', 'PRODUCE', 'DRUG GM', 'FLORAL']\n",
        "\n",
        "display_components_in_2D_space(item_emb_tsne[item_emb_tsne['category'].isin(interesting_cats)], \n",
        "                                             labels='category')"
      ]
    },
    {
      "cell_type": "markdown",
      "id": "acffedb8",
      "metadata": {
        "id": "acffedb8",
        "papermill": {
          "duration": 0.101854,
          "end_time": "2022-04-19T19:02:17.999549",
          "exception": false,
          "start_time": "2022-04-19T19:02:17.897695",
          "status": "completed"
        },
        "tags": []
      },
      "source": [
        "На самом деле, я бы сказал, что **результат средний**:\n",
        "- Модель выучила похожесть только небольшой части товаров"
      ]
    },
    {
      "cell_type": "code",
      "execution_count": null,
      "id": "9cce0f8c",
      "metadata": {
        "execution": {
          "iopub.execute_input": "2022-04-19T19:02:18.206576Z",
          "iopub.status.busy": "2022-04-19T19:02:18.205994Z",
          "iopub.status.idle": "2022-04-19T19:02:18.216471Z",
          "shell.execute_reply": "2022-04-19T19:02:18.215615Z"
        },
        "id": "9cce0f8c",
        "outputId": "ef3fab8f-4734-4ad1-e47a-f7400e19ca81",
        "papermill": {
          "duration": 0.115424,
          "end_time": "2022-04-19T19:02:18.218514",
          "exception": false,
          "start_time": "2022-04-19T19:02:18.103090",
          "status": "completed"
        },
        "tags": []
      },
      "outputs": [
        {
          "data": {
            "text/html": [
              "<div>\n",
              "<style scoped>\n",
              "    .dataframe tbody tr th:only-of-type {\n",
              "        vertical-align: middle;\n",
              "    }\n",
              "\n",
              "    .dataframe tbody tr th {\n",
              "        vertical-align: top;\n",
              "    }\n",
              "\n",
              "    .dataframe thead th {\n",
              "        text-align: right;\n",
              "    }\n",
              "</style>\n",
              "<table border=\"1\" class=\"dataframe\">\n",
              "  <thead>\n",
              "    <tr style=\"text-align: right;\">\n",
              "      <th></th>\n",
              "      <th>component_1</th>\n",
              "      <th>component_2</th>\n",
              "      <th>category</th>\n",
              "    </tr>\n",
              "  </thead>\n",
              "  <tbody>\n",
              "    <tr>\n",
              "      <th>0</th>\n",
              "      <td>3.610965</td>\n",
              "      <td>4.017197</td>\n",
              "      <td>MISC SALES TRAN</td>\n",
              "    </tr>\n",
              "    <tr>\n",
              "      <th>1</th>\n",
              "      <td>6.048657</td>\n",
              "      <td>3.123366</td>\n",
              "      <td>KIOSK-GAS</td>\n",
              "    </tr>\n",
              "  </tbody>\n",
              "</table>\n",
              "</div>"
            ],
            "text/plain": [
              "   component_1  component_2         category\n",
              "0     3.610965     4.017197  MISC SALES TRAN\n",
              "1     6.048657     3.123366        KIOSK-GAS"
            ]
          },
          "execution_count": 31,
          "metadata": {},
          "output_type": "execute_result"
        }
      ],
      "source": [
        "item_emb_tsne.head(2)"
      ]
    },
    {
      "cell_type": "markdown",
      "id": "13da9b1c",
      "metadata": {
        "id": "13da9b1c",
        "papermill": {
          "duration": 0.101522,
          "end_time": "2022-04-19T19:02:18.422122",
          "exception": false,
          "start_time": "2022-04-19T19:02:18.320600",
          "status": "completed"
        },
        "tags": []
      },
      "source": [
        "recommend_all делает перемножение, но еще и сортирует и выбирает топ-N"
      ]
    },
    {
      "cell_type": "code",
      "execution_count": null,
      "id": "b1bf51d9",
      "metadata": {
        "execution": {
          "iopub.execute_input": "2022-04-19T19:02:18.627133Z",
          "iopub.status.busy": "2022-04-19T19:02:18.626840Z",
          "iopub.status.idle": "2022-04-19T19:02:18.631100Z",
          "shell.execute_reply": "2022-04-19T19:02:18.630269Z"
        },
        "id": "b1bf51d9",
        "papermill": {
          "duration": 0.109164,
          "end_time": "2022-04-19T19:02:18.633147",
          "exception": false,
          "start_time": "2022-04-19T19:02:18.523983",
          "status": "completed"
        },
        "tags": []
      },
      "outputs": [],
      "source": [
        "item_1 = model.item_factors[1]\n",
        "item_2 = model.item_factors[2]"
      ]
    },
    {
      "cell_type": "code",
      "execution_count": null,
      "id": "dbf005e0",
      "metadata": {
        "execution": {
          "iopub.execute_input": "2022-04-19T19:02:18.839385Z",
          "iopub.status.busy": "2022-04-19T19:02:18.838804Z",
          "iopub.status.idle": "2022-04-19T19:02:18.843939Z",
          "shell.execute_reply": "2022-04-19T19:02:18.843291Z"
        },
        "papermill": {
          "duration": 0.110335,
          "end_time": "2022-04-19T19:02:18.845951",
          "exception": false,
          "start_time": "2022-04-19T19:02:18.735616",
          "status": "completed"
        },
        "tags": [],
        "id": "dbf005e0",
        "outputId": "71c091c8-ff6a-401c-a69c-d497ecb7481d"
      },
      "outputs": [
        {
          "data": {
            "text/plain": [
              "(64,)"
            ]
          },
          "execution_count": 33,
          "metadata": {},
          "output_type": "execute_result"
        }
      ],
      "source": [
        "item_1.shape"
      ]
    },
    {
      "cell_type": "markdown",
      "id": "3348785e",
      "metadata": {
        "id": "3348785e",
        "papermill": {
          "duration": 0.103745,
          "end_time": "2022-04-19T19:02:19.052964",
          "exception": false,
          "start_time": "2022-04-19T19:02:18.949219",
          "status": "completed"
        },
        "tags": []
      },
      "source": [
        "*Посмотрите также / Похожие товары*"
      ]
    },
    {
      "cell_type": "code",
      "execution_count": null,
      "id": "3fb240a9",
      "metadata": {
        "execution": {
          "iopub.execute_input": "2022-04-19T19:02:19.260371Z",
          "iopub.status.busy": "2022-04-19T19:02:19.260036Z",
          "iopub.status.idle": "2022-04-19T19:02:19.263896Z",
          "shell.execute_reply": "2022-04-19T19:02:19.262906Z"
        },
        "papermill": {
          "duration": 0.110094,
          "end_time": "2022-04-19T19:02:19.266055",
          "exception": false,
          "start_time": "2022-04-19T19:02:19.155961",
          "status": "completed"
        },
        "tags": [],
        "id": "3fb240a9"
      },
      "outputs": [],
      "source": [
        "example_item_row_id = 3606"
      ]
    },
    {
      "cell_type": "code",
      "execution_count": null,
      "id": "c4850065",
      "metadata": {
        "execution": {
          "iopub.execute_input": "2022-04-19T19:02:19.476120Z",
          "iopub.status.busy": "2022-04-19T19:02:19.475802Z",
          "iopub.status.idle": "2022-04-19T19:02:19.481355Z",
          "shell.execute_reply": "2022-04-19T19:02:19.480759Z"
        },
        "papermill": {
          "duration": 0.111094,
          "end_time": "2022-04-19T19:02:19.483050",
          "exception": false,
          "start_time": "2022-04-19T19:02:19.371956",
          "status": "completed"
        },
        "tags": [],
        "id": "c4850065",
        "outputId": "23a350e4-7958-4e18-d856-1727a3f3e522"
      },
      "outputs": [
        {
          "data": {
            "text/plain": [
              "1100265"
            ]
          },
          "execution_count": 35,
          "metadata": {},
          "output_type": "execute_result"
        }
      ],
      "source": [
        "id_to_itemid[example_item_row_id]"
      ]
    },
    {
      "cell_type": "code",
      "execution_count": null,
      "id": "1c2e2af2",
      "metadata": {
        "execution": {
          "iopub.execute_input": "2022-04-19T19:02:19.691905Z",
          "iopub.status.busy": "2022-04-19T19:02:19.690871Z",
          "iopub.status.idle": "2022-04-19T19:02:19.700171Z",
          "shell.execute_reply": "2022-04-19T19:02:19.699239Z"
        },
        "id": "1c2e2af2",
        "papermill": {
          "duration": 0.118329,
          "end_time": "2022-04-19T19:02:19.703852",
          "exception": false,
          "start_time": "2022-04-19T19:02:19.585523",
          "status": "completed"
        },
        "tags": []
      },
      "outputs": [],
      "source": [
        "closest_items = [ id_to_itemid[row_id] for row_id, score in model.similar_items(example_item_row_id, N=5)]"
      ]
    },
    {
      "cell_type": "code",
      "execution_count": null,
      "id": "46279aad",
      "metadata": {
        "execution": {
          "iopub.execute_input": "2022-04-19T19:02:19.965399Z",
          "iopub.status.busy": "2022-04-19T19:02:19.965113Z",
          "iopub.status.idle": "2022-04-19T19:02:19.970562Z",
          "shell.execute_reply": "2022-04-19T19:02:19.969880Z"
        },
        "papermill": {
          "duration": 0.111503,
          "end_time": "2022-04-19T19:02:19.972503",
          "exception": false,
          "start_time": "2022-04-19T19:02:19.861000",
          "status": "completed"
        },
        "tags": [],
        "id": "46279aad",
        "outputId": "64715363-d714-466e-9fa0-b91add7ee2ee"
      },
      "outputs": [
        {
          "data": {
            "text/plain": [
              "[1100265, 1101174, 1051626, 899459, 5995483]"
            ]
          },
          "execution_count": 37,
          "metadata": {},
          "output_type": "execute_result"
        }
      ],
      "source": [
        "closest_items"
      ]
    },
    {
      "cell_type": "code",
      "execution_count": null,
      "id": "531a3370",
      "metadata": {
        "execution": {
          "iopub.execute_input": "2022-04-19T19:02:20.183311Z",
          "iopub.status.busy": "2022-04-19T19:02:20.182786Z",
          "iopub.status.idle": "2022-04-19T19:02:20.197777Z",
          "shell.execute_reply": "2022-04-19T19:02:20.196816Z"
        },
        "papermill": {
          "duration": 0.122729,
          "end_time": "2022-04-19T19:02:20.199865",
          "exception": false,
          "start_time": "2022-04-19T19:02:20.077136",
          "status": "completed"
        },
        "tags": [],
        "id": "531a3370",
        "outputId": "89984ecd-63fe-4518-ec47-a63fbf3ca1d7"
      },
      "outputs": [
        {
          "data": {
            "text/html": [
              "<div>\n",
              "<style scoped>\n",
              "    .dataframe tbody tr th:only-of-type {\n",
              "        vertical-align: middle;\n",
              "    }\n",
              "\n",
              "    .dataframe tbody tr th {\n",
              "        vertical-align: top;\n",
              "    }\n",
              "\n",
              "    .dataframe thead th {\n",
              "        text-align: right;\n",
              "    }\n",
              "</style>\n",
              "<table border=\"1\" class=\"dataframe\">\n",
              "  <thead>\n",
              "    <tr style=\"text-align: right;\">\n",
              "      <th></th>\n",
              "      <th>item_id</th>\n",
              "      <th>manufacturer</th>\n",
              "      <th>department</th>\n",
              "      <th>brand</th>\n",
              "      <th>commodity_desc</th>\n",
              "      <th>sub_commodity_desc</th>\n",
              "      <th>curr_size_of_product</th>\n",
              "    </tr>\n",
              "  </thead>\n",
              "  <tbody>\n",
              "    <tr>\n",
              "      <th>14959</th>\n",
              "      <td>899459</td>\n",
              "      <td>69</td>\n",
              "      <td>GROCERY</td>\n",
              "      <td>Private</td>\n",
              "      <td>CHEESE</td>\n",
              "      <td>NATURAL CHEESE EXACT WT CHUNKS</td>\n",
              "      <td>1 LB</td>\n",
              "    </tr>\n",
              "    <tr>\n",
              "      <th>32127</th>\n",
              "      <td>1051626</td>\n",
              "      <td>69</td>\n",
              "      <td>GROCERY</td>\n",
              "      <td>Private</td>\n",
              "      <td>SOFT DRINKS</td>\n",
              "      <td>SOFT DRINKS 12/18&amp;15PK CAN CAR</td>\n",
              "      <td>12 OZ</td>\n",
              "    </tr>\n",
              "    <tr>\n",
              "      <th>37579</th>\n",
              "      <td>1100265</td>\n",
              "      <td>69</td>\n",
              "      <td>GROCERY</td>\n",
              "      <td>Private</td>\n",
              "      <td>CHEESE</td>\n",
              "      <td>NATURAL CHEESE EXACT WT SLICES</td>\n",
              "      <td>10 OZ</td>\n",
              "    </tr>\n",
              "    <tr>\n",
              "      <th>37680</th>\n",
              "      <td>1101174</td>\n",
              "      <td>1251</td>\n",
              "      <td>GROCERY</td>\n",
              "      <td>National</td>\n",
              "      <td>SOUP</td>\n",
              "      <td>CONDENSED SOUP</td>\n",
              "      <td>10.75OZ</td>\n",
              "    </tr>\n",
              "    <tr>\n",
              "      <th>55409</th>\n",
              "      <td>5995483</td>\n",
              "      <td>1329</td>\n",
              "      <td>GROCERY</td>\n",
              "      <td>National</td>\n",
              "      <td>DRY BN/VEG/POTATO/RICE</td>\n",
              "      <td>RICE - INSTANT &amp; MICROWAVE</td>\n",
              "      <td>8.8 OZ</td>\n",
              "    </tr>\n",
              "  </tbody>\n",
              "</table>\n",
              "</div>"
            ],
            "text/plain": [
              "       item_id  manufacturer department     brand          commodity_desc  \\\n",
              "14959   899459            69    GROCERY   Private                  CHEESE   \n",
              "32127  1051626            69    GROCERY   Private             SOFT DRINKS   \n",
              "37579  1100265            69    GROCERY   Private                  CHEESE   \n",
              "37680  1101174          1251    GROCERY  National                    SOUP   \n",
              "55409  5995483          1329    GROCERY  National  DRY BN/VEG/POTATO/RICE   \n",
              "\n",
              "                   sub_commodity_desc curr_size_of_product  \n",
              "14959  NATURAL CHEESE EXACT WT CHUNKS                 1 LB  \n",
              "32127  SOFT DRINKS 12/18&15PK CAN CAR                12 OZ  \n",
              "37579  NATURAL CHEESE EXACT WT SLICES                10 OZ  \n",
              "37680                  CONDENSED SOUP              10.75OZ  \n",
              "55409      RICE - INSTANT & MICROWAVE               8.8 OZ  "
            ]
          },
          "execution_count": 38,
          "metadata": {},
          "output_type": "execute_result"
        }
      ],
      "source": [
        "item_features[item_features.item_id.isin(closest_items)]"
      ]
    },
    {
      "cell_type": "markdown",
      "id": "0b3f3ff4",
      "metadata": {
        "id": "0b3f3ff4",
        "papermill": {
          "duration": 0.124898,
          "end_time": "2022-04-19T19:02:20.428325",
          "exception": false,
          "start_time": "2022-04-19T19:02:20.303427",
          "status": "completed"
        },
        "tags": []
      },
      "source": [
        "*Вашим друзьям нравится / Похожим пользователям нравится / ...*"
      ]
    },
    {
      "cell_type": "markdown",
      "id": "5f9886fd",
      "metadata": {
        "id": "5f9886fd",
        "papermill": {
          "duration": 0.107474,
          "end_time": "2022-04-19T19:02:20.639624",
          "exception": false,
          "start_time": "2022-04-19T19:02:20.532150",
          "status": "completed"
        },
        "tags": []
      },
      "source": [
        "Пользователь --> похожих пользовтелей --> рекомендовать те товары, которые купили похожие юзеры"
      ]
    },
    {
      "cell_type": "code",
      "execution_count": null,
      "id": "ea13522d",
      "metadata": {
        "execution": {
          "iopub.execute_input": "2022-04-19T19:02:20.854447Z",
          "iopub.status.busy": "2022-04-19T19:02:20.854131Z",
          "iopub.status.idle": "2022-04-19T19:02:20.862146Z",
          "shell.execute_reply": "2022-04-19T19:02:20.861254Z"
        },
        "id": "ea13522d",
        "outputId": "78aef638-88ce-4a7f-d430-3fef25cdbc12",
        "papermill": {
          "duration": 0.121741,
          "end_time": "2022-04-19T19:02:20.869244",
          "exception": false,
          "start_time": "2022-04-19T19:02:20.747503",
          "status": "completed"
        },
        "tags": []
      },
      "outputs": [
        {
          "data": {
            "text/plain": [
              "[(9, 1.0000001),\n",
              " (790, 0.98305863),\n",
              " (354, 0.9802671),\n",
              " (239, 0.9773074),\n",
              " (1380, 0.97651887)]"
            ]
          },
          "execution_count": 39,
          "metadata": {},
          "output_type": "execute_result"
        }
      ],
      "source": [
        "model.similar_users(userid_to_id[10], N=5)"
      ]
    },
    {
      "cell_type": "markdown",
      "id": "d39b492f",
      "metadata": {
        "id": "d39b492f",
        "papermill": {
          "duration": 0.103438,
          "end_time": "2022-04-19T19:02:21.129487",
          "exception": false,
          "start_time": "2022-04-19T19:02:21.026049",
          "status": "completed"
        },
        "tags": []
      },
      "source": [
        "### 2. TF-IDF взвешивание"
      ]
    },
    {
      "cell_type": "code",
      "execution_count": null,
      "id": "c1f73ac2",
      "metadata": {
        "execution": {
          "iopub.execute_input": "2022-04-19T19:02:21.339048Z",
          "iopub.status.busy": "2022-04-19T19:02:21.338759Z",
          "iopub.status.idle": "2022-04-19T19:02:21.467186Z",
          "shell.execute_reply": "2022-04-19T19:02:21.466389Z"
        },
        "id": "c1f73ac2",
        "papermill": {
          "duration": 0.235769,
          "end_time": "2022-04-19T19:02:21.469630",
          "exception": false,
          "start_time": "2022-04-19T19:02:21.233861",
          "status": "completed"
        },
        "tags": []
      },
      "outputs": [],
      "source": [
        "user_item_matrix = tfidf_weight(user_item_matrix.T).T  # Применяется к item-user матрице ! "
      ]
    },
    {
      "cell_type": "code",
      "execution_count": null,
      "id": "59d11e08",
      "metadata": {
        "execution": {
          "iopub.execute_input": "2022-04-19T19:02:21.681773Z",
          "iopub.status.busy": "2022-04-19T19:02:21.681499Z",
          "iopub.status.idle": "2022-04-19T19:02:29.454692Z",
          "shell.execute_reply": "2022-04-19T19:02:29.453117Z"
        },
        "id": "59d11e08",
        "outputId": "16a60037-5061-44f4-9f7e-8a431bb55b43",
        "papermill": {
          "duration": 7.883164,
          "end_time": "2022-04-19T19:02:29.457932",
          "exception": false,
          "start_time": "2022-04-19T19:02:21.574768",
          "status": "completed"
        },
        "tags": []
      },
      "outputs": [
        {
          "data": {
            "application/vnd.jupyter.widget-view+json": {
              "model_id": "5f482d27f35e4f09a89d1142bb031ba5",
              "version_major": 2,
              "version_minor": 0
            },
            "text/plain": [
              "  0%|          | 0/15 [00:00<?, ?it/s]"
            ]
          },
          "metadata": {},
          "output_type": "display_data"
        },
        {
          "name": "stdout",
          "output_type": "stream",
          "text": [
            "CPU times: user 20.6 s, sys: 10 s, total: 30.6 s\n",
            "Wall time: 7.76 s\n"
          ]
        }
      ],
      "source": [
        "%%time\n",
        "\n",
        "model = AlternatingLeastSquares(factors=64, \n",
        "                                regularization=0.05,\n",
        "                                iterations=15, \n",
        "                                calculate_training_loss=True, \n",
        "                                num_threads=10)\n",
        "\n",
        "model.fit(csr_matrix(user_item_matrix).T.tocsr(),  # На вход item-user matrix\n",
        "          show_progress=True)\n"
      ]
    },
    {
      "cell_type": "code",
      "execution_count": null,
      "id": "0b164d67",
      "metadata": {
        "execution": {
          "iopub.execute_input": "2022-04-19T19:02:29.721750Z",
          "iopub.status.busy": "2022-04-19T19:02:29.721487Z",
          "iopub.status.idle": "2022-04-19T19:03:01.868990Z",
          "shell.execute_reply": "2022-04-19T19:03:01.868184Z"
        },
        "papermill": {
          "duration": 32.361597,
          "end_time": "2022-04-19T19:03:01.975991",
          "exception": false,
          "start_time": "2022-04-19T19:02:29.614394",
          "status": "completed"
        },
        "tags": [],
        "id": "0b164d67",
        "outputId": "5b5b50cb-b20c-4996-9d06-5b906b0dab15"
      },
      "outputs": [
        {
          "data": {
            "text/plain": [
              "0.17296767874632715"
            ]
          },
          "execution_count": 42,
          "metadata": {},
          "output_type": "execute_result"
        }
      ],
      "source": [
        "result['als_tfidf'] = result['user_id'].apply(lambda x: get_recommendations(x, model=model, N=5))\n",
        "\n",
        "result.apply(lambda row: precision_at_k(row['als_tfidf'], row['actual']), axis=1).mean()"
      ]
    },
    {
      "cell_type": "code",
      "execution_count": null,
      "id": "ffde70fc",
      "metadata": {
        "execution": {
          "iopub.execute_input": "2022-04-19T19:03:02.189062Z",
          "iopub.status.busy": "2022-04-19T19:03:02.188741Z",
          "iopub.status.idle": "2022-04-19T19:03:02.194497Z",
          "shell.execute_reply": "2022-04-19T19:03:02.193704Z"
        },
        "papermill": {
          "duration": 0.115137,
          "end_time": "2022-04-19T19:03:02.196720",
          "exception": false,
          "start_time": "2022-04-19T19:03:02.081583",
          "status": "completed"
        },
        "tags": [],
        "id": "ffde70fc",
        "outputId": "dbdeea46-efd1-4e5a-e899-a09b0f256600"
      },
      "outputs": [
        {
          "data": {
            "text/plain": [
              "6.25"
            ]
          },
          "execution_count": 43,
          "metadata": {},
          "output_type": "execute_result"
        }
      ],
      "source": [
        "(1 - 0.15/0.16) * 100"
      ]
    },
    {
      "cell_type": "markdown",
      "id": "1282cc61",
      "metadata": {
        "id": "1282cc61",
        "papermill": {
          "duration": 0.104588,
          "end_time": "2022-04-19T19:03:02.406239",
          "exception": false,
          "start_time": "2022-04-19T19:03:02.301651",
          "status": "completed"
        },
        "tags": []
      },
      "source": [
        "### 3. BM25 взвешивание"
      ]
    },
    {
      "cell_type": "code",
      "execution_count": null,
      "id": "a9d01787",
      "metadata": {
        "execution": {
          "iopub.execute_input": "2022-04-19T19:03:02.619646Z",
          "iopub.status.busy": "2022-04-19T19:03:02.619356Z",
          "iopub.status.idle": "2022-04-19T19:03:05.897123Z",
          "shell.execute_reply": "2022-04-19T19:03:05.895981Z"
        },
        "id": "a9d01787",
        "outputId": "067712af-e22d-4b99-a418-747ee026b72d",
        "papermill": {
          "duration": 3.387622,
          "end_time": "2022-04-19T19:03:05.899588",
          "exception": false,
          "start_time": "2022-04-19T19:03:02.511966",
          "status": "completed"
        },
        "tags": []
      },
      "outputs": [
        {
          "name": "stderr",
          "output_type": "stream",
          "text": [
            "/opt/conda/lib/python3.7/site-packages/pandas/core/indexing.py:1817: SettingWithCopyWarning: \n",
            "A value is trying to be set on a copy of a slice from a DataFrame.\n",
            "Try using .loc[row_indexer,col_indexer] = value instead\n",
            "\n",
            "See the caveats in the documentation: https://pandas.pydata.org/pandas-docs/stable/user_guide/indexing.html#returning-a-view-versus-a-copy\n",
            "  self._setitem_single_column(loc, value, pi)\n"
          ]
        },
        {
          "data": {
            "text/html": [
              "<div>\n",
              "<style scoped>\n",
              "    .dataframe tbody tr th:only-of-type {\n",
              "        vertical-align: middle;\n",
              "    }\n",
              "\n",
              "    .dataframe tbody tr th {\n",
              "        vertical-align: top;\n",
              "    }\n",
              "\n",
              "    .dataframe thead th {\n",
              "        text-align: right;\n",
              "    }\n",
              "</style>\n",
              "<table border=\"1\" class=\"dataframe\">\n",
              "  <thead>\n",
              "    <tr style=\"text-align: right;\">\n",
              "      <th>item_id</th>\n",
              "      <th>202291</th>\n",
              "      <th>397896</th>\n",
              "      <th>420647</th>\n",
              "      <th>480014</th>\n",
              "      <th>545926</th>\n",
              "      <th>707683</th>\n",
              "      <th>731106</th>\n",
              "      <th>818980</th>\n",
              "      <th>819063</th>\n",
              "      <th>819227</th>\n",
              "      <th>...</th>\n",
              "      <th>15778533</th>\n",
              "      <th>15831255</th>\n",
              "      <th>15926712</th>\n",
              "      <th>15926775</th>\n",
              "      <th>15926844</th>\n",
              "      <th>15926886</th>\n",
              "      <th>15927403</th>\n",
              "      <th>15927661</th>\n",
              "      <th>15927850</th>\n",
              "      <th>16809471</th>\n",
              "    </tr>\n",
              "    <tr>\n",
              "      <th>user_id</th>\n",
              "      <th></th>\n",
              "      <th></th>\n",
              "      <th></th>\n",
              "      <th></th>\n",
              "      <th></th>\n",
              "      <th></th>\n",
              "      <th></th>\n",
              "      <th></th>\n",
              "      <th></th>\n",
              "      <th></th>\n",
              "      <th></th>\n",
              "      <th></th>\n",
              "      <th></th>\n",
              "      <th></th>\n",
              "      <th></th>\n",
              "      <th></th>\n",
              "      <th></th>\n",
              "      <th></th>\n",
              "      <th></th>\n",
              "      <th></th>\n",
              "      <th></th>\n",
              "    </tr>\n",
              "  </thead>\n",
              "  <tbody>\n",
              "    <tr>\n",
              "      <th>1</th>\n",
              "      <td>0.0</td>\n",
              "      <td>0.0</td>\n",
              "      <td>0.0</td>\n",
              "      <td>0.0</td>\n",
              "      <td>0.0</td>\n",
              "      <td>0.0</td>\n",
              "      <td>0.0</td>\n",
              "      <td>0.0</td>\n",
              "      <td>0.0</td>\n",
              "      <td>0.0</td>\n",
              "      <td>...</td>\n",
              "      <td>0.0</td>\n",
              "      <td>0.0</td>\n",
              "      <td>0.0</td>\n",
              "      <td>0.0</td>\n",
              "      <td>1.0</td>\n",
              "      <td>0.0</td>\n",
              "      <td>0.0</td>\n",
              "      <td>0.0</td>\n",
              "      <td>0.0</td>\n",
              "      <td>0.0</td>\n",
              "    </tr>\n",
              "    <tr>\n",
              "      <th>2</th>\n",
              "      <td>0.0</td>\n",
              "      <td>0.0</td>\n",
              "      <td>0.0</td>\n",
              "      <td>0.0</td>\n",
              "      <td>0.0</td>\n",
              "      <td>0.0</td>\n",
              "      <td>0.0</td>\n",
              "      <td>0.0</td>\n",
              "      <td>0.0</td>\n",
              "      <td>0.0</td>\n",
              "      <td>...</td>\n",
              "      <td>0.0</td>\n",
              "      <td>0.0</td>\n",
              "      <td>0.0</td>\n",
              "      <td>0.0</td>\n",
              "      <td>0.0</td>\n",
              "      <td>0.0</td>\n",
              "      <td>0.0</td>\n",
              "      <td>0.0</td>\n",
              "      <td>0.0</td>\n",
              "      <td>0.0</td>\n",
              "    </tr>\n",
              "    <tr>\n",
              "      <th>3</th>\n",
              "      <td>0.0</td>\n",
              "      <td>0.0</td>\n",
              "      <td>0.0</td>\n",
              "      <td>0.0</td>\n",
              "      <td>0.0</td>\n",
              "      <td>0.0</td>\n",
              "      <td>0.0</td>\n",
              "      <td>0.0</td>\n",
              "      <td>0.0</td>\n",
              "      <td>0.0</td>\n",
              "      <td>...</td>\n",
              "      <td>0.0</td>\n",
              "      <td>0.0</td>\n",
              "      <td>0.0</td>\n",
              "      <td>0.0</td>\n",
              "      <td>0.0</td>\n",
              "      <td>0.0</td>\n",
              "      <td>0.0</td>\n",
              "      <td>0.0</td>\n",
              "      <td>0.0</td>\n",
              "      <td>0.0</td>\n",
              "    </tr>\n",
              "  </tbody>\n",
              "</table>\n",
              "<p>3 rows × 5001 columns</p>\n",
              "</div>"
            ],
            "text/plain": [
              "item_id  202291    397896    420647    480014    545926    707683    731106    \\\n",
              "user_id                                                                         \n",
              "1             0.0       0.0       0.0       0.0       0.0       0.0       0.0   \n",
              "2             0.0       0.0       0.0       0.0       0.0       0.0       0.0   \n",
              "3             0.0       0.0       0.0       0.0       0.0       0.0       0.0   \n",
              "\n",
              "item_id  818980    819063    819227    ...  15778533  15831255  15926712  \\\n",
              "user_id                                ...                                 \n",
              "1             0.0       0.0       0.0  ...       0.0       0.0       0.0   \n",
              "2             0.0       0.0       0.0  ...       0.0       0.0       0.0   \n",
              "3             0.0       0.0       0.0  ...       0.0       0.0       0.0   \n",
              "\n",
              "item_id  15926775  15926844  15926886  15927403  15927661  15927850  16809471  \n",
              "user_id                                                                        \n",
              "1             0.0       1.0       0.0       0.0       0.0       0.0       0.0  \n",
              "2             0.0       0.0       0.0       0.0       0.0       0.0       0.0  \n",
              "3             0.0       0.0       0.0       0.0       0.0       0.0       0.0  \n",
              "\n",
              "[3 rows x 5001 columns]"
            ]
          },
          "execution_count": 44,
          "metadata": {},
          "output_type": "execute_result"
        }
      ],
      "source": [
        "# Заведем фиктивный item_id (если юзер покупал товары из топ-5000, то он \"купил\" такой товар)\n",
        "data_train.loc[~data_train['item_id'].isin(top_5000), 'item_id'] = 999999\n",
        "\n",
        "user_item_matrix = pd.pivot_table(data_train, \n",
        "                                  index='user_id', columns='item_id', \n",
        "                                  values='quantity', # Можно пробоват ьдругие варианты\n",
        "                                  aggfunc='count', \n",
        "                                  fill_value=0\n",
        "                                 )\n",
        "\n",
        "user_item_matrix = user_item_matrix.astype(float) # необходимый тип матрицы для implicit\n",
        "\n",
        "# переведем в формат saprse matrix\n",
        "sparse_user_item = csr_matrix(user_item_matrix).tocsr()\n",
        "\n",
        "user_item_matrix.head(3)"
      ]
    },
    {
      "cell_type": "code",
      "execution_count": null,
      "id": "d5fc0d8b",
      "metadata": {
        "execution": {
          "iopub.execute_input": "2022-04-19T19:03:06.118190Z",
          "iopub.status.busy": "2022-04-19T19:03:06.117918Z",
          "iopub.status.idle": "2022-04-19T19:03:06.252850Z",
          "shell.execute_reply": "2022-04-19T19:03:06.251966Z"
        },
        "id": "d5fc0d8b",
        "papermill": {
          "duration": 0.246057,
          "end_time": "2022-04-19T19:03:06.255235",
          "exception": false,
          "start_time": "2022-04-19T19:03:06.009178",
          "status": "completed"
        },
        "tags": []
      },
      "outputs": [],
      "source": [
        "user_item_matrix = bm25_weight(user_item_matrix.T).T  # Применяется к item-user матрице ! "
      ]
    },
    {
      "cell_type": "code",
      "execution_count": null,
      "id": "5f3dfeb9",
      "metadata": {
        "execution": {
          "iopub.execute_input": "2022-04-19T19:03:06.472267Z",
          "iopub.status.busy": "2022-04-19T19:03:06.471956Z",
          "iopub.status.idle": "2022-04-19T19:03:50.794450Z",
          "shell.execute_reply": "2022-04-19T19:03:50.793461Z"
        },
        "id": "5f3dfeb9",
        "outputId": "8777a5af-c636-4e2b-e315-eb413f7ba346",
        "papermill": {
          "duration": 44.59787,
          "end_time": "2022-04-19T19:03:50.962087",
          "exception": false,
          "start_time": "2022-04-19T19:03:06.364217",
          "status": "completed"
        },
        "tags": []
      },
      "outputs": [
        {
          "data": {
            "application/vnd.jupyter.widget-view+json": {
              "model_id": "097e95c8c12040569ca7812bbd047895",
              "version_major": 2,
              "version_minor": 0
            },
            "text/plain": [
              "  0%|          | 0/15 [00:00<?, ?it/s]"
            ]
          },
          "metadata": {},
          "output_type": "display_data"
        },
        {
          "name": "stdout",
          "output_type": "stream",
          "text": [
            "CPU times: user 1min 36s, sys: 1min 15s, total: 2min 52s\n",
            "Wall time: 44.3 s\n"
          ]
        }
      ],
      "source": [
        "%%time\n",
        "\n",
        "# model = AlternatingLeastSquares(factors=128, \n",
        "#                                 regularization=0.05,\n",
        "#                                 iterations=15, \n",
        "#                                 calculate_training_loss=True, \n",
        "#                                 num_threads=4) # K - кол-во билжайших соседей\n",
        "\n",
        "model = AlternatingLeastSquares(factors=64, \n",
        "                                regularization=0.05,\n",
        "                                iterations=15, \n",
        "                                calculate_training_loss=True, \n",
        "                                num_threads=10)\n",
        "\n",
        "model.fit(csr_matrix(user_item_matrix).T.tocsr(),  # На вход item-user matrix\n",
        "          show_progress=True)\n",
        "\n",
        "result['als_bm25'] = result['user_id'].apply(lambda x: get_recommendations(x, model=model, N=5))"
      ]
    },
    {
      "cell_type": "code",
      "execution_count": null,
      "id": "0393db9c",
      "metadata": {
        "execution": {
          "iopub.execute_input": "2022-04-19T19:03:51.182156Z",
          "iopub.status.busy": "2022-04-19T19:03:51.181860Z",
          "iopub.status.idle": "2022-04-19T19:03:51.304070Z",
          "shell.execute_reply": "2022-04-19T19:03:51.303305Z"
        },
        "papermill": {
          "duration": 0.234088,
          "end_time": "2022-04-19T19:03:51.306335",
          "exception": false,
          "start_time": "2022-04-19T19:03:51.072247",
          "status": "completed"
        },
        "tags": [],
        "id": "0393db9c",
        "outputId": "63a5a88c-a944-4f2b-b247-8fe8ea03662e"
      },
      "outputs": [
        {
          "data": {
            "text/plain": [
              "0.18374142997061704"
            ]
          },
          "execution_count": 47,
          "metadata": {},
          "output_type": "execute_result"
        }
      ],
      "source": [
        "result.apply(lambda row: precision_at_k(row['als_bm25'], row['actual']), axis=1).mean()"
      ]
    },
    {
      "cell_type": "code",
      "execution_count": null,
      "id": "4d53ad44",
      "metadata": {
        "execution": {
          "iopub.execute_input": "2022-04-19T19:03:51.528089Z",
          "iopub.status.busy": "2022-04-19T19:03:51.527767Z",
          "iopub.status.idle": "2022-04-19T19:03:52.001313Z",
          "shell.execute_reply": "2022-04-19T19:03:51.999998Z"
        },
        "id": "4d53ad44",
        "papermill": {
          "duration": 0.588795,
          "end_time": "2022-04-19T19:03:52.003979",
          "exception": false,
          "start_time": "2022-04-19T19:03:51.415184",
          "status": "completed"
        },
        "tags": []
      },
      "outputs": [],
      "source": [
        "result.to_csv('/predictions_mf.csv', index=False)  # mf - matrix factorization"
      ]
    },
    {
      "cell_type": "markdown",
      "id": "820d4524",
      "metadata": {
        "id": "820d4524",
        "papermill": {
          "duration": 0.107258,
          "end_time": "2022-04-19T19:03:52.219237",
          "exception": false,
          "start_time": "2022-04-19T19:03:52.111979",
          "status": "completed"
        },
        "tags": []
      },
      "source": [
        "## 4. Важно искать оптимальные параметры"
      ]
    },
    {
      "cell_type": "markdown",
      "id": "7aaa8616",
      "metadata": {
        "id": "7aaa8616",
        "papermill": {
          "duration": 0.108431,
          "end_time": "2022-04-19T19:03:52.436481",
          "exception": false,
          "start_time": "2022-04-19T19:03:52.328050",
          "status": "completed"
        },
        "tags": []
      },
      "source": [
        "- regularization, iterations(+-)\n",
        "- factors\n",
        "- Вес (элемент в матрице user-item)"
      ]
    },
    {
      "cell_type": "markdown",
      "id": "32e17fba",
      "metadata": {
        "id": "32e17fba",
        "papermill": {
          "duration": 0.111225,
          "end_time": "2022-04-19T19:03:52.656566",
          "exception": false,
          "start_time": "2022-04-19T19:03:52.545341",
          "status": "completed"
        },
        "tags": []
      },
      "source": [
        "# Production"
      ]
    },
    {
      "cell_type": "markdown",
      "id": "0be42135",
      "metadata": {
        "id": "0be42135",
        "papermill": {
          "duration": 0.107543,
          "end_time": "2022-04-19T19:03:52.874972",
          "exception": false,
          "start_time": "2022-04-19T19:03:52.767429",
          "status": "completed"
        },
        "tags": []
      },
      "source": [
        "Начиная с этого вебинара, мы будем строить *базовое решение* для системы рекомендаций топ-N товаров. В финальном проекте вам нужно будет его существенно улучшить.  \n",
        "  \n",
        "**Ситуация**: Вы работает data scientist в крупном продуктовом российском ритейлере. Ваш конкурент сделал рекомендательную систему, и его продажи выросли. Ваш менеджмент тоже хочет увеличить продажи   \n",
        "**Задача со слов менеджера**: Сделайте рекомендательную систему топ-10 товаров для рассылки по e-mail"
      ]
    },
    {
      "cell_type": "markdown",
      "id": "633dc4c4",
      "metadata": {
        "id": "633dc4c4",
        "papermill": {
          "duration": 0.109132,
          "end_time": "2022-04-19T19:03:53.092761",
          "exception": false,
          "start_time": "2022-04-19T19:03:52.983629",
          "status": "completed"
        },
        "tags": []
      },
      "source": [
        "**Ожидание:**\n",
        "- Отправляем e-mail с топ-10 товарами, отсортированными по вероятности\n",
        "\n",
        "**Реальность:**\n",
        "- Чего хочет менеджер от рекомендательной системы? (рост показателя X на Y% за Z недель)\n",
        "- По-хорошему надо бы предварительно посчитать потенциальный эффект от рекоммендательной системы (Оценки эффектов у менеджера и у вас могут сильно не совпадать: как правило, вы знаете про данные больше)\n",
        "- А у нас вообще есть e-mail-ы пользователей? Для скольки %? Не устарели ли они?\n",
        "- Будем ли использовать СМС и push-уведомления в приложении? Может, будем печатать рекомендации на чеке после оплаты на кассе?\n",
        "- Как будет выглядеть e-mail? (решаем задачу топ-10 рекомендаций или ранжирования? И топ-10 ли?)\n",
        "- Какие товары должны быть в e-mail? Есть ли какие-то ограничения (только акции и т п)?\n",
        "- Сколько денег мы готовы потратить на привлечение 1 юзера? CAC - Customer Aquisition Cost. Обычно CAC = расходы на коммуникацию + расходы на скидки\n",
        "- Cколько мы хотим зарабатывать с одного привлеченного юзера?\n",
        "---\n",
        "- А точно нужно сортировать по вероятности?\n",
        "- Какую метрику использовать?\n",
        "- Сколько раз в неделю отпрпавляем рассылку?\n",
        "- В какое время отправляем рассылку?\n",
        "- Будем отправлять одному юзеру много раз наши рекоммендации. Как добиться того, чтобы они хоть немного отличались?\n",
        "- Нужно ли, чтобы в одной рассылке были *разные* товары? Как определить, что товары *разные*? Как добиться того, чтобы они были разными?\n",
        "- И многое другое:)"
      ]
    },
    {
      "cell_type": "markdown",
      "id": "df027e22",
      "metadata": {
        "id": "df027e22",
        "papermill": {
          "duration": 0.107395,
          "end_time": "2022-04-19T19:03:53.309905",
          "exception": false,
          "start_time": "2022-04-19T19:03:53.202510",
          "status": "completed"
        },
        "tags": []
      },
      "source": [
        "**В итоге договорились, что:**\n",
        "- Хотим повысить выручку минимум на 6% за 4 месяца. Будем повышать за счет роста Retention минимум на  3% и среднего чека минимум на 3%\n",
        "- Топ-5 товаров, а не топ-10 (В e-mail 10 выглядят не красиво, в push и на чек больше 5 не влезает)\n",
        "- Рассылаем в e-mail (5% клиентов) и push-уведомлении (20% клиентов), печатаем на чеке (все оффлайн клиенты)\n",
        "- **3 товара с акцией** (Как это учесть? А если на товар была акция 10%, а потом 50%, что будет стоять в user-item матрице?)\n",
        "- **1 новый товар** (юзер никогда не покупал. Просто фильтруем аутпут ALS? А если у таких товаров очень маленькая вероятность покупки? Может, использовать другую логику/модель?) \n",
        "- **1 товар для роста среднего чека** (товары минимум дороже чем обычно покупает юзер. Как это измерить? На сколько дороже?)"
      ]
    },
    {
      "cell_type": "markdown",
      "id": "3bba0e4b",
      "metadata": {
        "id": "3bba0e4b",
        "papermill": {
          "duration": 0.107713,
          "end_time": "2022-04-19T19:03:53.525362",
          "exception": false,
          "start_time": "2022-04-19T19:03:53.417649",
          "status": "completed"
        },
        "tags": []
      },
      "source": [
        "Вопросов стало еще больше. Поэтому сначала делаем **MVP** (Minimum viable product) на e-mail. Показываем его менеджеру, измеряем метрики на юзерах. По фидбеку и метрикам делаем улучшения MVP и раскатываем его на push-уведомления и чеки\n",
        "\n",
        "*Data Science проект* - итеративный процесс!"
      ]
    },
    {
      "cell_type": "code",
      "execution_count": null,
      "id": "d014720a",
      "metadata": {
        "execution": {
          "iopub.execute_input": "2022-04-19T19:03:53.742246Z",
          "iopub.status.busy": "2022-04-19T19:03:53.741730Z",
          "iopub.status.idle": "2022-04-19T19:03:53.754298Z",
          "shell.execute_reply": "2022-04-19T19:03:53.753720Z"
        },
        "id": "d014720a",
        "outputId": "ecf022e0-c283-4cb8-ccec-611f9cdbedad",
        "papermill": {
          "duration": 0.123076,
          "end_time": "2022-04-19T19:03:53.756185",
          "exception": false,
          "start_time": "2022-04-19T19:03:53.633109",
          "status": "completed"
        },
        "tags": []
      },
      "outputs": [
        {
          "data": {
            "text/html": [
              "<div>\n",
              "<style scoped>\n",
              "    .dataframe tbody tr th:only-of-type {\n",
              "        vertical-align: middle;\n",
              "    }\n",
              "\n",
              "    .dataframe tbody tr th {\n",
              "        vertical-align: top;\n",
              "    }\n",
              "\n",
              "    .dataframe thead th {\n",
              "        text-align: right;\n",
              "    }\n",
              "</style>\n",
              "<table border=\"1\" class=\"dataframe\">\n",
              "  <thead>\n",
              "    <tr style=\"text-align: right;\">\n",
              "      <th></th>\n",
              "      <th>user_id</th>\n",
              "      <th>basket_id</th>\n",
              "      <th>day</th>\n",
              "      <th>item_id</th>\n",
              "      <th>quantity</th>\n",
              "      <th>sales_value</th>\n",
              "      <th>store_id</th>\n",
              "      <th>retail_disc</th>\n",
              "      <th>trans_time</th>\n",
              "      <th>week_no</th>\n",
              "      <th>coupon_disc</th>\n",
              "      <th>coupon_match_disc</th>\n",
              "    </tr>\n",
              "  </thead>\n",
              "  <tbody>\n",
              "    <tr>\n",
              "      <th>0</th>\n",
              "      <td>2375</td>\n",
              "      <td>26984851472</td>\n",
              "      <td>1</td>\n",
              "      <td>1004906</td>\n",
              "      <td>1</td>\n",
              "      <td>1.39</td>\n",
              "      <td>364</td>\n",
              "      <td>-0.6</td>\n",
              "      <td>1631</td>\n",
              "      <td>1</td>\n",
              "      <td>0.0</td>\n",
              "      <td>0.0</td>\n",
              "    </tr>\n",
              "    <tr>\n",
              "      <th>1</th>\n",
              "      <td>2375</td>\n",
              "      <td>26984851472</td>\n",
              "      <td>1</td>\n",
              "      <td>1033142</td>\n",
              "      <td>1</td>\n",
              "      <td>0.82</td>\n",
              "      <td>364</td>\n",
              "      <td>0.0</td>\n",
              "      <td>1631</td>\n",
              "      <td>1</td>\n",
              "      <td>0.0</td>\n",
              "      <td>0.0</td>\n",
              "    </tr>\n",
              "  </tbody>\n",
              "</table>\n",
              "</div>"
            ],
            "text/plain": [
              "   user_id    basket_id  day  item_id  quantity  sales_value  store_id  \\\n",
              "0     2375  26984851472    1  1004906         1         1.39       364   \n",
              "1     2375  26984851472    1  1033142         1         0.82       364   \n",
              "\n",
              "   retail_disc  trans_time  week_no  coupon_disc  coupon_match_disc  \n",
              "0         -0.6        1631        1          0.0                0.0  \n",
              "1          0.0        1631        1          0.0                0.0  "
            ]
          },
          "execution_count": 49,
          "metadata": {},
          "output_type": "execute_result"
        }
      ],
      "source": [
        "data_train.head(2)"
      ]
    },
    {
      "cell_type": "code",
      "execution_count": null,
      "id": "5feb31c8",
      "metadata": {
        "execution": {
          "iopub.execute_input": "2022-04-19T19:03:53.979292Z",
          "iopub.status.busy": "2022-04-19T19:03:53.978680Z",
          "iopub.status.idle": "2022-04-19T19:03:54.006922Z",
          "shell.execute_reply": "2022-04-19T19:03:54.005285Z"
        },
        "id": "5feb31c8",
        "outputId": "9b8bd811-80b7-47f1-bf70-58c51c48fc17",
        "papermill": {
          "duration": 0.142269,
          "end_time": "2022-04-19T19:03:54.009317",
          "exception": false,
          "start_time": "2022-04-19T19:03:53.867048",
          "status": "completed"
        },
        "tags": []
      },
      "outputs": [
        {
          "name": "stderr",
          "output_type": "stream",
          "text": [
            "/opt/conda/lib/python3.7/site-packages/ipykernel_launcher.py:1: SettingWithCopyWarning: \n",
            "A value is trying to be set on a copy of a slice from a DataFrame.\n",
            "Try using .loc[row_indexer,col_indexer] = value instead\n",
            "\n",
            "See the caveats in the documentation: https://pandas.pydata.org/pandas-docs/stable/user_guide/indexing.html#returning-a-view-versus-a-copy\n",
            "  \"\"\"Entry point for launching an IPython kernel.\n"
          ]
        },
        {
          "data": {
            "text/plain": [
              "499.99"
            ]
          },
          "execution_count": 50,
          "metadata": {},
          "output_type": "execute_result"
        }
      ],
      "source": [
        "data_train['price'] = data_train['sales_value'] / (np.maximum(data_train['quantity'], 1))\n",
        "data_train['price'].max()"
      ]
    },
    {
      "cell_type": "code",
      "execution_count": null,
      "id": "8b61a74e",
      "metadata": {
        "execution": {
          "iopub.execute_input": "2022-04-19T19:03:54.231753Z",
          "iopub.status.busy": "2022-04-19T19:03:54.231448Z",
          "iopub.status.idle": "2022-04-19T19:03:54.270769Z",
          "shell.execute_reply": "2022-04-19T19:03:54.270107Z"
        },
        "id": "8b61a74e",
        "outputId": "5fad70dd-f1ae-4cb2-9e1f-dab3484d4919",
        "papermill": {
          "duration": 0.153317,
          "end_time": "2022-04-19T19:03:54.272626",
          "exception": false,
          "start_time": "2022-04-19T19:03:54.119309",
          "status": "completed"
        },
        "tags": []
      },
      "outputs": [
        {
          "data": {
            "text/plain": [
              "0.99"
            ]
          },
          "execution_count": 51,
          "metadata": {},
          "output_type": "execute_result"
        }
      ],
      "source": [
        "# < 1$\n",
        "data_train['price'].quantile(0.20)"
      ]
    },
    {
      "cell_type": "code",
      "execution_count": null,
      "id": "4e28df36",
      "metadata": {
        "execution": {
          "iopub.execute_input": "2022-04-19T19:03:54.495184Z",
          "iopub.status.busy": "2022-04-19T19:03:54.494441Z",
          "iopub.status.idle": "2022-04-19T19:03:54.529878Z",
          "shell.execute_reply": "2022-04-19T19:03:54.529246Z"
        },
        "id": "4e28df36",
        "outputId": "253ef171-4dd8-42f8-c912-9deb792dd597",
        "papermill": {
          "duration": 0.148023,
          "end_time": "2022-04-19T19:03:54.531870",
          "exception": false,
          "start_time": "2022-04-19T19:03:54.383847",
          "status": "completed"
        },
        "tags": []
      },
      "outputs": [
        {
          "data": {
            "text/plain": [
              "82.01435450003483"
            ]
          },
          "execution_count": 52,
          "metadata": {},
          "output_type": "execute_result"
        }
      ],
      "source": [
        "# > 100$\n",
        "data_train['price'].quantile(0.99995)"
      ]
    },
    {
      "cell_type": "code",
      "execution_count": null,
      "id": "70024e81",
      "metadata": {
        "execution": {
          "iopub.execute_input": "2022-04-19T19:03:54.755582Z",
          "iopub.status.busy": "2022-04-19T19:03:54.755277Z",
          "iopub.status.idle": "2022-04-19T19:03:54.763757Z",
          "shell.execute_reply": "2022-04-19T19:03:54.762827Z"
        },
        "id": "70024e81",
        "papermill": {
          "duration": 0.122526,
          "end_time": "2022-04-19T19:03:54.765769",
          "exception": false,
          "start_time": "2022-04-19T19:03:54.643243",
          "status": "completed"
        },
        "tags": []
      },
      "outputs": [],
      "source": [
        "def prefilter_items(data):\n",
        "    # Уберем самые популярные товары (их и так купят)\n",
        "    popularity = data_train.groupby('item_id')['user_id'].nunique().reset_index() / data_train['user_id'].nunique()\n",
        "    popularity.rename(columns={'user_id': 'share_unique_users'}, inplace=True)\n",
        "    \n",
        "    top_popular = popularity[popularity['share_unique_users'] > 0.5].item_id.tolist()\n",
        "    data = data[~data['item_id'].isin(top_popular)]\n",
        "    \n",
        "    # Уберем самые НЕ популярные товары (их и так НЕ купят)\n",
        "    top_notpopular = popularity[popularity['share_unique_users'] < 0.01].item_id.tolist()\n",
        "    data = data[~data['item_id'].isin(top_notpopular)]\n",
        "    \n",
        "    # Уберем товары, которые не продавались за последние 12 месяцев\n",
        "    \n",
        "    # Уберем не интересные для рекоммендаций категории (department)\n",
        "    \n",
        "    # Уберем слишком дешевые товары (на них не заработаем). 1 покупка из рассылок стоит 60 руб. \n",
        "    \n",
        "    # Уберем слишком дорогие товарыs\n",
        "    \n",
        "    # ...\n",
        "    \n",
        "def postfilter_items(user_id, recommednations):\n",
        "    pass"
      ]
    },
    {
      "cell_type": "markdown",
      "id": "83beff23",
      "metadata": {
        "id": "83beff23",
        "papermill": {
          "duration": 0.11124,
          "end_time": "2022-04-19T19:03:54.989376",
          "exception": false,
          "start_time": "2022-04-19T19:03:54.878136",
          "status": "completed"
        },
        "tags": []
      },
      "source": [
        "Все эти функции отправим затем в *utils.py*"
      ]
    },
    {
      "cell_type": "markdown",
      "id": "49c1ce06",
      "metadata": {
        "papermill": {
          "duration": 0.108936,
          "end_time": "2022-04-19T19:03:55.212151",
          "exception": false,
          "start_time": "2022-04-19T19:03:55.103215",
          "status": "completed"
        },
        "tags": [],
        "id": "49c1ce06"
      },
      "source": [
        "# ДЗ\n",
        "\n",
        "1) Попытаться ответить на вопросы/выдвинуть гипотезы\n",
        "\n",
        "2) Доделать прошлые домашния задания\n",
        "\n",
        "3) Прочитать статьи BM25/MatrixFactorization\n",
        "\n",
        "4) Поэкспериментировать с ALS (grid-search)\n",
        "\n",
        "## Практика:\n",
        "\n",
        "4) Поэкспериментировать с ALS (grid-search) ********\n",
        "   * Подобрать лучшие параметры\n",
        "   * Написать отчет об увиденном"
      ]
    },
    {
      "cell_type": "markdown",
      "id": "13d95acf",
      "metadata": {
        "papermill": {
          "duration": 0.109809,
          "end_time": "2022-04-19T19:03:55.434254",
          "exception": false,
          "start_time": "2022-04-19T19:03:55.324445",
          "status": "completed"
        },
        "tags": [],
        "id": "13d95acf"
      },
      "source": [
        "### **Ответы-Рассуждения:**\n",
        "- Необходимо проанализировать состояние e-mail данных. Если брать всех покупателей данного ритейла, то из них только часть имеет карточки лояльности или приложения на телефоне, к которым привязан e-mail. Необходимо выяснить, какой процент этих e-mail являются активными. Среди них взять группу пользователей, для которых будем делать рассылку.\n",
        "- СМС использовать не будем, так как делаем рассылку в другие каналы связи. Лишний раз не раздражать покупателя. Телефон подходит больше для экстренной связи. (Из личного опыта взаимодействия с Озоном, в почту, приложение присылают одно и тоже, иногда по несколько раз на дню, за такое хочется просто поставить в бан этот сервис навсегда)\n",
        "- Push-уведомления можем использовать.\n",
        "- Печатать на чеке рекомендации не будем. (Опять же из личного опыта, на чеке слишком много информации, особенно когда большой список покупок, он и так длинный, еще впихивать рекомендации не слишком хорошая идея. К тому же чеки часто теряются, после выхода из магазина выкидываются, благо если покупатель будет сверять стоимость товара, иногда и это мимо него проходит, если не то пробили)\n",
        "- В e-mail отправляем 5 товаров (при этом можно расположить 3 в верхнем ряду поменьше, 2 в нижнем ряду побольше размером), в push - 1 товар (больше не поместится).\n",
        "- Стоимоть привлечения 1 юзера будет минимальная, так как мы не используем СМС-рассылку и не печатаем на чеках (меньший расход бумаги, чернил). Что касается расходов на скидки, то кажется, что в любом случае должна быть выгода (либо товара купят больше, например 2 молока вместо 1-го, либо его купят в принципе, хотя не планировали), исходя из той мысли, что скидки/акции делаются в большинстве случаев на товары, которые плохо продаются или выходит срок годности.\n",
        "- Среди рекомендованных товаров предлагается выбрать 3 по акции (верхний ряд), 2 новых товара (нижний ряд).\n",
        "- Рассылку по e-mail делать 1 раз в неделю утром (вероятность, что например, покупатель зайдет в почту с утра в метро, за завтраком, выше, чем в середине рабочего дня или вечером). Push-рассылку можно сделать 3 раза в неделю с уведомлением про сроки 1-го из акционных товаров. Чтобы напомнить.\n",
        "- Для оценки результата будем использовать метрику money precision@5, так как она учитывает денежную составляющую в подсчете."
      ]
    },
    {
      "cell_type": "markdown",
      "id": "505c78b1",
      "metadata": {
        "papermill": {
          "duration": 0.108876,
          "end_time": "2022-04-19T19:03:55.652450",
          "exception": false,
          "start_time": "2022-04-19T19:03:55.543574",
          "status": "completed"
        },
        "tags": [],
        "id": "505c78b1"
      },
      "source": [
        "### **Подбор параметров:**"
      ]
    },
    {
      "cell_type": "code",
      "execution_count": null,
      "id": "b2d034d8",
      "metadata": {
        "execution": {
          "iopub.execute_input": "2022-04-19T19:03:55.872789Z",
          "iopub.status.busy": "2022-04-19T19:03:55.872438Z",
          "iopub.status.idle": "2022-04-19T19:03:55.876765Z",
          "shell.execute_reply": "2022-04-19T19:03:55.876208Z"
        },
        "papermill": {
          "duration": 0.116251,
          "end_time": "2022-04-19T19:03:55.878389",
          "exception": false,
          "start_time": "2022-04-19T19:03:55.762138",
          "status": "completed"
        },
        "tags": [],
        "id": "b2d034d8"
      },
      "outputs": [],
      "source": [
        "param_grid = {'factors': [40, 64, 80],\n",
        "              'regularization': [0.05, 0.1, 0.5],\n",
        "              'iterations': [10, 15, 20]}"
      ]
    },
    {
      "cell_type": "code",
      "execution_count": null,
      "id": "c7fcb617",
      "metadata": {
        "execution": {
          "iopub.execute_input": "2022-04-19T19:03:56.108500Z",
          "iopub.status.busy": "2022-04-19T19:03:56.107986Z",
          "iopub.status.idle": "2022-04-19T19:23:15.318752Z",
          "shell.execute_reply": "2022-04-19T19:23:15.317317Z"
        },
        "papermill": {
          "duration": 1159.447207,
          "end_time": "2022-04-19T19:23:15.439629",
          "exception": false,
          "start_time": "2022-04-19T19:03:55.992422",
          "status": "completed"
        },
        "tags": [],
        "id": "c7fcb617",
        "outputId": "381e1f82-5684-4ec6-e30b-8840abc3ad04"
      },
      "outputs": [
        {
          "name": "stdout",
          "output_type": "stream",
          "text": [
            "factors: 40 | regularization: 0.05 | iterations: 10 | precision_at_5: 0.1698334965719883\n",
            "factors: 40 | regularization: 0.05 | iterations: 15 | precision_at_5: 0.16865817825661114\n",
            "factors: 40 | regularization: 0.05 | iterations: 20 | precision_at_5: 0.17002938295788445\n",
            "factors: 40 | regularization: 0.1 | iterations: 10 | precision_at_5: 0.16914789422135162\n",
            "factors: 40 | regularization: 0.1 | iterations: 15 | precision_at_5: 0.16904995102840353\n",
            "factors: 40 | regularization: 0.1 | iterations: 20 | precision_at_5: 0.16885406464250735\n",
            "factors: 40 | regularization: 0.5 | iterations: 10 | precision_at_5: 0.16591576885406462\n",
            "factors: 40 | regularization: 0.5 | iterations: 15 | precision_at_5: 0.16689520078354556\n",
            "factors: 40 | regularization: 0.5 | iterations: 20 | precision_at_5: 0.16865817825661117\n",
            "factors: 64 | regularization: 0.05 | iterations: 10 | precision_at_5: 0.1810969637610186\n",
            "factors: 64 | regularization: 0.05 | iterations: 15 | precision_at_5: 0.18197845249755143\n",
            "factors: 64 | regularization: 0.05 | iterations: 20 | precision_at_5: 0.1841332027424094\n",
            "factors: 64 | regularization: 0.1 | iterations: 10 | precision_at_5: 0.18060724779627815\n",
            "factors: 64 | regularization: 0.1 | iterations: 15 | precision_at_5: 0.18158667972575904\n",
            "factors: 64 | regularization: 0.1 | iterations: 20 | precision_at_5: 0.18393731635651323\n",
            "factors: 64 | regularization: 0.5 | iterations: 10 | precision_at_5: 0.18060724779627818\n",
            "factors: 64 | regularization: 0.5 | iterations: 15 | precision_at_5: 0.18139079333986285\n",
            "factors: 64 | regularization: 0.5 | iterations: 20 | precision_at_5: 0.18207639569049952\n",
            "factors: 80 | regularization: 0.05 | iterations: 10 | precision_at_5: 0.1851126346718903\n",
            "factors: 80 | regularization: 0.05 | iterations: 15 | precision_at_5: 0.18579823702252696\n",
            "factors: 80 | regularization: 0.05 | iterations: 20 | precision_at_5: 0.18677766895200784\n",
            "factors: 80 | regularization: 0.1 | iterations: 10 | precision_at_5: 0.18462291870714986\n",
            "factors: 80 | regularization: 0.1 | iterations: 15 | precision_at_5: 0.18550440744368268\n",
            "factors: 80 | regularization: 0.1 | iterations: 20 | precision_at_5: 0.18550440744368266\n",
            "factors: 80 | regularization: 0.5 | iterations: 10 | precision_at_5: 0.18256611165523998\n",
            "factors: 80 | regularization: 0.5 | iterations: 15 | precision_at_5: 0.18462291870714986\n",
            "factors: 80 | regularization: 0.5 | iterations: 20 | precision_at_5: 0.18256611165523998\n",
            "\n",
            " ****************************** \n",
            "\n",
            "Best_params\n",
            "factors: 80 | regularization: 0.05 | iterations: 20 | precision_at_5: 0.18677766895200784\n",
            "\n",
            "CPU times: user 42min 21s, sys: 33min 8s, total: 1h 15min 30s\n",
            "Wall time: 19min 19s\n"
          ]
        }
      ],
      "source": [
        "%%time\n",
        "\n",
        "# Возьмем модель с BM25 взвешиванием, и попытаемся найти наилучшие параметры для метода ALS\n",
        "\n",
        "params = []\n",
        "begin = 0\n",
        "for fac in param_grid['factors']:\n",
        "    for reg in param_grid['regularization']:\n",
        "        for ite in param_grid['iterations']:\n",
        "            model = AlternatingLeastSquares(factors=fac, \n",
        "                                    regularization=reg,\n",
        "                                    iterations=ite, \n",
        "                                    calculate_training_loss=True, \n",
        "                                    num_threads=10,\n",
        "                                    random_state=42)\n",
        "            model.fit(csr_matrix(user_item_matrix).T.tocsr(),  # На вход item-user matrix\n",
        "              show_progress=False)\n",
        "            result['als_gs'] = result['user_id'].apply(lambda x: get_recommendations(x, model=model, N=5))\n",
        "            als_gs = result.apply(lambda row: precision_at_k(row['als_gs'], row['actual']), axis=1).mean()\n",
        "            params.append((fac, reg, ite, als_gs))\n",
        "            print(f'factors: {fac} | regularization: {reg} | iterations: {ite} | precision_at_5: {als_gs}')\n",
        "            if als_gs > begin:\n",
        "                begin = als_gs\n",
        "\n",
        "for i in range(len(params)):\n",
        "    if begin == params[i][3]:\n",
        "        print('\\n', 30*'*', '\\n')\n",
        "        print('Best_params')\n",
        "        print(f'factors: {params[i][0]} | regularization: {params[i][1]} | iterations: {params[i][2]} | precision_at_5: {params[i][3]}\\n')\n",
        "           "
      ]
    },
    {
      "cell_type": "code",
      "execution_count": null,
      "id": "afe9ac9d",
      "metadata": {
        "execution": {
          "iopub.execute_input": "2022-04-19T19:23:15.680673Z",
          "iopub.status.busy": "2022-04-19T19:23:15.680349Z",
          "iopub.status.idle": "2022-04-19T19:23:16.630662Z",
          "shell.execute_reply": "2022-04-19T19:23:16.629760Z"
        },
        "papermill": {
          "duration": 1.073598,
          "end_time": "2022-04-19T19:23:16.633020",
          "exception": false,
          "start_time": "2022-04-19T19:23:15.559422",
          "status": "completed"
        },
        "tags": [],
        "id": "afe9ac9d",
        "outputId": "aca8ac4e-077a-4505-a504-411d846c822f"
      },
      "outputs": [
        {
          "data": {
            "image/png": "[encoded data removed]",
            "text/plain": [
              "<Figure size 576x576 with 3 Axes>"
            ]
          },
          "metadata": {
            "needs_background": "light"
          },
          "output_type": "display_data"
        }
      ],
      "source": [
        "import numpy as np\n",
        "import matplotlib.pyplot as plt\n",
        "\n",
        "x1 = [params[i][0] for i in range(len(params))]\n",
        "x2 = [params[i][1] for i in range(len(params))]\n",
        "x3 = [params[i][2] for i in range(len(params))]\n",
        "y = [params[i][3] for i in range(len(params))]\n",
        "\n",
        "# Create figure\n",
        "fig, (ax0, ax1, ax2) = plt.subplots(nrows=3, constrained_layout=True, figsize=(8, 8))\n",
        "\n",
        "ax0.semilogy(x1, y)\n",
        "ax0.set(title='factors')\n",
        "ax0.grid()\n",
        "\n",
        "ax1.semilogy(x2, y)\n",
        "ax1.set(title='regularization')\n",
        "ax1.grid()\n",
        "\n",
        "ax2.semilogy(x3, y)\n",
        "ax2.set(title='iterations')\n",
        "ax2.grid()\n",
        "\n",
        "plt.show()"
      ]
    },
    {
      "cell_type": "markdown",
      "id": "b60592c0",
      "metadata": {
        "papermill": {
          "duration": 0.124351,
          "end_time": "2022-04-19T19:23:16.879409",
          "exception": false,
          "start_time": "2022-04-19T19:23:16.755058",
          "status": "completed"
        },
        "tags": [],
        "id": "b60592c0"
      },
      "source": [
        "### **Выводы:**\n",
        "\n",
        "- Количество вводимых факторов улучшает метрику.\n",
        "- Изменение параметра количества итераций и коэффициента регуляризации не имеет оказывает прямого воздействия на метрику, только в сочетании с другими параметрами.\n",
        "- Для сравнения результатов необходимо зафиксировать значение random_state."
      ]
    },
    {
      "cell_type": "code",
      "execution_count": null,
      "id": "e0a09dff",
      "metadata": {
        "execution": {
          "iopub.execute_input": "2022-04-19T19:23:17.128319Z",
          "iopub.status.busy": "2022-04-19T19:23:17.128009Z",
          "iopub.status.idle": "2022-04-19T19:24:11.559303Z",
          "shell.execute_reply": "2022-04-19T19:24:11.558283Z"
        },
        "papermill": {
          "duration": 54.560428,
          "end_time": "2022-04-19T19:24:11.563066",
          "exception": false,
          "start_time": "2022-04-19T19:23:17.002638",
          "status": "completed"
        },
        "tags": [],
        "colab": {
          "referenced_widgets": [
            "98f6ca6474bd40738fef8f66d1b61939"
          ]
        },
        "id": "e0a09dff",
        "outputId": "69a65ac8-f426-4941-a16e-6c02f100f845"
      },
      "outputs": [
        {
          "data": {
            "application/vnd.jupyter.widget-view+json": {
              "model_id": "98f6ca6474bd40738fef8f66d1b61939",
              "version_major": 2,
              "version_minor": 0
            },
            "text/plain": [
              "  0%|          | 0/20 [00:00<?, ?it/s]"
            ]
          },
          "metadata": {},
          "output_type": "display_data"
        }
      ],
      "source": [
        "# Подставим лучшие параметры\n",
        "\n",
        "model = AlternatingLeastSquares(factors=80, \n",
        "                                regularization=0.05,\n",
        "                                iterations=20, \n",
        "                                calculate_training_loss=True, \n",
        "                                num_threads=5,\n",
        "                                random_state=42)\n",
        "\n",
        "model.fit(csr_matrix(user_item_matrix).T.tocsr(),  # На вход item-user matrix\n",
        "          show_progress=True)\n",
        "\n",
        "result['als_gs'] = result['user_id'].apply(lambda x: get_recommendations(x, model=model, N=5))"
      ]
    },
    {
      "cell_type": "code",
      "execution_count": null,
      "id": "6a1f9a7b",
      "metadata": {
        "execution": {
          "iopub.execute_input": "2022-04-19T19:24:11.868096Z",
          "iopub.status.busy": "2022-04-19T19:24:11.867821Z",
          "iopub.status.idle": "2022-04-19T19:24:11.988434Z",
          "shell.execute_reply": "2022-04-19T19:24:11.987734Z"
        },
        "papermill": {
          "duration": 0.248514,
          "end_time": "2022-04-19T19:24:11.990448",
          "exception": false,
          "start_time": "2022-04-19T19:24:11.741934",
          "status": "completed"
        },
        "tags": [],
        "id": "6a1f9a7b",
        "outputId": "48c39fc3-2cb6-421b-c42c-e7f4128db919"
      },
      "outputs": [
        {
          "data": {
            "text/plain": [
              "0.18677766895200784"
            ]
          },
          "execution_count": 58,
          "metadata": {},
          "output_type": "execute_result"
        }
      ],
      "source": [
        "result.apply(lambda row: precision_at_k(row['als_gs'], row['actual']), axis=1).mean()"
      ]
    },
    {
      "cell_type": "code",
      "execution_count": null,
      "id": "04e56a7e",
      "metadata": {
        "execution": {
          "iopub.execute_input": "2022-04-19T19:24:12.240488Z",
          "iopub.status.busy": "2022-04-19T19:24:12.239854Z",
          "iopub.status.idle": "2022-04-19T19:24:12.264338Z",
          "shell.execute_reply": "2022-04-19T19:24:12.263689Z"
        },
        "papermill": {
          "duration": 0.151328,
          "end_time": "2022-04-19T19:24:12.266256",
          "exception": false,
          "start_time": "2022-04-19T19:24:12.114928",
          "status": "completed"
        },
        "tags": [],
        "id": "04e56a7e",
        "outputId": "94aaed62-783f-4009-b460-f6fd56b35deb"
      },
      "outputs": [
        {
          "data": {
            "text/html": [
              "<div>\n",
              "<style scoped>\n",
              "    .dataframe tbody tr th:only-of-type {\n",
              "        vertical-align: middle;\n",
              "    }\n",
              "\n",
              "    .dataframe tbody tr th {\n",
              "        vertical-align: top;\n",
              "    }\n",
              "\n",
              "    .dataframe thead th {\n",
              "        text-align: right;\n",
              "    }\n",
              "</style>\n",
              "<table border=\"1\" class=\"dataframe\">\n",
              "  <thead>\n",
              "    <tr style=\"text-align: right;\">\n",
              "      <th></th>\n",
              "      <th>user_id</th>\n",
              "      <th>actual</th>\n",
              "      <th>als</th>\n",
              "      <th>als_tfidf</th>\n",
              "      <th>als_bm25</th>\n",
              "      <th>als_gs</th>\n",
              "    </tr>\n",
              "  </thead>\n",
              "  <tbody>\n",
              "    <tr>\n",
              "      <th>0</th>\n",
              "      <td>1</td>\n",
              "      <td>[821867, 834484, 856942, 865456, 889248, 90795...</td>\n",
              "      <td>[1051211, 1033142, 1100972, 832678, 999999]</td>\n",
              "      <td>[999999, 1082185, 901062, 995242, 1024306]</td>\n",
              "      <td>[999999, 1082185, 1100972, 995242, 5569374]</td>\n",
              "      <td>[999999, 995242, 1082185, 1100972, 934369]</td>\n",
              "    </tr>\n",
              "    <tr>\n",
              "      <th>1</th>\n",
              "      <td>3</td>\n",
              "      <td>[835476, 851057, 872021, 878302, 879948, 90963...</td>\n",
              "      <td>[5568378, 1106523, 951590, 910032, 1092026]</td>\n",
              "      <td>[951590, 999999, 1106523, 1133018, 1029743]</td>\n",
              "      <td>[999999, 951590, 1053690, 1133018, 883404]</td>\n",
              "      <td>[999999, 951590, 1133018, 1053690, 1092026]</td>\n",
              "    </tr>\n",
              "    <tr>\n",
              "      <th>2</th>\n",
              "      <td>6</td>\n",
              "      <td>[920308, 926804, 946489, 1006718, 1017061, 107...</td>\n",
              "      <td>[878996, 1007195, 1024306, 866227, 1051516]</td>\n",
              "      <td>[1024306, 1023720, 1051516, 1127831, 834484]</td>\n",
              "      <td>[1082185, 1024306, 999999, 930118, 878996]</td>\n",
              "      <td>[1024306, 1082185, 1007195, 1023720, 999999]</td>\n",
              "    </tr>\n",
              "    <tr>\n",
              "      <th>3</th>\n",
              "      <td>7</td>\n",
              "      <td>[840386, 889774, 898068, 909714, 929067, 95347...</td>\n",
              "      <td>[999999, 1082185, 1106523, 1058997, 6534178]</td>\n",
              "      <td>[999999, 1082185, 6534178, 826249, 1029743]</td>\n",
              "      <td>[999999, 849843, 1082185, 6944571, 1122358]</td>\n",
              "      <td>[999999, 1082185, 6944571, 849843, 1058997]</td>\n",
              "    </tr>\n",
              "    <tr>\n",
              "      <th>4</th>\n",
              "      <td>8</td>\n",
              "      <td>[835098, 872137, 910439, 924610, 992977, 10412...</td>\n",
              "      <td>[938700, 1068719, 883404, 1053690, 1004906]</td>\n",
              "      <td>[1053690, 965766, 938700, 833715, 1068719]</td>\n",
              "      <td>[999999, 883404, 995242, 840361, 965766]</td>\n",
              "      <td>[999999, 840361, 1004906, 1068719, 1082185]</td>\n",
              "    </tr>\n",
              "  </tbody>\n",
              "</table>\n",
              "</div>"
            ],
            "text/plain": [
              "   user_id                                             actual  \\\n",
              "0        1  [821867, 834484, 856942, 865456, 889248, 90795...   \n",
              "1        3  [835476, 851057, 872021, 878302, 879948, 90963...   \n",
              "2        6  [920308, 926804, 946489, 1006718, 1017061, 107...   \n",
              "3        7  [840386, 889774, 898068, 909714, 929067, 95347...   \n",
              "4        8  [835098, 872137, 910439, 924610, 992977, 10412...   \n",
              "\n",
              "                                            als  \\\n",
              "0   [1051211, 1033142, 1100972, 832678, 999999]   \n",
              "1   [5568378, 1106523, 951590, 910032, 1092026]   \n",
              "2   [878996, 1007195, 1024306, 866227, 1051516]   \n",
              "3  [999999, 1082185, 1106523, 1058997, 6534178]   \n",
              "4   [938700, 1068719, 883404, 1053690, 1004906]   \n",
              "\n",
              "                                      als_tfidf  \\\n",
              "0    [999999, 1082185, 901062, 995242, 1024306]   \n",
              "1   [951590, 999999, 1106523, 1133018, 1029743]   \n",
              "2  [1024306, 1023720, 1051516, 1127831, 834484]   \n",
              "3   [999999, 1082185, 6534178, 826249, 1029743]   \n",
              "4    [1053690, 965766, 938700, 833715, 1068719]   \n",
              "\n",
              "                                      als_bm25  \\\n",
              "0  [999999, 1082185, 1100972, 995242, 5569374]   \n",
              "1   [999999, 951590, 1053690, 1133018, 883404]   \n",
              "2   [1082185, 1024306, 999999, 930118, 878996]   \n",
              "3  [999999, 849843, 1082185, 6944571, 1122358]   \n",
              "4     [999999, 883404, 995242, 840361, 965766]   \n",
              "\n",
              "                                         als_gs  \n",
              "0    [999999, 995242, 1082185, 1100972, 934369]  \n",
              "1   [999999, 951590, 1133018, 1053690, 1092026]  \n",
              "2  [1024306, 1082185, 1007195, 1023720, 999999]  \n",
              "3   [999999, 1082185, 6944571, 849843, 1058997]  \n",
              "4   [999999, 840361, 1004906, 1068719, 1082185]  "
            ]
          },
          "execution_count": 59,
          "metadata": {},
          "output_type": "execute_result"
        }
      ],
      "source": [
        "result.head()"
      ]
    },
    {
      "cell_type": "markdown",
      "id": "22886a6b",
      "metadata": {
        "papermill": {
          "duration": 0.123003,
          "end_time": "2022-04-19T19:24:12.512634",
          "exception": false,
          "start_time": "2022-04-19T19:24:12.389631",
          "status": "completed"
        },
        "tags": [],
        "id": "22886a6b"
      },
      "source": [
        "# Links\n",
        "\n",
        "BM25\n",
        "\n",
        "https://en.wikipedia.org/wiki/Okapi_BM25#:~:text=BM25%20is%20a%20bag%2Dof,slightly%20different%20components%20and%20parameters.\n",
        "\n",
        "\n",
        "Matrix factorization (ALS, SVD)\n",
        "https://datasciencemadesimpler.wordpress.com/tag/alternating-least-squares/"
      ]
    }
  ],
  "metadata": {
    "kernelspec": {
      "display_name": "Python 3",
      "language": "python",
      "name": "python3"
    },
    "language_info": {
      "codemirror_mode": {
        "name": "ipython",
        "version": 3
      },
      "file_extension": ".py",
      "mimetype": "text/x-python",
      "name": "python",
      "nbconvert_exporter": "python",
      "pygments_lexer": "ipython3",
      "version": "3.7.12"
    },
    "papermill": {
      "default_parameters": {},
      "duration": 1464.800965,
      "end_time": "2022-04-19T19:24:13.462341",
      "environment_variables": {},
      "exception": null,
      "input_path": "__notebook__.ipynb",
      "output_path": "__notebook__.ipynb",
      "parameters": {},
      "start_time": "2022-04-19T18:59:48.661376",
      "version": "2.3.4"
    },
    "widgets": {
      "application/vnd.jupyter.widget-state+json": {}
    },
    "colab": {
      "name": "HW3_ALS.ipynb",
      "provenance": []
    }
  },
  "nbformat": 4,
  "nbformat_minor": 5
}