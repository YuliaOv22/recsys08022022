{
 "cells": [
  {
   "cell_type": "code",
   "execution_count": 1,
   "id": "4c2b03d3",
   "metadata": {
    "_cell_guid": "b1076dfc-b9ad-4769-8c92-a6c4dae69d19",
    "_uuid": "8f2839f25d086af736a60e9eeb907d3b93b6e0e5",
    "execution": {
     "iopub.execute_input": "2022-02-19T20:21:10.602162Z",
     "iopub.status.busy": "2022-02-19T20:21:10.600912Z",
     "iopub.status.idle": "2022-02-19T20:21:11.047407Z",
     "shell.execute_reply": "2022-02-19T20:21:11.048384Z",
     "shell.execute_reply.started": "2022-02-19T20:17:44.414596Z"
    },
    "papermill": {
     "duration": 0.484157,
     "end_time": "2022-02-19T20:21:11.048889",
     "exception": false,
     "start_time": "2022-02-19T20:21:10.564732",
     "status": "completed"
    },
    "tags": []
   },
   "outputs": [],
   "source": [
    "import numpy as np \n",
    "import pandas as pd \n",
    "import matplotlib.pyplot as plt\n",
    "%matplotlib inline\n",
    "import re\n",
    "from scipy.sparse import csr_matrix, coo_matrix\n",
    "from implicit.nearest_neighbours import ItemItemRecommender\n",
    "import warnings\n",
    "warnings.filterwarnings('ignore')"
   ]
  },
  {
   "cell_type": "code",
   "execution_count": 2,
   "id": "dfc03d61",
   "metadata": {
    "execution": {
     "iopub.execute_input": "2022-02-19T20:21:11.118668Z",
     "iopub.status.busy": "2022-02-19T20:21:11.118010Z",
     "iopub.status.idle": "2022-02-19T20:21:15.407688Z",
     "shell.execute_reply": "2022-02-19T20:21:15.408235Z",
     "shell.execute_reply.started": "2022-02-19T20:17:44.437396Z"
    },
    "papermill": {
     "duration": 4.323638,
     "end_time": "2022-02-19T20:21:15.408412",
     "exception": false,
     "start_time": "2022-02-19T20:21:11.084774",
     "status": "completed"
    },
    "tags": []
   },
   "outputs": [
    {
     "data": {
      "text/html": [
       "<div>\n",
       "<style scoped>\n",
       "    .dataframe tbody tr th:only-of-type {\n",
       "        vertical-align: middle;\n",
       "    }\n",
       "\n",
       "    .dataframe tbody tr th {\n",
       "        vertical-align: top;\n",
       "    }\n",
       "\n",
       "    .dataframe thead th {\n",
       "        text-align: right;\n",
       "    }\n",
       "</style>\n",
       "<table border=\"1\" class=\"dataframe\">\n",
       "  <thead>\n",
       "    <tr style=\"text-align: right;\">\n",
       "      <th></th>\n",
       "      <th>user_id</th>\n",
       "      <th>basket_id</th>\n",
       "      <th>day</th>\n",
       "      <th>item_id</th>\n",
       "      <th>quantity</th>\n",
       "      <th>sales_value</th>\n",
       "      <th>store_id</th>\n",
       "      <th>retail_disc</th>\n",
       "      <th>trans_time</th>\n",
       "      <th>week_no</th>\n",
       "      <th>coupon_disc</th>\n",
       "      <th>coupon_match_disc</th>\n",
       "    </tr>\n",
       "  </thead>\n",
       "  <tbody>\n",
       "    <tr>\n",
       "      <th>0</th>\n",
       "      <td>2375</td>\n",
       "      <td>26984851472</td>\n",
       "      <td>1</td>\n",
       "      <td>1004906</td>\n",
       "      <td>1</td>\n",
       "      <td>1.39</td>\n",
       "      <td>364</td>\n",
       "      <td>-0.6</td>\n",
       "      <td>1631</td>\n",
       "      <td>1</td>\n",
       "      <td>0.0</td>\n",
       "      <td>0.0</td>\n",
       "    </tr>\n",
       "    <tr>\n",
       "      <th>1</th>\n",
       "      <td>2375</td>\n",
       "      <td>26984851472</td>\n",
       "      <td>1</td>\n",
       "      <td>1033142</td>\n",
       "      <td>1</td>\n",
       "      <td>0.82</td>\n",
       "      <td>364</td>\n",
       "      <td>0.0</td>\n",
       "      <td>1631</td>\n",
       "      <td>1</td>\n",
       "      <td>0.0</td>\n",
       "      <td>0.0</td>\n",
       "    </tr>\n",
       "  </tbody>\n",
       "</table>\n",
       "</div>"
      ],
      "text/plain": [
       "   user_id    basket_id  day  item_id  quantity  sales_value  store_id  \\\n",
       "0     2375  26984851472    1  1004906         1         1.39       364   \n",
       "1     2375  26984851472    1  1033142         1         0.82       364   \n",
       "\n",
       "   retail_disc  trans_time  week_no  coupon_disc  coupon_match_disc  \n",
       "0         -0.6        1631        1          0.0                0.0  \n",
       "1          0.0        1631        1          0.0                0.0  "
      ]
     },
     "execution_count": 2,
     "metadata": {},
     "output_type": "execute_result"
    }
   ],
   "source": [
    "data = pd.read_csv('retail_train.csv')\n",
    "result = pd.read_csv('predictions_basic.csv')\n",
    "data.head(2)"
   ]
  },
  {
   "cell_type": "code",
   "execution_count": 3,
   "id": "79b4428c",
   "metadata": {
    "execution": {
     "iopub.execute_input": "2022-02-19T20:21:15.476353Z",
     "iopub.status.busy": "2022-02-19T20:21:15.475619Z",
     "iopub.status.idle": "2022-02-19T20:21:15.639605Z",
     "shell.execute_reply": "2022-02-19T20:21:15.638905Z",
     "shell.execute_reply.started": "2022-02-19T20:17:47.419212Z"
    },
    "papermill": {
     "duration": 0.201925,
     "end_time": "2022-02-19T20:21:15.639749",
     "exception": false,
     "start_time": "2022-02-19T20:21:15.437824",
     "status": "completed"
    },
    "tags": []
   },
   "outputs": [],
   "source": [
    "test_size_weeks = 3\n",
    "\n",
    "data_train = data[data['week_no'] < data['week_no'].max() - test_size_weeks]\n",
    "data_test = data[data['week_no'] >= data['week_no'].max() - test_size_weeks]"
   ]
  },
  {
   "cell_type": "markdown",
   "id": "61fe7146",
   "metadata": {
    "papermill": {
     "duration": 0.029009,
     "end_time": "2022-02-19T20:21:15.698633",
     "exception": false,
     "start_time": "2022-02-19T20:21:15.669624",
     "status": "completed"
    },
    "tags": []
   },
   "source": [
    "### **Задание 1. Weighted Random Recommendation**\n",
    "\n",
    "Напишите код для случайных рекоммендаций, в которых вероятность рекомендовать товар прямо пропорциональна логарифму продаж\n",
    "- Можно сэмплировать товары случайно, но пропорционально какому-либо весу\n",
    "- Например, прямопропорционально популярности. Вес = log(sales_sum товара)"
   ]
  },
  {
   "cell_type": "code",
   "execution_count": 4,
   "id": "57ae7fb5",
   "metadata": {
    "execution": {
     "iopub.execute_input": "2022-02-19T20:21:15.766001Z",
     "iopub.status.busy": "2022-02-19T20:21:15.765274Z",
     "iopub.status.idle": "2022-02-19T20:21:15.917261Z",
     "shell.execute_reply": "2022-02-19T20:21:15.917742Z",
     "shell.execute_reply.started": "2022-02-19T20:17:47.551485Z"
    },
    "papermill": {
     "duration": 0.190097,
     "end_time": "2022-02-19T20:21:15.917953",
     "exception": false,
     "start_time": "2022-02-19T20:21:15.727856",
     "status": "completed"
    },
    "tags": []
   },
   "outputs": [
    {
     "data": {
      "text/html": [
       "<div>\n",
       "<style scoped>\n",
       "    .dataframe tbody tr th:only-of-type {\n",
       "        vertical-align: middle;\n",
       "    }\n",
       "\n",
       "    .dataframe tbody tr th {\n",
       "        vertical-align: top;\n",
       "    }\n",
       "\n",
       "    .dataframe thead th {\n",
       "        text-align: right;\n",
       "    }\n",
       "</style>\n",
       "<table border=\"1\" class=\"dataframe\">\n",
       "  <thead>\n",
       "    <tr style=\"text-align: right;\">\n",
       "      <th></th>\n",
       "      <th>item_id</th>\n",
       "      <th>sales_value</th>\n",
       "      <th>weight</th>\n",
       "    </tr>\n",
       "  </thead>\n",
       "  <tbody>\n",
       "    <tr>\n",
       "      <th>0</th>\n",
       "      <td>25671</td>\n",
       "      <td>20.94</td>\n",
       "      <td>2.969296e-06</td>\n",
       "    </tr>\n",
       "    <tr>\n",
       "      <th>1</th>\n",
       "      <td>26081</td>\n",
       "      <td>0.99</td>\n",
       "      <td>1.403822e-07</td>\n",
       "    </tr>\n",
       "  </tbody>\n",
       "</table>\n",
       "</div>"
      ],
      "text/plain": [
       "   item_id  sales_value        weight\n",
       "0    25671        20.94  2.969296e-06\n",
       "1    26081         0.99  1.403822e-07"
      ]
     },
     "execution_count": 4,
     "metadata": {},
     "output_type": "execute_result"
    }
   ],
   "source": [
    "popularity = data_train.groupby('item_id')['sales_value'].sum().reset_index()\n",
    "popularity['weight'] = popularity['sales_value'] / popularity['sales_value'].sum()\n",
    "popularity.head(2)"
   ]
  },
  {
   "cell_type": "code",
   "execution_count": 5,
   "id": "89717135",
   "metadata": {
    "execution": {
     "iopub.execute_input": "2022-02-19T20:21:15.981436Z",
     "iopub.status.busy": "2022-02-19T20:21:15.980423Z",
     "iopub.status.idle": "2022-02-19T20:21:15.987056Z",
     "shell.execute_reply": "2022-02-19T20:21:15.987587Z",
     "shell.execute_reply.started": "2022-02-19T20:17:47.697763Z"
    },
    "papermill": {
     "duration": 0.04011,
     "end_time": "2022-02-19T20:21:15.987773",
     "exception": false,
     "start_time": "2022-02-19T20:21:15.947663",
     "status": "completed"
    },
    "tags": []
   },
   "outputs": [],
   "source": [
    "def weighted_random_recommendation(items_weights, n=5):\n",
    "    \"\"\"Случайные рекоммендации\n",
    "    \n",
    "    Input\n",
    "    -----\n",
    "    items_weights: pd.DataFrame\n",
    "        Датафрейм со столбцами item_id, weight. Сумма weight по всем товарам = 1\n",
    "    \"\"\"\n",
    "    \n",
    "    # Подсказка: необходимо модифицировать функцию random_recommendation()\n",
    "    # your_code\n",
    "    \n",
    "    items = np.array(items_weights['item_id'])\n",
    "    weights = np.array(items_weights['weight'])\n",
    "    recs = np.random.choice(items, size=n, p=weights, replace=False)\n",
    "    \n",
    "    return recs.tolist()"
   ]
  },
  {
   "cell_type": "code",
   "execution_count": 6,
   "id": "0621142d",
   "metadata": {
    "execution": {
     "iopub.execute_input": "2022-02-19T20:21:16.050779Z",
     "iopub.status.busy": "2022-02-19T20:21:16.050091Z",
     "iopub.status.idle": "2022-02-19T20:21:18.966981Z",
     "shell.execute_reply": "2022-02-19T20:21:18.967466Z",
     "shell.execute_reply.started": "2022-02-19T20:17:47.706570Z"
    },
    "papermill": {
     "duration": 2.95013,
     "end_time": "2022-02-19T20:21:18.967651",
     "exception": false,
     "start_time": "2022-02-19T20:21:16.017521",
     "status": "completed"
    },
    "tags": []
   },
   "outputs": [
    {
     "name": "stdout",
     "output_type": "stream",
     "text": [
      "CPU times: user 2.89 s, sys: 625 µs, total: 2.89 s\n",
      "Wall time: 2.9 s\n"
     ]
    },
    {
     "data": {
      "text/html": [
       "<div>\n",
       "<style scoped>\n",
       "    .dataframe tbody tr th:only-of-type {\n",
       "        vertical-align: middle;\n",
       "    }\n",
       "\n",
       "    .dataframe tbody tr th {\n",
       "        vertical-align: top;\n",
       "    }\n",
       "\n",
       "    .dataframe thead th {\n",
       "        text-align: right;\n",
       "    }\n",
       "</style>\n",
       "<table border=\"1\" class=\"dataframe\">\n",
       "  <thead>\n",
       "    <tr style=\"text-align: right;\">\n",
       "      <th></th>\n",
       "      <th>user_id</th>\n",
       "      <th>actual</th>\n",
       "      <th>random_recommendation</th>\n",
       "      <th>popular_recommendation</th>\n",
       "      <th>itemitem</th>\n",
       "      <th>cosine</th>\n",
       "      <th>tfidf</th>\n",
       "      <th>own_purchases</th>\n",
       "      <th>weighted_random_recommendation</th>\n",
       "    </tr>\n",
       "  </thead>\n",
       "  <tbody>\n",
       "    <tr>\n",
       "      <th>0</th>\n",
       "      <td>1</td>\n",
       "      <td>[  821867   834484   856942   865456   889248 ...</td>\n",
       "      <td>[1120297, 12672919, 865377, 14074566, 1073212]</td>\n",
       "      <td>[6534178, 6533889, 1029743, 6534166, 1082185]</td>\n",
       "      <td>[999999, 1082185, 981760, 1127831, 995242]</td>\n",
       "      <td>[1082185, 999999, 981760, 1127831, 1098066]</td>\n",
       "      <td>[1082185, 981760, 1127831, 999999, 1098066]</td>\n",
       "      <td>[1082185, 1029743, 995785, 1004906, 1081177]</td>\n",
       "      <td>[1075368, 909972, 1054262, 916381, 1124081]</td>\n",
       "    </tr>\n",
       "    <tr>\n",
       "      <th>1</th>\n",
       "      <td>3</td>\n",
       "      <td>[  835476   851057   872021   878302   879948 ...</td>\n",
       "      <td>[12985723, 13511470, 976405, 6920289, 953154]</td>\n",
       "      <td>[6534178, 6533889, 1029743, 6534166, 1082185]</td>\n",
       "      <td>[999999, 1082185, 981760, 1098066, 995242]</td>\n",
       "      <td>[1082185, 1098066, 981760, 999999, 826249]</td>\n",
       "      <td>[1082185, 981760, 1098066, 826249, 999999]</td>\n",
       "      <td>[1082185, 1098066, 6534178, 1127831, 1068719]</td>\n",
       "      <td>[872137, 1045288, 1040807, 5584007, 1030819]</td>\n",
       "    </tr>\n",
       "  </tbody>\n",
       "</table>\n",
       "</div>"
      ],
      "text/plain": [
       "   user_id                                             actual  \\\n",
       "0        1  [  821867   834484   856942   865456   889248 ...   \n",
       "1        3  [  835476   851057   872021   878302   879948 ...   \n",
       "\n",
       "                            random_recommendation  \\\n",
       "0  [1120297, 12672919, 865377, 14074566, 1073212]   \n",
       "1   [12985723, 13511470, 976405, 6920289, 953154]   \n",
       "\n",
       "                          popular_recommendation  \\\n",
       "0  [6534178, 6533889, 1029743, 6534166, 1082185]   \n",
       "1  [6534178, 6533889, 1029743, 6534166, 1082185]   \n",
       "\n",
       "                                     itemitem  \\\n",
       "0  [999999, 1082185, 981760, 1127831, 995242]   \n",
       "1  [999999, 1082185, 981760, 1098066, 995242]   \n",
       "\n",
       "                                        cosine  \\\n",
       "0  [1082185, 999999, 981760, 1127831, 1098066]   \n",
       "1   [1082185, 1098066, 981760, 999999, 826249]   \n",
       "\n",
       "                                         tfidf  \\\n",
       "0  [1082185, 981760, 1127831, 999999, 1098066]   \n",
       "1   [1082185, 981760, 1098066, 826249, 999999]   \n",
       "\n",
       "                                   own_purchases  \\\n",
       "0   [1082185, 1029743, 995785, 1004906, 1081177]   \n",
       "1  [1082185, 1098066, 6534178, 1127831, 1068719]   \n",
       "\n",
       "                 weighted_random_recommendation  \n",
       "0   [1075368, 909972, 1054262, 916381, 1124081]  \n",
       "1  [872137, 1045288, 1040807, 5584007, 1030819]  "
      ]
     },
     "execution_count": 6,
     "metadata": {},
     "output_type": "execute_result"
    }
   ],
   "source": [
    "%%time\n",
    "\n",
    "# your_code\n",
    "\n",
    "items_weights = popularity[['item_id', 'weight']]\n",
    "\n",
    "result_weighted = pd.DataFrame()\n",
    "result['weighted_random_recommendation'] = result['user_id'].apply(lambda x: weighted_random_recommendation(items_weights, n=5))\n",
    "\n",
    "result.head(2)"
   ]
  },
  {
   "cell_type": "markdown",
   "id": "64018e03",
   "metadata": {
    "papermill": {
     "duration": 0.033225,
     "end_time": "2022-02-19T20:21:19.032010",
     "exception": false,
     "start_time": "2022-02-19T20:21:18.998785",
     "status": "completed"
    },
    "tags": []
   },
   "source": [
    "### **Задание 2. Расчет метрик**\n",
    "Рассчитайте Precision@5 для каждого алгоритма с помощью функции из вебинара 1. Какой алгоритм показывает лучшее качество?"
   ]
  },
  {
   "cell_type": "code",
   "execution_count": 7,
   "id": "20b9825d",
   "metadata": {
    "execution": {
     "iopub.execute_input": "2022-02-19T20:21:19.100669Z",
     "iopub.status.busy": "2022-02-19T20:21:19.099978Z",
     "iopub.status.idle": "2022-02-19T20:21:19.102076Z",
     "shell.execute_reply": "2022-02-19T20:21:19.102681Z",
     "shell.execute_reply.started": "2022-02-19T20:17:50.707246Z"
    },
    "papermill": {
     "duration": 0.040484,
     "end_time": "2022-02-19T20:21:19.102888",
     "exception": false,
     "start_time": "2022-02-19T20:21:19.062404",
     "status": "completed"
    },
    "tags": []
   },
   "outputs": [],
   "source": [
    "def precision(recommended_list, bought_list):\n",
    "    bought_list = np.array(bought_list)\n",
    "    recommended_list = np.array(recommended_list)\n",
    "    flags = np.isin(bought_list, recommended_list)\n",
    "    return flags.sum() / len(recommended_list)\n",
    "\n",
    "def precision_at_k(recommended_list, bought_list, k=5):\n",
    "    return precision(recommended_list[:k], bought_list)"
   ]
  },
  {
   "cell_type": "code",
   "execution_count": 8,
   "id": "f38a3251",
   "metadata": {
    "execution": {
     "iopub.execute_input": "2022-02-19T20:21:19.167939Z",
     "iopub.status.busy": "2022-02-19T20:21:19.167241Z",
     "iopub.status.idle": "2022-02-19T20:21:19.173812Z",
     "shell.execute_reply": "2022-02-19T20:21:19.174347Z",
     "shell.execute_reply.started": "2022-02-19T20:17:50.734358Z"
    },
    "papermill": {
     "duration": 0.040901,
     "end_time": "2022-02-19T20:21:19.174573",
     "exception": false,
     "start_time": "2022-02-19T20:21:19.133672",
     "status": "completed"
    },
    "tags": []
   },
   "outputs": [],
   "source": [
    "# функция для преобразования строк в список\n",
    "def str_to_array(result):\n",
    "    shape_ = result.shape[0]\n",
    "    for col in result.columns[1:]:        \n",
    "        for string in range(shape_):\n",
    "            if isinstance(result[col].iloc[string], str):\n",
    "                result[col].iloc[string] = [int(_) for _ in re.findall(r'-?\\d+\\.?\\d*', result[col].iloc[string])]\n",
    "            else:\n",
    "                result[col].iloc[string] = result[col].iloc[string]\n",
    "\n",
    "    return result"
   ]
  },
  {
   "cell_type": "code",
   "execution_count": 9,
   "id": "8aae4766",
   "metadata": {
    "execution": {
     "iopub.execute_input": "2022-02-19T20:21:19.240946Z",
     "iopub.status.busy": "2022-02-19T20:21:19.240274Z",
     "iopub.status.idle": "2022-02-19T20:21:25.754721Z",
     "shell.execute_reply": "2022-02-19T20:21:25.754029Z",
     "shell.execute_reply.started": "2022-02-19T20:17:50.749501Z"
    },
    "papermill": {
     "duration": 6.547799,
     "end_time": "2022-02-19T20:21:25.754895",
     "exception": false,
     "start_time": "2022-02-19T20:21:19.207096",
     "status": "completed"
    },
    "tags": []
   },
   "outputs": [
    {
     "data": {
      "text/html": [
       "<div>\n",
       "<style scoped>\n",
       "    .dataframe tbody tr th:only-of-type {\n",
       "        vertical-align: middle;\n",
       "    }\n",
       "\n",
       "    .dataframe tbody tr th {\n",
       "        vertical-align: top;\n",
       "    }\n",
       "\n",
       "    .dataframe thead th {\n",
       "        text-align: right;\n",
       "    }\n",
       "</style>\n",
       "<table border=\"1\" class=\"dataframe\">\n",
       "  <thead>\n",
       "    <tr style=\"text-align: right;\">\n",
       "      <th></th>\n",
       "      <th>user_id</th>\n",
       "      <th>actual</th>\n",
       "      <th>random_recommendation</th>\n",
       "      <th>popular_recommendation</th>\n",
       "      <th>itemitem</th>\n",
       "      <th>cosine</th>\n",
       "      <th>tfidf</th>\n",
       "      <th>own_purchases</th>\n",
       "      <th>weighted_random_recommendation</th>\n",
       "    </tr>\n",
       "  </thead>\n",
       "  <tbody>\n",
       "    <tr>\n",
       "      <th>0</th>\n",
       "      <td>1</td>\n",
       "      <td>[821867, 834484, 856942, 865456, 889248, 90795...</td>\n",
       "      <td>[1120297, 12672919, 865377, 14074566, 1073212]</td>\n",
       "      <td>[6534178, 6533889, 1029743, 6534166, 1082185]</td>\n",
       "      <td>[999999, 1082185, 981760, 1127831, 995242]</td>\n",
       "      <td>[1082185, 999999, 981760, 1127831, 1098066]</td>\n",
       "      <td>[1082185, 981760, 1127831, 999999, 1098066]</td>\n",
       "      <td>[1082185, 1029743, 995785, 1004906, 1081177]</td>\n",
       "      <td>[1075368, 909972, 1054262, 916381, 1124081]</td>\n",
       "    </tr>\n",
       "    <tr>\n",
       "      <th>1</th>\n",
       "      <td>3</td>\n",
       "      <td>[835476, 851057, 872021, 878302, 879948, 90963...</td>\n",
       "      <td>[12985723, 13511470, 976405, 6920289, 953154]</td>\n",
       "      <td>[6534178, 6533889, 1029743, 6534166, 1082185]</td>\n",
       "      <td>[999999, 1082185, 981760, 1098066, 995242]</td>\n",
       "      <td>[1082185, 1098066, 981760, 999999, 826249]</td>\n",
       "      <td>[1082185, 981760, 1098066, 826249, 999999]</td>\n",
       "      <td>[1082185, 1098066, 6534178, 1127831, 1068719]</td>\n",
       "      <td>[872137, 1045288, 1040807, 5584007, 1030819]</td>\n",
       "    </tr>\n",
       "  </tbody>\n",
       "</table>\n",
       "</div>"
      ],
      "text/plain": [
       "   user_id                                             actual  \\\n",
       "0        1  [821867, 834484, 856942, 865456, 889248, 90795...   \n",
       "1        3  [835476, 851057, 872021, 878302, 879948, 90963...   \n",
       "\n",
       "                            random_recommendation  \\\n",
       "0  [1120297, 12672919, 865377, 14074566, 1073212]   \n",
       "1   [12985723, 13511470, 976405, 6920289, 953154]   \n",
       "\n",
       "                          popular_recommendation  \\\n",
       "0  [6534178, 6533889, 1029743, 6534166, 1082185]   \n",
       "1  [6534178, 6533889, 1029743, 6534166, 1082185]   \n",
       "\n",
       "                                     itemitem  \\\n",
       "0  [999999, 1082185, 981760, 1127831, 995242]   \n",
       "1  [999999, 1082185, 981760, 1098066, 995242]   \n",
       "\n",
       "                                        cosine  \\\n",
       "0  [1082185, 999999, 981760, 1127831, 1098066]   \n",
       "1   [1082185, 1098066, 981760, 999999, 826249]   \n",
       "\n",
       "                                         tfidf  \\\n",
       "0  [1082185, 981760, 1127831, 999999, 1098066]   \n",
       "1   [1082185, 981760, 1098066, 826249, 999999]   \n",
       "\n",
       "                                   own_purchases  \\\n",
       "0   [1082185, 1029743, 995785, 1004906, 1081177]   \n",
       "1  [1082185, 1098066, 6534178, 1127831, 1068719]   \n",
       "\n",
       "                 weighted_random_recommendation  \n",
       "0   [1075368, 909972, 1054262, 916381, 1124081]  \n",
       "1  [872137, 1045288, 1040807, 5584007, 1030819]  "
      ]
     },
     "execution_count": 9,
     "metadata": {},
     "output_type": "execute_result"
    }
   ],
   "source": [
    "str_to_array(result).head(2)"
   ]
  },
  {
   "cell_type": "code",
   "execution_count": 10,
   "id": "2626b48c",
   "metadata": {
    "execution": {
     "iopub.execute_input": "2022-02-19T20:21:25.825099Z",
     "iopub.status.busy": "2022-02-19T20:21:25.824320Z",
     "iopub.status.idle": "2022-02-19T20:21:26.942902Z",
     "shell.execute_reply": "2022-02-19T20:21:26.943459Z",
     "shell.execute_reply.started": "2022-02-19T20:17:57.377414Z"
    },
    "papermill": {
     "duration": 1.157043,
     "end_time": "2022-02-19T20:21:26.943640",
     "exception": false,
     "start_time": "2022-02-19T20:21:25.786597",
     "status": "completed"
    },
    "tags": []
   },
   "outputs": [
    {
     "name": "stdout",
     "output_type": "stream",
     "text": [
      "1.0:  actual\n",
      "0.0008:  random_recommendation\n",
      "0.1552:  popular_recommendation\n",
      "0.1369:  itemitem\n",
      "0.1329:  cosine\n",
      "0.139:  tfidf\n",
      "0.2019:  own_purchases\n",
      "0.0214:  weighted_random_recommendation\n"
     ]
    }
   ],
   "source": [
    "for name_col in result.columns[1:]:\n",
    "    print(f\"{round(result.apply(lambda row: precision_at_k(row[name_col], row['actual']), axis=1).mean(),4)}:  {name_col}\")"
   ]
  },
  {
   "cell_type": "markdown",
   "id": "0135c9e6",
   "metadata": {
    "papermill": {
     "duration": 0.034116,
     "end_time": "2022-02-19T20:21:27.012531",
     "exception": false,
     "start_time": "2022-02-19T20:21:26.978415",
     "status": "completed"
    },
    "tags": []
   },
   "source": [
    "### **Задание 3*. Улучшение бейзлайнов и ItemItem**\n",
    "\n",
    "- Попробуйте улучшить бейзлайны, считая их на топ-5000 товаров\n",
    "- Попробуйте улучшить разные варианты ItemItemRecommender, выбирая число соседей $K$."
   ]
  },
  {
   "cell_type": "code",
   "execution_count": 11,
   "id": "e7f0c5e9",
   "metadata": {
    "execution": {
     "iopub.execute_input": "2022-02-19T20:21:27.084507Z",
     "iopub.status.busy": "2022-02-19T20:21:27.083739Z",
     "iopub.status.idle": "2022-02-19T20:21:27.086434Z",
     "shell.execute_reply": "2022-02-19T20:21:27.085760Z",
     "shell.execute_reply.started": "2022-02-19T20:17:58.581257Z"
    },
    "papermill": {
     "duration": 0.041282,
     "end_time": "2022-02-19T20:21:27.086583",
     "exception": false,
     "start_time": "2022-02-19T20:21:27.045301",
     "status": "completed"
    },
    "tags": []
   },
   "outputs": [],
   "source": [
    "def random_recommendation(items, n=5):\n",
    "    \"\"\"Случайные рекоммендации\"\"\"\n",
    "    \n",
    "    items = np.array(items)\n",
    "    recs = np.random.choice(items, size=n, replace=False)\n",
    "    \n",
    "    return recs.tolist()"
   ]
  },
  {
   "cell_type": "code",
   "execution_count": 12,
   "id": "da32de30",
   "metadata": {
    "execution": {
     "iopub.execute_input": "2022-02-19T20:21:27.158636Z",
     "iopub.status.busy": "2022-02-19T20:21:27.157960Z",
     "iopub.status.idle": "2022-02-19T20:21:27.161657Z",
     "shell.execute_reply": "2022-02-19T20:21:27.161009Z",
     "shell.execute_reply.started": "2022-02-19T20:17:58.588036Z"
    },
    "papermill": {
     "duration": 0.042497,
     "end_time": "2022-02-19T20:21:27.161825",
     "exception": false,
     "start_time": "2022-02-19T20:21:27.119328",
     "status": "completed"
    },
    "tags": []
   },
   "outputs": [],
   "source": [
    "def popularity_recommendation(data, n=5):\n",
    "    \"\"\"Топ-n популярных товаров\"\"\"\n",
    "    \n",
    "    popular = data.groupby('item_id')['sales_value'].sum().reset_index()\n",
    "    popular.sort_values('sales_value', ascending=False, inplace=True)\n",
    "    \n",
    "    recs = popular.head(n).item_id\n",
    "    \n",
    "    return recs.tolist()"
   ]
  },
  {
   "cell_type": "code",
   "execution_count": 13,
   "id": "cfc7da90",
   "metadata": {
    "execution": {
     "iopub.execute_input": "2022-02-19T20:21:27.235818Z",
     "iopub.status.busy": "2022-02-19T20:21:27.235134Z",
     "iopub.status.idle": "2022-02-19T20:21:27.387633Z",
     "shell.execute_reply": "2022-02-19T20:21:27.387034Z",
     "shell.execute_reply.started": "2022-02-19T20:17:58.602554Z"
    },
    "papermill": {
     "duration": 0.191607,
     "end_time": "2022-02-19T20:21:27.387827",
     "exception": false,
     "start_time": "2022-02-19T20:21:27.196220",
     "status": "completed"
    },
    "tags": []
   },
   "outputs": [],
   "source": [
    "# отберем топ-5000\n",
    "quant_sum = data_train.groupby('item_id')['quantity'].sum().reset_index()\n",
    "quant_sum.sort_values(by='quantity', ascending=False, inplace=True)\n",
    "top_5000 = quant_sum.head(5000)"
   ]
  },
  {
   "cell_type": "code",
   "execution_count": 14,
   "id": "a0ff6626",
   "metadata": {
    "execution": {
     "iopub.execute_input": "2022-02-19T20:21:27.462112Z",
     "iopub.status.busy": "2022-02-19T20:21:27.461376Z",
     "iopub.status.idle": "2022-02-19T20:21:27.747876Z",
     "shell.execute_reply": "2022-02-19T20:21:27.747305Z",
     "shell.execute_reply.started": "2022-02-19T20:17:58.743071Z"
    },
    "papermill": {
     "duration": 0.326905,
     "end_time": "2022-02-19T20:21:27.748018",
     "exception": false,
     "start_time": "2022-02-19T20:21:27.421113",
     "status": "completed"
    },
    "tags": []
   },
   "outputs": [
    {
     "name": "stdout",
     "output_type": "stream",
     "text": [
      "CPU times: user 266 ms, sys: 851 µs, total: 267 ms\n",
      "Wall time: 266 ms\n"
     ]
    },
    {
     "data": {
      "text/html": [
       "<div>\n",
       "<style scoped>\n",
       "    .dataframe tbody tr th:only-of-type {\n",
       "        vertical-align: middle;\n",
       "    }\n",
       "\n",
       "    .dataframe tbody tr th {\n",
       "        vertical-align: top;\n",
       "    }\n",
       "\n",
       "    .dataframe thead th {\n",
       "        text-align: right;\n",
       "    }\n",
       "</style>\n",
       "<table border=\"1\" class=\"dataframe\">\n",
       "  <thead>\n",
       "    <tr style=\"text-align: right;\">\n",
       "      <th></th>\n",
       "      <th>user_id</th>\n",
       "      <th>actual</th>\n",
       "      <th>random_recommendation</th>\n",
       "      <th>popular_recommendation</th>\n",
       "      <th>itemitem</th>\n",
       "      <th>cosine</th>\n",
       "      <th>tfidf</th>\n",
       "      <th>own_purchases</th>\n",
       "      <th>weighted_random_recommendation</th>\n",
       "      <th>random_recommendation_5000</th>\n",
       "    </tr>\n",
       "  </thead>\n",
       "  <tbody>\n",
       "    <tr>\n",
       "      <th>0</th>\n",
       "      <td>1</td>\n",
       "      <td>[821867, 834484, 856942, 865456, 889248, 90795...</td>\n",
       "      <td>[1120297, 12672919, 865377, 14074566, 1073212]</td>\n",
       "      <td>[6534178, 6533889, 1029743, 6534166, 1082185]</td>\n",
       "      <td>[999999, 1082185, 981760, 1127831, 995242]</td>\n",
       "      <td>[1082185, 999999, 981760, 1127831, 1098066]</td>\n",
       "      <td>[1082185, 981760, 1127831, 999999, 1098066]</td>\n",
       "      <td>[1082185, 1029743, 995785, 1004906, 1081177]</td>\n",
       "      <td>[1075368, 909972, 1054262, 916381, 1124081]</td>\n",
       "      <td>[1138443, 1124077, 1096643, 9368132, 5565352]</td>\n",
       "    </tr>\n",
       "    <tr>\n",
       "      <th>1</th>\n",
       "      <td>3</td>\n",
       "      <td>[835476, 851057, 872021, 878302, 879948, 90963...</td>\n",
       "      <td>[12985723, 13511470, 976405, 6920289, 953154]</td>\n",
       "      <td>[6534178, 6533889, 1029743, 6534166, 1082185]</td>\n",
       "      <td>[999999, 1082185, 981760, 1098066, 995242]</td>\n",
       "      <td>[1082185, 1098066, 981760, 999999, 826249]</td>\n",
       "      <td>[1082185, 981760, 1098066, 826249, 999999]</td>\n",
       "      <td>[1082185, 1098066, 6534178, 1127831, 1068719]</td>\n",
       "      <td>[872137, 1045288, 1040807, 5584007, 1030819]</td>\n",
       "      <td>[1033142, 9526666, 996444, 12731641, 912681]</td>\n",
       "    </tr>\n",
       "  </tbody>\n",
       "</table>\n",
       "</div>"
      ],
      "text/plain": [
       "   user_id                                             actual  \\\n",
       "0        1  [821867, 834484, 856942, 865456, 889248, 90795...   \n",
       "1        3  [835476, 851057, 872021, 878302, 879948, 90963...   \n",
       "\n",
       "                            random_recommendation  \\\n",
       "0  [1120297, 12672919, 865377, 14074566, 1073212]   \n",
       "1   [12985723, 13511470, 976405, 6920289, 953154]   \n",
       "\n",
       "                          popular_recommendation  \\\n",
       "0  [6534178, 6533889, 1029743, 6534166, 1082185]   \n",
       "1  [6534178, 6533889, 1029743, 6534166, 1082185]   \n",
       "\n",
       "                                     itemitem  \\\n",
       "0  [999999, 1082185, 981760, 1127831, 995242]   \n",
       "1  [999999, 1082185, 981760, 1098066, 995242]   \n",
       "\n",
       "                                        cosine  \\\n",
       "0  [1082185, 999999, 981760, 1127831, 1098066]   \n",
       "1   [1082185, 1098066, 981760, 999999, 826249]   \n",
       "\n",
       "                                         tfidf  \\\n",
       "0  [1082185, 981760, 1127831, 999999, 1098066]   \n",
       "1   [1082185, 981760, 1098066, 826249, 999999]   \n",
       "\n",
       "                                   own_purchases  \\\n",
       "0   [1082185, 1029743, 995785, 1004906, 1081177]   \n",
       "1  [1082185, 1098066, 6534178, 1127831, 1068719]   \n",
       "\n",
       "                 weighted_random_recommendation  \\\n",
       "0   [1075368, 909972, 1054262, 916381, 1124081]   \n",
       "1  [872137, 1045288, 1040807, 5584007, 1030819]   \n",
       "\n",
       "                      random_recommendation_5000  \n",
       "0  [1138443, 1124077, 1096643, 9368132, 5565352]  \n",
       "1   [1033142, 9526666, 996444, 12731641, 912681]  "
      ]
     },
     "execution_count": 14,
     "metadata": {},
     "output_type": "execute_result"
    }
   ],
   "source": [
    "%%time\n",
    "\n",
    "result['random_recommendation_5000'] = result['user_id'].apply(lambda x: random_recommendation(top_5000['item_id'], n=5))\n",
    "result.head(2)"
   ]
  },
  {
   "cell_type": "code",
   "execution_count": 15,
   "id": "a1cae6f1",
   "metadata": {
    "execution": {
     "iopub.execute_input": "2022-02-19T20:21:27.819177Z",
     "iopub.status.busy": "2022-02-19T20:21:27.818463Z",
     "iopub.status.idle": "2022-02-19T20:22:38.106281Z",
     "shell.execute_reply": "2022-02-19T20:22:38.105692Z",
     "shell.execute_reply.started": "2022-02-19T20:17:59.053132Z"
    },
    "papermill": {
     "duration": 70.324585,
     "end_time": "2022-02-19T20:22:38.106431",
     "exception": false,
     "start_time": "2022-02-19T20:21:27.781846",
     "status": "completed"
    },
    "tags": []
   },
   "outputs": [
    {
     "name": "stdout",
     "output_type": "stream",
     "text": [
      "CPU times: user 1min 10s, sys: 95.9 ms, total: 1min 10s\n",
      "Wall time: 1min 10s\n"
     ]
    },
    {
     "data": {
      "text/html": [
       "<div>\n",
       "<style scoped>\n",
       "    .dataframe tbody tr th:only-of-type {\n",
       "        vertical-align: middle;\n",
       "    }\n",
       "\n",
       "    .dataframe tbody tr th {\n",
       "        vertical-align: top;\n",
       "    }\n",
       "\n",
       "    .dataframe thead th {\n",
       "        text-align: right;\n",
       "    }\n",
       "</style>\n",
       "<table border=\"1\" class=\"dataframe\">\n",
       "  <thead>\n",
       "    <tr style=\"text-align: right;\">\n",
       "      <th></th>\n",
       "      <th>user_id</th>\n",
       "      <th>actual</th>\n",
       "      <th>random_recommendation</th>\n",
       "      <th>popular_recommendation</th>\n",
       "      <th>itemitem</th>\n",
       "      <th>cosine</th>\n",
       "      <th>tfidf</th>\n",
       "      <th>own_purchases</th>\n",
       "      <th>weighted_random_recommendation</th>\n",
       "      <th>random_recommendation_5000</th>\n",
       "      <th>popular_recommendation_5000</th>\n",
       "    </tr>\n",
       "  </thead>\n",
       "  <tbody>\n",
       "    <tr>\n",
       "      <th>0</th>\n",
       "      <td>1</td>\n",
       "      <td>[821867, 834484, 856942, 865456, 889248, 90795...</td>\n",
       "      <td>[1120297, 12672919, 865377, 14074566, 1073212]</td>\n",
       "      <td>[6534178, 6533889, 1029743, 6534166, 1082185]</td>\n",
       "      <td>[999999, 1082185, 981760, 1127831, 995242]</td>\n",
       "      <td>[1082185, 999999, 981760, 1127831, 1098066]</td>\n",
       "      <td>[1082185, 981760, 1127831, 999999, 1098066]</td>\n",
       "      <td>[1082185, 1029743, 995785, 1004906, 1081177]</td>\n",
       "      <td>[1075368, 909972, 1054262, 916381, 1124081]</td>\n",
       "      <td>[1138443, 1124077, 1096643, 9368132, 5565352]</td>\n",
       "      <td>[6534178, 6533889, 1029743, 6534166, 1082185]</td>\n",
       "    </tr>\n",
       "    <tr>\n",
       "      <th>1</th>\n",
       "      <td>3</td>\n",
       "      <td>[835476, 851057, 872021, 878302, 879948, 90963...</td>\n",
       "      <td>[12985723, 13511470, 976405, 6920289, 953154]</td>\n",
       "      <td>[6534178, 6533889, 1029743, 6534166, 1082185]</td>\n",
       "      <td>[999999, 1082185, 981760, 1098066, 995242]</td>\n",
       "      <td>[1082185, 1098066, 981760, 999999, 826249]</td>\n",
       "      <td>[1082185, 981760, 1098066, 826249, 999999]</td>\n",
       "      <td>[1082185, 1098066, 6534178, 1127831, 1068719]</td>\n",
       "      <td>[872137, 1045288, 1040807, 5584007, 1030819]</td>\n",
       "      <td>[1033142, 9526666, 996444, 12731641, 912681]</td>\n",
       "      <td>[6534178, 6533889, 1029743, 6534166, 1082185]</td>\n",
       "    </tr>\n",
       "  </tbody>\n",
       "</table>\n",
       "</div>"
      ],
      "text/plain": [
       "   user_id                                             actual  \\\n",
       "0        1  [821867, 834484, 856942, 865456, 889248, 90795...   \n",
       "1        3  [835476, 851057, 872021, 878302, 879948, 90963...   \n",
       "\n",
       "                            random_recommendation  \\\n",
       "0  [1120297, 12672919, 865377, 14074566, 1073212]   \n",
       "1   [12985723, 13511470, 976405, 6920289, 953154]   \n",
       "\n",
       "                          popular_recommendation  \\\n",
       "0  [6534178, 6533889, 1029743, 6534166, 1082185]   \n",
       "1  [6534178, 6533889, 1029743, 6534166, 1082185]   \n",
       "\n",
       "                                     itemitem  \\\n",
       "0  [999999, 1082185, 981760, 1127831, 995242]   \n",
       "1  [999999, 1082185, 981760, 1098066, 995242]   \n",
       "\n",
       "                                        cosine  \\\n",
       "0  [1082185, 999999, 981760, 1127831, 1098066]   \n",
       "1   [1082185, 1098066, 981760, 999999, 826249]   \n",
       "\n",
       "                                         tfidf  \\\n",
       "0  [1082185, 981760, 1127831, 999999, 1098066]   \n",
       "1   [1082185, 981760, 1098066, 826249, 999999]   \n",
       "\n",
       "                                   own_purchases  \\\n",
       "0   [1082185, 1029743, 995785, 1004906, 1081177]   \n",
       "1  [1082185, 1098066, 6534178, 1127831, 1068719]   \n",
       "\n",
       "                 weighted_random_recommendation  \\\n",
       "0   [1075368, 909972, 1054262, 916381, 1124081]   \n",
       "1  [872137, 1045288, 1040807, 5584007, 1030819]   \n",
       "\n",
       "                      random_recommendation_5000  \\\n",
       "0  [1138443, 1124077, 1096643, 9368132, 5565352]   \n",
       "1   [1033142, 9526666, 996444, 12731641, 912681]   \n",
       "\n",
       "                     popular_recommendation_5000  \n",
       "0  [6534178, 6533889, 1029743, 6534166, 1082185]  \n",
       "1  [6534178, 6533889, 1029743, 6534166, 1082185]  "
      ]
     },
     "execution_count": 15,
     "metadata": {},
     "output_type": "execute_result"
    }
   ],
   "source": [
    "%%time\n",
    "\n",
    "data_train_top5000 = data_train.loc[data_train['item_id'].isin(top_5000['item_id']), :]\n",
    "result['popular_recommendation_5000'] = result['user_id'].apply(lambda x: popularity_recommendation(data_train_top5000, n=5))\n",
    "result.head(2)"
   ]
  },
  {
   "cell_type": "code",
   "execution_count": 16,
   "id": "e857a4c4",
   "metadata": {
    "execution": {
     "iopub.execute_input": "2022-02-19T20:22:38.182167Z",
     "iopub.status.busy": "2022-02-19T20:22:38.181387Z",
     "iopub.status.idle": "2022-02-19T20:22:38.193378Z",
     "shell.execute_reply": "2022-02-19T20:22:38.193862Z",
     "shell.execute_reply.started": "2022-02-19T20:19:07.571067Z"
    },
    "papermill": {
     "duration": 0.052891,
     "end_time": "2022-02-19T20:22:38.194046",
     "exception": false,
     "start_time": "2022-02-19T20:22:38.141155",
     "status": "completed"
    },
    "tags": []
   },
   "outputs": [
    {
     "data": {
      "text/html": [
       "<div>\n",
       "<style scoped>\n",
       "    .dataframe tbody tr th:only-of-type {\n",
       "        vertical-align: middle;\n",
       "    }\n",
       "\n",
       "    .dataframe tbody tr th {\n",
       "        vertical-align: top;\n",
       "    }\n",
       "\n",
       "    .dataframe thead th {\n",
       "        text-align: right;\n",
       "    }\n",
       "</style>\n",
       "<table border=\"1\" class=\"dataframe\">\n",
       "  <thead>\n",
       "    <tr style=\"text-align: right;\">\n",
       "      <th></th>\n",
       "      <th>user_id</th>\n",
       "      <th>basket_id</th>\n",
       "      <th>day</th>\n",
       "      <th>item_id</th>\n",
       "      <th>quantity</th>\n",
       "      <th>sales_value</th>\n",
       "      <th>store_id</th>\n",
       "      <th>retail_disc</th>\n",
       "      <th>trans_time</th>\n",
       "      <th>week_no</th>\n",
       "      <th>coupon_disc</th>\n",
       "      <th>coupon_match_disc</th>\n",
       "    </tr>\n",
       "  </thead>\n",
       "  <tbody>\n",
       "    <tr>\n",
       "      <th>0</th>\n",
       "      <td>2375</td>\n",
       "      <td>26984851472</td>\n",
       "      <td>1</td>\n",
       "      <td>1004906</td>\n",
       "      <td>1</td>\n",
       "      <td>1.39</td>\n",
       "      <td>364</td>\n",
       "      <td>-0.6</td>\n",
       "      <td>1631</td>\n",
       "      <td>1</td>\n",
       "      <td>0.0</td>\n",
       "      <td>0.0</td>\n",
       "    </tr>\n",
       "    <tr>\n",
       "      <th>1</th>\n",
       "      <td>2375</td>\n",
       "      <td>26984851472</td>\n",
       "      <td>1</td>\n",
       "      <td>1033142</td>\n",
       "      <td>1</td>\n",
       "      <td>0.82</td>\n",
       "      <td>364</td>\n",
       "      <td>0.0</td>\n",
       "      <td>1631</td>\n",
       "      <td>1</td>\n",
       "      <td>0.0</td>\n",
       "      <td>0.0</td>\n",
       "    </tr>\n",
       "  </tbody>\n",
       "</table>\n",
       "</div>"
      ],
      "text/plain": [
       "   user_id    basket_id  day  item_id  quantity  sales_value  store_id  \\\n",
       "0     2375  26984851472    1  1004906         1         1.39       364   \n",
       "1     2375  26984851472    1  1033142         1         0.82       364   \n",
       "\n",
       "   retail_disc  trans_time  week_no  coupon_disc  coupon_match_disc  \n",
       "0         -0.6        1631        1          0.0                0.0  \n",
       "1          0.0        1631        1          0.0                0.0  "
      ]
     },
     "execution_count": 16,
     "metadata": {},
     "output_type": "execute_result"
    }
   ],
   "source": [
    "data_train_top5000.head(2)"
   ]
  },
  {
   "cell_type": "code",
   "execution_count": 17,
   "id": "d1756e3c",
   "metadata": {
    "execution": {
     "iopub.execute_input": "2022-02-19T20:22:38.277620Z",
     "iopub.status.busy": "2022-02-19T20:22:38.276403Z",
     "iopub.status.idle": "2022-02-19T20:22:38.319968Z",
     "shell.execute_reply": "2022-02-19T20:22:38.320466Z",
     "shell.execute_reply.started": "2022-02-19T20:19:07.588781Z"
    },
    "papermill": {
     "duration": 0.087782,
     "end_time": "2022-02-19T20:22:38.320676",
     "exception": false,
     "start_time": "2022-02-19T20:22:38.232894",
     "status": "completed"
    },
    "tags": []
   },
   "outputs": [
    {
     "data": {
      "text/html": [
       "<div>\n",
       "<style scoped>\n",
       "    .dataframe tbody tr th:only-of-type {\n",
       "        vertical-align: middle;\n",
       "    }\n",
       "\n",
       "    .dataframe tbody tr th {\n",
       "        vertical-align: top;\n",
       "    }\n",
       "\n",
       "    .dataframe thead th {\n",
       "        text-align: right;\n",
       "    }\n",
       "</style>\n",
       "<table border=\"1\" class=\"dataframe\">\n",
       "  <thead>\n",
       "    <tr style=\"text-align: right;\">\n",
       "      <th></th>\n",
       "      <th>item_id</th>\n",
       "      <th>sales_value</th>\n",
       "      <th>weight</th>\n",
       "    </tr>\n",
       "  </thead>\n",
       "  <tbody>\n",
       "    <tr>\n",
       "      <th>0</th>\n",
       "      <td>202291</td>\n",
       "      <td>81.59</td>\n",
       "      <td>0.000020</td>\n",
       "    </tr>\n",
       "    <tr>\n",
       "      <th>1</th>\n",
       "      <td>397896</td>\n",
       "      <td>2862.41</td>\n",
       "      <td>0.000706</td>\n",
       "    </tr>\n",
       "  </tbody>\n",
       "</table>\n",
       "</div>"
      ],
      "text/plain": [
       "   item_id  sales_value    weight\n",
       "0   202291        81.59  0.000020\n",
       "1   397896      2862.41  0.000706"
      ]
     },
     "execution_count": 17,
     "metadata": {},
     "output_type": "execute_result"
    }
   ],
   "source": [
    "popularity_5000 = data_train_top5000.groupby('item_id')['sales_value'].sum().reset_index()\n",
    "popularity_5000['weight'] = popularity_5000['sales_value'] / popularity_5000['sales_value'].sum()\n",
    "popularity_5000.head(2)"
   ]
  },
  {
   "cell_type": "code",
   "execution_count": 18,
   "id": "47aec600",
   "metadata": {
    "execution": {
     "iopub.execute_input": "2022-02-19T20:22:38.401231Z",
     "iopub.status.busy": "2022-02-19T20:22:38.399786Z",
     "iopub.status.idle": "2022-02-19T20:22:38.788654Z",
     "shell.execute_reply": "2022-02-19T20:22:38.788008Z",
     "shell.execute_reply.started": "2022-02-19T20:19:07.637620Z"
    },
    "papermill": {
     "duration": 0.432143,
     "end_time": "2022-02-19T20:22:38.788815",
     "exception": false,
     "start_time": "2022-02-19T20:22:38.356672",
     "status": "completed"
    },
    "tags": []
   },
   "outputs": [
    {
     "name": "stdout",
     "output_type": "stream",
     "text": [
      "CPU times: user 364 ms, sys: 999 µs, total: 365 ms\n",
      "Wall time: 365 ms\n"
     ]
    },
    {
     "data": {
      "text/html": [
       "<div>\n",
       "<style scoped>\n",
       "    .dataframe tbody tr th:only-of-type {\n",
       "        vertical-align: middle;\n",
       "    }\n",
       "\n",
       "    .dataframe tbody tr th {\n",
       "        vertical-align: top;\n",
       "    }\n",
       "\n",
       "    .dataframe thead th {\n",
       "        text-align: right;\n",
       "    }\n",
       "</style>\n",
       "<table border=\"1\" class=\"dataframe\">\n",
       "  <thead>\n",
       "    <tr style=\"text-align: right;\">\n",
       "      <th></th>\n",
       "      <th>user_id</th>\n",
       "      <th>actual</th>\n",
       "      <th>random_recommendation</th>\n",
       "      <th>popular_recommendation</th>\n",
       "      <th>itemitem</th>\n",
       "      <th>cosine</th>\n",
       "      <th>tfidf</th>\n",
       "      <th>own_purchases</th>\n",
       "      <th>weighted_random_recommendation</th>\n",
       "      <th>random_recommendation_5000</th>\n",
       "      <th>popular_recommendation_5000</th>\n",
       "      <th>weighted_random_recommendation_5000</th>\n",
       "    </tr>\n",
       "  </thead>\n",
       "  <tbody>\n",
       "    <tr>\n",
       "      <th>0</th>\n",
       "      <td>1</td>\n",
       "      <td>[821867, 834484, 856942, 865456, 889248, 90795...</td>\n",
       "      <td>[1120297, 12672919, 865377, 14074566, 1073212]</td>\n",
       "      <td>[6534178, 6533889, 1029743, 6534166, 1082185]</td>\n",
       "      <td>[999999, 1082185, 981760, 1127831, 995242]</td>\n",
       "      <td>[1082185, 999999, 981760, 1127831, 1098066]</td>\n",
       "      <td>[1082185, 981760, 1127831, 999999, 1098066]</td>\n",
       "      <td>[1082185, 1029743, 995785, 1004906, 1081177]</td>\n",
       "      <td>[1075368, 909972, 1054262, 916381, 1124081]</td>\n",
       "      <td>[1138443, 1124077, 1096643, 9368132, 5565352]</td>\n",
       "      <td>[6534178, 6533889, 1029743, 6534166, 1082185]</td>\n",
       "      <td>[991592, 6534178, 889509, 995242, 1008625]</td>\n",
       "    </tr>\n",
       "    <tr>\n",
       "      <th>1</th>\n",
       "      <td>3</td>\n",
       "      <td>[835476, 851057, 872021, 878302, 879948, 90963...</td>\n",
       "      <td>[12985723, 13511470, 976405, 6920289, 953154]</td>\n",
       "      <td>[6534178, 6533889, 1029743, 6534166, 1082185]</td>\n",
       "      <td>[999999, 1082185, 981760, 1098066, 995242]</td>\n",
       "      <td>[1082185, 1098066, 981760, 999999, 826249]</td>\n",
       "      <td>[1082185, 981760, 1098066, 826249, 999999]</td>\n",
       "      <td>[1082185, 1098066, 6534178, 1127831, 1068719]</td>\n",
       "      <td>[872137, 1045288, 1040807, 5584007, 1030819]</td>\n",
       "      <td>[1033142, 9526666, 996444, 12731641, 912681]</td>\n",
       "      <td>[6534178, 6533889, 1029743, 6534166, 1082185]</td>\n",
       "      <td>[1129610, 8090537, 879528, 885863, 825994]</td>\n",
       "    </tr>\n",
       "  </tbody>\n",
       "</table>\n",
       "</div>"
      ],
      "text/plain": [
       "   user_id                                             actual  \\\n",
       "0        1  [821867, 834484, 856942, 865456, 889248, 90795...   \n",
       "1        3  [835476, 851057, 872021, 878302, 879948, 90963...   \n",
       "\n",
       "                            random_recommendation  \\\n",
       "0  [1120297, 12672919, 865377, 14074566, 1073212]   \n",
       "1   [12985723, 13511470, 976405, 6920289, 953154]   \n",
       "\n",
       "                          popular_recommendation  \\\n",
       "0  [6534178, 6533889, 1029743, 6534166, 1082185]   \n",
       "1  [6534178, 6533889, 1029743, 6534166, 1082185]   \n",
       "\n",
       "                                     itemitem  \\\n",
       "0  [999999, 1082185, 981760, 1127831, 995242]   \n",
       "1  [999999, 1082185, 981760, 1098066, 995242]   \n",
       "\n",
       "                                        cosine  \\\n",
       "0  [1082185, 999999, 981760, 1127831, 1098066]   \n",
       "1   [1082185, 1098066, 981760, 999999, 826249]   \n",
       "\n",
       "                                         tfidf  \\\n",
       "0  [1082185, 981760, 1127831, 999999, 1098066]   \n",
       "1   [1082185, 981760, 1098066, 826249, 999999]   \n",
       "\n",
       "                                   own_purchases  \\\n",
       "0   [1082185, 1029743, 995785, 1004906, 1081177]   \n",
       "1  [1082185, 1098066, 6534178, 1127831, 1068719]   \n",
       "\n",
       "                 weighted_random_recommendation  \\\n",
       "0   [1075368, 909972, 1054262, 916381, 1124081]   \n",
       "1  [872137, 1045288, 1040807, 5584007, 1030819]   \n",
       "\n",
       "                      random_recommendation_5000  \\\n",
       "0  [1138443, 1124077, 1096643, 9368132, 5565352]   \n",
       "1   [1033142, 9526666, 996444, 12731641, 912681]   \n",
       "\n",
       "                     popular_recommendation_5000  \\\n",
       "0  [6534178, 6533889, 1029743, 6534166, 1082185]   \n",
       "1  [6534178, 6533889, 1029743, 6534166, 1082185]   \n",
       "\n",
       "          weighted_random_recommendation_5000  \n",
       "0  [991592, 6534178, 889509, 995242, 1008625]  \n",
       "1  [1129610, 8090537, 879528, 885863, 825994]  "
      ]
     },
     "execution_count": 18,
     "metadata": {},
     "output_type": "execute_result"
    }
   ],
   "source": [
    "%%time\n",
    "\n",
    "items_weights = popularity_5000[['item_id', 'weight']]\n",
    "result['weighted_random_recommendation_5000'] = result['user_id'].apply(lambda x: weighted_random_recommendation(items_weights, n=5))\n",
    "result.head(2)"
   ]
  },
  {
   "cell_type": "code",
   "execution_count": 19,
   "id": "a5f5bb50",
   "metadata": {
    "execution": {
     "iopub.execute_input": "2022-02-19T20:22:38.913493Z",
     "iopub.status.busy": "2022-02-19T20:22:38.876912Z",
     "iopub.status.idle": "2022-02-19T20:22:40.412145Z",
     "shell.execute_reply": "2022-02-19T20:22:40.412679Z",
     "shell.execute_reply.started": "2022-02-19T20:19:08.058197Z"
    },
    "papermill": {
     "duration": 1.585524,
     "end_time": "2022-02-19T20:22:40.412908",
     "exception": false,
     "start_time": "2022-02-19T20:22:38.827384",
     "status": "completed"
    },
    "tags": []
   },
   "outputs": [
    {
     "name": "stdout",
     "output_type": "stream",
     "text": [
      "1.0:  actual\n",
      "0.0008:  random_recommendation\n",
      "0.1552:  popular_recommendation\n",
      "0.1369:  itemitem\n",
      "0.1329:  cosine\n",
      "0.139:  tfidf\n",
      "0.2019:  own_purchases\n",
      "0.0214:  weighted_random_recommendation\n",
      "0.0058:  random_recommendation_5000\n",
      "0.1552:  popular_recommendation_5000\n",
      "0.0369:  weighted_random_recommendation_5000\n"
     ]
    }
   ],
   "source": [
    "for name_col in result.columns[1:]:\n",
    "    print(f\"{round(result.apply(lambda row: precision_at_k(row[name_col], row['actual']), axis=1).mean(),4)}:  {name_col}\")"
   ]
  },
  {
   "cell_type": "code",
   "execution_count": 20,
   "id": "2583cc70",
   "metadata": {
    "execution": {
     "iopub.execute_input": "2022-02-19T20:22:40.496225Z",
     "iopub.status.busy": "2022-02-19T20:22:40.495569Z",
     "iopub.status.idle": "2022-02-19T20:22:40.508103Z",
     "shell.execute_reply": "2022-02-19T20:22:40.507527Z",
     "shell.execute_reply.started": "2022-02-19T20:19:09.660991Z"
    },
    "papermill": {
     "duration": 0.055864,
     "end_time": "2022-02-19T20:22:40.508246",
     "exception": false,
     "start_time": "2022-02-19T20:22:40.452382",
     "status": "completed"
    },
    "tags": []
   },
   "outputs": [
    {
     "data": {
      "text/html": [
       "<div>\n",
       "<style scoped>\n",
       "    .dataframe tbody tr th:only-of-type {\n",
       "        vertical-align: middle;\n",
       "    }\n",
       "\n",
       "    .dataframe tbody tr th {\n",
       "        vertical-align: top;\n",
       "    }\n",
       "\n",
       "    .dataframe thead th {\n",
       "        text-align: right;\n",
       "    }\n",
       "</style>\n",
       "<table border=\"1\" class=\"dataframe\">\n",
       "  <thead>\n",
       "    <tr style=\"text-align: right;\">\n",
       "      <th></th>\n",
       "      <th>precision_at_k</th>\n",
       "      <th>name_col</th>\n",
       "    </tr>\n",
       "  </thead>\n",
       "  <tbody>\n",
       "    <tr>\n",
       "      <th>0</th>\n",
       "      <td>0.0006</td>\n",
       "      <td>random_recommendation</td>\n",
       "    </tr>\n",
       "    <tr>\n",
       "      <th>1</th>\n",
       "      <td>0.0060</td>\n",
       "      <td>random_recommendation_5000</td>\n",
       "    </tr>\n",
       "    <tr>\n",
       "      <th>2</th>\n",
       "      <td>0.1552</td>\n",
       "      <td>popular_recommendation</td>\n",
       "    </tr>\n",
       "    <tr>\n",
       "      <th>3</th>\n",
       "      <td>0.1552</td>\n",
       "      <td>popular_recommendation_5000</td>\n",
       "    </tr>\n",
       "    <tr>\n",
       "      <th>4</th>\n",
       "      <td>0.0212</td>\n",
       "      <td>weighted_random_recommendation</td>\n",
       "    </tr>\n",
       "    <tr>\n",
       "      <th>5</th>\n",
       "      <td>0.0374</td>\n",
       "      <td>weighted_random_recommendation_5000</td>\n",
       "    </tr>\n",
       "  </tbody>\n",
       "</table>\n",
       "</div>"
      ],
      "text/plain": [
       "   precision_at_k                             name_col\n",
       "0          0.0006                random_recommendation\n",
       "1          0.0060           random_recommendation_5000\n",
       "2          0.1552               popular_recommendation\n",
       "3          0.1552          popular_recommendation_5000\n",
       "4          0.0212       weighted_random_recommendation\n",
       "5          0.0374  weighted_random_recommendation_5000"
      ]
     },
     "execution_count": 20,
     "metadata": {},
     "output_type": "execute_result"
    }
   ],
   "source": [
    "compare_table_5000 = pd.DataFrame({\n",
    "    'precision_at_k': [0.0006, 0.006, 0.1552, 0.1552, 0.0212, 0.0374],\n",
    "    'name_col': ['random_recommendation', 'random_recommendation_5000', 'popular_recommendation', 'popular_recommendation_5000', \\\n",
    "                 'weighted_random_recommendation', 'weighted_random_recommendation_5000']   \n",
    "})\n",
    "\n",
    "compare_table_5000"
   ]
  },
  {
   "cell_type": "code",
   "execution_count": 21,
   "id": "657c4339",
   "metadata": {
    "execution": {
     "iopub.execute_input": "2022-02-19T20:22:40.592650Z",
     "iopub.status.busy": "2022-02-19T20:22:40.590279Z",
     "iopub.status.idle": "2022-02-19T20:22:40.686000Z",
     "shell.execute_reply": "2022-02-19T20:22:40.685471Z",
     "shell.execute_reply.started": "2022-02-19T20:19:09.675756Z"
    },
    "papermill": {
     "duration": 0.138238,
     "end_time": "2022-02-19T20:22:40.686148",
     "exception": false,
     "start_time": "2022-02-19T20:22:40.547910",
     "status": "completed"
    },
    "tags": []
   },
   "outputs": [
    {
     "data": {
      "text/html": [
       "<div>\n",
       "<style scoped>\n",
       "    .dataframe tbody tr th:only-of-type {\n",
       "        vertical-align: middle;\n",
       "    }\n",
       "\n",
       "    .dataframe tbody tr th {\n",
       "        vertical-align: top;\n",
       "    }\n",
       "\n",
       "    .dataframe thead th {\n",
       "        text-align: right;\n",
       "    }\n",
       "</style>\n",
       "<table border=\"1\" class=\"dataframe\">\n",
       "  <thead>\n",
       "    <tr style=\"text-align: right;\">\n",
       "      <th></th>\n",
       "      <th>user_id</th>\n",
       "      <th>basket_id</th>\n",
       "      <th>day</th>\n",
       "      <th>item_id</th>\n",
       "      <th>quantity</th>\n",
       "      <th>sales_value</th>\n",
       "      <th>store_id</th>\n",
       "      <th>retail_disc</th>\n",
       "      <th>trans_time</th>\n",
       "      <th>week_no</th>\n",
       "      <th>coupon_disc</th>\n",
       "      <th>coupon_match_disc</th>\n",
       "    </tr>\n",
       "  </thead>\n",
       "  <tbody>\n",
       "    <tr>\n",
       "      <th>0</th>\n",
       "      <td>2375</td>\n",
       "      <td>26984851472</td>\n",
       "      <td>1</td>\n",
       "      <td>1004906</td>\n",
       "      <td>1</td>\n",
       "      <td>1.39</td>\n",
       "      <td>364</td>\n",
       "      <td>-0.60</td>\n",
       "      <td>1631</td>\n",
       "      <td>1</td>\n",
       "      <td>0.0</td>\n",
       "      <td>0.0</td>\n",
       "    </tr>\n",
       "    <tr>\n",
       "      <th>1</th>\n",
       "      <td>2375</td>\n",
       "      <td>26984851472</td>\n",
       "      <td>1</td>\n",
       "      <td>1033142</td>\n",
       "      <td>1</td>\n",
       "      <td>0.82</td>\n",
       "      <td>364</td>\n",
       "      <td>0.00</td>\n",
       "      <td>1631</td>\n",
       "      <td>1</td>\n",
       "      <td>0.0</td>\n",
       "      <td>0.0</td>\n",
       "    </tr>\n",
       "    <tr>\n",
       "      <th>2</th>\n",
       "      <td>2375</td>\n",
       "      <td>26984851472</td>\n",
       "      <td>1</td>\n",
       "      <td>1036325</td>\n",
       "      <td>1</td>\n",
       "      <td>0.99</td>\n",
       "      <td>364</td>\n",
       "      <td>-0.30</td>\n",
       "      <td>1631</td>\n",
       "      <td>1</td>\n",
       "      <td>0.0</td>\n",
       "      <td>0.0</td>\n",
       "    </tr>\n",
       "    <tr>\n",
       "      <th>3</th>\n",
       "      <td>2375</td>\n",
       "      <td>26984851472</td>\n",
       "      <td>1</td>\n",
       "      <td>1082185</td>\n",
       "      <td>1</td>\n",
       "      <td>1.21</td>\n",
       "      <td>364</td>\n",
       "      <td>0.00</td>\n",
       "      <td>1631</td>\n",
       "      <td>1</td>\n",
       "      <td>0.0</td>\n",
       "      <td>0.0</td>\n",
       "    </tr>\n",
       "    <tr>\n",
       "      <th>4</th>\n",
       "      <td>2375</td>\n",
       "      <td>26984851472</td>\n",
       "      <td>1</td>\n",
       "      <td>8160430</td>\n",
       "      <td>1</td>\n",
       "      <td>1.50</td>\n",
       "      <td>364</td>\n",
       "      <td>-0.39</td>\n",
       "      <td>1631</td>\n",
       "      <td>1</td>\n",
       "      <td>0.0</td>\n",
       "      <td>0.0</td>\n",
       "    </tr>\n",
       "    <tr>\n",
       "      <th>...</th>\n",
       "      <td>...</td>\n",
       "      <td>...</td>\n",
       "      <td>...</td>\n",
       "      <td>...</td>\n",
       "      <td>...</td>\n",
       "      <td>...</td>\n",
       "      <td>...</td>\n",
       "      <td>...</td>\n",
       "      <td>...</td>\n",
       "      <td>...</td>\n",
       "      <td>...</td>\n",
       "      <td>...</td>\n",
       "    </tr>\n",
       "    <tr>\n",
       "      <th>95</th>\n",
       "      <td>1060</td>\n",
       "      <td>26985040735</td>\n",
       "      <td>1</td>\n",
       "      <td>9553288</td>\n",
       "      <td>1</td>\n",
       "      <td>8.49</td>\n",
       "      <td>315</td>\n",
       "      <td>0.00</td>\n",
       "      <td>1251</td>\n",
       "      <td>1</td>\n",
       "      <td>0.0</td>\n",
       "      <td>0.0</td>\n",
       "    </tr>\n",
       "    <tr>\n",
       "      <th>96</th>\n",
       "      <td>1351</td>\n",
       "      <td>26985052379</td>\n",
       "      <td>1</td>\n",
       "      <td>903230</td>\n",
       "      <td>1</td>\n",
       "      <td>0.99</td>\n",
       "      <td>447</td>\n",
       "      <td>-0.30</td>\n",
       "      <td>1955</td>\n",
       "      <td>1</td>\n",
       "      <td>0.0</td>\n",
       "      <td>0.0</td>\n",
       "    </tr>\n",
       "    <tr>\n",
       "      <th>97</th>\n",
       "      <td>744</td>\n",
       "      <td>26985165432</td>\n",
       "      <td>1</td>\n",
       "      <td>999999</td>\n",
       "      <td>0</td>\n",
       "      <td>0.00</td>\n",
       "      <td>31582</td>\n",
       "      <td>0.00</td>\n",
       "      <td>1119</td>\n",
       "      <td>1</td>\n",
       "      <td>0.0</td>\n",
       "      <td>0.0</td>\n",
       "    </tr>\n",
       "    <tr>\n",
       "      <th>98</th>\n",
       "      <td>212</td>\n",
       "      <td>26985205886</td>\n",
       "      <td>1</td>\n",
       "      <td>822346</td>\n",
       "      <td>1</td>\n",
       "      <td>1.25</td>\n",
       "      <td>288</td>\n",
       "      <td>-0.34</td>\n",
       "      <td>1341</td>\n",
       "      <td>1</td>\n",
       "      <td>0.0</td>\n",
       "      <td>0.0</td>\n",
       "    </tr>\n",
       "    <tr>\n",
       "      <th>99</th>\n",
       "      <td>212</td>\n",
       "      <td>26985205886</td>\n",
       "      <td>1</td>\n",
       "      <td>830887</td>\n",
       "      <td>1</td>\n",
       "      <td>2.29</td>\n",
       "      <td>288</td>\n",
       "      <td>-0.70</td>\n",
       "      <td>1341</td>\n",
       "      <td>1</td>\n",
       "      <td>0.0</td>\n",
       "      <td>0.0</td>\n",
       "    </tr>\n",
       "  </tbody>\n",
       "</table>\n",
       "<p>100 rows × 12 columns</p>\n",
       "</div>"
      ],
      "text/plain": [
       "    user_id    basket_id  day  item_id  quantity  sales_value  store_id  \\\n",
       "0      2375  26984851472    1  1004906         1         1.39       364   \n",
       "1      2375  26984851472    1  1033142         1         0.82       364   \n",
       "2      2375  26984851472    1  1036325         1         0.99       364   \n",
       "3      2375  26984851472    1  1082185         1         1.21       364   \n",
       "4      2375  26984851472    1  8160430         1         1.50       364   \n",
       "..      ...          ...  ...      ...       ...          ...       ...   \n",
       "95     1060  26985040735    1  9553288         1         8.49       315   \n",
       "96     1351  26985052379    1   903230         1         0.99       447   \n",
       "97      744  26985165432    1   999999         0         0.00     31582   \n",
       "98      212  26985205886    1   822346         1         1.25       288   \n",
       "99      212  26985205886    1   830887         1         2.29       288   \n",
       "\n",
       "    retail_disc  trans_time  week_no  coupon_disc  coupon_match_disc  \n",
       "0         -0.60        1631        1          0.0                0.0  \n",
       "1          0.00        1631        1          0.0                0.0  \n",
       "2         -0.30        1631        1          0.0                0.0  \n",
       "3          0.00        1631        1          0.0                0.0  \n",
       "4         -0.39        1631        1          0.0                0.0  \n",
       "..          ...         ...      ...          ...                ...  \n",
       "95         0.00        1251        1          0.0                0.0  \n",
       "96        -0.30        1955        1          0.0                0.0  \n",
       "97         0.00        1119        1          0.0                0.0  \n",
       "98        -0.34        1341        1          0.0                0.0  \n",
       "99        -0.70        1341        1          0.0                0.0  \n",
       "\n",
       "[100 rows x 12 columns]"
      ]
     },
     "execution_count": 21,
     "metadata": {},
     "output_type": "execute_result"
    }
   ],
   "source": [
    "# Заведем фиктивный item_id (если юзер покупал товары из топ-5000, то он \"купил\" такой товар)\n",
    "data_train.loc[~data_train['item_id'].isin(top_5000['item_id']), 'item_id'] = 999999\n",
    "data_train.head(100)"
   ]
  },
  {
   "cell_type": "code",
   "execution_count": 22,
   "id": "ee726d36",
   "metadata": {
    "execution": {
     "iopub.execute_input": "2022-02-19T20:22:40.800658Z",
     "iopub.status.busy": "2022-02-19T20:22:40.775453Z",
     "iopub.status.idle": "2022-02-19T20:22:44.328066Z",
     "shell.execute_reply": "2022-02-19T20:22:44.327496Z",
     "shell.execute_reply.started": "2022-02-19T20:19:09.775734Z"
    },
    "papermill": {
     "duration": 3.60152,
     "end_time": "2022-02-19T20:22:44.328221",
     "exception": false,
     "start_time": "2022-02-19T20:22:40.726701",
     "status": "completed"
    },
    "tags": []
   },
   "outputs": [],
   "source": [
    "user_item_matrix = pd.pivot_table(data_train, \n",
    "                                  index='user_id', columns='item_id', \n",
    "                                  values='quantity',\n",
    "                                  aggfunc='count', \n",
    "                                  fill_value=0\n",
    "                                 )\n",
    "\n",
    "user_item_matrix[user_item_matrix > 0] = 1 # так как в итоге хотим предсказать \n",
    "user_item_matrix = user_item_matrix.astype(float) # необходимый тип матрицы для implicit\n",
    "\n",
    "# переведем в формат sparse matrix\n",
    "sparse_user_item = csr_matrix(user_item_matrix).tocsr()\n",
    "\n",
    "\n",
    "userids = user_item_matrix.index.values\n",
    "itemids = user_item_matrix.columns.values\n",
    "\n",
    "matrix_userids = np.arange(len(userids))\n",
    "matrix_itemids = np.arange(len(itemids))\n",
    "\n",
    "id_to_itemid = dict(zip(matrix_itemids, itemids))\n",
    "id_to_userid = dict(zip(matrix_userids, userids))\n",
    "\n",
    "itemid_to_id = dict(zip(itemids, matrix_itemids))\n",
    "userid_to_id = dict(zip(userids, matrix_userids))"
   ]
  },
  {
   "cell_type": "code",
   "execution_count": 23,
   "id": "42dd700e",
   "metadata": {
    "execution": {
     "iopub.execute_input": "2022-02-19T20:22:44.418045Z",
     "iopub.status.busy": "2022-02-19T20:22:44.417028Z",
     "iopub.status.idle": "2022-02-19T20:22:47.353736Z",
     "shell.execute_reply": "2022-02-19T20:22:47.354523Z",
     "shell.execute_reply.started": "2022-02-19T20:19:13.316802Z"
    },
    "papermill": {
     "duration": 2.98614,
     "end_time": "2022-02-19T20:22:47.354778",
     "exception": false,
     "start_time": "2022-02-19T20:22:44.368638",
     "status": "completed"
    },
    "tags": []
   },
   "outputs": [
    {
     "name": "stdout",
     "output_type": "stream",
     "text": [
      "CPU times: user 4.59 s, sys: 8.79 ms, total: 4.6 s\n",
      "Wall time: 2.93 s\n"
     ]
    }
   ],
   "source": [
    "%%time\n",
    "\n",
    "k_num = [3, 5, 7]\n",
    "result_recs = []\n",
    "\n",
    "for i in k_num:\n",
    "    \n",
    "    model = ItemItemRecommender(K=i, num_threads=2) # K - кол-во билжайших соседей\n",
    "    model.fit(csr_matrix(user_item_matrix).T.tocsr(),  # На вход item-user matrix\n",
    "              show_progress=False)\n",
    "    recs = result['user_id'].apply(lambda x: [id_to_itemid[rec[0]] for rec in \n",
    "                                    model.recommend(userid=userid_to_id[x], \n",
    "                                    user_items=sparse_user_item,   # на вход user-item matrix\n",
    "                                    N=5, \n",
    "                                    filter_already_liked_items=False, \n",
    "                                    filter_items=None, \n",
    "                                    recalculate_user=True)])\n",
    "    \n",
    "    result_recs.append(recs)\n",
    "    \n",
    "    \n",
    "result['itemitem_3'] = result_recs[0]\n",
    "result['itemitem_5'] = result_recs[1]\n",
    "result['itemitem_7'] = result_recs[2]"
   ]
  },
  {
   "cell_type": "code",
   "execution_count": 24,
   "id": "bfbb0519",
   "metadata": {
    "execution": {
     "iopub.execute_input": "2022-02-19T20:22:47.448666Z",
     "iopub.status.busy": "2022-02-19T20:22:47.447493Z",
     "iopub.status.idle": "2022-02-19T20:22:49.436860Z",
     "shell.execute_reply": "2022-02-19T20:22:49.437394Z",
     "shell.execute_reply.started": "2022-02-19T20:19:16.022243Z"
    },
    "papermill": {
     "duration": 2.037726,
     "end_time": "2022-02-19T20:22:49.437588",
     "exception": false,
     "start_time": "2022-02-19T20:22:47.399862",
     "status": "completed"
    },
    "tags": []
   },
   "outputs": [
    {
     "name": "stdout",
     "output_type": "stream",
     "text": [
      "1.0:  actual\n",
      "0.0008:  random_recommendation\n",
      "0.1552:  popular_recommendation\n",
      "0.1369:  itemitem\n",
      "0.1329:  cosine\n",
      "0.139:  tfidf\n",
      "0.2019:  own_purchases\n",
      "0.0214:  weighted_random_recommendation\n",
      "0.0058:  random_recommendation_5000\n",
      "0.1552:  popular_recommendation_5000\n",
      "0.0369:  weighted_random_recommendation_5000\n",
      "0.1861:  itemitem_3\n",
      "0.1369:  itemitem_5\n",
      "0.1449:  itemitem_7\n"
     ]
    }
   ],
   "source": [
    "for name_col in result.columns[1:]:\n",
    "    print(f\"{round(result.apply(lambda row: precision_at_k(row[name_col], row['actual']), axis=1).mean(),4)}:  {name_col}\")"
   ]
  },
  {
   "cell_type": "code",
   "execution_count": 25,
   "id": "400204b7",
   "metadata": {
    "execution": {
     "iopub.execute_input": "2022-02-19T20:22:49.532558Z",
     "iopub.status.busy": "2022-02-19T20:22:49.531854Z",
     "iopub.status.idle": "2022-02-19T20:22:49.539222Z",
     "shell.execute_reply": "2022-02-19T20:22:49.538593Z",
     "shell.execute_reply.started": "2022-02-19T20:19:18.069857Z"
    },
    "papermill": {
     "duration": 0.057929,
     "end_time": "2022-02-19T20:22:49.539371",
     "exception": false,
     "start_time": "2022-02-19T20:22:49.481442",
     "status": "completed"
    },
    "tags": []
   },
   "outputs": [
    {
     "data": {
      "text/html": [
       "<div>\n",
       "<style scoped>\n",
       "    .dataframe tbody tr th:only-of-type {\n",
       "        vertical-align: middle;\n",
       "    }\n",
       "\n",
       "    .dataframe tbody tr th {\n",
       "        vertical-align: top;\n",
       "    }\n",
       "\n",
       "    .dataframe thead th {\n",
       "        text-align: right;\n",
       "    }\n",
       "</style>\n",
       "<table border=\"1\" class=\"dataframe\">\n",
       "  <thead>\n",
       "    <tr style=\"text-align: right;\">\n",
       "      <th></th>\n",
       "      <th>precision_at_k</th>\n",
       "      <th>name_col</th>\n",
       "    </tr>\n",
       "  </thead>\n",
       "  <tbody>\n",
       "    <tr>\n",
       "      <th>0</th>\n",
       "      <td>0.1369</td>\n",
       "      <td>itemitem</td>\n",
       "    </tr>\n",
       "    <tr>\n",
       "      <th>1</th>\n",
       "      <td>0.1861</td>\n",
       "      <td>itemitem_3</td>\n",
       "    </tr>\n",
       "    <tr>\n",
       "      <th>2</th>\n",
       "      <td>0.1369</td>\n",
       "      <td>itemitem_5</td>\n",
       "    </tr>\n",
       "    <tr>\n",
       "      <th>3</th>\n",
       "      <td>0.1449</td>\n",
       "      <td>itemitem_7</td>\n",
       "    </tr>\n",
       "  </tbody>\n",
       "</table>\n",
       "</div>"
      ],
      "text/plain": [
       "   precision_at_k    name_col\n",
       "0          0.1369    itemitem\n",
       "1          0.1861  itemitem_3\n",
       "2          0.1369  itemitem_5\n",
       "3          0.1449  itemitem_7"
      ]
     },
     "execution_count": 25,
     "metadata": {},
     "output_type": "execute_result"
    }
   ],
   "source": [
    "compare_table_item_k = pd.DataFrame({\n",
    "    'precision_at_k': [0.1369, 0.1861, 0.1369, 0.1449],\n",
    "    'name_col': ['itemitem', 'itemitem_3', 'itemitem_5', 'itemitem_7']   \n",
    "})\n",
    "\n",
    "compare_table_item_k"
   ]
  },
  {
   "cell_type": "code",
   "execution_count": null,
   "id": "215210e5",
   "metadata": {
    "papermill": {
     "duration": 0.043703,
     "end_time": "2022-02-19T20:22:49.628242",
     "exception": false,
     "start_time": "2022-02-19T20:22:49.584539",
     "status": "completed"
    },
    "tags": []
   },
   "outputs": [],
   "source": []
  }
 ],
 "metadata": {
  "kernelspec": {
   "display_name": "Python 3",
   "language": "python",
   "name": "python3"
  },
  "language_info": {
   "codemirror_mode": {
    "name": "ipython",
    "version": 3
   },
   "file_extension": ".py",
   "mimetype": "text/x-python",
   "name": "python",
   "nbconvert_exporter": "python",
   "pygments_lexer": "ipython3",
   "version": "3.7.12"
  },
  "papermill": {
   "default_parameters": {},
   "duration": 110.541439,
   "end_time": "2022-02-19T20:22:50.386507",
   "environment_variables": {},
   "exception": null,
   "input_path": "__notebook__.ipynb",
   "output_path": "__notebook__.ipynb",
   "parameters": {},
   "start_time": "2022-02-19T20:20:59.845068",
   "version": "2.3.3"
  }
 },
 "nbformat": 4,
 "nbformat_minor": 5
}
